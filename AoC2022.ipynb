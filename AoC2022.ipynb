{
 "cells": [
  {
   "cell_type": "markdown",
   "id": "3f84ca12",
   "metadata": {},
   "source": [
    "# Advent of Code 2022"
   ]
  },
  {
   "cell_type": "code",
   "execution_count": 112,
   "id": "22eceb36",
   "metadata": {},
   "outputs": [],
   "source": [
    "import re\n",
    "\n",
    "def Input(day, year=2022):\n",
    "    directory = '{}'.format(year)\n",
    "    filename = directory + '/input{}.txt'.format(day)\n",
    "    return open(filename)\n",
    "\n",
    "def mapt(fn, *args):\n",
    "    \"\"\"map(fn, *args) and return the result as a tuple.\"\"\"\n",
    "    return tuple(map(fn, *args))\n",
    "\n",
    "def mapl(fn, *args):\n",
    "    \"\"\"map(fn, *args) and return the result as a tuple.\"\"\"\n",
    "    return list(map(fn, *args))\n",
    "\n",
    "def parse(day, parser=str, sep='\\n', output='tuple') -> tuple:\n",
    "    \"\"\"Split the day's input file into entries separated by `sep`, and apply `parser` to each.\"\"\"\n",
    "    entries = open(f'2022/input{day}.txt').read().rstrip().split(sep)\n",
    "    return mapl(parser, entries)"
   ]
  },
  {
   "cell_type": "code",
   "execution_count": 101,
   "id": "8f92c31b",
   "metadata": {},
   "outputs": [
    {
     "data": {
      "text/plain": [
       "67658"
      ]
     },
     "execution_count": 101,
     "metadata": {},
     "output_type": "execute_result"
    }
   ],
   "source": [
    "f = Input('01')\n",
    "\n",
    "#x for b in a for x in b\n",
    "\n",
    "f = f.read().strip().split('\\n\\n')\n",
    "\n",
    "f = [sum(map(int, e.split('\\n'))) for e in f]\n",
    "\n",
    "max(f)"
   ]
  },
  {
   "cell_type": "code",
   "execution_count": 105,
   "id": "a799e5cf",
   "metadata": {},
   "outputs": [
    {
     "data": {
      "text/plain": [
       "200158"
      ]
     },
     "execution_count": 105,
     "metadata": {},
     "output_type": "execute_result"
    }
   ],
   "source": [
    "f.sort()\n",
    "sum(f[-3:])"
   ]
  },
  {
   "cell_type": "code",
   "execution_count": 143,
   "id": "2ec2ab8f",
   "metadata": {
    "scrolled": true
   },
   "outputs": [
    {
     "data": {
      "text/plain": [
       "13052"
      ]
     },
     "execution_count": 143,
     "metadata": {},
     "output_type": "execute_result"
    }
   ],
   "source": [
    "f = parse('02')\n",
    "\n",
    "f = [''.join(e.split(' ')) for e in f]\n",
    "\n",
    "scores = {\n",
    "    \"AX\": 4,\n",
    "    \"AY\": 8,\n",
    "    \"AZ\": 3,\n",
    "    \"BX\": 1,\n",
    "    \"BY\": 5,\n",
    "    \"BZ\": 9,\n",
    "    \"CX\": 7,\n",
    "    \"CY\": 2,\n",
    "    \"CZ\": 6,\n",
    "}\n",
    "\n",
    "sum([scores[e] for e in f])"
   ]
  },
  {
   "cell_type": "code",
   "execution_count": 144,
   "id": "c57c171e",
   "metadata": {},
   "outputs": [
    {
     "data": {
      "text/plain": [
       "13693"
      ]
     },
     "execution_count": 144,
     "metadata": {},
     "output_type": "execute_result"
    }
   ],
   "source": [
    "scores = {\n",
    "    \"AX\": 3,\n",
    "    \"AY\": 4,\n",
    "    \"AZ\": 8,\n",
    "    \"BX\": 1,\n",
    "    \"BY\": 5,\n",
    "    \"BZ\": 9,\n",
    "    \"CX\": 2,\n",
    "    \"CY\": 6,\n",
    "    \"CZ\": 7,\n",
    "}\n",
    "\n",
    "sum([scores[e] for e in f])"
   ]
  },
  {
   "cell_type": "code",
   "execution_count": 180,
   "id": "320064f4",
   "metadata": {},
   "outputs": [
    {
     "name": "stdout",
     "output_type": "stream",
     "text": [
      "300\n"
     ]
    },
    {
     "data": {
      "text/plain": [
       "8515"
      ]
     },
     "execution_count": 180,
     "metadata": {},
     "output_type": "execute_result"
    }
   ],
   "source": [
    "s = \" abcdefghijklmnopqrstuvwxyzABCDEFGHIJKLMNOPQRSTUVWXYZ\"\n",
    "\n",
    "f = parse('03')\n",
    "\n",
    "f = [set(e[:int(len(e) / 2)]) & set(e[int(len(e) / 2):]) for e in f]\n",
    "\n",
    "score = 0\n",
    "\n",
    "for e in f:\n",
    "    for g in e:\n",
    "        score += s.index(g)\n",
    "        \n",
    "score"
   ]
  },
  {
   "cell_type": "code",
   "execution_count": 181,
   "id": "8bca4abc",
   "metadata": {},
   "outputs": [
    {
     "data": {
      "text/plain": [
       "2434"
      ]
     },
     "execution_count": 181,
     "metadata": {},
     "output_type": "execute_result"
    }
   ],
   "source": [
    "f = parse('03')\n",
    "\n",
    "score = 0\n",
    "\n",
    "for i in range(0, int(len(f) / 3)):\n",
    "    j = set(f[i * 3]) & set(f[i * 3 + 1]) & set(f[i * 3 + 2])\n",
    "    for k in j:\n",
    "        score += s.index(k)\n",
    "\n",
    "score"
   ]
  },
  {
   "cell_type": "code",
   "execution_count": 220,
   "id": "2c26cde3",
   "metadata": {},
   "outputs": [
    {
     "data": {
      "text/plain": [
       "582"
      ]
     },
     "execution_count": 220,
     "metadata": {},
     "output_type": "execute_result"
    }
   ],
   "source": [
    "f = parse('04')\n",
    "\n",
    "c=0\n",
    "\n",
    "for e in f:\n",
    "    e = e.split(',')\n",
    "    e = [g.split('-') for g in e]\n",
    "    if (int(e[0][0]) <= int(e[1][0]) and int(e[0][1]) >= int(e[1][1])) or (int(e[0][0]) >= int(e[1][0]) and int(e[0][1]) <= int(e[1][1])):\n",
    "        c+= 1\n",
    "c"
   ]
  },
  {
   "cell_type": "code",
   "execution_count": 248,
   "id": "0ffecbee",
   "metadata": {},
   "outputs": [
    {
     "data": {
      "text/plain": [
       "893"
      ]
     },
     "execution_count": 248,
     "metadata": {},
     "output_type": "execute_result"
    }
   ],
   "source": [
    "c = 0\n",
    "\n",
    "for e in f:\n",
    "    e = e.split(',')\n",
    "    e = [g.split('-') for g in e]\n",
    "    if not (int(e[0][1]) < int(e[1][0]) or int(e[0][0]) > int(e[1][1]) or int(e[1][0]) > int(e[0][1]) or int(e[1][1])< int(e[0][0])):\n",
    "        c += 1\n",
    "c"
   ]
  }
 ],
 "metadata": {
  "kernelspec": {
   "display_name": "Python 3 (ipykernel)",
   "language": "python",
   "name": "python3"
  },
  "language_info": {
   "codemirror_mode": {
    "name": "ipython",
    "version": 3
   },
   "file_extension": ".py",
   "mimetype": "text/x-python",
   "name": "python",
   "nbconvert_exporter": "python",
   "pygments_lexer": "ipython3",
   "version": "3.10.8"
  }
 },
 "nbformat": 4,
 "nbformat_minor": 5
}

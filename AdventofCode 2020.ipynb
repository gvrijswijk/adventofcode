{
 "cells": [
  {
   "cell_type": "markdown",
   "metadata": {},
   "source": [
    "# Advent of Code 2020\n",
    "\n",
    "It's that time of year again..."
   ]
  },
  {
   "cell_type": "code",
   "execution_count": 18,
   "metadata": {},
   "outputs": [],
   "source": [
    "import re, itertools\n",
    "\n",
    "def Input(day, year=2020):\n",
    "    directory = '{}'.format(year)\n",
    "    filename = directory + '/input{}.txt'.format(day)\n",
    "    return open(filename)\n",
    "\n",
    "def isprime(val):\n",
    "    pass"
   ]
  },
  {
   "cell_type": "markdown",
   "metadata": {},
   "source": [
    "## [Day 1: Report Repair](https://adventofcode.com/2020/day/1)\n",
    "\n",
    "The elfs in accounting found something irregular in my expense card"
   ]
  },
  {
   "cell_type": "code",
   "execution_count": 29,
   "metadata": {},
   "outputs": [
    {
     "data": {
      "text/plain": [
       "712075"
      ]
     },
     "execution_count": 29,
     "metadata": {},
     "output_type": "execute_result"
    }
   ],
   "source": [
    "expenses = [int(e) for e in Input('01')]\n",
    "\n",
    "def check_expenses(expenses, goal):\n",
    "    for i, first_entry in enumerate(expenses):\n",
    "        for second_entry in expenses[i + 1:]:\n",
    "            if first_entry + second_entry == goal:\n",
    "                return (first_entry * second_entry)\n",
    "            \n",
    "check_expenses(expenses, 2020)"
   ]
  },
  {
   "cell_type": "code",
   "execution_count": 32,
   "metadata": {},
   "outputs": [
    {
     "data": {
      "text/plain": [
       "145245270"
      ]
     },
     "execution_count": 32,
     "metadata": {},
     "output_type": "execute_result"
    }
   ],
   "source": [
    "def check_expenses(expenses, goal):\n",
    "    for i, first_entry in enumerate(expenses):\n",
    "        for second_entry in expenses[i + 1:]:\n",
    "            for third_entry in expenses[i + 2:]:\n",
    "                if first_entry + second_entry + third_entry == goal:\n",
    "                    return (first_entry * second_entry * third_entry)\n",
    "                \n",
    "check_expenses(expenses, 2020)"
   ]
  }
 ],
 "metadata": {
  "kernelspec": {
   "display_name": "Python 3",
   "language": "python",
   "name": "python3"
  },
  "language_info": {
   "codemirror_mode": {
    "name": "ipython",
    "version": 3
   },
   "file_extension": ".py",
   "mimetype": "text/x-python",
   "name": "python",
   "nbconvert_exporter": "python",
   "pygments_lexer": "ipython3",
   "version": "3.7.6"
  }
 },
 "nbformat": 4,
 "nbformat_minor": 4
}

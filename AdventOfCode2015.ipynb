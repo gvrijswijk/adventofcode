{
 "cells": [
  {
   "cell_type": "code",
   "execution_count": 19,
   "metadata": {},
   "outputs": [
    {
     "name": "stdout",
     "output_type": "stream",
     "text": [
      "282749\n",
      "000002c655df7738246e88f6c1c43eb7\n",
      "CPU times: user 558 ms, sys: 4.22 ms, total: 562 ms\n",
      "Wall time: 563 ms\n"
     ]
    }
   ],
   "source": [
    "%%time\n",
    "\n",
    "import hashlib\n",
    "\n",
    "#secret = 'abcdef'\n",
    "secret = 'yzbqklnj'\n",
    "i = 0\n",
    "\n",
    "while True:\n",
    "    var = secret + str(i)\n",
    "    hashed_var = hashlib.md5(var.encode('utf-8')).hexdigest()\n",
    "    if hashed_var[0:5] == '00000':\n",
    "        print(i)\n",
    "        break\n",
    "    i += 1\n",
    "\n",
    "print(hashed_var)\n",
    "\n"
   ]
  },
  {
   "cell_type": "code",
   "execution_count": 20,
   "metadata": {},
   "outputs": [
    {
     "name": "stdout",
     "output_type": "stream",
     "text": [
      "9962624\n",
      "0000004b347bf4b398b3f62ace7cd301\n",
      "CPU times: user 19 s, sys: 47.7 ms, total: 19 s\n",
      "Wall time: 19.1 s\n"
     ]
    }
   ],
   "source": [
    "%%time\n",
    "\n",
    "while True:\n",
    "    var = secret + str(i)\n",
    "    hashed_var = hashlib.md5(var.encode('utf-8')).hexdigest()\n",
    "    if hashed_var[0:6] == '000000':\n",
    "        print(i)\n",
    "        break\n",
    "    i += 1\n",
    "\n",
    "print(hashed_var)"
   ]
  },
  {
   "cell_type": "code",
   "execution_count": null,
   "metadata": {},
   "outputs": [],
   "source": []
  }
 ],
 "metadata": {
  "kernelspec": {
   "display_name": "Python 3",
   "language": "python",
   "name": "python3"
  },
  "language_info": {
   "codemirror_mode": {
    "name": "ipython",
    "version": 3
   },
   "file_extension": ".py",
   "mimetype": "text/x-python",
   "name": "python",
   "nbconvert_exporter": "python",
   "pygments_lexer": "ipython3",
   "version": "3.7.3"
  }
 },
 "nbformat": 4,
 "nbformat_minor": 2
}

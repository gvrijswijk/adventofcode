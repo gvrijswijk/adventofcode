{
 "cells": [
  {
   "cell_type": "markdown",
   "metadata": {},
   "source": [
    "# [Advent of Code 2015](https://adventofcode.com/2015)"
   ]
  },
  {
   "cell_type": "code",
   "execution_count": 211,
   "metadata": {},
   "outputs": [],
   "source": [
    "import re, itertools, functools\n",
    "import numpy as np\n",
    "\n",
    "def Input(day, year=2015):\n",
    "    directory = '{}'.format(year)\n",
    "    filename = directory + '/input{}.txt'.format(day)\n",
    "    return open(filename)"
   ]
  },
  {
   "cell_type": "markdown",
   "metadata": {},
   "source": [
    "## [Day 1: Not Quite Lisp](https://adventofcode.com/2015/day/1)\n",
    "\n",
    "This is an easy task. Both parts are all about counting ( and ) :). After solving both I tried another way, using map and numpy which I haven't used before. Both solutions are about the same speed. The first solution is my first one, the second the later one."
   ]
  },
  {
   "cell_type": "code",
   "execution_count": 65,
   "metadata": {
    "scrolled": true
   },
   "outputs": [
    {
     "name": "stdout",
     "output_type": "stream",
     "text": [
      "Part 1: 74\n",
      "Part 2: 1795\n"
     ]
    }
   ],
   "source": [
    "with open('2015/input01.txt') as f:\n",
    "    input = f.read()\n",
    "\n",
    "print(\"Part 1: \" + str(input.count('(') - input.count(')')))\n",
    "\n",
    "score = 0\n",
    "i = 0\n",
    "while score >= 0:\n",
    "    if input[i] == '(':\n",
    "        score += 1\n",
    "    else:\n",
    "        score -= 1\n",
    "    i += 1\n",
    "\n",
    "print(\"Part 2: \" + str(i))"
   ]
  },
  {
   "cell_type": "code",
   "execution_count": 66,
   "metadata": {
    "scrolled": true
   },
   "outputs": [
    {
     "name": "stdout",
     "output_type": "stream",
     "text": [
      "Part 1: 74\n",
      "Part 2: 1795\n"
     ]
    }
   ],
   "source": [
    "i = list(itertools.accumulate(map(lambda x: 1 if x == \"(\" else -1, Input('01').read())))\n",
    "\n",
    "print(\"Part 1: \" + str(i[-1]))\n",
    "print(\"Part 2: \" + str(i.index(-1) + 1))"
   ]
  },
  {
   "cell_type": "markdown",
   "metadata": {},
   "source": [
    "## [Day 2: I Was Told There Would Be No Math](https://adventofcode.com/2015/day/2)\n",
    "This time around the latter solution is about 25% faster."
   ]
  },
  {
   "cell_type": "code",
   "execution_count": 67,
   "metadata": {},
   "outputs": [
    {
     "name": "stdout",
     "output_type": "stream",
     "text": [
      "1598415\n",
      "3812909\n"
     ]
    }
   ],
   "source": [
    "paper = 0\n",
    "ribbon = 0\n",
    "\n",
    "with open('2015/input02.txt') as f:\n",
    "    input = f.readlines()\n",
    "\n",
    "for line in input:\n",
    "\n",
    "    dims = [int(e) for e in re.findall(r'(\\d+)', line)]\n",
    "    dims.sort()\n",
    "\n",
    "    paper += 3 * dims[0] * dims[1] + 2 * dims[0] * dims[2] + 2 * dims[1] * dims[2]\n",
    "    ribbon += 2 * (dims[0] + dims[1]) + dims[0] * dims[1] * dims[2]\n",
    "\n",
    "print(paper)\n",
    "print(ribbon)"
   ]
  },
  {
   "cell_type": "code",
   "execution_count": 68,
   "metadata": {},
   "outputs": [
    {
     "name": "stdout",
     "output_type": "stream",
     "text": [
      "Part 1: 1598415\n",
      "Part 2: 3812909\n"
     ]
    }
   ],
   "source": [
    "i = [sorted(list(map(int, re.findall(r'\\d+', e)))) for e in Input('02').readlines()]\n",
    "\n",
    "print(\"Part 1: \" + str(sum([3 * e[0] * e[1] + 2 * (e[0] + e[1]) * e[2] for e in i])))\n",
    "print(\"Part 2: \" + str(sum([2 * (e[0] + e[1]) + e[0] * e[1] * e[2] for e in i])))"
   ]
  },
  {
   "cell_type": "markdown",
   "metadata": {},
   "source": [
    "## [Day 3: Perfectly Spherical Houses in a Vacuum](https://adventofcode.com/2015/day/3)"
   ]
  },
  {
   "cell_type": "code",
   "execution_count": 180,
   "metadata": {},
   "outputs": [
    {
     "name": "stdout",
     "output_type": "stream",
     "text": [
      "2081\n",
      "8192\n",
      "2341\n",
      "8192\n",
      "CPU times: user 15.6 ms, sys: 0 ns, total: 15.6 ms\n",
      "Wall time: 26.8 ms\n"
     ]
    }
   ],
   "source": [
    "%%time\n",
    "\n",
    "headings = {\n",
    "    \"^\": 1j,\n",
    "    \"v\": -1j,\n",
    "    \"<\": -1,\n",
    "    \">\": 1,\n",
    "}\n",
    "\n",
    "location = complex\n",
    "location = 0\n",
    "visited = {\n",
    "    0: 1\n",
    "}\n",
    "\n",
    "with open('2015/input03.txt') as f:\n",
    "    input = f.read()\n",
    "\n",
    "for character in input:\n",
    "    location = location + headings[character]\n",
    "    if location in visited:\n",
    "        visited[location] += 1\n",
    "    else:\n",
    "        visited[location] = 1\n",
    "\n",
    "\n",
    "print(len(visited))\n",
    "print(len(input))\n",
    "\n",
    "location = 0\n",
    "visited = {\n",
    "    0: 2\n",
    "}\n",
    "\n",
    "for character in input[::2]:\n",
    "    location = location + headings[character]\n",
    "    if location in visited:\n",
    "        visited[location] += 1\n",
    "    else:\n",
    "        visited[location] = 1\n",
    "\n",
    "location = 0\n",
    "for character in input[1::2]:\n",
    "    location = location + headings[character]\n",
    "    if location in visited:\n",
    "        visited[location] += 1\n",
    "    else:\n",
    "        visited[location] = 1\n",
    "\n",
    "print(len(visited))\n",
    "print(len(input))\n"
   ]
  },
  {
   "cell_type": "code",
   "execution_count": 225,
   "metadata": {},
   "outputs": [
    {
     "name": "stdout",
     "output_type": "stream",
     "text": [
      "Part 1: 2081\n",
      "Part 2: 2341\n",
      "CPU times: user 46.9 ms, sys: 15.6 ms, total: 62.5 ms\n",
      "Wall time: 19.6 ms\n"
     ]
    }
   ],
   "source": [
    "%%time\n",
    "\n",
    "inp = Input('03').read()\n",
    "\n",
    "headings = {\n",
    "    \"^\": 1j,\n",
    "    \"v\": -1j,\n",
    "    \"<\": -1,\n",
    "    \">\": 1\n",
    "}\n",
    "\n",
    "i = np.cumsum([0] + [headings[e] for e in inp])\n",
    "\n",
    "print(\"Part 1: \" + str(len(set(i))))\n",
    "\n",
    "loc = []\n",
    "\n",
    "for j in range(2):\n",
    "    loc.append(0)\n",
    "    for e in [headings[e] for e in inp[j::2]]:\n",
    "        loc.append(loc[-1] + e)\n",
    "\n",
    "print(\"Part 2: \" + str(len(set(loc))))\n"
   ]
  },
  {
   "cell_type": "markdown",
   "metadata": {},
   "source": [
    "# Day 04"
   ]
  },
  {
   "cell_type": "code",
   "execution_count": null,
   "metadata": {},
   "outputs": [],
   "source": []
  },
  {
   "cell_type": "code",
   "execution_count": 70,
   "metadata": {},
   "outputs": [
    {
     "name": "stdout",
     "output_type": "stream",
     "text": [
      "282749\n",
      "000002c655df7738246e88f6c1c43eb7\n"
     ]
    }
   ],
   "source": [
    "\n",
    "import hashlib\n",
    "\n",
    "#secret = 'abcdef'\n",
    "secret = 'yzbqklnj'\n",
    "i = 0\n",
    "\n",
    "while True:\n",
    "    var = secret + str(i)\n",
    "    hashed_var = hashlib.md5(var.encode('utf-8')).hexdigest()\n",
    "    if hashed_var[0:5] == '00000':\n",
    "        print(i)\n",
    "        break\n",
    "    i += 1\n",
    "\n",
    "print(hashed_var)\n",
    "\n"
   ]
  },
  {
   "cell_type": "code",
   "execution_count": 71,
   "metadata": {},
   "outputs": [
    {
     "name": "stdout",
     "output_type": "stream",
     "text": [
      "9962624\n",
      "0000004b347bf4b398b3f62ace7cd301\n"
     ]
    }
   ],
   "source": [
    "\n",
    "while True:\n",
    "    var = secret + str(i)\n",
    "    hashed_var = hashlib.md5(var.encode('utf-8')).hexdigest()\n",
    "    if hashed_var[0:6] == '000000':\n",
    "        print(i)\n",
    "        break\n",
    "    i += 1\n",
    "\n",
    "print(hashed_var)"
   ]
  },
  {
   "cell_type": "markdown",
   "metadata": {},
   "source": [
    "# Day 05"
   ]
  },
  {
   "cell_type": "code",
   "execution_count": 72,
   "metadata": {},
   "outputs": [
    {
     "ename": "FileNotFoundError",
     "evalue": "[Errno 2] No such file or directory: '2015/input05.txt'",
     "output_type": "error",
     "traceback": [
      "\u001b[0;31m---------------------------------------------------------------------------\u001b[0m",
      "\u001b[0;31mFileNotFoundError\u001b[0m                         Traceback (most recent call last)",
      "\u001b[0;32m<ipython-input-72-c892865f4201>\u001b[0m in \u001b[0;36m<module>\u001b[0;34m\u001b[0m\n\u001b[1;32m      2\u001b[0m \u001b[0mlist\u001b[0m \u001b[0;34m=\u001b[0m \u001b[0;34m[\u001b[0m\u001b[0;34m]\u001b[0m\u001b[0;34m\u001b[0m\u001b[0;34m\u001b[0m\u001b[0m\n\u001b[1;32m      3\u001b[0m \u001b[0;34m\u001b[0m\u001b[0m\n\u001b[0;32m----> 4\u001b[0;31m \u001b[0;32mfor\u001b[0m \u001b[0me\u001b[0m \u001b[0;32min\u001b[0m \u001b[0mInput\u001b[0m\u001b[0;34m(\u001b[0m\u001b[0;34m'05'\u001b[0m\u001b[0;34m)\u001b[0m\u001b[0;34m:\u001b[0m\u001b[0;34m\u001b[0m\u001b[0;34m\u001b[0m\u001b[0m\n\u001b[0m\u001b[1;32m      5\u001b[0m     \u001b[0mr\u001b[0m \u001b[0;34m=\u001b[0m \u001b[0mre\u001b[0m\u001b[0;34m.\u001b[0m\u001b[0mcompile\u001b[0m\u001b[0;34m(\u001b[0m\u001b[0;34mr'[aeiou]'\u001b[0m\u001b[0;34m)\u001b[0m\u001b[0;34m\u001b[0m\u001b[0;34m\u001b[0m\u001b[0m\n\u001b[1;32m      6\u001b[0m     \u001b[0;32mif\u001b[0m \u001b[0mlen\u001b[0m\u001b[0;34m(\u001b[0m\u001b[0mr\u001b[0m\u001b[0;34m.\u001b[0m\u001b[0mfindall\u001b[0m\u001b[0;34m(\u001b[0m\u001b[0me\u001b[0m\u001b[0;34m)\u001b[0m\u001b[0;34m)\u001b[0m \u001b[0;34m>\u001b[0m \u001b[0;36m2\u001b[0m\u001b[0;34m:\u001b[0m\u001b[0;34m\u001b[0m\u001b[0;34m\u001b[0m\u001b[0m\n",
      "\u001b[0;32m<ipython-input-64-157ca2511e22>\u001b[0m in \u001b[0;36mInput\u001b[0;34m(day, year)\u001b[0m\n\u001b[1;32m      5\u001b[0m     \u001b[0mdirectory\u001b[0m \u001b[0;34m=\u001b[0m \u001b[0;34m'{}'\u001b[0m\u001b[0;34m.\u001b[0m\u001b[0mformat\u001b[0m\u001b[0;34m(\u001b[0m\u001b[0myear\u001b[0m\u001b[0;34m)\u001b[0m\u001b[0;34m\u001b[0m\u001b[0;34m\u001b[0m\u001b[0m\n\u001b[1;32m      6\u001b[0m     \u001b[0mfilename\u001b[0m \u001b[0;34m=\u001b[0m \u001b[0mdirectory\u001b[0m \u001b[0;34m+\u001b[0m \u001b[0;34m'/input{}.txt'\u001b[0m\u001b[0;34m.\u001b[0m\u001b[0mformat\u001b[0m\u001b[0;34m(\u001b[0m\u001b[0mday\u001b[0m\u001b[0;34m)\u001b[0m\u001b[0;34m\u001b[0m\u001b[0;34m\u001b[0m\u001b[0m\n\u001b[0;32m----> 7\u001b[0;31m     \u001b[0;32mreturn\u001b[0m \u001b[0mopen\u001b[0m\u001b[0;34m(\u001b[0m\u001b[0mfilename\u001b[0m\u001b[0;34m)\u001b[0m\u001b[0;34m\u001b[0m\u001b[0;34m\u001b[0m\u001b[0m\n\u001b[0m",
      "\u001b[0;31mFileNotFoundError\u001b[0m: [Errno 2] No such file or directory: '2015/input05.txt'"
     ]
    }
   ],
   "source": [
    "\n",
    "i, j, k = 0, 0, 0\n",
    "list = []\n",
    "\n",
    "for e in Input('05'):\n",
    "    r = re.compile(r'[aeiou]')\n",
    "    if len(r.findall(e)) > 2:\n",
    "        i += 1\n",
    "        r = re.compile(r'ab|cd|pq|xy')\n",
    "        if len(r.findall(e)) == 0:\n",
    "            j += 1\n",
    "            l = 0\n",
    "            for h, c in enumerate(e):\n",
    "                if c == e[h - 1]:\n",
    "                    l += 1\n",
    "            if l > 0:\n",
    "                k += 1\n",
    "                list.append(e)\n",
    "            \n",
    "print(i, j, k)\n",
    "#print(list)"
   ]
  },
  {
   "cell_type": "code",
   "execution_count": null,
   "metadata": {},
   "outputs": [],
   "source": [
    "\n",
    "i=0\n",
    "\n",
    "def oneonone(string):\n",
    "    j = 0\n",
    "    for i, c in enumerate(string):\n",
    "        if i < (len(string) - 2) and c == string[i + 2]:\n",
    "            j += 1\n",
    "    if j > 0:\n",
    "        return True\n",
    "    else:\n",
    "        return False\n",
    "    \n",
    "def multiple_pairs(string):\n",
    "    j = 0\n",
    "    for i in range(len(string)):\n",
    "        item = string[i:i + 2]\n",
    "        tmp1 = string[0:i]\n",
    "        tmp2 = string[i+2:-1]\n",
    "        if len(re.findall(item, tmp1)) > 0:\n",
    "            j += 1\n",
    "        if len(re.findall(item, tmp2)) > 0:\n",
    "            j += 1\n",
    "    if j > 0:\n",
    "        return True\n",
    "    else:\n",
    "        return False\n",
    "    \n",
    "for e in Input('05'):\n",
    "    if oneonone(e) and multiple_pairs(e):\n",
    "        i += 1\n",
    "        \n",
    "print(i)"
   ]
  },
  {
   "cell_type": "code",
   "execution_count": null,
   "metadata": {},
   "outputs": [],
   "source": []
  },
  {
   "cell_type": "code",
   "execution_count": null,
   "metadata": {},
   "outputs": [],
   "source": [
    "\n",
    "import numpy as np\n",
    "\n",
    "s = (1000,1000)\n",
    "\n",
    "grid = np.zeros(s)\n",
    "\n",
    "for i, e in enumerate(Input('06')):\n",
    "    m = re.compile(r'(\\D+) (\\d+),(\\d+) through (\\d+),(\\d+)')\n",
    "    n = m.match(e)\n",
    "    \n",
    "    for i in range(int(n[2]), int(n[4]) + 1):\n",
    "        for j in range(int(n[3]), int(n[5]) + 1):\n",
    "            if n[1] == \"turn off\":\n",
    "                grid[i][j] = 0\n",
    "                #print(i, j, grid[i][j])\n",
    "            elif n[1] == \"turn on\":\n",
    "                grid[i][j] = 1\n",
    "                #print(i, j, grid[i][j])\n",
    "            else:\n",
    "                if grid[i][j] == 0:\n",
    "                    grid[i][j] = 1\n",
    "                    #print(i, j, grid[i][j])\n",
    "                else:\n",
    "                    grid[i][j] = 0\n",
    "                    #print(i, j, grid[i][j])\n",
    "                    \n",
    "\n",
    "                    \n",
    "total = np.ndarray.sum(grid)\n",
    "\n",
    "print(total)"
   ]
  },
  {
   "cell_type": "code",
   "execution_count": null,
   "metadata": {},
   "outputs": [],
   "source": [
    "\n",
    "s = (1000,1000)\n",
    "grid = np.zeros(s)\n",
    "\n",
    "for d, e in enumerate(Input('06')):\n",
    "    m = re.compile(r'(\\D+) (\\d+),(\\d+) through (\\d+),(\\d+)')\n",
    "    n = m.match(e)\n",
    "    \n",
    "    for i in range(int(n[2]), int(n[4]) + 1):\n",
    "        for j in range(int(n[3]), int(n[5]) + 1):\n",
    "            if n[1] == \"turn off\":\n",
    "                if grid[i][j] > 0:\n",
    "                    grid[i][j] -= 1\n",
    "            elif n[1] == \"turn on\":\n",
    "                grid[i][j] += 1\n",
    "            else:\n",
    "                grid[i][j] += 2\n",
    "    print(d, n[2], n[3], n[4], n[5], np.ndarray.sum(grid))\n",
    "    \n",
    "total = np.ndarray.sum(grid)\n",
    "\n",
    "print(total)"
   ]
  },
  {
   "cell_type": "code",
   "execution_count": null,
   "metadata": {},
   "outputs": [],
   "source": []
  }
 ],
 "metadata": {
  "kernelspec": {
   "display_name": "Python 3",
   "language": "python",
   "name": "python3"
  },
  "language_info": {
   "codemirror_mode": {
    "name": "ipython",
    "version": 3
   },
   "file_extension": ".py",
   "mimetype": "text/x-python",
   "name": "python",
   "nbconvert_exporter": "python",
   "pygments_lexer": "ipython3",
   "version": "3.6.9"
  }
 },
 "nbformat": 4,
 "nbformat_minor": 2
}

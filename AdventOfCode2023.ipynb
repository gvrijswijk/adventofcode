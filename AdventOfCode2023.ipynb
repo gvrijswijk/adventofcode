{
 "cells": [
  {
   "cell_type": "markdown",
   "id": "347075f3-9332-483e-97e3-59aed6d0b336",
   "metadata": {},
   "source": [
    "# [Advent of Code 2023](https://adventofcode.com/2023)"
   ]
  },
  {
   "cell_type": "markdown",
   "id": "433135d8-2c31-4862-a172-f548f01263ef",
   "metadata": {},
   "source": [
    "## General functions"
   ]
  },
  {
   "cell_type": "code",
   "execution_count": 1,
   "id": "cf691d31-cab8-40c3-b97d-ced5997985ee",
   "metadata": {},
   "outputs": [],
   "source": [
    "import re\n",
    "import itertools\n",
    "import math"
   ]
  },
  {
   "cell_type": "code",
   "execution_count": 2,
   "id": "41fd15b0-8cfa-416f-8b87-80acb3c64b01",
   "metadata": {},
   "outputs": [],
   "source": [
    "def Input(day, year=2023):d\n",
    "    directory = '{}'.format(year)\n",
    "    filename = directory + '/input{}.txt'.format(day)\n",
    "    return open(filename)\n",
    "\n",
    "def Testdata(day, year=2023):\n",
    "    directory = '{}'.format(year)\n",
    "    filename = directory + '/testdata{}.txt'.format(day)\n",
    "    return open(filename)\n",
    "\n",
    "def mapt(fn, *args):\n",
    "    \"\"\"map(fn, *args) and return the result as a tuple.\"\"\"\n",
    "    return tuple(map(fn, *args))\n",
    "\n",
    "def parse(day, parser=str, sep='\\n', output='tuple') -> tuple:\n",
    "    \"\"\"Split the day's input file into entries separated by `sep`, and apply `parser` to each.\"\"\"\n",
    "    entries = open(f'2023/input{day}.txt').read().rstrip().split(sep)\n",
    "    return mapt(parser, entries)"
   ]
  },
  {
   "cell_type": "code",
   "execution_count": 257,
   "id": "6dde3e24-71c9-44f8-9626-b3a58fe4468b",
   "metadata": {},
   "outputs": [],
   "source": [
    "def findroots(a, b, c):\n",
    "    dis = b * b - 4 * a * c \n",
    "    sqrt_val = math.sqrt(abs(dis)) \n",
    "    if dis > 0:\n",
    "        return (-b + sqrt_val)/(2 * a), (-b - sqrt_val)/(2 * a)\n",
    "    elif dis == 0:\n",
    "        return -b / (2 * a)\n",
    "    else:\n",
    "        return - b / (2 * a), + i, sqrt_val,  - b / (2 * a), - i, sqrt_val"
   ]
  },
  {
   "cell_type": "markdown",
   "id": "cf943123-4c01-41af-9a86-b2380b4625a1",
   "metadata": {},
   "source": [
    "## [Day 1: Trebuchet?!](https://adventofcode.com/2023/day/1)"
   ]
  },
  {
   "cell_type": "markdown",
   "id": "eb30f3ab-fc4b-4fc1-bf50-982a3293c1f5",
   "metadata": {},
   "source": [
    "### Part 1"
   ]
  },
  {
   "cell_type": "code",
   "execution_count": 3,
   "id": "7133b59a-97ea-4e92-b461-4490b4296c62",
   "metadata": {},
   "outputs": [],
   "source": [
    "def calibration_values(n, replace = False):\n",
    "    if replace == True:\n",
    "        n = [translate_string(e) for e in n]\n",
    "    else:\n",
    "        n = [re.findall(r'\\d', e) for e in n]\n",
    "    return [int(e[0] + e[-1]) for e in n]"
   ]
  },
  {
   "cell_type": "code",
   "execution_count": 4,
   "id": "8cdcc9bf-2986-4cf1-8b37-18f48b8f686c",
   "metadata": {},
   "outputs": [],
   "source": [
    "testdata = (\"1abc2\", \"pqr3stu8vwx\", \"a1b2c3d4e5f\", \"treb7uchet\")\n",
    "assert sum(calibration_values(testdata)) == 142"
   ]
  },
  {
   "cell_type": "code",
   "execution_count": 5,
   "id": "2613d8e6-53b5-445c-a445-477b89cc2ade",
   "metadata": {},
   "outputs": [
    {
     "name": "stdout",
     "output_type": "stream",
     "text": [
      "CPU times: user 0 ns, sys: 2.85 ms, total: 2.85 ms\n",
      "Wall time: 2.13 ms\n"
     ]
    },
    {
     "data": {
      "text/plain": [
       "54990"
      ]
     },
     "execution_count": 5,
     "metadata": {},
     "output_type": "execute_result"
    }
   ],
   "source": [
    "%time sum(calibration_values(parse('01')))"
   ]
  },
  {
   "cell_type": "markdown",
   "id": "571adca4-baa6-4af0-a673-d5d680b9f7c9",
   "metadata": {},
   "source": [
    "### Part 2"
   ]
  },
  {
   "cell_type": "code",
   "execution_count": 6,
   "id": "430a3f4c-2fab-426a-bd53-1088f325b7ef",
   "metadata": {},
   "outputs": [],
   "source": [
    "def translate_string(n):\n",
    "    r = []\n",
    "    d = [\"zero\", \"one\", \"two\", \"three\", \"four\", \"five\", \"six\", \"seven\", \"eight\", \"nine\"]\n",
    "    for i, c in enumerate(n):\n",
    "        if c.isdigit():\n",
    "            r.append(c)\n",
    "        for j, b in enumerate(d):\n",
    "            if n[i:].startswith(b):\n",
    "                r.append(str(j))\n",
    "    return ''.join(r)\n",
    "                "
   ]
  },
  {
   "cell_type": "code",
   "execution_count": 7,
   "id": "a5650b4e-e8c2-45ed-8a63-60380aebe827",
   "metadata": {
    "scrolled": true
   },
   "outputs": [],
   "source": [
    "testdata = (\"two1nine\", \"eightwothree\", \"abcone2threexyz\", \"xtwone3four\", \"4nineeightseven2\", \"zoneight234\", \"7pqrstsixteen\")\n",
    "assert(sum(calibration_values(testdata, True))) == 281"
   ]
  },
  {
   "cell_type": "code",
   "execution_count": 8,
   "id": "1e72809f-b242-4ab4-a054-d6edd4093a48",
   "metadata": {},
   "outputs": [
    {
     "name": "stdout",
     "output_type": "stream",
     "text": [
      "CPU times: user 33.9 ms, sys: 407 µs, total: 34.3 ms\n",
      "Wall time: 33.8 ms\n"
     ]
    },
    {
     "data": {
      "text/plain": [
       "54473"
      ]
     },
     "execution_count": 8,
     "metadata": {},
     "output_type": "execute_result"
    }
   ],
   "source": [
    "%time sum(calibration_values(parse('01'), True))"
   ]
  },
  {
   "cell_type": "markdown",
   "id": "5bad92cd-e2cf-4c33-9cbe-fab5efd10499",
   "metadata": {},
   "source": [
    "## [Day 2: Cube Conundrum](https://adventofcode.com/2023/day/2)"
   ]
  },
  {
   "cell_type": "markdown",
   "id": "3ee10682-1415-4dc3-a953-7aef21b4e7d5",
   "metadata": {},
   "source": [
    "### Part 1"
   ]
  },
  {
   "cell_type": "code",
   "execution_count": 9,
   "id": "25a4ea51-b38a-46c7-9a8c-9651274ea1b5",
   "metadata": {},
   "outputs": [
    {
     "name": "stdout",
     "output_type": "stream",
     "text": [
      "CPU times: user 2 ms, sys: 58 µs, total: 2.06 ms\n",
      "Wall time: 1.53 ms\n"
     ]
    },
    {
     "data": {
      "text/plain": [
       "2720"
      ]
     },
     "execution_count": 9,
     "metadata": {},
     "output_type": "execute_result"
    }
   ],
   "source": [
    "def combinations(n, red = None, green = None, blue = None):\n",
    "    d = {\"red\": red, \"green\": green, \"blue\": blue}\n",
    "    n = [[d[k] >= int(v) for v, k in re.findall(r'(\\d+) (\\w+)', m)] for m in n]\n",
    "    return [i + 1 if False not in m else 0 for i, m in enumerate(n)]\n",
    "\n",
    "%time sum(combinations(Input('02').readlines(), 12, 13, 14))"
   ]
  },
  {
   "cell_type": "markdown",
   "id": "0af54bf4-28c7-4943-9eea-e8a967fdd067",
   "metadata": {},
   "source": [
    "### Part 2"
   ]
  },
  {
   "cell_type": "code",
   "execution_count": 10,
   "id": "ad4e5551-cbb9-4031-83c7-9fea96ca1149",
   "metadata": {},
   "outputs": [],
   "source": [
    "testdata = \"Game 1: 3 blue, 4 red; 1 red, 2 green, 6 blue; 2 green\\nGame 2: 1 blue, 2 green; 3 green, 4 blue, 1 red; 1 green, 1 blue\\nGame 3: 8 green, 6 blue, 20 red; 5 blue, 4 red, 13 green; 5 green, 1 red\\nGame 4: 1 green, 3 red, 6 blue; 3 green, 6 red; 3 green, 15 blue, 14 red\\nGame 5: 6 red, 1 blue, 3 green; 2 blue, 1 red, 2 green\""
   ]
  },
  {
   "cell_type": "code",
   "execution_count": 11,
   "id": "607bcee0-3b2a-4226-bdd5-839cdab8233e",
   "metadata": {},
   "outputs": [],
   "source": [
    "def fewest_possible(n):\n",
    "    r = []\n",
    "    for m in n:\n",
    "        m = re.findall(r'(\\d+) (\\w+)', m)\n",
    "        t = {}\n",
    "        for v, k in m:\n",
    "            t[k] = max(t.get(k, 0), int(v))\n",
    "        r.append(t.values())\n",
    "    return r"
   ]
  },
  {
   "cell_type": "code",
   "execution_count": 12,
   "id": "cba918b6-d7bd-4312-b700-c732387fab19",
   "metadata": {},
   "outputs": [],
   "source": [
    "assert sum([math.prod(e) for e in fewest_possible(testdata.split(\"\\n\"))])==2286"
   ]
  },
  {
   "cell_type": "code",
   "execution_count": 13,
   "id": "705cb3d7-4452-4261-9281-f14816543ff0",
   "metadata": {},
   "outputs": [
    {
     "name": "stdout",
     "output_type": "stream",
     "text": [
      "CPU times: user 1.48 ms, sys: 356 µs, total: 1.84 ms\n",
      "Wall time: 1.56 ms\n"
     ]
    },
    {
     "data": {
      "text/plain": [
       "71535"
      ]
     },
     "execution_count": 13,
     "metadata": {},
     "output_type": "execute_result"
    }
   ],
   "source": [
    "%time sum([math.prod(e) for e in fewest_possible(Input('02').readlines())])"
   ]
  },
  {
   "cell_type": "markdown",
   "id": "a113e5d2-db0c-47af-82b0-bcfc4a536c85",
   "metadata": {},
   "source": [
    "## [Day 3: Gear Ratios](https://adventofcode.com/2023/day/3)"
   ]
  },
  {
   "cell_type": "markdown",
   "id": "360b465a-2dc2-4b73-9e8a-83a75c187b03",
   "metadata": {},
   "source": [
    "### Part 1"
   ]
  },
  {
   "cell_type": "code",
   "execution_count": 14,
   "id": "4bc50549-7b4b-4914-9da7-7e1d08d12450",
   "metadata": {},
   "outputs": [],
   "source": [
    "testdata = \"467..114..\\n...*......\\n..35..633.\\n......#...\\n617*......\\n.....+.58.\\n..592.....\\n......755.\\n...$.*....\\n.664.598..\""
   ]
  },
  {
   "cell_type": "code",
   "execution_count": 15,
   "id": "3fd2f810-d827-4b1c-a4b8-453bf36bcef1",
   "metadata": {
    "scrolled": true
   },
   "outputs": [
    {
     "data": {
      "text/plain": [
       "[467, 35, 633, 617, 592, 755, 664, 598]"
      ]
     },
     "execution_count": 15,
     "metadata": {},
     "output_type": "execute_result"
    }
   ],
   "source": [
    "def str_to_lst(n):\n",
    "    d = {}\n",
    "    for i, e in enumerate(n.split()):\n",
    "        for j, f in enumerate(e):\n",
    "            d[(i, j)] = f\n",
    "    return d\n",
    "\n",
    "def neighbours8(i, j):\n",
    "    return (i - 1, j - 1), (i - 1, j),(i - 1, j + 1), (i, j - 1),(i, j + 1),(i + 1, j - 1),(i + 1, j),(i + 1, j + 1),\n",
    "\n",
    "def symbol_neighbours(n):\n",
    "    grid = str_to_lst(n)\n",
    "    nbs = {}\n",
    "    for k, v in grid.items():\n",
    "        if v.isdigit():\n",
    "            nbs[k] = True in [True if not grid.get(nb, \".\").isdigit() and grid.get(nb, \".\") != \".\" else False for nb in neighbours8(*k)]\n",
    "    return nbs\n",
    "\n",
    "def part_numbers(n):\n",
    "    part_numbers = []\n",
    "    grid = str_to_lst(n)\n",
    "    lst = symbol_neighbours(n)\n",
    "    string = \"\"\n",
    "    l = []\n",
    "    for k, v in lst.items():\n",
    "        i, j = k\n",
    "        if (i, j - 1) in lst:\n",
    "            string = string + str(grid[k])\n",
    "            l.append(v)\n",
    "        else:\n",
    "            if True in l:\n",
    "                part_numbers.append(int(string))\n",
    "            string = str(grid[k])\n",
    "            l = [v]\n",
    "    if True in l:\n",
    "        part_numbers.append(int(string))\n",
    "    return part_numbers\n",
    "\n",
    "part_numbers(testdata)"
   ]
  },
  {
   "cell_type": "code",
   "execution_count": 16,
   "id": "530a96fa-a34b-4cfc-9b65-f6eaa8598d0d",
   "metadata": {},
   "outputs": [],
   "source": [
    "assert sum(part_numbers(testdata))==4361"
   ]
  },
  {
   "cell_type": "code",
   "execution_count": 17,
   "id": "94e238ed-c6ca-49cf-8de2-21e03714ef5a",
   "metadata": {},
   "outputs": [
    {
     "name": "stdout",
     "output_type": "stream",
     "text": [
      "CPU times: user 11.5 ms, sys: 3.88 ms, total: 15.4 ms\n",
      "Wall time: 15 ms\n"
     ]
    },
    {
     "data": {
      "text/plain": [
       "538046"
      ]
     },
     "execution_count": 17,
     "metadata": {},
     "output_type": "execute_result"
    }
   ],
   "source": [
    "%time sum(part_numbers(Input('03').read()))"
   ]
  },
  {
   "cell_type": "markdown",
   "id": "b280b91f-d3c7-46ff-a252-82534be4031a",
   "metadata": {},
   "source": [
    "### Part 2"
   ]
  },
  {
   "cell_type": "code",
   "execution_count": 18,
   "id": "af29290b-7ab5-4632-83e2-8f13782d13df",
   "metadata": {},
   "outputs": [],
   "source": [
    "def gear_ratios(n):\n",
    "    grid = str_to_lst(n)\n",
    "    numbers = {}\n",
    "    l = []\n",
    "    gears = []\n",
    "    for k, v in grid.items():\n",
    "        i, j = k\n",
    "        if v == \"*\":\n",
    "            gears.append(k)\n",
    "        if v.isdigit():\n",
    "            if grid.get((i, j - 1), \".\").isdigit():\n",
    "                l.append(v)\n",
    "                c.append(k)\n",
    "            else:\n",
    "                l = [v]\n",
    "                c = [k]\n",
    "        elif len(l) > 0:\n",
    "            for cc in c:\n",
    "                numbers[cc] = int(''.join(l))\n",
    "    som = 0\n",
    "    for gear in gears:\n",
    "        nbs = set([numbers[nb] for nb in neighbours8(*gear) if nb in numbers])\n",
    "        if len(nbs) == 2:\n",
    "            som += math.prod(nbs)\n",
    "\n",
    "    return som"
   ]
  },
  {
   "cell_type": "code",
   "execution_count": 19,
   "id": "01b1c775-4df3-4bfe-a42d-cdc58461ee51",
   "metadata": {},
   "outputs": [],
   "source": [
    "assert gear_ratios(testdata) == 467835"
   ]
  },
  {
   "cell_type": "code",
   "execution_count": 20,
   "id": "c178ec44-0d8d-4901-a9a5-6907e0eb458a",
   "metadata": {},
   "outputs": [
    {
     "name": "stdout",
     "output_type": "stream",
     "text": [
      "CPU times: user 36.5 ms, sys: 128 µs, total: 36.7 ms\n",
      "Wall time: 36 ms\n"
     ]
    },
    {
     "data": {
      "text/plain": [
       "81709807"
      ]
     },
     "execution_count": 20,
     "metadata": {},
     "output_type": "execute_result"
    }
   ],
   "source": [
    "%time gear_ratios(Input('03').read())"
   ]
  },
  {
   "cell_type": "markdown",
   "id": "82182a2c-a21d-4a26-95ee-3408f526fac2",
   "metadata": {},
   "source": [
    "## [Day 4: Scratchcards](https://adventofcode.com/2023/day/4)"
   ]
  },
  {
   "cell_type": "markdown",
   "id": "851e50c4-46f1-468b-9fce-ca31cd602515",
   "metadata": {},
   "source": [
    "### Part 1"
   ]
  },
  {
   "cell_type": "code",
   "execution_count": 21,
   "id": "2ddf21a8-4760-4579-9888-b88aa08c3539",
   "metadata": {},
   "outputs": [],
   "source": [
    "testdata = \"Card 1: 41 48 83 86 17 | 83 86  6 31 17  9 48 53\\nCard 2: 13 32 20 16 61 | 61 30 68 82 17 32 24 19\\nCard 3:  1 21 53 59 44 | 69 82 63 72 16 21 14  1\\nCard 4: 41 92 73 84 69 | 59 84 76 51 58  5 54 83\\nCard 5: 87 83 26 28 32 | 88 30 70 12 93 22 82 36\\nCard 6: 31 18 13 56 72 | 74 77 10 23 35 67 36 11\""
   ]
  },
  {
   "cell_type": "code",
   "execution_count": 22,
   "id": "60f3e066-1e29-41be-9822-f7fd2aa77062",
   "metadata": {},
   "outputs": [],
   "source": [
    "def cards_worth(n):\n",
    "    n = n.strip().split(\"\\n\")\n",
    "    r = 0\n",
    "    for e in n:\n",
    "        c = [f.split() for f in e.split(\":\")[1].split(\"|\")]\n",
    "        c = [1 for e in c[0] if e in c[1]]\n",
    "        if sum(c) > 0:\n",
    "            r += 2 ** (sum(c) - 1)\n",
    "    return r"
   ]
  },
  {
   "cell_type": "code",
   "execution_count": 23,
   "id": "60f0f8cd-81c5-402e-b80c-162fa3fb8ce2",
   "metadata": {},
   "outputs": [],
   "source": [
    "assert cards_worth(testdata) == 13"
   ]
  },
  {
   "cell_type": "code",
   "execution_count": 24,
   "id": "a9e65348-bf6c-4202-86a8-b5fb79fa08c5",
   "metadata": {},
   "outputs": [
    {
     "name": "stdout",
     "output_type": "stream",
     "text": [
      "CPU times: user 0 ns, sys: 2.45 ms, total: 2.45 ms\n",
      "Wall time: 1.82 ms\n"
     ]
    },
    {
     "data": {
      "text/plain": [
       "17803"
      ]
     },
     "execution_count": 24,
     "metadata": {},
     "output_type": "execute_result"
    }
   ],
   "source": [
    "%time cards_worth(Input('04').read())"
   ]
  },
  {
   "cell_type": "markdown",
   "id": "088df69d-b9ca-4755-b066-374940ada798",
   "metadata": {},
   "source": [
    "### Part 2"
   ]
  },
  {
   "cell_type": "code",
   "execution_count": 25,
   "id": "4fdb51bc-3526-4ca8-8ec0-bde85a779720",
   "metadata": {},
   "outputs": [],
   "source": [
    "def number_of_cards(n):\n",
    "    n = [[f.split() for f in e.split(\":\")[1].split(\"|\")] for e in n.strip().split(\"\\n\")] \n",
    "    m = {i: 1 for i in range(len(n))}\n",
    "    for i, e in enumerate(n):\n",
    "        \n",
    "        c = [1 for f in e[0] if f in e[1]]\n",
    "        for j in range(1, sum(c) + 1):\n",
    "            m[i + j] = m[i + j] + m[i]\n",
    "    return sum(m.values())"
   ]
  },
  {
   "cell_type": "code",
   "execution_count": 26,
   "id": "5626e110-85e8-4c92-af74-33a76a4ffdf0",
   "metadata": {},
   "outputs": [],
   "source": [
    "assert number_of_cards(testdata) == 30"
   ]
  },
  {
   "cell_type": "code",
   "execution_count": 27,
   "id": "647c835d-8e49-4763-8c32-6f604be53014",
   "metadata": {},
   "outputs": [
    {
     "data": {
      "text/plain": [
       "30"
      ]
     },
     "execution_count": 27,
     "metadata": {},
     "output_type": "execute_result"
    }
   ],
   "source": [
    "number_of_cards(testdata)"
   ]
  },
  {
   "cell_type": "code",
   "execution_count": 28,
   "id": "538a5db3-8199-4297-951b-3474dfda15a7",
   "metadata": {},
   "outputs": [
    {
     "name": "stdout",
     "output_type": "stream",
     "text": [
      "CPU times: user 2.21 ms, sys: 0 ns, total: 2.21 ms\n",
      "Wall time: 1.86 ms\n"
     ]
    },
    {
     "data": {
      "text/plain": [
       "5554894"
      ]
     },
     "execution_count": 28,
     "metadata": {},
     "output_type": "execute_result"
    }
   ],
   "source": [
    "%time number_of_cards(Input('04').read())"
   ]
  },
  {
   "cell_type": "markdown",
   "id": "183ab89e-3452-4739-bf18-3ace440bf5b0",
   "metadata": {},
   "source": [
    "## [Day 5: If You Give A Seed A Fertilizer](https://adventofcode.com/2023/day/5)"
   ]
  },
  {
   "cell_type": "markdown",
   "id": "5e2674d7-ab5b-4e23-bdb0-d21d03013c24",
   "metadata": {},
   "source": [
    "### Part 1"
   ]
  },
  {
   "cell_type": "code",
   "execution_count": 330,
   "id": "e47f8995-8538-4eac-a581-08a873408cf6",
   "metadata": {},
   "outputs": [],
   "source": [
    "testdata = Testdata('07').read()"
   ]
  },
  {
   "cell_type": "code",
   "execution_count": 292,
   "id": "292e446e-bf3a-4d64-9df9-f2f8944f2c32",
   "metadata": {},
   "outputs": [],
   "source": [
    "def parse_data(n):\n",
    "    d = {}\n",
    "    for e in n.strip().split(\"\\n\\n\"):\n",
    "        if e.startswith(\"seeds\"):\n",
    "            d[\"seeds\"] = [int(f) for f in re.findall(r'(\\d+)', e)]\n",
    "        else:\n",
    "            e = e.split(\"\\n\")\n",
    "            name = e[0][:len(e[0]) - 5]\n",
    "            t = []\n",
    "            for f in e[1:]:\n",
    "                t.append([int(g) for g in f.split()])\n",
    "            d[name] = t\n",
    "    return d  \n",
    "\n",
    "def solution(n, steps = None):\n",
    "    if steps == None:\n",
    "        steps = ['seed-to-soil', 'soil-to-fertilizer', 'fertilizer-to-water', 'water-to-light', 'light-to-temperature', 'temperature-to-humidity','humidity-to-location']\n",
    "    d = parse_data(n)\n",
    "    locs = []\n",
    "    for seed in d['seeds']:\n",
    "        # print(\"-\"*30)\n",
    "        loc = seed\n",
    "        for step in steps:\n",
    "            for lst in d[step]:\n",
    "                if loc in range(lst[1], lst[1] + lst[2]):\n",
    "                    loc = lst[0] + loc - lst[1]\n",
    "                    # print(\"D\", step, d[step], loc)\n",
    "                    break\n",
    "        locs.append(loc)\n",
    "    return locs"
   ]
  },
  {
   "cell_type": "code",
   "execution_count": 31,
   "id": "c0ef8472-8df4-449d-a265-ec9cff413b0a",
   "metadata": {},
   "outputs": [
    {
     "name": "stdout",
     "output_type": "stream",
     "text": [
      "CPU times: user 111 µs, sys: 25 µs, total: 136 µs\n",
      "Wall time: 140 µs\n"
     ]
    }
   ],
   "source": [
    "%time assert min(solution(testdata)) == 35"
   ]
  },
  {
   "cell_type": "code",
   "execution_count": 32,
   "id": "4ec74719-97af-435c-834d-c7646b7b1afd",
   "metadata": {},
   "outputs": [
    {
     "name": "stdout",
     "output_type": "stream",
     "text": [
      "CPU times: user 1.95 ms, sys: 0 ns, total: 1.95 ms\n",
      "Wall time: 1.36 ms\n"
     ]
    },
    {
     "data": {
      "text/plain": [
       "51752125"
      ]
     },
     "execution_count": 32,
     "metadata": {},
     "output_type": "execute_result"
    }
   ],
   "source": [
    "%time min(solution(Input('05').read()))"
   ]
  },
  {
   "cell_type": "markdown",
   "id": "af8752b1-b35c-4454-bc99-4fd1ad68176a",
   "metadata": {},
   "source": [
    "### Part 2"
   ]
  },
  {
   "cell_type": "code",
   "execution_count": 358,
   "id": "5fb52a81-910f-43f3-8f8a-bcaeb5be1f1d",
   "metadata": {},
   "outputs": [],
   "source": []
  },
  {
   "cell_type": "code",
   "execution_count": 179,
   "id": "256e8eae-ff32-4c56-bef1-89a9183b6ba3",
   "metadata": {},
   "outputs": [
    {
     "name": "stdout",
     "output_type": "stream",
     "text": [
      "CPU times: user 151 µs, sys: 50 µs, total: 201 µs\n",
      "Wall time: 203 µs\n"
     ]
    }
   ],
   "source": [
    "%time assert solution(testdata) == 46"
   ]
  },
  {
   "cell_type": "code",
   "execution_count": 359,
   "id": "f9e98f12-e667-4c93-b7be-590f87b799e4",
   "metadata": {},
   "outputs": [
    {
     "name": "stdout",
     "output_type": "stream",
     "text": [
      "(79, 93)\n",
      "(55, 68)\n"
     ]
    }
   ],
   "source": [
    "solution(testdata)"
   ]
  },
  {
   "cell_type": "markdown",
   "id": "599d110b-471d-43e3-b063-fe350d950caf",
   "metadata": {},
   "source": [
    "## [Day 6: Wait For It](https://adventofcode.com/2023/day/6)"
   ]
  },
  {
   "cell_type": "markdown",
   "id": "99e50b1b-bb24-4f49-beff-e3c4242c7a21",
   "metadata": {},
   "source": [
    "### Part 1"
   ]
  },
  {
   "cell_type": "code",
   "execution_count": 239,
   "id": "16327465-2a24-409f-a176-3eae7945a82a",
   "metadata": {},
   "outputs": [],
   "source": [
    "def speed(n):\n",
    "    return n\n",
    "\n",
    "def distance(m, n=None):\n",
    "    if n == None:\n",
    "        return [(i, (m - i) * speed(i)) for i in range(1, m)]\n",
    "    else:\n",
    "        return [(i, (m - i) * speed(i)) for i in range(1, m) if (m - i) * speed(i) > n]\n",
    "\n",
    "def score(n):\n",
    "    return math.prod([len(distance(e[0], e[1])) for e in zip(*n)])"
   ]
  },
  {
   "cell_type": "code",
   "execution_count": 240,
   "id": "c5d293a4-6f66-4d40-83ce-c7c6aa06f898",
   "metadata": {},
   "outputs": [],
   "source": [
    "testdata = [[7, 15, 30], [9, 40, 200]]\n",
    "\n",
    "assert score(testdata) == 288 "
   ]
  },
  {
   "cell_type": "code",
   "execution_count": 241,
   "id": "cd709f8c-d377-4f55-954c-6d77d2bad687",
   "metadata": {},
   "outputs": [
    {
     "name": "stdout",
     "output_type": "stream",
     "text": [
      "CPU times: user 42 µs, sys: 10 µs, total: 52 µs\n",
      "Wall time: 53.6 µs\n"
     ]
    },
    {
     "data": {
      "text/plain": [
       "1159152"
      ]
     },
     "execution_count": 241,
     "metadata": {},
     "output_type": "execute_result"
    }
   ],
   "source": [
    "day6 = [58, 81, 96, 76], [434, 1041, 2219, 1218]\n",
    "\n",
    "%time score(day6)"
   ]
  },
  {
   "cell_type": "markdown",
   "id": "ce5c3157-f501-4863-8837-e8221882ab58",
   "metadata": {},
   "source": [
    "### Part 2"
   ]
  },
  {
   "cell_type": "code",
   "execution_count": 232,
   "id": "6ca77a1a-3f68-4e8d-995c-fe1c22b39492",
   "metadata": {},
   "outputs": [],
   "source": [
    "day6 = [58819676, 434104122191218]"
   ]
  },
  {
   "cell_type": "code",
   "execution_count": 242,
   "id": "869e8ce3-6aa1-45e6-a60c-5d0f49742b10",
   "metadata": {},
   "outputs": [],
   "source": [
    "def score(m, n=None):\n",
    "    sc = 0\n",
    "    for i in range(1, m):\n",
    "        dist = (m - i) * speed(i)\n",
    "        if dist > n:\n",
    "            sc += 1\n",
    "    return sc\n"
   ]
  },
  {
   "cell_type": "code",
   "execution_count": 244,
   "id": "5a932d37-5ed5-4fa2-bd3e-a0c363a95ce4",
   "metadata": {},
   "outputs": [],
   "source": [
    "assert score(71530, 940200) == 71503"
   ]
  },
  {
   "cell_type": "code",
   "execution_count": 245,
   "id": "6b56744f-19c3-4bb8-ac77-e18bfe5af86c",
   "metadata": {},
   "outputs": [
    {
     "name": "stdout",
     "output_type": "stream",
     "text": [
      "CPU times: user 5.84 s, sys: 0 ns, total: 5.84 s\n",
      "Wall time: 5.84 s\n"
     ]
    },
    {
     "data": {
      "text/plain": [
       "41513103"
      ]
     },
     "execution_count": 245,
     "metadata": {},
     "output_type": "execute_result"
    }
   ],
   "source": [
    "%time score(58819676, 434104122191218)"
   ]
  },
  {
   "cell_type": "code",
   "execution_count": 261,
   "id": "28ec4ae7-b902-4150-9a7c-fcd17430eb73",
   "metadata": {},
   "outputs": [
    {
     "name": "stdout",
     "output_type": "stream",
     "text": [
      "CPU times: user 6 µs, sys: 0 ns, total: 6 µs\n",
      "Wall time: 11.2 µs\n"
     ]
    },
    {
     "data": {
      "text/plain": [
       "41513103"
      ]
     },
     "execution_count": 261,
     "metadata": {},
     "output_type": "execute_result"
    }
   ],
   "source": [
    "%time \n",
    "\n",
    "t = findroots(1, -58819676, 434104122191218)\n",
    "int(t[0] - t[1])"
   ]
  },
  {
   "cell_type": "markdown",
   "id": "97ef38ae-21dc-4096-a408-92dee305abf4",
   "metadata": {},
   "source": [
    "## [Day 7: Camel Cards](https://adventofcode.com/2023/day/7)"
   ]
  },
  {
   "cell_type": "markdown",
   "id": "d71c9802-e086-4cfd-bf56-cf67ea3a030c",
   "metadata": {},
   "source": [
    "### Part 1"
   ]
  },
  {
   "cell_type": "code",
   "execution_count": null,
   "id": "bbe68bed-1de6-40ef-ba73-4495d6cb00aa",
   "metadata": {},
   "outputs": [],
   "source": [
    "Five of a kind, where all five cards have the same label: AAAAA\n",
    "Four of a kind, where four cards have the same label and one card has a different label: AA8AA\n",
    "Full house, where three cards have the same label, and the remaining two cards share a different label: 23332\n",
    "Three of a kind, where three cards have the same label, and the remaining two cards are each different from any other card in the hand: TTT98\n",
    "Two pair, where two cards share one label, two other cards share a second label, and the remaining card has a third label: 23432\n",
    "One pair, where two cards share one label, and the other three cards have a different label from the pair and each other: A23A4\n",
    "High card, whe"
   ]
  },
  {
   "cell_type": "code",
   "execution_count": 436,
   "id": "490cb4b4-2834-4119-9bf8-6b2c36a1ecbc",
   "metadata": {},
   "outputs": [],
   "source": [
    "def handrankings(n):\n",
    "    ranks = {'2': '01', '3': '02', '4': '03', '5': '04', '6': '05', '7': '06', '8': '07', '9': '08', 'T': '09', 'J': '10', 'Q': '11', 'K':'12', 'A': '13'}\n",
    "    hands = []\n",
    "    for hand, score in n:\n",
    "        f = [hand.count(cards) for cards in hand]\n",
    "        if 5 in [hand.count(cards) for cards in hand]:\n",
    "            str = \"70\"\n",
    "        elif 4 in [hand.count(cards) for cards in hand]:\n",
    "            str = \"60\"\n",
    "        elif 3 in [hand.count(cards) for cards in hand]:\n",
    "            if 2 in [hand.count(cards) for cards in hand]:\n",
    "                str = \"50\"\n",
    "            else:\n",
    "                str = \"40\"\n",
    "        elif 2 in [hand.count(cards) for cards in hand]:\n",
    "            if sum([hand.count(cards) for cards in hand]) == 9:\n",
    "                str = \"30\"\n",
    "            else:\n",
    "                str = \"20\"\n",
    "        else:\n",
    "            str = \"10\"\n",
    "        str = str + ''.join([ranks[card] for card in hand])\n",
    "        hands.append([int(str), score, hand, f])\n",
    "    return sorted(hands)\n",
    "    "
   ]
  },
  {
   "cell_type": "code",
   "execution_count": 376,
   "id": "6a9215f2-0dba-49e8-b260-c04df1fe757b",
   "metadata": {},
   "outputs": [],
   "source": [
    "testdata = \"32T3K 765\\nT55J5 684\\nKK677 28\\nKTJJT 220\\nQQQJA 483\"\n",
    "testdata = [e.split() for e in testdata.split(\"\\n\")]"
   ]
  },
  {
   "cell_type": "code",
   "execution_count": 433,
   "id": "554aafde-1ad7-48d8-9c09-bd15c23e6b16",
   "metadata": {},
   "outputs": [],
   "source": [
    "assert sum([(i + 1) * int(e[1]) for i, e in enumerate(handrankings(testdata))])==6440"
   ]
  },
  {
   "cell_type": "code",
   "execution_count": 438,
   "id": "5360ffbf-ff67-472a-91ed-ae971012d47b",
   "metadata": {},
   "outputs": [
    {
     "name": "stdout",
     "output_type": "stream",
     "text": [
      "CPU times: user 25.5 ms, sys: 3.66 ms, total: 29.2 ms\n",
      "Wall time: 27.1 ms\n"
     ]
    },
    {
     "data": {
      "text/plain": [
       "251806792"
      ]
     },
     "execution_count": 438,
     "metadata": {},
     "output_type": "execute_result"
    }
   ],
   "source": [
    "input = [e.split() for e in parse('07')]\n",
    "%time sum([(i + 1) * int(e[1]) for i, e in enumerate(handrankings(input))])"
   ]
  },
  {
   "cell_type": "markdown",
   "id": "3f70ac2b-91eb-4fd2-96ff-6356dba44e4b",
   "metadata": {},
   "source": [
    "### Part 2"
   ]
  },
  {
   "cell_type": "code",
   "execution_count": 550,
   "id": "e07ad895-9c42-4f87-a67e-255d67246f63",
   "metadata": {},
   "outputs": [],
   "source": [
    "def translatehand(m, n=\"J\"):\n",
    "    ranks = {'2': '01', '3': '02', '4': '03', '5': '04', '6': '05', '7': '06', '8': '07', '9': '08', 'T': '09', 'J': '00', 'Q': '11', 'K':'12', 'A': '13'}\n",
    "    c = m.count(n)\n",
    "    g = [m.count(e) for e in m]\n",
    "    k = [int(ranks[e]) for e in m]\n",
    "    if c == 5:\n",
    "        m = \"AAAAA\"\n",
    "    if c == 4 or c == 3:\n",
    "        m = m.replace(n, m[k.index(max(k))])\n",
    "    if c == 2:\n",
    "        if g.count(2) == 4:\n",
    "            m = m.replace(n, [e for e, f in zip(m, g) if e != \"J\" and f ==2][0])\n",
    "        else:\n",
    "            m = m.replace(n, m[k.index(max(k))])\n",
    "    if c == 1:\n",
    "        if max(g) > 1:\n",
    "            m = m.replace(n, m[g.index(max(g))])\n",
    "        else:\n",
    "            m = m.replace(n, m[k.index(max(k))])\n",
    "            \n",
    "    return m\n",
    "\n",
    "def handrankings(n):\n",
    "    ranks = {'2': '01', '3': '02', '4': '03', '5': '04', '6': '05', '7': '06', '8': '07', '9': '08', 'T': '09', 'J': '00', 'Q': '11', 'K':'12', 'A': '13'}\n",
    "    hands = []\n",
    "    for hand, score in n:\n",
    "        oldhand = hand\n",
    "        oldstr = ''.join([ranks[card] for card in hand])\n",
    "        hand = translatehand(hand)\n",
    "        f = [hand.count(cards) for cards in hand]\n",
    "        if 5 in [hand.count(cards) for cards in hand]:\n",
    "            str = \"70\"\n",
    "        elif 4 in [hand.count(cards) for cards in hand]:\n",
    "            str = \"60\"\n",
    "        elif 3 in [hand.count(cards) for cards in hand]:\n",
    "            if 2 in [hand.count(cards) for cards in hand]:\n",
    "                str = \"50\"\n",
    "            else:\n",
    "                str = \"40\"\n",
    "        elif 2 in [hand.count(cards) for cards in hand]:\n",
    "            if sum([hand.count(cards) for cards in hand]) == 9:\n",
    "                str = \"30\"\n",
    "            else:\n",
    "                str = \"20\"\n",
    "        else:\n",
    "            str = \"10\"\n",
    "        str = str + ''.join([ranks[card] for card in hand]) + oldstr\n",
    "        hands.append([int(str), score, hand, f, oldhand])\n",
    "    return sorted(hands)"
   ]
  },
  {
   "cell_type": "code",
   "execution_count": 554,
   "id": "b50d7aec-db68-42e3-b494-27810c9f4e28",
   "metadata": {},
   "outputs": [],
   "source": [
    "assert sum([(i + 1) * int(e[1]) for i, e in enumerate(handrankings(testdata))]) == 5905"
   ]
  },
  {
   "cell_type": "code",
   "execution_count": 555,
   "id": "65259a0d-d1d4-4222-bcd7-be609544d2ad",
   "metadata": {
    "scrolled": true
   },
   "outputs": [
    {
     "data": {
      "text/plain": [
       "252289734"
      ]
     },
     "execution_count": 555,
     "metadata": {},
     "output_type": "execute_result"
    }
   ],
   "source": [
    "sum([(i + 1) * int(e[1]) for i, e in enumerate(handrankings(input))])"
   ]
  },
  {
   "cell_type": "code",
   "execution_count": 556,
   "id": "595e8c41-a77d-46e5-9a48-c312e95026f6",
   "metadata": {},
   "outputs": [
    {
     "data": {
      "text/plain": [
       "[[1001031202130103120213, '186', '24K3A', [1, 1, 1, 1, 1], '24K3A'],\n",
       " [1001041113060104111306, '602', '25QA7', [1, 1, 1, 1, 1], '25QA7'],\n",
       " [1001050908060105090806, '36', '26T97', [1, 1, 1, 1, 1], '26T97'],\n",
       " [1001060503070106050307, '18', '27648', [1, 1, 1, 1, 1], '27648'],\n",
       " [1001071303110107130311, '714', '28A4Q', [1, 1, 1, 1, 1], '28A4Q'],\n",
       " [1001071305090107130509, '887', '28A6T', [1, 1, 1, 1, 1], '28A6T'],\n",
       " [1001080504090108050409, '872', '2965T', [1, 1, 1, 1, 1], '2965T'],\n",
       " [1001090206040109020604, '903', '2T375', [1, 1, 1, 1, 1], '2T375'],\n",
       " [1001120502060112050206, '46', '2K637', [1, 1, 1, 1, 1], '2K637'],\n",
       " [1002010513060201051306, '546', '326A7', [1, 1, 1, 1, 1], '326A7'],\n",
       " [1002010703040201070304, '457', '32845', [1, 1, 1, 1, 1], '32845'],\n",
       " [1002010912060201091206, '253', '32TK7', [1, 1, 1, 1, 1], '32TK7'],\n",
       " [1002031207130203120713, '748', '34K8A', [1, 1, 1, 1, 1], '34K8A'],\n",
       " [1002060301090206030109, '660', '3742T', [1, 1, 1, 1, 1], '3742T'],\n",
       " [1002060311120206031112, '918', '374QK', [1, 1, 1, 1, 1], '374QK'],\n",
       " [1002090608010209060801, '79', '3T792', [1, 1, 1, 1, 1], '3T792'],\n",
       " [1002130406120213040612, '686', '3A57K', [1, 1, 1, 1, 1], '3A57K'],\n",
       " [1003061312050306131205, '811', '47AK6', [1, 1, 1, 1, 1], '47AK6'],\n",
       " [1003061312080306131208, '683', '47AK9', [1, 1, 1, 1, 1], '47AK9'],\n",
       " [1003070106090307010609, '133', '4827T', [1, 1, 1, 1, 1], '4827T'],\n",
       " [1003070502010307050201, '16', '48632', [1, 1, 1, 1, 1], '48632'],\n",
       " [1003080502010308050201, '256', '49632', [1, 1, 1, 1, 1], '49632'],\n",
       " [1003081211060308121106, '757', '49KQ7', [1, 1, 1, 1, 1], '49KQ7'],\n",
       " [1003111307080311130708, '990', '4QA89', [1, 1, 1, 1, 1], '4QA89'],\n",
       " [1003120511090312051109, '805', '4K6QT', [1, 1, 1, 1, 1], '4K6QT'],\n",
       " [1004011205070401120507, '750', '52K68', [1, 1, 1, 1, 1], '52K68'],\n",
       " [1004080306020408030602, '57', '59473', [1, 1, 1, 1, 1], '59473'],\n",
       " [1004080701050408070105, '120', '59826', [1, 1, 1, 1, 1], '59826'],\n",
       " [1004090507030409050703, '594', '5T684', [1, 1, 1, 1, 1], '5T684'],\n",
       " [1004090712010409071201, '370', '5T8K2', [1, 1, 1, 1, 1], '5T8K2'],\n",
       " [1004110807130411080713, '157', '5Q98A', [1, 1, 1, 1, 1], '5Q98A'],\n",
       " [1004111208070411120807, '39', '5QK98', [1, 1, 1, 1, 1], '5QK98'],\n",
       " [1004120208130412020813, '169', '5K39A', [1, 1, 1, 1, 1], '5K39A'],\n",
       " [1004130812050413081205, '123', '5A9K6', [1, 1, 1, 1, 1], '5A9K6'],\n",
       " [1004131112070413111207, '973', '5AQK8', [1, 1, 1, 1, 1], '5AQK8'],\n",
       " [1005010204080501020408, '179', '62359', [1, 1, 1, 1, 1], '62359'],\n",
       " [1005010204130501020413, '193', '6235A', [1, 1, 1, 1, 1], '6235A'],\n",
       " [1005010611070501061107, '917', '627Q8', [1, 1, 1, 1, 1], '627Q8'],\n",
       " [1005011208060501120806, '760', '62K97', [1, 1, 1, 1, 1], '62K97'],\n",
       " [1005011304120501130412, '326', '62A5K', [1, 1, 1, 1, 1], '62A5K'],\n",
       " [1005020913040502091304, '645', '63TA5', [1, 1, 1, 1, 1], '63TA5'],\n",
       " [1005030206080503020608, '383', '64379', [1, 1, 1, 1, 1], '64379'],\n",
       " [1005040913070504091307, '421', '65TA8', [1, 1, 1, 1, 1], '65TA8'],\n",
       " [1005041306070504130607, '831', '65A78', [1, 1, 1, 1, 1], '65A78'],\n",
       " [1005061304090506130409, '248', '67A5T', [1, 1, 1, 1, 1], '67A5T'],\n",
       " [1005070903060507090306, '567', '68T47', [1, 1, 1, 1, 1], '68T47'],\n",
       " [1005090204080509020408, '466', '6T359', [1, 1, 1, 1, 1], '6T359'],\n",
       " [1005130403010513040301, '889', '6A542', [1, 1, 1, 1, 1], '6A542'],\n",
       " [1005131209040513120904, '294', '6AKT5', [1, 1, 1, 1, 1], '6AKT5'],\n",
       " [1006011304080601130408, '205', '72A59', [1, 1, 1, 1, 1], '72A59'],\n",
       " [1006031105130603110513, '221', '74Q6A', [1, 1, 1, 1, 1], '74Q6A'],\n",
       " [1006050712020605071202, '488', '768K3', [1, 1, 1, 1, 1], '768K3'],\n",
       " [1006090108070609010807, '170', '7T298', [1, 1, 1, 1, 1], '7T298'],\n",
       " [1006120307040612030704, '648', '7K485', [1, 1, 1, 1, 1], '7K485'],\n",
       " [1006130504010613050401, '25', '7A652', [1, 1, 1, 1, 1], '7A652'],\n",
       " [1006130508090613050809, '746', '7A69T', [1, 1, 1, 1, 1], '7A69T'],\n",
       " [1007010613040701061304, '614', '827A5', [1, 1, 1, 1, 1], '827A5'],\n",
       " [1007020905010702090501, '712', '83T62', [1, 1, 1, 1, 1], '83T62'],\n",
       " [1007030112020703011202, '596', '842K3', [1, 1, 1, 1, 1], '842K3'],\n",
       " [1007050201120705020112, '452', '8632K', [1, 1, 1, 1, 1], '8632K'],\n",
       " [1007050613020705061302, '117', '867A3', [1, 1, 1, 1, 1], '867A3'],\n",
       " [1007051203010705120301, '215', '86K42', [1, 1, 1, 1, 1], '86K42'],\n",
       " [1007060801020706080102, '497', '87923', [1, 1, 1, 1, 1], '87923'],\n",
       " [1007061103010706110301, '527', '87Q42', [1, 1, 1, 1, 1], '87Q42'],\n",
       " [1007080201120708020112, '222', '8932K', [1, 1, 1, 1, 1], '8932K'],\n",
       " [1007090511060709051106, '434', '8T6Q7', [1, 1, 1, 1, 1], '8T6Q7'],\n",
       " [1008010312130801031213, '292', '924KA', [1, 1, 1, 1, 1], '924KA'],\n",
       " [1008020401030802040103, '956', '93524', [1, 1, 1, 1, 1], '93524'],\n",
       " [1008051209010805120901, '109', '96KT2', [1, 1, 1, 1, 1], '96KT2'],\n",
       " [1008061104130806110413, '178', '97Q5A', [1, 1, 1, 1, 1], '97Q5A'],\n",
       " [1008070403120807040312, '20', '9854K', [1, 1, 1, 1, 1], '9854K'],\n",
       " [1008071213010807121301, '372', '98KA2', [1, 1, 1, 1, 1], '98KA2'],\n",
       " [1008110401030811040103, '166', '9Q524', [1, 1, 1, 1, 1], '9Q524'],\n",
       " [1008110504120811050412, '532', '9Q65K', [1, 1, 1, 1, 1], '9Q65K'],\n",
       " [1008120604130812060413, '873', '9K75A', [1, 1, 1, 1, 1], '9K75A'],\n",
       " [1008121103020812110302, '477', '9KQ43', [1, 1, 1, 1, 1], '9KQ43'],\n",
       " [1008130203110813020311, '382', '9A34Q', [1, 1, 1, 1, 1], '9A34Q'],\n",
       " [1008131211090813121109, '451', '9AKQT', [1, 1, 1, 1, 1], '9AKQT'],\n",
       " [1009010802110901080211, '796', 'T293Q', [1, 1, 1, 1, 1], 'T293Q'],\n",
       " [1009030208120903020812, '272', 'T439K', [1, 1, 1, 1, 1], 'T439K'],\n",
       " [1009040501070904050107, '151', 'T5628', [1, 1, 1, 1, 1], 'T5628'],\n",
       " [1009040608130904060813, '317', 'T579A', [1, 1, 1, 1, 1], 'T579A'],\n",
       " [1009040712130904071213, '73', 'T58KA', [1, 1, 1, 1, 1], 'T58KA'],\n",
       " [1009040813110904081311, '136', 'T59AQ', [1, 1, 1, 1, 1], 'T59AQ'],\n",
       " [1009050104020905010402, '768', 'T6253', [1, 1, 1, 1, 1], 'T6253'],\n",
       " [1009050407060905040706, '612', 'T6587', [1, 1, 1, 1, 1], 'T6587'],\n",
       " [1009060704120906070412, '865', 'T785K', [1, 1, 1, 1, 1], 'T785K'],\n",
       " [1009060811070906081107, '208', 'T79Q8', [1, 1, 1, 1, 1], 'T79Q8'],\n",
       " [1009070302120907030212, '600', 'T843K', [1, 1, 1, 1, 1], 'T843K'],\n",
       " [1009071302050907130205, '237', 'T8A36', [1, 1, 1, 1, 1], 'T8A36'],\n",
       " [1009080102120908010212, '512', 'T923K', [1, 1, 1, 1, 1], 'T923K'],\n",
       " [1009080602050908060205, '121', 'T9736', [1, 1, 1, 1, 1], 'T9736'],\n",
       " [1009111207040911120704, '316', 'TQK85', [1, 1, 1, 1, 1], 'TQK85'],\n",
       " [1009121311040912131104, '819', 'TKAQ5', [1, 1, 1, 1, 1], 'TKAQ5'],\n",
       " [1009130403080913040308, '155', 'TA549', [1, 1, 1, 1, 1], 'TA549'],\n",
       " [1009130612030913061203, '364', 'TA7K4', [1, 1, 1, 1, 1], 'TA7K4'],\n",
       " [1011020408091102040809, '436', 'Q359T', [1, 1, 1, 1, 1], 'Q359T'],\n",
       " [1011020504091102050409, '462', 'Q365T', [1, 1, 1, 1, 1], 'Q365T'],\n",
       " [1011030105041103010504, '146', 'Q4265', [1, 1, 1, 1, 1], 'Q4265'],\n",
       " [1011030612071103061207, '624', 'Q47K8', [1, 1, 1, 1, 1], 'Q47K8'],\n",
       " [1011040903051104090305, '440', 'Q5T46', [1, 1, 1, 1, 1], 'Q5T46'],\n",
       " [1011050703081105070308, '571', 'Q6849', [1, 1, 1, 1, 1], 'Q6849'],\n",
       " [1011080913051108091305, '291', 'Q9TA6', [1, 1, 1, 1, 1], 'Q9TA6'],\n",
       " [1011090208071109020807, '866', 'QT398', [1, 1, 1, 1, 1], 'QT398'],\n",
       " [1011090708131109070813, '713', 'QT89A', [1, 1, 1, 1, 1], 'QT89A'],\n",
       " [1011090805061109080506, '493', 'QT967', [1, 1, 1, 1, 1], 'QT967'],\n",
       " [1011120703081112070308, '793', 'QK849', [1, 1, 1, 1, 1], 'QK849'],\n",
       " [1011130312081113031208, '622', 'QA4K9', [1, 1, 1, 1, 1], 'QA4K9'],\n",
       " [1012010603091201060309, '671', 'K274T', [1, 1, 1, 1, 1], 'K274T'],\n",
       " [1012011113081201111308, '902', 'K2QA9', [1, 1, 1, 1, 1], 'K2QA9'],\n",
       " [1012020911031202091103, '581', 'K3TQ4', [1, 1, 1, 1, 1], 'K3TQ4'],\n",
       " [1012030807011203080701, '279', 'K4982', [1, 1, 1, 1, 1], 'K4982'],\n",
       " [1012030901071203090107, '141', 'K4T28', [1, 1, 1, 1, 1], 'K4T28'],\n",
       " [1012051103081205110308, '268', 'K6Q49', [1, 1, 1, 1, 1], 'K6Q49'],\n",
       " [1012070513031207051303, '373', 'K86A4', [1, 1, 1, 1, 1], 'K86A4'],\n",
       " [1012130603111213060311, '687', 'KA74Q', [1, 1, 1, 1, 1], 'KA74Q'],\n",
       " [1013010409031301040903, '880', 'A25T4', [1, 1, 1, 1, 1], 'A25T4'],\n",
       " [1013010511061301051106, '666', 'A26Q7', [1, 1, 1, 1, 1], 'A26Q7'],\n",
       " [1013021207051302120705, '259', 'A3K86', [1, 1, 1, 1, 1], 'A3K86'],\n",
       " [1013030908111303090811, '692', 'A4T9Q', [1, 1, 1, 1, 1], 'A4T9Q'],\n",
       " [1013040102071304010207, '754', 'A5238', [1, 1, 1, 1, 1], 'A5238'],\n",
       " [1013040809051304080905, '707', 'A59T6', [1, 1, 1, 1, 1], 'A59T6'],\n",
       " [1013050806011305080601, '841', 'A6972', [1, 1, 1, 1, 1], 'A6972'],\n",
       " [1013060112111306011211, '799', 'A72KQ', [1, 1, 1, 1, 1], 'A72KQ'],\n",
       " [1013060705111306070511, '897', 'A786Q', [1, 1, 1, 1, 1], 'A786Q'],\n",
       " [1013060911081306091108, '965', 'A7TQ9', [1, 1, 1, 1, 1], 'A7TQ9'],\n",
       " [1013080502061308050206, '815', 'A9637', [1, 1, 1, 1, 1], 'A9637'],\n",
       " [1013090108051309010805, '31', 'AT296', [1, 1, 1, 1, 1], 'AT296'],\n",
       " [1013110212081311021208, '752', 'AQ3K9', [1, 1, 1, 1, 1], 'AQ3K9'],\n",
       " [2001010803040101080304, '606', '22945', [2, 2, 1, 1, 1], '22945'],\n",
       " [2001010906120101090612, '485', '22T7K', [2, 2, 1, 1, 1], '22T7K'],\n",
       " [2001011106030101110603, '868', '22Q74', [2, 2, 1, 1, 1], '22Q74'],\n",
       " [2001031107110103000711, '520', '24Q8Q', [1, 1, 2, 1, 2], '24J8Q'],\n",
       " [2001040403110104040311, '500', '2554Q', [1, 2, 2, 1, 1], '2554Q'],\n",
       " [2001050704010105070401, '914', '26852', [2, 1, 1, 1, 2], '26852'],\n",
       " [2001051313120105131312, '579', '26AAK', [1, 1, 2, 2, 1], '26AAK'],\n",
       " [2001060207070106020700, '229', '27388', [1, 1, 1, 2, 2], '2738J'],\n",
       " [2001080812050108081205, '389', '299K6', [1, 2, 2, 1, 1], '299K6'],\n",
       " [2001080908110108090811, '458', '29T9Q', [1, 2, 1, 2, 1], '29T9Q'],\n",
       " [2001090902080109090208, '160', '2TT39', [1, 2, 2, 1, 1], '2TT39'],\n",
       " [2001111201070111120107, '445', '2QK28', [2, 1, 1, 2, 1], '2QK28'],\n",
       " [2001120206010112020601, '132', '2K372', [2, 1, 1, 1, 2], '2K372'],\n",
       " [2001130112070113011207, '112', '2A2K8', [2, 1, 2, 1, 1], '2A2K8'],\n",
       " [2001130212010113021201, '419', '2A3K2', [2, 1, 1, 1, 2], '2A3K2'],\n",
       " [2002010711010201071101, '77', '328Q2', [1, 2, 1, 1, 2], '328Q2'],\n",
       " [2002020408010202040801, '56', '33592', [2, 2, 1, 1, 1], '33592'],\n",
       " [2002020506130202050613, '781', '3367A', [2, 2, 1, 1, 1], '3367A'],\n",
       " [2002021213070202121307, '723', '33KA8', [2, 2, 1, 1, 1], '33KA8'],\n",
       " [2002040706070204070600, '728', '35878', [1, 1, 2, 1, 2], '3587J'],\n",
       " [2002041108040204110804, '625', '35Q95', [1, 2, 1, 1, 2], '35Q95'],\n",
       " [2002050102070205010207, '770', '36238', [2, 1, 1, 2, 1], '36238'],\n",
       " [2002060205080206020508, '539', '37369', [2, 1, 2, 1, 1], '37369'],\n",
       " [2002060901090206090100, '890', '37T2T', [1, 1, 2, 1, 2], '37T2J'],\n",
       " [2002061107060206110706, '495', '37Q87', [1, 2, 1, 1, 2], '37Q87'],\n",
       " [2002070212080207021208, '826', '383K9', [2, 1, 2, 1, 1], '383K9'],\n",
       " [2002070311020207031102, '822', '384Q3', [2, 1, 1, 1, 2], '384Q3'],\n",
       " [2002070705040207000504, '767', '38865', [1, 2, 2, 1, 1], '38J65'],\n",
       " [2002080807110208080711, '76', '3998Q', [1, 2, 2, 1, 1], '3998Q'],\n",
       " [2002081111050208110005, '187', '39QQ6', [1, 1, 2, 2, 1], '39QJ6'],\n",
       " [2002090311110209031100, '48', '3T4QQ', [1, 1, 1, 2, 2], '3T4QJ'],\n",
       " [2002120605060212060506, '699', '3K767', [1, 1, 2, 1, 2], '3K767'],\n",
       " [2002121208050212000805, '729', '3KK96', [1, 2, 2, 1, 1], '3KJ96'],\n",
       " [2002130205010213020501, '295', '3A362', [2, 1, 2, 1, 1], '3A362'],\n",
       " [2002130512050213051205, '586', '3A6K6', [1, 1, 2, 1, 2], '3A6K6'],\n",
       " [2003010406060301040606, '771', '42577', [1, 1, 1, 2, 2], '42577'],\n",
       " [2003010902030301090203, '787', '42T34', [2, 1, 1, 1, 2], '42T34'],\n",
       " [2003041201120304120112, '380', '45K2K', [1, 1, 2, 1, 2], '45K2K'],\n",
       " [2003060506020306050602, '858', '47673', [1, 2, 1, 2, 1], '47673'],\n",
       " [2003061113130306110013, '24', '47QAA', [1, 1, 1, 2, 2], '47QJA'],\n",
       " [2003071201070307120107, '517', '48K28', [1, 2, 1, 1, 2], '48K28'],\n",
       " [2003071209120307000912, '849', '48KTK', [1, 1, 2, 1, 2], '48JTK'],\n",
       " [2003091311110309131111, '378', '4TAQQ', [1, 1, 1, 2, 2], '4TAQQ'],\n",
       " [2003091311130309001113, '881', '4TAQA', [1, 1, 2, 1, 2], '4TJQA'],\n",
       " [2003110404130311040413, '901', '4Q55A', [1, 1, 2, 2, 1], '4Q55A'],\n",
       " [2003110711040300071104, '936', '4Q8Q5', [1, 2, 1, 2, 1], '4J8Q5'],\n",
       " [2003110811040311081104, '182', '4Q9Q5', [1, 2, 1, 2, 1], '4Q9Q5'],\n",
       " [2003111104020311110402, '638', '4QQ53', [1, 2, 2, 1, 1], '4QQ53'],\n",
       " [2003131312040313131204, '255', '4AAK5', [1, 2, 2, 1, 1], '4AAK5'],\n",
       " [2004010901080401090108, '41', '52T29', [1, 2, 1, 2, 1], '52T29'],\n",
       " [2004020905040402090504, '562', '53T65', [2, 1, 1, 1, 2], '53T65'],\n",
       " [2004021308080402130808, '52', '53A99', [1, 1, 1, 2, 2], '53A99'],\n",
       " [2004040213070404021307, '325', '553A8', [2, 2, 1, 1, 1], '553A8'],\n",
       " [2004041209130404120913, '327', '55KTA', [2, 2, 1, 1, 1], '55KTA'],\n",
       " [2004060108060406010806, '689', '57297', [1, 2, 1, 1, 2], '57297'],\n",
       " [2004070204050407020405, '853', '58356', [2, 1, 1, 2, 1], '58356'],\n",
       " [2004070607120407060712, '659', '5878K', [1, 2, 1, 2, 1], '5878K'],\n",
       " [2004080308070408030007, '812', '59498', [1, 2, 1, 2, 1], '594J8'],\n",
       " [2004090705090409070500, '26', '5T86T', [1, 2, 1, 1, 2], '5T86J'],\n",
       " [2004090809010409080001, '590', '5T9T2', [1, 2, 1, 2, 1], '5T9J2'],\n",
       " [2004120201020412020102, '710', '5K323', [1, 1, 2, 1, 2], '5K323'],\n",
       " [2004120605120412060500, '202', '5K76K', [1, 2, 1, 1, 2], '5K76J'],\n",
       " [2004130502040413050204, '753', '5A635', [2, 1, 1, 1, 2], '5A635'],\n",
       " [2005010513060501051306, '709', '626A7', [2, 1, 2, 1, 1], '626A7'],\n",
       " [2005010808030501080003, '483', '62994', [1, 1, 2, 2, 1], '629J4'],\n",
       " [2005021103110502110300, '42', '63Q4Q', [1, 1, 2, 1, 2], '63Q4J'],\n",
       " [2005030705120503070512, '702', '6486K', [2, 1, 1, 2, 1], '6486K'],\n",
       " [2005030906090503090609, '219', '64T7T', [1, 1, 2, 1, 2], '64T7T'],\n",
       " [2005070303040507030304, '264', '68445', [1, 1, 2, 2, 1], '68445'],\n",
       " [2005071113070507111307, '174', '68QA8', [1, 2, 1, 1, 2], '68QA8'],\n",
       " [2005111301130511000113, '854', '6QA2A', [1, 1, 2, 1, 2], '6QJ2A'],\n",
       " [2005131301090513000109, '929', '6AA2T', [1, 2, 2, 1, 1], '6AJ2T'],\n",
       " [2006020302090602030209, '535', '7343T', [1, 2, 1, 2, 1], '7343T'],\n",
       " [2006021202090602120209, '999', '73K3T', [1, 2, 1, 2, 1], '73K3T'],\n",
       " [2006030102030603010203, '138', '74234', [1, 2, 1, 1, 2], '74234'],\n",
       " [2006030613080603061308, '572', '747A9', [2, 1, 2, 1, 1], '747A9'],\n",
       " [2006040512050604051205, '561', '756K6', [1, 1, 2, 1, 2], '756K6'],\n",
       " [2006040703040604070304, '946', '75845', [1, 2, 1, 1, 2], '75845'],\n",
       " [2006051307130605130700, '795', '76A8A', [1, 1, 2, 1, 2], '76A8J'],\n",
       " [2006080601090608060109, '308', '7972T', [2, 1, 2, 1, 1], '7972T'],\n",
       " [2006090911040609091104, '342', '7TTQ5', [1, 2, 2, 1, 1], '7TTQ5'],\n",
       " [2006121111030612111103, '958', '7KQQ4', [1, 1, 2, 2, 1], '7KQQ4'],\n",
       " [2006130807060613080706, '177', '7A987', [2, 1, 1, 1, 2], '7A987'],\n",
       " [2007030302110703030211, '820', '8443Q', [1, 2, 2, 1, 1], '8443Q'],\n",
       " [2007030503080703050308, '397', '84649', [1, 2, 1, 2, 1], '84649'],\n",
       " [2007060408080706040008, '551', '87599', [1, 1, 1, 2, 2], '875J9'],\n",
       " [2007070904050707090405, '667', '88T56', [2, 2, 1, 1, 1], '88T56'],\n",
       " [2007080101120708010112, '998', '8922K', [1, 1, 2, 2, 1], '8922K'],\n",
       " [2007081302070708130207, '627', '89A38', [2, 1, 1, 1, 2], '89A38'],\n",
       " [2007090704130709070413, '330', '8T85A', [2, 1, 2, 1, 1], '8T85A'],\n",
       " [2007121101070712110107, '392', '8KQ28', [2, 1, 1, 1, 2], '8KQ28'],\n",
       " [2007121307010712130701, '232', '8KA82', [2, 1, 1, 2, 1], '8KA82'],\n",
       " [2007130502020713050202, '492', '8A633', [1, 1, 1, 2, 2], '8A633'],\n",
       " [2007131309060713130906, '191', '8AAT7', [1, 2, 2, 1, 1], '8AAT7'],\n",
       " [2008010803070801000307, '465', '92948', [2, 1, 2, 1, 1], '92J48'],\n",
       " [2008011212090801001209, '296', '92KKT', [1, 1, 2, 2, 1], '92JKT'],\n",
       " [2008021204120802120400, '837', '93K5K', [1, 1, 2, 1, 2], '93K5J'],\n",
       " [2008021306130802000613, '784', '93A7A', [1, 1, 2, 1, 2], '93J7A'],\n",
       " [2008030613080803061308, '736', '947A9', [2, 1, 1, 1, 2], '947A9'],\n",
       " [2008050108030805010803, '877', '96294', [2, 1, 1, 2, 1], '96294'],\n",
       " [2008050608020005060802, '800', '96793', [2, 1, 1, 2, 1], 'J6793'],\n",
       " [2008060203080806020300, '818', '97349', [2, 1, 1, 1, 2], '9734J'],\n",
       " [2008061106130806110613, '261', '97Q7A', [1, 2, 1, 2, 1], '97Q7A'],\n",
       " [2008070202030807020203, '402', '98334', [1, 1, 2, 2, 1], '98334'],\n",
       " [2008070907060807090706, '912', '98T87', [1, 2, 1, 2, 1], '98T87'],\n",
       " [2008071111020807110002, '189', '98QQ3', [1, 1, 2, 2, 1], '98QJ3'],\n",
       " [2008080305120808030512, '690', '9946K', [2, 2, 1, 1, 1], '9946K'],\n",
       " [2008090407080809040708, '306', '9T589', [2, 1, 1, 1, 2], '9T589'],\n",
       " [2008110307030811030703, '332', '9Q484', [1, 1, 2, 1, 2], '9Q484'],\n",
       " [2008120211020812021102, '557', '9K3Q3', [1, 1, 2, 1, 2], '9K3Q3'],\n",
       " [2008120701080812070108, '609', '9K829', [2, 1, 1, 1, 2], '9K829'],\n",
       " [2008130205130813020513, '995', '9A36A', [1, 2, 1, 1, 2], '9A36A'],\n",
       " [2009010601050901060105, '810', 'T2726', [1, 2, 1, 2, 1], 'T2726'],\n",
       " [2009011311010901131101, '8', 'T2AQ2', [1, 2, 1, 1, 2], 'T2AQ2'],\n",
       " [2009021313080902131308, '848', 'T3AA9', [1, 1, 2, 2, 1], 'T3AA9'],\n",
       " [2009030505040903050504, '591', 'T4665', [1, 1, 2, 2, 1], 'T4665'],\n",
       " [2009030711090903071109, '668', 'T48QT', [2, 1, 1, 1, 2], 'T48QT'],\n",
       " [2009030905040903000504, '514', 'T4T65', [2, 1, 2, 1, 1], 'T4J65'],\n",
       " [2009041107070904110707, '593', 'T5Q88', [1, 1, 1, 2, 2], 'T5Q88'],\n",
       " [2009050104050905010405, '664', 'T6256', [1, 2, 1, 1, 2], 'T6256'],\n",
       " [2009050213130905021300, '741', 'T63AA', [1, 1, 1, 2, 2], 'T63AJ'],\n",
       " [2009050411110905041111, '275', 'T65QQ', [1, 1, 1, 2, 2], 'T65QQ'],\n",
       " [2009050507040905050704, '318', 'T6685', [1, 2, 2, 1, 1], 'T6685'],\n",
       " [2009051209110905120911, '376', 'T6KTQ', [2, 1, 1, 2, 1], 'T6KTQ'],\n",
       " [2009060509070906050907, '280', 'T76T8', [2, 1, 1, 2, 1], 'T76T8'],\n",
       " [2009060908050906090805, '761', 'T7T96', [2, 1, 2, 1, 1], 'T7T96'],\n",
       " [2009070306090907030600, '134', 'T847T', [2, 1, 1, 1, 2], 'T847J'],\n",
       " [2009070312090907031209, '343', 'T84KT', [2, 1, 1, 1, 2], 'T84KT'],\n",
       " [2009071204070907120407, '735', 'T8K58', [1, 2, 1, 1, 2], 'T8K58'],\n",
       " [2009071302130907000213, '930', 'T8A3A', [1, 1, 2, 1, 2], 'T8J3A'],\n",
       " [2009080801050908080105, '29', 'T9926', [1, 2, 2, 1, 1], 'T9926'],\n",
       " [2009090308130909030813, '281', 'TT49A', [2, 2, 1, 1, 1], 'TT49A'],\n",
       " [2009110103110911010311, '846', 'TQ24Q', [1, 2, 1, 1, 2], 'TQ24Q'],\n",
       " [2009110513090911051309, '759', 'TQ6AT', [2, 1, 1, 1, 2], 'TQ6AT'],\n",
       " [2009111212050911001205, '250', 'TQKK6', [1, 1, 2, 2, 1], 'TQJK6'],\n",
       " [2009121203050900120305, '585', 'TKK46', [1, 2, 2, 1, 1], 'TJK46'],\n",
       " [2009121205070900120507, '307', 'TKK68', [1, 2, 2, 1, 1], 'TJK68'],\n",
       " [2009131311010913131101, '103', 'TAAQ2', [1, 2, 2, 1, 1], 'TAAQ2'],\n",
       " [2011010913111101091311, '433', 'Q2TAQ', [2, 1, 1, 1, 2], 'Q2TAQ'],\n",
       " [2011020311091102031109, '806', 'Q34QT', [2, 1, 1, 2, 1], 'Q34QT'],\n",
       " [2011020711081102071108, '171', 'Q38Q9', [2, 1, 1, 2, 1], 'Q38Q9'],\n",
       " [2011030603021103060302, '851', 'Q4743', [1, 2, 1, 2, 1], 'Q4743'],\n",
       " [2011041108030004110803, '263', 'Q5Q94', [2, 1, 2, 1, 1], 'J5Q94'],\n",
       " [2011041112011104111201, '502', 'Q5QK2', [2, 1, 2, 1, 1], 'Q5QK2'],\n",
       " [2011050111081105010008, '576', 'Q62Q9', [2, 1, 1, 2, 1], 'Q62J9'],\n",
       " [2011060304110006030411, '635', 'Q745Q', [2, 1, 1, 1, 2], 'J745Q'],\n",
       " [2011060712121106071200, '720', 'Q78KK', [1, 1, 1, 2, 2], 'Q78KJ'],\n",
       " [2011070109111107010900, '245', 'Q82TQ', [2, 1, 1, 1, 2], 'Q82TJ'],\n",
       " [2011070909041107090904, '240', 'Q8TT5', [1, 1, 2, 2, 1], 'Q8TT5'],\n",
       " [2011080801071108080107, '742', 'Q9928', [1, 2, 2, 1, 1], 'Q9928'],\n",
       " [2011081313051108131305, '258', 'Q9AA6', [1, 1, 2, 2, 1], 'Q9AA6'],\n",
       " [2011090305031109030503, '288', 'QT464', [1, 1, 2, 1, 2], 'QT464'],\n",
       " [2011110402060011040206, '504', 'QQ537', [2, 2, 1, 1, 1], 'JQ537'],\n",
       " [2011110406071100040607, '935', 'QQ578', [2, 2, 1, 1, 1], 'QJ578'],\n",
       " [2011110507060011050706, '662', 'QQ687', [2, 2, 1, 1, 1], 'JQ687'],\n",
       " [2011110608070011060807, '66', 'QQ798', [2, 2, 1, 1, 1], 'JQ798'],\n",
       " [2011120505021112050502, '91', 'QK663', [1, 1, 2, 2, 1], 'QK663'],\n",
       " [2011130904131113090413, '919', 'QAT5A', [1, 2, 1, 1, 2], 'QAT5A'],\n",
       " [2011131206121113120612, '564', 'QAK7K', [1, 1, 2, 1, 2], 'QAK7K'],\n",
       " [2012010402120001040212, '286', 'K253K', [2, 1, 1, 1, 2], 'J253K'],\n",
       " [2012010608081201060808, '969', 'K2799', [1, 1, 1, 2, 2], 'K2799'],\n",
       " [2012020412051202040005, '592', 'K35K6', [2, 1, 1, 2, 1], 'K35J6'],\n",
       " [2012030904091203090409, '724', 'K4T5T', [1, 1, 2, 1, 2], 'K4T5T'],\n",
       " [2012040609061204060906, '43', 'K57T7', [1, 1, 2, 1, 2], 'K57T7'],\n",
       " [2012041103120004110312, '47', 'K5Q4K', [2, 1, 1, 1, 2], 'J5Q4K'],\n",
       " [2012050107051205010705, '663', 'K6286', [1, 2, 1, 1, 2], 'K6286'],\n",
       " [2012080113131208011300, '983', 'K92AA', [1, 1, 1, 2, 2], 'K92AJ'],\n",
       " [2012080213131208020013, '941', 'K93AA', [1, 1, 1, 2, 2], 'K93JA'],\n",
       " [2012080705120008070512, '3', 'K986K', [2, 1, 1, 1, 2], 'J986K'],\n",
       " [2012081106120008110612, '359', 'K9Q7K', [2, 1, 1, 1, 2], 'J9Q7K'],\n",
       " [2012081203051208000305, '441', 'K9K46', [2, 1, 2, 1, 1], 'K9J46'],\n",
       " [2012110208120011020812, '336', 'KQ39K', [2, 1, 1, 1, 2], 'JQ39K'],\n",
       " [2012110507071211050707, '238', 'KQ688', [1, 1, 1, 2, 2], 'KQ688'],\n",
       " [2012111107021211110702, '547', 'KQQ83', [1, 2, 2, 1, 1], 'KQQ83'],\n",
       " [2012111205081211000508, '550', 'KQK69', [2, 1, 2, 1, 1], 'KQJ69'],\n",
       " [2012120208061212020806, '408', 'KK397', [2, 2, 1, 1, 1], 'KK397'],\n",
       " [2012120604111200060411, '369', 'KK75Q', [2, 2, 1, 1, 1], 'KJ75Q'],\n",
       " [2012120704011212070401, '922', 'KK852', [2, 2, 1, 1, 1], 'KK852'],\n",
       " [2012130313051213031305, '828', 'KA4A6', [1, 2, 1, 2, 1], 'KA4A6'],\n",
       " [2013010204021301020402, '688', 'A2353', [1, 1, 2, 1, 2], 'A2353'],\n",
       " [2013011306031301000603, '154', 'A2A74', [2, 1, 2, 1, 1], 'A2J74'],\n",
       " [2013021304111302130411, '894', 'A3A5Q', [2, 1, 2, 1, 1], 'A3A5Q'],\n",
       " [2013021312071302131207, '298', 'A3AK8', [2, 1, 2, 1, 1], 'A3AK8'],\n",
       " [2013030309051303030905, '81', 'A44T6', [1, 2, 2, 1, 1], 'A44T6'],\n",
       " [2013030607131303060713, '223', 'A478A', [2, 1, 1, 1, 2], 'A478A'],\n",
       " [2013060702071306070207, '925', 'A7838', [1, 1, 2, 1, 2], 'A7838'],\n",
       " [2013070904041307090404, '824', 'A8T55', [1, 1, 1, 2, 2], 'A8T55'],\n",
       " [2013070905091307090509, '180', 'A8T6T', [1, 1, 2, 1, 2], 'A8T6T'],\n",
       " [2013071311030007131103, '377', 'A8AQ4', [2, 1, 2, 1, 1], 'J8AQ4'],\n",
       " [2013080801031308080103, '309', 'A9924', [1, 2, 2, 1, 1], 'A9924'],\n",
       " [2013081103081308110308, '755', 'A9Q49', [1, 2, 1, 1, 2], 'A9Q49'],\n",
       " [2013090107131309010713, '803', 'AT28A', [2, 1, 1, 1, 2], 'AT28A'],\n",
       " [2013120212031312021203, '62', 'AK3K4', [1, 2, 1, 2, 1], 'AK3K4'],\n",
       " [2013130403051300040305, '2', 'AA546', [2, 2, 1, 1, 1], 'AJ546'],\n",
       " [2013130602070013060207, '611', 'AA738', [2, 2, 1, 1, 1], 'JA738'],\n",
       " [2013131107050013110705, '737', 'AAQ86', [2, 2, 1, 1, 1], 'JAQ86'],\n",
       " [3001010203020101020302, '749', '22343', [2, 2, 2, 1, 2], '22343'],\n",
       " [3001011207070101120707, '71', '22K88', [2, 2, 1, 2, 2], '22K88'],\n",
       " [3001020606020102060602, '980', '23773', [1, 2, 2, 2, 2], '23773'],\n",
       " [3001030106030103010603, '494', '24274', [2, 2, 2, 1, 2], '24274'],\n",
       " [3001050509090105050909, '72', '266TT', [1, 2, 2, 2, 2], '266TT'],\n",
       " [3001090701070109070107, '549', '2T828', [2, 1, 2, 2, 2], '2T828'],\n",
       " [3001121208080112120808, '119', '2KK99', [1, 2, 2, 2, 2], '2KK99'],\n",
       " [3001131301110113130111, '446', '2AA2Q', [2, 2, 2, 2, 1], '2AA2Q'],\n",
       " [3002020709090202070909, '393', '338TT', [2, 2, 1, 2, 2], '338TT'],\n",
       " [3002030208030203020803, '355', '34394', [2, 2, 2, 1, 2], '34394'],\n",
       " [3002030301010203030101, '790', '34422', [1, 2, 2, 2, 2], '34422'],\n",
       " [3002031302030203130203, '22', '34A34', [2, 2, 1, 2, 2], '34A34'],\n",
       " [3002040203030204020303, '267', '35344', [2, 1, 2, 2, 2], '35344'],\n",
       " [3002050502030205050203, '44', '36634', [2, 2, 2, 2, 1], '36634'],\n",
       " [3002061202120206120212, '413', '37K3K', [2, 1, 2, 2, 2], '37K3K'],\n",
       " [3002080811110208081111, '479', '399QQ', [1, 2, 2, 2, 2], '399QQ'],\n",
       " [3003010107070301010707, '731', '42288', [1, 2, 2, 2, 2], '42288'],\n",
       " [3003010801030301080103, '672', '42924', [2, 2, 1, 2, 2], '42924'],\n",
       " [3003020502030302050203, '304', '43634', [2, 2, 1, 2, 2], '43634'],\n",
       " [3003030401040303040104, '906', '44525', [2, 2, 2, 1, 2], '44525'],\n",
       " [3003030613060303061306, '947', '447A7', [2, 2, 2, 1, 2], '447A7'],\n",
       " [3003031102110303110211, '610', '44Q3Q', [2, 2, 2, 1, 2], '44Q3Q'],\n",
       " [3003040103010304010301, '228', '45242', [2, 1, 2, 2, 2], '45242'],\n",
       " [3003040405030304040503, '725', '45564', [2, 2, 2, 1, 2], '45564'],\n",
       " [3003070505030307050503, '175', '48664', [2, 1, 2, 2, 2], '48664'],\n",
       " [3003080307080308030708, '763', '49489', [2, 2, 2, 1, 2], '49489'],\n",
       " [3003090803090309080309, '345', '4T94T', [2, 2, 1, 2, 2], '4T94T'],\n",
       " [3003091303090309130309, '996', '4TA4T', [2, 2, 1, 2, 2], '4TA4T'],\n",
       " [3003110808110311080811, '944', '4Q99Q', [1, 2, 2, 2, 2], '4Q99Q'],\n",
       " [3003130301010313030101, '560', '4A422', [2, 1, 2, 2, 2], '4A422'],\n",
       " [3004010405010401040501, '992', '52562', [2, 2, 2, 1, 2], '52562'],\n",
       " [3004020405050402040505, '55', '53566', [2, 1, 2, 2, 2], '53566'],\n",
       " [3004040203020404020302, '653', '55343', [2, 2, 2, 1, 2], '55343'],\n",
       " [3004041313110404131311, '1000', '55AAQ', [2, 2, 2, 2, 1], '55AAQ'],\n",
       " [3004070704090407070409, '455', '5885T', [2, 2, 2, 2, 1], '5885T'],\n",
       " [3004080606080408060608, '437', '59779', [1, 2, 2, 2, 2], '59779'],\n",
       " [3004111311130411131113, '164', '5QAQA', [1, 2, 2, 2, 2], '5QAQA'],\n",
       " [3005030312050503031205, '518', '644K6', [2, 2, 2, 1, 2], '644K6'],\n",
       " [3005030903090503090309, '534', '64T4T', [1, 2, 2, 2, 2], '64T4T'],\n",
       " [3005050106010505010601, '647', '66272', [2, 2, 2, 1, 2], '66272'],\n",
       " [3005050111110505011111, '181', '662QQ', [2, 2, 1, 2, 2], '662QQ'],\n",
       " [3005050403040505040304, '411', '66545', [2, 2, 2, 1, 2], '66545'],\n",
       " [3005050903090505090309, '199', '66T4T', [2, 2, 2, 1, 2], '66T4T'],\n",
       " [3005051313070505131307, '910', '66AA8', [2, 2, 2, 2, 1], '66AA8'],\n",
       " [3005130405040513040504, '420', '6A565', [2, 1, 2, 2, 2], '6A565'],\n",
       " [3006030306080603030608, '589', '74479', [2, 2, 2, 2, 1], '74479'],\n",
       " [3006030612120603061212, '365', '747KK', [2, 1, 2, 2, 2], '747KK'],\n",
       " [3006040601040604060104, '529', '75725', [2, 2, 2, 1, 2], '75725'],\n",
       " [3006050502020605050202, '13', '76633', [1, 2, 2, 2, 2], '76633'],\n",
       " [3006060105010606010501, '643', '77262', [2, 2, 2, 1, 2], '77262'],\n",
       " [3006060107070606010707, '646', '77288', [2, 2, 1, 2, 2], '77288'],\n",
       " [3006060312030606031203, '92', '774K4', [2, 2, 2, 1, 2], '774K4'],\n",
       " [3006060402020606040202, '608', '77533', [2, 2, 1, 2, 2], '77533'],\n",
       " [3006060801080606080108, '412', '77929', [2, 2, 2, 1, 2], '77929'],\n",
       " [3006081308130608130813, '780', '79A9A', [1, 2, 2, 2, 2], '79A9A'],\n",
       " [3006091206120609120612, '685', '7TK7K', [2, 1, 2, 2, 2], '7TK7K'],\n",
       " [3006131301010613130101, '243', '7AA22', [1, 2, 2, 2, 2], '7AA22'],\n",
       " [3007011107010701110701, '569', '82Q82', [2, 2, 1, 2, 2], '82Q82'],\n",
       " [3007020207120702020712, '978', '8338K', [2, 2, 2, 2, 1], '8338K'],\n",
       " [3007040807080704080708, '836', '85989', [2, 1, 2, 2, 2], '85989'],\n",
       " [3007050404050705040405, '188', '86556', [1, 2, 2, 2, 2], '86556'],\n",
       " [3007050407040705040704, '390', '86585', [2, 1, 2, 2, 2], '86585'],\n",
       " [3007061212060706121206, '762', '87KK7', [1, 2, 2, 2, 2], '87KK7'],\n",
       " [3007080701080708070108, '130', '89829', [2, 2, 2, 1, 2], '89829'],\n",
       " [3007080807130708080713, '140', '8998A', [2, 2, 2, 2, 1], '8998A'],\n",
       " [3007120207120712020712, '676', '8K38K', [2, 2, 1, 2, 2], '8K38K'],\n",
       " [3008010108120801010812, '526', '9229K', [2, 2, 2, 2, 1], '9229K'],\n",
       " [3008010202080801020208, '4', '92339', [2, 1, 2, 2, 2], '92339'],\n",
       " [3008010404080801040408, '970', '92559', [2, 1, 2, 2, 2], '92559'],\n",
       " [3008011111080801111108, '278', '92QQ9', [2, 1, 2, 2, 2], '92QQ9'],\n",
       " [3008021111020802111102, '69', '93QQ3', [1, 2, 2, 2, 2], '93QQ3'],\n",
       " [3008030505030803050503, '354', '94664', [1, 2, 2, 2, 2], '94664'],\n",
       " [3008060803060806080306, '921', '97947', [2, 2, 2, 1, 2], '97947'],\n",
       " [3008060809090806080909, '932', '979TT', [2, 1, 2, 2, 2], '979TT'],\n",
       " [3008061208120806120812, '615', '97K9K', [2, 1, 2, 2, 2], '97K9K'],\n",
       " [3008080303120808030312, '453', '9944K', [2, 2, 2, 2, 1], '9944K'],\n",
       " [3008081305050808130505, '631', '99A66', [2, 2, 1, 2, 2], '99A66'],\n",
       " [3008090911080809091108, '163', '9TTQ9', [2, 2, 2, 1, 2], '9TTQ9'],\n",
       " [3008110208020811020802, '584', '9Q393', [2, 1, 2, 2, 2], '9Q393'],\n",
       " [3008130811130813081113, '634', '9A9QA', [2, 2, 2, 1, 2], '9A9QA'],\n",
       " [3008131303080813130308, '927', '9AA49', [2, 2, 2, 1, 2], '9AA49'],\n",
       " [3009030202090903020209, '952', 'T433T', [2, 1, 2, 2, 2], 'T433T'],\n",
       " [3009050905080905090508, '732', 'T6T69', [2, 2, 2, 2, 1], 'T6T69'],\n",
       " [3009060109060906010906, '482', 'T72T7', [2, 2, 1, 2, 2], 'T72T7'],\n",
       " [3009060609130906060913, '162', 'T77TA', [2, 2, 2, 2, 1], 'T77TA'],\n",
       " [3009070702020907070202, '588', 'T8833', [1, 2, 2, 2, 2], 'T8833'],\n",
       " [3009070907130907090713, '54', 'T8T8A', [2, 2, 2, 2, 1], 'T8T8A'],\n",
       " [3009080801010908080101, '265', 'T9922', [1, 2, 2, 2, 2], 'T9922'],\n",
       " [3009090104010909010401, '508', 'TT252', [2, 2, 2, 1, 2], 'TT252'],\n",
       " [3009090207070909020707, '976', 'TT388', [2, 2, 1, 2, 2], 'TT388'],\n",
       " [3009090213020909021302, '366', 'TT3A3', [2, 2, 2, 1, 2], 'TT3A3'],\n",
       " [3009130912130913091213, '218', 'TATKA', [2, 2, 2, 1, 2], 'TATKA'],\n",
       " [3011010105051101010505, '794', 'Q2266', [1, 2, 2, 2, 2], 'Q2266'],\n",
       " [3011051105091105110509, '974', 'Q6Q6T', [2, 2, 2, 2, 1], 'Q6Q6T'],\n",
       " [3011051106061105110606, '559', 'Q6Q77', [2, 1, 2, 2, 2], 'Q6Q77'],\n",
       " [3011070703031107070303, '786', 'Q8844', [1, 2, 2, 2, 2], 'Q8844'],\n",
       " [3011071102021107110202, '538', 'Q8Q33', [2, 1, 2, 2, 2], 'Q8Q33'],\n",
       " [3011110107011111010701, '313', 'QQ282', [2, 2, 2, 1, 2], 'QQ282'],\n",
       " [3011131311091113131109, '665', 'QAAQT', [2, 2, 2, 2, 1], 'QAAQT'],\n",
       " [3012020213121202021312, '400', 'K33AK', [2, 2, 2, 1, 2], 'K33AK'],\n",
       " [3012021203031202120303, '310', 'K3K44', [2, 1, 2, 2, 2], 'K3K44'],\n",
       " [3012021206061202120606, '986', 'K3K77', [2, 1, 2, 2, 2], 'K3K77'],\n",
       " [3012031203051203120305, '254', 'K4K46', [2, 2, 2, 2, 1], 'K4K46'],\n",
       " [3012040202041204020204, '152', 'K5335', [1, 2, 2, 2, 2], 'K5335'],\n",
       " [3012041313041204131304, '429', 'K5AA5', [1, 2, 2, 2, 2], 'K5AA5'],\n",
       " [3012070703031207070303, '459', 'K8844', [1, 2, 2, 2, 2], 'K8844'],\n",
       " [3012070705051207070505, '915', 'K8866', [1, 2, 2, 2, 2], 'K8866'],\n",
       " [3012080812091208081209, '158', 'K99KT', [2, 2, 2, 2, 1], 'K99KT'],\n",
       " [3012080813131208081313, '777', 'K99AA', [1, 2, 2, 2, 2], 'K99AA'],\n",
       " [3012081202021208120202, '816', 'K9K33', [2, 1, 2, 2, 2], 'K9K33'],\n",
       " [3012111203031211120303, '882', 'KQK44', [2, 1, 2, 2, 2], 'KQK44'],\n",
       " [3012120102021212010202, '329', 'KK233', [2, 2, 1, 2, 2], 'KK233'],\n",
       " [3012120505061212050506, '558', 'KK667', [2, 2, 2, 2, 1], 'KK667'],\n",
       " [3012131213051213121305, '855', 'KAKA6', [2, 2, 2, 2, 1], 'KAKA6'],\n",
       " [3013010601061301060106, '410', 'A2727', [1, 2, 2, 2, 2], 'A2727'],\n",
       " [3013020808131302080813, '110', 'A399A', [2, 1, 2, 2, 2], 'A399A'],\n",
       " [3013050504131305050413, '84', 'A665A', [2, 2, 2, 1, 2], 'A665A'],\n",
       " [3013050805131305080513, '950', 'A696A', [2, 2, 1, 2, 2], 'A696A'],\n",
       " [3013060613111306061311, '896', 'A77AQ', [2, 2, 2, 2, 1], 'A77AQ'],\n",
       " [3013061307061306130706, '142', 'A7A87', [2, 2, 2, 1, 2], 'A7A87'],\n",
       " [3013130607071313060707, '87', 'AA788', [2, 2, 1, 2, 2], 'AA788'],\n",
       " [4001010401050101040105, '490', '22526', [3, 3, 1, 3, 1], '22526'],\n",
       " [4001010812010101081201, '827', '229K2', [3, 3, 1, 1, 3], '229K2'],\n",
       " [4001011101090100110109, '832', '22Q2T', [3, 3, 1, 3, 1], '2JQ2T'],\n",
       " [4001011104010101110400, '276', '22Q52', [3, 3, 1, 1, 3], '22Q5J'],\n",
       " [4001011112010100111201, '578', '22QK2', [3, 3, 1, 1, 3], '2JQK2'],\n",
       " [4001020701010102070001, '442', '23822', [3, 1, 1, 3, 3], '238J2'],\n",
       " [4001031101010103110101, '131', '24Q22', [3, 1, 1, 3, 3], '24Q22'],\n",
       " [4001051111110105110011, '398', '26QQQ', [1, 1, 3, 3, 3], '26QJQ'],\n",
       " [4001061201010106120100, '533', '27K22', [3, 1, 1, 3, 3], '27K2J'],\n",
       " [4001070101060107010106, '363', '28227', [3, 1, 3, 3, 1], '28227'],\n",
       " [4001070207070107020007, '698', '28388', [1, 3, 1, 3, 3], '283J8'],\n",
       " [4001090104010109000401, '840', '2T252', [3, 1, 3, 1, 3], '2TJ52'],\n",
       " [4001090106010109010601, '951', '2T272', [3, 1, 3, 1, 3], '2T272'],\n",
       " [4001110404040111040404, '565', '2Q555', [1, 1, 3, 3, 3], '2Q555'],\n",
       " [4001130101110013010111, '184', '2A22Q', [3, 1, 3, 3, 1], 'JA22Q'],\n",
       " [4002010404040201040404, '125', '32555', [1, 1, 3, 3, 3], '32555'],\n",
       " [4002020206050202000605, '197', '33376', [3, 3, 3, 1, 1], '33J76'],\n",
       " [4002021112020202111200, '555', '33QK3', [3, 3, 1, 1, 3], '33QKJ'],\n",
       " [4002030303080203030308, '156', '34449', [1, 3, 3, 3, 1], '34449'],\n",
       " [4002030313030203031303, '618', '344A4', [1, 3, 3, 1, 3], '344A4'],\n",
       " [4002040808080204000808, '349', '35999', [1, 1, 3, 3, 3], '35J99'],\n",
       " [4002051105050205110505, '789', '36Q66', [1, 3, 1, 3, 3], '36Q66'],\n",
       " [4002060506060206050006, '93', '37677', [1, 3, 1, 3, 3], '376J7'],\n",
       " [4002060613060200061306, '530', '377A7', [1, 3, 3, 1, 3], '3J7A7'],\n",
       " [4002070606060207060606, '684', '38777', [1, 1, 3, 3, 3], '38777'],\n",
       " [4002070709070200070907, '210', '388T8', [1, 3, 3, 1, 3], '3J8T8'],\n",
       " [4002080508080208050808, '469', '39699', [1, 3, 1, 3, 3], '39699'],\n",
       " [4002081202020208120200, '765', '39K33', [3, 1, 1, 3, 3], '39K3J'],\n",
       " [4002090302020209030202, '418', '3T433', [3, 1, 1, 3, 3], '3T433'],\n",
       " [4002110202040211020204, '966', '3Q335', [3, 1, 3, 3, 1], '3Q335'],\n",
       " [4002110611110211061111, '775', '3Q7QQ', [1, 3, 1, 3, 3], '3Q7QQ'],\n",
       " [4002110808080211080800, '830', '3Q999', [1, 1, 3, 3, 3], '3Q99J'],\n",
       " [4003010101110300010111, '203', '4222Q', [1, 3, 3, 3, 1], '4J22Q'],\n",
       " [4003020202060302020206, '678', '43337', [1, 3, 3, 3, 1], '43337'],\n",
       " [4003020402020302040202, '511', '43533', [1, 3, 1, 3, 3], '43533'],\n",
       " [4003030306090303030609, '432', '4447T', [3, 3, 3, 1, 1], '4447T'],\n",
       " [4003030703110303070311, '891', '4484Q', [3, 3, 1, 3, 1], '4484Q'],\n",
       " [4003031106030303110603, '386', '44Q74', [3, 3, 1, 1, 3], '44Q74'],\n",
       " [4003031112030303111203, '940', '44QK4', [3, 3, 1, 1, 3], '44QK4'],\n",
       " [4003050105050300010505, '875', '46266', [1, 3, 1, 3, 3], '4J266'],\n",
       " [4003050303020305030302, '997', '46443', [3, 1, 3, 3, 1], '46443'],\n",
       " [4003060305030306030503, '340', '47464', [3, 1, 3, 1, 3], '47464'],\n",
       " [4003060506060300050606, '234', '47677', [1, 3, 1, 3, 3], '4J677'],\n",
       " [4003070808080307080808, '503', '48999', [1, 1, 3, 3, 3], '48999'],\n",
       " [4003071303030007130303, '931', '48A44', [3, 1, 1, 3, 3], 'J8A44'],\n",
       " [4003090403030309040003, '509', '4T544', [3, 1, 1, 3, 3], '4T5J4'],\n",
       " [4003090803030309080303, '939', '4T944', [3, 1, 1, 3, 3], '4T944'],\n",
       " [4003090912090309091200, '50', '4TTKT', [1, 3, 3, 1, 3], '4TTKJ'],\n",
       " [4003091111110309001100, '94', '4TQQQ', [1, 1, 3, 3, 3], '4TJQJ'],\n",
       " [4003091313130309131313, '34', '4TAAA', [1, 1, 3, 3, 3], '4TAAA'],\n",
       " [4003110303020311000302, '431', '4Q443', [3, 1, 3, 3, 1], '4QJ43'],\n",
       " [4003120412120312041212, '45', '4K5KK', [1, 3, 1, 3, 3], '4K5KK'],\n",
       " [4003130304030013030403, '587', '4A454', [3, 1, 3, 1, 3], 'JA454'],\n",
       " [4004010701010401070101, '145', '52822', [1, 3, 1, 3, 3], '52822'],\n",
       " [4004020808080402080808, '11', '53999', [1, 1, 3, 3, 3], '53999'],\n",
       " [4004040103040404010304, '537', '55245', [3, 3, 1, 1, 3], '55245'],\n",
       " [4004040204060404020406, '449', '55357', [3, 3, 1, 3, 1], '55357'],\n",
       " [4004040304020404030402, '282', '55453', [3, 3, 1, 3, 1], '55453'],\n",
       " [4004040401020400040102, '83', '55523', [3, 3, 3, 1, 1], '5J523'],\n",
       " [4004040704080004070408, '230', '55859', [3, 3, 1, 3, 1], 'J5859'],\n",
       " [4004051313130405001313, '224', '56AAA', [1, 1, 3, 3, 3], '56JAA'],\n",
       " [4004060202020406020202, '358', '57333', [1, 1, 3, 3, 3], '57333'],\n",
       " [4004060403040406040300, '769', '57545', [3, 1, 3, 1, 3], '5754J'],\n",
       " [4004060405040406040504, '439', '57565', [3, 1, 3, 1, 3], '57565'],\n",
       " [4004060606080406000608, '356', '57779', [1, 3, 3, 3, 1], '57J79'],\n",
       " [4004080404030408040003, '206', '59554', [3, 1, 3, 3, 1], '595J4'],\n",
       " [4004080608080408060000, '480', '59799', [1, 3, 1, 3, 3], '597JJ'],\n",
       " [4004080807080408080700, '65', '59989', [1, 3, 3, 1, 3], '5998J'],\n",
       " [4004080808130408080813, '416', '5999A', [1, 3, 3, 3, 1], '5999A'],\n",
       " [4004110412040411041204, '651', '5Q5K5', [3, 1, 3, 1, 3], '5Q5K5'],\n",
       " [4004111112110411111211, '985', '5QQKQ', [1, 3, 3, 1, 3], '5QQKQ'],\n",
       " [4004120204040412020404, '312', '5K355', [3, 1, 1, 3, 3], '5K355'],\n",
       " [4004121112120412110012, '346', '5KQKK', [1, 3, 1, 3, 3], '5KQJK'],\n",
       " [4004121212060400001206, '227', '5KKK7', [1, 3, 3, 3, 1], '5JJK7'],\n",
       " [4004130407040413040704, '80', '5A585', [3, 1, 3, 1, 3], '5A585'],\n",
       " [4004130412040413001204, '548', '5A5K5', [3, 1, 3, 1, 3], '5AJK5'],\n",
       " [4005010101030501010103, '100', '62224', [1, 3, 3, 3, 1], '62224'],\n",
       " [4005040404030504000403, '937', '65554', [1, 3, 3, 3, 1], '65J54'],\n",
       " [4005040604040500060404, '979', '65755', [1, 3, 1, 3, 3], '6J755'],\n",
       " [4005050113050505011300, '361', '662A6', [3, 3, 1, 1, 3], '662AJ'],\n",
       " [4005050405030505040503, '129', '66564', [3, 3, 1, 3, 1], '66564'],\n",
       " [4005050509120505050912, '30', '666TK', [3, 3, 3, 1, 1], '666TK'],\n",
       " [4005050605090505060509, '708', '6676T', [3, 3, 1, 3, 1], '6676T'],\n",
       " [4005050805060505080506, '528', '66967', [3, 3, 1, 3, 1], '66967'],\n",
       " [4005050905130505090513, '476', '66T6A', [3, 3, 1, 3, 1], '66T6A'],\n",
       " [4005051305110005130511, '135', '66A6Q', [3, 3, 1, 3, 1], 'J6A6Q'],\n",
       " [4005060806060506080606, '942', '67977', [1, 3, 1, 3, 3], '67977'],\n",
       " [4005070405050507040505, '739', '68566', [3, 1, 1, 3, 3], '68566'],\n",
       " [4005070505010507050501, '758', '68662', [3, 1, 3, 3, 1], '68662'],\n",
       " [4005070709070507070907, '583', '688T8', [1, 3, 3, 1, 3], '688T8'],\n",
       " [4005070907070507090007, '59', '68T88', [1, 3, 1, 3, 3], '68TJ8'],\n",
       " [4005071305050007130505, '531', '68A66', [3, 1, 1, 3, 3], 'J8A66'],\n",
       " [4005120505110512050511, '598', '6K66Q', [3, 1, 3, 3, 1], '6K66Q'],\n",
       " [4005121212010512001201, '675', '6KKK2', [1, 3, 3, 3, 1], '6KJK2'],\n",
       " [4005130303030513030303, '257', '6A444', [1, 1, 3, 3, 3], '6A444'],\n",
       " [4006010303030601030303, '764', '72444', [1, 1, 3, 3, 3], '72444'],\n",
       " [4006010501010601050100, '510', '72622', [1, 3, 1, 3, 3], '7262J'],\n",
       " [4006010605060601060506, '613', '72767', [3, 1, 3, 1, 3], '72767'],\n",
       " [4006011206060001120606, '443', '72K77', [3, 1, 1, 3, 3], 'J2K77'],\n",
       " [4006020604060602060400, '726', '73757', [3, 1, 3, 1, 3], '7375J'],\n",
       " [4006030606020603060602, '892', '74773', [3, 1, 3, 3, 1], '74773'],\n",
       " [4006030606070603060607, '344', '74778', [3, 1, 3, 3, 1], '74778'],\n",
       " [4006040413040604041304, '536', '755A5', [1, 3, 3, 1, 3], '755A5'],\n",
       " [4006040603060604000300, '491', '75747', [3, 1, 3, 1, 3], '75J4J'],\n",
       " [4006040606050604060605, '149', '75776', [3, 1, 3, 3, 1], '75776'],\n",
       " [4006040707070604000700, '639', '75888', [1, 1, 3, 3, 3], '75J8J'],\n",
       " [4006060106040600010604, '70', '77275', [3, 3, 1, 3, 1], '7J275'],\n",
       " [4006060206130606020613, '270', '7737A', [3, 3, 1, 3, 1], '7737A'],\n",
       " [4006060306130606030613, '844', '7747A', [3, 3, 1, 3, 1], '7747A'],\n",
       " [4006060406020606040602, '143', '77573', [3, 3, 1, 3, 1], '77573'],\n",
       " [4006060612020006061202, '297', '777K3', [3, 3, 3, 1, 1], 'J77K3'],\n",
       " [4006060613040600061304, '37', '777A5', [3, 3, 3, 1, 1], '7J7A5'],\n",
       " [4006080202020608020202, '236', '79333', [1, 1, 3, 3, 3], '79333'],\n",
       " [4006080803080600000308, '82', '79949', [1, 3, 3, 1, 3], '7JJ49'],\n",
       " [4006120602060612060206, '305', '7K737', [3, 1, 3, 1, 3], '7K737'],\n",
       " [4006131111110613111111, '835', '7AQQQ', [1, 1, 3, 3, 3], '7AQQQ'],\n",
       " [4006131313030613131303, '943', '7AAA4', [1, 3, 3, 3, 1], '7AAA4'],\n",
       " [4007020101010702010101, '703', '83222', [1, 1, 3, 3, 3], '83222'],\n",
       " [4007020201020702020102, '271', '83323', [1, 3, 3, 1, 3], '83323'],\n",
       " [4007020208020702020802, '545', '83393', [1, 3, 3, 1, 3], '83393'],\n",
       " [4007020902020702090202, '878', '83T33', [1, 3, 1, 3, 3], '83T33'],\n",
       " [4007030302030703000203, '35', '84434', [1, 3, 3, 1, 3], '84J34'],\n",
       " [4007040402040704040204, '415', '85535', [1, 3, 3, 1, 3], '85535'],\n",
       " [4007040404060704040406, '574', '85557', [1, 3, 3, 3, 1], '85557'],\n",
       " [4007040707050704070705, '118', '85886', [3, 1, 3, 3, 1], '85886'],\n",
       " [4007050207070005020007, '320', '86388', [3, 1, 1, 3, 3], 'J63J8'],\n",
       " [4007060704070706070407, '200', '87858', [3, 1, 3, 1, 3], '87858'],\n",
       " [4007070105070700010500, '21', '88268', [3, 3, 1, 1, 3], '8J26J'],\n",
       " [4007070607130707060013, '252', '8878A', [3, 3, 1, 3, 1], '887JA'],\n",
       " [4007070703020707070302, '636', '88843', [3, 3, 3, 1, 1], '88843'],\n",
       " [4007070706040707000604, '322', '88875', [3, 3, 3, 1, 1], '88J75'],\n",
       " [4007070807050707080705, '350', '88986', [3, 3, 1, 3, 1], '88986'],\n",
       " [4007080308080708030008, '733', '89499', [1, 3, 1, 3, 3], '894J9'],\n",
       " [4007090909060709000006, '165', '8TTT7', [1, 3, 3, 3, 1], '8TJJ7'],\n",
       " [4007091111110709111111, '211', '8TQQQ', [1, 1, 3, 3, 3], '8TQQQ'],\n",
       " [4007110202020711020200, '102', '8Q333', [1, 1, 3, 3, 3], '8Q33J'],\n",
       " [4007120707010712070701, '920', '8K882', [3, 1, 3, 3, 1], '8K882'],\n",
       " [4007130202020713020002, '847', '8A333', [1, 1, 3, 3, 3], '8A3J3'],\n",
       " [4008010202020801020202, '198', '92333', [1, 1, 3, 3, 3], '92333'],\n",
       " [4008010901010801090001, '898', '92T22', [1, 3, 1, 3, 3], '92TJ2'],\n",
       " [4008020811080802081108, '716', '939Q9', [3, 1, 3, 1, 3], '939Q9'],\n",
       " [4008040404060804040406, '64', '95557', [1, 3, 3, 3, 1], '95557'],\n",
       " [4008040413040804001304, '516', '955A5', [1, 3, 3, 1, 3], '95JA5'],\n",
       " [4008051208080805120800, '173', '96K99', [3, 1, 1, 3, 3], '96K9J'],\n",
       " [4008060108080806010800, '693', '97299', [3, 1, 1, 3, 3], '9729J'],\n",
       " [4008060609060806060900, '785', '977T7', [1, 3, 3, 1, 3], '977TJ'],\n",
       " [4008060808090806080009, '899', '9799T', [3, 1, 3, 3, 1], '979JT'],\n",
       " [4008080108020808010002, '554', '99293', [3, 3, 1, 3, 1], '992J3'],\n",
       " [4008080508030008050803, '616', '99694', [3, 3, 1, 3, 1], 'J9694'],\n",
       " [4008080612080808061208, '128', '997K9', [3, 3, 1, 1, 3], '997K9'],\n",
       " [4008080805070808080507, '12', '99968', [3, 3, 3, 1, 1], '99968'],\n",
       " [4008080806050008080605, '869', '99976', [3, 3, 3, 1, 1], 'J9976'],\n",
       " [4008080812020808001202, '74', '999K3', [3, 3, 3, 1, 1], '99JK3'],\n",
       " [4008110908080811090808, '704', '9QT99', [3, 1, 1, 3, 3], '9QT99'],\n",
       " [4008120612120812061212, '220', '9K7KK', [1, 3, 1, 3, 3], '9K7KK'],\n",
       " [4008120811080812081108, '674', '9K9Q9', [3, 1, 3, 1, 3], '9K9Q9'],\n",
       " [4008131313030813001303, '168', '9AAA4', [1, 3, 3, 3, 1], '9AJA4'],\n",
       " [4009010101050901010105, '284', 'T2226', [1, 3, 3, 3, 1], 'T2226'],\n",
       " [4009010909060901090906, '147', 'T2TT7', [3, 1, 3, 3, 1], 'T2TT7'],\n",
       " [4009020208020902000802, '696', 'T3393', [1, 3, 3, 1, 3], 'T3J93'],\n",
       " [4009020502020902050002, '17', 'T3633', [1, 3, 1, 3, 3], 'T36J3'],\n",
       " [4009020909080902000908, '893', 'T3TT9', [3, 1, 3, 3, 1], 'T3JT9'],\n",
       " [4009030505050903050505, '190', 'T4666', [1, 1, 3, 3, 3], 'T4666'],\n",
       " [4009030609090003060009, '715', 'T47TT', [3, 1, 1, 3, 3], 'J47JT'],\n",
       " [4009050502050905050205, '347', 'T6636', [1, 3, 3, 1, 3], 'T6636'],\n",
       " [4009050605050905060500, '823', 'T6766', [1, 3, 1, 3, 3], 'T676J'],\n",
       " [4009050705050905070005, '195', 'T6866', [1, 3, 1, 3, 3], 'T68J6'],\n",
       " [4009060907090906090709, '448', 'T7T8T', [3, 1, 3, 1, 3], 'T7T8T'],\n",
       " [4009060913090906091309, '447', 'T7TAT', [3, 1, 3, 1, 3], 'T7TAT'],\n",
       " [4009061106060906110600, '396', 'T7Q77', [1, 3, 1, 3, 3], 'T7Q7J'],\n",
       " [4009061306060906130006, '334', 'T7A77', [1, 3, 1, 3, 3], 'T7AJ7'],\n",
       " [4009070808080907080008, '38', 'T8999', [1, 1, 3, 3, 3], 'T89J9'],\n",
       " [4009070809090007080900, '63', 'T89TT', [3, 1, 1, 3, 3], 'J89TJ'],\n",
       " [4009070902090907090209, '792', 'T8T3T', [3, 1, 3, 1, 3], 'T8T3T'],\n",
       " [4009080606060908060606, '323', 'T9777', [1, 1, 3, 3, 3], 'T9777'],\n",
       " [4009090409010909040901, '266', 'TT5T2', [3, 3, 1, 3, 1], 'TT5T2'],\n",
       " [4009090611090909061109, '507', 'TT7QT', [3, 3, 1, 1, 3], 'TT7QT'],\n",
       " [4009090709040009070904, '352', 'TT8T5', [3, 3, 1, 3, 1], 'JT8T5'],\n",
       " [4009090904020909090402, '859', 'TTT53', [3, 3, 3, 1, 1], 'TTT53'],\n",
       " [4009090907110909000711, '632', 'TTT8Q', [3, 3, 3, 1, 1], 'TTJ8Q'],\n",
       " [4009091104090909110409, '962', 'TTQ5T', [3, 3, 1, 1, 3], 'TTQ5T'],\n",
       " [4009110711110911070011, '884', 'TQ8QQ', [1, 3, 1, 3, 3], 'TQ8JQ'],\n",
       " [4009111103110911110300, '381', 'TQQ4Q', [1, 3, 3, 1, 3], 'TQQ4J'],\n",
       " [4011020411111102041111, '1', 'Q35QQ', [3, 1, 1, 3, 3], 'Q35QQ'],\n",
       " [4011021111051102110005, '580', 'Q3QQ6', [3, 1, 3, 3, 1], 'Q3QJ6'],\n",
       " [4011030303021103030302, '734', 'Q4443', [1, 3, 3, 3, 1], 'Q4443'],\n",
       " [4011041111031104110003, '573', 'Q5QQ4', [3, 1, 3, 3, 1], 'Q5QJ4'],\n",
       " [4011051313131105131313, '486', 'Q6AAA', [1, 1, 3, 3, 3], 'Q6AAA'],\n",
       " [4011071103111107000311, '472', 'Q8Q4Q', [3, 1, 3, 1, 3], 'Q8J4Q'],\n",
       " [4011081111071108000007, '813', 'Q9QQ8', [3, 1, 3, 3, 1], 'Q9JJ8'],\n",
       " [4011081212121108121212, '213', 'Q9KKK', [1, 1, 3, 3, 3], 'Q9KKK'],\n",
       " [4011090909051109090905, '319', 'QTTT6', [1, 3, 3, 3, 1], 'QTTT6'],\n",
       " [4011110211080011021108, '601', 'QQ3Q9', [3, 3, 1, 3, 1], 'JQ3Q9'],\n",
       " [4011110704110011070411, '423', 'QQ85Q', [3, 3, 1, 1, 3], 'JQ85Q'],\n",
       " [4011110812111111081211, '825', 'QQ9KQ', [3, 3, 1, 1, 3], 'QQ9KQ'],\n",
       " [4011111106081111110608, '167', 'QQQ79', [3, 3, 3, 1, 1], 'QQQ79'],\n",
       " [4011111107131111110713, '374', 'QQQ8A', [3, 3, 3, 1, 1], 'QQQ8A'],\n",
       " [4011111108091111110809, '988', 'QQQ9T', [3, 3, 3, 1, 1], 'QQQ9T'],\n",
       " [4011111109051111110905, '126', 'QQQT6', [3, 3, 3, 1, 1], 'QQQT6'],\n",
       " [4011111211051111120005, '454', 'QQKQ6', [3, 3, 1, 3, 1], 'QQKJ6'],\n",
       " [4011120606061112060606, '249', 'QK777', [1, 1, 3, 3, 3], 'QK777'],\n",
       " [4011120811111112080011, '27', 'QK9QQ', [3, 1, 1, 3, 3], 'QK9JQ'],\n",
       " [4011121107111112110711, '908', 'QKQ8Q', [3, 1, 3, 1, 3], 'QKQ8Q'],\n",
       " [4012010104011201010401, '216', 'K2252', [1, 3, 3, 1, 3], 'K2252'],\n",
       " [4012020902021202090002, '864', 'K3T33', [1, 3, 1, 3, 3], 'K3TJ3'],\n",
       " [4012021212041202121204, '711', 'K3KK5', [3, 1, 3, 3, 1], 'K3KK5'],\n",
       " [4012030303051203030305, '85', 'K4446', [1, 3, 3, 3, 1], 'K4446'],\n",
       " [4012041212061204121206, '975', 'K5KK7', [3, 1, 3, 3, 1], 'K5KK7'],\n",
       " [4012041212070004120007, '909', 'K5KK8', [3, 1, 3, 3, 1], 'J5KJ8'],\n",
       " [4012060604061206000406, '677', 'K7757', [1, 3, 3, 1, 3], 'K7J57'],\n",
       " [4012070702071207070200, '391', 'K8838', [1, 3, 3, 1, 3], 'K883J'],\n",
       " [4012070907071207090707, '963', 'K8T88', [1, 3, 1, 3, 3], 'K8T88'],\n",
       " [4012081207120008000712, '886', 'K9K8K', [3, 1, 3, 1, 3], 'J9J8K'],\n",
       " [4012090808081209080808, '274', 'KT999', [1, 1, 3, 3, 3], 'KT999'],\n",
       " [4012091203120009120300, '679', 'KTK4K', [3, 1, 3, 1, 3], 'JTK4J'],\n",
       " [4012091212021209001202, '743', 'KTKK3', [3, 1, 3, 3, 1], 'KTJK3'],\n",
       " [4012091212080009121208, '505', 'KTKK9', [3, 1, 3, 3, 1], 'JTKK9'],\n",
       " [4012111102111211110211, '385', 'KQQ3Q', [1, 3, 3, 1, 3], 'KQQ3Q'],\n",
       " [4012120211121212021100, '471', 'KK3QK', [3, 3, 1, 1, 3], 'KK3QJ'],\n",
       " [4012120312091212031209, '501', 'KK4KT', [3, 3, 1, 3, 1], 'KK4KT'],\n",
       " [4012120408121212040812, '874', 'KK59K', [3, 3, 1, 1, 3], 'KK59K'],\n",
       " [4012120702121212070212, '260', 'KK83K', [3, 3, 1, 1, 3], 'KK83K'],\n",
       " [4012120804121212080400, '566', 'KK95K', [3, 3, 1, 1, 3], 'KK95J'],\n",
       " [4012121205021200000502, '478', 'KKK63', [3, 3, 3, 1, 1], 'KJJ63'],\n",
       " [4012121206051212120605, '395', 'KKK76', [3, 3, 3, 1, 1], 'KKK76'],\n",
       " [4012121209111212120911, '957', 'KKKTQ', [3, 3, 3, 1, 1], 'KKKTQ'],\n",
       " [4012131212071213121207, '744', 'KAKK8', [3, 1, 3, 3, 1], 'KAKK8'],\n",
       " [4012131212081213121208, '262', 'KAKK9', [3, 1, 3, 3, 1], 'KAKK9'],\n",
       " [4013011304131301130413, '879', 'A2A5A', [3, 1, 3, 1, 3], 'A2A5A'],\n",
       " [4013020205021302020500, '779', 'A3363', [1, 3, 3, 1, 3], 'A336J'],\n",
       " [4013021102021302110002, '738', 'A3Q33', [1, 3, 1, 3, 3], 'A3QJ3'],\n",
       " [4013040804041304080404, '293', 'A5955', [1, 3, 1, 3, 3], 'A5955'],\n",
       " [4013041113131304111313, '235', 'A5QAA', [3, 1, 1, 3, 3], 'A5QAA'],\n",
       " [4013050505111305050511, '842', 'A666Q', [1, 3, 3, 3, 1], 'A666Q'],\n",
       " [4013071311130007131113, '67', 'A8AQA', [3, 1, 3, 1, 3], 'J8AQA'],\n",
       " [4013071312130007131213, '682', 'A8AKA', [3, 1, 3, 1, 3], 'J8AKA'],\n",
       " [4013080608081308060808, '95', 'A9799', [1, 3, 1, 3, 3], 'A9799'],\n",
       " [4013090903091309000309, '107', 'ATT4T', [1, 3, 3, 1, 3], 'ATJ4T'],\n",
       " [4013090909051309090905, '247', 'ATTT6', [1, 3, 3, 3, 1], 'ATTT6'],\n",
       " [4013091212121309121212, '104', 'ATKKK', [1, 1, 3, 3, 3], 'ATKKK'],\n",
       " [4013121304131312130413, '14', 'AKA5A', [3, 1, 3, 1, 3], 'AKA5A'],\n",
       " [4013130313111313030011, '911', 'AA4AQ', [3, 3, 1, 3, 1], 'AA4JQ'],\n",
       " [4013130413061313041306, '338', 'AA5A7', [3, 3, 1, 3, 1], 'AA5A7'],\n",
       " [4013130504131313050413, '642', 'AA65A', [3, 3, 1, 1, 3], 'AA65A'],\n",
       " [4013130512130013051213, '863', 'AA6KA', [3, 3, 1, 1, 3], 'JA6KA'],\n",
       " [4013130513021313051302, '387', 'AA6A3', [3, 3, 1, 3, 1], 'AA6A3'],\n",
       " [4013131304081313130408, '652', 'AAA59', [3, 3, 3, 1, 1], 'AAA59'],\n",
       " [4013131311071313131107, '357', 'AAAQ8', [3, 3, 3, 1, 1], 'AAAQ8'],\n",
       " [5001010108080100010808, '404', '22299', [3, 3, 3, 2, 2], '2J299'],\n",
       " [5001010112120001011212, '519', '222KK', [3, 3, 3, 2, 2], 'J22KK'],\n",
       " [5001010201020101020002, '766', '22323', [3, 3, 2, 3, 2], '223J3'],\n",
       " [5001011101110100110111, '460', '22Q2Q', [3, 3, 2, 3, 2], '2JQ2Q'],\n",
       " [5001020202010102020201, '246', '23332', [2, 3, 3, 3, 2], '23332'],\n",
       " [5001040104040104010404, '871', '25255', [2, 3, 2, 3, 3], '25255'],\n",
       " [5001050105050105010505, '628', '26266', [2, 3, 2, 3, 3], '26266'],\n",
       " [5001080808010108080801, '570', '29992', [2, 3, 3, 3, 2], '29992'],\n",
       " [5001090101090109010109, '484', '2T22T', [3, 2, 3, 3, 2], '2T22T'],\n",
       " [5001111111010111111101, '706', '2QQQ2', [2, 3, 3, 3, 2], '2QQQ2'],\n",
       " [5002010101020201010102, '251', '32223', [2, 3, 3, 3, 2], '32223'],\n",
       " [5002020302030202030203, '788', '33434', [3, 3, 2, 3, 2], '33434'],\n",
       " [5002020909020002090902, '540', '33TT3', [3, 3, 2, 2, 3], 'J3TT3'],\n",
       " [5002021102110202110011, '212', '33Q3Q', [3, 3, 2, 3, 2], '33QJQ'],\n",
       " [5002040202040204020004, '283', '35335', [3, 2, 3, 3, 2], '353J5'],\n",
       " [5002060206020206000602, '328', '37373', [3, 2, 3, 2, 3], '37J73'],\n",
       " [5002060606020206060602, '290', '37773', [2, 3, 3, 3, 2], '37773'],\n",
       " [5002070202070207020207, '422', '38338', [3, 2, 3, 3, 2], '38338'],\n",
       " [5002080208020208020802, '506', '39393', [3, 2, 3, 2, 3], '39393'],\n",
       " [5002120212020212001202, '563', '3K3K3', [3, 2, 3, 2, 3], '3KJK3'],\n",
       " [5003010103010301010301, '955', '42242', [2, 3, 3, 2, 3], '42242'],\n",
       " [5003030103010303010001, '719', '44242', [3, 3, 2, 3, 2], '442J2'],\n",
       " [5003030313130300031313, '772', '444AA', [3, 3, 3, 2, 2], '4J4AA'],\n",
       " [5003030808030303080800, '124', '44994', [3, 3, 2, 2, 3], '4499J'],\n",
       " [5003031303130303130313, '406', '44A4A', [3, 3, 2, 3, 2], '44A4A'],\n",
       " [5003121203030312120303, '127', '4KK44', [3, 2, 2, 3, 3], '4KK44'],\n",
       " [5004010104010401010401, '32', '52252', [2, 3, 3, 2, 3], '52252'],\n",
       " [5004020402040402040204, '603', '53535', [3, 2, 3, 2, 3], '53535'],\n",
       " [5004040303040404030304, '299', '55445', [3, 3, 2, 2, 3], '55445'],\n",
       " [5004040409090404040909, '513', '555TT', [3, 3, 3, 2, 2], '555TT'],\n",
       " [5004041212040404121200, '101', '55KK5', [3, 3, 2, 2, 3], '55KKJ'],\n",
       " [5004041304130404130413, '303', '55A5A', [3, 3, 2, 3, 2], '55A5A'],\n",
       " [5004060406040406040604, '231', '57575', [3, 2, 3, 2, 3], '57575'],\n",
       " [5004080408040408040804, '49', '59595', [3, 2, 3, 2, 3], '59595'],\n",
       " [5004090904040409090004, '797', '5TT55', [3, 2, 2, 3, 3], '5TTJ5'],\n",
       " [5005020502050502050205, '809', '63636', [3, 2, 3, 2, 3], '63636'],\n",
       " [5005030305030503030503, '801', '64464', [2, 3, 3, 2, 3], '64464'],\n",
       " [5005030503050503000305, '426', '64646', [3, 2, 3, 2, 3], '64J46'],\n",
       " [5005040405050504040505, '225', '65566', [3, 2, 2, 3, 3], '65566'],\n",
       " [5005050504040505000404, '870', '66655', [3, 3, 3, 2, 2], '66J55'],\n",
       " [5005050705070505070507, '700', '66868', [3, 3, 2, 3, 2], '66868'],\n",
       " [5005051313050505131305, '938', '66AA6', [3, 3, 2, 2, 3], '66AA6'],\n",
       " [5005060505060506050506, '807', '67667', [3, 2, 3, 3, 2], '67667'],\n",
       " [5005090905050509090005, '989', '6TT66', [3, 2, 2, 3, 3], '6TTJ6'],\n",
       " [5005110505110511050511, '301', '6Q66Q', [3, 2, 3, 3, 2], '6Q66Q'],\n",
       " [5005120512050512051200, '954', '6K6K6', [3, 2, 3, 2, 3], '6K6KJ'],\n",
       " [5006020202060602020206, '28', '73337', [2, 3, 3, 3, 2], '73337'],\n",
       " [5006060306030606030603, '60', '77474', [3, 3, 2, 3, 2], '77474'],\n",
       " [5006061206120606120012, '804', '77K7K', [3, 3, 2, 3, 2], '77KJK'],\n",
       " [5006061306130600130613, '473', '77A7A', [3, 3, 2, 3, 2], '7JA7A'],\n",
       " [5006120612060612061206, '241', '7K7K7', [3, 2, 3, 2, 3], '7K7K7'],\n",
       " [5007020702070702000207, '287', '83838', [3, 2, 3, 2, 3], '83J38'],\n",
       " [5007040404070704040407, '78', '85558', [2, 3, 3, 3, 2], '85558'],\n",
       " [5007040707040704070704, '599', '85885', [3, 2, 3, 3, 2], '85885'],\n",
       " [5007050507070705050707, '747', '86688', [3, 2, 2, 3, 3], '86688'],\n",
       " [5007070101010707010101, '862', '88222', [2, 2, 3, 3, 3], '88222'],\n",
       " [5007070101070707010107, '10', '88228', [3, 3, 2, 2, 3], '88228'],\n",
       " [5007070303030707030303, '778', '88444', [2, 2, 3, 3, 3], '88444'],\n",
       " [5007070712120007071212, '721', '888KK', [3, 3, 3, 2, 2], 'J88KK'],\n",
       " [5007070713130700071313, '277', '888AA', [3, 3, 3, 2, 2], '8J8AA'],\n",
       " [5007070909070007090907, '105', '88TT8', [3, 3, 2, 2, 3], 'J8TT8'],\n",
       " [5007080708080708070808, '139', '89899', [2, 3, 2, 3, 3], '89899'],\n",
       " [5008010108010801010801, '582', '92292', [2, 3, 3, 2, 3], '92292'],\n",
       " [5008050508080805050008, '637', '96699', [3, 2, 2, 3, 3], '966J9'],\n",
       " [5008060606080806060608, '475', '97779', [2, 3, 3, 3, 2], '97779'],\n",
       " [5008080202080808020208, '791', '99339', [3, 3, 2, 2, 3], '99339'],\n",
       " [5008080208020008020802, '971', '99393', [3, 3, 2, 3, 2], 'J9393'],\n",
       " [5008080606080008060608, '321', '99779', [3, 3, 2, 2, 3], 'J9779'],\n",
       " [5008080805050808080505, '269', '99966', [3, 3, 3, 2, 2], '99966'],\n",
       " [5008080813130808001313, '464', '999AA', [3, 3, 3, 2, 2], '99JAA'],\n",
       " [5008110808110811080011, '113', '9Q99Q', [3, 2, 3, 3, 2], '9Q9JQ'],\n",
       " [5008121208080812120808, '649', '9KK99', [3, 2, 2, 3, 3], '9KK99'],\n",
       " [5008131313080813131308, '656', '9AAA9', [2, 3, 3, 3, 2], '9AAA9'],\n",
       " [5009010109090901010009, '607', 'T22TT', [3, 2, 2, 3, 3], 'T22JT'],\n",
       " [5009020202090902020209, '273', 'T333T', [2, 3, 3, 3, 2], 'T333T'],\n",
       " [5009030309030903030903, '6', 'T44T4', [2, 3, 3, 2, 3], 'T44T4'],\n",
       " [5009030909030903000903, '850', 'T4TT4', [3, 2, 3, 3, 2], 'T4JT4'],\n",
       " [5009060606090906060609, '524', 'T777T', [2, 3, 3, 3, 2], 'T777T'],\n",
       " [5009070707090907070709, '967', 'T888T', [2, 3, 3, 3, 2], 'T888T'],\n",
       " [5009080809090908080909, '394', 'T99TT', [3, 2, 2, 3, 3], 'T99TT'],\n",
       " [5009080908080908090808, '324', 'T9T99', [2, 3, 2, 3, 3], 'T9T99'],\n",
       " [5009090606090909060609, '384', 'TT77T', [3, 3, 2, 2, 3], 'TT77T'],\n",
       " [5009090809080900080908, '15', 'TT9T9', [3, 3, 2, 3, 2], 'TJ9T9'],\n",
       " [5009090905050909090505, '33', 'TTT66', [3, 3, 3, 2, 2], 'TTT66'],\n",
       " [5009091209120909120912, '108', 'TTKTK', [3, 3, 2, 3, 2], 'TTKTK'],\n",
       " [5009091212090909121200, '90', 'TTKKT', [3, 3, 2, 2, 3], 'TTKKJ'],\n",
       " [5009110911110911091111, '681', 'TQTQQ', [2, 3, 2, 3, 3], 'TQTQQ'],\n",
       " [5009131309090913130909, '629', 'TAATT', [3, 2, 2, 3, 3], 'TAATT'],\n",
       " [5009131309130913130913, '916', 'TAATA', [2, 3, 3, 2, 3], 'TAATA'],\n",
       " [5011071107111107000711, '137', 'Q8Q8Q', [3, 2, 3, 2, 3], 'Q8J8Q'],\n",
       " [5011071107111107110711, '417', 'Q8Q8Q', [3, 2, 3, 2, 3], 'Q8Q8Q'],\n",
       " [5011080811081108081108, '977', 'Q99Q9', [2, 3, 3, 2, 3], 'Q99Q9'],\n",
       " [5011091109091109110909, '371', 'QTQTT', [2, 3, 2, 3, 3], 'QTQTT'],\n",
       " [5011091109111109000911, '783', 'QTQTQ', [3, 2, 3, 2, 3], 'QTJTQ'],\n",
       " [5011110101011111010101, '838', 'QQ222', [2, 2, 3, 3, 3], 'QQ222'],\n",
       " [5011110808111111080811, '300', 'QQ99Q', [3, 3, 2, 2, 3], 'QQ99Q'],\n",
       " [5011121211111112121100, '487', 'QKKQQ', [3, 2, 2, 3, 3], 'QKKQJ'],\n",
       " [5012051212051205121205, '655', 'K6KK6', [3, 2, 3, 3, 2], 'K6KK6'],\n",
       " [5012070712121207071212, '515', 'K88KK', [3, 2, 2, 3, 3], 'K88KK'],\n",
       " [5012120202121212020212, '543', 'KK33K', [3, 3, 2, 2, 3], 'KK33K'],\n",
       " [5012121204041212120404, '348', 'KKK55', [3, 3, 3, 2, 2], 'KKK55'],\n",
       " [5012121312131212130013, '933', 'KKAKA', [3, 3, 2, 3, 2], 'KKAJA'],\n",
       " [5013011301131301000113, '595', 'A2A2A', [3, 2, 3, 2, 3], 'A2J2A'],\n",
       " [5013030313131303031313, '867', 'A44AA', [3, 2, 2, 3, 3], 'A44AA'],\n",
       " [5013040413131304040013, '926', 'A55AA', [3, 2, 2, 3, 3], 'A55JA'],\n",
       " [5013040413131304041313, '144', 'A55AA', [3, 2, 2, 3, 3], 'A55AA'],\n",
       " [5013070707131307070713, '987', 'A888A', [2, 3, 3, 3, 2], 'A888A'],\n",
       " [5013071307131307130713, '204', 'A8A8A', [3, 2, 3, 2, 3], 'A8A8A'],\n",
       " [5013080808131308080813, '694', 'A999A', [2, 3, 3, 3, 2], 'A999A'],\n",
       " [5013131212121313121212, '981', 'AAKKK', [2, 2, 3, 3, 3], 'AAKKK'],\n",
       " [5013131301011313130101, '697', 'AAA22', [3, 3, 3, 2, 2], 'AAA22'],\n",
       " [5013131311111313001111, '194', 'AAAQQ', [3, 3, 3, 2, 2], 'AAJQQ'],\n",
       " [6001010101110001010111, '403', '2222Q', [4, 4, 4, 4, 1], 'J222Q'],\n",
       " [6001010105010101010501, '782', '22262', [4, 4, 4, 1, 4], '22262'],\n",
       " [6001010108010101000801, '630', '22292', [4, 4, 4, 1, 4], '22J92'],\n",
       " [6001010111010001011100, '367', '222Q2', [4, 4, 4, 1, 4], 'J22QJ'],\n",
       " [6001010401010101040101, '644', '22522', [4, 4, 1, 4, 4], '22522'],\n",
       " [6001010701010001070101, '907', '22822', [4, 4, 1, 4, 4], 'J2822'],\n",
       " [6001010801010101080101, '405', '22922', [4, 4, 1, 4, 4], '22922'],\n",
       " [6001020101010102010101, '368', '23222', [4, 1, 4, 4, 4], '23222'],\n",
       " [6001040404040104000404, '362', '25555', [1, 4, 4, 4, 4], '25J55'],\n",
       " [6001080101010008010001, '717', '29222', [4, 1, 4, 4, 4], 'J92J2'],\n",
       " [6001090909090109090909, '798', '2TTTT', [1, 4, 4, 4, 4], '2TTTT'],\n",
       " [6001111111110111110011, '335', '2QQQQ', [1, 4, 4, 4, 4], '2QQJQ'],\n",
       " [6001131313130113131300, '953', '2AAAA', [1, 4, 4, 4, 4], '2AAAJ'],\n",
       " [6002010101010201000101, '691', '32222', [1, 4, 4, 4, 4], '32J22'],\n",
       " [6002010202020201020202, '468', '32333', [4, 1, 4, 4, 4], '32333'],\n",
       " [6002020202030202000203, '904', '33334', [4, 4, 4, 4, 1], '33J34'],\n",
       " [6002020202060002020206, '751', '33337', [4, 4, 4, 4, 1], 'J3337'],\n",
       " [6002020202080200020208, '498', '33339', [4, 4, 4, 4, 1], '3J339'],\n",
       " [6002020203020202020302, '399', '33343', [4, 4, 4, 1, 4], '33343'],\n",
       " [6002020212020202001202, '425', '333K3', [4, 4, 4, 1, 4], '33JK3'],\n",
       " [6002021202020202120000, '959', '33K33', [4, 4, 1, 4, 4], '33KJJ'],\n",
       " [6002021302020202130202, '388', '33A33', [4, 4, 1, 4, 4], '33A33'],\n",
       " [6002070202020207020202, '58', '38333', [4, 1, 4, 4, 4], '38333'],\n",
       " [6002080202020208020202, '701', '39333', [4, 1, 4, 4, 4], '39333'],\n",
       " [6002080808080208080808, '521', '39999', [1, 4, 4, 4, 4], '39999'],\n",
       " [6002110202020211020202, '106', '3Q333', [4, 1, 4, 4, 4], '3Q333'],\n",
       " [6002120202020212020202, '337', '3K333', [4, 1, 4, 4, 4], '3K333'],\n",
       " [6003030103030303010303, '817', '44244', [4, 4, 1, 4, 4], '44244'],\n",
       " [6003030303020300000302, '209', '44443', [4, 4, 4, 4, 1], '4JJ43'],\n",
       " [6003030303020303030302, '53', '44443', [4, 4, 4, 4, 1], '44443'],\n",
       " [6003030303050303030305, '852', '44446', [4, 4, 4, 4, 1], '44446'],\n",
       " [6003030303070003030307, '89', '44448', [4, 4, 4, 4, 1], 'J4448'],\n",
       " [6003030303110300030011, '928', '4444Q', [4, 4, 4, 4, 1], '4J4JQ'],\n",
       " [6003030304030303030403, '233', '44454', [4, 4, 4, 1, 4], '44454'],\n",
       " [6003030311030303031103, '311', '444Q4', [4, 4, 4, 1, 4], '444Q4'],\n",
       " [6003030403030003040303, '934', '44544', [4, 4, 1, 4, 4], 'J4544'],\n",
       " [6003030803030303080300, '496', '44944', [4, 4, 1, 4, 4], '4494J'],\n",
       " [6003030903030303090303, '821', '44T44', [4, 4, 1, 4, 4], '44T44'],\n",
       " [6003050303030305000300, '945', '46444', [4, 1, 4, 4, 4], '46J4J'],\n",
       " [6003070707070307000707, '834', '48888', [1, 4, 4, 4, 4], '48J88'],\n",
       " [6003080303030008000303, '450', '49444', [4, 1, 4, 4, 4], 'J9J44'],\n",
       " [6003130303030313030003, '97', '4A444', [4, 1, 4, 4, 4], '4A4J4'],\n",
       " [6003131313130313131300, '183', '4AAAA', [1, 4, 4, 4, 4], '4AAAJ'],\n",
       " [6004020202020402020202, '883', '53333', [1, 4, 4, 4, 4], '53333'],\n",
       " [6004030404040403000000, '776', '54555', [4, 1, 4, 4, 4], '54JJJ'],\n",
       " [6004040104040400010400, '379', '55255', [4, 4, 1, 4, 4], '5J25J'],\n",
       " [6004040402040400040204, '201', '55535', [4, 4, 4, 1, 4], '5J535'],\n",
       " [6004040404080000040408, '196', '55559', [4, 4, 4, 4, 1], 'JJ559'],\n",
       " [6004040405040404040500, '40', '55565', [4, 4, 4, 1, 4], '5556J'],\n",
       " [6004040407040404040704, '111', '55585', [4, 4, 4, 1, 4], '55585'],\n",
       " [6004040411040404041104, '353', '555Q5', [4, 4, 4, 1, 4], '555Q5'],\n",
       " [6004040413040404001304, '115', '555A5', [4, 4, 4, 1, 4], '55JA5'],\n",
       " [6004040504040404050404, '641', '55655', [4, 4, 1, 4, 4], '55655'],\n",
       " [6004041204040404120004, '285', '55K55', [4, 4, 1, 4, 4], '55KJ5'],\n",
       " [6004041204040404120404, '217', '55K55', [4, 4, 1, 4, 4], '55K55'],\n",
       " [6004090404040409040404, '650', '5T555', [4, 1, 4, 4, 4], '5T555'],\n",
       " [6005010505050501050505, '657', '62666', [4, 1, 4, 4, 4], '62666'],\n",
       " [6005020202020502020202, '172', '63333', [1, 4, 4, 4, 4], '63333'],\n",
       " [6005020505050502050505, '5', '63666', [4, 1, 4, 4, 4], '63666'],\n",
       " [6005050305050005030505, '568', '66466', [4, 4, 1, 4, 4], 'J6466'],\n",
       " [6005050501050500050105, '289', '66626', [4, 4, 4, 1, 4], '6J626'],\n",
       " [6005050505030500000503, '888', '66664', [4, 4, 4, 4, 1], '6JJ64'],\n",
       " [6005050505030505050503, '9', '66664', [4, 4, 4, 4, 1], '66664'],\n",
       " [6005050505130505050013, '414', '6666A', [4, 4, 4, 4, 1], '666JA'],\n",
       " [6005050905050505090505, '802', '66T66', [4, 4, 1, 4, 4], '66T66'],\n",
       " [6005070505050507050505, '467', '68666', [4, 1, 4, 4, 4], '68666'],\n",
       " [6005080505050508050505, '705', '69666', [4, 1, 4, 4, 4], '69666'],\n",
       " [6005120505050512050505, '474', '6K666', [4, 1, 4, 4, 4], '6K666'],\n",
       " [6006010101010601010101, '680', '72222', [1, 4, 4, 4, 4], '72222'],\n",
       " [6006020606060602060006, '808', '73777', [4, 1, 4, 4, 4], '737J7'],\n",
       " [6006020606060602060606, '214', '73777', [4, 1, 4, 4, 4], '73777'],\n",
       " [6006030303030603030303, '993', '74444', [1, 4, 4, 4, 4], '74444'],\n",
       " [6006040606060604060606, '99', '75777', [4, 1, 4, 4, 4], '75777'],\n",
       " [6006050505050605050505, '176', '76666', [1, 4, 4, 4, 4], '76666'],\n",
       " [6006050606060605060606, '470', '76777', [4, 1, 4, 4, 4], '76777'],\n",
       " [6006060601060600060106, '968', '77727', [4, 4, 4, 1, 4], '7J727'],\n",
       " [6006060601060606060106, '88', '77727', [4, 4, 4, 1, 4], '77727'],\n",
       " [6006060603060606060300, '239', '77747', [4, 4, 4, 1, 4], '7774J'],\n",
       " [6006060606070606060007, '695', '77778', [4, 4, 4, 4, 1], '777J8'],\n",
       " [6006060606120606060612, '773', '7777K', [4, 4, 4, 4, 1], '7777K'],\n",
       " [6006070606060007060600, '617', '78777', [4, 1, 4, 4, 4], 'J877J'],\n",
       " [6006070606060607060606, '857', '78777', [4, 1, 4, 4, 4], '78777'],\n",
       " [6006070707070607070707, '626', '78888', [1, 4, 4, 4, 4], '78888'],\n",
       " [6006090909090609090909, '994', '7TTTT', [1, 4, 4, 4, 4], '7TTTT'],\n",
       " [6006130606060613060606, '829', '7A777', [4, 1, 4, 4, 4], '7A777'],\n",
       " [6007070407070707040707, '7', '88588', [4, 4, 1, 4, 4], '88588'],\n",
       " [6007070704070707000407, '843', '88858', [4, 4, 4, 1, 4], '88J58'],\n",
       " [6007070705070007070507, '597', '88868', [4, 4, 4, 1, 4], 'J8868'],\n",
       " [6007070705070707070507, '861', '88868', [4, 4, 4, 1, 4], '88868'],\n",
       " [6007070707020007070702, '905', '88883', [4, 4, 4, 4, 1], 'J8883'],\n",
       " [6007070707060700000706, '730', '88887', [4, 4, 4, 4, 1], '8JJ87'],\n",
       " [6007070707060700070706, '774', '88887', [4, 4, 4, 4, 1], '8J887'],\n",
       " [6007070707080707070708, '435', '88889', [4, 4, 4, 4, 1], '88889'],\n",
       " [6007070707090707000709, '19', '8888T', [4, 4, 4, 4, 1], '88J8T'],\n",
       " [6007070707130707070013, '244', '8888A', [4, 4, 4, 4, 1], '888JA'],\n",
       " [6007070708070700070807, '604', '88898', [4, 4, 4, 1, 4], '8J898'],\n",
       " [6007071107070007110700, '456', '88Q88', [4, 4, 1, 4, 4], 'J8Q8J'],\n",
       " [6007071107070707110700, '619', '88Q88', [4, 4, 1, 4, 4], '88Q8J'],\n",
       " [6007121212120712121212, '740', '8KKKK', [1, 4, 4, 4, 4], '8KKKK'],\n",
       " [6008020808080002000800, '552', '93999', [4, 1, 4, 4, 4], 'J3J9J'],\n",
       " [6008040808080804080808, '242', '95999', [4, 1, 4, 4, 4], '95999'],\n",
       " [6008080108080008010808, '605', '99299', [4, 4, 1, 4, 4], 'J9299'],\n",
       " [6008080708080808070808, '444', '99899', [4, 4, 1, 4, 4], '99899'],\n",
       " [6008080801080808080108, '814', '99929', [4, 4, 4, 1, 4], '99929'],\n",
       " [6008080806080808080608, '360', '99979', [4, 4, 4, 1, 4], '99979'],\n",
       " [6008080808020008080802, '331', '99993', [4, 4, 4, 4, 1], 'J9993'],\n",
       " [6008080808030808080803, '161', '99994', [4, 4, 4, 4, 1], '99994'],\n",
       " [6008080808050808080805, '577', '99996', [4, 4, 4, 4, 1], '99996'],\n",
       " [6008080908080808090808, '913', '99T99', [4, 4, 1, 4, 4], '99T99'],\n",
       " [6008081208080808120808, '148', '99K99', [4, 4, 1, 4, 4], '99K99'],\n",
       " [6009010101010901010101, '745', 'T2222', [1, 4, 4, 4, 4], 'T2222'],\n",
       " [6009030909090003090909, '895', 'T4TTT', [4, 1, 4, 4, 4], 'J4TTT'],\n",
       " [6009090509090909050909, '856', 'TT6TT', [4, 4, 1, 4, 4], 'TT6TT'],\n",
       " [6009090902090909090209, '885', 'TTT3T', [4, 4, 4, 1, 4], 'TTT3T'],\n",
       " [6009090903090909090309, '525', 'TTT4T', [4, 4, 4, 1, 4], 'TTT4T'],\n",
       " [6009090904090909090409, '923', 'TTT5T', [4, 4, 4, 1, 4], 'TTT5T'],\n",
       " [6009090909080909090908, '314', 'TTTT9', [4, 4, 4, 4, 1], 'TTTT9'],\n",
       " [6009090911090909001109, '185', 'TTTQT', [4, 4, 4, 1, 4], 'TTJQT'],\n",
       " [6009091209090909120009, '481', 'TTKTT', [4, 4, 1, 4, 4], 'TTKJT'],\n",
       " [6009121212120912121212, '23', 'TKKKK', [1, 4, 4, 4, 4], 'TKKKK'],\n",
       " [6011050505051100050505, '756', 'Q6666', [1, 4, 4, 4, 4], 'QJ666'],\n",
       " [6011060606061106000606, '114', 'Q7777', [1, 4, 4, 4, 4], 'Q7J77'],\n",
       " [6011061111111106001111, '438', 'Q7QQQ', [4, 1, 4, 4, 4], 'Q7JQQ'],\n",
       " [6011071111111107111111, '302', 'Q8QQQ', [4, 1, 4, 4, 4], 'Q8QQQ'],\n",
       " [6011090909091109090909, '333', 'QTTTT', [1, 4, 4, 4, 4], 'QTTTT'],\n",
       " [6011110511111111051111, '153', 'QQ6QQ', [4, 4, 1, 4, 4], 'QQ6QQ'],\n",
       " [6011111108111100110811, '401', 'QQQ9Q', [4, 4, 4, 1, 4], 'QJQ9Q'],\n",
       " [6011111109111111110911, '633', 'QQQTQ', [4, 4, 4, 1, 4], 'QQQTQ'],\n",
       " [6011111111010011001101, '654', 'QQQQ2', [4, 4, 4, 4, 1], 'JQJQ2'],\n",
       " [6011111111021111111102, '207', 'QQQQ3', [4, 4, 4, 4, 1], 'QQQQ3'],\n",
       " [6011111111041111111104, '623', 'QQQQ5', [4, 4, 4, 4, 1], 'QQQQ5'],\n",
       " [6011111111131111111113, '522', 'QQQQA', [4, 4, 4, 4, 1], 'QQQQA'],\n",
       " [6011111211111111120000, '621', 'QQKQQ', [4, 4, 1, 4, 4], 'QQKJJ'],\n",
       " [6011131313131100131313, '98', 'QAAAA', [1, 4, 4, 4, 4], 'QJAAA'],\n",
       " [6012060606061200060606, '428', 'K7777', [1, 4, 4, 4, 4], 'KJ777'],\n",
       " [6012111111111200111111, '424', 'KQQQQ', [1, 4, 4, 4, 4], 'KJQQQ'],\n",
       " [6012120212121200021212, '845', 'KK3KK', [4, 4, 1, 4, 4], 'KJ3KK'],\n",
       " [6012120512121212051212, '409', 'KK6KK', [4, 4, 1, 4, 4], 'KK6KK'],\n",
       " [6012121204121212120412, '75', 'KKK5K', [4, 4, 4, 1, 4], 'KKK5K'],\n",
       " [6012121205121200000500, '61', 'KKK6K', [4, 4, 4, 1, 4], 'KJJ6J'],\n",
       " [6012121206121212120612, '375', 'KKK7K', [4, 4, 4, 1, 4], 'KKK7K'],\n",
       " [6012121208121200120812, '556', 'KKK9K', [4, 4, 4, 1, 4], 'KJK9K'],\n",
       " [6012121208121212120812, '640', 'KKK9K', [4, 4, 4, 1, 4], 'KKK9K'],\n",
       " [6012121209120000120912, '964', 'KKKTK', [4, 4, 4, 1, 4], 'JJKTK'],\n",
       " [6012121212031212120003, '960', 'KKKK4', [4, 4, 4, 4, 1], 'KKKJ4'],\n",
       " [6012121212031212121203, '673', 'KKKK4', [4, 4, 4, 4, 1], 'KKKK4'],\n",
       " [6012121212061212120006, '718', 'KKKK7', [4, 4, 4, 4, 1], 'KKKJ7'],\n",
       " [6012131313131213131313, '226', 'KAAAA', [1, 4, 4, 4, 4], 'KAAAA'],\n",
       " [6013021313131302130013, '461', 'A3AAA', [4, 1, 4, 4, 4], 'A3AJA'],\n",
       " [6013030303031303030303, '833', 'A4444', [1, 4, 4, 4, 4], 'A4444'],\n",
       " [6013031313131303131313, '669', 'A4AAA', [4, 1, 4, 4, 4], 'A4AAA'],\n",
       " [6013040404041304040404, '972', 'A5555', [1, 4, 4, 4, 4], 'A5555'],\n",
       " [6013051313130005001313, '341', 'A6AAA', [4, 1, 4, 4, 4], 'J6JAA'],\n",
       " [6013071313131307131313, '339', 'A8AAA', [4, 1, 4, 4, 4], 'A8AAA'],\n",
       " [6013090909091300090909, '541', 'ATTTT', [1, 4, 4, 4, 4], 'AJTTT'],\n",
       " [6013090909091309090909, '575', 'ATTTT', [1, 4, 4, 4, 4], 'ATTTT'],\n",
       " [6013121313131312001313, '948', 'AKAAA', [4, 1, 4, 4, 4], 'AKJAA'],\n",
       " [6013130113131313011313, '351', 'AA2AA', [4, 4, 1, 4, 4], 'AA2AA'],\n",
       " [6013130313130013030013, '984', 'AA4AA', [4, 4, 1, 4, 4], 'JA4JA'],\n",
       " [6013130413131313040013, '544', 'AA5AA', [4, 4, 1, 4, 4], 'AA5JA'],\n",
       " [6013130513131313051300, '96', 'AA6AA', [4, 4, 1, 4, 4], 'AA6AJ'],\n",
       " [6013131306131313130613, '499', 'AAA7A', [4, 4, 4, 1, 4], 'AAA7A'],\n",
       " [6013131313070013131307, '924', 'AAAA8', [4, 4, 4, 4, 1], 'JAAA8'],\n",
       " [7001010101010000000101, '430', '22222', [5, 5, 5, 5, 5], 'JJJ22'],\n",
       " [7001010101010001010001, '670', '22222', [5, 5, 5, 5, 5], 'J22J2'],\n",
       " [7001010101010101000101, '553', '22222', [5, 5, 5, 5, 5], '22J22'],\n",
       " [7002020202020202020000, '463', '33333', [5, 5, 5, 5, 5], '333JJ'],\n",
       " [7002020202020202020200, '620', '33333', [5, 5, 5, 5, 5], '3333J'],\n",
       " [7003030303030300000303, '961', '44444', [5, 5, 5, 5, 5], '4JJ44'],\n",
       " [7003030303030303000303, '542', '44444', [5, 5, 5, 5, 5], '44J44'],\n",
       " [7004040404040004040404, '658', '55555', [5, 5, 5, 5, 5], 'J5555'],\n",
       " [7004040404040400040400, '982', '55555', [5, 5, 5, 5, 5], '5J55J'],\n",
       " [7005050505050000050505, '116', '66666', [5, 5, 5, 5, 5], 'JJ666'],\n",
       " [7005050505050505050005, '900', '66666', [5, 5, 5, 5, 5], '666J6'],\n",
       " [7006060606060000060606, '122', '77777', [5, 5, 5, 5, 5], 'JJ777'],\n",
       " [7006060606060606060006, '839', '77777', [5, 5, 5, 5, 5], '777J7'],\n",
       " [7007070707070700000000, '159', '88888', [5, 5, 5, 5, 5], '8JJJJ'],\n",
       " [7007070707070700070700, '722', '88888', [5, 5, 5, 5, 5], '8J88J'],\n",
       " [7007070707070700070707, '407', '88888', [5, 5, 5, 5, 5], '8J888'],\n",
       " [7008080808080808000008, '523', '99999', [5, 5, 5, 5, 5], '99JJ9'],\n",
       " [7008080808080808000808, '315', '99999', [5, 5, 5, 5, 5], '99J99'],\n",
       " [7009090909090009000909, '661', 'TTTTT', [5, 5, 5, 5, 5], 'JTJTT'],\n",
       " [7009090909090900090000, '489', 'TTTTT', [5, 5, 5, 5, 5], 'TJTJJ'],\n",
       " [7009090909090900090909, '192', 'TTTTT', [5, 5, 5, 5, 5], 'TJTTT'],\n",
       " [7011111111110011000011, '427', 'QQQQQ', [5, 5, 5, 5, 5], 'JQJJQ'],\n",
       " [7011111111111100001111, '51', 'QQQQQ', [5, 5, 5, 5, 5], 'QJJQQ'],\n",
       " [7011111111111111001111, '991', 'QQQQQ', [5, 5, 5, 5, 5], 'QQJQQ'],\n",
       " [7012121212120012001200, '150', 'KKKKK', [5, 5, 5, 5, 5], 'JKJKJ'],\n",
       " [7012121212120012001212, '727', 'KKKKK', [5, 5, 5, 5, 5], 'JKJKK'],\n",
       " [7012121212120012121212, '86', 'KKKKK', [5, 5, 5, 5, 5], 'JKKKK'],\n",
       " [7013131313130000000000, '876', 'AAAAA', [5, 5, 5, 5, 5], 'JJJJJ'],\n",
       " [7013131313130013001313, '68', 'AAAAA', [5, 5, 5, 5, 5], 'JAJAA'],\n",
       " [7013131313131313000000, '949', 'AAAAA', [5, 5, 5, 5, 5], 'AAJJJ'],\n",
       " [7013131313131313001313, '860', 'AAAAA', [5, 5, 5, 5, 5], 'AAJAA']]"
      ]
     },
     "execution_count": 556,
     "metadata": {},
     "output_type": "execute_result"
    }
   ],
   "source": [
    "handrankings(input)"
   ]
  }
 ],
 "metadata": {
  "kernelspec": {
   "display_name": "Python 3 (ipykernel)",
   "language": "python",
   "name": "python3"
  },
  "language_info": {
   "codemirror_mode": {
    "name": "ipython",
    "version": 3
   },
   "file_extension": ".py",
   "mimetype": "text/x-python",
   "name": "python",
   "nbconvert_exporter": "python",
   "pygments_lexer": "ipython3",
   "version": "3.11.6"
  }
 },
 "nbformat": 4,
 "nbformat_minor": 5
}

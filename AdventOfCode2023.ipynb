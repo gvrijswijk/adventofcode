{
 "cells": [
  {
   "cell_type": "markdown",
   "id": "347075f3-9332-483e-97e3-59aed6d0b336",
   "metadata": {},
   "source": [
    "# [Advent of Code 2023](https://adventofcode.com/2023)"
   ]
  },
  {
   "cell_type": "markdown",
   "id": "433135d8-2c31-4862-a172-f548f01263ef",
   "metadata": {},
   "source": [
    "## General functions"
   ]
  },
  {
   "cell_type": "code",
   "execution_count": 1,
   "id": "cf691d31-cab8-40c3-b97d-ced5997985ee",
   "metadata": {},
   "outputs": [],
   "source": [
    "import re\n",
    "import itertools\n",
    "import math\n",
    "from operator import itemgetter\n",
    "\n",
    "import matplotlib.pyplot as plt\n",
    "import numpy as np"
   ]
  },
  {
   "cell_type": "code",
   "execution_count": 2,
   "id": "41fd15b0-8cfa-416f-8b87-80acb3c64b01",
   "metadata": {},
   "outputs": [],
   "source": [
    "def Input(day, year=2023):\n",
    "    directory = '{}'.format(year)\n",
    "    filename = directory + '/input{}.txt'.format(day)\n",
    "    return open(filename)\n",
    "\n",
    "def Testdata(day, year=2023):\n",
    "    directory = '{}'.format(year)\n",
    "    filename = directory + '/testdata{}.txt'.format(day)\n",
    "    return open(filename)\n",
    "\n",
    "def mapt(fn, *args):\n",
    "    \"\"\"map(fn, *args) and return the result as a tuple.\"\"\"\n",
    "    return tuple(map(fn, *args))\n",
    "\n",
    "def parse(day, parser=str, sep='\\n', output='tuple') -> tuple:\n",
    "    \"\"\"Split the day's input file into entries separated by `sep`, and apply `parser` to each.\"\"\"\n",
    "    entries = open(f'2023/input{day}.txt').read().rstrip().split(sep)\n",
    "    return mapt(parser, entries)"
   ]
  },
  {
   "cell_type": "code",
   "execution_count": null,
   "id": "6dde3e24-71c9-44f8-9626-b3a58fe4468b",
   "metadata": {},
   "outputs": [],
   "source": [
    "def findroots(a, b, c):\n",
    "    dis = b * b - 4 * a * c \n",
    "    sqrt_val = math.sqrt(abs(dis)) \n",
    "    if dis > 0:\n",
    "        return (-b + sqrt_val)/(2 * a), (-b - sqrt_val)/(2 * a)\n",
    "    elif dis == 0:\n",
    "        return -b / (2 * a)\n",
    "    else:\n",
    "        return - b / (2 * a), + i, sqrt_val,  - b / (2 * a), - i, sqrt_val"
   ]
  },
  {
   "cell_type": "markdown",
   "id": "cf943123-4c01-41af-9a86-b2380b4625a1",
   "metadata": {},
   "source": [
    "## [Day 1: Trebuchet?!](https://adventofcode.com/2023/day/1)"
   ]
  },
  {
   "cell_type": "markdown",
   "id": "eb30f3ab-fc4b-4fc1-bf50-982a3293c1f5",
   "metadata": {},
   "source": [
    "### Part 1"
   ]
  },
  {
   "cell_type": "code",
   "execution_count": null,
   "id": "7133b59a-97ea-4e92-b461-4490b4296c62",
   "metadata": {},
   "outputs": [],
   "source": [
    "def calibration_values(n, replace = False):\n",
    "    if replace == True:\n",
    "        n = [translate_string(e) for e in n]\n",
    "    else:\n",
    "        n = [re.findall(r'\\d', e) for e in n]\n",
    "    return [int(e[0] + e[-1]) for e in n]"
   ]
  },
  {
   "cell_type": "code",
   "execution_count": null,
   "id": "8cdcc9bf-2986-4cf1-8b37-18f48b8f686c",
   "metadata": {},
   "outputs": [],
   "source": [
    "testdata = (\"1abc2\", \"pqr3stu8vwx\", \"a1b2c3d4e5f\", \"treb7uchet\")\n",
    "assert sum(calibration_values(testdata)) == 142"
   ]
  },
  {
   "cell_type": "code",
   "execution_count": null,
   "id": "2613d8e6-53b5-445c-a445-477b89cc2ade",
   "metadata": {},
   "outputs": [],
   "source": [
    "%time sum(calibration_values(parse('01')))"
   ]
  },
  {
   "cell_type": "markdown",
   "id": "571adca4-baa6-4af0-a673-d5d680b9f7c9",
   "metadata": {},
   "source": [
    "### Part 2"
   ]
  },
  {
   "cell_type": "code",
   "execution_count": null,
   "id": "430a3f4c-2fab-426a-bd53-1088f325b7ef",
   "metadata": {},
   "outputs": [],
   "source": [
    "def translate_string(n):\n",
    "    r = []\n",
    "    d = [\"zero\", \"one\", \"two\", \"three\", \"four\", \"five\", \"six\", \"seven\", \"eight\", \"nine\"]\n",
    "    for i, c in enumerate(n):\n",
    "        if c.isdigit():\n",
    "            r.append(c)\n",
    "        for j, b in enumerate(d):\n",
    "            if n[i:].startswith(b):\n",
    "                r.append(str(j))\n",
    "    return ''.join(r)\n",
    "                "
   ]
  },
  {
   "cell_type": "code",
   "execution_count": null,
   "id": "a5650b4e-e8c2-45ed-8a63-60380aebe827",
   "metadata": {
    "scrolled": true
   },
   "outputs": [],
   "source": [
    "testdata = (\"two1nine\", \"eightwothree\", \"abcone2threexyz\", \"xtwone3four\", \"4nineeightseven2\", \"zoneight234\", \"7pqrstsixteen\")\n",
    "assert(sum(calibration_values(testdata, True))) == 281"
   ]
  },
  {
   "cell_type": "code",
   "execution_count": null,
   "id": "1e72809f-b242-4ab4-a054-d6edd4093a48",
   "metadata": {},
   "outputs": [],
   "source": [
    "%time sum(calibration_values(parse('01'), True))"
   ]
  },
  {
   "cell_type": "markdown",
   "id": "5bad92cd-e2cf-4c33-9cbe-fab5efd10499",
   "metadata": {},
   "source": [
    "## [Day 2: Cube Conundrum](https://adventofcode.com/2023/day/2)"
   ]
  },
  {
   "cell_type": "markdown",
   "id": "3ee10682-1415-4dc3-a953-7aef21b4e7d5",
   "metadata": {},
   "source": [
    "### Part 1"
   ]
  },
  {
   "cell_type": "code",
   "execution_count": null,
   "id": "25a4ea51-b38a-46c7-9a8c-9651274ea1b5",
   "metadata": {},
   "outputs": [],
   "source": [
    "def combinations(n, red = None, green = None, blue = None):\n",
    "    d = {\"red\": red, \"green\": green, \"blue\": blue}\n",
    "    n = [[d[k] >= int(v) for v, k in re.findall(r'(\\d+) (\\w+)', m)] for m in n]\n",
    "    return [i + 1 if False not in m else 0 for i, m in enumerate(n)]\n",
    "\n",
    "%time sum(combinations(Input('02').readlines(), 12, 13, 14))"
   ]
  },
  {
   "cell_type": "markdown",
   "id": "0af54bf4-28c7-4943-9eea-e8a967fdd067",
   "metadata": {},
   "source": [
    "### Part 2"
   ]
  },
  {
   "cell_type": "code",
   "execution_count": null,
   "id": "ad4e5551-cbb9-4031-83c7-9fea96ca1149",
   "metadata": {},
   "outputs": [],
   "source": [
    "testdata = \"Game 1: 3 blue, 4 red; 1 red, 2 green, 6 blue; 2 green\\nGame 2: 1 blue, 2 green; 3 green, 4 blue, 1 red; 1 green, 1 blue\\nGame 3: 8 green, 6 blue, 20 red; 5 blue, 4 red, 13 green; 5 green, 1 red\\nGame 4: 1 green, 3 red, 6 blue; 3 green, 6 red; 3 green, 15 blue, 14 red\\nGame 5: 6 red, 1 blue, 3 green; 2 blue, 1 red, 2 green\""
   ]
  },
  {
   "cell_type": "code",
   "execution_count": null,
   "id": "607bcee0-3b2a-4226-bdd5-839cdab8233e",
   "metadata": {},
   "outputs": [],
   "source": [
    "def fewest_possible(n):\n",
    "    r = []\n",
    "    for m in n:\n",
    "        m = re.findall(r'(\\d+) (\\w+)', m)\n",
    "        t = {}\n",
    "        for v, k in m:\n",
    "            t[k] = max(t.get(k, 0), int(v))\n",
    "        r.append(t.values())\n",
    "    return r"
   ]
  },
  {
   "cell_type": "code",
   "execution_count": null,
   "id": "cba918b6-d7bd-4312-b700-c732387fab19",
   "metadata": {},
   "outputs": [],
   "source": [
    "assert sum([math.prod(e) for e in fewest_possible(testdata.split(\"\\n\"))])==2286"
   ]
  },
  {
   "cell_type": "code",
   "execution_count": null,
   "id": "705cb3d7-4452-4261-9281-f14816543ff0",
   "metadata": {},
   "outputs": [],
   "source": [
    "%time sum([math.prod(e) for e in fewest_possible(Input('02').readlines())])"
   ]
  },
  {
   "cell_type": "markdown",
   "id": "a113e5d2-db0c-47af-82b0-bcfc4a536c85",
   "metadata": {},
   "source": [
    "## [Day 3: Gear Ratios](https://adventofcode.com/2023/day/3)"
   ]
  },
  {
   "cell_type": "markdown",
   "id": "360b465a-2dc2-4b73-9e8a-83a75c187b03",
   "metadata": {},
   "source": [
    "### Part 1"
   ]
  },
  {
   "cell_type": "code",
   "execution_count": null,
   "id": "4bc50549-7b4b-4914-9da7-7e1d08d12450",
   "metadata": {},
   "outputs": [],
   "source": [
    "testdata = \"467..114..\\n...*......\\n..35..633.\\n......#...\\n617*......\\n.....+.58.\\n..592.....\\n......755.\\n...$.*....\\n.664.598..\""
   ]
  },
  {
   "cell_type": "code",
   "execution_count": null,
   "id": "3fd2f810-d827-4b1c-a4b8-453bf36bcef1",
   "metadata": {
    "scrolled": true
   },
   "outputs": [],
   "source": [
    "def str_to_lst(n):\n",
    "    d = {}\n",
    "    for i, e in enumerate(n.split()):\n",
    "        for j, f in enumerate(e):\n",
    "            d[(i, j)] = f\n",
    "    return d\n",
    "\n",
    "def neighbours8(i, j):\n",
    "    return (i - 1, j - 1), (i - 1, j),(i - 1, j + 1), (i, j - 1),(i, j + 1),(i + 1, j - 1),(i + 1, j),(i + 1, j + 1),\n",
    "\n",
    "def symbol_neighbours(n):\n",
    "    grid = str_to_lst(n)\n",
    "    nbs = {}\n",
    "    for k, v in grid.items():\n",
    "        if v.isdigit():\n",
    "            nbs[k] = True in [True if not grid.get(nb, \".\").isdigit() and grid.get(nb, \".\") != \".\" else False for nb in neighbours8(*k)]\n",
    "    return nbs\n",
    "\n",
    "def part_numbers(n):\n",
    "    part_numbers = []\n",
    "    grid = str_to_lst(n)\n",
    "    lst = symbol_neighbours(n)\n",
    "    string = \"\"\n",
    "    l = []\n",
    "    for k, v in lst.items():\n",
    "        i, j = k\n",
    "        if (i, j - 1) in lst:\n",
    "            string = string + str(grid[k])\n",
    "            l.append(v)\n",
    "        else:\n",
    "            if True in l:\n",
    "                part_numbers.append(int(string))\n",
    "            string = str(grid[k])\n",
    "            l = [v]\n",
    "    if True in l:\n",
    "        part_numbers.append(int(string))\n",
    "    return part_numbers\n",
    "\n",
    "part_numbers(testdata)"
   ]
  },
  {
   "cell_type": "code",
   "execution_count": null,
   "id": "530a96fa-a34b-4cfc-9b65-f6eaa8598d0d",
   "metadata": {},
   "outputs": [],
   "source": [
    "assert sum(part_numbers(testdata))==4361"
   ]
  },
  {
   "cell_type": "code",
   "execution_count": null,
   "id": "94e238ed-c6ca-49cf-8de2-21e03714ef5a",
   "metadata": {},
   "outputs": [],
   "source": [
    "%time sum(part_numbers(Input('03').read()))"
   ]
  },
  {
   "cell_type": "markdown",
   "id": "b280b91f-d3c7-46ff-a252-82534be4031a",
   "metadata": {},
   "source": [
    "### Part 2"
   ]
  },
  {
   "cell_type": "code",
   "execution_count": null,
   "id": "af29290b-7ab5-4632-83e2-8f13782d13df",
   "metadata": {},
   "outputs": [],
   "source": [
    "def gear_ratios(n):\n",
    "    grid = str_to_lst(n)\n",
    "    numbers = {}\n",
    "    l = []\n",
    "    gears = []\n",
    "    for k, v in grid.items():\n",
    "        i, j = k\n",
    "        if v == \"*\":\n",
    "            gears.append(k)\n",
    "        if v.isdigit():\n",
    "            if grid.get((i, j - 1), \".\").isdigit():\n",
    "                l.append(v)\n",
    "                c.append(k)\n",
    "            else:\n",
    "                l = [v]\n",
    "                c = [k]\n",
    "        elif len(l) > 0:\n",
    "            for cc in c:\n",
    "                numbers[cc] = int(''.join(l))\n",
    "    som = 0\n",
    "    for gear in gears:\n",
    "        nbs = set([numbers[nb] for nb in neighbours8(*gear) if nb in numbers])\n",
    "        if len(nbs) == 2:\n",
    "            som += math.prod(nbs)\n",
    "\n",
    "    return som"
   ]
  },
  {
   "cell_type": "code",
   "execution_count": null,
   "id": "01b1c775-4df3-4bfe-a42d-cdc58461ee51",
   "metadata": {},
   "outputs": [],
   "source": [
    "assert gear_ratios(testdata) == 467835"
   ]
  },
  {
   "cell_type": "code",
   "execution_count": null,
   "id": "c178ec44-0d8d-4901-a9a5-6907e0eb458a",
   "metadata": {},
   "outputs": [],
   "source": [
    "%time gear_ratios(Input('03').read())"
   ]
  },
  {
   "cell_type": "markdown",
   "id": "82182a2c-a21d-4a26-95ee-3408f526fac2",
   "metadata": {},
   "source": [
    "## [Day 4: Scratchcards](https://adventofcode.com/2023/day/4)"
   ]
  },
  {
   "cell_type": "markdown",
   "id": "851e50c4-46f1-468b-9fce-ca31cd602515",
   "metadata": {},
   "source": [
    "### Part 1"
   ]
  },
  {
   "cell_type": "code",
   "execution_count": null,
   "id": "2ddf21a8-4760-4579-9888-b88aa08c3539",
   "metadata": {},
   "outputs": [],
   "source": [
    "testdata = \"Card 1: 41 48 83 86 17 | 83 86  6 31 17  9 48 53\\nCard 2: 13 32 20 16 61 | 61 30 68 82 17 32 24 19\\nCard 3:  1 21 53 59 44 | 69 82 63 72 16 21 14  1\\nCard 4: 41 92 73 84 69 | 59 84 76 51 58  5 54 83\\nCard 5: 87 83 26 28 32 | 88 30 70 12 93 22 82 36\\nCard 6: 31 18 13 56 72 | 74 77 10 23 35 67 36 11\""
   ]
  },
  {
   "cell_type": "code",
   "execution_count": null,
   "id": "60f3e066-1e29-41be-9822-f7fd2aa77062",
   "metadata": {},
   "outputs": [],
   "source": [
    "def cards_worth(n):\n",
    "    n = n.strip().split(\"\\n\")\n",
    "    r = 0\n",
    "    for e in n:\n",
    "        c = [f.split() for f in e.split(\":\")[1].split(\"|\")]\n",
    "        c = [1 for e in c[0] if e in c[1]]\n",
    "        if sum(c) > 0:\n",
    "            r += 2 ** (sum(c) - 1)\n",
    "    return r"
   ]
  },
  {
   "cell_type": "code",
   "execution_count": null,
   "id": "60f0f8cd-81c5-402e-b80c-162fa3fb8ce2",
   "metadata": {},
   "outputs": [],
   "source": [
    "assert cards_worth(testdata) == 13"
   ]
  },
  {
   "cell_type": "code",
   "execution_count": null,
   "id": "a9e65348-bf6c-4202-86a8-b5fb79fa08c5",
   "metadata": {},
   "outputs": [],
   "source": [
    "%time cards_worth(Input('04').read())"
   ]
  },
  {
   "cell_type": "markdown",
   "id": "088df69d-b9ca-4755-b066-374940ada798",
   "metadata": {},
   "source": [
    "### Part 2"
   ]
  },
  {
   "cell_type": "code",
   "execution_count": null,
   "id": "4fdb51bc-3526-4ca8-8ec0-bde85a779720",
   "metadata": {},
   "outputs": [],
   "source": [
    "def number_of_cards(n):\n",
    "    n = [[f.split() for f in e.split(\":\")[1].split(\"|\")] for e in n.strip().split(\"\\n\")] \n",
    "    m = {i: 1 for i in range(len(n))}\n",
    "    for i, e in enumerate(n):\n",
    "        \n",
    "        c = [1 for f in e[0] if f in e[1]]\n",
    "        for j in range(1, sum(c) + 1):\n",
    "            m[i + j] = m[i + j] + m[i]\n",
    "    return sum(m.values())"
   ]
  },
  {
   "cell_type": "code",
   "execution_count": null,
   "id": "5626e110-85e8-4c92-af74-33a76a4ffdf0",
   "metadata": {},
   "outputs": [],
   "source": [
    "assert number_of_cards(testdata) == 30"
   ]
  },
  {
   "cell_type": "code",
   "execution_count": null,
   "id": "647c835d-8e49-4763-8c32-6f604be53014",
   "metadata": {},
   "outputs": [],
   "source": [
    "number_of_cards(testdata)"
   ]
  },
  {
   "cell_type": "code",
   "execution_count": null,
   "id": "538a5db3-8199-4297-951b-3474dfda15a7",
   "metadata": {},
   "outputs": [],
   "source": [
    "%time number_of_cards(Input('04').read())"
   ]
  },
  {
   "cell_type": "markdown",
   "id": "183ab89e-3452-4739-bf18-3ace440bf5b0",
   "metadata": {},
   "source": [
    "## [Day 5: If You Give A Seed A Fertilizer](https://adventofcode.com/2023/day/5)"
   ]
  },
  {
   "cell_type": "markdown",
   "id": "5e2674d7-ab5b-4e23-bdb0-d21d03013c24",
   "metadata": {},
   "source": [
    "### Part 1"
   ]
  },
  {
   "cell_type": "code",
   "execution_count": null,
   "id": "e47f8995-8538-4eac-a581-08a873408cf6",
   "metadata": {},
   "outputs": [],
   "source": [
    "testdata = Testdata('07').read()"
   ]
  },
  {
   "cell_type": "code",
   "execution_count": null,
   "id": "292e446e-bf3a-4d64-9df9-f2f8944f2c32",
   "metadata": {},
   "outputs": [],
   "source": [
    "def parse_data(n):\n",
    "    d = {}\n",
    "    for e in n.strip().split(\"\\n\\n\"):\n",
    "        if e.startswith(\"seeds\"):\n",
    "            seeds = [int(f) for f in re.findall(r'(\\d+)', e)]\n",
    "        else:\n",
    "            e = e.split(\"\\n\")\n",
    "            name = e[0][:len(e[0]) - 5]\n",
    "            t = []\n",
    "            for f in e[1:]:\n",
    "                t.append([int(g) for g in f.split()])\n",
    "            d[name] = sorted(t, key=itemgetter(1))\n",
    "    return seeds, d  \n",
    "\n",
    "def solution(n, steps = None):\n",
    "    if steps == None:\n",
    "        steps = ['seed-to-soil', 'soil-to-fertilizer', 'fertilizer-to-water', 'water-to-light', 'light-to-temperature', 'temperature-to-humidity','humidity-to-location']\n",
    "    seeds, d = parse_data(n)\n",
    "    locs = []\n",
    "    for seed in seeds:\n",
    "        # print(\"-\"*30)\n",
    "        loc = seed\n",
    "        for step in steps:\n",
    "            for lst in d[step]:\n",
    "                if loc in range(lst[1], lst[1] + lst[2]):\n",
    "                    loc = lst[0] + loc - lst[1]\n",
    "                    # print(\"D\", step, d[step], loc)\n",
    "                    break\n",
    "        locs.append(loc)\n",
    "    return locs"
   ]
  },
  {
   "cell_type": "code",
   "execution_count": null,
   "id": "c0ef8472-8df4-449d-a265-ec9cff413b0a",
   "metadata": {},
   "outputs": [],
   "source": [
    "%time assert min(solution(testdata)) == 35"
   ]
  },
  {
   "cell_type": "code",
   "execution_count": null,
   "id": "4ec74719-97af-435c-834d-c7646b7b1afd",
   "metadata": {},
   "outputs": [],
   "source": [
    "%time min(solution(Input('05').read()))"
   ]
  },
  {
   "cell_type": "markdown",
   "id": "af8752b1-b35c-4454-bc99-4fd1ad68176a",
   "metadata": {},
   "source": [
    "### Part 2"
   ]
  },
  {
   "cell_type": "code",
   "execution_count": null,
   "id": "5fb52a81-910f-43f3-8f8a-bcaeb5be1f1d",
   "metadata": {},
   "outputs": [],
   "source": [
    "from operator import itemgetter \n",
    "\n",
    "def solution(n, steps = None):\n",
    "    if steps == None:\n",
    "        steps = ['seed-to-soil', 'soil-to-fertilizer', 'fertilizer-to-water', 'water-to-light', 'light-to-temperature', 'temperature-to-humidity','humidity-to-location']\n",
    "    seeds, d = parse_data(n)\n",
    "    seeds = [(x, x + y) for x, y in zip(seeds[::2], seeds[1::2])]\n",
    "    for step in steps:\n",
    "        # print(\"seeds\", seeds)\n",
    "        step = d[step]\n",
    "        t = []\n",
    "        for seedrange in seeds:\n",
    "            seedrange_low, seedrange_high = seedrange\n",
    "            for i, rng in enumerate(step):\n",
    "                range_low = rng[1]\n",
    "                range_high = rng[1] + rng[2]\n",
    "                range_shift = rng[0] - rng[1]\n",
    "                # print(\"in\", seedrange, (range_low, range_high), i, len(step))\n",
    "                if seedrange_high < range_low:\n",
    "                    t.append((seedrange_low, seedrange_high))\n",
    "                    break\n",
    "                elif seedrange_low < range_low and seedrange_high >= range_low:\n",
    "                    t.append((seedrange_low, range_low))\n",
    "                    seedrange_low = range_low\n",
    "                elif seedrange_low >= range_low and seedrange_high <= range_high:\n",
    "                    t.append((seedrange_low + range_shift, seedrange_high+ range_shift))\n",
    "                    break\n",
    "                elif seedrange_low >= range_low and seedrange_low < range_high and seedrange_high > range_high:\n",
    "                    t.append((seedrange_low + range_shift, range_high + range_shift))\n",
    "                    seedrange_low = range_high\n",
    "                elif i == len(step) - 1 and seedrange_low > range_high:\n",
    "                    t.append((seedrange_low, seedrange_high))\n",
    "            # print(\"uit\", t)\n",
    "        seeds = t\n",
    "    return min(list(zip(*seeds))[0])\n",
    "                    "
   ]
  },
  {
   "cell_type": "code",
   "execution_count": null,
   "id": "256e8eae-ff32-4c56-bef1-89a9183b6ba3",
   "metadata": {},
   "outputs": [],
   "source": [
    "%time assert solution(testdata) == 46"
   ]
  },
  {
   "cell_type": "code",
   "execution_count": null,
   "id": "f9e98f12-e667-4c93-b7be-590f87b799e4",
   "metadata": {},
   "outputs": [],
   "source": [
    "%time solution(Input('05').read())"
   ]
  },
  {
   "cell_type": "markdown",
   "id": "599d110b-471d-43e3-b063-fe350d950caf",
   "metadata": {},
   "source": [
    "## [Day 6: Wait For It](https://adventofcode.com/2023/day/6)"
   ]
  },
  {
   "cell_type": "markdown",
   "id": "99e50b1b-bb24-4f49-beff-e3c4242c7a21",
   "metadata": {},
   "source": [
    "### Part 1"
   ]
  },
  {
   "cell_type": "code",
   "execution_count": null,
   "id": "16327465-2a24-409f-a176-3eae7945a82a",
   "metadata": {},
   "outputs": [],
   "source": [
    "def speed(n):\n",
    "    return n\n",
    "\n",
    "def distance(m, n=None):\n",
    "    if n == None:\n",
    "        return [(i, (m - i) * speed(i)) for i in range(1, m)]\n",
    "    else:\n",
    "        return [(i, (m - i) * speed(i)) for i in range(1, m) if (m - i) * speed(i) > n]\n",
    "\n",
    "def score(n):\n",
    "    return math.prod([len(distance(e[0], e[1])) for e in zip(*n)])"
   ]
  },
  {
   "cell_type": "code",
   "execution_count": null,
   "id": "c5d293a4-6f66-4d40-83ce-c7c6aa06f898",
   "metadata": {},
   "outputs": [],
   "source": [
    "testdata = [[7, 15, 30], [9, 40, 200]]\n",
    "\n",
    "assert score(testdata) == 288 "
   ]
  },
  {
   "cell_type": "code",
   "execution_count": null,
   "id": "cd709f8c-d377-4f55-954c-6d77d2bad687",
   "metadata": {},
   "outputs": [],
   "source": [
    "day6 = [58, 81, 96, 76], [434, 1041, 2219, 1218]\n",
    "\n",
    "%time score(day6)"
   ]
  },
  {
   "cell_type": "markdown",
   "id": "ce5c3157-f501-4863-8837-e8221882ab58",
   "metadata": {},
   "source": [
    "### Part 2"
   ]
  },
  {
   "cell_type": "code",
   "execution_count": null,
   "id": "6ca77a1a-3f68-4e8d-995c-fe1c22b39492",
   "metadata": {},
   "outputs": [],
   "source": [
    "day6 = [58819676, 434104122191218]"
   ]
  },
  {
   "cell_type": "code",
   "execution_count": null,
   "id": "869e8ce3-6aa1-45e6-a60c-5d0f49742b10",
   "metadata": {},
   "outputs": [],
   "source": [
    "def score(m, n=None):\n",
    "    sc = 0\n",
    "    for i in range(1, m):\n",
    "        dist = (m - i) * speed(i)\n",
    "        if dist > n:\n",
    "            sc += 1\n",
    "    return sc\n"
   ]
  },
  {
   "cell_type": "code",
   "execution_count": null,
   "id": "5a932d37-5ed5-4fa2-bd3e-a0c363a95ce4",
   "metadata": {},
   "outputs": [],
   "source": [
    "assert score(71530, 940200) == 71503"
   ]
  },
  {
   "cell_type": "code",
   "execution_count": null,
   "id": "6b56744f-19c3-4bb8-ac77-e18bfe5af86c",
   "metadata": {},
   "outputs": [],
   "source": [
    "%time score(58819676, 434104122191218)"
   ]
  },
  {
   "cell_type": "code",
   "execution_count": null,
   "id": "28ec4ae7-b902-4150-9a7c-fcd17430eb73",
   "metadata": {},
   "outputs": [],
   "source": [
    "%time \n",
    "\n",
    "t = findroots(1, -58819676, 434104122191218)\n",
    "int(t[0] - t[1])"
   ]
  },
  {
   "cell_type": "markdown",
   "id": "d71c9802-e086-4cfd-bf56-cf67ea3a030c",
   "metadata": {},
   "source": [
    "### Part 1"
   ]
  },
  {
   "cell_type": "code",
   "execution_count": null,
   "id": "490cb4b4-2834-4119-9bf8-6b2c36a1ecbc",
   "metadata": {},
   "outputs": [],
   "source": [
    "def handrankings(n):\n",
    "    ranks = {'2': '01', '3': '02', '4': '03', '5': '04', '6': '05', '7': '06', '8': '07', '9': '08', 'T': '09', 'J': '10', 'Q': '11', 'K':'12', 'A': '13'}\n",
    "    hands = []\n",
    "    for hand, score in n:\n",
    "        f = [hand.count(cards) for cards in hand]\n",
    "        if 5 in [hand.count(cards) for cards in hand]:\n",
    "            string = \"70\"\n",
    "        elif 4 in [hand.count(cards) for cards in hand]:\n",
    "            string = \"60\"\n",
    "        elif 3 in [hand.count(cards) for cards in hand]:\n",
    "            if 2 in [hand.count(cards) for cards in hand]:\n",
    "                string = \"50\"\n",
    "            else:\n",
    "                string = \"40\"\n",
    "        elif 2 in [hand.count(cards) for cards in hand]:\n",
    "            if sum([hand.count(cards) for cards in hand]) == 9:\n",
    "                string = \"30\"\n",
    "            else:\n",
    "                string = \"20\"\n",
    "        else:\n",
    "            string = \"10\"\n",
    "        string = string + ''.join([ranks[card] for card in hand])\n",
    "        hands.append([int(string), score, hand, f])\n",
    "    return sorted(hands)\n",
    "    "
   ]
  },
  {
   "cell_type": "code",
   "execution_count": null,
   "id": "6a9215f2-0dba-49e8-b260-c04df1fe757b",
   "metadata": {},
   "outputs": [],
   "source": [
    "testdata = \"32T3K 765\\nT55J5 684\\nKK677 28\\nKTJJT 220\\nQQQJA 483\"\n",
    "testdata = [e.split() for e in testdata.split(\"\\n\")]"
   ]
  },
  {
   "cell_type": "code",
   "execution_count": null,
   "id": "554aafde-1ad7-48d8-9c09-bd15c23e6b16",
   "metadata": {},
   "outputs": [],
   "source": [
    "assert sum([(i + 1) * int(e[1]) for i, e in enumerate(handrankings(testdata))])==6440"
   ]
  },
  {
   "cell_type": "code",
   "execution_count": null,
   "id": "5360ffbf-ff67-472a-91ed-ae971012d47b",
   "metadata": {},
   "outputs": [],
   "source": [
    "input = [e.split() for e in parse('07')]\n",
    "%time sum([(i + 1) * int(e[1]) for i, e in enumerate(handrankings(input))])"
   ]
  },
  {
   "cell_type": "markdown",
   "id": "3f70ac2b-91eb-4fd2-96ff-6356dba44e4b",
   "metadata": {},
   "source": [
    "### Part 2"
   ]
  },
  {
   "cell_type": "code",
   "execution_count": null,
   "id": "e07ad895-9c42-4f87-a67e-255d67246f63",
   "metadata": {},
   "outputs": [],
   "source": [
    "def translatehand(m, n=\"J\"):\n",
    "    ranks = {'2': '01', '3': '02', '4': '03', '5': '04', '6': '05', '7': '06', '8': '07', '9': '08', 'T': '09', 'J': '00', 'Q': '11', 'K':'12', 'A': '13'}\n",
    "    c = m.count(n)\n",
    "    g = [m.count(e) for e in m]\n",
    "    k = [int(ranks[e]) for e in m]\n",
    "    if c == 5:\n",
    "        m = \"AAAAA\"\n",
    "    if c == 4 or c == 3:\n",
    "        m = m.replace(n, m[k.index(max(k))])\n",
    "    if c == 2:\n",
    "        if g.count(2) == 4:\n",
    "            m = m.replace(n, [e for e, f in zip(m, g) if e != \"J\" and f ==2][0])\n",
    "        else:\n",
    "            m = m.replace(n, m[k.index(max(k))])\n",
    "    if c == 1:\n",
    "        if max(g) > 1:\n",
    "            m = m.replace(n, m[g.index(max(g))])\n",
    "        else:\n",
    "            m = m.replace(n, m[k.index(max(k))])\n",
    "            \n",
    "    return m\n",
    "\n",
    "def handrankings(n):\n",
    "    ranks = {'2': '01', '3': '02', '4': '03', '5': '04', '6': '05', '7': '06', '8': '07', '9': '08', 'T': '09', 'J': '00', 'Q': '11', 'K':'12', 'A': '13'}\n",
    "    hands = []\n",
    "    for hand, score in n:\n",
    "        oldhand = hand\n",
    "        oldstr = ''.join([ranks[card] for card in hand])\n",
    "        hand = translatehand(hand)\n",
    "        f = [hand.count(cards) for cards in hand]\n",
    "        if 5 in [hand.count(cards) for cards in hand]:\n",
    "            string = \"70\"\n",
    "        elif 4 in [hand.count(cards) for cards in hand]:\n",
    "            string = \"60\"\n",
    "        elif 3 in [hand.count(cards) for cards in hand]:\n",
    "            if 2 in [hand.count(cards) for cards in hand]:\n",
    "                string = \"50\"\n",
    "            else:\n",
    "                string = \"40\"\n",
    "        elif 2 in [hand.count(cards) for cards in hand]:\n",
    "            if sum([hand.count(cards) for cards in hand]) == 9:\n",
    "                string = \"30\"\n",
    "            else:\n",
    "                string = \"20\"\n",
    "        else:\n",
    "            string = \"10\"\n",
    "        # str = str + ''.join([ranks[card] for card in hand]) + oldstr\n",
    "        string = string + oldstr\n",
    "        hands.append([int(string), score, hand, f, oldhand])\n",
    "    return sorted(hands)"
   ]
  },
  {
   "cell_type": "code",
   "execution_count": null,
   "id": "b50d7aec-db68-42e3-b494-27810c9f4e28",
   "metadata": {},
   "outputs": [],
   "source": [
    "assert sum([(i + 1) * int(e[1]) for i, e in enumerate(handrankings(testdata))])"
   ]
  },
  {
   "cell_type": "code",
   "execution_count": null,
   "id": "65259a0d-d1d4-4222-bcd7-be609544d2ad",
   "metadata": {
    "scrolled": true
   },
   "outputs": [],
   "source": [
    "sum([(i + 1) * int(e[1]) for i, e in enumerate(handrankings(input))])"
   ]
  },
  {
   "cell_type": "markdown",
   "id": "97ef38ae-21dc-4096-a408-92dee305abf4",
   "metadata": {},
   "source": [
    "## [Day 8: Haunted Wasteland](https://adventofcode.com/2023/day/8)"
   ]
  },
  {
   "cell_type": "markdown",
   "id": "daacc188-c29d-43e3-959e-86911c342f01",
   "metadata": {},
   "source": [
    "### Part 1"
   ]
  },
  {
   "cell_type": "code",
   "execution_count": null,
   "id": "5bc5e06f-0079-4aab-82d1-c17fd177128f",
   "metadata": {},
   "outputs": [],
   "source": [
    "testdata = \"LLR\\n\\nAAA = (BBB, BBB)\\nBBB = (AAA, ZZZ)\\nZZZ = (ZZZ, ZZZ)\\n\""
   ]
  },
  {
   "cell_type": "code",
   "execution_count": null,
   "id": "28426d12-6a4e-4039-aa12-93bd2d4d37e3",
   "metadata": {},
   "outputs": [],
   "source": [
    "def data_parser(n):\n",
    "    n = n.strip().split(\"\\n\\n\")\n",
    "    m = [int(e) for e in n[0].replace(\"L\", \"0\").replace(\"R\", \"1\")]\n",
    "    n = [e.split(\" = \") for e in n[1].split(\"\\n\")]\n",
    "    n = {e[0]: re. findall(r'(\\w+)', e[1]) for e in n}\n",
    "    return m, n\n",
    "\n",
    "def find_goal(n, next = \"AAA\", goal = \"ZZZ\"):\n",
    "    m, d = data_parser(n)\n",
    "    i = 0\n",
    "    while next != goal:\n",
    "        next = d[next][m[i % len(m)]]\n",
    "        i += 1\n",
    "    return i\n",
    "        "
   ]
  },
  {
   "cell_type": "code",
   "execution_count": null,
   "id": "2509bae0-c127-46f4-9d0c-b6773037bd7a",
   "metadata": {},
   "outputs": [],
   "source": [
    "assert find_goal(testdata) == 6"
   ]
  },
  {
   "cell_type": "code",
   "execution_count": null,
   "id": "9ef3a37e-1873-4e1f-9fa5-b954b584f4a0",
   "metadata": {},
   "outputs": [],
   "source": [
    "input = Input('08').read()"
   ]
  },
  {
   "cell_type": "code",
   "execution_count": null,
   "id": "bdc49291-2ecf-44bb-9115-e8970633e1df",
   "metadata": {},
   "outputs": [],
   "source": [
    "%time find_goal(input)"
   ]
  },
  {
   "cell_type": "markdown",
   "id": "12b68735-e274-4471-93ce-3e8a520ce0a7",
   "metadata": {},
   "source": [
    "### Part 2"
   ]
  },
  {
   "cell_type": "code",
   "execution_count": null,
   "id": "7959882b-64f6-4b95-99a6-a6078edc8032",
   "metadata": {},
   "outputs": [],
   "source": [
    "testdata = \"LR\\n\\n11A = (11B, XXX)\\n11B = (XXX, 11Z)\\n11Z = (11B, XXX)\\n22A = (22B, XXX)\\n22B = (22C, 22C)\\n22C = (22Z, 22Z)\\n22Z = (22B, 22B)\\nXXX = (XXX, XXX)\""
   ]
  },
  {
   "cell_type": "code",
   "execution_count": null,
   "id": "17459b3a-593d-41c4-ae36-22bbf6fedcf8",
   "metadata": {},
   "outputs": [],
   "source": [
    "def find_goal(n):\n",
    "    m, d = data_parser(n)\n",
    "    paths = [e for e in d if e[-1] == \"A\"]\n",
    "    t = []\n",
    "    for e in paths:\n",
    "        i = 0\n",
    "        while e[-1] != \"Z\":\n",
    "            e = d[e][m[i % len(m)]]\n",
    "            i += 1\n",
    "        t.append(i)        \n",
    "    return math.lcm(*t)"
   ]
  },
  {
   "cell_type": "code",
   "execution_count": null,
   "id": "543d3499-3674-4f67-be70-c3abc5410b33",
   "metadata": {},
   "outputs": [],
   "source": [
    "assert find_goal(testdata) == 6"
   ]
  },
  {
   "cell_type": "code",
   "execution_count": null,
   "id": "b3767984-9bdb-4f0d-b893-9658ebd38cae",
   "metadata": {},
   "outputs": [],
   "source": [
    "%time find_goal(input)"
   ]
  },
  {
   "cell_type": "markdown",
   "id": "b47b4ec1-8323-4e71-a5bd-69f5f0a7b74b",
   "metadata": {},
   "source": [
    "## [Day 9: Mirage Maintenance](https://adventofcode.com/2023/day/9)"
   ]
  },
  {
   "cell_type": "markdown",
   "id": "8c0431a2-bedc-48d4-bb48-1cee4368d501",
   "metadata": {},
   "source": [
    "### Part 1"
   ]
  },
  {
   "cell_type": "code",
   "execution_count": null,
   "id": "ce93c5c4-bbd3-446e-871d-faa84d6c7c56",
   "metadata": {},
   "outputs": [],
   "source": [
    "def next_value(n):\n",
    "    t = []\n",
    "    while set(n) != {0}:\n",
    "        t.append(n[-1])\n",
    "        n = [y - x for x, y in zip(n, n[1:])]\n",
    "    return sum(t)\n",
    "\n",
    "def next_values(n):\n",
    "    return [next_value(e) for e in n]"
   ]
  },
  {
   "cell_type": "code",
   "execution_count": null,
   "id": "60f769b2-814e-4422-8aca-6e6335fde563",
   "metadata": {},
   "outputs": [],
   "source": [
    "testdata = \"0 3 6 9 12 15\\n1 3 6 10 15 21\\n10 13 16 21 30 45\"\n",
    "testdata = testdata.strip().split(\"\\n\")\n",
    "testdata = [[int(e) for e in f.split()] for f in testdata]"
   ]
  },
  {
   "cell_type": "code",
   "execution_count": null,
   "id": "f3f2eafd-31ab-47c4-87d9-be9b70956ad8",
   "metadata": {},
   "outputs": [],
   "source": [
    "assert sum(next_values(testdata)) == 114"
   ]
  },
  {
   "cell_type": "code",
   "execution_count": null,
   "id": "862c9c30-a1ec-48b1-b0cf-9cc08c6b3034",
   "metadata": {
    "scrolled": true
   },
   "outputs": [],
   "source": [
    "input = [[int(e) for e in f.split()] for f in parse('09')]\n",
    "\n",
    "%time sum(next_values(input))"
   ]
  },
  {
   "cell_type": "markdown",
   "id": "d22634bb-bc6f-48d8-839f-092aaeb7f0a4",
   "metadata": {},
   "source": [
    "### Part 2"
   ]
  },
  {
   "cell_type": "code",
   "execution_count": null,
   "id": "dc93c1cc-d146-4737-829c-ebf408704330",
   "metadata": {},
   "outputs": [],
   "source": [
    "from functools import reduce\n",
    "\n",
    "def previous_value(n):\n",
    "    t = []\n",
    "    while set(n) != {0}:\n",
    "        t.append(n[0])\n",
    "        n = [y - x for x, y in zip(n, n[1:])]\n",
    "    return reduce(lambda x, y: y - x, t[::-1])\n",
    "\n",
    "def previous_values(n):\n",
    "    return [previous_value(e) for e in n]"
   ]
  },
  {
   "cell_type": "code",
   "execution_count": null,
   "id": "6b9fa47c-817f-475d-b822-6cacbb54bca4",
   "metadata": {},
   "outputs": [],
   "source": [
    "assert sum(previous_values(testdata)) ==2"
   ]
  },
  {
   "cell_type": "code",
   "execution_count": null,
   "id": "ce614fe2-16eb-43c7-b139-2c234089859f",
   "metadata": {},
   "outputs": [],
   "source": [
    "%time sum(previous_values(input))"
   ]
  },
  {
   "cell_type": "markdown",
   "id": "770a8e3c-6998-4444-bee6-874af9bf2637",
   "metadata": {},
   "source": [
    "## [Day 10: Pipe Maze](https://adventofcode.com/2023/day/10)"
   ]
  },
  {
   "cell_type": "code",
   "execution_count": null,
   "id": "a9351fb9-c4bc-45d9-bf90-4427ccde0ece",
   "metadata": {},
   "outputs": [],
   "source": [
    "input = Input('10').read().strip().split(\"\\n\")\n",
    "testdata = Testdata('10').read().strip().split(\"\\n\")"
   ]
  },
  {
   "cell_type": "code",
   "execution_count": null,
   "id": "c1c6288f-774e-4dcd-9b44-579ace4551db",
   "metadata": {},
   "outputs": [],
   "source": [
    "pipes = {\n",
    "    \"|\":  ((-1, 0), (1, 0)),\n",
    "    \"-\": ((0, -1), (0, 1)),\n",
    "    \"L\": ((-1, 0), (0, 1)),\n",
    "    \"J\": ((-1, 0), (0, -1)),\n",
    "    \"7\": ((1, 0), (0, -1)),\n",
    "    \"F\": ((1, 0), (0, 1))\n",
    "}"
   ]
  },
  {
   "cell_type": "code",
   "execution_count": null,
   "id": "836cdc96-6c35-43ae-8fd3-ed25608d9f57",
   "metadata": {},
   "outputs": [],
   "source": [
    "def parse_maze(n, p, s):\n",
    "    d = {}\n",
    "    S = []\n",
    "    for i, x in enumerate(n):\n",
    "        for j, y in enumerate(x):\n",
    "            if y in p.keys():\n",
    "                d[(i, j)] = [(x, y) for x, y in [[sum(e) for e in zip((i, j), f)] for f in p[y]]]\n",
    "            elif y == s:\n",
    "                S.append((i, j))\n",
    "    return d, S[0]\n",
    "\n",
    "def find_start(n, s = None):\n",
    "    if s == None:\n",
    "        s = \"S\"\n",
    "    return [k for k, v in n.items() if v == s][0]\n",
    "\n",
    "def solution(n, p, S):\n",
    "    m, s = parse_maze(n, p, S)\n",
    "    r = []\n",
    "    for k, v in p.items():\n",
    "        m[s] = [[sum(e) for e in zip(s, f)] for f in v]\n",
    "        next = (m[s][0][0], m[s][0][1])\n",
    "        prev = s\n",
    "        chain = [s]\n",
    "        while prev in m.get(next, []): \n",
    "            chain.append(next)\n",
    "            next = [e for e in m.get(next, []) if e != prev][0]\n",
    "            prev = chain[-1]\n",
    "        r.append(chain)\n",
    "    return r\n",
    "            "
   ]
  },
  {
   "cell_type": "code",
   "execution_count": null,
   "id": "b445dd57-3051-45ac-88a4-f68fc1eb4699",
   "metadata": {},
   "outputs": [],
   "source": [
    "assert max(len(e) for e in solution(testdata, pipes, \"S\")) / 2 == 8"
   ]
  },
  {
   "cell_type": "code",
   "execution_count": null,
   "id": "58cc1a01-e6e4-4e4c-aab9-d11dcb57d34e",
   "metadata": {},
   "outputs": [],
   "source": [
    "%time int(max(len(e) for e in solution(input, pipes, \"S\")) / 2)"
   ]
  },
  {
   "cell_type": "code",
   "execution_count": null,
   "id": "7093a201-5b39-4c3f-9911-dbb70fa43ad1",
   "metadata": {},
   "outputs": [],
   "source": [
    "%%time\n",
    "\n",
    "testdata2 = [e for e in Input('10').read().strip().split(\"\\n\")]\n",
    "y, x = len(testdata2), len(testdata2[0])\n",
    "\n",
    "sol = solution(testdata2, pipes, \"S\")[0]\n",
    "maze = {}\n",
    "\n",
    "for i, e in enumerate(testdata2):\n",
    "    for j, f in enumerate(e):\n",
    "        maze[i, j] = f\n",
    "\n",
    "r = {}\n",
    "ct = 0\n",
    "\n",
    "for j in range(y):\n",
    "    if (j, 0) in sol:\n",
    "        r[(j, 0)] = maze[(j, 0)]\n",
    "    else:\n",
    "        r[(j, 0)] = \".\"\n",
    "    if (j, x - 1) in sol:\n",
    "        r[(j, x - 1)] = maze[(j, x - 1)]\n",
    "    else:\n",
    "        r[(j, x - 1)] = \".\"\n",
    "for i in range(x):\n",
    "    if (0, i) in sol:\n",
    "        r[(0, i)] = maze[(0, i)]\n",
    "    else:\n",
    "        r[(0, i)] = \".\"\n",
    "    if (y - 1, i) in sol:\n",
    "        r[(y - 1, i)] = maze[(y - 1, i)]\n",
    "    else:\n",
    "        r[(y - 1, i)] = \".\"\n",
    "        \n",
    "for j in range(1, y - 1):\n",
    "    for i in range(1, x - 1):\n",
    "        if (j, i) in sol:\n",
    "            r[(j, i)] = maze[(j, i)]\n",
    "        else:\n",
    "            t = [r.get((g, h), 0) for g, h in [[sum(f) for f in zip((j, i), e)] for e in ((-1, 0), (1, 0), (0, -1), (0, 1))]]\n",
    "            if \".\" in t:\n",
    "                r[(j, i)] = \".\"\n",
    "            else:\n",
    "                r[(j, i)] = \"I\"\n",
    "                \n",
    "# for j in range(y - 1, 1, -1):\n",
    "#     for i in range(x - 1, 1, -1):\n",
    "#         if r[(j, i)] == \"I\":\n",
    "#             t = [r.get((g, h), 0) for g, h in [[sum(f) for f in zip((j, i), e)] for e in ((-1, 0), (1, 0), (0, -1), (0, 1))]]\n",
    "#             if \".\" in t:\n",
    "#                 r[(j, i)] = \".\"\n",
    "t = []\n",
    "for j in range(y):\n",
    "    for i in range(x):\n",
    "        if r[(j, i)] == \"I\":\n",
    "            string = ''.join([r[(j, c)] for c in range(i, x)])\n",
    "            # print(str)\n",
    "            string = re.sub(r'\\.', '', string, count = x)\n",
    "            string = re.sub(r'-', '', string, count = x)\n",
    "            string = re.sub(r'I', '', string, count = x)\n",
    "            string = re.sub(r'F-*J', '|', string, count = x)\n",
    "            string = re.sub(r'L-*7', '|', string, count = x)\n",
    "            string = re.sub(r'F-*7', '', string, count = x)\n",
    "            string = re.sub(r'L-*J', '', string, count = x)\n",
    "            # print(str)\n",
    "            if len(string) % 2 == 1:\n",
    "                t.append((j, i))\n",
    "                ct += 1\n",
    "                # print(j, i)\n",
    "                # print(\"=\" *30)\n",
    "print(len(t))\n",
    "# k =  []\n",
    "# for j in range(y):\n",
    "#     l = []\n",
    "#     for i in range(x):\n",
    "#         l.append(r[(j, i)])\n",
    "#     k.append(''.join(l))\n",
    "# printable = '\\n'.join(k)\n",
    "# print(printable.count(\"I\"))\n",
    "# print(\"\\n\")\n",
    "# print(printable)"
   ]
  },
  {
   "cell_type": "markdown",
   "id": "956cf010-18aa-4e91-b10a-cbcbdff97b10",
   "metadata": {},
   "source": [
    "## [Day 11: Cosmic Expansion](https://adventofcode.com/2023/day/11)"
   ]
  },
  {
   "cell_type": "markdown",
   "id": "b750ca3b-0f33-421a-b62b-ad55a83a7af2",
   "metadata": {},
   "source": [
    "### Part 1"
   ]
  },
  {
   "cell_type": "code",
   "execution_count": null,
   "id": "7846f22f-e4ed-4c02-bf3f-98a1e11ff8bf",
   "metadata": {},
   "outputs": [],
   "source": [
    "testdata = [[c for c in l] for l in Testdata(11).read().split(\"\\n\")]\n",
    "testdata"
   ]
  },
  {
   "cell_type": "code",
   "execution_count": null,
   "id": "baeae560-0560-4045-819e-afaac1c55f35",
   "metadata": {},
   "outputs": [],
   "source": [
    "input = [[c for c in l] for l in Input(11).read().strip().split(\"\\n\")]\n",
    "# sum(shortest_paths(m_to_d(expand_matrix(input, \"#\"))))"
   ]
  },
  {
   "cell_type": "code",
   "execution_count": null,
   "id": "2879e959-3c63-4fd2-a723-06efb2f93b86",
   "metadata": {
    "scrolled": true
   },
   "outputs": [],
   "source": [
    "def solution(m, n, y=10**6):\n",
    "    rows, columns = empty_rc(m, n)\n",
    "    d = m_to_d(m, n)\n",
    "    return shortest_paths(d, rows, columns, y)\n",
    "\n",
    "def empty_rc(m, n):\n",
    "    r, c  = [], []\n",
    "    for j, y in enumerate(m):\n",
    "        if n not in (y):\n",
    "            r.append(j)\n",
    "    for i, x in enumerate(zip(*m)):\n",
    "        if n not in (x):\n",
    "            c.append(i)\n",
    "    return r, c\n",
    "\n",
    "def shortest_paths(n, rows, columns, y):\n",
    "    r = []\n",
    "    m = list(n.keys())\n",
    "    for i, k in enumerate(m):\n",
    "        for l in m[i:]:\n",
    "            y1, x1 = k\n",
    "            y2, x2 = l\n",
    "            corr = 0\n",
    "            for row in rows:\n",
    "                if row in range(min(y1, y2), max(y1, y2)):\n",
    "                    corr += 1\n",
    "            for column in columns:\n",
    "                if column in range(min(x1, x2), max(x1, x2)):\n",
    "                    corr += 1\n",
    "            r.append(abs(x2 - x1) + abs(y2 - y1) + corr * (y-1))\n",
    "    return r\n",
    "\n",
    "def m_to_d(m, n = None):\n",
    "    if n == None:\n",
    "        n = \"#\"\n",
    "    d = {}\n",
    "    for j, y in enumerate(m):\n",
    "        for i, x in enumerate(y):\n",
    "            if m[j][i] == n:\n",
    "                d[(j, i)] = n\n",
    "    return d\n",
    "\n",
    "empty_rc(testdata, \"#\")"
   ]
  },
  {
   "cell_type": "code",
   "execution_count": null,
   "id": "1d4f37ff-f99f-4462-9a3a-edabda19ab71",
   "metadata": {},
   "outputs": [],
   "source": [
    "%time assert sum(solution(testdata, \"#\", 2)) == 374"
   ]
  },
  {
   "cell_type": "code",
   "execution_count": null,
   "id": "98bfc9b3-e1b1-47e8-bd35-e2540d89732f",
   "metadata": {},
   "outputs": [],
   "source": [
    "%time sum(solution(input, \"#\", 2)) "
   ]
  },
  {
   "cell_type": "markdown",
   "id": "9245e081-39ff-4c6c-9914-005802185c2c",
   "metadata": {},
   "source": [
    "### Part 2"
   ]
  },
  {
   "cell_type": "code",
   "execution_count": null,
   "id": "6620a850-4ce4-41f0-bc46-e930162379d1",
   "metadata": {},
   "outputs": [],
   "source": [
    "assert sum(solution(testdata, \"#\", 10)) == 1030\n",
    "assert sum(solution(testdata, \"#\", 100)) == 8410"
   ]
  },
  {
   "cell_type": "code",
   "execution_count": null,
   "id": "8d4af677-fbcf-4112-99d8-1397f3be372c",
   "metadata": {},
   "outputs": [],
   "source": [
    "%time sum(solution(input, \"#\"))"
   ]
  },
  {
   "cell_type": "markdown",
   "id": "60555fbf-3471-441a-8542-cb3d77477805",
   "metadata": {},
   "source": [
    "## [Day 12: Hot Springs](https://adventofcode.com/2023/day/12)"
   ]
  },
  {
   "cell_type": "markdown",
   "id": "bdb768af-b5ef-4491-aff1-1485341ddeb3",
   "metadata": {},
   "source": [
    "### Part 1"
   ]
  },
  {
   "cell_type": "code",
   "execution_count": null,
   "id": "85b8a304-2847-47be-b70f-3526b7c1ab43",
   "metadata": {},
   "outputs": [],
   "source": [
    "testdata = Testdata('12').read().strip().split(\"\\n\")\n",
    "testdata = [e.replace(\",\", \" \").split() for e in testdata]\n",
    "testdata = [[int(e) if e.isdigit() else e for e in f] for f in testdata]\n",
    "testdata"
   ]
  },
  {
   "cell_type": "code",
   "execution_count": null,
   "id": "2d4e0f26-a98b-4ce5-bb15-1e0354b38c5e",
   "metadata": {},
   "outputs": [],
   "source": [
    "input = Input('12').read().strip().split(\"\\n\")\n",
    "input = [e.replace(\",\", \" \").split() for e in input]\n",
    "input = [[int(e)  if e.isdigit() else e for e in f] for f in input]"
   ]
  },
  {
   "cell_type": "code",
   "execution_count": null,
   "id": "89aaf04f-d21a-4bcd-a8b6-db4a0dc9808d",
   "metadata": {},
   "outputs": [],
   "source": [
    "%%time\n",
    "counter = 0\n",
    "\n",
    "for e in testdata:\n",
    "    n = e[0].count(\"?\")\n",
    "    # print(e[0])\n",
    "    m = sum(e[1:]) - e[0].count(\"#\")\n",
    "    f = itertools.product(range(2), repeat = n)\n",
    "    for g in f:\n",
    "        if sum(g) == m:\n",
    "            \n",
    "            h = [c for c in e[0]]\n",
    "    \n",
    "            ct = 0\n",
    "            for i, j in enumerate(h):\n",
    "                if j == \"?\":\n",
    "                    h[i] = '.#'[g[ct] % 2]\n",
    "                    ct += 1\n",
    "            h = ''.join(h)\n",
    "    \n",
    "            if [e.count(\"#\") for e in re.findall(r'(\\#*)', h) if e.count(\"#\") > 0] == e[1:]:\n",
    "                counter += 1 \n",
    "print(counter)"
   ]
  },
  {
   "cell_type": "markdown",
   "id": "21e09366-5325-4943-ae64-5b3b5f75443c",
   "metadata": {},
   "source": [
    "## [Day 13: Point of Incidence](https://adventofcode.com/2023/day/13)"
   ]
  },
  {
   "cell_type": "markdown",
   "id": "71527020-dcc3-466b-927f-04d2bb0a7919",
   "metadata": {},
   "source": [
    "### Part 1"
   ]
  },
  {
   "cell_type": "code",
   "execution_count": null,
   "id": "77c811d2-4887-4d07-962d-b4075e2fde1e",
   "metadata": {},
   "outputs": [],
   "source": [
    "testdata13 = Testdata('13').read().split(\"\\n\\n\")\n",
    "testdata13 = [n.split(\"\\n\") for n in testdata13]\n",
    "\n",
    "testdata13 = [[list(c) for c in m] for m in testdata13]\n",
    "testdata13"
   ]
  },
  {
   "cell_type": "code",
   "execution_count": null,
   "id": "fe9b3cca-fe4a-4edb-a3d1-e434bcfcbb25",
   "metadata": {},
   "outputs": [],
   "source": [
    "input13 = Input('13').read().strip().split(\"\\n\\n\")\n",
    "input13 = [n.split(\"\\n\") for n in input13]\n",
    "\n",
    "input13 = [[list(c) for c in m] for m in input13]"
   ]
  },
  {
   "cell_type": "code",
   "execution_count": null,
   "id": "87008cce-40bd-43b6-a316-8b23d58bc117",
   "metadata": {},
   "outputs": [],
   "source": [
    "def mirrorline(m):\n",
    "    for i in range(1,len(m)):\n",
    "        minlength = min(i, len(m) - i)\n",
    "        if m[i - minlength:i] == m[i:i + minlength][::-1] or m[i - minlength:i] == m[i:i + minlength]:\n",
    "            return i\n",
    "    return False\n",
    "\n",
    "def score(m):\n",
    "    r = 0\n",
    "    if mirrorline(m):\n",
    "        r += mirrorline(m) * 100\n",
    "    if mirrorline(list(zip(*m))):\n",
    "        r +=  mirrorline(list(zip(*m)))\n",
    "    return r\n",
    "\n",
    "def scores(l):\n",
    "    return [score(e) for e in l]"
   ]
  },
  {
   "cell_type": "code",
   "execution_count": null,
   "id": "cf67f0ef-8713-4311-9038-1838ec3a7c95",
   "metadata": {},
   "outputs": [],
   "source": [
    "assert sum(scores(testdata13)) == 405"
   ]
  },
  {
   "cell_type": "code",
   "execution_count": null,
   "id": "1bf66d96-cefb-4d97-a3b7-aed54ebc1b85",
   "metadata": {},
   "outputs": [],
   "source": [
    "%time sum(scores(input13))"
   ]
  },
  {
   "cell_type": "markdown",
   "id": "df69b265-3e7e-4209-9a88-4f7eee712ca9",
   "metadata": {},
   "source": [
    "## [Day 14: Parabolic Reflector Dish](https://adventofcode.com/2023/day/14)"
   ]
  },
  {
   "cell_type": "markdown",
   "id": "5bda75f6-14ce-4836-96f1-5ea4b83d4f88",
   "metadata": {},
   "source": [
    "### Part 1"
   ]
  },
  {
   "cell_type": "code",
   "execution_count": null,
   "id": "4007080f-2ccf-47b4-89ba-5a0cc08f1381",
   "metadata": {},
   "outputs": [],
   "source": [
    "input14 = Input('14').read().strip()"
   ]
  },
  {
   "cell_type": "code",
   "execution_count": null,
   "id": "87c1cd9a-9797-456e-977e-dd7ae644e18c",
   "metadata": {},
   "outputs": [],
   "source": [
    "testdata14 = [[c for c in e] for e in Testdata('14').read().strip().split()]"
   ]
  },
  {
   "cell_type": "code",
   "execution_count": null,
   "id": "3a690793-839b-43eb-8ca4-7b07223cba03",
   "metadata": {},
   "outputs": [],
   "source": [
    "def rollup(m):a\n",
    "    m.insert(0,  [\"#\"] * len(m[0]))\n",
    "    for j, y in enumerate(m):\n",
    "        for i, x in enumerate(y):\n",
    "            if x == \"O\":\n",
    "                d = 1\n",
    "                while j - d >= 0 and m[j - d][i] == \".\":\n",
    "                    m[j - d][i] = \"O\"\n",
    "                    m[j - (d - 1)][i] = \".\"\n",
    "                    d += 1\n",
    "    return m\n",
    "\n",
    "def score14(m):\n",
    "    m = rollup(m)\n",
    "    return [(i + 1) * row.count(\"O\") for i, row in enumerate(m[::-1])]"
   ]
  },
  {
   "cell_type": "code",
   "execution_count": null,
   "id": "b37eb0a0-5db6-469f-a31e-c68ad77be0cb",
   "metadata": {},
   "outputs": [],
   "source": [
    "assert sum(score14(testdata14)) == 136"
   ]
  },
  {
   "cell_type": "markdown",
   "id": "0c1927f0-7ba9-40c5-8688-bcdb769e8ef7",
   "metadata": {},
   "source": [
    "## [Day 15: Lens Library](https://adventofcode.com/2023/day/15)"
   ]
  },
  {
   "cell_type": "markdown",
   "id": "f62e2c24-6b9a-4d3d-a0d7-70311641d594",
   "metadata": {},
   "source": [
    "### Part 1"
   ]
  },
  {
   "cell_type": "code",
   "execution_count": null,
   "id": "0e4d9694-67b7-4e79-b447-d73695611e45",
   "metadata": {},
   "outputs": [],
   "source": [
    "testdata15 = \"rn=1,cm-,qp=3,cm=2,qp-,pc=4,ot=9,ab=5,pc-,pc=6,ot=7\".split(\",\")"
   ]
  },
  {
   "cell_type": "code",
   "execution_count": null,
   "id": "1a0a68a2-c4be-4901-a031-a7ed95c144ac",
   "metadata": {},
   "outputs": [],
   "source": [
    "input15 = \"shn-,hbl-,sdjk-,lz=3,dpg-,hgf=8,cntg-,jzm=5,hl-,rq-,ssbf-,xg=5,gch-,brt=4,qlrl-,fsrmnb=4,nsk-,pzd-,hzx=4,tqs-,dv-,bgbd=7,hzv-,kh-,kg-,xqtx=3,nkd-,hjjl-,xpr=6,rq-,vstm=3,bsl=4,kk-,cm-,mt-,lrv-,nzss=3,lmj-,ck=7,hbl-,znnns-,hz-,qzqc=4,tfnv-,kfqkc-,fsrmnb=4,sln-,mk-,pq=1,dkp-,clcg=7,jgbfh-,lrv=7,vxk=3,hz=2,th=9,fd-,mth-,fsxd-,skv=4,gjn=1,kd=7,qps-,lts=9,bfnpkj=1,jtpk=4,fh-,xn=4,tj-,ks-,ztnxv-,jm=6,bbbmn=1,vv=7,mshz=4,lc-,tlrg-,zgtn=2,shn-,brqs=1,mshz-,lcxp-,bdt=1,sqvp=5,ndrc=1,gszr-,ns-,dtmqg-,nscj=4,frvcs-,nj-,ntvq=9,bsqst-,nhkh-,qcx=7,xx=7,trdj=2,kp-,lmh-,snt=4,ml-,ztnxv-,txcp-,sf=1,bfn-,jzm-,rc-,txn=6,xz-,xddtrm=1,fpl-,xs=9,ntr-,rxp=8,fx-,djtnn=9,br=5,djt=5,shb-,lzdds-,rsv=6,ndrc-,hk=4,jcz-,mshz-,lnzjnj=6,cb=4,gn-,dgzb-,znnns-,nxxr-,ct=1,xn=4,hrkf-,scxnnl-,kld=5,dmc=2,qxdjq=5,vv=8,nprpc=7,kb-,bsx=8,ktq=8,qps-,fpl=4,rrmt-,lts-,dhkfs-,pljt-,kn-,qj=1,vv=7,kfqkc-,gpprmx-,mf=9,frvcs-,nl-,kcz-,ztplk=2,tv=3,xbdqh=3,cxh=4,lc=7,pl=8,tfdk-,ndrc=2,bhhgl=6,vk=3,flc=6,hsrcn-,gsgp-,xhf=3,lts=8,bkv=2,grnnd-,kt=9,zzncf-,zfm-,hslq-,sf=2,sf=5,qjphmx=3,thmdf-,nprpc-,ccj=9,qzb=1,lts-,bsfp-,dn=1,mdn-,ml-,kd=5,kqzb=4,kspd=5,brt-,rpcjf-,lks-,zk=1,qfr=6,hs-,vvfxlc=7,gvl=9,dtd-,qc-,ck=1,fv=5,nntzjr=2,zh-,dgzb=8,vj=7,sqnq-,rpcjf=1,thmdf=6,zjk-,zh-,tssz-,vd=4,sz=6,zzpzjc=5,sr-,pb=4,zqlr-,hzv-,ckjg-,cjv=8,zdp=2,bbbmn=6,sggqk-,kz=7,sqz-,frvcs-,kqx=5,zqlr-,xs-,jpq=5,dbv-,vjk-,kz-,fn-,ptm=1,sqz=6,mfd-,hb-,xhf-,xpp-,jqc=2,dnt=3,vx-,qlcjv=9,djtnn=9,dc-,bnz=8,ckz=7,dn-,pxm=7,pl=8,vstm=4,dpg=2,kdgcf-,ktq=7,hjjl-,xtd-,kpxkh-,st-,djtnn-,gpprmx-,dxf-,xk-,pbr=2,lnq-,xck-,nd=9,lnzjnj=1,gs=6,bbbmn-,bbk=9,bsx=7,bsfp-,xk=3,mfjxq-,qf-,mn-,pp=5,tqn-,ht=3,tznc=3,qps-,jbd=4,vtf-,hrv=4,xsh-,mzt=1,gddx-,bpv-,grnnd-,rms=4,dtmqg=9,mqj-,jzm=9,fcs-,kc-,lfl-,qhsvrp=4,tfnv-,mfd-,jmr-,fdf=2,jm-,lc=1,gxh-,klhc-,mtz-,vjx=5,pzjlk=8,ld=5,zk-,spf-,pk=5,pnn-,txcp=1,gb-,fth-,vfqj=2,vtf-,pljt-,lcxp=1,mj-,ht-,smhk=6,pljt-,rdv-,cg-,qrc=7,bkp-,bz=9,dz=9,ckc=9,qtvpz=8,nhkh=2,dmc=8,tznc-,tx-,str=9,kcz=9,bpv-,ddbzd-,kz-,st=8,zjk-,vj=6,zdbpr=2,mfjxq-,zz=8,nd-,cjv=7,jkf=5,mlzmcc-,dpg=5,rpcjf-,nj=6,zmf-,tj=6,lnzjnj-,grf=5,ks-,vjk=8,brt-,hz=3,rs-,mqj-,zdp=6,jcp=6,smhk-,cxh-,nq-,hcq=2,kb-,vtf-,zh-,kqzb-,jmr-,hzx-,fth-,gvl=8,mdn=7,nkrzr-,dkf=8,xck=4,txlk=1,bkckz=1,grf-,ntr=8,zzpzjc=7,mqj=4,gvdm=1,ps=2,kkt-,xqtx-,brt-,vz-,qdvl-,sqv=4,qb-,gsgp-,hbl-,tm=7,gdd=4,qzmc-,ntvq-,qlg=6,slq=9,dl=5,ssrn=6,hrv=4,ssx=4,kqx=3,hhb-,kdgcf=2,gb-,qjphmx=5,pp-,dtmqg-,jpxg=8,vmml-,hs-,rdzc-,rls-,vz=3,xbdqh=9,rzrt=6,zmf=1,tx-,kxd-,lsf=2,qlkh=4,dnt-,fdf=1,ntr=8,rdv-,zgfr=5,hzvkt-,spf-,gb-,lqnfnv-,dkp-,mvj=1,xsh=1,dzffd=5,xx=3,rq=7,mtz=6,pljt-,sr-,svkscd-,nfnrp=8,vql=9,lcxp=6,rxp=9,tqn-,ssbf=8,dbv=6,ghd-,gtftvc-,shc-,zgtn-,nz=6,gs-,kg=6,mf-,hv-,vv-,nsk=7,xv-,xtd=3,lvrn=8,str=5,qjphmx=6,kp=3,kz=2,fls=9,frr-,ht=1,nxxr=3,mvtrs-,nprpc-,hgf=2,jk-,grnnd=4,hgf-,qbcz-,jlpp-,qfr=7,pzr-,nll-,tdn=5,zz-,tbkk-,sqv=1,lc=2,frr-,kmq-,vql-,vrb-,tznc-,zgfr=9,xddtrm-,bbdl-,db-,gjn-,gtftvc-,fq-,stk=5,bfn=1,kc=8,hslq-,jcp=4,hhb=3,xbdqh-,nll=7,lz=5,tqn=1,cm-,hzx-,fx-,xhf-,xhf-,cm-,tm=2,jcp=8,flc-,vhz-,bn-,sqvp-,xpp-,ntr-,trdj=9,djtnn-,hnvl=6,qlrl-,nxv-,hv=8,nq=7,rd-,ld=8,vv-,ghd-,dhkfs-,jcp-,vxk=6,lj-,ck-,hrkf-,fx=6,nd=7,ptm=1,bsqst=4,tz-,clcg=3,cx=9,tbfhq=6,ddbzd=7,mf=5,hn=7,nfnrp-,qps=4,cf-,kln=4,sqv=1,nkd-,dpg-,nxh-,nxh=1,clmkkc=6,vd=4,dc=8,rs=9,lfn=4,kbp=2,jhm=5,td-,kb=8,rj-,zfm-,rg=7,mdn-,fq=9,xdfj=7,cjv-,kshvc=9,jcz=4,mqj=1,xhf=5,bsl-,dnt-,btm-,qnjqrc=2,bpv-,mzgdd-,pl-,qps=6,mn-,mskdr-,xqtx-,nprpc=1,mb-,jqc-,bsx-,lcnq=1,rnq-,spf-,sv=3,brt-,frr-,mdn-,gddx=1,vz=8,cdzz-,fjjs=3,mn-,pzjlk=1,kspd-,xpp=7,jcz-,scxnnl=2,gddx-,mfd-,dmc-,bd-,rbmvt=5,lc-,vx-,gtftvc-,mt-,brqs-,pp=3,ld-,xbdqh-,gxg-,pb-,lrv-,sgpj=8,vxk=1,tl-,tqs=7,ntr-,bnz-,gsgp-,bfn-,ckc-,jsbh-,hzvkt-,pnn=5,qpkj=9,lfz-,gng-,mk=3,lc-,cl=6,mf=9,gddx-,nz-,bz-,br-,hv-,dhp=2,hbl-,gxh-,hds=8,ktq=9,kzf-,ghd-,hl=2,kb=6,pzjlk=3,zzl-,frvcs-,mlzmcc=2,ptm=8,dgzb-,kmq=7,dnt-,kbt-,kpxkh-,ggz=8,brqs-,bqn-,cjv=7,xtd-,ddtp-,qlkh=1,vks-,nhkh=1,rc=6,nxh=5,bn-,nxh-,bsqst-,nbp=5,hbl-,gvdm-,xdz=1,gxpq=9,kzf-,vks=3,xddtrm=3,gxpq=6,rj=7,ddtp=8,shc-,hgf=7,mfd-,jtpk-,gtp=3,hv-,fdf-,bbk=3,bm-,bqn=3,ks=3,tjcrf-,zsz-,dz-,mth=6,smhk=6,dp-,bhhgl=1,xg-,qzmc=6,jzm=5,sbt=5,pnn=8,qh=5,zfm-,bf-,mjz-,lnzjnj-,mqm-,rrmt-,vstm-,nll=2,tfdk=2,kkt=4,pxm-,br=8,jpxg=5,zdp-,hrv=1,fgfnm-,tjlb=7,pp=9,zz=8,tj-,ns-,bkv=5,cxh-,dpg=5,kz-,nxz-,cz=6,hnvl-,frvcs-,rms=7,hrkf-,zsz=6,qzqc-,lfn-,hn-,lzdds-,hlj-,gv=2,kcz=7,fpl=9,frvcs=2,xg=9,xz-,zcf=7,vtf-,kkt=6,tlbnq-,lmfp=5,cz=8,kfqkc=7,jcp=8,zcf=7,kpxkh-,fx=8,ntvq=5,sggqk=3,hd=2,mb-,thmdf=9,grxkd-,nsk-,lh=5,jbd-,shn=6,bsx=1,bdt-,tbfhq-,bkv=6,kshvc=1,tm=1,chks=3,vhz=8,mzt=7,lcxp=3,rd-,bz=1,sqz=5,hb=6,skv=4,bsl-,qlkh=9,rd-,rls-,mshz=3,nxxr-,hv-,nsk-,bn=3,ns-,xck=7,cl=7,sqvp=4,kxd=5,nfnrp=5,hnvl=4,pds=5,lmh=9,hf=7,lcxp=5,qg=2,hk=3,md-,vxk-,tbkk=1,ndrc=1,nsk=1,rg-,lqnfnv=3,lnq-,kxd-,tjcrf=6,gn-,vqg-,ll-,svkscd=3,kzf=8,rsv=8,lmj=2,hz=1,chks=7,kp-,lmj=9,st=6,sv=8,scxnnl=1,bd=8,kqc=7,jv-,xbdqh=3,qh=5,vd-,fsrmnb=9,gh=2,nd-,cf-,skv=6,vk-,xtd-,ct-,jhm=4,qlrl-,pxsx-,kmq=5,pcg=2,mv=2,qvx-,mlzmcc-,bsl-,vxk=3,klhc=6,tssz=8,xx=3,mfd-,hl-,lz-,klhc=9,ml-,xz=1,tdn-,ccj=7,xsh=1,hzx=3,bfnpkj=7,pxm=8,sgq=3,txlk-,fpl-,qzb-,cg-,nhkh=4,kls-,kbp=1,lf=6,qxdjq-,bsqst-,gn=8,lmh=4,fgfnm-,qh-,fdf-,ct=5,dx=6,ns=1,ssx=9,kdgcf=7,vk-,bfn-,pq-,jhm-,sqvp-,vz=1,dhhfxb-,kkn-,crr-,mzgdd=9,zmf-,dgcs-,hzx=3,mdn-,jqlvzm=5,bsl=3,xpr-,hjj-,nz-,fh=1,bdt-,hgf=6,xx=2,sgpj-,kg=6,kk-,nbp-,kzstgd-,fl-,pnn=4,jfpc-,zsz-,rnq=6,jzm=5,bbk-,dbthvr=9,ntr-,nrmlq-,fdf=3,dx-,fl=9,cm=2,bsfp-,hsrcn-,rd-,gc=7,klhc-,nxv-,cd=8,xk-,pk=9,bm=4,cntg-,ktq=5,vjk=1,qxdjq-,mfd=3,lslg=1,zz-,brt=5,fjjs-,qjphmx=1,qnjqrc=8,nhkh-,nrmlq=6,lnq=5,npq=2,sg-,vdmd-,mvj-,kkn=9,tjlb=9,vstm=6,bkv-,mj=8,dc=4,sggqk=3,rms=6,pzd-,gxh=8,gc=1,tm-,ml=8,kbt-,kk-,fg-,jm=3,pcg=7,zzpzjc=9,dr=6,rq-,lsf-,qh-,fdf=3,lnq=7,gc-,trdj=8,tfnv=1,ggz-,sbt-,fq=5,kdgcf=1,lfn=1,nk=7,kxd=4,nd-,bfnpkj=6,lvrn-,rsv=2,mtz=8,dx-,br=2,cf=2,pxsx=1,pds=7,kzstgd-,sn=9,hlj=2,ng=6,ghd-,dkp-,qbcz=3,jpxg=1,fls=8,rdv-,sp-,mdn=3,fth-,cs=1,bd=1,fh-,qtvpz-,lc=1,lqnfnv=2,hl-,gng-,mn=6,qrc=9,sbt-,hf=4,hzv-,ssrn-,djtnn-,th=5,lsf=3,vdmd=9,cm=9,qjphmx-,gszr=3,nz-,ssbf-,xn=2,nzss-,vb=9,zh-,mb-,cx-,rd=4,cn=8,vnc-,vql-,gtftvc=7,nxh=1,mjz-,nll=8,hgf-,hrv-,spq-,shb=8,qh-,qlkh=7,nxh=9,qc-,bsx-,dhhfxb-,tqs=4,dr=2,qzqc-,ddbzd-,qlrl-,vhz=8,vtf=3,bg=1,fsxd-,jpq=7,jzm-,pzr-,dv-,cqt-,hn=4,cxh-,lnq=1,rxp=4,dxf-,fd=3,nj=7,tdn-,smhk=9,sqnq-,hslq=1,fjx-,ll=6,bbdl-,jqc=3,clmkkc-,rfx=6,bnz-,vz-,hjjl-,zdbpr-,bsl=5,bsfp-,nk=1,kspd=4,cm=1,jcz=3,gn=1,qkt-,kxd=9,gxpq=1,mldd-,mdn=6,ztplk-,cd-,mzgdd=5,vkph=5,hbl=2,fn=4,fx-,jkf-,tf=4,ddtp-,tj-,dc-,klb=4,sgpj=9,xn-,clmkkc=7,kcz-,bbk=4,zh=8,dc-,ccvt-,shn=3,jqc=1,bkckz-,skv-,pb-,slq=1,klhc=3,flc-,vz-,kcz=4,rxp=3,snt-,xdfj-,vvfxlc-,dx-,hsrcn-,xqftjd=4,cqt=3,lks-,db=1,rms-,lcxp=6,xs-,qdvl=8,hsrcn=5,dtmqg=6,sz-,djt-,kld-,nfnrp-,brqs-,ng-,tv-,cs-,hn-,nscj-,sdjk-,dn=5,jqc-,tv-,xz=9,mzt-,rj=3,dgzb-,rms=8,tbfhq=8,sgpj-,bhhgl-,qlkh=6,gddx-,dn=2,vvfxlc-,ckz-,txlk-,lfn-,bdt-,td=3,hv=6,ct=1,bhhgl-,flc=5,spq-,lcnq=1,lks=5,gch=2,qtvpz-,hrv=3,gs=2,btm=8,kt-,td=9,txcp=3,nvbg=2,qbcz-,kshvc-,db=3,dtmqg=9,tlbnq=8,dhp=6,ld-,gsgp=8,ml=1,bsl-,chks-,qfr-,txlk=9,bct=6,nvbg=3,gszr=9,mf-,phv-,kdgcf-,cx=3,rnq=8,hcq-,dhkfs-,dn-,dbthvr=3,lvrn=2,gszr=9,phv=3,gszr-,vjx=2,zl=3,zzl-,mzgdd-,dhkfs=3,bn-,gdd=8,tqn=5,ztnxv-,dcq-,vks-,jgbfh-,mzgdd=8,dpg-,nsh-,ssrn=6,jbd=5,kpxkh-,hzv=5,fbbc-,tm=9,jz=9,lnzjnj-,kg-,hs=8,hds-,dnt-,br=9,tjcrf-,qlcjv-,qvx-,gnv=6,hk=3,lnzjnj=3,ssrn-,hcq=6,vnc-,lfn=6,zh-,ct-,ccj=8,qpkj=5,sqvp=1,tjcrf-,ps=3,dr-,rdv-,vtf-,bvs=7,xddtrm=6,qlrl=2,rc-,pbr-,npq-,gvdm=7,pp-,zgfr=9,svkscd-,kxd-,dtmqg=1,cxh-,hzvkt=8,gxh-,gn=1,pbr=5,bfn-,mv-,ptm=7,snt=4,mvtrs-,nsk-,zfm=8,hjj-,vx-,nfnrp-,hl=5,nkrzr-,zz=9,sdjk=8,cdzz=9,gx=6,mn-,rjtr=2,mk-,qnjqrc=7,hds-,fls-,dl=5,cb=2,zdbpr=6,fth=4,hxp-,jk-,jcz=2,zdp-,thmdf-,qc-,txn-,cb=6,xpr=2,bsl=9,zdp=4,qfr-,bbbmn=5,xn=9,nll-,tbkk-,cn=8,cz=4,cjzkt=7,qg-,sz-,klb=4,ng-,hs=3,fn=6,ct-,hs=5,lts=2,cm=4,zgfr-,vqg-,qdvl=8,sn=1,rj=3,bfn-,jm=8,gvdm=8,dhkfs=2,sggqk=8,dv-,hzv=2,xdz-,nxh=6,rnq=6,nxv=2,zzncf=1,rsv-,tbfhq-,fgfnm-,hhb-,jlpp-,jqlvzm-,mskdr=7,qlg=3,rjtr=1,xg=7,kb=2,rfx=5,tjlb-,zzncf-,ns-,zl-,dmc-,sgpj=8,dhhfxb=4,cgq-,mqj=5,dkc-,lrv-,xv-,qpkj-,dtmqg=4,fq=8,md-,tf=3,mdn-,jkf=1,fx-,nhkh=6,mb-,pxbnl-,zz=5,xz=2,lsf=1,nk-,gvl=5,lmj-,mldd=3,ks-,rxkb=1,ztplk-,hf-,nmg=7,qlrl-,nfnrp=3,bqn=9,fdf=8,sr=8,rxp-,bbdl-,mzgdd-,dmc-,lz=7,fdf-,kh=1,nzss-,klhc-,zcf=3,fdf=1,fh=7,pp=8,sqvp=6,lnq-,cqt=6,xhf-,jbd=7,nscj=7,gng-,ggz-,nvbg=8,zfm-,th=6,spf-,tssz-,ckjg=8,cbv=7,ssbf-,hlj=5,crr=5,nxv-,bnz=8,pxsx-,nsk-,xddtrm-,cl-,xbdqh-,pljt-,rzrt=9,cg=5,sr=9,kspd-,nhkh=7,ccvt-,bf-,zk=6,qh-,xf-,mfd-,zzncf=1,gtp-,svkscd=4,mlzmcc-,fd=7,flc=3,rxp-,djt=5,pxbnl=9,xz=2,gv-,vx=8,zdp-,ntr-,slq-,ddtp=6,sggqk-,hds=7,fdf=8,qdvl=3,sqvp=7,txcp=2,lbcc-,rjtr-,qd=3,lcxp=9,lsf=8,gx=4,xv-,qxdjq-,ntvq-,lmj=9,kd=2,shc-,sln-,gx=2,ks-,xqtx-,gvdm=1,xn=5,rq-,cd-,gb=2,bf-,vd=3,pbr=1,ljbs=9,tqn-,nrmlq-,ft-,mdn-,nntzjr-,kmq=8,lj-,shb=7,sg=6,bdt-,spf-,mzgdd-,fsrmnb-,lnq-,rms-,cg=7,xqt=6,ck=7,sgq=8,db-,gnv=3,bf=4,qzqc=3,cqzl=5,mt=2,zk-,nj=1,fth-,bgbd=4,kc-,tfnv=8,vdmd=9,kfqkc=7,sln=9,lmj-,pxm=7,kqzb-,lc-,shc=2,vx-,tlbnq=8,mb-,skv-,nxh-,cqzl-,cl=4,kdgcf-,zcf=2,xs-,kn=1,nkd-,vb-,ssrn-,hlj-,qjphmx=8,ck=6,dtd-,lvrn=3,vhz-,nxxr=1,ccvt-,ng=7,xqftjd-,qzmc=2,stk=4,shb-,pnc=4,qnjqrc-,ntr=1,ks-,qh-,dx-,pbr=8,pq=6,kcz-,nntzjr=2,fsrmnb-,gsgp-,jk-,vzvb-,hv-,kbjm-,brqs-,xn=3,nbp=1,ml-,kz=9,kd-,jv-,zgtn-,ccvt-,vstm-,rsv=6,vv-,pzr-,bfnpkj=7,jmg-,jzm=8,pt-,pds-,gs-,dl-,jz-,mvtrs-,bc=6,ssbf-,pds-,nj=8,nzss=7,hhb-,kxd-,mfd=7,bdt-,jtpk=6,grnnd=1,hd=1,jbd=6,dx=6,shn=2,bct-,zcf-,vj=6,pt-,gxh-,vz=9,vxk-,kbjm-,gxpq-,jbd=3,lnzjnj-,rpcjf-,ks-,cz=8,xck=1,dpg-,jsbh=2,kp-,nkrzr-,hf-,gxpq-,kld=4,hn=9,gng-,ntvq=4,dz=1,qlg-,dbc-,txn-,djtnn-,kcz=4,zdbpr=7,tfdk-,tssz=5,mb-,jlpp-,cjzkt-,dbc=3,lf=4,lfl=9,dhhfxb-,vzvb=6,pdtzqg=4,lrv-,jqc=7,kld=6,gxpq-,jlpp=3,qkc-,fpl-,fh-,tf-,hrv-,qb-,jgbfh-,tznc=3,ng-,th=9,dl-,mvtrs=8,lzdds-,sz-,zl=6,dr=9,nntzjr-,dnt=6,gx=4,pds=6,zqlr=6,sn=6,qf-,bsfp=6,stk=8,qmbl=5,nprpc=6,vdmd=1,tz-,cqt-,rs=2,zdp-,vstm-,dbthvr-,mf-,kxd=1,ssx-,xdfj=8,vks=8,fgfnm=1,fpl-,vkph=4,dmc-,pt=3,tf-,bhhgl=2,qf=2,hbl=7,kg=1,lcxp-,nxz-,tv-,jgbfh-,tjlb=9,xv=9,klhc-,cfhc-,sggqk=9,btm-,ccvt=2,qvx-,db-,lc=8,sgpj=1,kln-,pq=4,lqnfnv-,rpcjf-,qlrl-,frr-,qzqc=6,mk-,grnnd-,kn=3,st=7,lnzjnj=7,sv=2,xz=1,kt=7,crr-,vjx=4,bhhgl=7,nll-,dz=3,vj=2,lks-,hnvl-,kp=6,lks=1,kqx-,kd-,dl=9,jtpk=3,sp=8,tj-,pk=9,brqs=6,bm-,cntg=7,nxv=8,fpl=4,tm=8,gdd=3,trdj-,brt-,nz=3,lcnq-,smhk-,qpbkdg-,vv-,stk=9,kbp=8,xqftjd-,npq-,gpprmx=8,xn-,flc-,jbd-,fg-,dbc-,jpq-,qj=3,qnjqrc=6,bd=3,hs-,fjjs-,pcg-,xdhj-,qpbkdg=8,tqs=8,cl-,pp-,dn-,dbv=1,nxv=3,vb=4,frr=3,svkscd=4,kqx-,kc=1,kk-,jgbfh-,xqftjd=8,dzffd=5,zzncf-,gnv=5,md=3,lnzjnj=8,xs-,mdn-,nhkh-,ls-,dnt=3,xsh-,th=6,fg=9,dl-,kqx=6,klb-,vd-,dnt-,chks-,fl=1,kc=3,dcq=8,fjjs=2,hjjl-,hf=9,sz=6,kk=5,qzmc=4,pp=6,qlg-,nsh=9,ks=7,mtz-,sqv=9,zk-,hrv-,fl=6,cg-,pxsx-,rpcjf-,tlrg-,zzl=7,jmg=4,kls=6,kls-,djt-,gxpq-,kp=6,qmbl-,vxk-,kmq=2,qkc=5,cqt-,cjv-,kn=6,qnjqrc-,ztnxv-,qj=9,xn=3,xsh=6,sf=1,txcp=5,ktq-,cxh-,nsh-,sqz=6,zh-,pxsx-,bsfp-,mfjxq=1,kn-,vjk=2,cz=1,tznc=4,jcp=9,mj-,phv-,cntg-,qlrl=4,tfnv-,mldd-,ck-,xpp-,fx=6,cs=6,zl-,jqc=2,lfn=7,ndrc=3,xpr-,gng-,dhp-,dmc=3,txcp=1,hzv=4,brqs=1,pxbnl-,br=3,sggqk-,gxpq=3,txlk-,mth-,xn-,bqn=2,vhz-,hz=8,zjk=2,zzpzjc=8,vz-,rfc-,nsh-,zqlr=3,nxv-,hds-,frvcs=9,gb-,zzl-,lf=9,mt-,dhhfxb-,jlpp=1,phqrf=8,nbp=2,cjzkt-,hs=6,rls-,jzm=3,mldd=7,qdvl-,dpg-,gc-,thmdf=5,jkf-,vtf=6,hrkf-,zgfr-,ztplk-,qxdjq=6,jfpc-,db=6,dr=7,kqx=3,crr=5,jv=8,lqnfnv=6,lfl-,ggz=8,vtf-,ml-,bbbmn=9,ssbf-,sqnq-,fv=2,dtmqg=1,hlj=4,ggz=8,qfr-,qlcjv=9,bkv=1,tznc=7,nz=9,ll-,txcp-,kqc=1,tm-,txcp-,ht=8,sqvp-,dbthvr=4,lsf=9,hlj-,qpt-,mn=4,qb=1,ntvq=2,pcg-,trdj=7,nd-,kshvc-,cf=2,spf-,fd=1,tjcrf-,qg-,hnvl-,kmq=8,nprpc=8,rfc-,scxnnl=4,bbdl-,gjn=8,cb=4,zr=8,gvl=2,lfl=5,rnq=7,kb=5,kzf=6,sdjk-,mvtrs=1,qrc-,fd-,qlrl-,zsz-,fq-,zdp-,kld=4,rbmvt-,nll=7,fn=1,vql=6,lz=4,mskdr=6,dp-,gtp=9,jmr-,cb-,jzm-,dr-,vql=9,qh=8,dr=7,kmq=7,sqnq-,sgq=2,md=1,mk-,mzgdd-,sgq=4,nxz-,hjjl-,pds-,mzgdd-,fd-,hrv=5,dgcs=6,ggl=1,vd=7,vv-,tl-,dkp-,kqzb=3,cgq-,gxg=6,xck-,bgbd=3,mtz=3,hxp=9,shb=8,vrb=8,hn=7,sqvp-,fbbc-,jzm=8,nq=8,rdzc-,lmfp-,zdbpr-,fx=6,jhm-,qj=4,kshvc-,lmj-,bc=5,gh-,ckjg=7,sn=2,jcz-,fh-,lnq-,nkd=2,hcq-,nsk=9,kln=5,fx-,tlbnq=6,dhkfs-,mjz=9,mth-,pxm-,gh-,grxkd=8,lks-,zqlr-,lcnq=6,kbt-,rls-,fl=7,sf=5,mldd=9,klb=3,trdj-,kzstgd-,cd=9,cm=6,jtpk-,jsbh-,clmkkc-,dpg=6,pk=2,td=2,nkd-,lcxp-,jlpp=8,dhkfs=5,zcf=4,cfhc=9,shc-,rfx=6,mvj-,jbd=8,fbbc=1,bsx=8,sqvp-,hgkh-,frr=1,clmkkc-,gxh=1,tbfhq-,qlg-,xqtx-,kln=3,gdd-,ggz=9,dgcs=3,txcp-,gjn=5,lrv=4,ck=2,mskdr-,gddx=4,gv=2,ptm-,gnv=1,hd=1,mfjxq=5,spf=5,mdn-,fjx=1,lts-,kzf-,mldd=4,rms=2,pnn=2,rc-,gxg-,nz=1,cz-,rd-,bsx-,pb=1,spf-,kkn-,xck-,jzm-,jz=1,kt=4,bgbd-,kld=5,tm=9,gdd-,vmml=9,zsz-,ns=1,sz-,gnv-,cdzz=8,fgfnm-,nl-,qpbkdg=4,spq=8,jcz-,zm=9,mf=9,vmml-,xn-,nkrzr-,grxkd-,ckjg=6,rfc-,sqv=2,zqlr=4,xf=4,lmh=6,ntr-,rc=4,dnt=5,grxkd-,cd=5,lfz=3,shb-,kkt=9,nhkh=4,qdvl-,nxh=9,mqm-,lh=9,qvx=7,pt-,ktq-,fpl=8,hzx=9,qbcz=2,jzm=5,pds-,pl-,zm=4,cm=6,tqn-,vk-,gch-,lmh-,rdv=7,kz=5,lfz=6,rs=4,tfnv=3,qtvpz=1,qrc=2,mzt=4,qzb=8,sgpj-,tx=9,mzt-,cfhc-,mj-,jmg=9,cxh-,jzm-,jcp-,lts-,npq-,jcz-,sz=9,nj-,mqj-,slq=9,hjjl-,djt-,xtd=6,fjx-,vdmd-,dhhfxb=8,gxpq=8,xdhj-,rfc-,hgkh=3,tbfhq-,svkscd-,bsqst-,rms-,qc-,lmfp=4,grxkd-,jpxg=6,qfr=8,lslg=8,mldd=4,jm-,bgbd-,cm=8,hslq=3,vmml-,mshz-,fjjs=5,bsqst=3,hf-,cm-,ccvt=7,fg-,xqtx=6,rzrt=6,bvs-,xs=6,frr=2,mqm=7,ktq-,hn-,kc-,dzffd=8,br=7,txcp-,ssrn-,bn-,cf-,jqlvzm-,gpprmx=8,lsf=4,nl-,xs-,lj=2,qrc=4,dbv-,kzf=4,mv=4,fls-,gddx=8,bbdl-,rfx=4,cr=3,tdn-,qbcz-,dz=8,sqv=1,ntr-,hbl=5,pcg-,kbjm=4,spf=8,mshz=7,nz-,txcp-,gjn=4,kzf=4,hn=1,qd=2,fd-,bf-,gnv-,cdzz=5,kzstgd=5,hxp-,zqltz=2,xsh-,tz=4,hzvkt-,lcnq-,mj=8,qmbl-,fl-,skv-,xbdqh-,mshz=7,gddx-,tl-,gv-,hn=8,tx-,lfz-,nl=5,hqb=6,kz-,zjk-,kcz-,nkrzr-,cxh=8,kqzb=3,zm=5,dl=9,snt=8,gx=9,frr-,sg-,lcnq=1,hn-,mzgdd=5,bkp=8,zgtn-,kn-,mdn=5,ktq=1,fq=2,kshvc-,jcz-,hsrcn=2,bct=8,jm=5,vzvb-,jcp=6,ks-,qb=4,lfz=4,qlkh=5,tj=2,vvfxlc-,jv=2,zm-,thmdf=3,dhp-,kqc-,hf=6,gch-,nscj-,gxh=2,kh=9,sqnq-,vdmd=6,vmml-,qj=4,dbthvr-,qlg=3,hslq=2,fls-,ntr=9,td=6,scxnnl-,db=2,st-,brt=4,kbjm=6,ccvt-,mzgdd=6,qrc-,jfpc=5,zzncf=8,grxb=3,bhhgl-,cfhc=2,ddbzd-,bvs=2,tl=4,qhsvrp=8,ljbs-,jcz-,fth=1,pzd=5,ct-,kkn=2,vfqj=4,jmg-,nj=7,zmf-,clmkkc=5,gtp-,sqz-,gddx=6,ns-,tjlb-,fg=1,qg-,gng=1,jqlvzm-,hn=8,jbd-,vv-,vk-,lvrn-,djt=7,clcg-,mtz-,qxdjq-,qps-,gnv=4,vnc-,rdzc=1,rbmvt=8,zzncf-,th=3,rfx=4,pnn=4,cxh-,qlcjv-,ck-,cn=1,rrmt=7,bsx=6,dhp=5,fbbc=3,mvtrs-,vzvb=4,zsz=5,bct-,zv=7,ztnxv-,hzx=6,kzstgd=9,grxb-,bnz-,dpg-,jpxg-,gxh-,chks=1,gs-,smhk-,bgbd=1,hslq=5,btm=6,kln-,jv-,dbv-,dzffd=4,sqv-,ssx=7,bsqst-,dcq=4,qfr-,hb=6,qmbl-,rpcjf=3,qhsvrp-,stk=1,qg-,cjv=2,ls=7,qjphmx=2,lfn=6,vdmd=6,kp-,bn-,nprpc=1,qpt=2,qlrl-,gx-,bn-,ntvq-,hhb=2,zzncf-,sbt=1,frr=6,fn=7,ll-,gxh-,jtpk=3,hhb=7,bct-,klb=1,spf=8,vql=2,zfm=3,mqm=6,kzf=1,xdhj=5,hb=2,djt=6,rls-,nvbg=8,zl-,qmbl-,qkc=7,flc-,jtpk-,mshz=2,lbcc=8,qj-,rbmvt=2,cm-,gnv=3,zzpzjc-,frr-,bg-,kh-,vrb=4,fn-,ld=8,kzf=3,zqltz-,rfx=8,gb-,fdf=2,vb-,vz=7,sdjk=1,bfn=2,vzvb=7,grnnd=9,zjk-,rg-,dz=8,vks=5,xqftjd-,fbbc-,ml=3,kld=9,rsv=9,nkrzr=6,hzv-,ljbs-,slq=6,zv=4,tbkk=2,jcp=3,qzmc-,dcq-,bf=5,grf=2,pl=3,bd=5,qzb=9,pzr=8,rd=4,dl-,dbc=1,lslg=7,fx=4,qf-,mzt=7,pzjlk=7,zqltz-,dc-,pcg=6,bhhgl-,zl=7,rd-,dkp=2,xpp=8,qbcz-,gx=2,sqvp=4,pzd-,rxkb=1,jzm-,qlkh=5,brt=4,dkp=5,sqvp-,lbcc=2,jhm-,kshvc=7,qlcjv-,dkc=4,sgq-,ckz-,tj-,tqs-,gc=3,zjk=3,fx=4,rq=3,jz-,hd=7,dnt-,dtd=3,sg-,lmh-,sqz-,qkc-,kshvc-,cqt=4,hgf=4,skv=3,ll-,zk-,xx-,kqzb-,kp-,jgbfh=1,kqzb=8,jz-,bnz=2,xh=3,qc-,xx-,zz-,ztnxv-,bsl=4,hlj-,nz-,vx-,mskdr=3,kls-,rfx-,ndrc-,mjz-,hlj-,txn-,mzt=2,jhm=2,zm-,bsfp-,bc=8,lnzjnj=9,rg-,kmq-,fl=7,mj-,txn-,zmf=9,zgfr=2,vnc-,kp-,gsgp=7,kfqkc-,xbdqh=1,dtmqg=5,djt-,dl-,fsxd-,snt=7,vj=8,zzl-,tlrg=7,bgbd-,zcf-,scxnnl-,rs=8,qb-,lf=6,bkckz=2,gch-,ccvt=4,zzl=2,jqlvzm=2,hjj-,ls-,nq-,shn=9,fth=8,bm=4,lfl=5,nprpc-,ddtp-,pxbnl=9,jqlvzm=1,xk-,dz-,vjx-,vrb=8,gxg-,nfnrp-,cfhc=8,gxpq=7,kbt-,kcz=6,kcz=7,dpg=3,tbkk-,hrkf-,tm-,cx-,ccj=6,mb-,qb-,qh=7,qdvl-,rxp-,ntr-,hd-,gddx-,cd=4,fpl-,mfd=5,gtp=6,fsxd=1,pzd-,hd=9,nz=1,vtf-,qbcz=3,mskdr=7,xck-,cz-,sp=9,qps-,grf-,kbjm-,dcq-,nrmlq-,nq-,hslq=4,mvtrs=4,tqs=5,ns-,rxp-,fjjs-,kbp-,gnv=9,bn=4,xh=9,sdjk-,cgq=1,str-,mb=7,snt=6,nrmlq-,pbr-,kn-,pk-,qj=5,thmdf=4,jlpp=4,txlk-,qcx=4,jk-,lts-,rsv=3,brt-,hzvkt=4,svkscd=3,sg-,hgf=7,hnvl=1,zjk-,bf-,pq=5,qh-,zgv-,bbk=9,mshz=9,dp-,thmdf=3,kqx-,lzdds-,vjk-,zzl=5,phv=6,qkc=7,ps=1,mlzmcc=2,kg-,hf-,qtvpz-,vfqj-,qnjqrc-,dkp=2,fg=2,nll-,grxb-,lrv=5,sv-,nkrzr-,tj-,ptm-,cdzz=5,zfm-,vvfxlc=6,dgcs-,jtpk-,vj-,bd=2,vnc-,gpprmx=3,cxh-,jlpp-,sgq-,vzvb=9,qb=7,xddtrm=4,gx-,crr=2,frr=2,brt-,rms-,zfm-,hslq-,pxsx=5,cz=5,bc=6,dhkx=4,rq-,dkf-,shn=6,bct-,lks=6,ll=4,qf-,jcz=8,dhkx=1,zmf-,zcf=7,sn=6,vjk-,vql=1,zdbpr-,qmbl=3,fh-,nmg=9,rg-,frr=1,mth=9,gxpq-,nd-,lmh=5,jm=7,bc-,bg-,gxg=9,qdvl=2,cr=8,jmr=1,zjk=1,cs=1,vstm-,gddx-,qh-,brt-,rzrt-,jcz=8,fpl-,ct=4,qpbkdg-,hqb-,hrv=2,hnvl=5,cs=2,qhsvrp-,jpxg-,vx-,tdn=9,sqvp-,nkrzr-,btm-,zgfr=9,jpxg=4,vjk-,vql=1,gtftvc=4,grxkd=8,bkp-,jcp=8,dtmqg-,cqzl=2,nz=9,fsxd=7,hzv-,bbdl=1,ztplk-,pds-,ls-,pzjlk=1,vnc-,cd-,nbp-,tfnv-,nsh-,zqltz=3,ll=5,hlj-,zv-,mvtrs-,zcf=7,dnt-,bqn-,mldd-,rs=7,pcg=8,kbp=6,jpxg=4,nfnrp-,bbk=9,ntvq-,bfnpkj-,crr-,ggz=8,dkf=1,jzm=2,nxxr-,dxf-,ll-,rls-,mv=3,ggl=2,hds=6,gszr-,qzb-,skv-,ft=3,bg-,rc=1,nk=5,dkc-,dl-,kpxkh-,ndrc-,txlk-,sg=3,dhp=7,phqrf=2,ckjg=3,hjjl-,fh=4,mqj=5,ckjg-,xv=2,gng-,hzx-,zk-,mf-,dkf-,bbbmn=9,mb=5,mf=6,bkv-,kkn-,fq-,zfm=2,kdgcf=6,rs-,gdd-,lmh=3,hxp=8,xsh=8,dpg=3,kfqkc=2,xv=6,nsh-,pxbnl-,gxh-,rfx=3,pb=2,gc=3,nxv-,qpkj-,spq-,xs-,kbjm=9,jkf=7,dcq-,ckjg-,brqs-,md=3,fd=1,qjphmx=5,ft=8,zcf-,jpq=9,hcq=2,th=6,zl-,dkc=8,ps=7,fsxd=2,frvcs-,spf-,dxf-,rxp=4,mf-,lcnq=6,dkf-,xs-,hjj=9,hv=7,fv=4,zh=9,hjj-,qj-,dtd=6,jm-,cgq=3,rxp-,cx-,tznc-,scxnnl-,lmfp-,ssbf=9,hf=4,zdp-,pbr-,bc-,kn=5,zfm-,xck-,ckc=7,zzl-,pzd-,kbp-,kmq=9,rls=5,dbthvr-,dc-,qkt-,hzx-,bfnpkj=3,qzqc-,lj=2,kp=4,hrv-,qlcjv=6,bsqst-,kmq=6,jsbh=5,sgq=4,sqnq-,ns=6,dkp=4,rdzc=1,mvj-,hz-,kkn=4,gdd=5,qhsvrp-,dmc-,rms-,sdjk-,nkd=1,xz-,pzjlk-,dtd=8,dp=2,zsz=4,xpp-,hb-,dpg=7,znnns=1,ssx=5,hn-,dgcs=5,rxp-,vnc=6,bpv-,ck=1,pljt=4,vzvb=3,sdjk=3,dmc-,nz=4,tx-,cntg-,bct=1,cqzl-,qzqc-,hz-,xbdqh-,tj-,qxdjq-,hslq=3,kdgcf=5,nsh-,ck-,rj=8,mzt-,gtp-,ntr=2,vvfxlc-,lrv-,mskdr=9,gvdm=6,hv=4,ssrn-,lz-,zgfr-,kkt=7,ntvq-,rzrt-,hgf-,hsrcn=9,grxkd-,pbr-,lz-,kpxkh-,vv-,qj=3,mth-,kspd=8,hjjl=3,kn-,zdbpr=9,nj=6,bqn=7,txn-,jcz=5,kkn=1,zgv-,dhhfxb=6,mqj-,xqt-,jbd=9,tqn-,dl=1,frr=3,hjj=6,nj=8,qkc=9,lmj=3,qxdjq=8,ld-,th=8,sbt=9,qpbkdg=4,lrv-,dhhfxb=8,dhkx-,cb-,xn=3,nxxr-,zr-,kls=2,lcxp-,qhsvrp=7,br=3,kpxkh=7,pl-,sz-,gsgp-,klhc-,bgbd-,kkt-,hzv=5,zgfr-,xbdqh-,zr=6,zk=7,lnq=1,md-,fsrmnb=2,hqb-,pt-,hlj=4,ggz-,ct-,rjtr=3,gxh-,ljbs=4,zv-,xpp-,rzrt=8,xdz-,pb=7,sbt-,dbthvr=1,jzm=7,qjphmx-,bz-,gc-,dv-,mldd=8,gng=9,qvx-,gb-,vkph=7,rzrt=6,zl-,zgtn=1,dmc-,btm-,tjcrf=5,dchn-,txcp-,pt=5,pcg-,cjv-,rbmvt-,brqs=7,mzgdd-,kmq-,fdf=7,dbv=1,dchn=7,hnvl=3,kt-,lrv=4,pt-,ndrc=5,tlbnq=5,bz-,brt=6,gh=2,vx-,vd-,vrb-,tssz-,dkp-,sz=8,nmg=4,hz=1,bpv-,jsbh=7,hl-,gch-,npq=4,dbv-,qc=5,kbp=7,sqv-,hf-,gb-,md-,vk=5,ssbf=1,dl=8,gvl=5,xbdqh=8,bsx=2,lrv-,qf-,klhc-,nrmlq-,bg=2,gvl=4,fx=1,xdhj=4,vb-,rj=8,dr-,nhkh-,vb=5,xs-,gszr=3,cn-,shn=7,jfpc-,gs=5,sln=4,tv-,kqx=4,vkph-,kn-,pzjlk=1,shn=9,nkd-,hs-,dmc=6,bd=8,dxf=3,tbkk-,tssz=9,st=6,vstm-,rxp-,rfc-,bsfp=6,qlg=6,lmfp-,zgtn=6,ng-,qvx=8,rnq=5,qkt=3,nkrzr=8,kmq=1,tx=2,kbjm-,cqzl=6,pzjlk=6,sln=8,qcx=7,xqt-,nscj=9,pxsx-,chks-,tlbnq-,zqltz=3,gb=4,gsgp-,qmbl-,qkt-,qc-,nxv=5,pt=1,gvdm=1,xh-,fx=7,vnc=7,kp-,qpkj=3,rxkb-,gng=2,cbv-,tf=7,dzffd-,sg-,hk-,mqm-,btm-,lmj-,md-,xck=4,kkn-,sln-,lz=3,cqzl=9,xck=5,zzl=3,bqn-,sggqk=9,grxkd-,ntr-,hnvl-,gch-,qmbl-,kln=2,gs=8,tlrg=9,slq=8,kmq-,xh-,hs-,qpt-,rrmt-,qkc-,sf=7,jhm=4,bkp-,qxdjq=7,snt-,ddtp=1,hjjl=3,fjx=8,qcx-,pl=6,jpq=4,stk=4,kc-,gs-,kzstgd-,pzjlk=7,fq-,jzm-,mzt=9,tz-,rls-,kxd=5,th=9,sv-,cqzl-,lcnq=1,zmf-,tlrg-,qrc-,kbp=1,djt-,hsrcn-,xx-,thmdf=7,gnv-,mldd-,mtz-,dl=1,lj-,qlkh-,lrv-,cb=8,pk-,gx=9,vdmd=2,cntg=2,zzncf=2,fjx=3,bf=5,kqx-,qpt-,gxh=8,sdjk-,nxz=1,vks=5,bg-,mzgdd-,sp-,dhhfxb=7,kcz-,fx=7,cxh-,ssx=6,bbk=2,sp-,tx=5,frr=3,sqvp-,zgv-,tl-,fsxd-,db-,cf=1,kbjm=5,nfnrp-,rrmt-,fjx-,ggl=3,mf-,rms-,ztplk=7,ssx=1,mqj=8,xs-,gvdm=7,kqc=4,bbdl=1,xqtx=5,gtp=3,trdj=4,sln-,dbthvr=8,bz-,dr=5,gvl=2,dr=2,gtp=3,vb=7,nfnrp=7,sz=6,qkc=6,cg=2,hd-,kmq=1,dchn=7,bkckz=2,hlj=2,ccj-,hz=7,ckjg=2,gpprmx-,zgv-,shb=5,qzb=1,spq-,mlzmcc=1,fdf-,qps=6,hzx-,sqz=1,bg=8,tssz-,lfl-,frr-,vvfxlc=1,pljt=2,txn=4,xbdqh-,ck-,xk-,frr-,bbk-,gh-,lmh-,ld=1,grnnd-,jv=9,lqnfnv=5,jcp-,gszr=5,ssrn=9,gdd=6,ckc-,cb=7,lfn=4,fsxd-,mb-,hrv=8,klb=9,cdzz-,klb-,tbfhq=3,rxkb-,vdmd-,cfhc-,zzl=4,qpt=7,ls-,cz=6,kt=1,xx-,kkn-,bg-,tlbnq=6,bhhgl-,kqx-,cjzkt=8,jgbfh=6,jbd-,qf-,hf=1,tm-,xtd-,xs-,mqm-,nz=2,xk=9,sgpj-,rnq=9,gszr=3,qfr-,ll=3,dxf-,tznc=8,gxg-,grxkd-,ct=8,lsf-,xdz-,ck-,sn-,qdvl=1,qmbl=9,mzgdd-,xx-,zsz-,fjjs=4,vvfxlc=4,gxh=7,qnjqrc=5,vhz=2,mjz-,ccj=1,mf-,hb-,vqg-,tx-,rsv=5,ndrc=7,txn-,gvl=1,sdjk-,ld=7,mb=7,qzb=4,gs=9,ns=1,mqm=4,zcf=7,tqs-,klb-,ld=8,md=3,ccvt=1,nhkh-,pnn-,cd=5,nd=5,rrmt=5,jfpc-,kn=8,qmbl-,flc=1,nk-,flc=1,ll-,cntg=9,cqzl=7,cxh-,mk-,qpt-,hzv=8,lnzjnj-,sp-,cqzl-,fd=2,vb-,kh=2,gsgp=5,sdjk-,kp-,jpq=5,xx=4,mlzmcc-,mth-,bn=8,xqtx=7,rrmt=4,xpp-,kg-,kmq-,vv-,pp-,zcf-,shc=9,ssx-,qzb-,gxg-,lsf-,qf-,mvj=5,cb-,lcxp-,ztnxv-,bm-,thmdf=5,vks-,tm=4,vkph-,nxxr-,gs=4,hzx-,sdjk=1,kspd=4,ntvq=6,pljt=9,zsz-,tv-,bm-,pxsx-,cn-,jbd-,fcs=7,kshvc-,vjk-,nj=2,lmh=1,tfnv=8,kls-,xtd=5,qpt=6,tx-,gxh=2,chks-,mzhdgc-,jmg=8,cz=2,tjcrf=9,tznc-,pxsx-,dv-,nxz-,dp=5,dgzb=7,pljt-,rjtr=5,zfm=6,kcz=1,zzpzjc-,txn-,dkf-,lf=2,bsl-,jqc=4,dgcs=2,lmh-,fpl=7,qxdjq=8,nrmlq-,hjj=8,dp-,mdn=5,vzvb-,mn-,xdfj=6,cx-,lvrn=1,rg-,zmf-,nsh-,ld=5,kkt=8,sp-,sg-,gszr-,vxk=5,mf-,kfqkc-,dbc=4,bbdl=6,tl-,xqt=6,qjphmx-,hsrcn=4,nscj=1,bkv-,pnc-,hlj=1,ll-,bm-,mjz=9,klb-,ntvq-,lqnfnv-,bsx=3,vxk-,sn=7,vjk=7,zzpzjc=7,zcf-,dhkx-,hgf=3,ck=8,lzdds-,bsfp=4,shb=1,lc=8,zqltz-,vrb-,dhkfs-,vks=2,nntzjr=5,jqlvzm-,bkp=7,mj-,ztplk=5,vstm-,lzdds-,phv=4,cgq=5,bdt=4,ckz=5,fsxd-,lmj=3,ck-,dhp-,lfz=2,sqvp=3,hrv-,xg-,lzdds-,nj=7,pzjlk-,kqc=8,pds-,dtd-,fd-,gdd-,jpq-,mk-,fth-,ddbzd-,phv=4,btm-,vrb-,cqt-,sr=5,qf-,ft-,bsx=5,fjx=4,cg-,ljbs-,lslg-,zjk-,cjv=9,qtvpz-,gnv-,td=8,cdzz=4,jm-,skv-,slq=7,tjcrf-,npq=8,nhkh=8,nxh=6,gb-,rfx-,hzv=3,cjv=5,nsh=4,sr=7,bsqst-,tfdk-,vjk-,ndrc=9,rdv=9,bbdl=8,gnv=9,hxp=8,txcp=5,hrkf-,jzm-,gh=1,zgv=7,bpv=4,grnnd=3,fbbc-,vx-,smhk=4,sqv-,dnt-,sn-,nzss=4,nsk-,pxsx=3,nprpc-,cx-,tz-,rls-,kcz-,hrkf=5,chks=6,xz=2,gb-,jzm=8,bbbmn-,cl=7,bpv=4,pbr-,tqs-,jcp=7,dl-,rbmvt=1,rs-,xqt=1,xddtrm-,lmfp=2,nxz-,crr=2,mshz=1,hslq=5,vrb-,tx-,vql=2,jhm-,vrb=1,dc=8,ft-,hbl-,tssz-,lslg-,bn-,lzdds=8,pdtzqg=4,ztplk=7,nsk=1,zm-,hrv=5,bsx-,dnt=5,mjz-,trdj=1,fh=8,sz-,hbl=5,lcxp=2,bdt-,gc-,qtvpz-,gxg-,lts=3,brqs=7,stk=7,tfdk-,nxxr-,jpxg=4,vrb-,gtftvc=6,zsz-,jhm=7,ft=5,dkp=2,qkc=6,vks=2,ccvt=1,pbr-,clmkkc=4,fth-,nz=4,pnc=3,kzf-,brt-,jm-,nsh=4,zv-,mskdr-,pk=7,vjx-,hds=2,vhz-,rfx-,qjphmx-,mzt=7,hgkh=3,rxp-,kk=1,hk-,mb=9,kshvc-,ccvt=1,qfr=5,mfd=1,spf=1,mshz-,dgcs=2,vjk=2,sln-,rs-,fv-,dx-,kqzb-\".split(\",\")"
   ]
  },
  {
   "cell_type": "code",
   "execution_count": null,
   "id": "f7ca6724-c776-4661-8f47-c356a3633b1c",
   "metadata": {},
   "outputs": [],
   "source": [
    "def hash_(n):\n",
    "    r = 0\n",
    "    for e in n:\n",
    "        r = (r + ord(e)) * 17 % 256\n",
    "    return r"
   ]
  },
  {
   "cell_type": "code",
   "execution_count": null,
   "id": "c181033e-8c99-471e-a41d-d4f6142ef06d",
   "metadata": {},
   "outputs": [],
   "source": [
    "assert sum([hash_(e) for e in testdata15]) == 1320"
   ]
  },
  {
   "cell_type": "code",
   "execution_count": null,
   "id": "d6a2c2a6-7781-44ba-9ff3-140581bb8c54",
   "metadata": {},
   "outputs": [],
   "source": [
    "%time sum([hash_(e) for e in input15])"
   ]
  },
  {
   "cell_type": "code",
   "execution_count": null,
   "id": "81c76885-09fe-47fb-9153-6f220100d6da",
   "metadata": {},
   "outputs": [],
   "source": [
    "def hashmap(m):\n",
    "    boxes = {}\n",
    "    for e in m:\n",
    "        for i, c in enumerate(e):\n",
    "            if c.isalpha():\n",
    "                pass\n",
    "            else:\n",
    "                idx = e[:i]\n",
    "                hidx = hash_(idx)\n",
    "                ops = e[i]\n",
    "                if ops == \"=\":\n",
    "                    val = int(e[i + 1:])\n",
    "                    break\n",
    "        # print(e, hidx)\n",
    "        lst = boxes.get(hidx, [])\n",
    "        if ops == \"=\":\n",
    "            if lst == [] or idx not in list(zip(*boxes[hidx]))[0]:\n",
    "                lst.append([idx, val])\n",
    "            else:\n",
    "                ridx = list(zip(*lst))[0].index(idx)\n",
    "                lst[ridx][1] = val\n",
    "                boxes[hidx] = lst\n",
    "            boxes[hidx] = lst\n",
    "        else:\n",
    "            if lst != [] and idx in list(zip(*lst))[0]:\n",
    "                ridx = list(zip(*lst))[0].index(idx)\n",
    "                del lst[ridx]\n",
    "                boxes[hidx] = lst\n",
    "    # print(boxes)\n",
    "    scores = {k + 1: [(i + 1) * e[1] for i, e in enumerate(v)] for k, v in boxes.items()}\n",
    "    return [k * sum(v) for k, v in scores.items()]"
   ]
  },
  {
   "cell_type": "code",
   "execution_count": null,
   "id": "f4b35705-1339-4a9c-8d00-a5f28b94c773",
   "metadata": {},
   "outputs": [],
   "source": [
    "assert sum(hashmap(testdata15)) == 145"
   ]
  },
  {
   "cell_type": "code",
   "execution_count": null,
   "id": "37176664-dbd1-461f-96e5-fefdec317c38",
   "metadata": {},
   "outputs": [],
   "source": [
    "sum(hashmap(input15))"
   ]
  },
  {
   "cell_type": "markdown",
   "id": "e896fe75-0a0d-4ee0-9f2c-04c51af94c10",
   "metadata": {},
   "source": [
    "## [Day 16: The Floor Will Be Lava](https://adventofcode.com/2023/day/16)"
   ]
  },
  {
   "cell_type": "code",
   "execution_count": null,
   "id": "37668b18-eafc-4041-9aad-5def477e6a7d",
   "metadata": {},
   "outputs": [],
   "source": [
    "testdata16 = [[c for c in l] for l in Testdata('16').read().strip().split(\"\\n\")]"
   ]
  },
  {
   "cell_type": "code",
   "execution_count": null,
   "id": "0bd87f6c-885a-49d0-b663-dce70b6f445d",
   "metadata": {},
   "outputs": [],
   "source": [
    "testdata16"
   ]
  },
  {
   "cell_type": "code",
   "execution_count": null,
   "id": "d14c8105-671d-44e4-8f0e-417373bbb4e5",
   "metadata": {},
   "outputs": [],
   "source": [
    "input16 = [[c for c in l] for l in Input('16').read().strip().split(\"\\n\")]"
   ]
  },
  {
   "cell_type": "code",
   "execution_count": null,
   "id": "7271a4d1-7406-44e1-9986-01bb84ab7af7",
   "metadata": {},
   "outputs": [],
   "source": [
    "%%time\n",
    "\n",
    "maze = [[e for e in f] for f in input16]\n",
    "positions = [((0, 0), (0, 1))]\n",
    "visited = {((0, 0), (0, 1)): \"#\"}\n",
    "y, x = len(maze), len(maze[0])\n",
    "\n",
    "while positions != []:\n",
    "    pos, head = positions.pop(0)\n",
    "    m, n = pos\n",
    "    if maze[m][n] == \"|\" and (head == (0, 1) or head == (0, -1)):\n",
    "        for e in ((1, 0), (-1, 0)):\n",
    "            newpos = [sum(e) for e in list(zip(pos, e))]\n",
    "            if 0 <= newpos[0] < y and 0 <= newpos[1] < x:\n",
    "                newpos = tuple(newpos)\n",
    "                tp = tuple([newpos, e])\n",
    "                if tp not in visited:\n",
    "                    visited[tp] = \"#\"\n",
    "                    positions.append(tp)\n",
    "    elif maze[m][n] == \"-\" and (head == (1, 0) or head == (-1, 0)):\n",
    "        for e in ((0, 1), (0, -1)):\n",
    "            newpos = [sum(e) for e in list(zip(pos, e))]\n",
    "            if 0 <= newpos[0] < y and 0 <= newpos[1] < x:\n",
    "                newpos = tuple(newpos)\n",
    "                tp = tuple([newpos, e])\n",
    "                if tp not in visited:\n",
    "                    visited[tp] = \"#\"\n",
    "                    positions.append(tp)\n",
    "    else:\n",
    "        if maze[m][n] == \"\\\\\" and head == (1, 0):\n",
    "            head = (0, 1)\n",
    "        elif maze[m][n] == \"/\" and head == (1, 0):\n",
    "            head = (0, -1)\n",
    "        elif maze[m][n] == \"\\\\\" and head == (-1, 0):\n",
    "            head = (0, -1)\n",
    "        elif maze[m][n] == \"/\" and head == (-1, 0):\n",
    "            head = (0, 1)\n",
    "        elif maze[m][n] == \"\\\\\" and head == (0, 1):\n",
    "            head = (1, 0)\n",
    "        elif maze[m][n] == \"/\" and head == (0, 1):\n",
    "            head = (-1, 0)\n",
    "        elif maze[m][n] == \"\\\\\" and head == (0, -1):\n",
    "            head = (-1, 0)\n",
    "        elif maze[m][n] == \"/\" and head == (0, -1):\n",
    "            head = (1, 0)\n",
    "        newpos = [sum(e) for e in list(zip(pos, head))]\n",
    "        if 0 <= newpos[0] < y and 0 <= newpos[1] < x:\n",
    "                newpos = tuple(newpos)\n",
    "                tp = tuple([newpos, head])\n",
    "                if tp not in visited:\n",
    "                    visited[tp] = \"#\"\n",
    "                    positions.append(tp)\n",
    " \n",
    "unique = {}\n",
    "for k, v in visited.items():\n",
    "    if k[0] not in unique:\n",
    "        unique[k[0]] = v\n",
    "\n",
    "for k, v in unique.items():    \n",
    "    m, n = k\n",
    "    maze[m][n] = v\n",
    "\n",
    "print(\"\\n\".join([''.join(e) for e in maze]))\n",
    "print(\"\\n\")\n",
    "print(len(unique.items()))"
   ]
  },
  {
   "cell_type": "code",
   "execution_count": null,
   "id": "9071edd1-bc8e-440d-a2cb-d5803b7dc411",
   "metadata": {},
   "outputs": [],
   "source": [
    "%%time\n",
    "\n",
    "maze = [[e for e in f] for f in input16]\n",
    "y, x = len(maze), len(maze[0])\n",
    "maxim = 0\n",
    "\n",
    "starts = []\n",
    "\n",
    "for j in range(y):\n",
    "    for i in range(x):\n",
    "        if j == 0:\n",
    "            starts.append(((j, i), (1, 0)))\n",
    "        if j == y - 1:\n",
    "            starts.append(((j, i), (-1, 0)))\n",
    "        if i == 0:\n",
    "            starts.append(((j, i), (0, 1)))\n",
    "        if i == x - 1:\n",
    "            starts.append(((j, i), (0, -1)))\n",
    "\n",
    "for start in starts:\n",
    "    positions = [start]\n",
    "    visited = {start: \"#\"}\n",
    "    \n",
    "    while positions != []:\n",
    "        pos, head = positions.pop(0)\n",
    "        m, n = pos\n",
    "        if maze[m][n] == \"|\" and (head == (0, 1) or head == (0, -1)):\n",
    "            for e in ((1, 0), (-1, 0)):\n",
    "                newpos = [sum(e) for e in list(zip(pos, e))]\n",
    "                if 0 <= newpos[0] < y and 0 <= newpos[1] < x:\n",
    "                    newpos = tuple(newpos)\n",
    "                    tp = tuple([newpos, e])\n",
    "                    if tp not in visited:\n",
    "                        visited[tp] = \"#\"\n",
    "                        positions.append(tp)\n",
    "        elif maze[m][n] == \"-\" and (head == (1, 0) or head == (-1, 0)):\n",
    "            for e in ((0, 1), (0, -1)):\n",
    "                newpos = [sum(e) for e in list(zip(pos, e))]\n",
    "                if 0 <= newpos[0] < y and 0 <= newpos[1] < x:\n",
    "                    newpos = tuple(newpos)\n",
    "                    tp = tuple([newpos, e])\n",
    "                    if tp not in visited:\n",
    "                        visited[tp] = \"#\"\n",
    "                        positions.append(tp)\n",
    "        else:\n",
    "            if maze[m][n] == \"\\\\\" and head == (1, 0):\n",
    "                head = (0, 1)\n",
    "            elif maze[m][n] == \"/\" and head == (1, 0):\n",
    "                head = (0, -1)\n",
    "            elif maze[m][n] == \"\\\\\" and head == (-1, 0):\n",
    "                head = (0, -1)\n",
    "            elif maze[m][n] == \"/\" and head == (-1, 0):\n",
    "                head = (0, 1)\n",
    "            elif maze[m][n] == \"\\\\\" and head == (0, 1):\n",
    "                head = (1, 0)\n",
    "            elif maze[m][n] == \"/\" and head == (0, 1):\n",
    "                head = (-1, 0)\n",
    "            elif maze[m][n] == \"\\\\\" and head == (0, -1):\n",
    "                head = (-1, 0)\n",
    "            elif maze[m][n] == \"/\" and head == (0, -1):\n",
    "                head = (1, 0)\n",
    "            newpos = [sum(e) for e in list(zip(pos, head))]\n",
    "            if 0 <= newpos[0] < y and 0 <= newpos[1] < x:\n",
    "                    newpos = tuple(newpos)\n",
    "                    tp = tuple([newpos, head])\n",
    "                    if tp not in visited:\n",
    "                        visited[tp] = \"#\"\n",
    "                        positions.append(tp)\n",
    "     \n",
    "    unique = {}\n",
    "    for k, v in visited.items():\n",
    "        if k[0] not in unique:\n",
    "            unique[k[0]] = v\n",
    "    maxim = max(maxim, len(unique.items()))\n",
    "    \n",
    "    # print(len(unique.items()))\n",
    "maxim"
   ]
  },
  {
   "cell_type": "code",
   "execution_count": 4,
   "id": "d0d3b3aa-224a-487b-8f98-b68d7aeb5d55",
   "metadata": {},
   "outputs": [],
   "source": [
    "input18 = [[e for e in l.split(\" \")] for l in Input('18').read().strip().split(\"\\n\")]"
   ]
  },
  {
   "cell_type": "code",
   "execution_count": 40,
   "id": "35357867-ab7c-46b2-a6d0-c8e3613e9c0e",
   "metadata": {},
   "outputs": [
    {
     "name": "stdout",
     "output_type": "stream",
     "text": [
      "CPU times: user 5.32 s, sys: 0 ns, total: 5.32 s\n",
      "Wall time: 5.32 s\n"
     ]
    },
    {
     "data": {
      "text/plain": [
       "35991"
      ]
     },
     "execution_count": 40,
     "metadata": {},
     "output_type": "execute_result"
    }
   ],
   "source": [
    "%%time\n",
    "dirs = {\"U\": (-1, 0), \"R\": (0, 1), \"D\": (1, 0), \"L\": (0, -1)}\n",
    "r = [(0, 0)]\n",
    "ct = 0\n",
    "for inp in input18:\n",
    "    dir, dis, rem = inp\n",
    "    for d in range(int(dis)):\n",
    "        coord = tuple([sum(e) for e in list(zip(r[-1], dirs[dir]))])\n",
    "        r.append(coord)\n",
    "\n",
    "y = (min(list(zip(*r))[0]), max(list(zip(*r))[0]))\n",
    "x = (min(list(zip(*r))[1]), max(list(zip(*r))[1]))\n",
    "\n",
    "m =[]\n",
    "\n",
    "for j in range(y[1] - y[0] + 1):\n",
    "    l = []\n",
    "    for i in range(x[1] - x[0] + 1):\n",
    "        if (j + y[0], i + x[0]) in r:\n",
    "            l.append(\"#\")\n",
    "        else:\n",
    "            l.append(\".\")\n",
    "    m.append(l)\n",
    "\n",
    "for j, l in enumerate(m):\n",
    "    ct += l.count(\"#\")\n",
    "    for i, c in enumerate(l):\n",
    "        if c == \".\" and (i == 0 or j == 0):\n",
    "            m[j][i] = \" \"\n",
    "        elif c == \".\" and (m[j][i - 1] == \" \" or m[j - 1][i] == \" \"):\n",
    "            m[j][i] = \" \"\n",
    "    for i in range(x[1] - x[0], -1, -1):\n",
    "        if i == x[1] - x[0] and m[j][i] == \".\":\n",
    "            m[j][i] = \" \"\n",
    "        elif m[j][i] == \".\" and m[j][i + 1] == \" \":\n",
    "            m[j][i] = \" \"\n",
    "\n",
    "for j in range(y[1] - y[0], -1, -1):\n",
    "    for i in range(x[1] - x[0], -1, -1):\n",
    "        if (j == y[1] - y[0] or i == x[1] - x[0]) and m[j][i] == \".\":\n",
    "            m[j][i] = \" \"\n",
    "        elif m[j][i] == \".\" and m[j + 1][i] == \" \":\n",
    "            m[j][i] = \" \"\n",
    "for j, l in enumerate(m):\n",
    "    ct += l.count(\"#\")\n",
    "    for i, c in enumerate(l):\n",
    "        if c == \".\" and (i == 0 or j == 0):\n",
    "            m[j][i] = \" \"\n",
    "        elif c == \".\" and (m[j][i - 1] == \" \" or m[j - 1][i] == \" \"):\n",
    "            m[j][i] = \" \"\n",
    "    for i in range(x[1] - x[0], -1, -1):\n",
    "        if i == x[1] - x[0] and m[j][i] == \".\":\n",
    "            m[j][i] = \" \"\n",
    "        elif m[j][i] == \".\" and m[j][i + 1] == \" \":\n",
    "            m[j][i] = \" \"\n",
    "\n",
    "for j in range(y[1] - y[0], -1, -1):\n",
    "    for i in range(x[1] - x[0], -1, -1):\n",
    "        if (j == y[1] - y[0] or i == x[1] - x[0]) and m[j][i] == \".\":\n",
    "            m[j][i] = \" \"\n",
    "        elif m[j][i] == \".\" and m[j + 1][i] == \" \":\n",
    "            m[j][i] = \" \"\n",
    "\n",
    "lm = \"\\n\".join([''.join(l) for l in m])\n",
    "lm.count(\".\") + lm.count(\"#\")"
   ]
  },
  {
   "cell_type": "code",
   "execution_count": 41,
   "id": "2714f68a-5f16-4873-ab10-721ad2f78e62",
   "metadata": {},
   "outputs": [],
   "source": [
    "input18b = [[e for e in l.split(\" \")] for l in Testdata('18').read().strip().split(\"\\n\")]"
   ]
  },
  {
   "cell_type": "code",
   "execution_count": 72,
   "id": "71eb1947-0f50-49aa-8222-0524883e163c",
   "metadata": {},
   "outputs": [
    {
     "name": "stdout",
     "output_type": "stream",
     "text": [
      "CPU times: user 44.1 s, sys: 2.73 s, total: 46.9 s\n",
      "Wall time: 46.8 s\n"
     ]
    }
   ],
   "source": [
    "%%time\n",
    "dirs = {\"3\": (-1, 0), \"0\": (0, 1), \"1\": (1, 0), \"2\": (0, -1)}\n",
    "\n",
    "for inp in input18b:\n",
    "    dis, dir = int(inp[2][2:-2], 16), inp[2][-2]\n",
    "    for d in range(int(dis)):\n",
    "        coord = tuple([sum(e) for e in list(zip(r[-1], dirs[dir]))])\n",
    "        r.append(coord)\n",
    "\n",
    "y = (min(list(zip(*r))[0]), max(list(zip(*r))[0]))\n",
    "x = (min(list(zip(*r))[1]), max(list(zip(*r))[1]))"
   ]
  },
  {
   "cell_type": "code",
   "execution_count": 74,
   "id": "411fbc3f-a37c-4f85-abc2-3f976b24112c",
   "metadata": {},
   "outputs": [
    {
     "name": "stdout",
     "output_type": "stream",
     "text": [
      "CPU times: user 110 µs, sys: 0 ns, total: 110 µs\n",
      "Wall time: 113 µs\n"
     ]
    }
   ],
   "source": [
    "%%time\n",
    "dirs = {\"U\": (-1, 0), \"R\": (0, 1), \"D\": (1, 0), \"L\": (0, -1)}\n",
    "r = [(0, 0)]\n",
    "for inp in input18b:\n",
    "    dir, dis, rem = inp\n",
    "    for d in range(int(dis)):\n",
    "        coord = tuple([sum(e) for e in list(zip(r[-1], dirs[dir]))])\n",
    "        r.append(coord)\n",
    "\n",
    "y = (min(list(zip(*r))[0]), max(list(zip(*r))[0]))\n",
    "x = (min(list(zip(*r))[1]), max(list(zip(*r))[1]))"
   ]
  },
  {
   "cell_type": "markdown",
   "id": "8b69b051-aa5a-4ba1-893d-7f6150c495df",
   "metadata": {},
   "source": [
    "## [Day 19: Aplenty](https://adventofcode.com/2023/day/19)"
   ]
  },
  {
   "cell_type": "markdown",
   "id": "1c061b75-d97b-4ae4-a3b4-3037cc5d7867",
   "metadata": {},
   "source": [
    "### Part 1"
   ]
  },
  {
   "cell_type": "code",
   "execution_count": 104,
   "id": "3928a7a1-1935-4b34-8a8a-296062357426",
   "metadata": {},
   "outputs": [],
   "source": [
    "testdata19 = Testdata('19').read()"
   ]
  },
  {
   "cell_type": "code",
   "execution_count": 105,
   "id": "1598238b-51c2-4392-b6ac-09898851f27f",
   "metadata": {},
   "outputs": [],
   "source": [
    "testdata19 = [e.split(\"\\n\") for e in testdata19.strip().split(\"\\n\\n\")]"
   ]
  },
  {
   "cell_type": "code",
   "execution_count": 172,
   "id": "865cfc74-c331-4cee-abba-402bc58e475c",
   "metadata": {},
   "outputs": [
    {
     "ename": "NameError",
     "evalue": "name 'crn' is not defined",
     "output_type": "error",
     "traceback": [
      "\u001b[0;31m---------------------------------------------------------------------------\u001b[0m",
      "\u001b[0;31mNameError\u001b[0m                                 Traceback (most recent call last)",
      "Cell \u001b[0;32mIn[172], line 18\u001b[0m\n\u001b[1;32m     14\u001b[0m             string \u001b[38;5;241m=\u001b[39m string \u001b[38;5;241m+\u001b[39m \u001b[38;5;124m\"\u001b[39m\u001b[38;5;130;01m\\n\u001b[39;00m\u001b[38;5;124melif \u001b[39m\u001b[38;5;124m\"\u001b[39m \u001b[38;5;241m+\u001b[39m f[:f\u001b[38;5;241m.\u001b[39mindex(\u001b[38;5;124m\"\u001b[39m\u001b[38;5;124m:\u001b[39m\u001b[38;5;124m\"\u001b[39m)] \u001b[38;5;241m+\u001b[39m \u001b[38;5;124m\"\u001b[39m\u001b[38;5;124m:\u001b[39m\u001b[38;5;130;01m\\n\u001b[39;00m\u001b[38;5;124m    \u001b[39m\u001b[38;5;124m\"\u001b[39m \u001b[38;5;241m+\u001b[39m f[f\u001b[38;5;241m.\u001b[39mindex(\u001b[38;5;124m\"\u001b[39m\u001b[38;5;124m:\u001b[39m\u001b[38;5;124m\"\u001b[39m) \u001b[38;5;241m+\u001b[39m \u001b[38;5;241m1\u001b[39m:]\n\u001b[1;32m     16\u001b[0m     rules[n] \u001b[38;5;241m=\u001b[39m string\n\u001b[0;32m---> 18\u001b[0m \u001b[43mexec\u001b[49m\u001b[43m(\u001b[49m\u001b[43mrules\u001b[49m\u001b[43m[\u001b[49m\u001b[38;5;124;43m\"\u001b[39;49m\u001b[38;5;124;43mqkq\u001b[39;49m\u001b[38;5;124;43m\"\u001b[39;49m\u001b[43m]\u001b[49m\u001b[43m)\u001b[49m\n",
      "File \u001b[0;32m<string>:4\u001b[0m\n",
      "\u001b[0;31mNameError\u001b[0m: name 'crn' is not defined"
     ]
    }
   ],
   "source": [
    "rules = {}\n",
    "\n",
    "for e in testdata19[0]:\n",
    "    n = e[:e.index(\"{\")]\n",
    "    # print(n)\n",
    "    r = e[e.index(\"{\") + 1:-1].split(\",\")\n",
    "    for i, f in enumerate(r):\n",
    "        # print(i, f, string)\n",
    "        if i == 0:\n",
    "            string = \"if \" + f[:f.index(\":\")] + \":\\n    \" + f[f.index(\":\") + 1:]\n",
    "        elif i == len(r) - 1:\n",
    "            string = string + \"\\nelse:\\n    \" + f\n",
    "        else:\n",
    "            string = string + \"\\nelif \" + f[:f.index(\":\")] + \":\\n    \" + f[f.index(\":\") + 1:]\n",
    "    \n",
    "    rules[n] = string"
   ]
  },
  {
   "cell_type": "code",
   "execution_count": 138,
   "id": "bd35bcfe-0eae-46f5-8f2f-292a6ef0e0e3",
   "metadata": {},
   "outputs": [
    {
     "data": {
      "text/plain": [
       "(2127, 1623, 2188, 1013)"
      ]
     },
     "execution_count": 138,
     "metadata": {},
     "output_type": "execute_result"
    }
   ],
   "source": [
    "for point in testdata19[1]:\n",
    "    x, m, a, s = [int(e[e.index(\"=\") + 1:]) for e in point[1:-1].split(\",\")]\n",
    "x, m, a, s"
   ]
  },
  {
   "cell_type": "code",
   "execution_count": 205,
   "id": "2a9eb9cc-7d5a-4cfd-bf0b-ae3704b2981a",
   "metadata": {},
   "outputs": [],
   "source": [
    "testdata20 = Testdata('20').read().strip().split(\"\\n\")"
   ]
  },
  {
   "cell_type": "code",
   "execution_count": 206,
   "id": "995e96bb-876d-439e-8603-ed7ab6715f68",
   "metadata": {},
   "outputs": [],
   "source": [
    "d = {}\n",
    "for l in testdata20:\n",
    "    k, v = l.split(\" -> \")\n",
    "    if not k[0].isalpha():\n",
    "        d[k[1:]] = [k[0]] + v.split(\", \")\n",
    "    else:\n",
    "        d[k] = v.split(\", \")\n"
   ]
  },
  {
   "cell_type": "code",
   "execution_count": null,
   "id": "2c4dd8cd-5c68-4085-b582-a9e81a9e9b4a",
   "metadata": {},
   "outputs": [],
   "source": [
    "testdata20 = Testdata('20').read().strip().split(\"\\n\")"
   ]
  },
  {
   "cell_type": "code",
   "execution_count": null,
   "id": "5a3ae0b5-9cd2-4c96-9d0b-80e1267b66b5",
   "metadata": {},
   "outputs": [],
   "source": [
    "d = {}\n",
    "for l in testdata20:\n",
    "    k, v = l.split(\" -> \")\n",
    "    if not k[0].isalpha():\n",
    "        d[k[1:]] = [k[0]] + v.split(\", \")\n",
    "    else:\n",
    "        d[k] = v.split(\", \")\n"
   ]
  },
  {
   "cell_type": "code",
   "execution_count": 212,
   "id": "5612b71c-2c76-4f7a-a7c6-eeefd1f91cfe",
   "metadata": {},
   "outputs": [
    {
     "data": {
      "text/plain": [
       "11687500"
      ]
     },
     "execution_count": 212,
     "metadata": {},
     "output_type": "execute_result"
    }
   ],
   "source": [
    "high, low = 0, 0\n",
    "signals = []\n",
    "states = {}\n",
    "\n",
    "memory = {}\n",
    "for k, v in d.items():\n",
    "    if v[0] == \"&\":\n",
    "        memory[k] = {}\n",
    "\n",
    "for k in memory.keys():\n",
    "    for dk, v in d.items():\n",
    "        if k in v:\n",
    "            memory[k][dk] = 0\n",
    "\n",
    "for i in range(1000):\n",
    "    low += 1\n",
    "    for e in d['broadcaster']:\n",
    "        signals.append((e, 0, \"broadcast\"))\n",
    "        low += 1\n",
    "    while len(signals) > 0:\n",
    "        # print(high, low)\n",
    "        sw, sig, src = signals.pop(0)\n",
    "        if sw not in d:\n",
    "            pass\n",
    "        elif d[sw][0] == \"%\":\n",
    "            if sig == 0:\n",
    "                if states.get(sw, 0) == 0:\n",
    "                    states[sw] = 1\n",
    "                else:\n",
    "                    states[sw] = 0\n",
    "                for g in d[sw][1:]:\n",
    "                    signals.append((g, states[sw], sw))\n",
    "                    if states[sw] == 1:\n",
    "                        high += 1\n",
    "                    else:\n",
    "                        low += 1\n",
    "        elif d[sw][0] == \"&\":\n",
    "            memory[sw][src] = sig\n",
    "            if 0 not in memory[sw].values():\n",
    "                sigout = 0\n",
    "            else:\n",
    "                sigout = 1\n",
    "            for g in d[sw][1:]:\n",
    "                signals.append((g, sigout, sw))\n",
    "                if sigout == 1:\n",
    "                    high += 1\n",
    "                else:\n",
    "                    low += 1\n",
    "        # print(signals)\n",
    "high * low"
   ]
  }
 ],
 "metadata": {
  "kernelspec": {
   "display_name": "Python 3 (ipykernel)",
   "language": "python",
   "name": "python3"
  },
  "language_info": {
   "codemirror_mode": {
    "name": "ipython",
    "version": 3
   },
   "file_extension": ".py",
   "mimetype": "text/x-python",
   "name": "python",
   "nbconvert_exporter": "python",
   "pygments_lexer": "ipython3",
   "version": "3.12.7"
  }
 },
 "nbformat": 4,
 "nbformat_minor": 5
}

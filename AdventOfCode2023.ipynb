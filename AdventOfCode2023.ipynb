{
 "cells": [
  {
   "cell_type": "markdown",
   "id": "347075f3-9332-483e-97e3-59aed6d0b336",
   "metadata": {},
   "source": [
    "# [Advent of Code 2023](https://adventofcode.com/2023)"
   ]
  },
  {
   "cell_type": "markdown",
   "id": "433135d8-2c31-4862-a172-f548f01263ef",
   "metadata": {},
   "source": [
    "## General functions"
   ]
  },
  {
   "cell_type": "code",
   "execution_count": 1,
   "id": "cf691d31-cab8-40c3-b97d-ced5997985ee",
   "metadata": {},
   "outputs": [],
   "source": [
    "import re\n",
    "import itertools\n",
    "import math\n",
    "from operator import itemgetter"
   ]
  },
  {
   "cell_type": "code",
   "execution_count": 2,
   "id": "41fd15b0-8cfa-416f-8b87-80acb3c64b01",
   "metadata": {},
   "outputs": [],
   "source": [
    "def Input(day, year=2023):\n",
    "    directory = '{}'.format(year)\n",
    "    filename = directory + '/input{}.txt'.format(day)\n",
    "    return open(filename)\n",
    "\n",
    "def Testdata(day, year=2023):\n",
    "    directory = '{}'.format(year)\n",
    "    filename = directory + '/testdata{}.txt'.format(day)\n",
    "    return open(filename)\n",
    "\n",
    "def mapt(fn, *args):\n",
    "    \"\"\"map(fn, *args) and return the result as a tuple.\"\"\"\n",
    "    return tuple(map(fn, *args))\n",
    "\n",
    "def parse(day, parser=str, sep='\\n', output='tuple') -> tuple:\n",
    "    \"\"\"Split the day's input file into entries separated by `sep`, and apply `parser` to each.\"\"\"\n",
    "    entries = open(f'2023/input{day}.txt').read().rstrip().split(sep)\n",
    "    return mapt(parser, entries)"
   ]
  },
  {
   "cell_type": "code",
   "execution_count": 3,
   "id": "6dde3e24-71c9-44f8-9626-b3a58fe4468b",
   "metadata": {},
   "outputs": [],
   "source": [
    "def findroots(a, b, c):\n",
    "    dis = b * b - 4 * a * c \n",
    "    sqrt_val = math.sqrt(abs(dis)) \n",
    "    if dis > 0:\n",
    "        return (-b + sqrt_val)/(2 * a), (-b - sqrt_val)/(2 * a)\n",
    "    elif dis == 0:\n",
    "        return -b / (2 * a)\n",
    "    else:\n",
    "        return - b / (2 * a), + i, sqrt_val,  - b / (2 * a), - i, sqrt_val"
   ]
  },
  {
   "cell_type": "markdown",
   "id": "cf943123-4c01-41af-9a86-b2380b4625a1",
   "metadata": {},
   "source": [
    "## [Day 1: Trebuchet?!](https://adventofcode.com/2023/day/1)"
   ]
  },
  {
   "cell_type": "markdown",
   "id": "eb30f3ab-fc4b-4fc1-bf50-982a3293c1f5",
   "metadata": {},
   "source": [
    "### Part 1"
   ]
  },
  {
   "cell_type": "code",
   "execution_count": 4,
   "id": "7133b59a-97ea-4e92-b461-4490b4296c62",
   "metadata": {},
   "outputs": [],
   "source": [
    "def calibration_values(n, replace = False):\n",
    "    if replace == True:\n",
    "        n = [translate_string(e) for e in n]\n",
    "    else:\n",
    "        n = [re.findall(r'\\d', e) for e in n]\n",
    "    return [int(e[0] + e[-1]) for e in n]"
   ]
  },
  {
   "cell_type": "code",
   "execution_count": 5,
   "id": "8cdcc9bf-2986-4cf1-8b37-18f48b8f686c",
   "metadata": {},
   "outputs": [],
   "source": [
    "testdata = (\"1abc2\", \"pqr3stu8vwx\", \"a1b2c3d4e5f\", \"treb7uchet\")\n",
    "assert sum(calibration_values(testdata)) == 142"
   ]
  },
  {
   "cell_type": "code",
   "execution_count": 6,
   "id": "2613d8e6-53b5-445c-a445-477b89cc2ade",
   "metadata": {},
   "outputs": [
    {
     "name": "stdout",
     "output_type": "stream",
     "text": [
      "CPU times: user 2.12 ms, sys: 0 ns, total: 2.12 ms\n",
      "Wall time: 1.75 ms\n"
     ]
    },
    {
     "data": {
      "text/plain": [
       "54990"
      ]
     },
     "execution_count": 6,
     "metadata": {},
     "output_type": "execute_result"
    }
   ],
   "source": [
    "%time sum(calibration_values(parse('01')))"
   ]
  },
  {
   "cell_type": "markdown",
   "id": "571adca4-baa6-4af0-a673-d5d680b9f7c9",
   "metadata": {},
   "source": [
    "### Part 2"
   ]
  },
  {
   "cell_type": "code",
   "execution_count": 7,
   "id": "430a3f4c-2fab-426a-bd53-1088f325b7ef",
   "metadata": {},
   "outputs": [],
   "source": [
    "def translate_string(n):\n",
    "    r = []\n",
    "    d = [\"zero\", \"one\", \"two\", \"three\", \"four\", \"five\", \"six\", \"seven\", \"eight\", \"nine\"]\n",
    "    for i, c in enumerate(n):\n",
    "        if c.isdigit():\n",
    "            r.append(c)\n",
    "        for j, b in enumerate(d):\n",
    "            if n[i:].startswith(b):\n",
    "                r.append(str(j))\n",
    "    return ''.join(r)\n",
    "                "
   ]
  },
  {
   "cell_type": "code",
   "execution_count": 8,
   "id": "a5650b4e-e8c2-45ed-8a63-60380aebe827",
   "metadata": {
    "scrolled": true
   },
   "outputs": [],
   "source": [
    "testdata = (\"two1nine\", \"eightwothree\", \"abcone2threexyz\", \"xtwone3four\", \"4nineeightseven2\", \"zoneight234\", \"7pqrstsixteen\")\n",
    "assert(sum(calibration_values(testdata, True))) == 281"
   ]
  },
  {
   "cell_type": "code",
   "execution_count": 9,
   "id": "1e72809f-b242-4ab4-a054-d6edd4093a48",
   "metadata": {},
   "outputs": [
    {
     "name": "stdout",
     "output_type": "stream",
     "text": [
      "CPU times: user 33.7 ms, sys: 448 µs, total: 34.1 ms\n",
      "Wall time: 33.5 ms\n"
     ]
    },
    {
     "data": {
      "text/plain": [
       "54473"
      ]
     },
     "execution_count": 9,
     "metadata": {},
     "output_type": "execute_result"
    }
   ],
   "source": [
    "%time sum(calibration_values(parse('01'), True))"
   ]
  },
  {
   "cell_type": "markdown",
   "id": "5bad92cd-e2cf-4c33-9cbe-fab5efd10499",
   "metadata": {},
   "source": [
    "## [Day 2: Cube Conundrum](https://adventofcode.com/2023/day/2)"
   ]
  },
  {
   "cell_type": "markdown",
   "id": "3ee10682-1415-4dc3-a953-7aef21b4e7d5",
   "metadata": {},
   "source": [
    "### Part 1"
   ]
  },
  {
   "cell_type": "code",
   "execution_count": 10,
   "id": "25a4ea51-b38a-46c7-9a8c-9651274ea1b5",
   "metadata": {},
   "outputs": [
    {
     "name": "stdout",
     "output_type": "stream",
     "text": [
      "CPU times: user 1.2 ms, sys: 0 ns, total: 1.2 ms\n",
      "Wall time: 1.1 ms\n"
     ]
    },
    {
     "data": {
      "text/plain": [
       "2720"
      ]
     },
     "execution_count": 10,
     "metadata": {},
     "output_type": "execute_result"
    }
   ],
   "source": [
    "def combinations(n, red = None, green = None, blue = None):\n",
    "    d = {\"red\": red, \"green\": green, \"blue\": blue}\n",
    "    n = [[d[k] >= int(v) for v, k in re.findall(r'(\\d+) (\\w+)', m)] for m in n]\n",
    "    return [i + 1 if False not in m else 0 for i, m in enumerate(n)]\n",
    "\n",
    "%time sum(combinations(Input('02').readlines(), 12, 13, 14))"
   ]
  },
  {
   "cell_type": "markdown",
   "id": "0af54bf4-28c7-4943-9eea-e8a967fdd067",
   "metadata": {},
   "source": [
    "### Part 2"
   ]
  },
  {
   "cell_type": "code",
   "execution_count": 11,
   "id": "ad4e5551-cbb9-4031-83c7-9fea96ca1149",
   "metadata": {},
   "outputs": [],
   "source": [
    "testdata = \"Game 1: 3 blue, 4 red; 1 red, 2 green, 6 blue; 2 green\\nGame 2: 1 blue, 2 green; 3 green, 4 blue, 1 red; 1 green, 1 blue\\nGame 3: 8 green, 6 blue, 20 red; 5 blue, 4 red, 13 green; 5 green, 1 red\\nGame 4: 1 green, 3 red, 6 blue; 3 green, 6 red; 3 green, 15 blue, 14 red\\nGame 5: 6 red, 1 blue, 3 green; 2 blue, 1 red, 2 green\""
   ]
  },
  {
   "cell_type": "code",
   "execution_count": 12,
   "id": "607bcee0-3b2a-4226-bdd5-839cdab8233e",
   "metadata": {},
   "outputs": [],
   "source": [
    "def fewest_possible(n):\n",
    "    r = []\n",
    "    for m in n:\n",
    "        m = re.findall(r'(\\d+) (\\w+)', m)\n",
    "        t = {}\n",
    "        for v, k in m:\n",
    "            t[k] = max(t.get(k, 0), int(v))\n",
    "        r.append(t.values())\n",
    "    return r"
   ]
  },
  {
   "cell_type": "code",
   "execution_count": 13,
   "id": "cba918b6-d7bd-4312-b700-c732387fab19",
   "metadata": {},
   "outputs": [],
   "source": [
    "assert sum([math.prod(e) for e in fewest_possible(testdata.split(\"\\n\"))])==2286"
   ]
  },
  {
   "cell_type": "code",
   "execution_count": 14,
   "id": "705cb3d7-4452-4261-9281-f14816543ff0",
   "metadata": {},
   "outputs": [
    {
     "name": "stdout",
     "output_type": "stream",
     "text": [
      "CPU times: user 823 µs, sys: 155 µs, total: 978 µs\n",
      "Wall time: 962 µs\n"
     ]
    },
    {
     "data": {
      "text/plain": [
       "71535"
      ]
     },
     "execution_count": 14,
     "metadata": {},
     "output_type": "execute_result"
    }
   ],
   "source": [
    "%time sum([math.prod(e) for e in fewest_possible(Input('02').readlines())])"
   ]
  },
  {
   "cell_type": "markdown",
   "id": "a113e5d2-db0c-47af-82b0-bcfc4a536c85",
   "metadata": {},
   "source": [
    "## [Day 3: Gear Ratios](https://adventofcode.com/2023/day/3)"
   ]
  },
  {
   "cell_type": "markdown",
   "id": "360b465a-2dc2-4b73-9e8a-83a75c187b03",
   "metadata": {},
   "source": [
    "### Part 1"
   ]
  },
  {
   "cell_type": "code",
   "execution_count": 15,
   "id": "4bc50549-7b4b-4914-9da7-7e1d08d12450",
   "metadata": {},
   "outputs": [],
   "source": [
    "testdata = \"467..114..\\n...*......\\n..35..633.\\n......#...\\n617*......\\n.....+.58.\\n..592.....\\n......755.\\n...$.*....\\n.664.598..\""
   ]
  },
  {
   "cell_type": "code",
   "execution_count": 16,
   "id": "3fd2f810-d827-4b1c-a4b8-453bf36bcef1",
   "metadata": {
    "scrolled": true
   },
   "outputs": [
    {
     "data": {
      "text/plain": [
       "[467, 35, 633, 617, 592, 755, 664, 598]"
      ]
     },
     "execution_count": 16,
     "metadata": {},
     "output_type": "execute_result"
    }
   ],
   "source": [
    "def str_to_lst(n):\n",
    "    d = {}\n",
    "    for i, e in enumerate(n.split()):\n",
    "        for j, f in enumerate(e):\n",
    "            d[(i, j)] = f\n",
    "    return d\n",
    "\n",
    "def neighbours8(i, j):\n",
    "    return (i - 1, j - 1), (i - 1, j),(i - 1, j + 1), (i, j - 1),(i, j + 1),(i + 1, j - 1),(i + 1, j),(i + 1, j + 1),\n",
    "\n",
    "def symbol_neighbours(n):\n",
    "    grid = str_to_lst(n)\n",
    "    nbs = {}\n",
    "    for k, v in grid.items():\n",
    "        if v.isdigit():\n",
    "            nbs[k] = True in [True if not grid.get(nb, \".\").isdigit() and grid.get(nb, \".\") != \".\" else False for nb in neighbours8(*k)]\n",
    "    return nbs\n",
    "\n",
    "def part_numbers(n):\n",
    "    part_numbers = []\n",
    "    grid = str_to_lst(n)\n",
    "    lst = symbol_neighbours(n)\n",
    "    string = \"\"\n",
    "    l = []\n",
    "    for k, v in lst.items():\n",
    "        i, j = k\n",
    "        if (i, j - 1) in lst:\n",
    "            string = string + str(grid[k])\n",
    "            l.append(v)\n",
    "        else:\n",
    "            if True in l:\n",
    "                part_numbers.append(int(string))\n",
    "            string = str(grid[k])\n",
    "            l = [v]\n",
    "    if True in l:\n",
    "        part_numbers.append(int(string))\n",
    "    return part_numbers\n",
    "\n",
    "part_numbers(testdata)"
   ]
  },
  {
   "cell_type": "code",
   "execution_count": 17,
   "id": "530a96fa-a34b-4cfc-9b65-f6eaa8598d0d",
   "metadata": {},
   "outputs": [],
   "source": [
    "assert sum(part_numbers(testdata))==4361"
   ]
  },
  {
   "cell_type": "code",
   "execution_count": 18,
   "id": "94e238ed-c6ca-49cf-8de2-21e03714ef5a",
   "metadata": {},
   "outputs": [
    {
     "name": "stdout",
     "output_type": "stream",
     "text": [
      "CPU times: user 16.1 ms, sys: 93 µs, total: 16.1 ms\n",
      "Wall time: 15.6 ms\n"
     ]
    },
    {
     "data": {
      "text/plain": [
       "538046"
      ]
     },
     "execution_count": 18,
     "metadata": {},
     "output_type": "execute_result"
    }
   ],
   "source": [
    "%time sum(part_numbers(Input('03').read()))"
   ]
  },
  {
   "cell_type": "markdown",
   "id": "b280b91f-d3c7-46ff-a252-82534be4031a",
   "metadata": {},
   "source": [
    "### Part 2"
   ]
  },
  {
   "cell_type": "code",
   "execution_count": 19,
   "id": "af29290b-7ab5-4632-83e2-8f13782d13df",
   "metadata": {},
   "outputs": [],
   "source": [
    "def gear_ratios(n):\n",
    "    grid = str_to_lst(n)\n",
    "    numbers = {}\n",
    "    l = []\n",
    "    gears = []\n",
    "    for k, v in grid.items():\n",
    "        i, j = k\n",
    "        if v == \"*\":\n",
    "            gears.append(k)\n",
    "        if v.isdigit():\n",
    "            if grid.get((i, j - 1), \".\").isdigit():\n",
    "                l.append(v)\n",
    "                c.append(k)\n",
    "            else:\n",
    "                l = [v]\n",
    "                c = [k]\n",
    "        elif len(l) > 0:\n",
    "            for cc in c:\n",
    "                numbers[cc] = int(''.join(l))\n",
    "    som = 0\n",
    "    for gear in gears:\n",
    "        nbs = set([numbers[nb] for nb in neighbours8(*gear) if nb in numbers])\n",
    "        if len(nbs) == 2:\n",
    "            som += math.prod(nbs)\n",
    "\n",
    "    return som"
   ]
  },
  {
   "cell_type": "code",
   "execution_count": 20,
   "id": "01b1c775-4df3-4bfe-a42d-cdc58461ee51",
   "metadata": {},
   "outputs": [],
   "source": [
    "assert gear_ratios(testdata) == 467835"
   ]
  },
  {
   "cell_type": "code",
   "execution_count": 21,
   "id": "c178ec44-0d8d-4901-a9a5-6907e0eb458a",
   "metadata": {},
   "outputs": [
    {
     "name": "stdout",
     "output_type": "stream",
     "text": [
      "CPU times: user 37.8 ms, sys: 511 µs, total: 38.3 ms\n",
      "Wall time: 37.4 ms\n"
     ]
    },
    {
     "data": {
      "text/plain": [
       "81709807"
      ]
     },
     "execution_count": 21,
     "metadata": {},
     "output_type": "execute_result"
    }
   ],
   "source": [
    "%time gear_ratios(Input('03').read())"
   ]
  },
  {
   "cell_type": "markdown",
   "id": "82182a2c-a21d-4a26-95ee-3408f526fac2",
   "metadata": {},
   "source": [
    "## [Day 4: Scratchcards](https://adventofcode.com/2023/day/4)"
   ]
  },
  {
   "cell_type": "markdown",
   "id": "851e50c4-46f1-468b-9fce-ca31cd602515",
   "metadata": {},
   "source": [
    "### Part 1"
   ]
  },
  {
   "cell_type": "code",
   "execution_count": 22,
   "id": "2ddf21a8-4760-4579-9888-b88aa08c3539",
   "metadata": {},
   "outputs": [],
   "source": [
    "testdata = \"Card 1: 41 48 83 86 17 | 83 86  6 31 17  9 48 53\\nCard 2: 13 32 20 16 61 | 61 30 68 82 17 32 24 19\\nCard 3:  1 21 53 59 44 | 69 82 63 72 16 21 14  1\\nCard 4: 41 92 73 84 69 | 59 84 76 51 58  5 54 83\\nCard 5: 87 83 26 28 32 | 88 30 70 12 93 22 82 36\\nCard 6: 31 18 13 56 72 | 74 77 10 23 35 67 36 11\""
   ]
  },
  {
   "cell_type": "code",
   "execution_count": 23,
   "id": "60f3e066-1e29-41be-9822-f7fd2aa77062",
   "metadata": {},
   "outputs": [],
   "source": [
    "def cards_worth(n):\n",
    "    n = n.strip().split(\"\\n\")\n",
    "    r = 0\n",
    "    for e in n:\n",
    "        c = [f.split() for f in e.split(\":\")[1].split(\"|\")]\n",
    "        c = [1 for e in c[0] if e in c[1]]\n",
    "        if sum(c) > 0:\n",
    "            r += 2 ** (sum(c) - 1)\n",
    "    return r"
   ]
  },
  {
   "cell_type": "code",
   "execution_count": 24,
   "id": "60f0f8cd-81c5-402e-b80c-162fa3fb8ce2",
   "metadata": {},
   "outputs": [],
   "source": [
    "assert cards_worth(testdata) == 13"
   ]
  },
  {
   "cell_type": "code",
   "execution_count": 25,
   "id": "a9e65348-bf6c-4202-86a8-b5fb79fa08c5",
   "metadata": {},
   "outputs": [
    {
     "name": "stdout",
     "output_type": "stream",
     "text": [
      "CPU times: user 1.72 ms, sys: 0 ns, total: 1.72 ms\n",
      "Wall time: 1.41 ms\n"
     ]
    },
    {
     "data": {
      "text/plain": [
       "17803"
      ]
     },
     "execution_count": 25,
     "metadata": {},
     "output_type": "execute_result"
    }
   ],
   "source": [
    "%time cards_worth(Input('04').read())"
   ]
  },
  {
   "cell_type": "markdown",
   "id": "088df69d-b9ca-4755-b066-374940ada798",
   "metadata": {},
   "source": [
    "### Part 2"
   ]
  },
  {
   "cell_type": "code",
   "execution_count": 26,
   "id": "4fdb51bc-3526-4ca8-8ec0-bde85a779720",
   "metadata": {},
   "outputs": [],
   "source": [
    "def number_of_cards(n):\n",
    "    n = [[f.split() for f in e.split(\":\")[1].split(\"|\")] for e in n.strip().split(\"\\n\")] \n",
    "    m = {i: 1 for i in range(len(n))}\n",
    "    for i, e in enumerate(n):\n",
    "        \n",
    "        c = [1 for f in e[0] if f in e[1]]\n",
    "        for j in range(1, sum(c) + 1):\n",
    "            m[i + j] = m[i + j] + m[i]\n",
    "    return sum(m.values())"
   ]
  },
  {
   "cell_type": "code",
   "execution_count": 27,
   "id": "5626e110-85e8-4c92-af74-33a76a4ffdf0",
   "metadata": {},
   "outputs": [],
   "source": [
    "assert number_of_cards(testdata) == 30"
   ]
  },
  {
   "cell_type": "code",
   "execution_count": 28,
   "id": "647c835d-8e49-4763-8c32-6f604be53014",
   "metadata": {},
   "outputs": [
    {
     "data": {
      "text/plain": [
       "30"
      ]
     },
     "execution_count": 28,
     "metadata": {},
     "output_type": "execute_result"
    }
   ],
   "source": [
    "number_of_cards(testdata)"
   ]
  },
  {
   "cell_type": "code",
   "execution_count": 29,
   "id": "538a5db3-8199-4297-951b-3474dfda15a7",
   "metadata": {},
   "outputs": [
    {
     "name": "stdout",
     "output_type": "stream",
     "text": [
      "CPU times: user 2.88 ms, sys: 0 ns, total: 2.88 ms\n",
      "Wall time: 2.14 ms\n"
     ]
    },
    {
     "data": {
      "text/plain": [
       "5554894"
      ]
     },
     "execution_count": 29,
     "metadata": {},
     "output_type": "execute_result"
    }
   ],
   "source": [
    "%time number_of_cards(Input('04').read())"
   ]
  },
  {
   "cell_type": "markdown",
   "id": "183ab89e-3452-4739-bf18-3ace440bf5b0",
   "metadata": {},
   "source": [
    "## [Day 5: If You Give A Seed A Fertilizer](https://adventofcode.com/2023/day/5)"
   ]
  },
  {
   "cell_type": "markdown",
   "id": "5e2674d7-ab5b-4e23-bdb0-d21d03013c24",
   "metadata": {},
   "source": [
    "### Part 1"
   ]
  },
  {
   "cell_type": "code",
   "execution_count": 30,
   "id": "e47f8995-8538-4eac-a581-08a873408cf6",
   "metadata": {},
   "outputs": [],
   "source": [
    "testdata = Testdata('07').read()"
   ]
  },
  {
   "cell_type": "code",
   "execution_count": 31,
   "id": "292e446e-bf3a-4d64-9df9-f2f8944f2c32",
   "metadata": {},
   "outputs": [],
   "source": [
    "def parse_data(n):\n",
    "    d = {}\n",
    "    for e in n.strip().split(\"\\n\\n\"):\n",
    "        if e.startswith(\"seeds\"):\n",
    "            seeds = [int(f) for f in re.findall(r'(\\d+)', e)]\n",
    "        else:\n",
    "            e = e.split(\"\\n\")\n",
    "            name = e[0][:len(e[0]) - 5]\n",
    "            t = []\n",
    "            for f in e[1:]:\n",
    "                t.append([int(g) for g in f.split()])\n",
    "            d[name] = sorted(t, key=itemgetter(1))\n",
    "    return seeds, d  \n",
    "\n",
    "def solution(n, steps = None):\n",
    "    if steps == None:\n",
    "        steps = ['seed-to-soil', 'soil-to-fertilizer', 'fertilizer-to-water', 'water-to-light', 'light-to-temperature', 'temperature-to-humidity','humidity-to-location']\n",
    "    seeds, d = parse_data(n)\n",
    "    locs = []\n",
    "    for seed in seeds:\n",
    "        # print(\"-\"*30)\n",
    "        loc = seed\n",
    "        for step in steps:\n",
    "            for lst in d[step]:\n",
    "                if loc in range(lst[1], lst[1] + lst[2]):\n",
    "                    loc = lst[0] + loc - lst[1]\n",
    "                    # print(\"D\", step, d[step], loc)\n",
    "                    break\n",
    "        locs.append(loc)\n",
    "    return locs"
   ]
  },
  {
   "cell_type": "code",
   "execution_count": 32,
   "id": "c0ef8472-8df4-449d-a265-ec9cff413b0a",
   "metadata": {},
   "outputs": [
    {
     "name": "stdout",
     "output_type": "stream",
     "text": [
      "CPU times: user 158 µs, sys: 0 ns, total: 158 µs\n",
      "Wall time: 160 µs\n"
     ]
    }
   ],
   "source": [
    "%time assert min(solution(testdata)) == 35"
   ]
  },
  {
   "cell_type": "code",
   "execution_count": 33,
   "id": "4ec74719-97af-435c-834d-c7646b7b1afd",
   "metadata": {},
   "outputs": [
    {
     "name": "stdout",
     "output_type": "stream",
     "text": [
      "CPU times: user 1.49 ms, sys: 0 ns, total: 1.49 ms\n",
      "Wall time: 1.16 ms\n"
     ]
    },
    {
     "data": {
      "text/plain": [
       "51752125"
      ]
     },
     "execution_count": 33,
     "metadata": {},
     "output_type": "execute_result"
    }
   ],
   "source": [
    "%time min(solution(Input('05').read()))"
   ]
  },
  {
   "cell_type": "markdown",
   "id": "af8752b1-b35c-4454-bc99-4fd1ad68176a",
   "metadata": {},
   "source": [
    "### Part 2"
   ]
  },
  {
   "cell_type": "code",
   "execution_count": 34,
   "id": "5fb52a81-910f-43f3-8f8a-bcaeb5be1f1d",
   "metadata": {},
   "outputs": [],
   "source": [
    "from operator import itemgetter \n",
    "\n",
    "def solution(n, steps = None):\n",
    "    if steps == None:\n",
    "        steps = ['seed-to-soil', 'soil-to-fertilizer', 'fertilizer-to-water', 'water-to-light', 'light-to-temperature', 'temperature-to-humidity','humidity-to-location']\n",
    "    seeds, d = parse_data(n)\n",
    "    seeds = [(x, x + y) for x, y in zip(seeds[::2], seeds[1::2])]\n",
    "    for step in steps:\n",
    "        # print(\"seeds\", seeds)\n",
    "        step = d[step]\n",
    "        t = []\n",
    "        for seedrange in seeds:\n",
    "            seedrange_low, seedrange_high = seedrange\n",
    "            for i, rng in enumerate(step):\n",
    "                range_low = rng[1]\n",
    "                range_high = rng[1] + rng[2]\n",
    "                range_shift = rng[0] - rng[1]\n",
    "                # print(\"in\", seedrange, (range_low, range_high), i, len(step))\n",
    "                if seedrange_high < range_low:\n",
    "                    t.append((seedrange_low, seedrange_high))\n",
    "                    break\n",
    "                elif seedrange_low < range_low and seedrange_high >= range_low:\n",
    "                    t.append((seedrange_low, range_low))\n",
    "                    seedrange_low = range_low\n",
    "                elif seedrange_low >= range_low and seedrange_high <= range_high:\n",
    "                    t.append((seedrange_low + range_shift, seedrange_high+ range_shift))\n",
    "                    break\n",
    "                elif seedrange_low >= range_low and seedrange_low < range_high and seedrange_high > range_high:\n",
    "                    t.append((seedrange_low + range_shift, range_high + range_shift))\n",
    "                    seedrange_low = range_high\n",
    "                elif i == len(step) - 1 and seedrange_low > range_high:\n",
    "                    t.append((seedrange_low, seedrange_high))\n",
    "            # print(\"uit\", t)\n",
    "        seeds = t\n",
    "    return min(list(zip(*seeds))[0])\n",
    "                    "
   ]
  },
  {
   "cell_type": "code",
   "execution_count": 35,
   "id": "256e8eae-ff32-4c56-bef1-89a9183b6ba3",
   "metadata": {},
   "outputs": [
    {
     "name": "stdout",
     "output_type": "stream",
     "text": [
      "CPU times: user 57 µs, sys: 9 µs, total: 66 µs\n",
      "Wall time: 68.4 µs\n"
     ]
    }
   ],
   "source": [
    "%time assert solution(testdata) == 46"
   ]
  },
  {
   "cell_type": "code",
   "execution_count": 36,
   "id": "f9e98f12-e667-4c93-b7be-590f87b799e4",
   "metadata": {},
   "outputs": [
    {
     "name": "stdout",
     "output_type": "stream",
     "text": [
      "CPU times: user 2.05 ms, sys: 337 µs, total: 2.38 ms\n",
      "Wall time: 1.78 ms\n"
     ]
    },
    {
     "data": {
      "text/plain": [
       "12634632"
      ]
     },
     "execution_count": 36,
     "metadata": {},
     "output_type": "execute_result"
    }
   ],
   "source": [
    "%time solution(Input('05').read())"
   ]
  },
  {
   "cell_type": "markdown",
   "id": "599d110b-471d-43e3-b063-fe350d950caf",
   "metadata": {},
   "source": [
    "## [Day 6: Wait For It](https://adventofcode.com/2023/day/6)"
   ]
  },
  {
   "cell_type": "markdown",
   "id": "99e50b1b-bb24-4f49-beff-e3c4242c7a21",
   "metadata": {},
   "source": [
    "### Part 1"
   ]
  },
  {
   "cell_type": "code",
   "execution_count": 37,
   "id": "16327465-2a24-409f-a176-3eae7945a82a",
   "metadata": {},
   "outputs": [],
   "source": [
    "def speed(n):\n",
    "    return n\n",
    "\n",
    "def distance(m, n=None):\n",
    "    if n == None:\n",
    "        return [(i, (m - i) * speed(i)) for i in range(1, m)]\n",
    "    else:\n",
    "        return [(i, (m - i) * speed(i)) for i in range(1, m) if (m - i) * speed(i) > n]\n",
    "\n",
    "def score(n):\n",
    "    return math.prod([len(distance(e[0], e[1])) for e in zip(*n)])"
   ]
  },
  {
   "cell_type": "code",
   "execution_count": 38,
   "id": "c5d293a4-6f66-4d40-83ce-c7c6aa06f898",
   "metadata": {},
   "outputs": [],
   "source": [
    "testdata = [[7, 15, 30], [9, 40, 200]]\n",
    "\n",
    "assert score(testdata) == 288 "
   ]
  },
  {
   "cell_type": "code",
   "execution_count": 39,
   "id": "cd709f8c-d377-4f55-954c-6d77d2bad687",
   "metadata": {},
   "outputs": [
    {
     "name": "stdout",
     "output_type": "stream",
     "text": [
      "CPU times: user 51 µs, sys: 0 ns, total: 51 µs\n",
      "Wall time: 52.7 µs\n"
     ]
    },
    {
     "data": {
      "text/plain": [
       "1159152"
      ]
     },
     "execution_count": 39,
     "metadata": {},
     "output_type": "execute_result"
    }
   ],
   "source": [
    "day6 = [58, 81, 96, 76], [434, 1041, 2219, 1218]\n",
    "\n",
    "%time score(day6)"
   ]
  },
  {
   "cell_type": "markdown",
   "id": "ce5c3157-f501-4863-8837-e8221882ab58",
   "metadata": {},
   "source": [
    "### Part 2"
   ]
  },
  {
   "cell_type": "code",
   "execution_count": 40,
   "id": "6ca77a1a-3f68-4e8d-995c-fe1c22b39492",
   "metadata": {},
   "outputs": [],
   "source": [
    "day6 = [58819676, 434104122191218]"
   ]
  },
  {
   "cell_type": "code",
   "execution_count": 41,
   "id": "869e8ce3-6aa1-45e6-a60c-5d0f49742b10",
   "metadata": {},
   "outputs": [],
   "source": [
    "def score(m, n=None):\n",
    "    sc = 0\n",
    "    for i in range(1, m):\n",
    "        dist = (m - i) * speed(i)\n",
    "        if dist > n:\n",
    "            sc += 1\n",
    "    return sc\n"
   ]
  },
  {
   "cell_type": "code",
   "execution_count": 42,
   "id": "5a932d37-5ed5-4fa2-bd3e-a0c363a95ce4",
   "metadata": {},
   "outputs": [],
   "source": [
    "assert score(71530, 940200) == 71503"
   ]
  },
  {
   "cell_type": "code",
   "execution_count": 43,
   "id": "6b56744f-19c3-4bb8-ac77-e18bfe5af86c",
   "metadata": {},
   "outputs": [
    {
     "name": "stdout",
     "output_type": "stream",
     "text": [
      "CPU times: user 5.79 s, sys: 3.52 ms, total: 5.8 s\n",
      "Wall time: 5.8 s\n"
     ]
    },
    {
     "data": {
      "text/plain": [
       "41513103"
      ]
     },
     "execution_count": 43,
     "metadata": {},
     "output_type": "execute_result"
    }
   ],
   "source": [
    "%time score(58819676, 434104122191218)"
   ]
  },
  {
   "cell_type": "code",
   "execution_count": 44,
   "id": "28ec4ae7-b902-4150-9a7c-fcd17430eb73",
   "metadata": {},
   "outputs": [
    {
     "name": "stdout",
     "output_type": "stream",
     "text": [
      "CPU times: user 2 µs, sys: 0 ns, total: 2 µs\n",
      "Wall time: 4.53 µs\n"
     ]
    },
    {
     "data": {
      "text/plain": [
       "41513103"
      ]
     },
     "execution_count": 44,
     "metadata": {},
     "output_type": "execute_result"
    }
   ],
   "source": [
    "%time \n",
    "\n",
    "t = findroots(1, -58819676, 434104122191218)\n",
    "int(t[0] - t[1])"
   ]
  },
  {
   "cell_type": "markdown",
   "id": "d71c9802-e086-4cfd-bf56-cf67ea3a030c",
   "metadata": {},
   "source": [
    "### Part 1"
   ]
  },
  {
   "cell_type": "code",
   "execution_count": 45,
   "id": "490cb4b4-2834-4119-9bf8-6b2c36a1ecbc",
   "metadata": {},
   "outputs": [],
   "source": [
    "def handrankings(n):\n",
    "    ranks = {'2': '01', '3': '02', '4': '03', '5': '04', '6': '05', '7': '06', '8': '07', '9': '08', 'T': '09', 'J': '10', 'Q': '11', 'K':'12', 'A': '13'}\n",
    "    hands = []\n",
    "    for hand, score in n:\n",
    "        f = [hand.count(cards) for cards in hand]\n",
    "        if 5 in [hand.count(cards) for cards in hand]:\n",
    "            str = \"70\"\n",
    "        elif 4 in [hand.count(cards) for cards in hand]:\n",
    "            str = \"60\"\n",
    "        elif 3 in [hand.count(cards) for cards in hand]:\n",
    "            if 2 in [hand.count(cards) for cards in hand]:\n",
    "                str = \"50\"\n",
    "            else:\n",
    "                str = \"40\"\n",
    "        elif 2 in [hand.count(cards) for cards in hand]:\n",
    "            if sum([hand.count(cards) for cards in hand]) == 9:\n",
    "                str = \"30\"\n",
    "            else:\n",
    "                str = \"20\"\n",
    "        else:\n",
    "            str = \"10\"\n",
    "        str = str + ''.join([ranks[card] for card in hand])\n",
    "        hands.append([int(str), score, hand, f])\n",
    "    return sorted(hands)\n",
    "    "
   ]
  },
  {
   "cell_type": "code",
   "execution_count": 46,
   "id": "6a9215f2-0dba-49e8-b260-c04df1fe757b",
   "metadata": {},
   "outputs": [],
   "source": [
    "testdata = \"32T3K 765\\nT55J5 684\\nKK677 28\\nKTJJT 220\\nQQQJA 483\"\n",
    "testdata = [e.split() for e in testdata.split(\"\\n\")]"
   ]
  },
  {
   "cell_type": "code",
   "execution_count": 47,
   "id": "554aafde-1ad7-48d8-9c09-bd15c23e6b16",
   "metadata": {},
   "outputs": [],
   "source": [
    "assert sum([(i + 1) * int(e[1]) for i, e in enumerate(handrankings(testdata))])==6440"
   ]
  },
  {
   "cell_type": "code",
   "execution_count": 48,
   "id": "5360ffbf-ff67-472a-91ed-ae971012d47b",
   "metadata": {},
   "outputs": [
    {
     "name": "stdout",
     "output_type": "stream",
     "text": [
      "CPU times: user 5.41 ms, sys: 28 µs, total: 5.43 ms\n",
      "Wall time: 5.41 ms\n"
     ]
    },
    {
     "data": {
      "text/plain": [
       "251806792"
      ]
     },
     "execution_count": 48,
     "metadata": {},
     "output_type": "execute_result"
    }
   ],
   "source": [
    "input = [e.split() for e in parse('07')]\n",
    "%time sum([(i + 1) * int(e[1]) for i, e in enumerate(handrankings(input))])"
   ]
  },
  {
   "cell_type": "markdown",
   "id": "3f70ac2b-91eb-4fd2-96ff-6356dba44e4b",
   "metadata": {},
   "source": [
    "### Part 2"
   ]
  },
  {
   "cell_type": "code",
   "execution_count": 49,
   "id": "e07ad895-9c42-4f87-a67e-255d67246f63",
   "metadata": {},
   "outputs": [],
   "source": [
    "def translatehand(m, n=\"J\"):\n",
    "    ranks = {'2': '01', '3': '02', '4': '03', '5': '04', '6': '05', '7': '06', '8': '07', '9': '08', 'T': '09', 'J': '00', 'Q': '11', 'K':'12', 'A': '13'}\n",
    "    c = m.count(n)\n",
    "    g = [m.count(e) for e in m]\n",
    "    k = [int(ranks[e]) for e in m]\n",
    "    if c == 5:\n",
    "        m = \"AAAAA\"\n",
    "    if c == 4 or c == 3:\n",
    "        m = m.replace(n, m[k.index(max(k))])\n",
    "    if c == 2:\n",
    "        if g.count(2) == 4:\n",
    "            m = m.replace(n, [e for e, f in zip(m, g) if e != \"J\" and f ==2][0])\n",
    "        else:\n",
    "            m = m.replace(n, m[k.index(max(k))])\n",
    "    if c == 1:\n",
    "        if max(g) > 1:\n",
    "            m = m.replace(n, m[g.index(max(g))])\n",
    "        else:\n",
    "            m = m.replace(n, m[k.index(max(k))])\n",
    "            \n",
    "    return m\n",
    "\n",
    "def handrankings(n):\n",
    "    ranks = {'2': '01', '3': '02', '4': '03', '5': '04', '6': '05', '7': '06', '8': '07', '9': '08', 'T': '09', 'J': '00', 'Q': '11', 'K':'12', 'A': '13'}\n",
    "    hands = []\n",
    "    for hand, score in n:\n",
    "        oldhand = hand\n",
    "        oldstr = ''.join([ranks[card] for card in hand])\n",
    "        hand = translatehand(hand)\n",
    "        f = [hand.count(cards) for cards in hand]\n",
    "        if 5 in [hand.count(cards) for cards in hand]:\n",
    "            str = \"70\"\n",
    "        elif 4 in [hand.count(cards) for cards in hand]:\n",
    "            str = \"60\"\n",
    "        elif 3 in [hand.count(cards) for cards in hand]:\n",
    "            if 2 in [hand.count(cards) for cards in hand]:\n",
    "                str = \"50\"\n",
    "            else:\n",
    "                str = \"40\"\n",
    "        elif 2 in [hand.count(cards) for cards in hand]:\n",
    "            if sum([hand.count(cards) for cards in hand]) == 9:\n",
    "                str = \"30\"\n",
    "            else:\n",
    "                str = \"20\"\n",
    "        else:\n",
    "            str = \"10\"\n",
    "        # str = str + ''.join([ranks[card] for card in hand]) + oldstr\n",
    "        str = str + oldstr\n",
    "        hands.append([int(str), score, hand, f, oldhand])\n",
    "    return sorted(hands)"
   ]
  },
  {
   "cell_type": "code",
   "execution_count": 50,
   "id": "b50d7aec-db68-42e3-b494-27810c9f4e28",
   "metadata": {},
   "outputs": [],
   "source": [
    "assert sum([(i + 1) * int(e[1]) for i, e in enumerate(handrankings(testdata))])"
   ]
  },
  {
   "cell_type": "code",
   "execution_count": 51,
   "id": "65259a0d-d1d4-4222-bcd7-be609544d2ad",
   "metadata": {
    "scrolled": true
   },
   "outputs": [
    {
     "data": {
      "text/plain": [
       "252113488"
      ]
     },
     "execution_count": 51,
     "metadata": {},
     "output_type": "execute_result"
    }
   ],
   "source": [
    "sum([(i + 1) * int(e[1]) for i, e in enumerate(handrankings(input))])"
   ]
  },
  {
   "cell_type": "markdown",
   "id": "97ef38ae-21dc-4096-a408-92dee305abf4",
   "metadata": {},
   "source": [
    "## [Day 8: Haunted Wasteland](https://adventofcode.com/2023/day/8)"
   ]
  },
  {
   "cell_type": "markdown",
   "id": "daacc188-c29d-43e3-959e-86911c342f01",
   "metadata": {},
   "source": [
    "### Part 1"
   ]
  },
  {
   "cell_type": "code",
   "execution_count": 52,
   "id": "5bc5e06f-0079-4aab-82d1-c17fd177128f",
   "metadata": {},
   "outputs": [],
   "source": [
    "testdata = \"LLR\\n\\nAAA = (BBB, BBB)\\nBBB = (AAA, ZZZ)\\nZZZ = (ZZZ, ZZZ)\\n\""
   ]
  },
  {
   "cell_type": "code",
   "execution_count": 53,
   "id": "28426d12-6a4e-4039-aa12-93bd2d4d37e3",
   "metadata": {},
   "outputs": [],
   "source": [
    "def data_parser(n):\n",
    "    n = n.strip().split(\"\\n\\n\")\n",
    "    m = [int(e) for e in n[0].replace(\"L\", \"0\").replace(\"R\", \"1\")]\n",
    "    n = [e.split(\" = \") for e in n[1].split(\"\\n\")]\n",
    "    n = {e[0]: re. findall(r'(\\w+)', e[1]) for e in n}\n",
    "    return m, n\n",
    "\n",
    "def find_goal(n, next = \"AAA\", goal = \"ZZZ\"):\n",
    "    m, d = data_parser(n)\n",
    "    i = 0\n",
    "    while next != goal:\n",
    "        next = d[next][m[i % len(m)]]\n",
    "        i += 1\n",
    "    return i\n",
    "        "
   ]
  },
  {
   "cell_type": "code",
   "execution_count": 54,
   "id": "2509bae0-c127-46f4-9d0c-b6773037bd7a",
   "metadata": {},
   "outputs": [],
   "source": [
    "assert find_goal(testdata) == 6"
   ]
  },
  {
   "cell_type": "code",
   "execution_count": 55,
   "id": "9ef3a37e-1873-4e1f-9fa5-b954b584f4a0",
   "metadata": {},
   "outputs": [],
   "source": [
    "input = Input('08').read()"
   ]
  },
  {
   "cell_type": "code",
   "execution_count": 56,
   "id": "bdc49291-2ecf-44bb-9115-e8970633e1df",
   "metadata": {},
   "outputs": [
    {
     "name": "stdout",
     "output_type": "stream",
     "text": [
      "CPU times: user 4.14 ms, sys: 3 µs, total: 4.14 ms\n",
      "Wall time: 4.15 ms\n"
     ]
    },
    {
     "data": {
      "text/plain": [
       "17873"
      ]
     },
     "execution_count": 56,
     "metadata": {},
     "output_type": "execute_result"
    }
   ],
   "source": [
    "%time find_goal(input)"
   ]
  },
  {
   "cell_type": "markdown",
   "id": "12b68735-e274-4471-93ce-3e8a520ce0a7",
   "metadata": {},
   "source": [
    "### Part 2"
   ]
  },
  {
   "cell_type": "code",
   "execution_count": 57,
   "id": "7959882b-64f6-4b95-99a6-a6078edc8032",
   "metadata": {},
   "outputs": [],
   "source": [
    "testdata = \"LR\\n\\n11A = (11B, XXX)\\n11B = (XXX, 11Z)\\n11Z = (11B, XXX)\\n22A = (22B, XXX)\\n22B = (22C, 22C)\\n22C = (22Z, 22Z)\\n22Z = (22B, 22B)\\nXXX = (XXX, XXX)\""
   ]
  },
  {
   "cell_type": "code",
   "execution_count": 58,
   "id": "17459b3a-593d-41c4-ae36-22bbf6fedcf8",
   "metadata": {},
   "outputs": [],
   "source": [
    "def find_goal(n):\n",
    "    m, d = data_parser(n)\n",
    "    paths = [e for e in d if e[-1] == \"A\"]\n",
    "    t = []\n",
    "    for e in paths:\n",
    "        i = 0\n",
    "        while e[-1] != \"Z\":\n",
    "            e = d[e][m[i % len(m)]]\n",
    "            i += 1\n",
    "        t.append(i)        \n",
    "    return math.lcm(*t)"
   ]
  },
  {
   "cell_type": "code",
   "execution_count": 59,
   "id": "543d3499-3674-4f67-be70-c3abc5410b33",
   "metadata": {},
   "outputs": [],
   "source": [
    "assert find_goal(testdata) == 6"
   ]
  },
  {
   "cell_type": "code",
   "execution_count": 60,
   "id": "b3767984-9bdb-4f0d-b893-9658ebd38cae",
   "metadata": {},
   "outputs": [
    {
     "name": "stdout",
     "output_type": "stream",
     "text": [
      "CPU times: user 18.9 ms, sys: 0 ns, total: 18.9 ms\n",
      "Wall time: 18.5 ms\n"
     ]
    },
    {
     "data": {
      "text/plain": [
       "15746133679061"
      ]
     },
     "execution_count": 60,
     "metadata": {},
     "output_type": "execute_result"
    }
   ],
   "source": [
    "%time find_goal(input)"
   ]
  },
  {
   "cell_type": "markdown",
   "id": "b47b4ec1-8323-4e71-a5bd-69f5f0a7b74b",
   "metadata": {},
   "source": [
    "## [Day 9: Mirage Maintenance](https://adventofcode.com/2023/day/9)"
   ]
  },
  {
   "cell_type": "markdown",
   "id": "8c0431a2-bedc-48d4-bb48-1cee4368d501",
   "metadata": {},
   "source": [
    "### Part 1"
   ]
  },
  {
   "cell_type": "code",
   "execution_count": 61,
   "id": "ce93c5c4-bbd3-446e-871d-faa84d6c7c56",
   "metadata": {},
   "outputs": [],
   "source": [
    "def next_value(n):\n",
    "    t = []\n",
    "    while set(n) != {0}:\n",
    "        t.append(n[-1])\n",
    "        n = [y - x for x, y in zip(n, n[1:])]\n",
    "    return sum(t)\n",
    "\n",
    "def next_values(n):\n",
    "    return [next_value(e) for e in n]"
   ]
  },
  {
   "cell_type": "code",
   "execution_count": 62,
   "id": "60f769b2-814e-4422-8aca-6e6335fde563",
   "metadata": {},
   "outputs": [],
   "source": [
    "testdata = \"0 3 6 9 12 15\\n1 3 6 10 15 21\\n10 13 16 21 30 45\"\n",
    "testdata = testdata.strip().split(\"\\n\")\n",
    "testdata = [[int(e) for e in f.split()] for f in testdata]"
   ]
  },
  {
   "cell_type": "code",
   "execution_count": 63,
   "id": "f3f2eafd-31ab-47c4-87d9-be9b70956ad8",
   "metadata": {},
   "outputs": [],
   "source": [
    "assert sum(next_values(testdata)) == 114"
   ]
  },
  {
   "cell_type": "code",
   "execution_count": 64,
   "id": "862c9c30-a1ec-48b1-b0cf-9cc08c6b3034",
   "metadata": {
    "scrolled": true
   },
   "outputs": [
    {
     "name": "stdout",
     "output_type": "stream",
     "text": [
      "CPU times: user 3.42 ms, sys: 0 ns, total: 3.42 ms\n",
      "Wall time: 3.42 ms\n"
     ]
    },
    {
     "data": {
      "text/plain": [
       "1581679977"
      ]
     },
     "execution_count": 64,
     "metadata": {},
     "output_type": "execute_result"
    }
   ],
   "source": [
    "input = [[int(e) for e in f.split()] for f in parse('09')]\n",
    "\n",
    "%time sum(next_values(input))"
   ]
  },
  {
   "cell_type": "markdown",
   "id": "d22634bb-bc6f-48d8-839f-092aaeb7f0a4",
   "metadata": {},
   "source": [
    "### Part 2"
   ]
  },
  {
   "cell_type": "code",
   "execution_count": 65,
   "id": "dc93c1cc-d146-4737-829c-ebf408704330",
   "metadata": {},
   "outputs": [],
   "source": [
    "from functools import reduce\n",
    "\n",
    "def previous_value(n):\n",
    "    t = []\n",
    "    while set(n) != {0}:\n",
    "        t.append(n[0])\n",
    "        n = [y - x for x, y in zip(n, n[1:])]\n",
    "    return reduce(lambda x, y: y - x, t[::-1])\n",
    "\n",
    "def previous_values(n):\n",
    "    return [previous_value(e) for e in n]"
   ]
  },
  {
   "cell_type": "code",
   "execution_count": 66,
   "id": "6b9fa47c-817f-475d-b822-6cacbb54bca4",
   "metadata": {},
   "outputs": [],
   "source": [
    "assert sum(previous_values(testdata)) ==2"
   ]
  },
  {
   "cell_type": "code",
   "execution_count": 67,
   "id": "ce614fe2-16eb-43c7-b139-2c234089859f",
   "metadata": {},
   "outputs": [
    {
     "name": "stdout",
     "output_type": "stream",
     "text": [
      "CPU times: user 3.24 ms, sys: 0 ns, total: 3.24 ms\n",
      "Wall time: 3.24 ms\n"
     ]
    },
    {
     "data": {
      "text/plain": [
       "889"
      ]
     },
     "execution_count": 67,
     "metadata": {},
     "output_type": "execute_result"
    }
   ],
   "source": [
    "%time sum(previous_values(input))"
   ]
  },
  {
   "cell_type": "markdown",
   "id": "770a8e3c-6998-4444-bee6-874af9bf2637",
   "metadata": {},
   "source": [
    "## [Day 10: Pipe Maze](https://adventofcode.com/2023/day/10)"
   ]
  },
  {
   "cell_type": "code",
   "execution_count": 68,
   "id": "a9351fb9-c4bc-45d9-bf90-4427ccde0ece",
   "metadata": {},
   "outputs": [],
   "source": [
    "input = Input('10').read().strip().split(\"\\n\")\n",
    "testdata = Testdata('10').read().strip().split(\"\\n\")"
   ]
  },
  {
   "cell_type": "code",
   "execution_count": 69,
   "id": "c1c6288f-774e-4dcd-9b44-579ace4551db",
   "metadata": {},
   "outputs": [],
   "source": [
    "pipes = {\n",
    "    \"|\":  ((-1, 0), (1, 0)),\n",
    "    \"-\": ((0, -1), (0, 1)),\n",
    "    \"L\": ((-1, 0), (0, 1)),\n",
    "    \"J\": ((-1, 0), (0, -1)),\n",
    "    \"7\": ((1, 0), (0, -1)),\n",
    "    \"F\": ((1, 0), (0, 1))\n",
    "}"
   ]
  },
  {
   "cell_type": "code",
   "execution_count": 70,
   "id": "836cdc96-6c35-43ae-8fd3-ed25608d9f57",
   "metadata": {},
   "outputs": [],
   "source": [
    "def parse_maze(n, p, s):\n",
    "    d = {}\n",
    "    S = []\n",
    "    for i, x in enumerate(n):\n",
    "        for j, y in enumerate(x):\n",
    "            if y in p.keys():\n",
    "                d[(i, j)] = [(x, y) for x, y in [[sum(e) for e in zip((i, j), f)] for f in p[y]]]\n",
    "            elif y == s:\n",
    "                S.append((i, j))\n",
    "    return d, S[0]\n",
    "\n",
    "def find_start(n, s = None):\n",
    "    if s == None:\n",
    "        s = \"S\"\n",
    "    return [k for k, v in n.items() if v == s][0]\n",
    "\n",
    "def solution(n, p, S):\n",
    "    m, s = parse_maze(n, p, S)\n",
    "    r = []\n",
    "    for k, v in p.items():\n",
    "        m[s] = [[sum(e) for e in zip(s, f)] for f in v]\n",
    "        next = (m[s][0][0], m[s][0][1])\n",
    "        prev = s\n",
    "        chain = [s]\n",
    "        while prev in m.get(next, []): \n",
    "            chain.append(next)\n",
    "            next = [e for e in m.get(next, []) if e != prev][0]\n",
    "            prev = chain[-1]\n",
    "        r.append(chain)\n",
    "    return r\n",
    "            "
   ]
  },
  {
   "cell_type": "code",
   "execution_count": 71,
   "id": "b445dd57-3051-45ac-88a4-f68fc1eb4699",
   "metadata": {},
   "outputs": [],
   "source": [
    "assert max(len(e) for e in solution(testdata, pipes, \"S\")) / 2 == 8"
   ]
  },
  {
   "cell_type": "code",
   "execution_count": 72,
   "id": "58cc1a01-e6e4-4e4c-aab9-d11dcb57d34e",
   "metadata": {},
   "outputs": [
    {
     "name": "stdout",
     "output_type": "stream",
     "text": [
      "CPU times: user 91.9 ms, sys: 3.9 ms, total: 95.8 ms\n",
      "Wall time: 94.9 ms\n"
     ]
    },
    {
     "data": {
      "text/plain": [
       "6846"
      ]
     },
     "execution_count": 72,
     "metadata": {},
     "output_type": "execute_result"
    }
   ],
   "source": [
    "%time int(max(len(e) for e in solution(input, pipes, \"S\")) / 2)"
   ]
  },
  {
   "cell_type": "code",
   "execution_count": 73,
   "id": "7093a201-5b39-4c3f-9911-dbb70fa43ad1",
   "metadata": {},
   "outputs": [
    {
     "name": "stdout",
     "output_type": "stream",
     "text": [
      "325\n",
      "CPU times: user 3.06 s, sys: 92 µs, total: 3.06 s\n",
      "Wall time: 3.06 s\n"
     ]
    }
   ],
   "source": [
    "%%time\n",
    "\n",
    "testdata2 = [e for e in Input('10').read().strip().split(\"\\n\")]\n",
    "y, x = len(testdata2), len(testdata2[0])\n",
    "\n",
    "sol = solution(testdata2, pipes, \"S\")[0]\n",
    "maze = {}\n",
    "\n",
    "for i, e in enumerate(testdata2):\n",
    "    for j, f in enumerate(e):\n",
    "        maze[i, j] = f\n",
    "\n",
    "r = {}\n",
    "ct = 0\n",
    "\n",
    "for j in range(y):\n",
    "    if (j, 0) in sol:\n",
    "        r[(j, 0)] = maze[(j, 0)]\n",
    "    else:\n",
    "        r[(j, 0)] = \".\"\n",
    "    if (j, x - 1) in sol:\n",
    "        r[(j, x - 1)] = maze[(j, x - 1)]\n",
    "    else:\n",
    "        r[(j, x - 1)] = \".\"\n",
    "for i in range(x):\n",
    "    if (0, i) in sol:\n",
    "        r[(0, i)] = maze[(0, i)]\n",
    "    else:\n",
    "        r[(0, i)] = \".\"\n",
    "    if (y - 1, i) in sol:\n",
    "        r[(y - 1, i)] = maze[(y - 1, i)]\n",
    "    else:\n",
    "        r[(y - 1, i)] = \".\"\n",
    "        \n",
    "for j in range(1, y - 1):\n",
    "    for i in range(1, x - 1):\n",
    "        if (j, i) in sol:\n",
    "            r[(j, i)] = maze[(j, i)]\n",
    "        else:\n",
    "            t = [r.get((g, h), 0) for g, h in [[sum(f) for f in zip((j, i), e)] for e in ((-1, 0), (1, 0), (0, -1), (0, 1))]]\n",
    "            if \".\" in t:\n",
    "                r[(j, i)] = \".\"\n",
    "            else:\n",
    "                r[(j, i)] = \"I\"\n",
    "                \n",
    "# for j in range(y - 1, 1, -1):\n",
    "#     for i in range(x - 1, 1, -1):\n",
    "#         if r[(j, i)] == \"I\":\n",
    "#             t = [r.get((g, h), 0) for g, h in [[sum(f) for f in zip((j, i), e)] for e in ((-1, 0), (1, 0), (0, -1), (0, 1))]]\n",
    "#             if \".\" in t:\n",
    "#                 r[(j, i)] = \".\"\n",
    "t = []\n",
    "for j in range(y):\n",
    "    for i in range(x):\n",
    "        if r[(j, i)] == \"I\":\n",
    "            str = ''.join([r[(j, c)] for c in range(i, x)])\n",
    "            # print(str)\n",
    "            str = re.sub(r'\\.', '', str, count = x)\n",
    "            str = re.sub(r'-', '', str, count = x)\n",
    "            str = re.sub(r'I', '', str, count = x)\n",
    "            str = re.sub(r'F-*J', '|', str, count = x)\n",
    "            str = re.sub(r'L-*7', '|', str, count = x)\n",
    "            str = re.sub(r'F-*7', '', str, count = x)\n",
    "            str = re.sub(r'L-*J', '', str, count = x)\n",
    "            # print(str)\n",
    "            if len(str) % 2 == 1:\n",
    "                t.append((j, i))\n",
    "                ct += 1\n",
    "                # print(j, i)\n",
    "                # print(\"=\" *30)\n",
    "print(len(t))\n",
    "# k =  []\n",
    "# for j in range(y):\n",
    "#     l = []\n",
    "#     for i in range(x):\n",
    "#         l.append(r[(j, i)])\n",
    "#     k.append(''.join(l))\n",
    "# printable = '\\n'.join(k)\n",
    "# print(printable.count(\"I\"))\n",
    "# print(\"\\n\")\n",
    "# print(printable)"
   ]
  },
  {
   "cell_type": "markdown",
   "id": "956cf010-18aa-4e91-b10a-cbcbdff97b10",
   "metadata": {},
   "source": [
    "## [Day 11: Cosmic Expansion](https://adventofcode.com/2023/day/11)"
   ]
  },
  {
   "cell_type": "code",
   "execution_count": 104,
   "id": "7846f22f-e4ed-4c02-bf3f-98a1e11ff8bf",
   "metadata": {},
   "outputs": [],
   "source": [
    "testdata = [[c for c in l] for l in Testdata(11).read().split(\"\\n\")]"
   ]
  },
  {
   "cell_type": "code",
   "execution_count": null,
   "id": "2879e959-3c63-4fd2-a723-06efb2f93b86",
   "metadata": {
    "scrolled": true
   },
   "outputs": [],
   "source": [
    "def expand_matrix_where(n, m):\n",
    "    rows = []\n",
    "    columns = []\n",
    "    for j, y in enumerate(n):\n",
    "        if m not in y:\n",
    "            rows.append(j)\n",
    "    for i, x in enumerate(zip(*n)):\n",
    "        if m not in x:\n",
    "            columns.append(i)\n",
    "    return rows, columns\n",
    "\n",
    "def expand_matrix(n, m):\n",
    "    rows, columns = expand_matrix_where(n, \"#\")\n",
    "    for rw in rows[::-1]:\n",
    "        n.insert(rw, n[rw])\n",
    "    n = list(zip(*n))\n",
    "    for cl in columns[::-1]:\n",
    "        n.insert(cl, n[cl])\n",
    "    return list(zip(*n))\n",
    "\n",
    "def m_to_d(m, n = None):\n",
    "    if n == None:\n",
    "        n = \"#\"\n",
    "    d = {}\n",
    "    for j, y in enumerate(m):\n",
    "        for i, x in enumerate(y):\n",
    "            if m[j][i] == n:\n",
    "                d[(j, i)] = n\n",
    "    return d\n",
    "\n",
    "def shortest_paths(n):\n",
    "    r = []\n",
    "    m = list(n.keys())\n",
    "    for i, k in enumerate(m):\n",
    "        for l in m[i:]:\n",
    "            x1, y1 = k\n",
    "            x2, y2 = l\n",
    "            r.append(abs(x2 - x1) + abs(y2 - y1))\n",
    "    return r\n",
    "\n",
    "def solution(m, n):\n",
    "    return shortest_paths(m_to_d(expand_matrix(m, n)))"
   ]
  },
  {
   "cell_type": "code",
   "execution_count": 99,
   "id": "1d4f37ff-f99f-4462-9a3a-edabda19ab71",
   "metadata": {},
   "outputs": [
    {
     "name": "stdout",
     "output_type": "stream",
     "text": [
      "CPU times: user 66 µs, sys: 2 µs, total: 68 µs\n",
      "Wall time: 70.3 µs\n"
     ]
    }
   ],
   "source": [
    "%time assert sum(solution(testdata, \"#\")) == 374"
   ]
  },
  {
   "cell_type": "code",
   "execution_count": 130,
   "id": "baeae560-0560-4045-819e-afaac1c55f35",
   "metadata": {},
   "outputs": [
    {
     "data": {
      "text/plain": [
       "9609130"
      ]
     },
     "execution_count": 130,
     "metadata": {},
     "output_type": "execute_result"
    }
   ],
   "source": [
    "input = [[c for c in l] for l in Input(11).read().strip().split(\"\\n\")]\n",
    "sum(shortest_paths(m_to_d(expand_matrix(input, \"#\"))))"
   ]
  },
  {
   "cell_type": "code",
   "execution_count": 131,
   "id": "98bfc9b3-e1b1-47e8-bd35-e2540d89732f",
   "metadata": {},
   "outputs": [
    {
     "ename": "TypeError",
     "evalue": "unsupported operand type(s) for +: 'int' and 'tuple'",
     "output_type": "error",
     "traceback": [
      "\u001b[0;31m---------------------------------------------------------------------------\u001b[0m",
      "\u001b[0;31mTypeError\u001b[0m                                 Traceback (most recent call last)",
      "File \u001b[0;32m<timed eval>:1\u001b[0m\n",
      "\u001b[0;31mTypeError\u001b[0m: unsupported operand type(s) for +: 'int' and 'tuple'"
     ]
    }
   ],
   "source": [
    "%time sum(solution(input, \"#\")) "
   ]
  }
 ],
 "metadata": {
  "kernelspec": {
   "display_name": "Python 3 (ipykernel)",
   "language": "python",
   "name": "python3"
  },
  "language_info": {
   "codemirror_mode": {
    "name": "ipython",
    "version": 3
   },
   "file_extension": ".py",
   "mimetype": "text/x-python",
   "name": "python",
   "nbconvert_exporter": "python",
   "pygments_lexer": "ipython3",
   "version": "3.11.6"
  }
 },
 "nbformat": 4,
 "nbformat_minor": 5
}

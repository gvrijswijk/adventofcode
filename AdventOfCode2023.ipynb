{
 "cells": [
  {
   "cell_type": "markdown",
   "id": "347075f3-9332-483e-97e3-59aed6d0b336",
   "metadata": {},
   "source": [
    "# [Advent of Code 2023](https://adventofcode.com/2023)"
   ]
  },
  {
   "cell_type": "markdown",
   "id": "433135d8-2c31-4862-a172-f548f01263ef",
   "metadata": {},
   "source": [
    "## General functions"
   ]
  },
  {
   "cell_type": "code",
   "execution_count": 1,
   "id": "cf691d31-cab8-40c3-b97d-ced5997985ee",
   "metadata": {},
   "outputs": [],
   "source": [
    "import re\n",
    "import itertools\n",
    "import math"
   ]
  },
  {
   "cell_type": "code",
   "execution_count": 2,
   "id": "41fd15b0-8cfa-416f-8b87-80acb3c64b01",
   "metadata": {},
   "outputs": [],
   "source": [
    "def Input(day, year=2023):\n",
    "    directory = '{}'.format(year)\n",
    "    filename = directory + '/input{}.txt'.format(day)\n",
    "    return open(filename)\n",
    "\n",
    "def Testdata(day, year=2023):\n",
    "    directory = '{}'.format(year)\n",
    "    filename = directory + '/testdata{}.txt'.format(day)\n",
    "    return open(filename)\n",
    "\n",
    "def mapt(fn, *args):\n",
    "    \"\"\"map(fn, *args) and return the result as a tuple.\"\"\"\n",
    "    return tuple(map(fn, *args))\n",
    "\n",
    "def parse(day, parser=str, sep='\\n', output='tuple') -> tuple:\n",
    "    \"\"\"Split the day's input file into entries separated by `sep`, and apply `parser` to each.\"\"\"\n",
    "    entries = open(f'2023/input{day}.txt').read().rstrip().split(sep)\n",
    "    return mapt(parser, entries)"
   ]
  },
  {
   "cell_type": "markdown",
   "id": "cf943123-4c01-41af-9a86-b2380b4625a1",
   "metadata": {},
   "source": [
    "## [Day 1: Trebuchet?!](https://adventofcode.com/2023/day/1)"
   ]
  },
  {
   "cell_type": "markdown",
   "id": "eb30f3ab-fc4b-4fc1-bf50-982a3293c1f5",
   "metadata": {},
   "source": [
    "### Part 1"
   ]
  },
  {
   "cell_type": "code",
   "execution_count": 3,
   "id": "7133b59a-97ea-4e92-b461-4490b4296c62",
   "metadata": {},
   "outputs": [],
   "source": [
    "def calibration_values(n, replace = False):\n",
    "    if replace == True:\n",
    "        n = [translate_string(e) for e in n]\n",
    "    else:\n",
    "        n = [re.findall(r'\\d', e) for e in n]\n",
    "    return [int(e[0] + e[-1]) for e in n]"
   ]
  },
  {
   "cell_type": "code",
   "execution_count": 4,
   "id": "8cdcc9bf-2986-4cf1-8b37-18f48b8f686c",
   "metadata": {},
   "outputs": [],
   "source": [
    "testdata = (\"1abc2\", \"pqr3stu8vwx\", \"a1b2c3d4e5f\", \"treb7uchet\")\n",
    "assert sum(calibration_values(testdata)) == 142"
   ]
  },
  {
   "cell_type": "code",
   "execution_count": 5,
   "id": "2613d8e6-53b5-445c-a445-477b89cc2ade",
   "metadata": {},
   "outputs": [
    {
     "name": "stdout",
     "output_type": "stream",
     "text": [
      "CPU times: user 0 ns, sys: 2.85 ms, total: 2.85 ms\n",
      "Wall time: 2.13 ms\n"
     ]
    },
    {
     "data": {
      "text/plain": [
       "54990"
      ]
     },
     "execution_count": 5,
     "metadata": {},
     "output_type": "execute_result"
    }
   ],
   "source": [
    "%time sum(calibration_values(parse('01')))"
   ]
  },
  {
   "cell_type": "markdown",
   "id": "571adca4-baa6-4af0-a673-d5d680b9f7c9",
   "metadata": {},
   "source": [
    "### Part 2"
   ]
  },
  {
   "cell_type": "code",
   "execution_count": 6,
   "id": "430a3f4c-2fab-426a-bd53-1088f325b7ef",
   "metadata": {},
   "outputs": [],
   "source": [
    "def translate_string(n):\n",
    "    r = []\n",
    "    d = [\"zero\", \"one\", \"two\", \"three\", \"four\", \"five\", \"six\", \"seven\", \"eight\", \"nine\"]\n",
    "    for i, c in enumerate(n):\n",
    "        if c.isdigit():\n",
    "            r.append(c)\n",
    "        for j, b in enumerate(d):\n",
    "            if n[i:].startswith(b):\n",
    "                r.append(str(j))\n",
    "    return ''.join(r)\n",
    "                "
   ]
  },
  {
   "cell_type": "code",
   "execution_count": 7,
   "id": "a5650b4e-e8c2-45ed-8a63-60380aebe827",
   "metadata": {
    "scrolled": true
   },
   "outputs": [],
   "source": [
    "testdata = (\"two1nine\", \"eightwothree\", \"abcone2threexyz\", \"xtwone3four\", \"4nineeightseven2\", \"zoneight234\", \"7pqrstsixteen\")\n",
    "assert(sum(calibration_values(testdata, True))) == 281"
   ]
  },
  {
   "cell_type": "code",
   "execution_count": 8,
   "id": "1e72809f-b242-4ab4-a054-d6edd4093a48",
   "metadata": {},
   "outputs": [
    {
     "name": "stdout",
     "output_type": "stream",
     "text": [
      "CPU times: user 33.9 ms, sys: 407 µs, total: 34.3 ms\n",
      "Wall time: 33.8 ms\n"
     ]
    },
    {
     "data": {
      "text/plain": [
       "54473"
      ]
     },
     "execution_count": 8,
     "metadata": {},
     "output_type": "execute_result"
    }
   ],
   "source": [
    "%time sum(calibration_values(parse('01'), True))"
   ]
  },
  {
   "cell_type": "markdown",
   "id": "5bad92cd-e2cf-4c33-9cbe-fab5efd10499",
   "metadata": {},
   "source": [
    "## [Day 2: Cube Conundrum](https://adventofcode.com/2023/day/2)"
   ]
  },
  {
   "cell_type": "markdown",
   "id": "3ee10682-1415-4dc3-a953-7aef21b4e7d5",
   "metadata": {},
   "source": [
    "### Part 1"
   ]
  },
  {
   "cell_type": "code",
   "execution_count": 9,
   "id": "25a4ea51-b38a-46c7-9a8c-9651274ea1b5",
   "metadata": {},
   "outputs": [
    {
     "name": "stdout",
     "output_type": "stream",
     "text": [
      "CPU times: user 2 ms, sys: 58 µs, total: 2.06 ms\n",
      "Wall time: 1.53 ms\n"
     ]
    },
    {
     "data": {
      "text/plain": [
       "2720"
      ]
     },
     "execution_count": 9,
     "metadata": {},
     "output_type": "execute_result"
    }
   ],
   "source": [
    "def combinations(n, red = None, green = None, blue = None):\n",
    "    d = {\"red\": red, \"green\": green, \"blue\": blue}\n",
    "    n = [[d[k] >= int(v) for v, k in re.findall(r'(\\d+) (\\w+)', m)] for m in n]\n",
    "    return [i + 1 if False not in m else 0 for i, m in enumerate(n)]\n",
    "\n",
    "%time sum(combinations(Input('02').readlines(), 12, 13, 14))"
   ]
  },
  {
   "cell_type": "markdown",
   "id": "0af54bf4-28c7-4943-9eea-e8a967fdd067",
   "metadata": {},
   "source": [
    "### Part 2"
   ]
  },
  {
   "cell_type": "code",
   "execution_count": 10,
   "id": "ad4e5551-cbb9-4031-83c7-9fea96ca1149",
   "metadata": {},
   "outputs": [],
   "source": [
    "testdata = \"Game 1: 3 blue, 4 red; 1 red, 2 green, 6 blue; 2 green\\nGame 2: 1 blue, 2 green; 3 green, 4 blue, 1 red; 1 green, 1 blue\\nGame 3: 8 green, 6 blue, 20 red; 5 blue, 4 red, 13 green; 5 green, 1 red\\nGame 4: 1 green, 3 red, 6 blue; 3 green, 6 red; 3 green, 15 blue, 14 red\\nGame 5: 6 red, 1 blue, 3 green; 2 blue, 1 red, 2 green\""
   ]
  },
  {
   "cell_type": "code",
   "execution_count": 11,
   "id": "607bcee0-3b2a-4226-bdd5-839cdab8233e",
   "metadata": {},
   "outputs": [],
   "source": [
    "def fewest_possible(n):\n",
    "    r = []\n",
    "    for m in n:\n",
    "        m = re.findall(r'(\\d+) (\\w+)', m)\n",
    "        t = {}\n",
    "        for v, k in m:\n",
    "            t[k] = max(t.get(k, 0), int(v))\n",
    "        r.append(t.values())\n",
    "    return r"
   ]
  },
  {
   "cell_type": "code",
   "execution_count": 12,
   "id": "cba918b6-d7bd-4312-b700-c732387fab19",
   "metadata": {},
   "outputs": [],
   "source": [
    "assert sum([math.prod(e) for e in fewest_possible(testdata.split(\"\\n\"))])==2286"
   ]
  },
  {
   "cell_type": "code",
   "execution_count": 13,
   "id": "705cb3d7-4452-4261-9281-f14816543ff0",
   "metadata": {},
   "outputs": [
    {
     "name": "stdout",
     "output_type": "stream",
     "text": [
      "CPU times: user 1.48 ms, sys: 356 µs, total: 1.84 ms\n",
      "Wall time: 1.56 ms\n"
     ]
    },
    {
     "data": {
      "text/plain": [
       "71535"
      ]
     },
     "execution_count": 13,
     "metadata": {},
     "output_type": "execute_result"
    }
   ],
   "source": [
    "%time sum([math.prod(e) for e in fewest_possible(Input('02').readlines())])"
   ]
  },
  {
   "cell_type": "markdown",
   "id": "a113e5d2-db0c-47af-82b0-bcfc4a536c85",
   "metadata": {},
   "source": [
    "## [Day 3: Gear Ratios](https://adventofcode.com/2023/day/3)"
   ]
  },
  {
   "cell_type": "markdown",
   "id": "360b465a-2dc2-4b73-9e8a-83a75c187b03",
   "metadata": {},
   "source": [
    "### Part 1"
   ]
  },
  {
   "cell_type": "code",
   "execution_count": 14,
   "id": "4bc50549-7b4b-4914-9da7-7e1d08d12450",
   "metadata": {},
   "outputs": [],
   "source": [
    "testdata = \"467..114..\\n...*......\\n..35..633.\\n......#...\\n617*......\\n.....+.58.\\n..592.....\\n......755.\\n...$.*....\\n.664.598..\""
   ]
  },
  {
   "cell_type": "code",
   "execution_count": 15,
   "id": "3fd2f810-d827-4b1c-a4b8-453bf36bcef1",
   "metadata": {
    "scrolled": true
   },
   "outputs": [
    {
     "data": {
      "text/plain": [
       "[467, 35, 633, 617, 592, 755, 664, 598]"
      ]
     },
     "execution_count": 15,
     "metadata": {},
     "output_type": "execute_result"
    }
   ],
   "source": [
    "def str_to_lst(n):\n",
    "    d = {}\n",
    "    for i, e in enumerate(n.split()):\n",
    "        for j, f in enumerate(e):\n",
    "            d[(i, j)] = f\n",
    "    return d\n",
    "\n",
    "def neighbours8(i, j):\n",
    "    return (i - 1, j - 1), (i - 1, j),(i - 1, j + 1), (i, j - 1),(i, j + 1),(i + 1, j - 1),(i + 1, j),(i + 1, j + 1),\n",
    "\n",
    "def symbol_neighbours(n):\n",
    "    grid = str_to_lst(n)\n",
    "    nbs = {}\n",
    "    for k, v in grid.items():\n",
    "        if v.isdigit():\n",
    "            nbs[k] = True in [True if not grid.get(nb, \".\").isdigit() and grid.get(nb, \".\") != \".\" else False for nb in neighbours8(*k)]\n",
    "    return nbs\n",
    "\n",
    "def part_numbers(n):\n",
    "    part_numbers = []\n",
    "    grid = str_to_lst(n)\n",
    "    lst = symbol_neighbours(n)\n",
    "    string = \"\"\n",
    "    l = []\n",
    "    for k, v in lst.items():\n",
    "        i, j = k\n",
    "        if (i, j - 1) in lst:\n",
    "            string = string + str(grid[k])\n",
    "            l.append(v)\n",
    "        else:\n",
    "            if True in l:\n",
    "                part_numbers.append(int(string))\n",
    "            string = str(grid[k])\n",
    "            l = [v]\n",
    "    if True in l:\n",
    "        part_numbers.append(int(string))\n",
    "    return part_numbers\n",
    "\n",
    "part_numbers(testdata)"
   ]
  },
  {
   "cell_type": "code",
   "execution_count": 16,
   "id": "530a96fa-a34b-4cfc-9b65-f6eaa8598d0d",
   "metadata": {},
   "outputs": [],
   "source": [
    "assert sum(part_numbers(testdata))==4361"
   ]
  },
  {
   "cell_type": "code",
   "execution_count": 17,
   "id": "94e238ed-c6ca-49cf-8de2-21e03714ef5a",
   "metadata": {},
   "outputs": [
    {
     "name": "stdout",
     "output_type": "stream",
     "text": [
      "CPU times: user 11.5 ms, sys: 3.88 ms, total: 15.4 ms\n",
      "Wall time: 15 ms\n"
     ]
    },
    {
     "data": {
      "text/plain": [
       "538046"
      ]
     },
     "execution_count": 17,
     "metadata": {},
     "output_type": "execute_result"
    }
   ],
   "source": [
    "%time sum(part_numbers(Input('03').read()))"
   ]
  },
  {
   "cell_type": "markdown",
   "id": "b280b91f-d3c7-46ff-a252-82534be4031a",
   "metadata": {},
   "source": [
    "### Part 2"
   ]
  },
  {
   "cell_type": "code",
   "execution_count": 18,
   "id": "af29290b-7ab5-4632-83e2-8f13782d13df",
   "metadata": {},
   "outputs": [],
   "source": [
    "def gear_ratios(n):\n",
    "    grid = str_to_lst(n)\n",
    "    numbers = {}\n",
    "    l = []\n",
    "    gears = []\n",
    "    for k, v in grid.items():\n",
    "        i, j = k\n",
    "        if v == \"*\":\n",
    "            gears.append(k)\n",
    "        if v.isdigit():\n",
    "            if grid.get((i, j - 1), \".\").isdigit():\n",
    "                l.append(v)\n",
    "                c.append(k)\n",
    "            else:\n",
    "                l = [v]\n",
    "                c = [k]\n",
    "        elif len(l) > 0:\n",
    "            for cc in c:\n",
    "                numbers[cc] = int(''.join(l))\n",
    "    som = 0\n",
    "    for gear in gears:\n",
    "        nbs = set([numbers[nb] for nb in neighbours8(*gear) if nb in numbers])\n",
    "        if len(nbs) == 2:\n",
    "            som += math.prod(nbs)\n",
    "\n",
    "    return som"
   ]
  },
  {
   "cell_type": "code",
   "execution_count": 19,
   "id": "01b1c775-4df3-4bfe-a42d-cdc58461ee51",
   "metadata": {},
   "outputs": [],
   "source": [
    "assert gear_ratios(testdata) == 467835"
   ]
  },
  {
   "cell_type": "code",
   "execution_count": 20,
   "id": "c178ec44-0d8d-4901-a9a5-6907e0eb458a",
   "metadata": {},
   "outputs": [
    {
     "name": "stdout",
     "output_type": "stream",
     "text": [
      "CPU times: user 36.5 ms, sys: 128 µs, total: 36.7 ms\n",
      "Wall time: 36 ms\n"
     ]
    },
    {
     "data": {
      "text/plain": [
       "81709807"
      ]
     },
     "execution_count": 20,
     "metadata": {},
     "output_type": "execute_result"
    }
   ],
   "source": [
    "%time gear_ratios(Input('03').read())"
   ]
  },
  {
   "cell_type": "markdown",
   "id": "82182a2c-a21d-4a26-95ee-3408f526fac2",
   "metadata": {},
   "source": [
    "## [Day 4: Scratchcards](https://adventofcode.com/2023/day/4)"
   ]
  },
  {
   "cell_type": "markdown",
   "id": "851e50c4-46f1-468b-9fce-ca31cd602515",
   "metadata": {},
   "source": [
    "### Part 1"
   ]
  },
  {
   "cell_type": "code",
   "execution_count": 21,
   "id": "2ddf21a8-4760-4579-9888-b88aa08c3539",
   "metadata": {},
   "outputs": [],
   "source": [
    "testdata = \"Card 1: 41 48 83 86 17 | 83 86  6 31 17  9 48 53\\nCard 2: 13 32 20 16 61 | 61 30 68 82 17 32 24 19\\nCard 3:  1 21 53 59 44 | 69 82 63 72 16 21 14  1\\nCard 4: 41 92 73 84 69 | 59 84 76 51 58  5 54 83\\nCard 5: 87 83 26 28 32 | 88 30 70 12 93 22 82 36\\nCard 6: 31 18 13 56 72 | 74 77 10 23 35 67 36 11\""
   ]
  },
  {
   "cell_type": "code",
   "execution_count": 22,
   "id": "60f3e066-1e29-41be-9822-f7fd2aa77062",
   "metadata": {},
   "outputs": [],
   "source": [
    "def cards_worth(n):\n",
    "    n = n.strip().split(\"\\n\")\n",
    "    r = 0\n",
    "    for e in n:\n",
    "        c = [f.split() for f in e.split(\":\")[1].split(\"|\")]\n",
    "        c = [1 for e in c[0] if e in c[1]]\n",
    "        if sum(c) > 0:\n",
    "            r += 2 ** (sum(c) - 1)\n",
    "    return r"
   ]
  },
  {
   "cell_type": "code",
   "execution_count": 23,
   "id": "60f0f8cd-81c5-402e-b80c-162fa3fb8ce2",
   "metadata": {},
   "outputs": [],
   "source": [
    "assert cards_worth(testdata) == 13"
   ]
  },
  {
   "cell_type": "code",
   "execution_count": 24,
   "id": "a9e65348-bf6c-4202-86a8-b5fb79fa08c5",
   "metadata": {},
   "outputs": [
    {
     "name": "stdout",
     "output_type": "stream",
     "text": [
      "CPU times: user 0 ns, sys: 2.45 ms, total: 2.45 ms\n",
      "Wall time: 1.82 ms\n"
     ]
    },
    {
     "data": {
      "text/plain": [
       "17803"
      ]
     },
     "execution_count": 24,
     "metadata": {},
     "output_type": "execute_result"
    }
   ],
   "source": [
    "%time cards_worth(Input('04').read())"
   ]
  },
  {
   "cell_type": "markdown",
   "id": "088df69d-b9ca-4755-b066-374940ada798",
   "metadata": {},
   "source": [
    "### Part 2"
   ]
  },
  {
   "cell_type": "code",
   "execution_count": 25,
   "id": "4fdb51bc-3526-4ca8-8ec0-bde85a779720",
   "metadata": {},
   "outputs": [],
   "source": [
    "def number_of_cards(n):\n",
    "    n = [[f.split() for f in e.split(\":\")[1].split(\"|\")] for e in n.strip().split(\"\\n\")] \n",
    "    m = {i: 1 for i in range(len(n))}\n",
    "    for i, e in enumerate(n):\n",
    "        \n",
    "        c = [1 for f in e[0] if f in e[1]]\n",
    "        for j in range(1, sum(c) + 1):\n",
    "            m[i + j] = m[i + j] + m[i]\n",
    "    return sum(m.values())"
   ]
  },
  {
   "cell_type": "code",
   "execution_count": 26,
   "id": "5626e110-85e8-4c92-af74-33a76a4ffdf0",
   "metadata": {},
   "outputs": [],
   "source": [
    "assert number_of_cards(testdata) == 30"
   ]
  },
  {
   "cell_type": "code",
   "execution_count": 27,
   "id": "647c835d-8e49-4763-8c32-6f604be53014",
   "metadata": {},
   "outputs": [
    {
     "data": {
      "text/plain": [
       "30"
      ]
     },
     "execution_count": 27,
     "metadata": {},
     "output_type": "execute_result"
    }
   ],
   "source": [
    "number_of_cards(testdata)"
   ]
  },
  {
   "cell_type": "code",
   "execution_count": 28,
   "id": "538a5db3-8199-4297-951b-3474dfda15a7",
   "metadata": {},
   "outputs": [
    {
     "name": "stdout",
     "output_type": "stream",
     "text": [
      "CPU times: user 2.21 ms, sys: 0 ns, total: 2.21 ms\n",
      "Wall time: 1.86 ms\n"
     ]
    },
    {
     "data": {
      "text/plain": [
       "5554894"
      ]
     },
     "execution_count": 28,
     "metadata": {},
     "output_type": "execute_result"
    }
   ],
   "source": [
    "%time number_of_cards(Input('04').read())"
   ]
  },
  {
   "cell_type": "markdown",
   "id": "183ab89e-3452-4739-bf18-3ace440bf5b0",
   "metadata": {},
   "source": [
    "## [Day 5: If You Give A Seed A Fertilizer](https://adventofcode.com/2023/day/5)"
   ]
  },
  {
   "cell_type": "markdown",
   "id": "5e2674d7-ab5b-4e23-bdb0-d21d03013c24",
   "metadata": {},
   "source": [
    "### Part 1"
   ]
  },
  {
   "cell_type": "code",
   "execution_count": 29,
   "id": "e47f8995-8538-4eac-a581-08a873408cf6",
   "metadata": {},
   "outputs": [],
   "source": [
    "testdata = Testdata('07').read()"
   ]
  },
  {
   "cell_type": "code",
   "execution_count": 30,
   "id": "292e446e-bf3a-4d64-9df9-f2f8944f2c32",
   "metadata": {},
   "outputs": [],
   "source": [
    "def parse_data(n):\n",
    "    d = {}\n",
    "    for e in n.split(\"\\n\\n\"):\n",
    "        if e.startswith(\"seeds\"):\n",
    "            d[\"seeds\"] = [int(f) for f in re.findall(r'(\\d+)', e)]\n",
    "        else:\n",
    "            e = e.split(\"\\n\")\n",
    "            name = e[0][:len(e[0]) - 5]\n",
    "            t = []\n",
    "            for f in e[1:]:\n",
    "                t.append([int(g) for g in f.split()])\n",
    "            d[name] = t\n",
    "    return d  \n",
    "\n",
    "def solution(n, steps = None):\n",
    "    if steps == None:\n",
    "        steps = ['seed-to-soil', 'soil-to-fertilizer', 'fertilizer-to-water', 'water-to-light', 'light-to-temperature', 'temperature-to-humidity','humidity-to-location']\n",
    "    d = parse_data(n)\n",
    "    locs = []\n",
    "    for seed in d['seeds']:\n",
    "        # print(\"-\"*30)\n",
    "        loc = seed\n",
    "        for step in steps:\n",
    "            for lst in d[step]:\n",
    "                if loc in range(lst[1], lst[1] + lst[2]):\n",
    "                    loc = lst[0] + loc - lst[1]\n",
    "                    # print(\"D\", step, d[step], loc)\n",
    "                    break\n",
    "        locs.append(loc)\n",
    "    return locs"
   ]
  },
  {
   "cell_type": "code",
   "execution_count": 31,
   "id": "c0ef8472-8df4-449d-a265-ec9cff413b0a",
   "metadata": {},
   "outputs": [
    {
     "name": "stdout",
     "output_type": "stream",
     "text": [
      "CPU times: user 111 µs, sys: 25 µs, total: 136 µs\n",
      "Wall time: 140 µs\n"
     ]
    }
   ],
   "source": [
    "%time assert min(solution(testdata)) == 35"
   ]
  },
  {
   "cell_type": "code",
   "execution_count": 32,
   "id": "4ec74719-97af-435c-834d-c7646b7b1afd",
   "metadata": {},
   "outputs": [
    {
     "name": "stdout",
     "output_type": "stream",
     "text": [
      "CPU times: user 1.95 ms, sys: 0 ns, total: 1.95 ms\n",
      "Wall time: 1.36 ms\n"
     ]
    },
    {
     "data": {
      "text/plain": [
       "51752125"
      ]
     },
     "execution_count": 32,
     "metadata": {},
     "output_type": "execute_result"
    }
   ],
   "source": [
    "%time min(solution(Input('05').read()))"
   ]
  },
  {
   "cell_type": "markdown",
   "id": "af8752b1-b35c-4454-bc99-4fd1ad68176a",
   "metadata": {},
   "source": [
    "### Part 2"
   ]
  },
  {
   "cell_type": "code",
   "execution_count": 178,
   "id": "5fb52a81-910f-43f3-8f8a-bcaeb5be1f1d",
   "metadata": {},
   "outputs": [],
   "source": [
    "def solution(n, steps = None):\n",
    "    if steps == None:\n",
    "        steps = ['seed-to-soil', 'soil-to-fertilizer', 'fertilizer-to-water', 'water-to-light', 'light-to-temperature', 'temperature-to-humidity','humidity-to-location']\n",
    "    d = parse_data(n)\n",
    "    locs = []\n",
    "    seedranges = []\n",
    "    min = None\n",
    "    c= 0 \n",
    "    for i in range(0, len(d[\"seeds\"]), 2):\n",
    "        seedranges.append((d[\"seeds\"][i], d[\"seeds\"][i] + d[\"seeds\"][i + 1]))\n",
    "    for rng in seedranges:\n",
    "        x, y = rng\n",
    "        for seed in range(x, y):\n",
    "            c +=1\n",
    "            # print(seed)\n",
    "            # print(\"-\"*30)\n",
    "            loc = seed\n",
    "            for step in steps:\n",
    "                for lst in d[step]:\n",
    "                    if loc in range(lst[1], lst[1] + lst[2]):\n",
    "                        loc = lst[0] + loc - lst[1]\n",
    "                        # print(seed, \"D\", step, d[step], loc)\n",
    "                        break\n",
    "            if c % 10**6 == 0:\n",
    "                print(c)\n",
    "            if min == None or min > loc:\n",
    "                min = loc\n",
    "    return min"
   ]
  },
  {
   "cell_type": "code",
   "execution_count": 179,
   "id": "256e8eae-ff32-4c56-bef1-89a9183b6ba3",
   "metadata": {},
   "outputs": [
    {
     "name": "stdout",
     "output_type": "stream",
     "text": [
      "CPU times: user 151 µs, sys: 50 µs, total: 201 µs\n",
      "Wall time: 203 µs\n"
     ]
    }
   ],
   "source": [
    "%time assert solution(testdata) == 46"
   ]
  },
  {
   "cell_type": "markdown",
   "id": "599d110b-471d-43e3-b063-fe350d950caf",
   "metadata": {},
   "source": [
    "## [Day 6: Wait For It](https://adventofcode.com/2023/day/6)"
   ]
  },
  {
   "cell_type": "markdown",
   "id": "99e50b1b-bb24-4f49-beff-e3c4242c7a21",
   "metadata": {},
   "source": [
    "### Part 1"
   ]
  },
  {
   "cell_type": "code",
   "execution_count": 239,
   "id": "16327465-2a24-409f-a176-3eae7945a82a",
   "metadata": {},
   "outputs": [],
   "source": [
    "def speed(n):\n",
    "    return n\n",
    "\n",
    "def distance(m, n=None):\n",
    "    if n == None:\n",
    "        return [(i, (m - i) * speed(i)) for i in range(1, m)]\n",
    "    else:\n",
    "        return [(i, (m - i) * speed(i)) for i in range(1, m) if (m - i) * speed(i) > n]\n",
    "\n",
    "def score(n):\n",
    "    return math.prod([len(distance(e[0], e[1])) for e in zip(*n)])"
   ]
  },
  {
   "cell_type": "code",
   "execution_count": 240,
   "id": "c5d293a4-6f66-4d40-83ce-c7c6aa06f898",
   "metadata": {},
   "outputs": [],
   "source": [
    "testdata = [[7, 15, 30], [9, 40, 200]]\n",
    "\n",
    "assert score(testdata) == 288 "
   ]
  },
  {
   "cell_type": "code",
   "execution_count": 241,
   "id": "cd709f8c-d377-4f55-954c-6d77d2bad687",
   "metadata": {},
   "outputs": [
    {
     "name": "stdout",
     "output_type": "stream",
     "text": [
      "CPU times: user 42 µs, sys: 10 µs, total: 52 µs\n",
      "Wall time: 53.6 µs\n"
     ]
    },
    {
     "data": {
      "text/plain": [
       "1159152"
      ]
     },
     "execution_count": 241,
     "metadata": {},
     "output_type": "execute_result"
    }
   ],
   "source": [
    "day6 = [58, 81, 96, 76], [434, 1041, 2219, 1218]\n",
    "\n",
    "%time score(day6)"
   ]
  },
  {
   "cell_type": "markdown",
   "id": "ce5c3157-f501-4863-8837-e8221882ab58",
   "metadata": {},
   "source": [
    "### Part 2"
   ]
  },
  {
   "cell_type": "code",
   "execution_count": 232,
   "id": "6ca77a1a-3f68-4e8d-995c-fe1c22b39492",
   "metadata": {},
   "outputs": [],
   "source": [
    "day6 = [58819676, 434104122191218]"
   ]
  },
  {
   "cell_type": "code",
   "execution_count": 242,
   "id": "869e8ce3-6aa1-45e6-a60c-5d0f49742b10",
   "metadata": {},
   "outputs": [],
   "source": [
    "def score(m, n=None):\n",
    "    sc = 0\n",
    "    for i in range(1, m):\n",
    "        dist = (m - i) * speed(i)\n",
    "        if dist > n:\n",
    "            sc += 1\n",
    "    return sc\n"
   ]
  },
  {
   "cell_type": "code",
   "execution_count": 244,
   "id": "5a932d37-5ed5-4fa2-bd3e-a0c363a95ce4",
   "metadata": {},
   "outputs": [],
   "source": [
    "assert score(71530, 940200) == 71503"
   ]
  },
  {
   "cell_type": "code",
   "execution_count": 245,
   "id": "6b56744f-19c3-4bb8-ac77-e18bfe5af86c",
   "metadata": {},
   "outputs": [
    {
     "name": "stdout",
     "output_type": "stream",
     "text": [
      "CPU times: user 5.84 s, sys: 0 ns, total: 5.84 s\n",
      "Wall time: 5.84 s\n"
     ]
    },
    {
     "data": {
      "text/plain": [
       "41513103"
      ]
     },
     "execution_count": 245,
     "metadata": {},
     "output_type": "execute_result"
    }
   ],
   "source": [
    "%time score(58819676, 434104122191218)"
   ]
  }
 ],
 "metadata": {
  "kernelspec": {
   "display_name": "Python 3 (ipykernel)",
   "language": "python",
   "name": "python3"
  },
  "language_info": {
   "codemirror_mode": {
    "name": "ipython",
    "version": 3
   },
   "file_extension": ".py",
   "mimetype": "text/x-python",
   "name": "python",
   "nbconvert_exporter": "python",
   "pygments_lexer": "ipython3",
   "version": "3.11.6"
  }
 },
 "nbformat": 4,
 "nbformat_minor": 5
}

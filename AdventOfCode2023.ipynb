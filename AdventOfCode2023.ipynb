{
 "cells": [
  {
   "cell_type": "markdown",
   "id": "347075f3-9332-483e-97e3-59aed6d0b336",
   "metadata": {},
   "source": [
    "# [Advent of Code 2023](https://adventofcode.com/2023)"
   ]
  },
  {
   "cell_type": "markdown",
   "id": "433135d8-2c31-4862-a172-f548f01263ef",
   "metadata": {},
   "source": [
    "## General functions"
   ]
  },
  {
   "cell_type": "code",
   "execution_count": 28,
   "id": "cf691d31-cab8-40c3-b97d-ced5997985ee",
   "metadata": {},
   "outputs": [],
   "source": [
    "import re\n",
    "import itertools"
   ]
  },
  {
   "cell_type": "code",
   "execution_count": 29,
   "id": "41fd15b0-8cfa-416f-8b87-80acb3c64b01",
   "metadata": {},
   "outputs": [],
   "source": [
    "def Input(day, year=2023):\n",
    "    directory = '{}'.format(year)\n",
    "    filename = directory + '/input{}.txt'.format(day)\n",
    "    return open(filename)\n",
    "\n",
    "def mapt(fn, *args):\n",
    "    \"\"\"map(fn, *args) and return the result as a tuple.\"\"\"\n",
    "    return tuple(map(fn, *args))\n",
    "\n",
    "def parse(day, parser=str, sep='\\n', output='tuple') -> tuple:\n",
    "    \"\"\"Split the day's input file into entries separated by `sep`, and apply `parser` to each.\"\"\"\n",
    "    entries = open(f'2023/input{day}.txt').read().rstrip().split(sep)\n",
    "    return mapt(parser, entries)"
   ]
  },
  {
   "cell_type": "markdown",
   "id": "cf943123-4c01-41af-9a86-b2380b4625a1",
   "metadata": {},
   "source": [
    "## [Day 1: Trebuchet?!](https://adventofcode.com/2023/day/1)"
   ]
  },
  {
   "cell_type": "markdown",
   "id": "eb30f3ab-fc4b-4fc1-bf50-982a3293c1f5",
   "metadata": {},
   "source": [
    "### Part 1"
   ]
  },
  {
   "cell_type": "code",
   "execution_count": 3,
   "id": "7133b59a-97ea-4e92-b461-4490b4296c62",
   "metadata": {},
   "outputs": [],
   "source": [
    "def calibration_values(n, replace = False):\n",
    "    if replace == True:\n",
    "        n = [translate_string(e) for e in n]\n",
    "    else:\n",
    "        n = [re.findall(r'\\d', e) for e in n]\n",
    "    return [int(e[0] + e[-1]) for e in n]"
   ]
  },
  {
   "cell_type": "code",
   "execution_count": 4,
   "id": "8cdcc9bf-2986-4cf1-8b37-18f48b8f686c",
   "metadata": {},
   "outputs": [],
   "source": [
    "testdata = (\"1abc2\", \"pqr3stu8vwx\", \"a1b2c3d4e5f\", \"treb7uchet\")\n",
    "assert sum(calibration_values(testdata)) == 142"
   ]
  },
  {
   "cell_type": "code",
   "execution_count": 5,
   "id": "2613d8e6-53b5-445c-a445-477b89cc2ade",
   "metadata": {},
   "outputs": [
    {
     "name": "stdout",
     "output_type": "stream",
     "text": [
      "CPU times: user 2.13 ms, sys: 292 µs, total: 2.42 ms\n",
      "Wall time: 2.15 ms\n"
     ]
    },
    {
     "data": {
      "text/plain": [
       "54990"
      ]
     },
     "execution_count": 5,
     "metadata": {},
     "output_type": "execute_result"
    }
   ],
   "source": [
    "%time sum(calibration_values(parse('01')))"
   ]
  },
  {
   "cell_type": "markdown",
   "id": "571adca4-baa6-4af0-a673-d5d680b9f7c9",
   "metadata": {},
   "source": [
    "### Part 2"
   ]
  },
  {
   "cell_type": "code",
   "execution_count": 6,
   "id": "430a3f4c-2fab-426a-bd53-1088f325b7ef",
   "metadata": {},
   "outputs": [],
   "source": [
    "def translate_string(n):\n",
    "    r = []\n",
    "    d = [\"zero\", \"one\", \"two\", \"three\", \"four\", \"five\", \"six\", \"seven\", \"eight\", \"nine\"]\n",
    "    for i, c in enumerate(n):\n",
    "        if c.isdigit():\n",
    "            r.append(c)\n",
    "        for j, b in enumerate(d):\n",
    "            if n[i:].startswith(b):\n",
    "                r.append(str(j))\n",
    "    return ''.join(r)\n",
    "                "
   ]
  },
  {
   "cell_type": "code",
   "execution_count": 7,
   "id": "a5650b4e-e8c2-45ed-8a63-60380aebe827",
   "metadata": {
    "scrolled": true
   },
   "outputs": [],
   "source": [
    "testdata = (\"two1nine\", \"eightwothree\", \"abcone2threexyz\", \"xtwone3four\", \"4nineeightseven2\", \"zoneight234\", \"7pqrstsixteen\")\n",
    "assert(sum(calibration_values(testdata, True))) == 281"
   ]
  },
  {
   "cell_type": "code",
   "execution_count": 8,
   "id": "1e72809f-b242-4ab4-a054-d6edd4093a48",
   "metadata": {},
   "outputs": [
    {
     "name": "stdout",
     "output_type": "stream",
     "text": [
      "CPU times: user 33.5 ms, sys: 0 ns, total: 33.5 ms\n",
      "Wall time: 32.9 ms\n"
     ]
    },
    {
     "data": {
      "text/plain": [
       "54473"
      ]
     },
     "execution_count": 8,
     "metadata": {},
     "output_type": "execute_result"
    }
   ],
   "source": [
    "%time sum(calibration_values(parse('01'), True))"
   ]
  },
  {
   "cell_type": "markdown",
   "id": "5bad92cd-e2cf-4c33-9cbe-fab5efd10499",
   "metadata": {},
   "source": [
    "## [Day 2: Cube Conundrum](https://adventofcode.com/2023/day/2)"
   ]
  },
  {
   "cell_type": "code",
   "execution_count": 171,
   "id": "aa4bc6d4-7d4d-480b-8f73-058fd91bf376",
   "metadata": {},
   "outputs": [
    {
     "name": "stdout",
     "output_type": "stream",
     "text": [
      "2720\n"
     ]
    }
   ],
   "source": [
    "i = Input('02').readlines()\n",
    "\n",
    "d = {\"red\": 12, \"green\": 13, \"blue\": 14}\n",
    "\n",
    "e = [[d[k] >= int(v) for v, k in re.findall(r'(\\d+) (\\w+)', e)] for e in i]\n",
    "e = [i + 1 if False not in f else 0 for i, f in enumerate(e)]\n",
    "\n",
    "print(sum(e))"
   ]
  },
  {
   "cell_type": "code",
   "execution_count": 91,
   "id": "ad4e5551-cbb9-4031-83c7-9fea96ca1149",
   "metadata": {},
   "outputs": [],
   "source": [
    "testdata = \"Game 1: 3 blue, 4 red; 1 red, 2 green, 6 blue; 2 green\\nGame 2: 1 blue, 2 green; 3 green, 4 blue, 1 red; 1 green, 1 blue\\nGame 3: 8 green, 6 blue, 20 red; 5 blue, 4 red, 13 green; 5 green, 1 red\\nGame 4: 1 green, 3 red, 6 blue; 3 green, 6 red; 3 green, 15 blue, 14 red\\nGame 5: 6 red, 1 blue, 3 green; 2 blue, 1 red, 2 green\""
   ]
  }
 ],
 "metadata": {
  "kernelspec": {
   "display_name": "Python 3 (ipykernel)",
   "language": "python",
   "name": "python3"
  },
  "language_info": {
   "codemirror_mode": {
    "name": "ipython",
    "version": 3
   },
   "file_extension": ".py",
   "mimetype": "text/x-python",
   "name": "python",
   "nbconvert_exporter": "python",
   "pygments_lexer": "ipython3",
   "version": "3.11.6"
  }
 },
 "nbformat": 4,
 "nbformat_minor": 5
}

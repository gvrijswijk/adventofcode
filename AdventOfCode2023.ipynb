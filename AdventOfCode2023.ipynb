{
 "cells": [
  {
   "cell_type": "markdown",
   "id": "347075f3-9332-483e-97e3-59aed6d0b336",
   "metadata": {},
   "source": [
    "# [Advent of Code 2023](https://adventofcode.com/2023)"
   ]
  },
  {
   "cell_type": "markdown",
   "id": "433135d8-2c31-4862-a172-f548f01263ef",
   "metadata": {},
   "source": [
    "## General functions"
   ]
  },
  {
   "cell_type": "code",
   "execution_count": 259,
   "id": "cf691d31-cab8-40c3-b97d-ced5997985ee",
   "metadata": {},
   "outputs": [
    {
     "name": "stdout",
     "output_type": "stream",
     "text": [
      "Collecting regex\n",
      "  Downloading regex-2023.10.3-cp311-cp311-manylinux_2_17_x86_64.manylinux2014_x86_64.whl.metadata (40 kB)\n",
      "\u001b[2K     \u001b[90m━━━━━━━━━━━━━━━━━━━━━━━━━━━━━━━━━━━━━━━━\u001b[0m \u001b[32m40.9/40.9 kB\u001b[0m \u001b[31m1.0 MB/s\u001b[0m eta \u001b[36m0:00:00\u001b[0m\n",
      "\u001b[?25hDownloading regex-2023.10.3-cp311-cp311-manylinux_2_17_x86_64.manylinux2014_x86_64.whl (785 kB)\n",
      "\u001b[2K   \u001b[90m━━━━━━━━━━━━━━━━━━━━━━━━━━━━━━━━━━━━━━━━\u001b[0m \u001b[32m785.1/785.1 kB\u001b[0m \u001b[31m15.0 MB/s\u001b[0m eta \u001b[36m0:00:00\u001b[0ma \u001b[36m0:00:01\u001b[0m\n",
      "\u001b[?25hInstalling collected packages: regex\n",
      "Successfully installed regex-2023.10.3\n",
      "Note: you may need to restart the kernel to use updated packages.\n"
     ]
    }
   ],
   "source": [
    "%pip install regex\n",
    "import regex as re\n",
    "import itertools"
   ]
  },
  {
   "cell_type": "code",
   "execution_count": 11,
   "id": "41fd15b0-8cfa-416f-8b87-80acb3c64b01",
   "metadata": {},
   "outputs": [],
   "source": [
    "def Input(day, year=2023):\n",
    "    directory = '{}'.format(year)\n",
    "    filename = directory + '/input{}.txt'.format(day)\n",
    "    return open(filename)\n",
    "\n",
    "def mapt(fn, *args):\n",
    "    \"\"\"map(fn, *args) and return the result as a tuple.\"\"\"\n",
    "    return tuple(map(fn, *args))\n",
    "\n",
    "def parse(day, parser=str, sep='\\n', output='tuple') -> tuple:\n",
    "    \"\"\"Split the day's input file into entries separated by `sep`, and apply `parser` to each.\"\"\"\n",
    "    entries = open(f'2023/input{day}.txt').read().rstrip().split(sep)\n",
    "    return mapt(parser, entries)"
   ]
  },
  {
   "cell_type": "markdown",
   "id": "cf943123-4c01-41af-9a86-b2380b4625a1",
   "metadata": {},
   "source": [
    "## [Day 1: Trebuchet?!](https://adventofcode.com/2023/day/1)"
   ]
  },
  {
   "cell_type": "markdown",
   "id": "eb30f3ab-fc4b-4fc1-bf50-982a3293c1f5",
   "metadata": {},
   "source": [
    "### Part 1"
   ]
  },
  {
   "cell_type": "code",
   "execution_count": 333,
   "id": "7133b59a-97ea-4e92-b461-4490b4296c62",
   "metadata": {},
   "outputs": [],
   "source": [
    "def calibration_values(n, replace = False):\n",
    "    if replace == True:\n",
    "        n = [translate_string(e) for e in n]\n",
    "    else:\n",
    "        n = [re.findall(r'\\d', e) for e in n]\n",
    "    return [int(e[0] + e[-1]) for e in n]"
   ]
  },
  {
   "cell_type": "code",
   "execution_count": 334,
   "id": "8cdcc9bf-2986-4cf1-8b37-18f48b8f686c",
   "metadata": {},
   "outputs": [],
   "source": [
    "testdata = (\"1abc2\", \"pqr3stu8vwx\", \"a1b2c3d4e5f\", \"treb7uchet\")\n",
    "assert sum(calibration_values(testdata)) == 142"
   ]
  },
  {
   "cell_type": "code",
   "execution_count": 335,
   "id": "2613d8e6-53b5-445c-a445-477b89cc2ade",
   "metadata": {},
   "outputs": [
    {
     "name": "stdout",
     "output_type": "stream",
     "text": [
      "CPU times: user 9.04 ms, sys: 96 µs, total: 9.14 ms\n",
      "Wall time: 8.3 ms\n"
     ]
    },
    {
     "data": {
      "text/plain": [
       "54990"
      ]
     },
     "execution_count": 335,
     "metadata": {},
     "output_type": "execute_result"
    }
   ],
   "source": [
    "%time sum(calibration_values(parse('01')))"
   ]
  },
  {
   "cell_type": "markdown",
   "id": "571adca4-baa6-4af0-a673-d5d680b9f7c9",
   "metadata": {},
   "source": [
    "### Part 2"
   ]
  },
  {
   "cell_type": "code",
   "execution_count": 318,
   "id": "430a3f4c-2fab-426a-bd53-1088f325b7ef",
   "metadata": {},
   "outputs": [],
   "source": [
    "def is_integer(n):\n",
    "    try:\n",
    "        float(n)\n",
    "    except ValueError:\n",
    "        return False\n",
    "    else:\n",
    "        return float(n).is_integer()\n",
    "        \n",
    "def translate_string(n):\n",
    "    r = []\n",
    "    d = {\"zero\": \"0\", \"one\": \"1\", \"two\": \"2\", \"three\": \"3\", \"four\": \"4\", \"five\": \"5\", \"six\": \"6\", \"seven\": \"7\", \"eight\": \"8\", \"nine\": \"9\"}\n",
    "    for i in range(len(n)):\n",
    "        if is_integer(n[i]):\n",
    "            r.append(n[i])\n",
    "        for j in range(i, len(n) + 1):\n",
    "            string = ''.join(n[i:j])\n",
    "            if string in d.keys():\n",
    "                r.append(d[string])\n",
    "    return ''.join(r)\n",
    "                "
   ]
  },
  {
   "cell_type": "code",
   "execution_count": 338,
   "id": "a5650b4e-e8c2-45ed-8a63-60380aebe827",
   "metadata": {
    "scrolled": true
   },
   "outputs": [],
   "source": [
    "testdata = (\"two1nine\", \"eightwothree\", \"abcone2threexyz\", \"xtwone3four\", \"4nineeightseven2\", \"zoneight234\", \"7pqrstsixteen\")\n",
    "assert(sum(calibration_values(testdata, True))) == 281"
   ]
  },
  {
   "cell_type": "code",
   "execution_count": 339,
   "id": "1e72809f-b242-4ab4-a054-d6edd4093a48",
   "metadata": {},
   "outputs": [
    {
     "name": "stdout",
     "output_type": "stream",
     "text": [
      "CPU times: user 11.9 ms, sys: 482 µs, total: 12.3 ms\n",
      "Wall time: 10.8 ms\n"
     ]
    },
    {
     "data": {
      "text/plain": [
       "54990"
      ]
     },
     "execution_count": 339,
     "metadata": {},
     "output_type": "execute_result"
    }
   ],
   "source": [
    "%time sum(calibration_values(parse('01')))"
   ]
  }
 ],
 "metadata": {
  "kernelspec": {
   "display_name": "Python 3 (ipykernel)",
   "language": "python",
   "name": "python3"
  },
  "language_info": {
   "codemirror_mode": {
    "name": "ipython",
    "version": 3
   },
   "file_extension": ".py",
   "mimetype": "text/x-python",
   "name": "python",
   "nbconvert_exporter": "python",
   "pygments_lexer": "ipython3",
   "version": "3.11.6"
  }
 },
 "nbformat": 4,
 "nbformat_minor": 5
}

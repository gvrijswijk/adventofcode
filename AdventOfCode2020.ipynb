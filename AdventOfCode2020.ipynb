{
 "cells": [
  {
   "cell_type": "markdown",
   "metadata": {},
   "source": [
    "# Advent of Code 2020\n",
    "\n",
    "It's that time of year again..."
   ]
  },
  {
   "cell_type": "code",
   "execution_count": 4,
   "metadata": {
    "hide_input": false
   },
   "outputs": [],
   "source": [
    "import re\n",
    "import itertools\n",
    "import functools\n",
    "import numpy as np\n",
    "\n",
    "\n",
    "def Input(day, year=2020):\n",
    "    directory = '{}'.format(year)\n",
    "    filename = directory + '/input{}.txt'.format(day)\n",
    "    return open(filename)\n",
    "\n",
    "\n",
    "def isprime(val):\n",
    "    pass"
   ]
  },
  {
   "cell_type": "markdown",
   "metadata": {},
   "source": [
    "## [Day 1: Report Repair](https://adventofcode.com/2020/day/1)\n",
    "\n",
    "\"After saving Christmas five years in a row, you've decided to take a vacation at a nice resort on a tropical island. Surely, Christmas will go on without you.\"\n",
    "\n",
    "The first few days are always a breeze; the problems are very nice, as a shortlived disctraction from work. Today it's about checking which combination of 2 (part 1) or 3 (part 2) numbers add up to 2020. Not too hard, but in the evening I got back to the solution to create something looking a bit cleaner and more elegant (I think)."
   ]
  },
  {
   "cell_type": "markdown",
   "metadata": {},
   "source": [
    "## The original solution"
   ]
  },
  {
   "cell_type": "markdown",
   "metadata": {},
   "source": [
    "#### Part 1"
   ]
  },
  {
   "cell_type": "code",
   "execution_count": 2,
   "metadata": {},
   "outputs": [
    {
     "name": "stdout",
     "output_type": "stream",
     "text": [
      "Wall time: 33 ms\n"
     ]
    },
    {
     "data": {
      "text/plain": [
       "712075"
      ]
     },
     "execution_count": 2,
     "metadata": {},
     "output_type": "execute_result"
    }
   ],
   "source": [
    "%%time\n",
    "expenses = [int(e) for e in Input('01')]\n",
    "\n",
    "\n",
    "def check_expenses(expenses, goal):\n",
    "    for i, first_entry in enumerate(expenses):\n",
    "        for second_entry in expenses[i + 1:]:\n",
    "            if first_entry + second_entry == goal:\n",
    "                return (first_entry * second_entry)\n",
    "\n",
    "\n",
    "check_expenses(expenses, 2020)"
   ]
  },
  {
   "cell_type": "markdown",
   "metadata": {},
   "source": [
    "#### Part 2"
   ]
  },
  {
   "cell_type": "code",
   "execution_count": 3,
   "metadata": {},
   "outputs": [
    {
     "name": "stdout",
     "output_type": "stream",
     "text": [
      "Wall time: 133 ms\n"
     ]
    },
    {
     "data": {
      "text/plain": [
       "145245270"
      ]
     },
     "execution_count": 3,
     "metadata": {},
     "output_type": "execute_result"
    }
   ],
   "source": [
    "%%time\n",
    "\n",
    "\n",
    "def check_expenses(expenses, goal):\n",
    "    for i, first_entry in enumerate(expenses):\n",
    "        for second_entry in expenses[i + 1:]:\n",
    "            for third_entry in expenses[i + 2:]:\n",
    "                if first_entry + second_entry + third_entry == goal:\n",
    "                    return (first_entry * second_entry * third_entry)\n",
    "\n",
    "\n",
    "check_expenses(expenses, 2020)"
   ]
  },
  {
   "cell_type": "markdown",
   "metadata": {},
   "source": [
    "## The alternative solution"
   ]
  },
  {
   "cell_type": "code",
   "execution_count": 4,
   "metadata": {},
   "outputs": [],
   "source": [
    "def product(iterable):\n",
    "    return np.prod(iterable)\n",
    "\n",
    "\n",
    "def check_expenses(expenses, goal, depth):\n",
    "    for combination in itertools.combinations(expenses, depth):\n",
    "        if sum(combination) == goal:\n",
    "            return product(combination)"
   ]
  },
  {
   "cell_type": "markdown",
   "metadata": {},
   "source": [
    "#### Part 1"
   ]
  },
  {
   "cell_type": "code",
   "execution_count": 5,
   "metadata": {},
   "outputs": [
    {
     "name": "stdout",
     "output_type": "stream",
     "text": [
      "Wall time: 2 ms\n"
     ]
    },
    {
     "data": {
      "text/plain": [
       "712075"
      ]
     },
     "execution_count": 5,
     "metadata": {},
     "output_type": "execute_result"
    }
   ],
   "source": [
    "%%time\n",
    "check_expenses(expenses, 2020, 2)"
   ]
  },
  {
   "cell_type": "markdown",
   "metadata": {},
   "source": [
    "#### Part 2"
   ]
  },
  {
   "cell_type": "code",
   "execution_count": 6,
   "metadata": {},
   "outputs": [
    {
     "name": "stdout",
     "output_type": "stream",
     "text": [
      "Wall time: 126 ms\n"
     ]
    },
    {
     "data": {
      "text/plain": [
       "145245270"
      ]
     },
     "execution_count": 6,
     "metadata": {},
     "output_type": "execute_result"
    }
   ],
   "source": [
    "%%time\n",
    "check_expenses(expenses, 2020, 3)"
   ]
  },
  {
   "cell_type": "markdown",
   "metadata": {},
   "source": [
    "## [Day 2: Password Philosophy](https://adventofcode.com/2020/day/2)\n",
    "\n",
    "The shopkeeper at the North Pole Toboggan Rental Shop is having a bad day. \"Something's wrong with our computers; we can't log in!\" You ask if you can take a look.\n",
    "\n",
    "Their password database seems to be a little corrupted: some of the passwords wouldn't have been allowed by the Official Toboggan Corporate Policy that was in effect when they were chosen.\n",
    "\n",
    "To try to debug the problem, they have created a list (your puzzle input) of passwords (according to the corrupted database) and the corporate policy when that password was set."
   ]
  },
  {
   "cell_type": "markdown",
   "metadata": {},
   "source": [
    "## The original solution"
   ]
  },
  {
   "cell_type": "markdown",
   "metadata": {},
   "source": [
    "#### Part 1"
   ]
  },
  {
   "cell_type": "code",
   "execution_count": 7,
   "metadata": {},
   "outputs": [
    {
     "name": "stdout",
     "output_type": "stream",
     "text": [
      "Wall time: 16 ms\n"
     ]
    },
    {
     "data": {
      "text/plain": [
       "546"
      ]
     },
     "execution_count": 7,
     "metadata": {},
     "output_type": "execute_result"
    }
   ],
   "source": [
    "%%time\n",
    "passwords = Input('02').read()\n",
    "passwords = re.findall(r'(\\d+)-(\\d+) (\\S+): (\\S+)', passwords)\n",
    "\n",
    "valid = 0\n",
    "\n",
    "for passw in passwords:\n",
    "    lower = int(passw[0])\n",
    "    upper = int(passw[1])\n",
    "    char = passw[2]\n",
    "    password = passw[3]\n",
    "    if password.count(char) >= lower and password.count(char) <= upper:\n",
    "        valid += 1\n",
    "\n",
    "valid"
   ]
  },
  {
   "cell_type": "markdown",
   "metadata": {},
   "source": [
    "#### Part 2"
   ]
  },
  {
   "cell_type": "code",
   "execution_count": 8,
   "metadata": {},
   "outputs": [
    {
     "name": "stdout",
     "output_type": "stream",
     "text": [
      "Wall time: 2 ms\n"
     ]
    },
    {
     "data": {
      "text/plain": [
       "275"
      ]
     },
     "execution_count": 8,
     "metadata": {},
     "output_type": "execute_result"
    }
   ],
   "source": [
    "%%time\n",
    "valid = 0\n",
    "\n",
    "for passw in passwords:\n",
    "    first = int(passw[0]) - 1\n",
    "    second = int(passw[1]) - 1\n",
    "    char = passw[2]\n",
    "    password = passw[3]\n",
    "    if (password[first] == char or password[second] == char) and (password[first] != password[second]):\n",
    "        valid += 1\n",
    "\n",
    "valid"
   ]
  },
  {
   "cell_type": "markdown",
   "metadata": {},
   "source": [
    "## The alternative solution"
   ]
  },
  {
   "cell_type": "code",
   "execution_count": 9,
   "metadata": {},
   "outputs": [],
   "source": [
    "def lineparser(line):\n",
    "    return re.match(r'(\\d+)-(\\d+) (\\S+): (\\S+)', line)\n",
    "\n",
    "def valid_passwords(inp):\n",
    "    return [password_validator(line) for line in inp]"
   ]
  },
  {
   "cell_type": "markdown",
   "metadata": {},
   "source": [
    "#### Part 1"
   ]
  },
  {
   "cell_type": "code",
   "execution_count": 10,
   "metadata": {},
   "outputs": [
    {
     "name": "stdout",
     "output_type": "stream",
     "text": [
      "Wall time: 9.01 ms\n"
     ]
    },
    {
     "data": {
      "text/plain": [
       "546"
      ]
     },
     "execution_count": 10,
     "metadata": {},
     "output_type": "execute_result"
    }
   ],
   "source": [
    "%%time\n",
    "def password_validator(line):\n",
    "    lower, upper, char, password = lineparser(line).groups(0)\n",
    "    return int(lower) <= password.count(char) <= int(upper)\n",
    "\n",
    "sum(valid_passwords(Input('02')))"
   ]
  },
  {
   "cell_type": "markdown",
   "metadata": {},
   "source": [
    "#### Part 2"
   ]
  },
  {
   "cell_type": "code",
   "execution_count": 11,
   "metadata": {},
   "outputs": [
    {
     "name": "stdout",
     "output_type": "stream",
     "text": [
      "Wall time: 8 ms\n"
     ]
    },
    {
     "data": {
      "text/plain": [
       "275"
      ]
     },
     "execution_count": 11,
     "metadata": {},
     "output_type": "execute_result"
    }
   ],
   "source": [
    "%%time\n",
    "def password_validator(line):\n",
    "    first, second, char, password = lineparser(line).groups(0)\n",
    "    first = int(first) - 1\n",
    "    second = int(second) - 1\n",
    "    return (password[first] == char or password[second] == char) and password[first] != password[second]\n",
    "\n",
    "sum(valid_passwords(Input('02')))"
   ]
  },
  {
   "cell_type": "markdown",
   "metadata": {
    "hide_input": false
   },
   "source": [
    "# [Day 3: Toboggan Trajectory](https://adventofcode.com/2020/day/3)"
   ]
  },
  {
   "cell_type": "code",
   "execution_count": 12,
   "metadata": {},
   "outputs": [
    {
     "name": "stdout",
     "output_type": "stream",
     "text": [
      "Wall time: 17 ms\n"
     ]
    },
    {
     "data": {
      "text/plain": [
       "176"
      ]
     },
     "execution_count": 12,
     "metadata": {},
     "output_type": "execute_result"
    }
   ],
   "source": [
    "%%time\n",
    "f = Input('03').read().strip().split('\\n')\n",
    "\n",
    "location = (0, 0)\n",
    "direction = (1, 3)\n",
    "count = 0\n",
    "\n",
    "while location[0] < len(f) - 1:\n",
    "    location = [sum(e) for e in zip(location, direction)]\n",
    "    y, x = location\n",
    "    x = x % len(f[0])\n",
    "    if f[y][x] == '#':\n",
    "        count += 1\n",
    "\n",
    "count"
   ]
  },
  {
   "cell_type": "code",
   "execution_count": 13,
   "metadata": {},
   "outputs": [
    {
     "name": "stdout",
     "output_type": "stream",
     "text": [
      "5872458240\n",
      "Wall time: 4 ms\n"
     ]
    }
   ],
   "source": [
    "%%time\n",
    "directions = ((1, 1), (1, 3), (1, 5), (1, 7), (2, 1))\n",
    "results = []\n",
    "\n",
    "for direction in directions:\n",
    "    location = (0, 0)\n",
    "    count = 0\n",
    "\n",
    "    while location[0] < len(f) - 1:\n",
    "        location = [sum(e) for e in zip(location, direction)]\n",
    "        y, x = location\n",
    "        x = x % len(f[0])\n",
    "        if f[y][x] == '#':\n",
    "            count += 1\n",
    "\n",
    "    results.append(count)\n",
    "\n",
    "total = 1\n",
    "\n",
    "for r in results:\n",
    "    total *= r\n",
    "\n",
    "print(total)"
   ]
  },
  {
   "cell_type": "markdown",
   "metadata": {},
   "source": [
    "## [Day 4: Passport Processing](https://adventofcode.com/2020/day/4)\n",
    "\n",
    "You arrive at the airport only to realize that you grabbed your North Pole Credentials instead of your passport. While these documents are extremely similar, North Pole Credentials aren't issued by a country and therefore aren't actually valid documentation for travel in most of the world.\n",
    "\n",
    "It seems like you're not the only one having problems, though; a very long line has formed for the automatic passport scanners, and the delay could upset your travel itinerary.\n",
    "\n",
    "Due to some questionable network security, you realize you might be able to solve both of these problems at the same time."
   ]
  },
  {
   "cell_type": "markdown",
   "metadata": {},
   "source": [
    "#### Part 1"
   ]
  },
  {
   "cell_type": "code",
   "execution_count": 14,
   "metadata": {},
   "outputs": [
    {
     "data": {
      "text/plain": [
       "242"
      ]
     },
     "execution_count": 14,
     "metadata": {},
     "output_type": "execute_result"
    }
   ],
   "source": [
    "def parse_document_data(inp):\n",
    "    inp = inp.read().split('\\n\\n')\n",
    "    return [re.findall(r'(\\S+):\\S+[\\s]*', e) for e in inp]\n",
    "\n",
    "def document_is_valid(inp, *items):\n",
    "    for item in items:\n",
    "        if item not in inp:\n",
    "            return False\n",
    "    return True\n",
    "\n",
    "def process_documents(inp):\n",
    "    inp = parse_document_data(inp)\n",
    "    for i, document in enumerate(inp):\n",
    "        inp[i] = document_is_valid(document, 'byr', 'iyr', 'eyr', 'hgt', 'hcl', 'ecl', 'pid')\n",
    "    return inp\n",
    "    \n",
    "sum(process_documents(Input('04')))"
   ]
  },
  {
   "cell_type": "markdown",
   "metadata": {},
   "source": [
    "#### Part 2"
   ]
  },
  {
   "cell_type": "code",
   "execution_count": 15,
   "metadata": {},
   "outputs": [
    {
     "data": {
      "text/plain": [
       "186"
      ]
     },
     "execution_count": 15,
     "metadata": {},
     "output_type": "execute_result"
    }
   ],
   "source": [
    "def parse_document_data(inp):\n",
    "    inp = inp.read().split('\\n\\n')\n",
    "    return [re.findall(r'(\\S+):(\\S+)[\\s]*', e) for e in inp]\n",
    "\n",
    "def document_is_valid(inp, *items):\n",
    "    for item in items:\n",
    "        if item not in list(zip(*inp))[0]:\n",
    "            return False\n",
    "    for element in inp:\n",
    "        if element[0] == 'byr' and not (1920 <= int(element[1]) <= 2002) and len(element[1]) == 4:\n",
    "            return False\n",
    "        if element[0] == 'iyr' and not (2010 <= int(element[1]) <= 2020) and len(element[1]) == 4:\n",
    "            #print(element)\n",
    "            return False\n",
    "        if element[0] == 'eyr' and not (2020 <= int(element[1]) <= 2030) and len(element[1]) == 4:\n",
    "            #print(element)\n",
    "            return False\n",
    "        if element[0] == 'hgt':\n",
    "            hgt = re.findall(r'([0-9]+)(\\w*)', element[1])[0]\n",
    "            if hgt[1] not in ['cm', 'in']:\n",
    "                #print(element)\n",
    "                return False\n",
    "            if hgt[1] == 'cm' and not (150 <= int(hgt[0]) <= 193):\n",
    "                #print(element)\n",
    "                return False\n",
    "            if hgt[1] == 'in' and not (59 <= int(hgt[0]) <= 76):\n",
    "                #print(element)\n",
    "                return False\n",
    "        if element[0] == 'hcl' and not re.findall(r'^#[0-9a-f]{6}$', element[1]): #Aangepast\n",
    "            #print(element)\n",
    "            return False\n",
    "        if element[0] == 'ecl' and element[1] not in ['amb', 'blu', 'brn', 'gry', 'grn', 'hzl', 'oth']:\n",
    "            #print(element)\n",
    "            return False\n",
    "        if element[0] == 'pid' and not re.match(r'^[0-9]{9}$', element[1]): #Aangepast\n",
    "            #print(element)\n",
    "            return False\n",
    "    return True\n",
    "\n",
    "def process_documents(inp):\n",
    "    inp = parse_document_data(inp)\n",
    "    for i, document in enumerate(inp):\n",
    "        inp[i] = document_is_valid(document, 'byr', 'iyr', 'eyr', 'hgt', 'hcl', 'ecl', 'pid')\n",
    "    return inp\n",
    "    \n",
    "sum(process_documents(Input('04')))"
   ]
  },
  {
   "cell_type": "markdown",
   "metadata": {},
   "source": [
    "## [Day 5: Binary Boarding](https://adventofcode.com/2020/day/5)\n",
    "\n",
    "You board your plane only to discover a new problem: you dropped your boarding pass! You aren't sure which seat is yours, and all of the flight attendants are busy with the flood of people that suddenly made it through passport control."
   ]
  },
  {
   "cell_type": "code",
   "execution_count": 16,
   "metadata": {},
   "outputs": [
    {
     "data": {
      "text/plain": [
       "357"
      ]
     },
     "execution_count": 16,
     "metadata": {},
     "output_type": "execute_result"
    }
   ],
   "source": [
    "def find_seat(boarding_pass, rows=128, columns=8):\n",
    "    rows = list(range(rows))\n",
    "    columns = list(range(columns))\n",
    "    for e in boarding_pass:\n",
    "        if e == 'F':\n",
    "            rows = rows[:len(rows) // 2]\n",
    "        if e == 'B':\n",
    "            rows = rows[len(rows) // 2:]\n",
    "        if e =='L':\n",
    "            columns = columns[:len(columns) // 2]\n",
    "        if e =='R':\n",
    "            columns = columns[len(columns) // 2:]\n",
    "            \n",
    "    return rows[0], columns[0]\n",
    "    \n",
    "def seat_code(boarding_pass, rows=128, columns=8):\n",
    "    row, column = find_seat(boarding_pass, rows, columns)\n",
    "    return row * 8 + column\n",
    "\n",
    "seat_code('FBFBBFFRLR')"
   ]
  },
  {
   "cell_type": "code",
   "execution_count": 17,
   "metadata": {},
   "outputs": [
    {
     "ename": "NameError",
     "evalue": "name 'j' is not defined",
     "output_type": "error",
     "traceback": [
      "\u001b[1;31m---------------------------------------------------------------------------\u001b[0m",
      "\u001b[1;31mNameError\u001b[0m                                 Traceback (most recent call last)",
      "\u001b[1;32m<timed exec>\u001b[0m in \u001b[0;36m<module>\u001b[1;34m\u001b[0m\n",
      "\u001b[1;31mNameError\u001b[0m: name 'j' is not defined"
     ]
    }
   ],
   "source": [
    "%%time\n",
    "\n",
    "for e in sorted([seat_code(boarding_pass) for boarding_pass in Input('05').read().split('\\n')]):\n",
    "    if e != j + 1 or not j:\n",
    "        print(j+1)\n",
    "    j = int(e)"
   ]
  },
  {
   "cell_type": "markdown",
   "metadata": {},
   "source": [
    "#### Part 2:\n",
    "\n",
    "Seeing online that I could interpret te string as a binary number I wanted to give that a try. It is a lot quicker too."
   ]
  },
  {
   "cell_type": "code",
   "execution_count": 18,
   "metadata": {},
   "outputs": [
    {
     "name": "stdout",
     "output_type": "stream",
     "text": [
      "579\n",
      "Wall time: 7 ms\n"
     ]
    }
   ],
   "source": [
    "%%time\n",
    "\n",
    "def code_to_binary(code):\n",
    "    binaries = {'F': '0', 'B': '1', 'L': '0', 'R': '1'}\n",
    "    binary = ''\n",
    "    for e in code:\n",
    "        binary += binaries[e]\n",
    "    return binary\n",
    "\n",
    "for i, e in enumerate(sorted([int(code_to_binary(e), 2) for e in Input('05').read().strip().split('\\n')])):\n",
    "    if i > 0 and e != f + 1:\n",
    "        print(f + 1)\n",
    "    f = e"
   ]
  },
  {
   "cell_type": "code",
   "execution_count": 19,
   "metadata": {},
   "outputs": [
    {
     "name": "stdout",
     "output_type": "stream",
     "text": [
      "579\n",
      "Wall time: 7 ms\n"
     ]
    }
   ],
   "source": [
    "%%time\n",
    "\n",
    "j = -5 \n",
    "\n",
    "def translate_code(code):\n",
    "    return int(code.replace('F', '0').replace('B', '1').replace('L', '0').replace('R', '1'), 2)\n",
    "\n",
    "for i in sorted([translate_code(e) for e in Input('05').read().strip().split('\\n')]):\n",
    "    if i - j == 2:\n",
    "        print(j + 1)\n",
    "    j = int(i)\n",
    "        "
   ]
  },
  {
   "cell_type": "markdown",
   "metadata": {},
   "source": [
    "## [Day 6: Custom Customs](Day 6: Custom Customs)\n",
    "\n",
    "As your flight approaches the regional airport where you'll switch to a much larger plane, customs declaration forms are distributed to the passengers.\n",
    "\n",
    "The form asks a series of 26 yes-or-no questions marked a through z. All you need to do is identify the questions for which anyone in your group answers \"yes\". Since your group is just you, this doesn't take very long.\n",
    "\n",
    "However, the person sitting next to you seems to be experiencing a language barrier and asks if you can help. For each of the people in their group, you write down the questions for which they answer \"yes\", one per line."
   ]
  },
  {
   "cell_type": "code",
   "execution_count": 20,
   "metadata": {
    "slideshow": {
     "slide_type": "slide"
    }
   },
   "outputs": [
    {
     "data": {
      "text/plain": [
       "6612"
      ]
     },
     "execution_count": 20,
     "metadata": {},
     "output_type": "execute_result"
    }
   ],
   "source": [
    "i = Input('06').read()\n",
    "#i = 'abc\\n\\na\\nb\\nc\\n\\nab\\nac\\n\\na\\na\\na\\na\\n\\nb'\n",
    "\n",
    "sum([len(set(e.replace('\\n', ''))) for e in i.strip().split('\\n\\n')])"
   ]
  },
  {
   "cell_type": "code",
   "execution_count": 21,
   "metadata": {},
   "outputs": [
    {
     "name": "stdout",
     "output_type": "stream",
     "text": [
      "Wall time: 5 ms\n"
     ]
    },
    {
     "data": {
      "text/plain": [
       "3268"
      ]
     },
     "execution_count": 21,
     "metadata": {},
     "output_type": "execute_result"
    }
   ],
   "source": [
    "%%time\n",
    "\n",
    "i = 'abc\\n\\na\\nb\\nc\\n\\nab\\nac\\n\\na\\na\\na\\na\\n\\nb'\n",
    "i = Input('06').read()\n",
    "t = [e.split('\\n') for e in i.strip().split('\\n\\n')]\n",
    "total = 0\n",
    "\n",
    "for e in t:\n",
    "    temp = set(e[0])\n",
    "    \n",
    "    while len(e) > 1:\n",
    "        temp = temp.intersection(e.pop())\n",
    "    #print(temp)\n",
    "    total += len(temp)\n",
    "total"
   ]
  },
  {
   "cell_type": "markdown",
   "metadata": {},
   "source": [
    "## [Day 7: Handy Haversacks](https://adventofcode.com/2020/day/7)\n",
    "\n",
    "You land at the regional airport in time for your next flight. In fact, it looks like you'll even have time to grab some food: all flights are currently delayed due to issues in luggage processing.\n",
    "\n",
    "Due to recent aviation regulations, many rules (your puzzle input) are being enforced about bags and their contents; bags must be color-coded and must contain specific quantities of other color-coded bags. Apparently, nobody responsible for these regulations considered how long they would take to enforce!"
   ]
  },
  {
   "cell_type": "code",
   "execution_count": 22,
   "metadata": {
    "slideshow": {
     "slide_type": "slide"
    }
   },
   "outputs": [
    {
     "name": "stdout",
     "output_type": "stream",
     "text": [
      "222\n",
      "Wall time: 33 ms\n"
     ]
    }
   ],
   "source": [
    "%%time\n",
    "\n",
    "rules = {}\n",
    "\n",
    "inp = Input('07').read().strip().split('\\n')\n",
    "#inp = 'light red bags contain 1 bright white bag, 2 muted yellow bags.\\ndark orange bags contain 3 bright white bags, 4 muted yellow bags.\\nbright white bags contain 1 shiny gold bag.\\nmuted yellow bags contain 2 shiny gold bags, 9 faded blue bags.\\nshiny gold bags contain 1 dark olive bag, 2 vibrant plum bags.\\ndark olive bags contain 3 faded blue bags, 4 dotted black bags.\\nvibrant plum bags contain 5 faded blue bags, 6 dotted black bags.\\nfaded blue bags contain no other bags.\\ndotted black bags contain no other bags.'.split('\\n')\n",
    "\n",
    "for e in inp:\n",
    "    tmp = e.split('bags contain ')\n",
    "    elements = re.findall(r'\\d+\\s(\\w+\\s\\w+)+.', tmp[1])\n",
    "    for element in elements:\n",
    "        rules.setdefault(element, []).append(tmp[0].strip())\n",
    "\n",
    "#print(rules)        \n",
    "        \n",
    "tree = []\n",
    "for e in rules['shiny gold']:\n",
    "    tree.append(e)\n",
    "    \n",
    "for e in tree:\n",
    "    if e in rules:\n",
    "        for f in rules[e]:\n",
    "            if f not in tree:\n",
    "                tree.append(f)\n",
    "            \n",
    "print(len(tree))"
   ]
  },
  {
   "cell_type": "code",
   "execution_count": 23,
   "metadata": {},
   "outputs": [
    {
     "data": {
      "text/plain": [
       "{}"
      ]
     },
     "execution_count": 23,
     "metadata": {},
     "output_type": "execute_result"
    }
   ],
   "source": [
    "inp = 'light red bags contain 1 bright white bag, 2 muted yellow bags.\\ndark orange bags contain 3 bright white bags, 4 muted yellow bags.\\nbright white bags contain 1 shiny gold bag.\\nmuted yellow bags contain 2 shiny gold bags, 9 faded blue bags.\\nshiny gold bags contain 1 dark olive bag, 2 vibrant plum bags.\\ndark olive bags contain 3 faded blue bags, 4 dotted black bags.\\nvibrant plum bags contain 5 faded blue bags, 6 dotted black bags.\\nfaded blue bags contain no other bags.\\ndotted black bags contain no other bags.'.split('\\n')\n",
    "\n",
    "def build_rules(string):\n",
    "    rules = {}\n",
    "    return rules\n",
    "\n",
    "build_rules(inp)"
   ]
  },
  {
   "cell_type": "code",
   "execution_count": 24,
   "metadata": {},
   "outputs": [
    {
     "name": "stdout",
     "output_type": "stream",
     "text": [
      "13265\n",
      "Wall time: 12.3 ms\n"
     ]
    }
   ],
   "source": [
    "%%time\n",
    "\n",
    "rules = {}\n",
    "\n",
    "inp = Input('07').read().strip().split('\\n')\n",
    "#inp = 'light red bags contain 1 bright white bag, 2 muted yellow bags.\\ndark orange bags contain 3 bright white bags, 4 muted yellow bags.\\nbright white bags contain 1 shiny gold bag.\\nmuted yellow bags contain 2 shiny gold bags, 9 faded blue bags.\\nshiny gold bags contain 1 dark olive bag, 2 vibrant plum bags.\\ndark olive bags contain 3 faded blue bags, 4 dotted black bags.\\nvibrant plum bags contain 5 faded blue bags, 6 dotted black bags.\\nfaded blue bags contain no other bags.\\ndotted black bags contain no other bags.'.split('\\n')\n",
    "#inp = 'shiny gold bags contain 2 dark red bags.\\ndark red bags contain 2 dark orange bags.\\ndark orange bags contain 2 dark yellow bags.\\ndark yellow bags contain 2 dark green bags.\\ndark green bags contain 2 dark blue bags.\\ndark blue bags contain 2 dark violet bags.\\ndark violet bags contain no other bags.'.split('\\n')\n",
    "\n",
    "for e in inp:\n",
    "    tmp = e.split('bags contain ')\n",
    "    elements = re.findall(r'(\\d+\\s\\w+\\s\\w+)+.', tmp[1])\n",
    "    for element in elements:\n",
    "        element = re.findall(r'(\\d+)\\s(\\w+\\s\\w+)', element)\n",
    "        rules.setdefault(tmp[0].strip(), []).append([element[0][1], element[0][0]])\n",
    "\n",
    "#print(rules)\n",
    "\n",
    "tree = [['shiny gold', 1]]\n",
    "\n",
    "i = 0\n",
    "\n",
    "while len(tree) > i:\n",
    "    try:\n",
    "        number = tree[i][1]\n",
    "        bags = rules[tree[i][0]]\n",
    "        for bag in bags:\n",
    "            tree.append([bag[0], int(bag[1]) * number])\n",
    "            #print(tree)\n",
    "    except:\n",
    "        pass\n",
    "    i += 1\n",
    "#print(list(zip(*tree))[1])\n",
    "print(sum(list(zip(*tree))[1]))"
   ]
  },
  {
   "cell_type": "markdown",
   "metadata": {},
   "source": [
    "## [Day 8: Handheld Halting](https://adventofcode.com/2020/day/8)\n",
    "\n",
    "Their handheld game console won't turn on! They ask if you can take a look.\n",
    "\n",
    "You narrow the problem down to a strange infinite loop in the boot code (your puzzle input) of the device. You should be able to fix it, but first you need to be able to run the code in isolation."
   ]
  },
  {
   "cell_type": "code",
   "execution_count": 25,
   "metadata": {},
   "outputs": [
    {
     "name": "stdout",
     "output_type": "stream",
     "text": [
      "Wall time: 19 ms\n"
     ]
    },
    {
     "data": {
      "text/plain": [
       "1475"
      ]
     },
     "execution_count": 25,
     "metadata": {},
     "output_type": "execute_result"
    }
   ],
   "source": [
    "%%time\n",
    "\n",
    "accumulator = 0\n",
    "instructions = [e.split() for e in Input('08').read().split('\\n')]\n",
    "instructions_executed = []\n",
    "\n",
    "i = 0\n",
    "\n",
    "while i not in instructions_executed:\n",
    "    instructions_executed.append(i)\n",
    "    op = instructions[i][0]\n",
    "    value = int(instructions[i][1])\n",
    "    if op == 'acc':\n",
    "        i += 1\n",
    "        accumulator += value\n",
    "    elif op == 'jmp':\n",
    "        i += value\n",
    "    else:\n",
    "        i += 1\n",
    "\n",
    "accumulator"
   ]
  },
  {
   "cell_type": "code",
   "execution_count": 26,
   "metadata": {},
   "outputs": [
    {
     "name": "stdout",
     "output_type": "stream",
     "text": [
      "Wall time: 4 ms\n"
     ]
    },
    {
     "data": {
      "text/plain": [
       "1475"
      ]
     },
     "execution_count": 26,
     "metadata": {},
     "output_type": "execute_result"
    }
   ],
   "source": [
    "%%time\n",
    "\n",
    "def operator(opcode, value):\n",
    "    if opcode == 'nop':\n",
    "        return 1, None\n",
    "    elif opcode == 'jmp':\n",
    "        return value, None\n",
    "    else:\n",
    "        return 1, value\n",
    "    \n",
    "def parse_instructions(inp_string):\n",
    "    return [e.split() for e in inp_string.split('\\n')]\n",
    "\n",
    "def boot(instructions):\n",
    "    instructions = parse_instructions(instructions)\n",
    "    i = 0\n",
    "    acc = 0\n",
    "    executed = []\n",
    "    while i not in executed:\n",
    "        executed.append(i)\n",
    "        opcode = instructions[i][0]\n",
    "        value = int(instructions[i][1])\n",
    "        di, dacc = operator(opcode, value)\n",
    "        i += di\n",
    "        try:\n",
    "            acc += dacc\n",
    "        except:\n",
    "            pass\n",
    "    return acc\n",
    "\n",
    "boot(Input('08').read())"
   ]
  },
  {
   "cell_type": "code",
   "execution_count": 27,
   "metadata": {},
   "outputs": [
    {
     "name": "stdout",
     "output_type": "stream",
     "text": [
      "Wall time: 149 ms\n"
     ]
    },
    {
     "data": {
      "text/plain": [
       "1270"
      ]
     },
     "execution_count": 27,
     "metadata": {},
     "output_type": "execute_result"
    }
   ],
   "source": [
    "%%time\n",
    "\n",
    "def boot(inp):\n",
    "    instructions = parse_instructions(inp)\n",
    "    #print(instructions)\n",
    "    \n",
    "    for j in range(len(instructions)):\n",
    "        #print(j)\n",
    "        i = 0\n",
    "        acc = 0\n",
    "        executed = []\n",
    "        if instructions[j][0] == 'acc':\n",
    "            exit\n",
    "        \n",
    "        while i not in executed:\n",
    "            #print('j: ' + str(j) + ', i: ' + str(i) + ', ' + str(acc))\n",
    "            if i == len(instructions):\n",
    "                return acc\n",
    "                break\n",
    "            executed.append(i)\n",
    "            if i != j:\n",
    "                opcode = instructions[i][0]\n",
    "            else:\n",
    "                if instructions[i][0] == 'nop':\n",
    "                    opcode = 'jmp'\n",
    "                else:\n",
    "                    opcode = 'nop'\n",
    "            value = int(instructions[i][1])\n",
    "            di, dacc = operator(opcode, value)\n",
    "            i += di\n",
    "            try:\n",
    "                acc += dacc\n",
    "            except:\n",
    "                pass\n",
    "        \n",
    "        \n",
    "inp = Input('08').read().strip()\n",
    "#inp = 'nop +0\\nacc +1\\njmp +4\\nacc +3\\njmp -3\\nacc -99\\nacc +1\\njmp -4\\nacc +6'\n",
    "boot(inp)"
   ]
  },
  {
   "cell_type": "markdown",
   "metadata": {},
   "source": [
    "## [Day 9: Encoding Error](https://adventofcode.com/2020/day/9)\n",
    "\n"
   ]
  },
  {
   "cell_type": "code",
   "execution_count": 28,
   "metadata": {},
   "outputs": [
    {
     "name": "stdout",
     "output_type": "stream",
     "text": [
      "Wall time: 64 ms\n"
     ]
    },
    {
     "data": {
      "text/plain": [
       "756008079"
      ]
     },
     "execution_count": 28,
     "metadata": {},
     "output_type": "execute_result"
    }
   ],
   "source": [
    "%%time\n",
    "\n",
    "xmas = [int(e) for e in Input('09').read().strip().split('\\n')]\n",
    "#xmas = [int(e) for e in '35\\n20\\n15\\n25\\n47\\n40\\n62\\n55\\n65\\n95\\n102\\n117\\n150\\n182\\n127\\n219\\n299\\n277\\n309\\n576'.strip().split('\\n')]\n",
    "\n",
    "def non_valid(lst, preamble):\n",
    "    for e in range(preamble, len(lst)):\n",
    "        sums = [sum(e) for e in itertools.combinations(xmas[e-preamble:e], 2)]\n",
    "        if xmas[e] not in sums:\n",
    "            return xmas[e]\n",
    "\n",
    "non_valid(xmas, 25)"
   ]
  },
  {
   "cell_type": "code",
   "execution_count": 29,
   "metadata": {},
   "outputs": [
    {
     "name": "stdout",
     "output_type": "stream",
     "text": [
      "Wall time: 716 ms\n"
     ]
    },
    {
     "data": {
      "text/plain": [
       "93727241"
      ]
     },
     "execution_count": 29,
     "metadata": {},
     "output_type": "execute_result"
    }
   ],
   "source": [
    "%%time\n",
    "\n",
    "def find_weakness(lst, preamble):\n",
    "    non_valid_number = non_valid(xmas, preamble)\n",
    "    for e in range(len(lst)):\n",
    "        for f in range(e + 1, len(lst)):\n",
    "            if sum(lst[e:f]) == non_valid_number:\n",
    "                return min(lst[e:f]) + max(lst[e:f])\n",
    "            elif sum(lst[e:f]) > non_valid_number:\n",
    "                break\n",
    "                \n",
    "#xmas = [int(e) for e in '35\\n20\\n15\\n25\\n47\\n40\\n62\\n55\\n65\\n95\\n102\\n117\\n150\\n182\\n127\\n219\\n299\\n277\\n309\\n576'.strip().split('\\n')]\n",
    "\n",
    "find_weakness(xmas, 25)"
   ]
  },
  {
   "cell_type": "markdown",
   "metadata": {},
   "source": [
    "## [Day 10: Adapter Array](https://adventofcode.com/2020/day/10)"
   ]
  },
  {
   "cell_type": "code",
   "execution_count": 30,
   "metadata": {},
   "outputs": [
    {
     "data": {
      "text/plain": [
       "3000"
      ]
     },
     "execution_count": 30,
     "metadata": {},
     "output_type": "execute_result"
    }
   ],
   "source": [
    "adapters = sorted([int(e) for e in Input('10').read().strip().split('\\n')])\n",
    "#adapters = sorted([int(e) for e in '28\\n33\\n18\\n42\\n31\\n14\\n46\\n20\\n48\\n47\\n24\\n23\\n49\\n45\\n19\\n38\\n39\\n11\\n1\\n32\\n25\\n35\\n8\\n17\\n7\\n9\\n4\\n2\\n34\\n10\\n3'.strip().split('\\n')])\n",
    "adapters = [adapters[0]] + [j - i for i, j in zip(adapters[:-1], adapters[1:])] + [3]\n",
    "\n",
    "adapters.count(1) * adapters.count(3)"
   ]
  },
  {
   "cell_type": "code",
   "execution_count": 31,
   "metadata": {
    "scrolled": true
   },
   "outputs": [
    {
     "data": {
      "text/plain": [
       "193434623148032"
      ]
     },
     "execution_count": 31,
     "metadata": {},
     "output_type": "execute_result"
    }
   ],
   "source": [
    "adapters = [int(e) for e in '16\\n10\\n15\\n5\\n1\\n11\\n7\\n19\\n6\\n12\\n4'.strip().split('\\n')]\n",
    "adapters = [int(e) for e in '28\\n33\\n18\\n42\\n31\\n14\\n46\\n20\\n48\\n47\\n24\\n23\\n49\\n45\\n19\\n38\\n39\\n11\\n1\\n32\\n25\\n35\\n8\\n17\\n7\\n9\\n4\\n2\\n34\\n10\\n3'.strip().split('\\n')]\n",
    "adapters = [int(e) for e in Input('10').read().strip().split('\\n')]\n",
    "adapters = sorted([0] + adapters)[::-1]\n",
    "\n",
    "links ={}\n",
    "for i, e in enumerate(adapters):\n",
    "    links[e] = []\n",
    "    for f in adapters[i + 1:]:\n",
    "        if e - f <=3:\n",
    "            links[e].append(f)\n",
    "        else:\n",
    "            break\n",
    "            \n",
    "path = {0: 1}\n",
    "for e in sorted(adapters):\n",
    "    if e not in path:\n",
    "        s = 0\n",
    "        for f in links[e]:\n",
    "            s += path[f]\n",
    "        path[e] = s\n",
    "max(path.values())"
   ]
  },
  {
   "cell_type": "markdown",
   "metadata": {},
   "source": [
    "## [Day 11: Seating System](https://adventofcode.com/2020/day/11)\n",
    "\n",
    "Now, you just need to model the people who will be arriving shortly. Fortunately, people are entirely predictable and always follow a simple set of rules. All decisions are based on the number of occupied seats adjacent to a given seat (one of the eight positions immediately up, down, left, right, or diagonal from the seat)."
   ]
  },
  {
   "cell_type": "code",
   "execution_count": 221,
   "metadata": {},
   "outputs": [
    {
     "name": "stdout",
     "output_type": "stream",
     "text": [
      "Wall time: 2.91 s\n"
     ]
    },
    {
     "data": {
      "text/plain": [
       "2265"
      ]
     },
     "execution_count": 221,
     "metadata": {},
     "output_type": "execute_result"
    }
   ],
   "source": [
    "%%time\n",
    "\n",
    "import copy\n",
    "\n",
    "def neighbors8(point):\n",
    "    x, y = point\n",
    "    \"The eight neighboring squares.\"\n",
    "    return [(x-1, y-1), (x, y-1), (x+1, y-1),\n",
    "            (x-1, y),             (x+1, y),\n",
    "            (x-1, y+1), (x, y+1), (x+1, y+1)]\n",
    "\n",
    "def neighbors_value(point, grid):\n",
    "    maxx = len(grid[0]) - 1\n",
    "    maxy = len(grid) - 1\n",
    "    neighbors = neighbors8(point)\n",
    "    for i, e in enumerate(neighbors):\n",
    "        x, y = (e)\n",
    "        if 0 <= x <= maxx and 0 <= y <= maxy:\n",
    "            neighbors[i] = grid[y][x]\n",
    "        else:\n",
    "            neighbors[i] = 0\n",
    "    return neighbors.count('T')\n",
    "    \n",
    "points = 'L.LL.LL.LL\\nLLLLLLL.LL\\nL.L.L..L..\\nLLLL.LL.LL\\nL.LL.LL.LL\\nL.LLLLL.LL\\n..L.L.....\\nLLLLLLLLLL\\nL.LLLLLL.L\\nL.LLLLL.LL'.strip().split('\\n')\n",
    "points = Input('11').read().strip().split('\\n')\n",
    "\n",
    "points = [list(e) for e in points]\n",
    "tmp = [['.'] * len(points[0])] * len(points)\n",
    "#print(points)\n",
    "while tmp != points:\n",
    "    tmp = copy.deepcopy(points)\n",
    "    for a, row in enumerate(points):\n",
    "        for b, col in enumerate(row):\n",
    "\n",
    "            point = (b, a)\n",
    "            if tmp[a][b] == 'T' and neighbors_value(point, tmp) >= 4:\n",
    "                points[a][b] = 'L'\n",
    "            if tmp[a][b] == 'L' and neighbors_value(point, tmp) == 0:\n",
    "                points[a][b] = 'T'\n",
    "\n",
    "sum([e.count('T') for e in points])"
   ]
  },
  {
   "cell_type": "code",
   "execution_count": 224,
   "metadata": {},
   "outputs": [
    {
     "data": {
      "text/plain": [
       "2045"
      ]
     },
     "execution_count": 224,
     "metadata": {},
     "output_type": "execute_result"
    }
   ],
   "source": [
    "#points = 'L.LL.LL.LL\\nLLLLLLL.LL\\nL.L.L..L..\\nLLLL.LL.LL\\nL.LL.LL.LL\\nL.LLLLL.LL\\n..L.L.....\\nLLLLLLLLLL\\nL.LLLLLL.L\\nL.LLLLL.LL'.strip().split('\\n')\n",
    "points = Input('11').read().strip().split('\\n')\n",
    "points = [list(e) for e in points]\n",
    "directions = [-1, -1], [-1, 0], [-1, 1], [0, 1], [1, 1], [1, 0], [1, -1], [0, -1]\n",
    "\n",
    "def new_position(point, direction):\n",
    "    return [x + y for x, y in list(zip(point, direction))]\n",
    "\n",
    "def list_of_seats(grid, code):\n",
    "    list_of_seats = []\n",
    "    for a in range(len(grid)):\n",
    "        for b in range(len(grid[0])):\n",
    "            if grid[a][b] == code:\n",
    "                list_of_seats.append([a, b])\n",
    "    return list_of_seats\n",
    "                \n",
    "\n",
    "def find_neighbors(grid, directions):\n",
    "    neighbors = {}\n",
    "    seats = list_of_seats(grid, 'L')\n",
    "    for seat in seats:\n",
    "        tmp = []\n",
    "        for direction in directions:\n",
    "            new_pos = copy.deepcopy(seat)\n",
    "            while True:\n",
    "                new_pos = new_position(new_pos, direction)\n",
    "                if 0 > new_pos[0] or new_pos[0] >= len(grid):\n",
    "                    break\n",
    "                if 0 > new_pos[1] or new_pos[1] >= len(grid[0]):\n",
    "                    break\n",
    "                \n",
    "                if new_pos in seats:\n",
    "                    tmp.append(new_pos)\n",
    "                    break\n",
    "                \n",
    "        neighbors[str(seat)] = tmp\n",
    "            \n",
    "    return neighbors        \n",
    "\n",
    "list_neighbors = find_neighbors(points, directions)\n",
    "seats = list_of_seats(points, 'L')\n",
    "tmp = [['.'] * len(points[0])] * len(points)\n",
    "\n",
    "while tmp != points:\n",
    "    #print(points)\n",
    "    tmp = copy.deepcopy(points)\n",
    "    for seat in seats:\n",
    "        a, b = seat\n",
    "        neighbors = list_neighbors[str(seat)]\n",
    "        score = [tmp[a][b] for a, b in neighbors].count('T')\n",
    "        if tmp[a][b] == 'L' and score == 0:\n",
    "            points[a][b] = 'T'\n",
    "        elif tmp[a][b] == 'T' and score >= 5:\n",
    "            points[a][b] = 'L'\n",
    "\n",
    "sum([e.count('T') for e in points])\n"
   ]
  },
  {
   "cell_type": "markdown",
   "metadata": {},
   "source": [
    "## [Day 12: Rain Risk](https://adventofcode.com/2020/day/12)\n",
    "\n",
    "Your ferry made decent progress toward the island, but the storm came in faster than anyone expected. The ferry needs to take evasive actions!\n",
    "\n",
    "Unfortunately, the ship's navigation computer seems to be malfunctioning; rather than giving a route directly to safety, it produced extremely circuitous instructions. When the captain uses the PA system to ask if anyone can help, you quickly volunteer."
   ]
  },
  {
   "cell_type": "code",
   "execution_count": 302,
   "metadata": {},
   "outputs": [
    {
     "data": {
      "text/plain": [
       "1645.0"
      ]
     },
     "execution_count": 302,
     "metadata": {},
     "output_type": "execute_result"
    }
   ],
   "source": [
    "Point = complex\n",
    "headings = {'N': 1j, 'S': -1j, 'E': 1, 'W': -1, 'R': -1j, 'L': 1j}\n",
    "\n",
    "def distance(point):\n",
    "    return abs(point.real) + abs(point.imag)\n",
    "\n",
    "def how_far(moves):\n",
    "    loc, heading = 0, E\n",
    "    for turn, dist in parse(moves):\n",
    "        if turn == 'R' or turn == 'L':\n",
    "            for i in range(int(dist/90)):\n",
    "                heading *= headings[turn]\n",
    "        elif turn == 'F':\n",
    "            loc += heading * dist\n",
    "        else:\n",
    "            loc += headings[turn] * dist\n",
    "        #print(loc, heading)\n",
    "    return distance(loc)\n",
    "\n",
    "def parse(text):\n",
    "    turns = []\n",
    "    return [(turn, int(d)) for (turn, d) in re.findall(r'(\\w)(\\d+)', text)]\n",
    "\n",
    "how_far('F10\\nN3\\nF7\\nR90\\nF11')\n",
    "how_far(Input('12').read())"
   ]
  },
  {
   "cell_type": "code",
   "execution_count": 5,
   "metadata": {},
   "outputs": [
    {
     "data": {
      "text/plain": [
       "35292.0"
      ]
     },
     "execution_count": 5,
     "metadata": {},
     "output_type": "execute_result"
    }
   ],
   "source": [
    "Point = complex\n",
    "headings = {'N': 1j, 'S': -1j, 'E': 1, 'W': -1, 'R': -1j, 'L': 1j}\n",
    "\n",
    "def distance(point1):\n",
    "    return abs(point1.real) + abs(point1.imag)\n",
    "\n",
    "def how_far(moves):\n",
    "    loc, heading = 0, 1\n",
    "    loc1 = (10 + 1j)\n",
    "    for turn, dist in parse(moves):\n",
    "        if turn == 'R' or turn == 'L':\n",
    "            loc1 = rotate(loc1, -dist if turn == \"R\" else dist)\n",
    "        elif turn == 'F':\n",
    "            loc += dist * (loc1)\n",
    "        else:\n",
    "            loc1 += headings[turn] * dist\n",
    "        #print(loc, loc1)\n",
    "    return distance(loc)\n",
    "\n",
    "def parse(text):\n",
    "    turns = []\n",
    "    return [(turn, int(d)) for (turn, d) in re.findall(r'(\\w)(\\d+)', text)]\n",
    "\n",
    "import math\n",
    "def rotate(number, degree):\n",
    "    n = number\n",
    "    return (math.e**(math.radians(degree)*1j)) * n\n",
    "\n",
    "how_far('F10\\nN3\\nF7\\nR90\\nF11')\n",
    "how_far(Input('12').read())"
   ]
  },
  {
   "cell_type": "markdown",
   "metadata": {},
   "source": [
    "## [Day 13: Shuttle Search](https://adventofcode.com/2020/day/13)"
   ]
  },
  {
   "cell_type": "code",
   "execution_count": 13,
   "metadata": {},
   "outputs": [
    {
     "data": {
      "text/plain": [
       "370"
      ]
     },
     "execution_count": 13,
     "metadata": {},
     "output_type": "execute_result"
    }
   ],
   "source": [
    "inp = Input('13').read().strip().split('\\n')\n",
    "#inp = '939\\n7,13,x,x,59,x,31,19'.strip().split('\\n')\n",
    "\n",
    "arrival = int(inp[0])\n",
    "schedule = [int(e) for e in inp[1].split(',') if e != 'x']\n",
    "first_bus = []\n",
    "\n",
    "for e in schedule:\n",
    "    if e != 'x':\n",
    "        diff = e - arrival % e\n",
    "        if not first_bus or first_bus[1] > diff:\n",
    "            first_bus = [e, diff]\n",
    "first_bus[0] * first_bus[1]\n"
   ]
  },
  {
   "cell_type": "code",
   "execution_count": 81,
   "metadata": {},
   "outputs": [
    {
     "name": "stdout",
     "output_type": "stream",
     "text": [
      "1418311189194 894954360381385\n"
     ]
    }
   ],
   "source": [
    "inp = Input('13').read().strip().split('\\n')\n",
    "#inp = '939\\n7,13,x,x,59,x,31,19'.strip().split('\\n')\n",
    "\n",
    "buses = sorted([[int(e), i] for i, e in enumerate(inp[1].split(',')) if e != 'x'])[::-1]\n",
    "\n",
    "i = 1418311189190\n",
    "diff = [1]\n",
    "\n",
    "while sum(diff) != 0:\n",
    "    diff = []\n",
    "    i += 1\n",
    "    time = buses[0][0] * i - buses[0][1]\n",
    "#     print(i, time)\n",
    "    for bus in buses[1:]:\n",
    "        diff.append((time + bus[1]) % bus[0])\n",
    "\n",
    "#     if i in range(18110, 18120):\n",
    "#         print(time)\n",
    "#         for bus in buses:\n",
    "#             print(bus, (time + bus[1]) % bus[0])\n",
    "    \n",
    "print(i, time)"
   ]
  },
  {
   "cell_type": "code",
   "execution_count": 66,
   "metadata": {},
   "outputs": [
    {
     "data": {
      "text/plain": [
       "894954360381385"
      ]
     },
     "execution_count": 66,
     "metadata": {},
     "output_type": "execute_result"
    }
   ],
   "source": [
    "inp = Input('13').read().strip().split('\\n')\n",
    "#inp = '939\\n7,13,x,x,59,x,31,19'.strip().split('\\n')\n",
    "\n",
    "schedule = [[i, int(e)] for i, e in enumerate(inp[1].split(',')) if e != 'x']\n",
    "schedule\n",
    "t = 0\n",
    "m = 1\n",
    "for (i, p) in schedule:\n",
    "    while (t + i) % p:\n",
    "        t += m\n",
    "    m *= p\n",
    "t"
   ]
  },
  {
   "cell_type": "markdown",
   "metadata": {},
   "source": [
    "## []()"
   ]
  },
  {
   "cell_type": "code",
   "execution_count": 68,
   "metadata": {},
   "outputs": [
    {
     "data": {
      "text/plain": [
       "[[0, 29],\n",
       " [23, 37],\n",
       " [29, 631],\n",
       " [47, 13],\n",
       " [48, 19],\n",
       " [52, 23],\n",
       " [60, 383],\n",
       " [70, 41],\n",
       " [77, 17]]"
      ]
     },
     "execution_count": 68,
     "metadata": {},
     "output_type": "execute_result"
    }
   ],
   "source": [
    "\n"
   ]
  }
 ],
 "metadata": {
  "kernelspec": {
   "display_name": "Python 3 (ipykernel)",
   "language": "python",
   "name": "python3"
  },
  "language_info": {
   "codemirror_mode": {
    "name": "ipython",
    "version": 3
   },
   "file_extension": ".py",
   "mimetype": "text/x-python",
   "name": "python",
   "nbconvert_exporter": "python",
   "pygments_lexer": "ipython3",
   "version": "3.11.6"
  }
 },
 "nbformat": 4,
 "nbformat_minor": 4
}

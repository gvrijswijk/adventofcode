{
 "cells": [
  {
   "cell_type": "code",
   "execution_count": 2,
   "metadata": {},
   "outputs": [],
   "source": [
    "import re, itertools, functools\n",
    "import numpy as np\n",
    "\n",
    "def Input(day, year=2017):\n",
    "    directory = '{}'.format(year)\n",
    "    filename = directory + '/input{}.txt'.format(day)\n",
    "    return open(filename)"
   ]
  },
  {
   "cell_type": "markdown",
   "metadata": {},
   "source": [
    "## [Day 22: Sporifica Virus](https://adventofcode.com/2017/day/22)"
   ]
  },
  {
   "cell_type": "code",
   "execution_count": 3,
   "metadata": {
    "scrolled": true
   },
   "outputs": [
    {
     "name": "stdout",
     "output_type": "stream",
     "text": [
      "Part 1: 5352\n",
      "Part 2: 2511475\n",
      "CPU times: user 38.9 s, sys: 500 ms, total: 39.4 s\n",
      "Wall time: 42.6 s\n"
     ]
    }
   ],
   "source": [
    "%%time\n",
    "\n",
    "HEADINGS = UP, LEFT, DOWN, RIGHT = (0, -1), (-1, 0), (0, 1), (1, 0)\n",
    "def turn_right(heading): return HEADINGS[HEADINGS.index(heading) - 1]\n",
    "def turn_around(heading):return HEADINGS[HEADINGS.index(heading) - 2]\n",
    "def turn_left(heading):  return HEADINGS[HEADINGS.index(heading) - 3]\n",
    "\n",
    "i = [list(e.strip()) for e in Input('22').readlines()]\n",
    "#i = [list(e) for e in '..#\\n#..\\n...'.split('\\n')]\n",
    "\n",
    "infected = []\n",
    "\n",
    "for y in range(len(i)):\n",
    "    for x in range(len(i[y])):\n",
    "        if i[y][x] == '#':\n",
    "            infected.append((x, y))\n",
    "\n",
    "at_start = len(infected)            \n",
    "\n",
    "x = int(len(i[int(len(i) / 2)]) / 2)\n",
    "y = int(len(i) / 2)\n",
    "loc = (x, y)\n",
    "count = 0\n",
    "\n",
    "heading = UP\n",
    "\n",
    "for s in range(10000):\n",
    "    if loc in infected:\n",
    "        heading = turn_right(heading)\n",
    "        infected.remove(loc)\n",
    "    else:\n",
    "        heading = turn_left(heading)\n",
    "        infected.append(loc)\n",
    "        count += 1\n",
    "    loc = tuple(map(sum, zip(heading, loc)))\n",
    "\n",
    "print(\"Part 1: \" + str(count))\n",
    "\n",
    "state = {}\n",
    "\n",
    "for y in range(len(i)):\n",
    "    for x in range(len(i[y])):\n",
    "        if i[y][x] == '#':\n",
    "            state[(x, y)] = \"I\"\n",
    "\n",
    "x = int(len(i[int(len(i) / 2)]) / 2)\n",
    "y = int(len(i) / 2)\n",
    "loc = (x, y)\n",
    "count = 0\n",
    "            \n",
    "heading = UP\n",
    "\n",
    "for s in range(10000000):\n",
    "    try:\n",
    "        status = state[loc]\n",
    "    except:\n",
    "        status = \"C\"\n",
    "    if status == \"C\":\n",
    "        heading = turn_left(heading)\n",
    "        state[loc] = \"W\"\n",
    "    if status == \"W\":\n",
    "        state[loc] = \"I\"\n",
    "        count += 1\n",
    "    if status == \"I\":\n",
    "        heading = turn_right(heading)\n",
    "        state[loc] = \"F\"\n",
    "    if status == \"F\":\n",
    "        heading = turn_around(heading)\n",
    "        state[loc] = \"C\"\n",
    "    loc = tuple(map(sum, zip(heading, loc)))\n",
    "\n",
    "print(\"Part 2: \" + str(count))"
   ]
  },
  {
   "cell_type": "markdown",
   "metadata": {},
   "source": [
    "## [Day 23: Coprocessor Conflagration](https://adventofcode.com/2017/day/23)"
   ]
  },
  {
   "cell_type": "code",
   "execution_count": 8,
   "metadata": {},
   "outputs": [
    {
     "name": "stdout",
     "output_type": "stream",
     "text": [
      "Part 1: 5929\n",
      "CPU times: user 46.9 ms, sys: 0 ns, total: 46.9 ms\n",
      "Wall time: 57.2 ms\n"
     ]
    }
   ],
   "source": [
    "%%time\n",
    "\n",
    "i = [line.split(' ') for line in Input('23').read().strip().split('\\n')]\n",
    "\n",
    "registers = {'a': 0, 'b': 0, 'c': 0, 'd': 0, 'e': 0, 'f': 0, 'g': 0, 'h': 0}\n",
    "j = 0\n",
    "c = 0\n",
    "\n",
    "#print(i)\n",
    "\n",
    "while j < len(i):\n",
    "    e = i[j]\n",
    "    #print(j, e)\n",
    "    if e[0] == 'set':\n",
    "        try: registers[e[1]] = registers[e[2]]\n",
    "        except: registers[e[1]] = int(e[2])\n",
    "        j += 1\n",
    "    elif e[0] == 'sub':\n",
    "        try: registers[e[1]] -= registers[e[2]]\n",
    "        except: registers[e[1]] -= int(e[2])\n",
    "        j += 1\n",
    "    elif e[0] == 'mul':\n",
    "        try: registers[e[1]] *= registers[e[2]]\n",
    "        except: registers[e[1]] *= int(e[2])\n",
    "        c += 1\n",
    "        j += 1\n",
    "    elif e[0] == 'jnz':\n",
    "        try:\n",
    "            a = registers[e[1]]\n",
    "        except:\n",
    "            a = int(e[1])\n",
    "        if a == 0:\n",
    "            j+= 1\n",
    "        else:\n",
    "            j += int(e[2])\n",
    "        \n",
    "print(\"Part 1: \" + str(c))"
   ]
  },
  {
   "cell_type": "code",
   "execution_count": 10,
   "metadata": {},
   "outputs": [
    {
     "name": "stdout",
     "output_type": "stream",
     "text": [
      "Part 2: 907\n",
      "CPU times: user 906 ms, sys: 0 ns, total: 906 ms\n",
      "Wall time: 895 ms\n"
     ]
    }
   ],
   "source": [
    "%%time\n",
    "\n",
    "#https://www.reddit.com/r/adventofcode/comments/7mlhzc/2017_day_23_part_b_actual_optimized_code/ => Part B composite numbers\n",
    "\n",
    "h = 0\n",
    "\n",
    "b = 79\n",
    "b *= 100\n",
    "b += 100000\n",
    "\n",
    "def isComposite(_n):\n",
    "\ti = 2\n",
    "\twhile i < _n / 2:\n",
    "\t\tif _n % i == 0:\n",
    "\t\t\treturn True\n",
    "\t\ti += 1\n",
    "\treturn False\n",
    "\n",
    "for x in range(b, b+17001, 17):\n",
    "\tif isComposite(x):\n",
    "\t\th += 1\n",
    "\n",
    "print(\"Part 2: \" + str(h))"
   ]
  },
  {
   "cell_type": "code",
   "execution_count": null,
   "metadata": {},
   "outputs": [],
   "source": []
  }
 ],
 "metadata": {
  "kernelspec": {
   "display_name": "Python 3",
   "language": "python",
   "name": "python3"
  },
  "language_info": {
   "codemirror_mode": {
    "name": "ipython",
    "version": 3
   },
   "file_extension": ".py",
   "mimetype": "text/x-python",
   "name": "python",
   "nbconvert_exporter": "python",
   "pygments_lexer": "ipython3",
   "version": "3.6.9"
  }
 },
 "nbformat": 4,
 "nbformat_minor": 2
}

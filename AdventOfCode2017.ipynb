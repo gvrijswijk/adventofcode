{
 "cells": [
  {
   "cell_type": "code",
   "execution_count": 2,
   "metadata": {},
   "outputs": [],
   "source": [
    "import re, itertools, functools\n",
    "import numpy as np\n",
    "\n",
    "def Input(day, year=2017):\n",
    "    directory = '{}'.format(year)\n",
    "    filename = directory + '/input{}.txt'.format(day)\n",
    "    return open(filename)"
   ]
  },
  {
   "cell_type": "markdown",
   "metadata": {},
   "source": [
    "## [Day 22: Sporifica Virus](https://adventofcode.com/2017/day/22)"
   ]
  },
  {
   "cell_type": "code",
   "execution_count": null,
   "metadata": {},
   "outputs": [
    {
     "name": "stdout",
     "output_type": "stream",
     "text": [
      "Part 1: 5352\n"
     ]
    }
   ],
   "source": [
    "%%time\n",
    "\n",
    "HEADINGS = UP, LEFT, DOWN, RIGHT = (0, -1), (-1, 0), (0, 1), (1, 0)\n",
    "def turn_right(heading): return HEADINGS[HEADINGS.index(heading) - 1]\n",
    "def turn_around(heading):return HEADINGS[HEADINGS.index(heading) - 2]\n",
    "def turn_left(heading):  return HEADINGS[HEADINGS.index(heading) - 3]\n",
    "\n",
    "i = [list(e.strip()) for e in Input('22').readlines()]\n",
    "#i = [list(e) for e in '..#\\n#..\\n...'.split('\\n')]\n",
    "\n",
    "infected = []\n",
    "\n",
    "for y in range(len(i)):\n",
    "    for x in range(len(i[y])):\n",
    "        if i[y][x] == '#':\n",
    "            infected.append((x, y))\n",
    "\n",
    "at_start = len(infected)            \n",
    "\n",
    "x = int(len(i[int(len(i) / 2)]) / 2)\n",
    "y = int(len(i) / 2)\n",
    "loc = (x, y)\n",
    "count = 0\n",
    "\n",
    "heading = UP\n",
    "\n",
    "for s in range(10000):\n",
    "    if loc in infected:\n",
    "        heading = turn_right(heading)\n",
    "        infected.remove(loc)\n",
    "    else:\n",
    "        heading = turn_left(heading)\n",
    "        infected.append(loc)\n",
    "        count += 1\n",
    "    loc = tuple(map(sum, zip(heading, loc)))\n",
    "\n",
    "print(\"Part 1: \" + str(count))\n",
    "\n",
    "state = {}\n",
    "\n",
    "for y in range(len(i)):\n",
    "    for x in range(len(i[y])):\n",
    "        if i[y][x] == '#':\n",
    "            state[(x, y)] = \"I\"\n",
    "\n",
    "x = int(len(i[int(len(i) / 2)]) / 2)\n",
    "y = int(len(i) / 2)\n",
    "loc = (x, y)\n",
    "count = 0\n",
    "            \n",
    "heading = UP\n",
    "\n",
    "for s in range(10000000):\n",
    "    try:\n",
    "        status = state[loc]\n",
    "    except:\n",
    "        status = \"C\"\n",
    "    if status == \"C\":\n",
    "        heading = turn_left(heading)\n",
    "        state[loc] = \"W\"\n",
    "    if status == \"W\":\n",
    "        state[loc] = \"I\"\n",
    "        count += 1\n",
    "    if status == \"I\":\n",
    "        heading = turn_right(heading)\n",
    "        state[loc] = \"F\"\n",
    "    if status == \"F\":\n",
    "        heading = turn_around(heading)\n",
    "        state[loc] = \"C\"\n",
    "    loc = tuple(map(sum, zip(heading, loc)))\n",
    "\n",
    "print(\"Part 2: \" + str(count))"
   ]
  },
  {
   "cell_type": "code",
   "execution_count": null,
   "metadata": {},
   "outputs": [],
   "source": []
  }
 ],
 "metadata": {
  "kernelspec": {
   "display_name": "Python 3",
   "language": "python",
   "name": "python3"
  },
  "language_info": {
   "codemirror_mode": {
    "name": "ipython",
    "version": 3
   },
   "file_extension": ".py",
   "mimetype": "text/x-python",
   "name": "python",
   "nbconvert_exporter": "python",
   "pygments_lexer": "ipython3",
   "version": "3.6.9"
  }
 },
 "nbformat": 4,
 "nbformat_minor": 2
}

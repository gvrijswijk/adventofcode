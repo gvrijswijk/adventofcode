{
 "cells": [
  {
   "cell_type": "markdown",
   "metadata": {},
   "source": [
    "# Advent of Code 2020\n",
    "\n",
    "It's that time of year again..."
   ]
  },
  {
   "cell_type": "code",
   "execution_count": 1,
   "metadata": {
    "hide_input": false
   },
   "outputs": [],
   "source": [
    "import re\n",
    "import itertools\n",
    "import functools\n",
    "import numpy as np\n",
    "\n",
    "\n",
    "def Input(day, year=2020):\n",
    "    directory = '{}'.format(year)\n",
    "    filename = directory + '/input{}.txt'.format(day)\n",
    "    return open(filename)\n",
    "\n",
    "\n",
    "def isprime(val):\n",
    "    pass"
   ]
  },
  {
   "cell_type": "markdown",
   "metadata": {},
   "source": [
    "## [Day 1: Report Repair](https://adventofcode.com/2020/day/1)\n",
    "\n",
    "\"After saving Christmas five years in a row, you've decided to take a vacation at a nice resort on a tropical island. Surely, Christmas will go on without you.\"\n",
    "\n",
    "The first few days are always a breeze; the problems are very nice, as a shortlived disctraction from work. Today it's about checking which combination of 2 (part 1) or 3 (part 2) numbers add up to 2020. Not too hard, but in the evening I got back to the solution to create something looking a bit cleaner and more elegant (I think)."
   ]
  },
  {
   "cell_type": "markdown",
   "metadata": {},
   "source": [
    "## The original solution"
   ]
  },
  {
   "cell_type": "markdown",
   "metadata": {},
   "source": [
    "#### Part 1"
   ]
  },
  {
   "cell_type": "code",
   "execution_count": 2,
   "metadata": {},
   "outputs": [
    {
     "name": "stdout",
     "output_type": "stream",
     "text": [
      "Wall time: 58.9 ms\n"
     ]
    },
    {
     "data": {
      "text/plain": [
       "712075"
      ]
     },
     "execution_count": 2,
     "metadata": {},
     "output_type": "execute_result"
    }
   ],
   "source": [
    "%%time\n",
    "expenses = [int(e) for e in Input('01')]\n",
    "\n",
    "\n",
    "def check_expenses(expenses, goal):\n",
    "    for i, first_entry in enumerate(expenses):\n",
    "        for second_entry in expenses[i + 1:]:\n",
    "            if first_entry + second_entry == goal:\n",
    "                return (first_entry * second_entry)\n",
    "\n",
    "\n",
    "check_expenses(expenses, 2020)"
   ]
  },
  {
   "cell_type": "markdown",
   "metadata": {},
   "source": [
    "#### Part 2"
   ]
  },
  {
   "cell_type": "code",
   "execution_count": 3,
   "metadata": {},
   "outputs": [
    {
     "name": "stdout",
     "output_type": "stream",
     "text": [
      "Wall time: 152 ms\n"
     ]
    },
    {
     "data": {
      "text/plain": [
       "145245270"
      ]
     },
     "execution_count": 3,
     "metadata": {},
     "output_type": "execute_result"
    }
   ],
   "source": [
    "%%time\n",
    "\n",
    "\n",
    "def check_expenses(expenses, goal):\n",
    "    for i, first_entry in enumerate(expenses):\n",
    "        for second_entry in expenses[i + 1:]:\n",
    "            for third_entry in expenses[i + 2:]:\n",
    "                if first_entry + second_entry + third_entry == goal:\n",
    "                    return (first_entry * second_entry * third_entry)\n",
    "\n",
    "\n",
    "check_expenses(expenses, 2020)"
   ]
  },
  {
   "cell_type": "markdown",
   "metadata": {},
   "source": [
    "## The alternative solution"
   ]
  },
  {
   "cell_type": "code",
   "execution_count": 4,
   "metadata": {},
   "outputs": [],
   "source": [
    "def product(iterable):\n",
    "    return np.prod(iterable)\n",
    "\n",
    "\n",
    "def check_expenses(expenses, goal, depth):\n",
    "    for combination in itertools.combinations(expenses, depth):\n",
    "        if sum(combination) == goal:\n",
    "            return product(combination)"
   ]
  },
  {
   "cell_type": "markdown",
   "metadata": {},
   "source": [
    "#### Part 1"
   ]
  },
  {
   "cell_type": "code",
   "execution_count": 5,
   "metadata": {},
   "outputs": [
    {
     "name": "stdout",
     "output_type": "stream",
     "text": [
      "Wall time: 4 ms\n"
     ]
    },
    {
     "data": {
      "text/plain": [
       "712075"
      ]
     },
     "execution_count": 5,
     "metadata": {},
     "output_type": "execute_result"
    }
   ],
   "source": [
    "%%time\n",
    "check_expenses(expenses, 2020, 2)"
   ]
  },
  {
   "cell_type": "markdown",
   "metadata": {},
   "source": [
    "#### Part 2"
   ]
  },
  {
   "cell_type": "code",
   "execution_count": 6,
   "metadata": {},
   "outputs": [
    {
     "name": "stdout",
     "output_type": "stream",
     "text": [
      "Wall time: 136 ms\n"
     ]
    },
    {
     "data": {
      "text/plain": [
       "145245270"
      ]
     },
     "execution_count": 6,
     "metadata": {},
     "output_type": "execute_result"
    }
   ],
   "source": [
    "%%time\n",
    "check_expenses(expenses, 2020, 3)"
   ]
  },
  {
   "cell_type": "markdown",
   "metadata": {},
   "source": [
    "## [Day 2: Password Philosophy](https://adventofcode.com/2020/day/2)\n",
    "\n",
    "The shopkeeper at the North Pole Toboggan Rental Shop is having a bad day. \"Something's wrong with our computers; we can't log in!\" You ask if you can take a look.\n",
    "\n",
    "Their password database seems to be a little corrupted: some of the passwords wouldn't have been allowed by the Official Toboggan Corporate Policy that was in effect when they were chosen.\n",
    "\n",
    "To try to debug the problem, they have created a list (your puzzle input) of passwords (according to the corrupted database) and the corporate policy when that password was set."
   ]
  },
  {
   "cell_type": "markdown",
   "metadata": {},
   "source": [
    "## The original solution"
   ]
  },
  {
   "cell_type": "markdown",
   "metadata": {},
   "source": [
    "#### Part 1"
   ]
  },
  {
   "cell_type": "code",
   "execution_count": 7,
   "metadata": {},
   "outputs": [
    {
     "name": "stdout",
     "output_type": "stream",
     "text": [
      "Wall time: 22 ms\n"
     ]
    },
    {
     "data": {
      "text/plain": [
       "546"
      ]
     },
     "execution_count": 7,
     "metadata": {},
     "output_type": "execute_result"
    }
   ],
   "source": [
    "%%time\n",
    "passwords = Input('02').read()\n",
    "passwords = re.findall(r'(\\d+)-(\\d+) (\\S+): (\\S+)', passwords)\n",
    "\n",
    "valid = 0\n",
    "\n",
    "for passw in passwords:\n",
    "    lower = int(passw[0])\n",
    "    upper = int(passw[1])\n",
    "    char = passw[2]\n",
    "    password = passw[3]\n",
    "    if password.count(char) >= lower and password.count(char) <= upper:\n",
    "        valid += 1\n",
    "\n",
    "valid"
   ]
  },
  {
   "cell_type": "markdown",
   "metadata": {},
   "source": [
    "#### Part 2"
   ]
  },
  {
   "cell_type": "code",
   "execution_count": 8,
   "metadata": {},
   "outputs": [
    {
     "name": "stdout",
     "output_type": "stream",
     "text": [
      "Wall time: 999 µs\n"
     ]
    },
    {
     "data": {
      "text/plain": [
       "275"
      ]
     },
     "execution_count": 8,
     "metadata": {},
     "output_type": "execute_result"
    }
   ],
   "source": [
    "%%time\n",
    "valid = 0\n",
    "\n",
    "for passw in passwords:\n",
    "    first = int(passw[0]) - 1\n",
    "    second = int(passw[1]) - 1\n",
    "    char = passw[2]\n",
    "    password = passw[3]\n",
    "    if (password[first] == char or password[second] == char) and (password[first] != password[second]):\n",
    "        valid += 1\n",
    "\n",
    "valid"
   ]
  },
  {
   "cell_type": "markdown",
   "metadata": {},
   "source": [
    "## The alternative solution"
   ]
  },
  {
   "cell_type": "code",
   "execution_count": 9,
   "metadata": {},
   "outputs": [],
   "source": [
    "def lineparser(line):\n",
    "    return re.match(r'(\\d+)-(\\d+) (\\S+): (\\S+)', line)\n",
    "\n",
    "def valid_passwords(inp):\n",
    "    return [password_validator(line) for line in inp]"
   ]
  },
  {
   "cell_type": "markdown",
   "metadata": {},
   "source": [
    "#### Part 1"
   ]
  },
  {
   "cell_type": "code",
   "execution_count": 10,
   "metadata": {},
   "outputs": [
    {
     "name": "stdout",
     "output_type": "stream",
     "text": [
      "Wall time: 8 ms\n"
     ]
    },
    {
     "data": {
      "text/plain": [
       "546"
      ]
     },
     "execution_count": 10,
     "metadata": {},
     "output_type": "execute_result"
    }
   ],
   "source": [
    "%%time\n",
    "def password_validator(line):\n",
    "    lower, upper, char, password = lineparser(line).groups(0)\n",
    "    return int(lower) <= password.count(char) <= int(upper)\n",
    "\n",
    "sum(valid_passwords(Input('02')))"
   ]
  },
  {
   "cell_type": "markdown",
   "metadata": {},
   "source": [
    "#### Part 2"
   ]
  },
  {
   "cell_type": "code",
   "execution_count": 11,
   "metadata": {},
   "outputs": [
    {
     "name": "stdout",
     "output_type": "stream",
     "text": [
      "Wall time: 6 ms\n"
     ]
    },
    {
     "data": {
      "text/plain": [
       "275"
      ]
     },
     "execution_count": 11,
     "metadata": {},
     "output_type": "execute_result"
    }
   ],
   "source": [
    "%%time\n",
    "def password_validator(line):\n",
    "    first, second, char, password = lineparser(line).groups(0)\n",
    "    first = int(first) - 1\n",
    "    second = int(second) - 1\n",
    "    return (password[first] == char or password[second] == char) and password[first] != password[second]\n",
    "\n",
    "sum(valid_passwords(Input('02')))"
   ]
  },
  {
   "cell_type": "markdown",
   "metadata": {
    "hide_input": false
   },
   "source": [
    "# [Day 3: Toboggan Trajectory](https://adventofcode.com/2020/day/3)"
   ]
  },
  {
   "cell_type": "code",
   "execution_count": 12,
   "metadata": {},
   "outputs": [
    {
     "name": "stdout",
     "output_type": "stream",
     "text": [
      "Wall time: 17 ms\n"
     ]
    },
    {
     "data": {
      "text/plain": [
       "176"
      ]
     },
     "execution_count": 12,
     "metadata": {},
     "output_type": "execute_result"
    }
   ],
   "source": [
    "%%time\n",
    "f = Input('03').read().strip().split('\\n')\n",
    "\n",
    "location = (0, 0)\n",
    "direction = (1, 3)\n",
    "count = 0\n",
    "\n",
    "while location[0] < len(f) - 1:\n",
    "    location = [sum(e) for e in zip(location, direction)]\n",
    "    y, x = location\n",
    "    x = x % len(f[0])\n",
    "    if f[y][x] == '#':\n",
    "        count += 1\n",
    "\n",
    "count"
   ]
  },
  {
   "cell_type": "code",
   "execution_count": 13,
   "metadata": {},
   "outputs": [
    {
     "name": "stdout",
     "output_type": "stream",
     "text": [
      "5872458240\n",
      "Wall time: 3 ms\n"
     ]
    }
   ],
   "source": [
    "%%time\n",
    "directions = ((1, 1), (1, 3), (1, 5), (1, 7), (2, 1))\n",
    "results = []\n",
    "\n",
    "for direction in directions:\n",
    "    location = (0, 0)\n",
    "    count = 0\n",
    "\n",
    "    while location[0] < len(f) - 1:\n",
    "        location = [sum(e) for e in zip(location, direction)]\n",
    "        y, x = location\n",
    "        x = x % len(f[0])\n",
    "        if f[y][x] == '#':\n",
    "            count += 1\n",
    "\n",
    "    results.append(count)\n",
    "\n",
    "total = 1\n",
    "\n",
    "for r in results:\n",
    "    total *= r\n",
    "\n",
    "print(total)"
   ]
  },
  {
   "cell_type": "markdown",
   "metadata": {},
   "source": [
    "## [Day 4: Passport Processing](https://adventofcode.com/2020/day/4)\n",
    "\n",
    "You arrive at the airport only to realize that you grabbed your North Pole Credentials instead of your passport. While these documents are extremely similar, North Pole Credentials aren't issued by a country and therefore aren't actually valid documentation for travel in most of the world.\n",
    "\n",
    "It seems like you're not the only one having problems, though; a very long line has formed for the automatic passport scanners, and the delay could upset your travel itinerary.\n",
    "\n",
    "Due to some questionable network security, you realize you might be able to solve both of these problems at the same time."
   ]
  },
  {
   "cell_type": "markdown",
   "metadata": {},
   "source": [
    "#### Part 1"
   ]
  },
  {
   "cell_type": "code",
   "execution_count": 14,
   "metadata": {},
   "outputs": [
    {
     "data": {
      "text/plain": [
       "242"
      ]
     },
     "execution_count": 14,
     "metadata": {},
     "output_type": "execute_result"
    }
   ],
   "source": [
    "def parse_document_data(inp):\n",
    "    inp = inp.read().split('\\n\\n')\n",
    "    return [re.findall(r'(\\S+):\\S+[\\s]*', e) for e in inp]\n",
    "\n",
    "def document_is_valid(inp, *items):\n",
    "    for item in items:\n",
    "        if item not in inp:\n",
    "            return False\n",
    "    return True\n",
    "\n",
    "def process_documents(inp):\n",
    "    inp = parse_document_data(inp)\n",
    "    for i, document in enumerate(inp):\n",
    "        inp[i] = document_is_valid(document, 'byr', 'iyr', 'eyr', 'hgt', 'hcl', 'ecl', 'pid')\n",
    "    return inp\n",
    "    \n",
    "sum(process_documents(Input('04')))"
   ]
  },
  {
   "cell_type": "markdown",
   "metadata": {},
   "source": [
    "#### Part 2"
   ]
  },
  {
   "cell_type": "code",
   "execution_count": 15,
   "metadata": {},
   "outputs": [
    {
     "data": {
      "text/plain": [
       "186"
      ]
     },
     "execution_count": 15,
     "metadata": {},
     "output_type": "execute_result"
    }
   ],
   "source": [
    "def parse_document_data(inp):\n",
    "    inp = inp.read().split('\\n\\n')\n",
    "    return [re.findall(r'(\\S+):(\\S+)[\\s]*', e) for e in inp]\n",
    "\n",
    "def document_is_valid(inp, *items):\n",
    "    for item in items:\n",
    "        if item not in list(zip(*inp))[0]:\n",
    "            return False\n",
    "    for element in inp:\n",
    "        if element[0] == 'byr' and not (1920 <= int(element[1]) <= 2002) and len(element[1]) == 4:\n",
    "            return False\n",
    "        if element[0] == 'iyr' and not (2010 <= int(element[1]) <= 2020) and len(element[1]) == 4:\n",
    "            #print(element)\n",
    "            return False\n",
    "        if element[0] == 'eyr' and not (2020 <= int(element[1]) <= 2030) and len(element[1]) == 4:\n",
    "            #print(element)\n",
    "            return False\n",
    "        if element[0] == 'hgt':\n",
    "            hgt = re.findall(r'([0-9]+)(\\w*)', element[1])[0]\n",
    "            if hgt[1] not in ['cm', 'in']:\n",
    "                #print(element)\n",
    "                return False\n",
    "            if hgt[1] == 'cm' and not (150 <= int(hgt[0]) <= 193):\n",
    "                #print(element)\n",
    "                return False\n",
    "            if hgt[1] == 'in' and not (59 <= int(hgt[0]) <= 76):\n",
    "                #print(element)\n",
    "                return False\n",
    "        if element[0] == 'hcl' and not re.findall(r'^#[0-9a-f]{6}$', element[1]): #Aangepast\n",
    "            #print(element)\n",
    "            return False\n",
    "        if element[0] == 'ecl' and element[1] not in ['amb', 'blu', 'brn', 'gry', 'grn', 'hzl', 'oth']:\n",
    "            #print(element)\n",
    "            return False\n",
    "        if element[0] == 'pid' and not re.match(r'^[0-9]{9}$', element[1]): #Aangepast\n",
    "            #print(element)\n",
    "            return False\n",
    "    return True\n",
    "\n",
    "def process_documents(inp):\n",
    "    inp = parse_document_data(inp)\n",
    "    for i, document in enumerate(inp):\n",
    "        inp[i] = document_is_valid(document, 'byr', 'iyr', 'eyr', 'hgt', 'hcl', 'ecl', 'pid')\n",
    "    return inp\n",
    "    \n",
    "sum(process_documents(Input('04')))"
   ]
  },
  {
   "cell_type": "code",
   "execution_count": 16,
   "metadata": {},
   "outputs": [
    {
     "name": "stdout",
     "output_type": "stream",
     "text": [
      "242\n",
      "186\n"
     ]
    }
   ],
   "source": [
    "import re\n",
    "import sys\n",
    "\n",
    "REQUIREMENTS = {\n",
    "    'byr': lambda s: len(s) == 4 and 1920 <= int(s) <= 2002,\n",
    "    'iyr': lambda s: len(s) == 4 and 2010 <= int(s) <= 2020,\n",
    "    'eyr': lambda s: len(s) == 4 and 2020 <= int(s) <= 2030,\n",
    "    'hgt': lambda s: (\n",
    "        (s.endswith('cm') and 150 <= int(s[:-2]) <= 193) or\n",
    "        (s.endswith('in') and 59 <= int(s[:-2]) <= 76)),\n",
    "    'hcl': lambda s: re.match('^#[0-9a-f]{6}$', s) is not None,\n",
    "    'ecl': lambda s: s in ('amb', 'blu', 'brn', 'gry', 'grn', 'hzl', 'oth'),\n",
    "    'pid': lambda s: re.match('^[0-9]{9}$', s),\n",
    "}\n",
    "\n",
    "passports = [\n",
    "    dict(entry.split(':', 1) for entry in record.split())\n",
    "    for record in Input('04').read().split('\\n\\n')]\n",
    "\n",
    "def HasAllRequiredFields(passport):\n",
    "    for key in REQUIREMENTS:\n",
    "        if key not in passport:\n",
    "            return False\n",
    "    return True\n",
    "\n",
    "def IsValid(passport):\n",
    "    for key, validator in REQUIREMENTS.items():\n",
    "        value = passport.get(key)\n",
    "        if value is None or not validator(value):\n",
    "            return False\n",
    "    return True\n",
    "\n",
    "# Part 1\n",
    "print(sum(map(HasAllRequiredFields, passports)))\n",
    "\n",
    "# Part 2\n",
    "print(sum(map(IsValid, passports)))"
   ]
  },
  {
   "cell_type": "code",
   "execution_count": 17,
   "metadata": {},
   "outputs": [],
   "source": [
    "passports = Input('04').read().split('\\n\\n')\n",
    "\n",
    "for passport in passports:\n",
    "    p1 = re.findall(r'(\\S+):(\\S+)[\\s]*', passport)\n",
    "    if document_is_valid(p1, 'byr', 'iyr', 'eyr', 'hgt', 'hcl', 'ecl', 'pid') != IsValid(dict(entry.split(':', 1) for entry in passport.split())):\n",
    "        print(passport, document_is_valid(p1, 'byr', 'iyr', 'eyr', 'hgt', 'hcl', 'ecl', 'pid'))\n"
   ]
  }
 ],
 "metadata": {
  "kernelspec": {
   "display_name": "Python 3",
   "language": "python",
   "name": "python3"
  },
  "language_info": {
   "codemirror_mode": {
    "name": "ipython",
    "version": 3
   },
   "file_extension": ".py",
   "mimetype": "text/x-python",
   "name": "python",
   "nbconvert_exporter": "python",
   "pygments_lexer": "ipython3",
   "version": "3.7.6"
  }
 },
 "nbformat": 4,
 "nbformat_minor": 4
}

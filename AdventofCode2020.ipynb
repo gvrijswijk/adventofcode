{
 "cells": [
  {
   "cell_type": "markdown",
   "metadata": {},
   "source": [
    "# Advent of Code 2020\n",
    "\n",
    "It's that time of year again..."
   ]
  },
  {
   "cell_type": "code",
   "execution_count": 65,
   "metadata": {
    "hide_input": false
   },
   "outputs": [],
   "source": [
    "import re\n",
    "import itertools\n",
    "import functools\n",
    "import numpy as np\n",
    "\n",
    "\n",
    "def Input(day, year=2020):\n",
    "    directory = '{}'.format(year)\n",
    "    filename = directory + '/input{}.txt'.format(day)\n",
    "    return open(filename)\n",
    "\n",
    "\n",
    "def isprime(val):\n",
    "    pass"
   ]
  },
  {
   "cell_type": "markdown",
   "metadata": {},
   "source": [
    "## [Day 1: Report Repair](https://adventofcode.com/2020/day/1)\n",
    "\n",
    "\"After saving Christmas five years in a row, you've decided to take a vacation at a nice resort on a tropical island. Surely, Christmas will go on without you.\"\n",
    "\n",
    "The first few days are always a breeze; the problems are very nice, as a shortlived disctraction from work. Today it's about checking which combination of 2 (part 1) or 3 (part 2) numbers add up to 2020. Not too hard, but in the evening I got back to the solution to create something looking a bit cleaner and more elegant (I think)."
   ]
  },
  {
   "cell_type": "markdown",
   "metadata": {},
   "source": [
    "## The original solution"
   ]
  },
  {
   "cell_type": "markdown",
   "metadata": {},
   "source": [
    "#### Part 1"
   ]
  },
  {
   "cell_type": "code",
   "execution_count": 2,
   "metadata": {},
   "outputs": [
    {
     "name": "stdout",
     "output_type": "stream",
     "text": [
      "Wall time: 33 ms\n"
     ]
    },
    {
     "data": {
      "text/plain": [
       "712075"
      ]
     },
     "execution_count": 2,
     "metadata": {},
     "output_type": "execute_result"
    }
   ],
   "source": [
    "%%time\n",
    "expenses = [int(e) for e in Input('01')]\n",
    "\n",
    "\n",
    "def check_expenses(expenses, goal):\n",
    "    for i, first_entry in enumerate(expenses):\n",
    "        for second_entry in expenses[i + 1:]:\n",
    "            if first_entry + second_entry == goal:\n",
    "                return (first_entry * second_entry)\n",
    "\n",
    "\n",
    "check_expenses(expenses, 2020)"
   ]
  },
  {
   "cell_type": "markdown",
   "metadata": {},
   "source": [
    "#### Part 2"
   ]
  },
  {
   "cell_type": "code",
   "execution_count": 3,
   "metadata": {},
   "outputs": [
    {
     "name": "stdout",
     "output_type": "stream",
     "text": [
      "Wall time: 133 ms\n"
     ]
    },
    {
     "data": {
      "text/plain": [
       "145245270"
      ]
     },
     "execution_count": 3,
     "metadata": {},
     "output_type": "execute_result"
    }
   ],
   "source": [
    "%%time\n",
    "\n",
    "\n",
    "def check_expenses(expenses, goal):\n",
    "    for i, first_entry in enumerate(expenses):\n",
    "        for second_entry in expenses[i + 1:]:\n",
    "            for third_entry in expenses[i + 2:]:\n",
    "                if first_entry + second_entry + third_entry == goal:\n",
    "                    return (first_entry * second_entry * third_entry)\n",
    "\n",
    "\n",
    "check_expenses(expenses, 2020)"
   ]
  },
  {
   "cell_type": "markdown",
   "metadata": {},
   "source": [
    "## The alternative solution"
   ]
  },
  {
   "cell_type": "code",
   "execution_count": 4,
   "metadata": {},
   "outputs": [],
   "source": [
    "def product(iterable):\n",
    "    return np.prod(iterable)\n",
    "\n",
    "\n",
    "def check_expenses(expenses, goal, depth):\n",
    "    for combination in itertools.combinations(expenses, depth):\n",
    "        if sum(combination) == goal:\n",
    "            return product(combination)"
   ]
  },
  {
   "cell_type": "markdown",
   "metadata": {},
   "source": [
    "#### Part 1"
   ]
  },
  {
   "cell_type": "code",
   "execution_count": 5,
   "metadata": {},
   "outputs": [
    {
     "name": "stdout",
     "output_type": "stream",
     "text": [
      "Wall time: 2 ms\n"
     ]
    },
    {
     "data": {
      "text/plain": [
       "712075"
      ]
     },
     "execution_count": 5,
     "metadata": {},
     "output_type": "execute_result"
    }
   ],
   "source": [
    "%%time\n",
    "check_expenses(expenses, 2020, 2)"
   ]
  },
  {
   "cell_type": "markdown",
   "metadata": {},
   "source": [
    "#### Part 2"
   ]
  },
  {
   "cell_type": "code",
   "execution_count": 6,
   "metadata": {},
   "outputs": [
    {
     "name": "stdout",
     "output_type": "stream",
     "text": [
      "Wall time: 126 ms\n"
     ]
    },
    {
     "data": {
      "text/plain": [
       "145245270"
      ]
     },
     "execution_count": 6,
     "metadata": {},
     "output_type": "execute_result"
    }
   ],
   "source": [
    "%%time\n",
    "check_expenses(expenses, 2020, 3)"
   ]
  },
  {
   "cell_type": "markdown",
   "metadata": {},
   "source": [
    "## [Day 2: Password Philosophy](https://adventofcode.com/2020/day/2)\n",
    "\n",
    "The shopkeeper at the North Pole Toboggan Rental Shop is having a bad day. \"Something's wrong with our computers; we can't log in!\" You ask if you can take a look.\n",
    "\n",
    "Their password database seems to be a little corrupted: some of the passwords wouldn't have been allowed by the Official Toboggan Corporate Policy that was in effect when they were chosen.\n",
    "\n",
    "To try to debug the problem, they have created a list (your puzzle input) of passwords (according to the corrupted database) and the corporate policy when that password was set."
   ]
  },
  {
   "cell_type": "markdown",
   "metadata": {},
   "source": [
    "## The original solution"
   ]
  },
  {
   "cell_type": "markdown",
   "metadata": {},
   "source": [
    "#### Part 1"
   ]
  },
  {
   "cell_type": "code",
   "execution_count": 7,
   "metadata": {},
   "outputs": [
    {
     "name": "stdout",
     "output_type": "stream",
     "text": [
      "Wall time: 16 ms\n"
     ]
    },
    {
     "data": {
      "text/plain": [
       "546"
      ]
     },
     "execution_count": 7,
     "metadata": {},
     "output_type": "execute_result"
    }
   ],
   "source": [
    "%%time\n",
    "passwords = Input('02').read()\n",
    "passwords = re.findall(r'(\\d+)-(\\d+) (\\S+): (\\S+)', passwords)\n",
    "\n",
    "valid = 0\n",
    "\n",
    "for passw in passwords:\n",
    "    lower = int(passw[0])\n",
    "    upper = int(passw[1])\n",
    "    char = passw[2]\n",
    "    password = passw[3]\n",
    "    if password.count(char) >= lower and password.count(char) <= upper:\n",
    "        valid += 1\n",
    "\n",
    "valid"
   ]
  },
  {
   "cell_type": "markdown",
   "metadata": {},
   "source": [
    "#### Part 2"
   ]
  },
  {
   "cell_type": "code",
   "execution_count": 8,
   "metadata": {},
   "outputs": [
    {
     "name": "stdout",
     "output_type": "stream",
     "text": [
      "Wall time: 2 ms\n"
     ]
    },
    {
     "data": {
      "text/plain": [
       "275"
      ]
     },
     "execution_count": 8,
     "metadata": {},
     "output_type": "execute_result"
    }
   ],
   "source": [
    "%%time\n",
    "valid = 0\n",
    "\n",
    "for passw in passwords:\n",
    "    first = int(passw[0]) - 1\n",
    "    second = int(passw[1]) - 1\n",
    "    char = passw[2]\n",
    "    password = passw[3]\n",
    "    if (password[first] == char or password[second] == char) and (password[first] != password[second]):\n",
    "        valid += 1\n",
    "\n",
    "valid"
   ]
  },
  {
   "cell_type": "markdown",
   "metadata": {},
   "source": [
    "## The alternative solution"
   ]
  },
  {
   "cell_type": "code",
   "execution_count": 9,
   "metadata": {},
   "outputs": [],
   "source": [
    "def lineparser(line):\n",
    "    return re.match(r'(\\d+)-(\\d+) (\\S+): (\\S+)', line)\n",
    "\n",
    "def valid_passwords(inp):\n",
    "    return [password_validator(line) for line in inp]"
   ]
  },
  {
   "cell_type": "markdown",
   "metadata": {},
   "source": [
    "#### Part 1"
   ]
  },
  {
   "cell_type": "code",
   "execution_count": 10,
   "metadata": {},
   "outputs": [
    {
     "name": "stdout",
     "output_type": "stream",
     "text": [
      "Wall time: 9.01 ms\n"
     ]
    },
    {
     "data": {
      "text/plain": [
       "546"
      ]
     },
     "execution_count": 10,
     "metadata": {},
     "output_type": "execute_result"
    }
   ],
   "source": [
    "%%time\n",
    "def password_validator(line):\n",
    "    lower, upper, char, password = lineparser(line).groups(0)\n",
    "    return int(lower) <= password.count(char) <= int(upper)\n",
    "\n",
    "sum(valid_passwords(Input('02')))"
   ]
  },
  {
   "cell_type": "markdown",
   "metadata": {},
   "source": [
    "#### Part 2"
   ]
  },
  {
   "cell_type": "code",
   "execution_count": 11,
   "metadata": {},
   "outputs": [
    {
     "name": "stdout",
     "output_type": "stream",
     "text": [
      "Wall time: 8 ms\n"
     ]
    },
    {
     "data": {
      "text/plain": [
       "275"
      ]
     },
     "execution_count": 11,
     "metadata": {},
     "output_type": "execute_result"
    }
   ],
   "source": [
    "%%time\n",
    "def password_validator(line):\n",
    "    first, second, char, password = lineparser(line).groups(0)\n",
    "    first = int(first) - 1\n",
    "    second = int(second) - 1\n",
    "    return (password[first] == char or password[second] == char) and password[first] != password[second]\n",
    "\n",
    "sum(valid_passwords(Input('02')))"
   ]
  },
  {
   "cell_type": "markdown",
   "metadata": {
    "hide_input": false
   },
   "source": [
    "# [Day 3: Toboggan Trajectory](https://adventofcode.com/2020/day/3)"
   ]
  },
  {
   "cell_type": "code",
   "execution_count": 12,
   "metadata": {},
   "outputs": [
    {
     "name": "stdout",
     "output_type": "stream",
     "text": [
      "Wall time: 17 ms\n"
     ]
    },
    {
     "data": {
      "text/plain": [
       "176"
      ]
     },
     "execution_count": 12,
     "metadata": {},
     "output_type": "execute_result"
    }
   ],
   "source": [
    "%%time\n",
    "f = Input('03').read().strip().split('\\n')\n",
    "\n",
    "location = (0, 0)\n",
    "direction = (1, 3)\n",
    "count = 0\n",
    "\n",
    "while location[0] < len(f) - 1:\n",
    "    location = [sum(e) for e in zip(location, direction)]\n",
    "    y, x = location\n",
    "    x = x % len(f[0])\n",
    "    if f[y][x] == '#':\n",
    "        count += 1\n",
    "\n",
    "count"
   ]
  },
  {
   "cell_type": "code",
   "execution_count": 13,
   "metadata": {},
   "outputs": [
    {
     "name": "stdout",
     "output_type": "stream",
     "text": [
      "5872458240\n",
      "Wall time: 4 ms\n"
     ]
    }
   ],
   "source": [
    "%%time\n",
    "directions = ((1, 1), (1, 3), (1, 5), (1, 7), (2, 1))\n",
    "results = []\n",
    "\n",
    "for direction in directions:\n",
    "    location = (0, 0)\n",
    "    count = 0\n",
    "\n",
    "    while location[0] < len(f) - 1:\n",
    "        location = [sum(e) for e in zip(location, direction)]\n",
    "        y, x = location\n",
    "        x = x % len(f[0])\n",
    "        if f[y][x] == '#':\n",
    "            count += 1\n",
    "\n",
    "    results.append(count)\n",
    "\n",
    "total = 1\n",
    "\n",
    "for r in results:\n",
    "    total *= r\n",
    "\n",
    "print(total)"
   ]
  },
  {
   "cell_type": "markdown",
   "metadata": {},
   "source": [
    "## [Day 4: Passport Processing](https://adventofcode.com/2020/day/4)\n",
    "\n",
    "You arrive at the airport only to realize that you grabbed your North Pole Credentials instead of your passport. While these documents are extremely similar, North Pole Credentials aren't issued by a country and therefore aren't actually valid documentation for travel in most of the world.\n",
    "\n",
    "It seems like you're not the only one having problems, though; a very long line has formed for the automatic passport scanners, and the delay could upset your travel itinerary.\n",
    "\n",
    "Due to some questionable network security, you realize you might be able to solve both of these problems at the same time."
   ]
  },
  {
   "cell_type": "markdown",
   "metadata": {},
   "source": [
    "#### Part 1"
   ]
  },
  {
   "cell_type": "code",
   "execution_count": 14,
   "metadata": {},
   "outputs": [
    {
     "data": {
      "text/plain": [
       "242"
      ]
     },
     "execution_count": 14,
     "metadata": {},
     "output_type": "execute_result"
    }
   ],
   "source": [
    "def parse_document_data(inp):\n",
    "    inp = inp.read().split('\\n\\n')\n",
    "    return [re.findall(r'(\\S+):\\S+[\\s]*', e) for e in inp]\n",
    "\n",
    "def document_is_valid(inp, *items):\n",
    "    for item in items:\n",
    "        if item not in inp:\n",
    "            return False\n",
    "    return True\n",
    "\n",
    "def process_documents(inp):\n",
    "    inp = parse_document_data(inp)\n",
    "    for i, document in enumerate(inp):\n",
    "        inp[i] = document_is_valid(document, 'byr', 'iyr', 'eyr', 'hgt', 'hcl', 'ecl', 'pid')\n",
    "    return inp\n",
    "    \n",
    "sum(process_documents(Input('04')))"
   ]
  },
  {
   "cell_type": "markdown",
   "metadata": {},
   "source": [
    "#### Part 2"
   ]
  },
  {
   "cell_type": "code",
   "execution_count": 15,
   "metadata": {},
   "outputs": [
    {
     "data": {
      "text/plain": [
       "186"
      ]
     },
     "execution_count": 15,
     "metadata": {},
     "output_type": "execute_result"
    }
   ],
   "source": [
    "def parse_document_data(inp):\n",
    "    inp = inp.read().split('\\n\\n')\n",
    "    return [re.findall(r'(\\S+):(\\S+)[\\s]*', e) for e in inp]\n",
    "\n",
    "def document_is_valid(inp, *items):\n",
    "    for item in items:\n",
    "        if item not in list(zip(*inp))[0]:\n",
    "            return False\n",
    "    for element in inp:\n",
    "        if element[0] == 'byr' and not (1920 <= int(element[1]) <= 2002) and len(element[1]) == 4:\n",
    "            return False\n",
    "        if element[0] == 'iyr' and not (2010 <= int(element[1]) <= 2020) and len(element[1]) == 4:\n",
    "            #print(element)\n",
    "            return False\n",
    "        if element[0] == 'eyr' and not (2020 <= int(element[1]) <= 2030) and len(element[1]) == 4:\n",
    "            #print(element)\n",
    "            return False\n",
    "        if element[0] == 'hgt':\n",
    "            hgt = re.findall(r'([0-9]+)(\\w*)', element[1])[0]\n",
    "            if hgt[1] not in ['cm', 'in']:\n",
    "                #print(element)\n",
    "                return False\n",
    "            if hgt[1] == 'cm' and not (150 <= int(hgt[0]) <= 193):\n",
    "                #print(element)\n",
    "                return False\n",
    "            if hgt[1] == 'in' and not (59 <= int(hgt[0]) <= 76):\n",
    "                #print(element)\n",
    "                return False\n",
    "        if element[0] == 'hcl' and not re.findall(r'^#[0-9a-f]{6}$', element[1]): #Aangepast\n",
    "            #print(element)\n",
    "            return False\n",
    "        if element[0] == 'ecl' and element[1] not in ['amb', 'blu', 'brn', 'gry', 'grn', 'hzl', 'oth']:\n",
    "            #print(element)\n",
    "            return False\n",
    "        if element[0] == 'pid' and not re.match(r'^[0-9]{9}$', element[1]): #Aangepast\n",
    "            #print(element)\n",
    "            return False\n",
    "    return True\n",
    "\n",
    "def process_documents(inp):\n",
    "    inp = parse_document_data(inp)\n",
    "    for i, document in enumerate(inp):\n",
    "        inp[i] = document_is_valid(document, 'byr', 'iyr', 'eyr', 'hgt', 'hcl', 'ecl', 'pid')\n",
    "    return inp\n",
    "    \n",
    "sum(process_documents(Input('04')))"
   ]
  },
  {
   "cell_type": "markdown",
   "metadata": {},
   "source": [
    "## [Day 5: Binary Boarding](https://adventofcode.com/2020/day/5)\n",
    "\n",
    "You board your plane only to discover a new problem: you dropped your boarding pass! You aren't sure which seat is yours, and all of the flight attendants are busy with the flood of people that suddenly made it through passport control."
   ]
  },
  {
   "cell_type": "code",
   "execution_count": 16,
   "metadata": {},
   "outputs": [
    {
     "data": {
      "text/plain": [
       "357"
      ]
     },
     "execution_count": 16,
     "metadata": {},
     "output_type": "execute_result"
    }
   ],
   "source": [
    "def find_seat(boarding_pass, rows=128, columns=8):\n",
    "    rows = list(range(rows))\n",
    "    columns = list(range(columns))\n",
    "    for e in boarding_pass:\n",
    "        if e == 'F':\n",
    "            rows = rows[:len(rows) // 2]\n",
    "        if e == 'B':\n",
    "            rows = rows[len(rows) // 2:]\n",
    "        if e =='L':\n",
    "            columns = columns[:len(columns) // 2]\n",
    "        if e =='R':\n",
    "            columns = columns[len(columns) // 2:]\n",
    "            \n",
    "    return rows[0], columns[0]\n",
    "    \n",
    "def seat_code(boarding_pass, rows=128, columns=8):\n",
    "    row, column = find_seat(boarding_pass, rows, columns)\n",
    "    return row * 8 + column\n",
    "\n",
    "seat_code('FBFBBFFRLR')"
   ]
  },
  {
   "cell_type": "code",
   "execution_count": 17,
   "metadata": {},
   "outputs": [
    {
     "ename": "NameError",
     "evalue": "name 'j' is not defined",
     "output_type": "error",
     "traceback": [
      "\u001b[1;31m---------------------------------------------------------------------------\u001b[0m",
      "\u001b[1;31mNameError\u001b[0m                                 Traceback (most recent call last)",
      "\u001b[1;32m<timed exec>\u001b[0m in \u001b[0;36m<module>\u001b[1;34m\u001b[0m\n",
      "\u001b[1;31mNameError\u001b[0m: name 'j' is not defined"
     ]
    }
   ],
   "source": [
    "%%time\n",
    "\n",
    "for e in sorted([seat_code(boarding_pass) for boarding_pass in Input('05').read().split('\\n')]):\n",
    "    if e != j + 1 or not j:\n",
    "        print(j+1)\n",
    "    j = int(e)"
   ]
  },
  {
   "cell_type": "markdown",
   "metadata": {},
   "source": [
    "#### Part 2:\n",
    "\n",
    "Seeing online that I could interpret te string as a binary number I wanted to give that a try. It is a lot quicker too."
   ]
  },
  {
   "cell_type": "code",
   "execution_count": 18,
   "metadata": {},
   "outputs": [
    {
     "name": "stdout",
     "output_type": "stream",
     "text": [
      "579\n",
      "Wall time: 7 ms\n"
     ]
    }
   ],
   "source": [
    "%%time\n",
    "\n",
    "def code_to_binary(code):\n",
    "    binaries = {'F': '0', 'B': '1', 'L': '0', 'R': '1'}\n",
    "    binary = ''\n",
    "    for e in code:\n",
    "        binary += binaries[e]\n",
    "    return binary\n",
    "\n",
    "for i, e in enumerate(sorted([int(code_to_binary(e), 2) for e in Input('05').read().strip().split('\\n')])):\n",
    "    if i > 0 and e != f + 1:\n",
    "        print(f + 1)\n",
    "    f = e"
   ]
  },
  {
   "cell_type": "code",
   "execution_count": 19,
   "metadata": {},
   "outputs": [
    {
     "name": "stdout",
     "output_type": "stream",
     "text": [
      "579\n",
      "Wall time: 7 ms\n"
     ]
    }
   ],
   "source": [
    "%%time\n",
    "\n",
    "j = -5 \n",
    "\n",
    "def translate_code(code):\n",
    "    return int(code.replace('F', '0').replace('B', '1').replace('L', '0').replace('R', '1'), 2)\n",
    "\n",
    "for i in sorted([translate_code(e) for e in Input('05').read().strip().split('\\n')]):\n",
    "    if i - j == 2:\n",
    "        print(j + 1)\n",
    "    j = int(i)\n",
    "        "
   ]
  },
  {
   "cell_type": "markdown",
   "metadata": {},
   "source": [
    "## [Day 6: Custom Customs](Day 6: Custom Customs)\n",
    "\n",
    "As your flight approaches the regional airport where you'll switch to a much larger plane, customs declaration forms are distributed to the passengers.\n",
    "\n",
    "The form asks a series of 26 yes-or-no questions marked a through z. All you need to do is identify the questions for which anyone in your group answers \"yes\". Since your group is just you, this doesn't take very long.\n",
    "\n",
    "However, the person sitting next to you seems to be experiencing a language barrier and asks if you can help. For each of the people in their group, you write down the questions for which they answer \"yes\", one per line."
   ]
  },
  {
   "cell_type": "code",
   "execution_count": 20,
   "metadata": {
    "slideshow": {
     "slide_type": "slide"
    }
   },
   "outputs": [
    {
     "data": {
      "text/plain": [
       "6612"
      ]
     },
     "execution_count": 20,
     "metadata": {},
     "output_type": "execute_result"
    }
   ],
   "source": [
    "i = Input('06').read()\n",
    "#i = 'abc\\n\\na\\nb\\nc\\n\\nab\\nac\\n\\na\\na\\na\\na\\n\\nb'\n",
    "\n",
    "sum([len(set(e.replace('\\n', ''))) for e in i.strip().split('\\n\\n')])"
   ]
  },
  {
   "cell_type": "code",
   "execution_count": 21,
   "metadata": {},
   "outputs": [
    {
     "name": "stdout",
     "output_type": "stream",
     "text": [
      "Wall time: 5 ms\n"
     ]
    },
    {
     "data": {
      "text/plain": [
       "3268"
      ]
     },
     "execution_count": 21,
     "metadata": {},
     "output_type": "execute_result"
    }
   ],
   "source": [
    "%%time\n",
    "\n",
    "i = 'abc\\n\\na\\nb\\nc\\n\\nab\\nac\\n\\na\\na\\na\\na\\n\\nb'\n",
    "i = Input('06').read()\n",
    "t = [e.split('\\n') for e in i.strip().split('\\n\\n')]\n",
    "total = 0\n",
    "\n",
    "for e in t:\n",
    "    temp = set(e[0])\n",
    "    \n",
    "    while len(e) > 1:\n",
    "        temp = temp.intersection(e.pop())\n",
    "    #print(temp)\n",
    "    total += len(temp)\n",
    "total"
   ]
  },
  {
   "cell_type": "markdown",
   "metadata": {},
   "source": [
    "## [Day 7: Handy Haversacks](https://adventofcode.com/2020/day/7)\n",
    "\n",
    "You land at the regional airport in time for your next flight. In fact, it looks like you'll even have time to grab some food: all flights are currently delayed due to issues in luggage processing.\n",
    "\n",
    "Due to recent aviation regulations, many rules (your puzzle input) are being enforced about bags and their contents; bags must be color-coded and must contain specific quantities of other color-coded bags. Apparently, nobody responsible for these regulations considered how long they would take to enforce!"
   ]
  },
  {
   "cell_type": "code",
   "execution_count": 22,
   "metadata": {
    "slideshow": {
     "slide_type": "slide"
    }
   },
   "outputs": [
    {
     "name": "stdout",
     "output_type": "stream",
     "text": [
      "222\n",
      "Wall time: 33 ms\n"
     ]
    }
   ],
   "source": [
    "%%time\n",
    "\n",
    "rules = {}\n",
    "\n",
    "inp = Input('07').read().strip().split('\\n')\n",
    "#inp = 'light red bags contain 1 bright white bag, 2 muted yellow bags.\\ndark orange bags contain 3 bright white bags, 4 muted yellow bags.\\nbright white bags contain 1 shiny gold bag.\\nmuted yellow bags contain 2 shiny gold bags, 9 faded blue bags.\\nshiny gold bags contain 1 dark olive bag, 2 vibrant plum bags.\\ndark olive bags contain 3 faded blue bags, 4 dotted black bags.\\nvibrant plum bags contain 5 faded blue bags, 6 dotted black bags.\\nfaded blue bags contain no other bags.\\ndotted black bags contain no other bags.'.split('\\n')\n",
    "\n",
    "for e in inp:\n",
    "    tmp = e.split('bags contain ')\n",
    "    elements = re.findall(r'\\d+\\s(\\w+\\s\\w+)+.', tmp[1])\n",
    "    for element in elements:\n",
    "        rules.setdefault(element, []).append(tmp[0].strip())\n",
    "\n",
    "#print(rules)        \n",
    "        \n",
    "tree = []\n",
    "for e in rules['shiny gold']:\n",
    "    tree.append(e)\n",
    "    \n",
    "for e in tree:\n",
    "    if e in rules:\n",
    "        for f in rules[e]:\n",
    "            if f not in tree:\n",
    "                tree.append(f)\n",
    "            \n",
    "print(len(tree))"
   ]
  },
  {
   "cell_type": "code",
   "execution_count": 23,
   "metadata": {},
   "outputs": [
    {
     "data": {
      "text/plain": [
       "{}"
      ]
     },
     "execution_count": 23,
     "metadata": {},
     "output_type": "execute_result"
    }
   ],
   "source": [
    "inp = 'light red bags contain 1 bright white bag, 2 muted yellow bags.\\ndark orange bags contain 3 bright white bags, 4 muted yellow bags.\\nbright white bags contain 1 shiny gold bag.\\nmuted yellow bags contain 2 shiny gold bags, 9 faded blue bags.\\nshiny gold bags contain 1 dark olive bag, 2 vibrant plum bags.\\ndark olive bags contain 3 faded blue bags, 4 dotted black bags.\\nvibrant plum bags contain 5 faded blue bags, 6 dotted black bags.\\nfaded blue bags contain no other bags.\\ndotted black bags contain no other bags.'.split('\\n')\n",
    "\n",
    "def build_rules(string):\n",
    "    rules = {}\n",
    "    return rules\n",
    "\n",
    "build_rules(inp)"
   ]
  },
  {
   "cell_type": "code",
   "execution_count": 24,
   "metadata": {},
   "outputs": [
    {
     "name": "stdout",
     "output_type": "stream",
     "text": [
      "13265\n",
      "Wall time: 12.3 ms\n"
     ]
    }
   ],
   "source": [
    "%%time\n",
    "\n",
    "rules = {}\n",
    "\n",
    "inp = Input('07').read().strip().split('\\n')\n",
    "#inp = 'light red bags contain 1 bright white bag, 2 muted yellow bags.\\ndark orange bags contain 3 bright white bags, 4 muted yellow bags.\\nbright white bags contain 1 shiny gold bag.\\nmuted yellow bags contain 2 shiny gold bags, 9 faded blue bags.\\nshiny gold bags contain 1 dark olive bag, 2 vibrant plum bags.\\ndark olive bags contain 3 faded blue bags, 4 dotted black bags.\\nvibrant plum bags contain 5 faded blue bags, 6 dotted black bags.\\nfaded blue bags contain no other bags.\\ndotted black bags contain no other bags.'.split('\\n')\n",
    "#inp = 'shiny gold bags contain 2 dark red bags.\\ndark red bags contain 2 dark orange bags.\\ndark orange bags contain 2 dark yellow bags.\\ndark yellow bags contain 2 dark green bags.\\ndark green bags contain 2 dark blue bags.\\ndark blue bags contain 2 dark violet bags.\\ndark violet bags contain no other bags.'.split('\\n')\n",
    "\n",
    "for e in inp:\n",
    "    tmp = e.split('bags contain ')\n",
    "    elements = re.findall(r'(\\d+\\s\\w+\\s\\w+)+.', tmp[1])\n",
    "    for element in elements:\n",
    "        element = re.findall(r'(\\d+)\\s(\\w+\\s\\w+)', element)\n",
    "        rules.setdefault(tmp[0].strip(), []).append([element[0][1], element[0][0]])\n",
    "\n",
    "#print(rules)\n",
    "\n",
    "tree = [['shiny gold', 1]]\n",
    "\n",
    "i = 0\n",
    "\n",
    "while len(tree) > i:\n",
    "    try:\n",
    "        number = tree[i][1]\n",
    "        bags = rules[tree[i][0]]\n",
    "        for bag in bags:\n",
    "            tree.append([bag[0], int(bag[1]) * number])\n",
    "            #print(tree)\n",
    "    except:\n",
    "        pass\n",
    "    i += 1\n",
    "#print(list(zip(*tree))[1])\n",
    "print(sum(list(zip(*tree))[1]))"
   ]
  },
  {
   "cell_type": "markdown",
   "metadata": {},
   "source": [
    "## [Day 8: Handheld Halting](https://adventofcode.com/2020/day/8)\n",
    "\n",
    "Their handheld game console won't turn on! They ask if you can take a look.\n",
    "\n",
    "You narrow the problem down to a strange infinite loop in the boot code (your puzzle input) of the device. You should be able to fix it, but first you need to be able to run the code in isolation."
   ]
  },
  {
   "cell_type": "code",
   "execution_count": 25,
   "metadata": {},
   "outputs": [
    {
     "name": "stdout",
     "output_type": "stream",
     "text": [
      "Wall time: 19 ms\n"
     ]
    },
    {
     "data": {
      "text/plain": [
       "1475"
      ]
     },
     "execution_count": 25,
     "metadata": {},
     "output_type": "execute_result"
    }
   ],
   "source": [
    "%%time\n",
    "\n",
    "accumulator = 0\n",
    "instructions = [e.split() for e in Input('08').read().split('\\n')]\n",
    "instructions_executed = []\n",
    "\n",
    "i = 0\n",
    "\n",
    "while i not in instructions_executed:\n",
    "    instructions_executed.append(i)\n",
    "    op = instructions[i][0]\n",
    "    value = int(instructions[i][1])\n",
    "    if op == 'acc':\n",
    "        i += 1\n",
    "        accumulator += value\n",
    "    elif op == 'jmp':\n",
    "        i += value\n",
    "    else:\n",
    "        i += 1\n",
    "\n",
    "accumulator"
   ]
  },
  {
   "cell_type": "code",
   "execution_count": 26,
   "metadata": {},
   "outputs": [
    {
     "name": "stdout",
     "output_type": "stream",
     "text": [
      "Wall time: 4 ms\n"
     ]
    },
    {
     "data": {
      "text/plain": [
       "1475"
      ]
     },
     "execution_count": 26,
     "metadata": {},
     "output_type": "execute_result"
    }
   ],
   "source": [
    "%%time\n",
    "\n",
    "def operator(opcode, value):\n",
    "    if opcode == 'nop':\n",
    "        return 1, None\n",
    "    elif opcode == 'jmp':\n",
    "        return value, None\n",
    "    else:\n",
    "        return 1, value\n",
    "    \n",
    "def parse_instructions(inp_string):\n",
    "    return [e.split() for e in inp_string.split('\\n')]\n",
    "\n",
    "def boot(instructions):\n",
    "    instructions = parse_instructions(instructions)\n",
    "    i = 0\n",
    "    acc = 0\n",
    "    executed = []\n",
    "    while i not in executed:\n",
    "        executed.append(i)\n",
    "        opcode = instructions[i][0]\n",
    "        value = int(instructions[i][1])\n",
    "        di, dacc = operator(opcode, value)\n",
    "        i += di\n",
    "        try:\n",
    "            acc += dacc\n",
    "        except:\n",
    "            pass\n",
    "    return acc\n",
    "\n",
    "boot(Input('08').read())"
   ]
  },
  {
   "cell_type": "code",
   "execution_count": 27,
   "metadata": {},
   "outputs": [
    {
     "name": "stdout",
     "output_type": "stream",
     "text": [
      "Wall time: 149 ms\n"
     ]
    },
    {
     "data": {
      "text/plain": [
       "1270"
      ]
     },
     "execution_count": 27,
     "metadata": {},
     "output_type": "execute_result"
    }
   ],
   "source": [
    "%%time\n",
    "\n",
    "def boot(inp):\n",
    "    instructions = parse_instructions(inp)\n",
    "    #print(instructions)\n",
    "    \n",
    "    for j in range(len(instructions)):\n",
    "        #print(j)\n",
    "        i = 0\n",
    "        acc = 0\n",
    "        executed = []\n",
    "        if instructions[j][0] == 'acc':\n",
    "            exit\n",
    "        \n",
    "        while i not in executed:\n",
    "            #print('j: ' + str(j) + ', i: ' + str(i) + ', ' + str(acc))\n",
    "            if i == len(instructions):\n",
    "                return acc\n",
    "                break\n",
    "            executed.append(i)\n",
    "            if i != j:\n",
    "                opcode = instructions[i][0]\n",
    "            else:\n",
    "                if instructions[i][0] == 'nop':\n",
    "                    opcode = 'jmp'\n",
    "                else:\n",
    "                    opcode = 'nop'\n",
    "            value = int(instructions[i][1])\n",
    "            di, dacc = operator(opcode, value)\n",
    "            i += di\n",
    "            try:\n",
    "                acc += dacc\n",
    "            except:\n",
    "                pass\n",
    "        \n",
    "        \n",
    "inp = Input('08').read().strip()\n",
    "#inp = 'nop +0\\nacc +1\\njmp +4\\nacc +3\\njmp -3\\nacc -99\\nacc +1\\njmp -4\\nacc +6'\n",
    "boot(inp)"
   ]
  },
  {
   "cell_type": "markdown",
   "metadata": {},
   "source": [
    "## [Day 9: Encoding Error](https://adventofcode.com/2020/day/9)\n",
    "\n"
   ]
  },
  {
   "cell_type": "code",
   "execution_count": 28,
   "metadata": {},
   "outputs": [
    {
     "name": "stdout",
     "output_type": "stream",
     "text": [
      "Wall time: 64 ms\n"
     ]
    },
    {
     "data": {
      "text/plain": [
       "756008079"
      ]
     },
     "execution_count": 28,
     "metadata": {},
     "output_type": "execute_result"
    }
   ],
   "source": [
    "%%time\n",
    "\n",
    "xmas = [int(e) for e in Input('09').read().strip().split('\\n')]\n",
    "#xmas = [int(e) for e in '35\\n20\\n15\\n25\\n47\\n40\\n62\\n55\\n65\\n95\\n102\\n117\\n150\\n182\\n127\\n219\\n299\\n277\\n309\\n576'.strip().split('\\n')]\n",
    "\n",
    "def non_valid(lst, preamble):\n",
    "    for e in range(preamble, len(lst)):\n",
    "        sums = [sum(e) for e in itertools.combinations(xmas[e-preamble:e], 2)]\n",
    "        if xmas[e] not in sums:\n",
    "            return xmas[e]\n",
    "\n",
    "non_valid(xmas, 25)"
   ]
  },
  {
   "cell_type": "code",
   "execution_count": 29,
   "metadata": {},
   "outputs": [
    {
     "name": "stdout",
     "output_type": "stream",
     "text": [
      "Wall time: 716 ms\n"
     ]
    },
    {
     "data": {
      "text/plain": [
       "93727241"
      ]
     },
     "execution_count": 29,
     "metadata": {},
     "output_type": "execute_result"
    }
   ],
   "source": [
    "%%time\n",
    "\n",
    "def find_weakness(lst, preamble):\n",
    "    non_valid_number = non_valid(xmas, preamble)\n",
    "    for e in range(len(lst)):\n",
    "        for f in range(e + 1, len(lst)):\n",
    "            if sum(lst[e:f]) == non_valid_number:\n",
    "                return min(lst[e:f]) + max(lst[e:f])\n",
    "            elif sum(lst[e:f]) > non_valid_number:\n",
    "                break\n",
    "                \n",
    "#xmas = [int(e) for e in '35\\n20\\n15\\n25\\n47\\n40\\n62\\n55\\n65\\n95\\n102\\n117\\n150\\n182\\n127\\n219\\n299\\n277\\n309\\n576'.strip().split('\\n')]\n",
    "\n",
    "find_weakness(xmas, 25)"
   ]
  },
  {
   "cell_type": "markdown",
   "metadata": {},
   "source": [
    "## [Day 10: Adapter Array](https://adventofcode.com/2020/day/10)"
   ]
  },
  {
   "cell_type": "code",
   "execution_count": 30,
   "metadata": {},
   "outputs": [
    {
     "data": {
      "text/plain": [
       "3000"
      ]
     },
     "execution_count": 30,
     "metadata": {},
     "output_type": "execute_result"
    }
   ],
   "source": [
    "adapters = sorted([int(e) for e in Input('10').read().strip().split('\\n')])\n",
    "#adapters = sorted([int(e) for e in '28\\n33\\n18\\n42\\n31\\n14\\n46\\n20\\n48\\n47\\n24\\n23\\n49\\n45\\n19\\n38\\n39\\n11\\n1\\n32\\n25\\n35\\n8\\n17\\n7\\n9\\n4\\n2\\n34\\n10\\n3'.strip().split('\\n')])\n",
    "adapters = [adapters[0]] + [j - i for i, j in zip(adapters[:-1], adapters[1:])] + [3]\n",
    "\n",
    "adapters.count(1) * adapters.count(3)"
   ]
  },
  {
   "cell_type": "code",
   "execution_count": 31,
   "metadata": {
    "scrolled": true
   },
   "outputs": [
    {
     "data": {
      "text/plain": [
       "193434623148032"
      ]
     },
     "execution_count": 31,
     "metadata": {},
     "output_type": "execute_result"
    }
   ],
   "source": [
    "adapters = [int(e) for e in '16\\n10\\n15\\n5\\n1\\n11\\n7\\n19\\n6\\n12\\n4'.strip().split('\\n')]\n",
    "adapters = [int(e) for e in '28\\n33\\n18\\n42\\n31\\n14\\n46\\n20\\n48\\n47\\n24\\n23\\n49\\n45\\n19\\n38\\n39\\n11\\n1\\n32\\n25\\n35\\n8\\n17\\n7\\n9\\n4\\n2\\n34\\n10\\n3'.strip().split('\\n')]\n",
    "adapters = [int(e) for e in Input('10').read().strip().split('\\n')]\n",
    "adapters = sorted([0] + adapters)[::-1]\n",
    "\n",
    "links ={}\n",
    "for i, e in enumerate(adapters):\n",
    "    links[e] = []\n",
    "    for f in adapters[i + 1:]:\n",
    "        if e - f <=3:\n",
    "            links[e].append(f)\n",
    "        else:\n",
    "            break\n",
    "            \n",
    "path = {0: 1}\n",
    "for e in sorted(adapters):\n",
    "    if e not in path:\n",
    "        s = 0\n",
    "        for f in links[e]:\n",
    "            s += path[f]\n",
    "        path[e] = s\n",
    "max(path.values())"
   ]
  },
  {
   "cell_type": "markdown",
   "metadata": {},
   "source": [
    "## [Day 11: Seating System](https://adventofcode.com/2020/day/11)\n",
    "\n",
    "Now, you just need to model the people who will be arriving shortly. Fortunately, people are entirely predictable and always follow a simple set of rules. All decisions are based on the number of occupied seats adjacent to a given seat (one of the eight positions immediately up, down, left, right, or diagonal from the seat)."
   ]
  },
  {
   "cell_type": "code",
   "execution_count": 221,
   "metadata": {},
   "outputs": [
    {
     "name": "stdout",
     "output_type": "stream",
     "text": [
      "Wall time: 2.91 s\n"
     ]
    },
    {
     "data": {
      "text/plain": [
       "2265"
      ]
     },
     "execution_count": 221,
     "metadata": {},
     "output_type": "execute_result"
    }
   ],
   "source": [
    "%%time\n",
    "\n",
    "import copy\n",
    "\n",
    "def neighbors8(point):\n",
    "    x, y = point\n",
    "    \"The eight neighboring squares.\"\n",
    "    return [(x-1, y-1), (x, y-1), (x+1, y-1),\n",
    "            (x-1, y),             (x+1, y),\n",
    "            (x-1, y+1), (x, y+1), (x+1, y+1)]\n",
    "\n",
    "def neighbors_value(point, grid):\n",
    "    maxx = len(grid[0]) - 1\n",
    "    maxy = len(grid) - 1\n",
    "    neighbors = neighbors8(point)\n",
    "    for i, e in enumerate(neighbors):\n",
    "        x, y = (e)\n",
    "        if 0 <= x <= maxx and 0 <= y <= maxy:\n",
    "            neighbors[i] = grid[y][x]\n",
    "        else:\n",
    "            neighbors[i] = 0\n",
    "    return neighbors.count('T')\n",
    "    \n",
    "points = 'L.LL.LL.LL\\nLLLLLLL.LL\\nL.L.L..L..\\nLLLL.LL.LL\\nL.LL.LL.LL\\nL.LLLLL.LL\\n..L.L.....\\nLLLLLLLLLL\\nL.LLLLLL.L\\nL.LLLLL.LL'.strip().split('\\n')\n",
    "points = Input('11').read().strip().split('\\n')\n",
    "\n",
    "points = [list(e) for e in points]\n",
    "tmp = [['.'] * len(points[0])] * len(points)\n",
    "#print(points)\n",
    "while tmp != points:\n",
    "    tmp = copy.deepcopy(points)\n",
    "    for a, row in enumerate(points):\n",
    "        for b, col in enumerate(row):\n",
    "\n",
    "            point = (b, a)\n",
    "            if tmp[a][b] == 'T' and neighbors_value(point, tmp) >= 4:\n",
    "                points[a][b] = 'L'\n",
    "            if tmp[a][b] == 'L' and neighbors_value(point, tmp) == 0:\n",
    "                points[a][b] = 'T'\n",
    "\n",
    "sum([e.count('T') for e in points])"
   ]
  },
  {
   "cell_type": "code",
   "execution_count": 224,
   "metadata": {},
   "outputs": [
    {
     "data": {
      "text/plain": [
       "2045"
      ]
     },
     "execution_count": 224,
     "metadata": {},
     "output_type": "execute_result"
    }
   ],
   "source": [
    "#points = 'L.LL.LL.LL\\nLLLLLLL.LL\\nL.L.L..L..\\nLLLL.LL.LL\\nL.LL.LL.LL\\nL.LLLLL.LL\\n..L.L.....\\nLLLLLLLLLL\\nL.LLLLLL.L\\nL.LLLLL.LL'.strip().split('\\n')\n",
    "points = Input('11').read().strip().split('\\n')\n",
    "points = [list(e) for e in points]\n",
    "directions = [-1, -1], [-1, 0], [-1, 1], [0, 1], [1, 1], [1, 0], [1, -1], [0, -1]\n",
    "\n",
    "def new_position(point, direction):\n",
    "    return [x + y for x, y in list(zip(point, direction))]\n",
    "\n",
    "def list_of_seats(grid, code):\n",
    "    list_of_seats = []\n",
    "    for a in range(len(grid)):\n",
    "        for b in range(len(grid[0])):\n",
    "            if grid[a][b] == code:\n",
    "                list_of_seats.append([a, b])\n",
    "    return list_of_seats\n",
    "                \n",
    "\n",
    "def find_neighbors(grid, directions):\n",
    "    neighbors = {}\n",
    "    seats = list_of_seats(grid, 'L')\n",
    "    for seat in seats:\n",
    "        tmp = []\n",
    "        for direction in directions:\n",
    "            new_pos = copy.deepcopy(seat)\n",
    "            while True:\n",
    "                new_pos = new_position(new_pos, direction)\n",
    "                if 0 > new_pos[0] or new_pos[0] >= len(grid):\n",
    "                    break\n",
    "                if 0 > new_pos[1] or new_pos[1] >= len(grid[0]):\n",
    "                    break\n",
    "                \n",
    "                if new_pos in seats:\n",
    "                    tmp.append(new_pos)\n",
    "                    break\n",
    "                \n",
    "        neighbors[str(seat)] = tmp\n",
    "            \n",
    "    return neighbors        \n",
    "\n",
    "list_neighbors = find_neighbors(points, directions)\n",
    "seats = list_of_seats(points, 'L')\n",
    "tmp = [['.'] * len(points[0])] * len(points)\n",
    "\n",
    "while tmp != points:\n",
    "    #print(points)\n",
    "    tmp = copy.deepcopy(points)\n",
    "    for seat in seats:\n",
    "        a, b = seat\n",
    "        neighbors = list_neighbors[str(seat)]\n",
    "        score = [tmp[a][b] for a, b in neighbors].count('T')\n",
    "        if tmp[a][b] == 'L' and score == 0:\n",
    "            points[a][b] = 'T'\n",
    "        elif tmp[a][b] == 'T' and score >= 5:\n",
    "            points[a][b] = 'L'\n",
    "\n",
    "sum([e.count('T') for e in points])\n"
   ]
  },
  {
   "cell_type": "markdown",
   "metadata": {},
   "source": [
    "## [Day 12: Rain Risk](https://adventofcode.com/2020/day/12)\n",
    "\n",
    "Your ferry made decent progress toward the island, but the storm came in faster than anyone expected. The ferry needs to take evasive actions!\n",
    "\n",
    "Unfortunately, the ship's navigation computer seems to be malfunctioning; rather than giving a route directly to safety, it produced extremely circuitous instructions. When the captain uses the PA system to ask if anyone can help, you quickly volunteer."
   ]
  },
  {
   "cell_type": "code",
   "execution_count": 302,
   "metadata": {},
   "outputs": [
    {
     "data": {
      "text/plain": [
       "1645.0"
      ]
     },
     "execution_count": 302,
     "metadata": {},
     "output_type": "execute_result"
    }
   ],
   "source": [
    "Point = complex\n",
    "headings = {'N': 1j, 'S': -1j, 'E': 1, 'W': -1, 'R': -1j, 'L': 1j}\n",
    "\n",
    "def distance(point):\n",
    "    return abs(point.real) + abs(point.imag)\n",
    "\n",
    "def how_far(moves):\n",
    "    loc, heading = 0, E\n",
    "    for turn, dist in parse(moves):\n",
    "        if turn == 'R' or turn == 'L':\n",
    "            for i in range(int(dist/90)):\n",
    "                heading *= headings[turn]\n",
    "        elif turn == 'F':\n",
    "            loc += heading * dist\n",
    "        else:\n",
    "            loc += headings[turn] * dist\n",
    "        #print(loc, heading)\n",
    "    return distance(loc)\n",
    "\n",
    "def parse(text):\n",
    "    turns = []\n",
    "    return [(turn, int(d)) for (turn, d) in re.findall(r'(\\w)(\\d+)', text)]\n",
    "\n",
    "how_far('F10\\nN3\\nF7\\nR90\\nF11')\n",
    "how_far(Input('12').read())"
   ]
  },
  {
   "cell_type": "code",
   "execution_count": 326,
   "metadata": {},
   "outputs": [
    {
     "name": "stdout",
     "output_type": "stream",
     "text": [
      "(100+10j) (10+1j)\n",
      "(100+10j) (10+4j)\n",
      "(170+38j) (10+4j)\n",
      "(170+38j) (4.000000000000001-10j)\n",
      "(214-72j) (4.000000000000001-10j)\n",
      "0 (1.0000000000000007-10j)\n",
      "0 (1.0000000000000007-8j)\n",
      "0 (1.0000000000000007-6j)\n",
      "(94.00000000000006-564j) (1.0000000000000007-6j)\n",
      "(94.00000000000006-564j) (-6-1.000000000000001j)\n",
      "(94.00000000000006-564j) (-3-1.000000000000001j)\n",
      "(88.00000000000006-566j) (-3-1.000000000000001j)\n",
      "(88.00000000000006-566j) (1.0000000000000009-3j)\n",
      "(88.00000000000006-566j) (3+1.0000000000000007j)\n",
      "(286.00000000000006-499.99999999999994j) (3+1.0000000000000007j)\n",
      "(286.00000000000006-499.99999999999994j) (3-3.999999999999999j)\n",
      "(286.00000000000006-499.99999999999994j) (3.999999999999999+2.9999999999999996j)\n",
      "(286.00000000000006-499.99999999999994j) (0.9999999999999991+2.9999999999999996j)\n",
      "(286.00000000000006-499.99999999999994j) (2.9999999999999996-0.9999999999999989j)\n",
      "(286.00000000000006-499.99999999999994j) (2.9999999999999996+2.000000000000001j)\n",
      "(286.00000000000006-499.99999999999994j) (0.9999999999999996+2.000000000000001j)\n",
      "(286.00000000000006-499.99999999999994j) (0.9999999999999996+4.000000000000001j)\n",
      "(286.00000000000006-499.99999999999994j) (-4.440892098500626e-16+4.000000000000001j)\n",
      "(286.00000000000006-499.99999999999994j) (4.000000000000001+6.890185696795333e-16j)\n",
      "(286.00000000000006-499.99999999999994j) (7.000000000000001+6.890185696795333e-16j)\n",
      "(986.0000000000002-499.9999999999999j) (7.000000000000001+6.890185696795333e-16j)\n",
      "(986.0000000000002-499.9999999999999j) (7.000000000000001-3.999999999999999j)\n",
      "(1448.0000000000002-763.9999999999998j) (7.000000000000001-3.999999999999999j)\n",
      "(1448.0000000000002-763.9999999999998j) (-7.000000000000002+3.9999999999999982j)\n",
      "(776-379.99999999999994j) (-7.000000000000002+3.9999999999999982j)\n",
      "(776-379.99999999999994j) (3.999999999999998+7.000000000000002j)\n",
      "(776-379.99999999999994j) (3.999999999999998+9.000000000000002j)\n",
      "(776-379.99999999999994j) (9.000000000000002-3.9999999999999973j)\n",
      "(776-379.99999999999994j) (11.000000000000002-3.9999999999999973j)\n",
      "(776-379.99999999999994j) (11.000000000000002-6.999999999999997j)\n",
      "(776-379.99999999999994j) (12.000000000000002-6.999999999999997j)\n",
      "(1556-834.9999999999998j) (12.000000000000002-6.999999999999997j)\n",
      "(1556-834.9999999999998j) (8.000000000000002-6.999999999999997j)\n",
      "(1604-876.9999999999998j) (8.000000000000002-6.999999999999997j)\n",
      "(1604-876.9999999999998j) (-8.000000000000002+6.999999999999998j)\n",
      "(1604-876.9999999999998j) (-10.000000000000002+6.999999999999998j)\n",
      "(1604-876.9999999999998j) (-6.999999999999999-10.000000000000002j)\n",
      "(939.0000000000001-1827j) (-6.999999999999999-10.000000000000002j)\n",
      "(939.0000000000001-1827j) (10.000000000000002-7j)\n",
      "(1909.0000000000005-2506j) (10.000000000000002-7j)\n",
      "(1909.0000000000005-2506j) (12.000000000000002-7j)\n",
      "(2341.0000000000005-2758j) (12.000000000000002-7j)\n",
      "(2341.0000000000005-2758j) (14.000000000000002-7j)\n",
      "(2341.0000000000005-2758j) (-6.999999999999999-14.000000000000002j)\n",
      "(2341.0000000000005-2758j) (-2.999999999999999-14.000000000000002j)\n",
      "(2047.0000000000005-4130j) (-2.999999999999999-14.000000000000002j)\n",
      "(2047.0000000000005-4130j) (-2.999999999999999-10.000000000000002j)\n",
      "(1837.0000000000005-4830j) (-2.999999999999999-10.000000000000002j)\n",
      "(1837.0000000000005-4830j) (-2.999999999999999-11.000000000000002j)\n",
      "(1837.0000000000005-4830j) (11.000000000000002-2.999999999999997j)\n",
      "(1837.0000000000005-4830j) (12.000000000000002-2.999999999999997j)\n",
      "(1993.0000000000005-4869j) (12.000000000000002-2.999999999999997j)\n",
      "(1993.0000000000005-4869j) (-2.999999999999996-12.000000000000002j)\n",
      "(1993.0000000000005-4869j) (-3.999999999999996-12.000000000000002j)\n",
      "(1993.0000000000005-4869j) (12.000000000000002-3.999999999999997j)\n",
      "(2977.0000000000005-5197j) (12.000000000000002-3.999999999999997j)\n",
      "(2977.0000000000005-5197j) (12.000000000000002-5.9999999999999964j)\n",
      "(2977.0000000000005-5197j) (-5.999999999999996-12.000000000000002j)\n",
      "(2977.0000000000005-5197j) (-5.999999999999996-10.000000000000002j)\n",
      "(2497.000000000001-5997j) (-5.999999999999996-10.000000000000002j)\n",
      "(2497.000000000001-5997j) (-5.999999999999996-9.000000000000002j)\n",
      "(2497.000000000001-5997j) (-9.000000000000002+5.999999999999995j)\n",
      "(2263.000000000001-5841j) (-9.000000000000002+5.999999999999995j)\n",
      "(2263.000000000001-5841j) (-13.000000000000002+5.999999999999995j)\n",
      "(1964.000000000001-5703j) (-13.000000000000002+5.999999999999995j)\n",
      "(1964.000000000001-5703j) (-13.000000000000002+0.9999999999999947j)\n",
      "(1028.000000000001-5631j) (-13.000000000000002+0.9999999999999947j)\n",
      "(1028.000000000001-5631j) (-13.000000000000002+5.999999999999995j)\n",
      "(1028.000000000001-5631j) (-15.000000000000002+5.999999999999995j)\n",
      "(1028.000000000001-5631j) (-15.000000000000002+10.999999999999995j)\n",
      "(323.0000000000008-5114j) (-15.000000000000002+10.999999999999995j)\n",
      "(323.0000000000008-5114j) (10.999999999999998+15j)\n",
      "(521.0000000000008-4844j) (10.999999999999998+15j)\n",
      "(521.0000000000008-4844j) (9.999999999999998+15j)\n",
      "(521.0000000000008-4844j) (-15+10j)\n",
      "(-843.9999999999992-3934j) (-15+10j)\n",
      "(-843.9999999999992-3934j) (9.999999999999998+15j)\n",
      "(-843.9999999999992-3934j) (4.999999999999998+15j)\n",
      "(-843.9999999999992-3934j) (4.999999999999998+17j)\n",
      "(-543.9999999999993-2914j) (4.999999999999998+17j)\n",
      "(-543.9999999999993-2914j) (9.999999999999998+17j)\n",
      "(-543.9999999999993-2914j) (9.999999999999998+14j)\n",
      "(-543.9999999999993-2914j) (14-9.999999999999998j)\n",
      "(-543.9999999999993-2914j) (-14.000000000000002+9.999999999999996j)\n",
      "(-543.9999999999993-2914j) (-14.000000000000002+6.9999999999999964j)\n",
      "(-543.9999999999993-2914j) (-6.999999999999997-14.000000000000002j)\n",
      "(-543.9999999999993-2914j) (-10.999999999999996-14.000000000000002j)\n",
      "(-1423.999999999999-4034j) (-10.999999999999996-14.000000000000002j)\n",
      "(-1423.999999999999-4034j) (-10.999999999999996-16j)\n",
      "(-1423.999999999999-4034j) (16-10.999999999999998j)\n",
      "(-927.9999999999991-4375j) (16-10.999999999999998j)\n",
      "(-927.9999999999991-4375j) (15-10.999999999999998j)\n",
      "(-927.9999999999991-4375j) (11+15j)\n",
      "(-432.9999999999991-3700j) (11+15j)\n",
      "(-432.9999999999991-3700j) (11+12j)\n",
      "(271.0000000000009-2932j) (11+12j)\n",
      "(271.0000000000009-2932j) (11+13j)\n",
      "(271.0000000000009-2932j) (7+13j)\n",
      "(271.0000000000009-2932j) (7+15j)\n",
      "(271.0000000000009-2932j) (-6.999999999999998-15j)\n",
      "(271.0000000000009-2932j) (-9.999999999999998-15j)\n",
      "(271.0000000000009-2932j) (-15+9.999999999999996j)\n",
      "(271.0000000000009-2932j) (-15+8.999999999999996j)\n",
      "(166.0000000000009-2869j) (-15+8.999999999999996j)\n",
      "(166.0000000000009-2869j) (-16+8.999999999999996j)\n",
      "(166.0000000000009-2869j) (16-8.999999999999995j)\n",
      "(166.0000000000009-2869j) (15-8.999999999999995j)\n",
      "(166.0000000000009-2869j) (15-12.999999999999995j)\n",
      "(166.0000000000009-2869j) (19-12.999999999999995j)\n",
      "(166.0000000000009-2869j) (15-12.999999999999995j)\n",
      "(1471.000000000001-3999.9999999999995j) (15-12.999999999999995j)\n",
      "(1471.000000000001-3999.9999999999995j) (-12.999999999999993-15j)\n",
      "(1471.000000000001-3999.9999999999995j) (-12.999999999999993-10j)\n",
      "(626.0000000000014-4650j) (-12.999999999999993-10j)\n",
      "(626.0000000000014-4650j) (-16.999999999999993-10j)\n",
      "(371.0000000000015-4800j) (-16.999999999999993-10j)\n",
      "(371.0000000000015-4800j) (-11.999999999999993-10j)\n",
      "(371.0000000000015-4800j) (-11.999999999999993-5j)\n",
      "(371.0000000000015-4800j) (4.999999999999999-11.999999999999993j)\n",
      "(551.0000000000015-5232j) (4.999999999999999-11.999999999999993j)\n",
      "(551.0000000000015-5232j) (5.999999999999999-11.999999999999993j)\n",
      "(971.0000000000014-6072j) (5.999999999999999-11.999999999999993j)\n",
      "(971.0000000000014-6072j) (6.999999999999999-11.999999999999993j)\n",
      "(971.0000000000014-6072j) (-6.999999999999997+11.999999999999993j)\n",
      "(677.0000000000015-5568j) (-6.999999999999997+11.999999999999993j)\n",
      "(677.0000000000015-5568j) (-11.999999999999993-6.9999999999999964j)\n",
      "(569.0000000000016-5631j) (-11.999999999999993-6.9999999999999964j)\n",
      "(569.0000000000016-5631j) (6.999999999999996-11.999999999999993j)\n",
      "(569.0000000000016-5631j) (10.999999999999996-11.999999999999993j)\n",
      "(591.0000000000016-5655j) (10.999999999999996-11.999999999999993j)\n",
      "(976.0000000000015-6075j) (10.999999999999996-11.999999999999993j)\n",
      "(976.0000000000015-6075j) (10.999999999999996-7.999999999999993j)\n",
      "(976.0000000000015-6075j) (14.999999999999996-7.999999999999993j)\n",
      "(976.0000000000015-6075j) (14.999999999999996-5.999999999999993j)\n",
      "(976.0000000000015-6075j) (5.999999999999994+14.999999999999996j)\n",
      "(976.0000000000015-6075j) (5.999999999999994+18.999999999999996j)\n",
      "(976.0000000000015-6075j) (18.999999999999996-5.999999999999993j)\n",
      "(2876.000000000001-6674.999999999999j) (18.999999999999996-5.999999999999993j)\n",
      "(2876.000000000001-6674.999999999999j) (18.999999999999996-8.999999999999993j)\n",
      "(3123.000000000001-6791.999999999999j) (18.999999999999996-8.999999999999993j)\n",
      "(3123.000000000001-6791.999999999999j) (19.999999999999996-8.999999999999993j)\n",
      "(3123.000000000001-6791.999999999999j) (19.999999999999996-12.999999999999993j)\n",
      "(4443.000000000001-7649.999999999998j) (19.999999999999996-12.999999999999993j)\n",
      "(4443.000000000001-7649.999999999998j) (12.999999999999995+19.999999999999996j)\n",
      "(5418-6149.999999999998j) (12.999999999999995+19.999999999999996j)\n",
      "(5418-6149.999999999998j) (17.999999999999993+19.999999999999996j)\n",
      "(5418-6149.999999999998j) (-17.99999999999999-20j)\n",
      "(5418-6149.999999999998j) (-15.99999999999999-20j)\n",
      "(5418-6149.999999999998j) (20-15.999999999999991j)\n",
      "(5418-6149.999999999998j) (16-15.999999999999991j)\n",
      "(6842-7573.999999999997j) (16-15.999999999999991j)\n",
      "(6842-7573.999999999997j) (16-20.999999999999993j)\n",
      "(6842-7573.999999999997j) (-20.999999999999993-16j)\n",
      "(6842-7573.999999999997j) (-16.999999999999993-16j)\n",
      "(6757-7653.999999999997j) (-16.999999999999993-16j)\n",
      "(6757-7653.999999999997j) (16.000000000000004-16.99999999999999j)\n",
      "(6757-7653.999999999997j) (19.000000000000004-16.99999999999999j)\n",
      "(6757-7653.999999999997j) (19.000000000000004-21.99999999999999j)\n",
      "(6757-7653.999999999997j) (-21.99999999999999-19.000000000000004j)\n",
      "(5327.000000000001-8888.999999999998j) (-21.99999999999999-19.000000000000004j)\n",
      "(5327.000000000001-8888.999999999998j) (-21.99999999999999-24.000000000000004j)\n",
      "(5327.000000000001-8888.999999999998j) (21.999999999999986+24.000000000000007j)\n",
      "(5327.000000000001-8888.999999999998j) (21.999999999999986+21.000000000000007j)\n",
      "(5327.000000000001-8888.999999999998j) (17.999999999999986+21.000000000000007j)\n",
      "(6551-7460.999999999998j) (17.999999999999986+21.000000000000007j)\n",
      "(6551-7460.999999999998j) (16.999999999999986+21.000000000000007j)\n",
      "(7604.999999999999-6158.999999999998j) (16.999999999999986+21.000000000000007j)\n",
      "(7604.999999999999-6158.999999999998j) (15.999999999999986+21.000000000000007j)\n",
      "(9188.999999999998-4079.9999999999973j) (15.999999999999986+21.000000000000007j)\n",
      "(10724.999999999996-2063.9999999999964j) (15.999999999999986+21.000000000000007j)\n",
      "(10724.999999999996-2063.9999999999964j) (21.000000000000007-15.999999999999984j)\n",
      "(10724.999999999996-2063.9999999999964j) (22.000000000000007-15.999999999999984j)\n",
      "(10724.999999999996-2063.9999999999964j) (-15.999999999999982-22.000000000000007j)\n",
      "(10724.999999999996-2063.9999999999964j) (15.999999999999986+22.000000000000004j)\n",
      "(12260.999999999995+48.00000000000409j) (15.999999999999986+22.000000000000004j)\n",
      "(12260.999999999995+48.00000000000409j) (11.999999999999986+22.000000000000004j)\n",
      "(12260.999999999995+48.00000000000409j) (11.999999999999986+24.000000000000004j)\n",
      "(12260.999999999995+48.00000000000409j) (9.999999999999986+24.000000000000004j)\n",
      "(12260.999999999995+48.00000000000409j) (24.000000000000004-9.999999999999984j)\n",
      "(13028.999999999995-271.9999999999954j) (24.000000000000004-9.999999999999984j)\n",
      "(13028.999999999995-271.9999999999954j) (24.000000000000004-8.999999999999984j)\n",
      "(13028.999999999995-271.9999999999954j) (25.000000000000004-8.999999999999984j)\n",
      "(13028.999999999995-271.9999999999954j) (8.999999999999986+25.000000000000004j)\n",
      "(13028.999999999995-271.9999999999954j) (9.999999999999986+25.000000000000004j)\n",
      "(13028.999999999995-271.9999999999954j) (9.999999999999986+22.000000000000004j)\n",
      "(13088.999999999995-139.99999999999537j) (9.999999999999986+22.000000000000004j)\n",
      "(13088.999999999995-139.99999999999537j) (9.999999999999986+18.000000000000004j)\n",
      "(13088.999999999995-139.99999999999537j) (10.999999999999986+18.000000000000004j)\n",
      "(13088.999999999995-139.99999999999537j) (10.999999999999986+20.000000000000004j)\n",
      "(13088.999999999995-139.99999999999537j) (5.999999999999986+20.000000000000004j)\n",
      "(13088.999999999995-139.99999999999537j) (5.999999999999986+15.000000000000004j)\n",
      "(13088.999999999995-139.99999999999537j) (9.999999999999986+15.000000000000004j)\n",
      "(13118.999999999995-94.99999999999535j) (9.999999999999986+15.000000000000004j)\n",
      "(13698.999999999995+775.0000000000049j) (9.999999999999986+15.000000000000004j)\n",
      "(13698.999999999995+775.0000000000049j) (9.999999999999986+16.000000000000004j)\n",
      "(14658.999999999993+2311.0000000000055j) (9.999999999999986+16.000000000000004j)\n",
      "(14658.999999999993+2311.0000000000055j) (14.999999999999986+16.000000000000004j)\n",
      "(15123.999999999993+2807.0000000000055j) (14.999999999999986+16.000000000000004j)\n",
      "(15123.999999999993+2807.0000000000055j) (16.000000000000004-14.999999999999984j)\n",
      "(16307.999999999993+1697.0000000000066j) (16.000000000000004-14.999999999999984j)\n",
      "(16307.999999999993+1697.0000000000066j) (-16.000000000000007+14.999999999999982j)\n",
      "(16307.999999999993+1697.0000000000066j) (-16.000000000000007+16.999999999999982j)\n",
      "(16307.999999999993+1697.0000000000066j) (-17.000000000000007+16.999999999999982j)\n",
      "(15202.999999999993+2802.0000000000055j) (-17.000000000000007+16.999999999999982j)\n",
      "(15202.999999999993+2802.0000000000055j) (-16.999999999999982-17.000000000000007j)\n",
      "(14437.999999999993+2037.000000000005j) (-16.999999999999982-17.000000000000007j)\n",
      "(13196.999999999995+796.0000000000045j) (-16.999999999999982-17.000000000000007j)\n",
      "(13196.999999999995+796.0000000000045j) (-17.000000000000007+16.999999999999982j)\n",
      "(13196.999999999995+796.0000000000045j) (-17.000000000000007+15.999999999999982j)\n",
      "(13196.999999999995+796.0000000000045j) (-15.999999999999979-17.00000000000001j)\n",
      "(13196.999999999995+796.0000000000045j) (-15.999999999999979-12.00000000000001j)\n",
      "(13196.999999999995+796.0000000000045j) (12.000000000000009-15.999999999999979j)\n",
      "(13196.999999999995+796.0000000000045j) (11.000000000000009-15.999999999999979j)\n",
      "(13196.999999999995+796.0000000000045j) (11.000000000000009-12.999999999999979j)\n",
      "(13196.999999999995+796.0000000000045j) (12.999999999999979+11.000000000000009j)\n",
      "(13664.999999999995+1192.000000000005j) (12.999999999999979+11.000000000000009j)\n",
      "(13664.999999999995+1192.000000000005j) (11.000000000000009-12.999999999999979j)\n",
      "(13664.999999999995+1192.000000000005j) (11.000000000000009-8.999999999999979j)\n",
      "(13664.999999999995+1192.000000000005j) (-11.000000000000007+8.99999999999998j)\n",
      "(13664.999999999995+1192.000000000005j) (-15.000000000000007+8.99999999999998j)\n",
      "(13664.999999999995+1192.000000000005j) (-15.000000000000007+13.99999999999998j)\n",
      "(13664.999999999995+1192.000000000005j) (15.000000000000009-13.999999999999979j)\n",
      "(13664.999999999995+1192.000000000005j) (15.000000000000009-12.999999999999979j)\n",
      "(13664.999999999995+1192.000000000005j) (-12.999999999999977-15.000000000000009j)\n",
      "(13664.999999999995+1192.000000000005j) (-12.999999999999977-14.000000000000009j)\n",
      "(13664.999999999995+1192.000000000005j) (14.00000000000001-12.999999999999975j)\n",
      "(14784.999999999996+152.00000000000705j) (14.00000000000001-12.999999999999975j)\n",
      "(14784.999999999996+152.00000000000705j) (-12.999999999999975-14.00000000000001j)\n",
      "(14784.999999999996+152.00000000000705j) (-12.999999999999975-19.00000000000001j)\n",
      "(14784.999999999996+152.00000000000705j) (-9.999999999999975-19.00000000000001j)\n",
      "(14294.999999999998-778.9999999999935j) (-9.999999999999975-19.00000000000001j)\n",
      "(14294.999999999998-778.9999999999935j) (-14.999999999999975-19.00000000000001j)\n",
      "(13889.999999999998-1291.9999999999939j) (-14.999999999999975-19.00000000000001j)\n",
      "(13889.999999999998-1291.9999999999939j) (-13.999999999999975-19.00000000000001j)\n",
      "(13889.999999999998-1291.9999999999939j) (-13.999999999999975-17.00000000000001j)\n",
      "(13889.999999999998-1291.9999999999939j) (-17.999999999999975-17.00000000000001j)\n",
      "(13889.999999999998-1291.9999999999939j) (-17.999999999999975-20.00000000000001j)\n",
      "(13889.999999999998-1291.9999999999939j) (20.00000000000001-17.999999999999975j)\n",
      "(15890-3091.9999999999914j) (20.00000000000001-17.999999999999975j)\n",
      "(15890-3091.9999999999914j) (20.00000000000001-16.999999999999975j)\n",
      "(16450-3567.999999999991j) (20.00000000000001-16.999999999999975j)\n",
      "(16450-3567.999999999991j) (22.00000000000001-16.999999999999975j)\n",
      "(18386-5063.999999999989j) (22.00000000000001-16.999999999999975j)\n",
      "(18386-5063.999999999989j) (22.00000000000001-17.999999999999975j)\n",
      "(18386-5063.999999999989j) (-17.999999999999975-22.00000000000001j)\n",
      "(18134-5371.999999999989j) (-17.999999999999975-22.00000000000001j)\n",
      "(18134-5371.999999999989j) (-17.999999999999975-26.00000000000001j)\n",
      "(18134-5371.999999999989j) (17.99999999999998+26.000000000000007j)\n",
      "(19807.999999999996-2953.9999999999886j) (17.99999999999998+26.000000000000007j)\n",
      "(19807.999999999996-2953.9999999999886j) (18.99999999999998+26.000000000000007j)\n",
      "(19807.999999999996-2953.9999999999886j) (-26.000000000000007+18.99999999999998j)\n",
      "(18143.999999999996-1737.99999999999j) (-26.000000000000007+18.99999999999998j)\n",
      "(18143.999999999996-1737.99999999999j) (-18.99999999999998-26.000000000000007j)\n",
      "(18143.999999999996-1737.99999999999j) (26.000000000000007-18.99999999999998j)\n",
      "(20327.999999999996-3333.999999999988j) (26.000000000000007-18.99999999999998j)\n",
      "(20327.999999999996-3333.999999999988j) (30.000000000000007-18.99999999999998j)\n",
      "(22397.999999999996-4644.999999999987j) (30.000000000000007-18.99999999999998j)\n",
      "(22397.999999999996-4644.999999999987j) (29.000000000000007-18.99999999999998j)\n",
      "(22397.999999999996-4644.999999999987j) (-18.99999999999998-29.000000000000007j)\n",
      "(22397.999999999996-4644.999999999987j) (-13.999999999999979-29.000000000000007j)\n",
      "(22397.999999999996-4644.999999999987j) (-13.999999999999979-27.000000000000007j)\n",
      "(22397.999999999996-4644.999999999987j) (-14.999999999999979-27.000000000000007j)\n",
      "(22397.999999999996-4644.999999999987j) (-14.999999999999979-24.000000000000007j)\n",
      "(22247.999999999996-4884.999999999987j) (-14.999999999999979-24.000000000000007j)\n",
      "(22247.999999999996-4884.999999999987j) (-14.999999999999979-26.000000000000007j)\n",
      "(21287.999999999996-6548.999999999987j) (-14.999999999999979-26.000000000000007j)\n",
      "(21137.999999999996-6808.999999999987j) (-14.999999999999979-26.000000000000007j)\n",
      "(21137.999999999996-6808.999999999987j) (14.999999999999975+26.00000000000001j)\n",
      "(21137.999999999996-6808.999999999987j) (11.999999999999975+26.00000000000001j)\n",
      "(21137.999999999996-6808.999999999987j) (11.999999999999975+27.00000000000001j)\n",
      "(22121.999999999993-4594.999999999986j) (11.999999999999975+27.00000000000001j)\n",
      "(22121.999999999993-4594.999999999986j) (11.999999999999975+25.00000000000001j)\n",
      "(22121.999999999993-4594.999999999986j) (10.999999999999975+25.00000000000001j)\n",
      "(22121.999999999993-4594.999999999986j) (25.00000000000001-10.999999999999973j)\n",
      "(22121.999999999993-4594.999999999986j) (24.00000000000001-10.999999999999973j)\n",
      "(22121.999999999993-4594.999999999986j) (10.999999999999975+24.00000000000001j)\n",
      "(22121.999999999993-4594.999999999986j) (8.999999999999975+24.00000000000001j)\n",
      "(22121.999999999993-4594.999999999986j) (8.999999999999975+27.00000000000001j)\n",
      "(22976.99999999999-2029.9999999999854j) (8.999999999999975+27.00000000000001j)\n",
      "(22976.99999999999-2029.9999999999854j) (12.999999999999975+27.00000000000001j)\n",
      "(22976.99999999999-2029.9999999999854j) (12.999999999999975+30.00000000000001j)\n",
      "(22976.99999999999-2029.9999999999854j) (12.999999999999975+32.000000000000014j)\n",
      "(22976.99999999999-2029.9999999999854j) (15.999999999999975+32.000000000000014j)\n",
      "(22976.99999999999-2029.9999999999854j) (16.999999999999975+32.000000000000014j)\n",
      "(22976.99999999999-2029.9999999999854j) (16.999999999999975+33.000000000000014j)\n",
      "(22976.99999999999-2029.9999999999854j) (11.999999999999975+33.000000000000014j)\n",
      "(22976.99999999999-2029.9999999999854j) (33.000000000000014-11.999999999999973j)\n",
      "(22976.99999999999-2029.9999999999854j) (30.000000000000014-11.999999999999973j)\n",
      "(22976.99999999999-2029.9999999999854j) (30.000000000000014-14.999999999999973j)\n",
      "(22976.99999999999-2029.9999999999854j) (33.000000000000014-14.999999999999973j)\n",
      "(22976.99999999999-2029.9999999999854j) (14.999999999999975+33.000000000000014j)\n",
      "(22976.99999999999-2029.9999999999854j) (11.999999999999975+33.000000000000014j)\n",
      "(22976.99999999999-2029.9999999999854j) (11.999999999999975+38.000000000000014j)\n",
      "(23708.99999999999+288.00000000001546j) (11.999999999999975+38.000000000000014j)\n",
      "(23708.99999999999+288.00000000001546j) (11.999999999999975+35.000000000000014j)\n",
      "(24308.99999999999+2038.0000000000161j) (11.999999999999975+35.000000000000014j)\n",
      "(25160.999999999985+4523.000000000017j) (11.999999999999975+35.000000000000014j)\n",
      "(25160.999999999985+4523.000000000017j) (12.999999999999975+35.000000000000014j)\n",
      "(25160.999999999985+4523.000000000017j) (13.999999999999975+35.000000000000014j)\n",
      "(26042.999999999985+6728.000000000018j) (13.999999999999975+35.000000000000014j)\n",
      "(26042.999999999985+6728.000000000018j) (-35.000000000000014+13.999999999999977j)\n",
      "(26042.999999999985+6728.000000000018j) (-40.000000000000014+13.999999999999977j)\n",
      "(26042.999999999985+6728.000000000018j) (-40.000000000000014+12.999999999999977j)\n",
      "(26042.999999999985+6728.000000000018j) (12.999999999999975+40.000000000000014j)\n",
      "(26419.999999999985+7888.000000000018j) (12.999999999999975+40.000000000000014j)\n",
      "(26419.999999999985+7888.000000000018j) (-40.000000000000014+12.999999999999977j)\n",
      "(26419.999999999985+7888.000000000018j) (-40.000000000000014+11.999999999999977j)\n",
      "(26419.999999999985+7888.000000000018j) (11.999999999999975+40.000000000000014j)\n",
      "(26419.999999999985+7888.000000000018j) (11.999999999999975+39.000000000000014j)\n",
      "(26419.999999999985+7888.000000000018j) (-39.000000000000014+11.999999999999977j)\n",
      "(26419.999999999985+7888.000000000018j) (-43.000000000000014+11.999999999999977j)\n",
      "(26419.999999999985+7888.000000000018j) (-43.000000000000014+15.999999999999977j)\n",
      "(26419.999999999985+7888.000000000018j) (-15.99999999999997-43.000000000000014j)\n",
      "(26419.999999999985+7888.000000000018j) (-15.99999999999997-44.000000000000014j)\n",
      "(25027.99999999999+4060.000000000017j) (-15.99999999999997-44.000000000000014j)\n",
      "(25027.99999999999+4060.000000000017j) (-44.000000000000014+15.999999999999966j)\n",
      "(21419.99999999999+5372.000000000015j) (-44.000000000000014+15.999999999999966j)\n",
      "(21419.99999999999+5372.000000000015j) (-45.000000000000014+15.999999999999966j)\n",
      "(21419.99999999999+5372.000000000015j) (-15.99999999999997-45.000000000000014j)\n",
      "(21419.99999999999+5372.000000000015j) (-15.99999999999997-49.000000000000014j)\n",
      "(21419.99999999999+5372.000000000015j) (49.000000000000014-15.999999999999973j)\n",
      "(21419.99999999999+5372.000000000015j) (47.000000000000014-15.999999999999973j)\n",
      "(21419.99999999999+5372.000000000015j) (47.000000000000014-11.999999999999973j)\n",
      "(21419.99999999999+5372.000000000015j) (-11.99999999999997-47.000000000000014j)\n",
      "(20687.999999999993+2505.0000000000136j) (-11.99999999999997-47.000000000000014j)\n",
      "(20687.999999999993+2505.0000000000136j) (-47.000000000000014+11.999999999999966j)\n",
      "(20687.999999999993+2505.0000000000136j) (-47.000000000000014+16.999999999999964j)\n",
      "(18901.999999999993+3151.0000000000123j) (-47.000000000000014+16.999999999999964j)\n",
      "(18901.999999999993+3151.0000000000123j) (-50.000000000000014+16.999999999999964j)\n",
      "(18901.999999999993+3151.0000000000123j) (-16.999999999999968-50.000000000000014j)\n",
      "(17949.999999999993+351.00000000001137j) (-16.999999999999968-50.000000000000014j)\n",
      "(17949.999999999993+351.00000000001137j) (-16.999999999999968-49.000000000000014j)\n",
      "(17949.999999999993+351.00000000001137j) (-49.000000000000014+16.999999999999964j)\n",
      "(17949.999999999993+351.00000000001137j) (-50.000000000000014+16.999999999999964j)\n",
      "(17949.999999999993+351.00000000001137j) (-50.000000000000014+14.999999999999964j)\n",
      "(13099.99999999999+1806.000000000008j) (-50.000000000000014+14.999999999999964j)\n",
      "(13099.99999999999+1806.000000000008j) (-50.000000000000014+9.999999999999964j)\n",
      "(13099.99999999999+1806.000000000008j) (9.999999999999961+50.000000000000014j)\n",
      "(13099.99999999999+1806.000000000008j) (10.999999999999961+50.000000000000014j)\n",
      "(14166.999999999987+6656.00000000001j) (10.999999999999961+50.000000000000014j)\n",
      "(14166.999999999987+6656.00000000001j) (-50.000000000000014+10.999999999999952j)\n",
      "(14166.999999999987+6656.00000000001j) (-50.000000000000014+12.999999999999952j)\n",
      "(14166.999999999987+6656.00000000001j) (50.000000000000014-12.999999999999957j)\n",
      "(14866.999999999987+6474.000000000011j) (50.000000000000014-12.999999999999957j)\n",
      "(14866.999999999987+6474.000000000011j) (51.000000000000014-12.999999999999957j)\n",
      "(14866.999999999987+6474.000000000011j) (-12.999999999999954-51.000000000000014j)\n",
      "(13956.99999999999+2904.00000000001j) (-12.999999999999954-51.000000000000014j)\n",
      "(13956.99999999999+2904.00000000001j) (12.999999999999961+51.000000000000014j)\n",
      "(13956.99999999999+2904.00000000001j) (12.999999999999961+47.000000000000014j)\n",
      "(13956.99999999999+2904.00000000001j) (15.999999999999961+47.000000000000014j)\n",
      "(13956.99999999999+2904.00000000001j) (-47.000000000000014+15.999999999999964j)\n",
      "(13956.99999999999+2904.00000000001j) (-47.000000000000014+18.999999999999964j)\n",
      "(9867.999999999989+4557.000000000007j) (-47.000000000000014+18.999999999999964j)\n",
      "(9867.999999999989+4557.000000000007j) (-44.000000000000014+18.999999999999964j)\n",
      "(9867.999999999989+4557.000000000007j) (-44.000000000000014+21.999999999999964j)\n",
      "(9867.999999999989+4557.000000000007j) (21.99999999999996+44.000000000000014j)\n",
      "(11165.999999999987+7153.000000000008j) (21.99999999999996+44.000000000000014j)\n",
      "(11561.999999999987+7945.000000000008j) (21.99999999999996+44.000000000000014j)\n",
      "(11561.999999999987+7945.000000000008j) (16.99999999999996+44.000000000000014j)\n",
      "(12768.999999999985+11069.00000000001j) (16.99999999999996+44.000000000000014j)\n",
      "(12768.999999999985+11069.00000000001j) (19.99999999999996+44.000000000000014j)\n",
      "(12768.999999999985+11069.00000000001j) (19.99999999999996+39.000000000000014j)\n",
      "(12768.999999999985+11069.00000000001j) (16.99999999999996+39.000000000000014j)\n",
      "(12768.999999999985+11069.00000000001j) (-16.999999999999957-39.000000000000014j)\n",
      "(11561.999999999989+8300.000000000007j) (-16.999999999999957-39.000000000000014j)\n",
      "(11561.999999999989+8300.000000000007j) (-16.999999999999957-42.000000000000014j)\n",
      "(11561.999999999989+8300.000000000007j) (-21.999999999999957-42.000000000000014j)\n",
      "(10527.99999999999+6326.000000000006j) (-21.999999999999957-42.000000000000014j)\n",
      "(10527.99999999999+6326.000000000006j) (-21.999999999999957-37.000000000000014j)\n",
      "(10527.99999999999+6326.000000000006j) (37.000000000000014-21.99999999999996j)\n",
      "(13450.999999999993+4588.000000000009j) (37.000000000000014-21.99999999999996j)\n",
      "(13450.999999999993+4588.000000000009j) (37.000000000000014-18.99999999999996j)\n",
      "(14930.999999999993+3828.000000000011j) (37.000000000000014-18.99999999999996j)\n",
      "(14930.999999999993+3828.000000000011j) (32.000000000000014-18.99999999999996j)\n",
      "(14930.999999999993+3828.000000000011j) (32.000000000000014-20.99999999999996j)\n",
      "(16818.999999999993+2589.000000000013j) (32.000000000000014-20.99999999999996j)\n",
      "(16818.999999999993+2589.000000000013j) (29.000000000000014-20.99999999999996j)\n",
      "(16876.999999999993+2547.000000000013j) (29.000000000000014-20.99999999999996j)\n",
      "(16876.999999999993+2547.000000000013j) (28.000000000000014-20.99999999999996j)\n",
      "(18640.999999999993+1224.0000000000157j) (28.000000000000014-20.99999999999996j)\n",
      "(18640.999999999993+1224.0000000000157j) (-20.99999999999996-28.000000000000014j)\n",
      "(18640.999999999993+1224.0000000000157j) (-20.99999999999996-32.000000000000014j)\n",
      "(18640.999999999993+1224.0000000000157j) (32.000000000000014-20.999999999999964j)\n",
      "(18640.999999999993+1224.0000000000157j) (32.000000000000014-21.999999999999964j)\n",
      "(18640.999999999993+1224.0000000000157j) (37.000000000000014-21.999999999999964j)\n",
      "(19861.999999999993+498.0000000000168j) (37.000000000000014-21.999999999999964j)\n",
      "(19861.999999999993+498.0000000000168j) (-37.000000000000014+21.999999999999968j)\n",
      "(16790.999999999993+2324.000000000014j) (-37.000000000000014+21.999999999999968j)\n",
      "(16790.999999999993+2324.000000000014j) (-32.000000000000014+21.999999999999968j)\n",
      "(16790.999999999993+2324.000000000014j) (-32.000000000000014+18.999999999999968j)\n",
      "(16790.999999999993+2324.000000000014j) (-33.000000000000014+18.999999999999968j)\n",
      "(14612.999999999993+3578.000000000012j) (-33.000000000000014+18.999999999999968j)\n",
      "(14612.999999999993+3578.000000000012j) (-18.99999999999996-33.000000000000014j)\n",
      "(14612.999999999993+3578.000000000012j) (-18.99999999999996-29.000000000000014j)\n",
      "(14061.999999999995+2737.0000000000114j) (-18.99999999999996-29.000000000000014j)\n",
      "(14061.999999999995+2737.0000000000114j) (-23.99999999999996-29.000000000000014j)\n",
      "(12069.999999999998+330.00000000001j) (-23.99999999999996-29.000000000000014j)\n",
      "(12069.999999999998+330.00000000001j) (-24.99999999999996-29.000000000000014j)\n",
      "(12069.999999999998+330.00000000001j) (-29.000000000000014+24.99999999999996j)\n",
      "(12069.999999999998+330.00000000001j) (-29.000000000000014+29.99999999999996j)\n",
      "(12069.999999999998+330.00000000001j) (-32.000000000000014+29.99999999999996j)\n",
      "(10213.999999999996+2070.0000000000077j) (-32.000000000000014+29.99999999999996j)\n",
      "(10213.999999999996+2070.0000000000077j) (-32.000000000000014+25.99999999999996j)\n",
      "(10213.999999999996+2070.0000000000077j) (25.999999999999957+32.000000000000014j)\n",
      "(11149.999999999995+3222.000000000008j) (25.999999999999957+32.000000000000014j)\n",
      "(11149.999999999995+3222.000000000008j) (25.999999999999957+31.000000000000014j)\n",
      "(12891.99999999999+5299.000000000009j) (25.999999999999957+31.000000000000014j)\n",
      "(12891.99999999999+5299.000000000009j) (24.999999999999957+31.000000000000014j)\n",
      "(12891.99999999999+5299.000000000009j) (24.999999999999957+27.000000000000014j)\n",
      "(14291.999999999989+6811.00000000001j) (24.999999999999957+27.000000000000014j)\n",
      "(14291.999999999989+6811.00000000001j) (26.999999999999957+27.000000000000014j)\n",
      "(16667.999999999985+9187.000000000011j) (26.999999999999957+27.000000000000014j)\n",
      "(16667.999999999985+9187.000000000011j) (26.999999999999957+31.000000000000014j)\n",
      "(16667.999999999985+9187.000000000011j) (-31.000000000000014+26.99999999999996j)\n",
      "(14466.999999999985+11104.000000000007j) (-31.000000000000014+26.99999999999996j)\n",
      "(14466.999999999985+11104.000000000007j) (-34.000000000000014+26.99999999999996j)\n",
      "(11474.999999999984+13480.000000000004j) (-34.000000000000014+26.99999999999996j)\n",
      "(11474.999999999984+13480.000000000004j) (34.000000000000014-26.999999999999957j)\n",
      "(13174.999999999984+12130.000000000005j) (34.000000000000014-26.999999999999957j)\n",
      "(13174.999999999984+12130.000000000005j) (-26.999999999999954-34.000000000000014j)\n",
      "(13174.999999999984+12130.000000000005j) (-22.999999999999954-34.000000000000014j)\n",
      "(13174.999999999984+12130.000000000005j) (-34.000000000000014+22.99999999999995j)\n",
      "(13174.999999999984+12130.000000000005j) (-34.000000000000014+21.99999999999995j)\n",
      "(13174.999999999984+12130.000000000005j) (-36.000000000000014+21.99999999999995j)\n",
      "(13174.999999999984+12130.000000000005j) (-21.999999999999954-36.000000000000014j)\n",
      "(13174.999999999984+12130.000000000005j) (-21.999999999999954-35.000000000000014j)\n",
      "(13174.999999999984+12130.000000000005j) (-35.000000000000014+21.99999999999995j)\n",
      "(13174.999999999984+12130.000000000005j) (-30.000000000000014+21.99999999999995j)\n",
      "(13174.999999999984+12130.000000000005j) (-30.000000000000014+22.99999999999995j)\n",
      "(12004.999999999984+13027.000000000004j) (-30.000000000000014+22.99999999999995j)\n",
      "(12004.999999999984+13027.000000000004j) (30.00000000000001-22.999999999999954j)\n",
      "(12004.999999999984+13027.000000000004j) (35.000000000000014-22.999999999999954j)\n",
      "(12004.999999999984+13027.000000000004j) (-22.99999999999995-35.000000000000014j)\n",
      "(12004.999999999984+13027.000000000004j) (-26.99999999999995-35.000000000000014j)\n",
      "(12004.999999999984+13027.000000000004j) (26.999999999999954+35.000000000000014j)\n",
      "(12004.999999999984+13027.000000000004j) (23.999999999999954+35.000000000000014j)\n",
      "(12004.999999999984+13027.000000000004j) (35.000000000000014-23.99999999999995j)\n",
      "(12004.999999999984+13027.000000000004j) (32.000000000000014-23.99999999999995j)\n",
      "(12004.999999999984+13027.000000000004j) (23.999999999999954+32.000000000000014j)\n",
      "(12004.999999999984+13027.000000000004j) (23.999999999999954+27.000000000000014j)\n",
      "(12004.999999999984+13027.000000000004j) (18.999999999999954+27.000000000000014j)\n",
      "(12004.999999999984+13027.000000000004j) (18.999999999999954+25.000000000000014j)\n",
      "(12004.999999999984+13027.000000000004j) (-25.000000000000014+18.999999999999954j)\n",
      "(12004.999999999984+13027.000000000004j) (-25.000000000000014+21.999999999999954j)\n",
      "(12004.999999999984+13027.000000000004j) (-30.000000000000014+21.999999999999954j)\n",
      "(12004.999999999984+13027.000000000004j) (30.000000000000018-21.99999999999995j)\n",
      "(14224.999999999985+11399.000000000007j) (30.000000000000018-21.99999999999995j)\n",
      "(14224.999999999985+11399.000000000007j) (31.000000000000018-21.99999999999995j)\n",
      "(14224.999999999985+11399.000000000007j) (31.000000000000018-20.99999999999995j)\n",
      "(14224.999999999985+11399.000000000007j) (31.000000000000018-16.99999999999995j)\n",
      "(14224.999999999985+11399.000000000007j) (-16.999999999999947-31.000000000000018j)\n",
      "(14224.999999999985+11399.000000000007j) (-16.999999999999947-29.000000000000018j)\n",
      "(14224.999999999985+11399.000000000007j) (-20.999999999999947-29.000000000000018j)\n",
      "(13510.999999999987+10413.000000000007j) (-20.999999999999947-29.000000000000018j)\n",
      "(13510.999999999987+10413.000000000007j) (29.000000000000018-20.999999999999947j)\n",
      "(13510.999999999987+10413.000000000007j) (33.000000000000014-20.999999999999947j)\n",
      "(13510.999999999987+10413.000000000007j) (20.99999999999995+33.000000000000014j)\n",
      "(13510.999999999987+10413.000000000007j) (20.99999999999995+29.000000000000014j)\n",
      "(13510.999999999987+10413.000000000007j) (-29.000000000000014+20.99999999999995j)\n",
      "(13510.999999999987+10413.000000000007j) (-32.000000000000014+20.99999999999995j)\n",
      "(10854.999999999985+12156.000000000004j) (-32.000000000000014+20.99999999999995j)\n",
      "(10854.999999999985+12156.000000000004j) (-32.000000000000014+21.99999999999995j)\n",
      "(10854.999999999985+12156.000000000004j) (-21.999999999999954-32.000000000000014j)\n",
      "(9578.999999999989+10300.000000000004j) (-21.999999999999954-32.000000000000014j)\n",
      "(9578.999999999989+10300.000000000004j) (-26.999999999999954-32.000000000000014j)\n",
      "(8552.99999999999+9084.000000000004j) (-26.999999999999954-32.000000000000014j)\n",
      "(8552.99999999999+9084.000000000004j) (26.999999999999957+32.000000000000014j)\n",
      "(8552.99999999999+9084.000000000004j) (26.999999999999957+33.000000000000014j)\n",
      "(8552.99999999999+9084.000000000004j) (-33.000000000000014+26.99999999999996j)\n",
      "(8552.99999999999+9084.000000000004j) (-33.000000000000014+22.99999999999996j)\n",
      "(7067.99999999999+10119.000000000002j) (-33.000000000000014+22.99999999999996j)\n",
      "(7067.99999999999+10119.000000000002j) (-29.000000000000014+22.99999999999996j)\n",
      "(7067.99999999999+10119.000000000002j) (-29.000000000000014+19.99999999999996j)\n",
      "(7067.99999999999+10119.000000000002j) (-19.99999999999996-29.000000000000014j)\n",
      "(7067.99999999999+10119.000000000002j) (-18.99999999999996-29.000000000000014j)\n",
      "(7067.99999999999+10119.000000000002j) (-18.99999999999996-31.000000000000014j)\n",
      "(6497.999999999991+9189.000000000002j) (-18.99999999999996-31.000000000000014j)\n",
      "(6497.999999999991+9189.000000000002j) (-16.99999999999996-31.000000000000014j)\n",
      "(6497.999999999991+9189.000000000002j) (31.000000000000014-16.999999999999964j)\n",
      "(9101.999999999993+7761.000000000005j) (31.000000000000014-16.999999999999964j)\n",
      "(9101.999999999993+7761.000000000005j) (27.000000000000014-16.999999999999964j)\n",
      "(10532.999999999993+6860.000000000006j) (27.000000000000014-16.999999999999964j)\n",
      "(10532.999999999993+6860.000000000006j) (-16.999999999999964-27.000000000000014j)\n",
      "(10532.999999999993+6860.000000000006j) (-16.999999999999964-32.000000000000014j)\n",
      "(10005.999999999995+5868.0000000000055j) (-16.999999999999964-32.000000000000014j)\n",
      "(10005.999999999995+5868.0000000000055j) (16.999999999999968+32.000000000000014j)\n",
      "(10005.999999999995+5868.0000000000055j) (16.999999999999968+33.000000000000014j)\n",
      "(10005.999999999995+5868.0000000000055j) (-33.000000000000014+16.99999999999997j)\n",
      "(10005.999999999995+5868.0000000000055j) (-31.000000000000014+16.99999999999997j)\n",
      "(10005.999999999995+5868.0000000000055j) (31.00000000000001-16.999999999999975j)\n",
      "(10005.999999999995+5868.0000000000055j) (28.00000000000001-16.999999999999975j)\n",
      "(12749.999999999996+4202.000000000008j) (28.00000000000001-16.999999999999975j)\n",
      "(12749.999999999996+4202.000000000008j) (16.99999999999997+28.000000000000014j)\n",
      "(12749.999999999996+4202.000000000008j) (16.99999999999997+26.000000000000014j)\n",
      "(12749.999999999996+4202.000000000008j) (21.99999999999997+26.000000000000014j)\n",
      "(14597.999999999995+6386.000000000009j) (21.99999999999997+26.000000000000014j)\n",
      "(14597.999999999995+6386.000000000009j) (21.99999999999997+22.000000000000014j)\n",
      "(14597.999999999995+6386.000000000009j) (-22.000000000000014+21.99999999999997j)\n",
      "(14025.999999999995+6958.000000000008j) (-22.000000000000014+21.99999999999997j)\n",
      "(14025.999999999995+6958.000000000008j) (-20.000000000000014+21.99999999999997j)\n",
      "(12705.999999999993+8410.000000000007j) (-20.000000000000014+21.99999999999997j)\n",
      "(12705.999999999993+8410.000000000007j) (21.999999999999975+20.00000000000001j)\n",
      "(12705.999999999993+8410.000000000007j) (22.999999999999975+20.00000000000001j)\n",
      "(12705.999999999993+8410.000000000007j) (-22.99999999999998-20.000000000000007j)\n",
      "(12452.999999999993+8190.000000000007j) (-22.99999999999998-20.000000000000007j)\n",
      "(12452.999999999993+8190.000000000007j) (-17.99999999999998-20.000000000000007j)\n",
      "(12452.999999999993+8190.000000000007j) (20.000000000000007-17.99999999999998j)\n",
      "(12452.999999999993+8190.000000000007j) (19.000000000000007-17.99999999999998j)\n",
      "(12661.999999999993+7992.000000000007j) (19.000000000000007-17.99999999999998j)\n",
      "(12661.999999999993+7992.000000000007j) (22.000000000000007-17.99999999999998j)\n",
      "(14201.999999999993+6732.000000000009j) (22.000000000000007-17.99999999999998j)\n",
      "(14201.999999999993+6732.000000000009j) (27.000000000000007-17.99999999999998j)\n",
      "(14201.999999999993+6732.000000000009j) (27.000000000000007-14.999999999999979j)\n",
      "(16307.999999999993+5562.000000000011j) (27.000000000000007-14.999999999999979j)\n",
      "(16307.999999999993+5562.000000000011j) (22.000000000000007-14.999999999999979j)\n",
      "(16307.999999999993+5562.000000000011j) (-14.999999999999982-22.000000000000004j)\n",
      "(16307.999999999993+5562.000000000011j) (-19.999999999999982-22.000000000000004j)\n",
      "(16307.999999999993+5562.000000000011j) (-19.999999999999982-21.000000000000004j)\n",
      "(16307.999999999993+5562.000000000011j) (21.000000000000004-19.999999999999982j)\n",
      "(16307.999999999993+5562.000000000011j) (21.000000000000004-23.999999999999982j)\n",
      "(16475.999999999993+5370.000000000011j) (21.000000000000004-23.999999999999982j)\n",
      "(16475.999999999993+5370.000000000011j) (23.999999999999982+21.000000000000004j)\n",
      "(18755.999999999993+7365.000000000011j) (23.999999999999982+21.000000000000004j)\n",
      "(18755.999999999993+7365.000000000011j) (-21.000000000000004+23.999999999999982j)\n",
      "(16676.999999999993+9741.00000000001j) (-21.000000000000004+23.999999999999982j)\n",
      "(16676.999999999993+9741.00000000001j) (-21.000000000000004+20.999999999999982j)\n",
      "(15395.999999999993+11022.000000000007j) (-21.000000000000004+20.999999999999982j)\n",
      "(15395.999999999993+11022.000000000007j) (-21.000000000000004+22.999999999999982j)\n",
      "(13631.999999999993+12954.000000000005j) (-21.000000000000004+22.999999999999982j)\n",
      "(13631.999999999993+12954.000000000005j) (-21.000000000000004+17.999999999999982j)\n",
      "(13568.999999999993+13008.000000000005j) (-21.000000000000004+17.999999999999982j)\n",
      "(13568.999999999993+13008.000000000005j) (-16.000000000000004+17.999999999999982j)\n",
      "(13568.999999999993+13008.000000000005j) (17.999999999999982+16.000000000000004j)\n",
      "(14162.999999999993+13536.000000000005j) (17.999999999999982+16.000000000000004j)\n",
      "(14162.999999999993+13536.000000000005j) (12.999999999999982+16.000000000000004j)\n",
      "(14162.999999999993+13536.000000000005j) (12.999999999999982+15.000000000000004j)\n",
      "(14162.999999999993+13536.000000000005j) (-15.000000000000004+12.999999999999984j)\n",
      "(13382.999999999993+14212.000000000005j) (-15.000000000000004+12.999999999999984j)\n",
      "(13382.999999999993+14212.000000000005j) (-11.000000000000004+12.999999999999984j)\n",
      "(13382.999999999993+14212.000000000005j) (-12.999999999999984-11.000000000000004j)\n",
      "(13382.999999999993+14212.000000000005j) (-11.999999999999984-11.000000000000004j)\n",
      "(13382.999999999993+14212.000000000005j) (-11.999999999999984-10.000000000000004j)\n",
      "(13382.999999999993+14212.000000000005j) (-10.000000000000002+11.999999999999986j)\n",
      "(13382.999999999993+14212.000000000005j) (-10.000000000000002+8.999999999999986j)\n",
      "(13382.999999999993+14212.000000000005j) (-14.000000000000002+8.999999999999986j)\n",
      "(13382.999999999993+14212.000000000005j) (14.000000000000004-8.999999999999984j)\n",
      "(14628.999999999993+13411.000000000007j) (14.000000000000004-8.999999999999984j)\n",
      "(14628.999999999993+13411.000000000007j) (8.999999999999982+14.000000000000005j)\n",
      "(14718.999999999993+13551.000000000007j) (8.999999999999982+14.000000000000005j)\n",
      "(14718.999999999993+13551.000000000007j) (14.000000000000005-8.999999999999982j)\n",
      "(14718.999999999993+13551.000000000007j) (14.000000000000005-7.999999999999982j)\n",
      "(14718.999999999993+13551.000000000007j) (-14.000000000000007+7.9999999999999805j)\n",
      "(14718.999999999993+13551.000000000007j) (-19.000000000000007+7.9999999999999805j)\n",
      "(14718.999999999993+13551.000000000007j) (-19.000000000000007+9.99999999999998j)\n",
      "(13236.999999999993+14331.000000000005j) (-19.000000000000007+9.99999999999998j)\n",
      "(13236.999999999993+14331.000000000005j) (-19.000000000000007+4.9999999999999805j)\n",
      "(12761.999999999993+14456.000000000005j) (-19.000000000000007+4.9999999999999805j)\n",
      "(12761.999999999993+14456.000000000005j) (-19.000000000000007+0.9999999999999805j)\n",
      "(12286.999999999993+14481.000000000005j) (-19.000000000000007+0.9999999999999805j)\n",
      "(12286.999999999993+14481.000000000005j) (-19.000000000000007+3.9999999999999805j)\n",
      "(11735.999999999993+14597.000000000005j) (-19.000000000000007+3.9999999999999805j)\n",
      "(11735.999999999993+14597.000000000005j) (-20.000000000000007+3.9999999999999805j)\n",
      "(11255.999999999993+14693.000000000005j) (-20.000000000000007+3.9999999999999805j)\n",
      "(11255.999999999993+14693.000000000005j) (-20.000000000000007-1.9539925233402755e-14j)\n",
      "(11255.999999999993+14693.000000000005j) (1.83152784342554e-14-20.000000000000007j)\n",
      "(11255.999999999993+14693.000000000005j) (1.83152784342554e-14-25.000000000000007j)\n",
      "(11255.999999999993+14268.000000000005j) (1.83152784342554e-14-25.000000000000007j)\n",
      "(11255.999999999993+14268.000000000005j) (25.000000000000007+1.6784469935321208e-14j)\n",
      "(11255.999999999993+14268.000000000005j) (25.000000000000007-3.999999999999983j)\n",
      "(11255.999999999993+14268.000000000005j) (27.000000000000007-3.999999999999983j)\n",
      "(11255.999999999993+14268.000000000005j) (27.000000000000007-0.9999999999999831j)\n",
      "(12281.999999999993+14230.000000000005j) (27.000000000000007-0.9999999999999831j)\n",
      "(12281.999999999993+14230.000000000005j) (27.000000000000007-4.999999999999983j)\n",
      "(12281.999999999993+14230.000000000005j) (4.999999999999985+27.000000000000007j)\n",
      "(12286.999999999993+14257.000000000005j) (4.999999999999985+27.000000000000007j)\n",
      "(12286.999999999993+14257.000000000005j) (-27.000000000000007+4.999999999999987j)\n",
      "(12286.999999999993+14257.000000000005j) (-25.000000000000007+4.999999999999987j)\n",
      "(9986.999999999993+14717.000000000004j) (-25.000000000000007+4.999999999999987j)\n",
      "(9986.999999999993+14717.000000000004j) (-4.9999999999999885-25.000000000000007j)\n",
      "(9986.999999999993+14717.000000000004j) (-0.9999999999999885-25.000000000000007j)\n",
      "(9986.999999999993+14717.000000000004j) (-0.9999999999999885-26.000000000000007j)\n",
      "(9986.999999999993+14717.000000000004j) (1.1546319456101628e-14-26.000000000000007j)\n",
      "(9986.999999999993+13989.000000000004j) (1.1546319456101628e-14-26.000000000000007j)\n",
      "(9986.999999999993+13989.000000000004j) (1.1546319456101628e-14-25.000000000000007j)\n",
      "(9986.999999999993+12839.000000000004j) (1.1546319456101628e-14-25.000000000000007j)\n",
      "(9986.999999999993+12839.000000000004j) (-25.000000000000007-1.307712795503582e-14j)\n",
      "(9986.999999999993+12839.000000000004j) (-25.000000000000007+0.9999999999999869j)\n",
      "(9986.999999999993+12839.000000000004j) (-29.000000000000007+0.9999999999999869j)\n",
      "(9986.999999999993+12839.000000000004j) (-29.000000000000007+3.9999999999999867j)\n",
      "(9986.999999999993+12839.000000000004j) (-26.000000000000007+3.9999999999999867j)\n",
      "(7646.999999999993+13199.000000000002j) (-26.000000000000007+3.9999999999999867j)\n",
      "(7646.999999999993+13199.000000000002j) (-26.000000000000007+8.999999999999986j)\n",
      "(7646.999999999993+13199.000000000002j) (26.000000000000007-8.99999999999999j)\n",
      "(7646.999999999993+13199.000000000002j) (26.000000000000007-9.99999999999999j)\n",
      "(7646.999999999993+13199.000000000002j) (29.000000000000007-9.99999999999999j)\n",
      "(10430.999999999993+12239.000000000004j) (29.000000000000007-9.99999999999999j)\n",
      "(10430.999999999993+12239.000000000004j) (9.999999999999991+29.000000000000007j)\n",
      "(10430.999999999993+12239.000000000004j) (10.999999999999991+29.000000000000007j)\n",
      "(10430.999999999993+12239.000000000004j) (29.000000000000007-10.99999999999999j)\n",
      "(10430.999999999993+12239.000000000004j) (29.000000000000007-5.999999999999989j)\n",
      "(10430.999999999993+12239.000000000004j) (30.000000000000007-5.999999999999989j)\n",
      "(12650.999999999993+11795.000000000004j) (30.000000000000007-5.999999999999989j)\n",
      "(12650.999999999993+11795.000000000004j) (-30.000000000000007+5.999999999999993j)\n",
      "(12650.999999999993+11795.000000000004j) (-30.000000000000007+7.999999999999993j)\n",
      "(12650.999999999993+11795.000000000004j) (-7.999999999999995-30.000000000000007j)\n",
      "(12650.999999999993+11795.000000000004j) (-7.999999999999995-29.000000000000007j)\n",
      "(12650.999999999993+11795.000000000004j) (-3.9999999999999947-29.000000000000007j)\n",
      "(12650.999999999993+11795.000000000004j) (-29.000000000000007+3.999999999999993j)\n",
      "(12650.999999999993+11795.000000000004j) (-28.000000000000007+3.999999999999993j)\n",
      "(12650.999999999993+11795.000000000004j) (-28.000000000000007+1.999999999999993j)\n",
      "(10102.999999999993+11977.000000000004j) (-28.000000000000007+1.999999999999993j)\n",
      "(10102.999999999993+11977.000000000004j) (1.9999999999999911+28.000000000000007j)\n",
      "(10102.999999999993+11977.000000000004j) (1.9999999999999911+33.00000000000001j)\n",
      "(10102.999999999993+11977.000000000004j) (5.999999999999991+33.00000000000001j)\n",
      "(10156.999999999993+12274.000000000004j) (5.999999999999991+33.00000000000001j)\n",
      "(10156.999999999993+12274.000000000004j) (5.999999999999991+35.00000000000001j)\n",
      "(10156.999999999993+12274.000000000004j) (6.999999999999991+35.00000000000001j)\n",
      "(10247.999999999993+12729.000000000004j) (6.999999999999991+35.00000000000001j)\n",
      "(10247.999999999993+12729.000000000004j) (8.999999999999991+35.00000000000001j)\n",
      "(10247.999999999993+12729.000000000004j) (8.999999999999991+31.000000000000007j)\n",
      "(10247.999999999993+12729.000000000004j) (7.999999999999991+31.000000000000007j)\n",
      "(10247.999999999993+12729.000000000004j) (31.000000000000007-7.999999999999989j)\n",
      "(10247.999999999993+12729.000000000004j) (31.000000000000007-8.99999999999999j)\n",
      "(10247.999999999993+12729.000000000004j) (-8.999999999999988-31.000000000000007j)\n",
      "(10085.999999999993+12171.000000000004j) (-8.999999999999988-31.000000000000007j)\n",
      "(10085.999999999993+12171.000000000004j) (31.000000000000007-8.99999999999999j)\n",
      "(10457.999999999993+12063.000000000004j) (31.000000000000007-8.99999999999999j)\n",
      "(10457.999999999993+12063.000000000004j) (31.000000000000007-10.99999999999999j)\n",
      "(12472.999999999993+11348.000000000004j) (31.000000000000007-10.99999999999999j)\n",
      "(12472.999999999993+11348.000000000004j) (31.000000000000007-8.99999999999999j)\n",
      "(12472.999999999993+11348.000000000004j) (34.00000000000001-8.99999999999999j)\n",
      "(14682.999999999993+10763.000000000004j) (34.00000000000001-8.99999999999999j)\n",
      "(14682.999999999993+10763.000000000004j) (35.00000000000001-8.99999999999999j)\n",
      "(14682.999999999993+10763.000000000004j) (-35.00000000000001+8.999999999999993j)\n",
      "(14682.999999999993+10763.000000000004j) (-33.00000000000001+8.999999999999993j)\n",
      "(14682.999999999993+10763.000000000004j) (-33.00000000000001+4.999999999999993j)\n",
      "(14682.999999999993+10763.000000000004j) (-37.00000000000001+4.999999999999993j)\n",
      "(11389.999999999993+11208.000000000004j) (-37.00000000000001+4.999999999999993j)\n",
      "(11389.999999999993+11208.000000000004j) (-37.00000000000001+8.999999999999993j)\n",
      "(11389.999999999993+11208.000000000004j) (-32.00000000000001+8.999999999999993j)\n",
      "(11389.999999999993+11208.000000000004j) (32.00000000000001-8.999999999999996j)\n",
      "(11389.999999999993+11208.000000000004j) (32.00000000000001-4.9999999999999964j)\n",
      "(11389.999999999993+11208.000000000004j) (31.000000000000007-4.9999999999999964j)\n",
      "(12071.999999999993+11098.000000000004j) (31.000000000000007-4.9999999999999964j)\n",
      "(12071.999999999993+11098.000000000004j) (4.999999999999998+31.000000000000007j)\n",
      "(12071.999999999993+11098.000000000004j) (2.9999999999999982+31.000000000000007j)\n",
      "(12071.999999999993+11098.000000000004j) (2.9999999999999982+29.000000000000007j)\n",
      "(12089.999999999993+11272.000000000004j) (2.9999999999999982+29.000000000000007j)\n",
      "(12089.999999999993+11272.000000000004j) (6.999999999999998+29.000000000000007j)\n",
      "(12607.999999999993+13418.000000000004j) (6.999999999999998+29.000000000000007j)\n",
      "(12607.999999999993+13418.000000000004j) (6.999999999999998+31.000000000000007j)\n",
      "(12607.999999999993+13418.000000000004j) (8.999999999999998+31.000000000000007j)\n",
      "(12607.999999999993+13418.000000000004j) (8.999999999999998+30.000000000000007j)\n",
      "(12607.999999999993+13418.000000000004j) (30.000000000000007-8.999999999999996j)\n",
      "(15217.999999999993+12635.000000000004j) (30.000000000000007-8.999999999999996j)\n",
      "(15217.999999999993+12635.000000000004j) (25.000000000000007-8.999999999999996j)\n",
      "(15217.999999999993+12635.000000000004j) (-8.999999999999995-25.000000000000007j)\n",
      "(15217.999999999993+12635.000000000004j) (-12.999999999999995-25.000000000000007j)\n",
      "(15217.999999999993+12635.000000000004j) (-25.000000000000007+12.999999999999993j)\n",
      "(15217.999999999993+12635.000000000004j) (-21.000000000000007+12.999999999999993j)\n",
      "(15217.999999999993+12635.000000000004j) (-12.999999999999995-21.000000000000007j)\n",
      "(15217.999999999993+12635.000000000004j) (-12.999999999999995-18.000000000000007j)\n",
      "(14333.999999999993+11411.000000000004j) (-12.999999999999995-18.000000000000007j)\n",
      "(14333.999999999993+11411.000000000004j) (12.999999999999996+18.000000000000007j)\n",
      "(14333.999999999993+11411.000000000004j) (12.999999999999996+19.000000000000007j)\n",
      "(14333.999999999993+11411.000000000004j) (11.999999999999996+19.000000000000007j)\n",
      "(15305.999999999993+12950.000000000004j) (11.999999999999996+19.000000000000007j)\n",
      "(15305.999999999993+12950.000000000004j) (19.000000000000007-11.999999999999995j)\n",
      "(17110.999999999993+11810.000000000004j) (19.000000000000007-11.999999999999995j)\n",
      "(17110.999999999993+11810.000000000004j) (-11.999999999999993-19.000000000000007j)\n",
      "(17110.999999999993+11810.000000000004j) (11.999999999999991+19.000000000000007j)\n",
      "(17110.999999999993+11810.000000000004j) (16.999999999999993+19.000000000000007j)\n",
      "(17977.999999999993+12779.000000000004j) (16.999999999999993+19.000000000000007j)\n",
      "(18368.999999999993+13216.000000000004j) (16.999999999999993+19.000000000000007j)\n",
      "(19626.999999999993+14622.000000000004j) (16.999999999999993+19.000000000000007j)\n",
      "(19626.999999999993+14622.000000000004j) (16.999999999999993+22.000000000000007j)\n",
      "(19898.999999999993+14974.000000000004j) (16.999999999999993+22.000000000000007j)\n",
      "(20986.999999999993+16382.000000000004j) (16.999999999999993+22.000000000000007j)\n",
      "(20986.999999999993+16382.000000000004j) (-22.000000000000007+16.999999999999993j)\n",
      "(20986.999999999993+16382.000000000004j) (-26.000000000000007+16.999999999999993j)\n",
      "(20986.999999999993+16382.000000000004j) (16.999999999999993+26.000000000000007j)\n",
      "(20986.999999999993+16382.000000000004j) (26.000000000000007-16.999999999999993j)\n",
      "(20986.999999999993+16382.000000000004j) (22.000000000000007-16.999999999999993j)\n",
      "(23120.999999999993+14733.000000000004j) (22.000000000000007-16.999999999999993j)\n",
      "(23120.999999999993+14733.000000000004j) (-22.00000000000001+16.99999999999999j)\n",
      "(23120.999999999993+14733.000000000004j) (-22.00000000000001+19.99999999999999j)\n",
      "(21382.999999999993+16313.000000000004j) (-22.00000000000001+19.99999999999999j)\n",
      "(21382.999999999993+16313.000000000004j) (-19.00000000000001+19.99999999999999j)\n",
      "(21382.999999999993+16313.000000000004j) (-19.99999999999999-19.00000000000001j)\n",
      "(21382.999999999993+16313.000000000004j) (-19.99999999999999-17.00000000000001j)\n",
      "(21102.999999999993+16075.000000000004j) (-19.99999999999999-17.00000000000001j)\n",
      "(21102.999999999993+16075.000000000004j) (-19.99999999999999-21.00000000000001j)\n",
      "(20282.999999999993+15214.000000000004j) (-19.99999999999999-21.00000000000001j)\n",
      "(20282.999999999993+15214.000000000004j) (-21.99999999999999-21.00000000000001j)\n",
      "(20282.999999999993+15214.000000000004j) (21.00000000000001-21.99999999999999j)\n",
      "(21416.999999999993+14026.000000000004j) (21.00000000000001-21.99999999999999j)\n",
      "(21416.999999999993+14026.000000000004j) (21.00000000000001-18.99999999999999j)\n",
      "(21416.999999999993+14026.000000000004j) (25.00000000000001-18.99999999999999j)\n",
      "(21416.999999999993+14026.000000000004j) (-18.99999999999999-25.00000000000001j)\n",
      "(21416.999999999993+14026.000000000004j) (-20.99999999999999-25.00000000000001j)\n",
      "(21416.999999999993+14026.000000000004j) (-25.00000000000001+20.99999999999999j)\n",
      "(21416.999999999993+14026.000000000004j) (-25.00000000000001+16.99999999999999j)\n",
      "(21416.999999999993+14026.000000000004j) (-16.99999999999999-25.00000000000001j)\n",
      "(21416.999999999993+14026.000000000004j) (25.00000000000001-16.99999999999999j)\n",
      "(21416.999999999993+14026.000000000004j) (25.00000000000001-20.99999999999999j)\n",
      "(21416.999999999993+14026.000000000004j) (-20.99999999999999-25.00000000000001j)\n",
      "(21416.999999999993+14026.000000000004j) (-16.99999999999999-25.00000000000001j)\n",
      "(21416.999999999993+14026.000000000004j) (-16.99999999999999-28.00000000000001j)\n",
      "(21416.999999999993+14026.000000000004j) (28.00000000000001-16.99999999999999j)\n",
      "(21556.999999999993+13941.000000000004j) (28.00000000000001-16.99999999999999j)\n",
      "(21556.999999999993+13941.000000000004j) (-16.99999999999999-28.00000000000001j)\n",
      "(21556.999999999993+13941.000000000004j) (28.00000000000001-16.99999999999999j)\n",
      "(21556.999999999993+13941.000000000004j) (26.00000000000001-16.99999999999999j)\n",
      "(21556.999999999993+13941.000000000004j) (-16.99999999999999-26.00000000000001j)\n",
      "(21556.999999999993+13941.000000000004j) (-19.99999999999999-26.00000000000001j)\n",
      "(21556.999999999993+13941.000000000004j) (-19.99999999999999-22.00000000000001j)\n",
      "(21556.999999999993+13941.000000000004j) (-14.99999999999999-22.00000000000001j)\n",
      "(21346.999999999993+13633.000000000004j) (-14.99999999999999-22.00000000000001j)\n",
      "(21346.999999999993+13633.000000000004j) (-9.99999999999999-22.00000000000001j)\n",
      "(21346.999999999993+13633.000000000004j) (-9.99999999999999-26.00000000000001j)\n",
      "(20386.999999999993+11137.000000000004j) (-9.99999999999999-26.00000000000001j)\n",
      "(20386.999999999993+11137.000000000004j) (-9.99999999999999-30.00000000000001j)\n",
      "(20386.999999999993+11137.000000000004j) (30.00000000000001-9.999999999999991j)\n",
      "(20386.999999999993+11137.000000000004j) (28.00000000000001-9.999999999999991j)\n",
      "(23074.999999999993+10177.000000000004j) (28.00000000000001-9.999999999999991j)\n",
      "(23074.999999999993+10177.000000000004j) (9.999999999999993+28.00000000000001j)\n",
      "(23074.999999999993+10177.000000000004j) (12.999999999999993+28.00000000000001j)\n",
      "(23074.999999999993+10177.000000000004j) (-28.00000000000001+12.999999999999995j)\n",
      "(22962.999999999993+10229.000000000004j) (-28.00000000000001+12.999999999999995j)\n",
      "(22962.999999999993+10229.000000000004j) (12.999999999999993+28.00000000000001j)\n",
      "(23755.999999999993+11937.000000000004j) (12.999999999999993+28.00000000000001j)\n",
      "(23755.999999999993+11937.000000000004j) (14.999999999999993+28.00000000000001j)\n",
      "(24595.999999999993+13505.000000000004j) (14.999999999999993+28.00000000000001j)\n",
      "(24595.999999999993+13505.000000000004j) (15.999999999999993+28.00000000000001j)\n",
      "(26195.999999999993+16305.000000000004j) (15.999999999999993+28.00000000000001j)\n",
      "(26195.999999999993+16305.000000000004j) (20.999999999999993+28.00000000000001j)\n",
      "(26195.999999999993+16305.000000000004j) (28.00000000000001-20.999999999999993j)\n",
      "(27707.999999999993+15171.000000000004j) (28.00000000000001-20.999999999999993j)\n",
      "(27707.999999999993+15171.000000000004j) (-20.999999999999993-28.00000000000001j)\n",
      "(27707.999999999993+15171.000000000004j) (-16.999999999999993-28.00000000000001j)\n",
      "(27673.999999999993+15115.000000000004j) (-16.999999999999993-28.00000000000001j)\n",
      "(27673.999999999993+15115.000000000004j) (16.99999999999999+28.000000000000014j)\n",
      "(27673.999999999993+15115.000000000004j) (16.99999999999999+25.000000000000014j)\n",
      "(27809.999999999993+15315.000000000004j) (16.99999999999999+25.000000000000014j)\n",
      "(27809.999999999993+15315.000000000004j) (-25.000000000000014+16.99999999999999j)\n",
      "(27809.999999999993+15315.000000000004j) (-26.000000000000014+16.99999999999999j)\n",
      "(27809.999999999993+15315.000000000004j) (16.99999999999999+26.000000000000014j)\n",
      "(28132.999999999993+15809.000000000004j) (16.99999999999999+26.000000000000014j)\n",
      "(28132.999999999993+15809.000000000004j) (11.99999999999999+26.000000000000014j)\n",
      "(28132.999999999993+15809.000000000004j) (-26.000000000000014+11.999999999999991j)\n",
      "(28132.999999999993+15809.000000000004j) (-26.000000000000014+10.999999999999991j)\n",
      "(28132.999999999993+15809.000000000004j) (-10.999999999999993-26.000000000000014j)\n",
      "(28132.999999999993+15809.000000000004j) (-15.999999999999993-26.000000000000014j)\n",
      "(28132.999999999993+15809.000000000004j) (-15.999999999999993-28.000000000000014j)\n",
      "(27652.999999999993+14969.000000000004j) (-15.999999999999993-28.000000000000014j)\n",
      "(27652.999999999993+14969.000000000004j) (-28.000000000000014+15.999999999999991j)\n",
      "(27652.999999999993+14969.000000000004j) (-33.000000000000014+15.999999999999991j)\n",
      "(26629.999999999993+15465.000000000004j) (-33.000000000000014+15.999999999999991j)\n",
      "(26629.999999999993+15465.000000000004j) (-33.000000000000014+10.999999999999991j)\n",
      "(26629.999999999993+15465.000000000004j) (-32.000000000000014+10.999999999999991j)\n",
      "(26629.999999999993+15465.000000000004j) (-32.000000000000014+12.999999999999991j)\n",
      "(23429.999999999993+16765.000000000004j) (-32.000000000000014+12.999999999999991j)\n",
      "(23429.999999999993+16765.000000000004j) (-32.000000000000014+13.999999999999991j)\n",
      "(23333.999999999993+16807.000000000004j) (-32.000000000000014+13.999999999999991j)\n",
      "(23333.999999999993+16807.000000000004j) (-35.000000000000014+13.999999999999991j)\n",
      "(21723.999999999993+17451.000000000004j) (-35.000000000000014+13.999999999999991j)\n",
      "(21723.999999999993+17451.000000000004j) (13.99999999999999+35.000000000000014j)\n",
      "(21723.999999999993+17451.000000000004j) (15.99999999999999+35.000000000000014j)\n",
      "(22715.999999999993+19621.000000000004j) (15.99999999999999+35.000000000000014j)\n",
      "(22715.999999999993+19621.000000000004j) (-15.999999999999993-35.000000000000014j)\n",
      "(21275.999999999993+16471.000000000004j) (-15.999999999999993-35.000000000000014j)\n",
      "(21275.999999999993+16471.000000000004j) (15.999999999999996+35.000000000000014j)\n",
      "(21275.999999999993+16471.000000000004j) (15.999999999999996+32.000000000000014j)\n",
      "(21275.999999999993+16471.000000000004j) (-32.000000000000014+15.999999999999998j)\n",
      "(21275.999999999993+16471.000000000004j) (-32.000000000000014+10.999999999999998j)\n",
      "(19995.999999999993+16911.000000000004j) (-32.000000000000014+10.999999999999998j)\n",
      "(19995.999999999993+16911.000000000004j) (-32.000000000000014+14.999999999999998j)\n",
      "(16955.999999999993+18336.000000000004j) (-32.000000000000014+14.999999999999998j)\n"
     ]
    },
    {
     "data": {
      "text/plain": [
       "35292.0"
      ]
     },
     "execution_count": 326,
     "metadata": {},
     "output_type": "execute_result"
    }
   ],
   "source": [
    "Point = complex\n",
    "headings = {'N': 1j, 'S': -1j, 'E': 1, 'W': -1, 'R': -1j, 'L': 1j}\n",
    "\n",
    "def distance(point1):\n",
    "    return abs(point1.real) + abs(point1.imag)\n",
    "\n",
    "def how_far(moves):\n",
    "    loc, heading = 0, E\n",
    "    loc1 = (10 + 1j)\n",
    "    for turn, dist in parse(moves):\n",
    "        if turn == 'R' or turn == 'L':\n",
    "            loc1 = rotate(loc1, -dist if turn == \"R\" else dist)\n",
    "        elif turn == 'F':\n",
    "            loc += dist * (loc1)\n",
    "        else:\n",
    "            loc1 += headings[turn] * dist\n",
    "        print(loc, loc1)\n",
    "    return distance(loc)\n",
    "\n",
    "def parse(text):\n",
    "    turns = []\n",
    "    return [(turn, int(d)) for (turn, d) in re.findall(r'(\\w)(\\d+)', text)]\n",
    "\n",
    "import math\n",
    "def rotate(number, degree):\n",
    "    n = number\n",
    "    return (math.e**(math.radians(degree)*1j)) * n\n",
    "\n",
    "how_far('F10\\nN3\\nF7\\nR90\\nF11')\n",
    "how_far(Input('12').read())"
   ]
  }
 ],
 "metadata": {
  "kernelspec": {
   "display_name": "Python 3",
   "language": "python",
   "name": "python3"
  },
  "language_info": {
   "codemirror_mode": {
    "name": "ipython",
    "version": 3
   },
   "file_extension": ".py",
   "mimetype": "text/x-python",
   "name": "python",
   "nbconvert_exporter": "python",
   "pygments_lexer": "ipython3",
   "version": "3.7.6"
  }
 },
 "nbformat": 4,
 "nbformat_minor": 4
}

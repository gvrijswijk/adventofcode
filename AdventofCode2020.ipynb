{
 "cells": [
  {
   "cell_type": "markdown",
   "metadata": {},
   "source": [
    "# Advent of Code 2020\n",
    "\n",
    "It's that time of year again..."
   ]
  },
  {
   "cell_type": "code",
   "execution_count": 50,
   "metadata": {
    "hide_input": false
   },
   "outputs": [],
   "source": [
    "import re\n",
    "import itertools\n",
    "import functools\n",
    "import numpy as np\n",
    "\n",
    "\n",
    "def Input(day, year=2020):\n",
    "    directory = '{}'.format(year)\n",
    "    filename = directory + '/input{}.txt'.format(day)\n",
    "    return open(filename)\n",
    "\n",
    "\n",
    "def isprime(val):\n",
    "    pass"
   ]
  },
  {
   "cell_type": "markdown",
   "metadata": {},
   "source": [
    "## [Day 1: Report Repair](https://adventofcode.com/2020/day/1)\n",
    "\n",
    "\"After saving Christmas five years in a row, you've decided to take a vacation at a nice resort on a tropical island. Surely, Christmas will go on without you.\"\n",
    "\n",
    "The first few days are always a breeze; the problems are very nice, as a shortlived disctraction from work. Today it's about checking which combination of 2 (part 1) or 3 (part 2) numbers add up to 2020. Not too hard, but in the evening I got back to the solution to create something looking a bit cleaner and more elegant (I think)."
   ]
  },
  {
   "cell_type": "markdown",
   "metadata": {},
   "source": [
    "## The original solution"
   ]
  },
  {
   "cell_type": "markdown",
   "metadata": {},
   "source": [
    "#### Part 1"
   ]
  },
  {
   "cell_type": "code",
   "execution_count": 51,
   "metadata": {},
   "outputs": [
    {
     "name": "stdout",
     "output_type": "stream",
     "text": [
      "Wall time: 100 ms\n"
     ]
    },
    {
     "data": {
      "text/plain": [
       "712075"
      ]
     },
     "execution_count": 51,
     "metadata": {},
     "output_type": "execute_result"
    }
   ],
   "source": [
    "%%time\n",
    "expenses = [int(e) for e in Input('01')]\n",
    "\n",
    "\n",
    "def check_expenses(expenses, goal):\n",
    "    for i, first_entry in enumerate(expenses):\n",
    "        for second_entry in expenses[i + 1:]:\n",
    "            if first_entry + second_entry == goal:\n",
    "                return (first_entry * second_entry)\n",
    "\n",
    "\n",
    "check_expenses(expenses, 2020)"
   ]
  },
  {
   "cell_type": "markdown",
   "metadata": {},
   "source": [
    "#### Part 2"
   ]
  },
  {
   "cell_type": "code",
   "execution_count": 52,
   "metadata": {},
   "outputs": [
    {
     "name": "stdout",
     "output_type": "stream",
     "text": [
      "Wall time: 143 ms\n"
     ]
    },
    {
     "data": {
      "text/plain": [
       "145245270"
      ]
     },
     "execution_count": 52,
     "metadata": {},
     "output_type": "execute_result"
    }
   ],
   "source": [
    "%%time\n",
    "\n",
    "\n",
    "def check_expenses(expenses, goal):\n",
    "    for i, first_entry in enumerate(expenses):\n",
    "        for second_entry in expenses[i + 1:]:\n",
    "            for third_entry in expenses[i + 2:]:\n",
    "                if first_entry + second_entry + third_entry == goal:\n",
    "                    return (first_entry * second_entry * third_entry)\n",
    "\n",
    "\n",
    "check_expenses(expenses, 2020)"
   ]
  },
  {
   "cell_type": "markdown",
   "metadata": {},
   "source": [
    "## The alternative solution"
   ]
  },
  {
   "cell_type": "code",
   "execution_count": 53,
   "metadata": {},
   "outputs": [],
   "source": [
    "def product(iterable):\n",
    "    return np.prod(iterable)\n",
    "\n",
    "\n",
    "def check_expenses(expenses, goal, depth):\n",
    "    for combination in itertools.combinations(expenses, depth):\n",
    "        if sum(combination) == goal:\n",
    "            return product(combination)"
   ]
  },
  {
   "cell_type": "markdown",
   "metadata": {},
   "source": [
    "#### Part 1"
   ]
  },
  {
   "cell_type": "code",
   "execution_count": 54,
   "metadata": {},
   "outputs": [
    {
     "name": "stdout",
     "output_type": "stream",
     "text": [
      "Wall time: 26 ms\n"
     ]
    },
    {
     "data": {
      "text/plain": [
       "712075"
      ]
     },
     "execution_count": 54,
     "metadata": {},
     "output_type": "execute_result"
    }
   ],
   "source": [
    "%%time\n",
    "check_expenses(expenses, 2020, 2)"
   ]
  },
  {
   "cell_type": "markdown",
   "metadata": {},
   "source": [
    "#### Part 2"
   ]
  },
  {
   "cell_type": "code",
   "execution_count": 55,
   "metadata": {},
   "outputs": [
    {
     "name": "stdout",
     "output_type": "stream",
     "text": [
      "Wall time: 147 ms\n"
     ]
    },
    {
     "data": {
      "text/plain": [
       "145245270"
      ]
     },
     "execution_count": 55,
     "metadata": {},
     "output_type": "execute_result"
    }
   ],
   "source": [
    "%%time\n",
    "check_expenses(expenses, 2020, 3)"
   ]
  },
  {
   "cell_type": "markdown",
   "metadata": {},
   "source": [
    "## [Day 2: Password Philosophy](https://adventofcode.com/2020/day/2)\n",
    "\n",
    "The shopkeeper at the North Pole Toboggan Rental Shop is having a bad day. \"Something's wrong with our computers; we can't log in!\" You ask if you can take a look.\n",
    "\n",
    "Their password database seems to be a little corrupted: some of the passwords wouldn't have been allowed by the Official Toboggan Corporate Policy that was in effect when they were chosen.\n",
    "\n",
    "To try to debug the problem, they have created a list (your puzzle input) of passwords (according to the corrupted database) and the corporate policy when that password was set."
   ]
  },
  {
   "cell_type": "markdown",
   "metadata": {},
   "source": [
    "## The original solution"
   ]
  },
  {
   "cell_type": "markdown",
   "metadata": {},
   "source": [
    "#### Part 1"
   ]
  },
  {
   "cell_type": "code",
   "execution_count": 56,
   "metadata": {},
   "outputs": [
    {
     "name": "stdout",
     "output_type": "stream",
     "text": [
      "Wall time: 41 ms\n"
     ]
    },
    {
     "data": {
      "text/plain": [
       "546"
      ]
     },
     "execution_count": 56,
     "metadata": {},
     "output_type": "execute_result"
    }
   ],
   "source": [
    "%%time\n",
    "passwords = Input('02').read()\n",
    "passwords = re.findall(r'(\\d+)-(\\d+) (\\S+): (\\S+)', passwords)\n",
    "\n",
    "valid = 0\n",
    "\n",
    "for passw in passwords:\n",
    "    lower = int(passw[0])\n",
    "    upper = int(passw[1])\n",
    "    char = passw[2]\n",
    "    password = passw[3]\n",
    "    if password.count(char) >= lower and password.count(char) <= upper:\n",
    "        valid += 1\n",
    "\n",
    "valid"
   ]
  },
  {
   "cell_type": "markdown",
   "metadata": {},
   "source": [
    "#### Part 2"
   ]
  },
  {
   "cell_type": "code",
   "execution_count": 57,
   "metadata": {},
   "outputs": [
    {
     "name": "stdout",
     "output_type": "stream",
     "text": [
      "Wall time: 2 ms\n"
     ]
    },
    {
     "data": {
      "text/plain": [
       "275"
      ]
     },
     "execution_count": 57,
     "metadata": {},
     "output_type": "execute_result"
    }
   ],
   "source": [
    "%%time\n",
    "valid = 0\n",
    "\n",
    "for passw in passwords:\n",
    "    first = int(passw[0]) - 1\n",
    "    second = int(passw[1]) - 1\n",
    "    char = passw[2]\n",
    "    password = passw[3]\n",
    "    if (password[first] == char or password[second] == char) and (password[first] != password[second]):\n",
    "        valid += 1\n",
    "\n",
    "valid"
   ]
  },
  {
   "cell_type": "markdown",
   "metadata": {},
   "source": [
    "## The alternative solution"
   ]
  },
  {
   "cell_type": "code",
   "execution_count": 58,
   "metadata": {},
   "outputs": [],
   "source": [
    "def lineparser(line):\n",
    "    return re.match(r'(\\d+)-(\\d+) (\\S+): (\\S+)', line)\n",
    "\n",
    "def valid_passwords(inp):\n",
    "    return [password_validator(line) for line in inp]"
   ]
  },
  {
   "cell_type": "markdown",
   "metadata": {},
   "source": [
    "#### Part 1"
   ]
  },
  {
   "cell_type": "code",
   "execution_count": 59,
   "metadata": {},
   "outputs": [
    {
     "name": "stdout",
     "output_type": "stream",
     "text": [
      "Wall time: 10 ms\n"
     ]
    },
    {
     "data": {
      "text/plain": [
       "546"
      ]
     },
     "execution_count": 59,
     "metadata": {},
     "output_type": "execute_result"
    }
   ],
   "source": [
    "%%time\n",
    "def password_validator(line):\n",
    "    lower, upper, char, password = lineparser(line).groups(0)\n",
    "    return int(lower) <= password.count(char) <= int(upper)\n",
    "\n",
    "sum(valid_passwords(Input('02')))"
   ]
  },
  {
   "cell_type": "markdown",
   "metadata": {},
   "source": [
    "#### Part 2"
   ]
  },
  {
   "cell_type": "code",
   "execution_count": 60,
   "metadata": {},
   "outputs": [
    {
     "name": "stdout",
     "output_type": "stream",
     "text": [
      "Wall time: 11 ms\n"
     ]
    },
    {
     "data": {
      "text/plain": [
       "275"
      ]
     },
     "execution_count": 60,
     "metadata": {},
     "output_type": "execute_result"
    }
   ],
   "source": [
    "%%time\n",
    "def password_validator(line):\n",
    "    first, second, char, password = lineparser(line).groups(0)\n",
    "    first = int(first) - 1\n",
    "    second = int(second) - 1\n",
    "    return (password[first] == char or password[second] == char) and password[first] != password[second]\n",
    "\n",
    "sum(valid_passwords(Input('02')))"
   ]
  },
  {
   "cell_type": "markdown",
   "metadata": {
    "hide_input": false
   },
   "source": [
    "# [Day 3: Toboggan Trajectory](https://adventofcode.com/2020/day/3)"
   ]
  },
  {
   "cell_type": "code",
   "execution_count": 61,
   "metadata": {},
   "outputs": [
    {
     "name": "stdout",
     "output_type": "stream",
     "text": [
      "Wall time: 39 ms\n"
     ]
    },
    {
     "data": {
      "text/plain": [
       "176"
      ]
     },
     "execution_count": 61,
     "metadata": {},
     "output_type": "execute_result"
    }
   ],
   "source": [
    "%%time\n",
    "f = Input('03').read().strip().split('\\n')\n",
    "\n",
    "location = (0, 0)\n",
    "direction = (1, 3)\n",
    "count = 0\n",
    "\n",
    "while location[0] < len(f) - 1:\n",
    "    location = [sum(e) for e in zip(location, direction)]\n",
    "    y, x = location\n",
    "    x = x % len(f[0])\n",
    "    if f[y][x] == '#':\n",
    "        count += 1\n",
    "\n",
    "count"
   ]
  },
  {
   "cell_type": "code",
   "execution_count": 62,
   "metadata": {},
   "outputs": [
    {
     "name": "stdout",
     "output_type": "stream",
     "text": [
      "5872458240\n",
      "Wall time: 5 ms\n"
     ]
    }
   ],
   "source": [
    "%%time\n",
    "directions = ((1, 1), (1, 3), (1, 5), (1, 7), (2, 1))\n",
    "results = []\n",
    "\n",
    "for direction in directions:\n",
    "    location = (0, 0)\n",
    "    count = 0\n",
    "\n",
    "    while location[0] < len(f) - 1:\n",
    "        location = [sum(e) for e in zip(location, direction)]\n",
    "        y, x = location\n",
    "        x = x % len(f[0])\n",
    "        if f[y][x] == '#':\n",
    "            count += 1\n",
    "\n",
    "    results.append(count)\n",
    "\n",
    "total = 1\n",
    "\n",
    "for r in results:\n",
    "    total *= r\n",
    "\n",
    "print(total)"
   ]
  },
  {
   "cell_type": "markdown",
   "metadata": {},
   "source": [
    "## [Day 4: Passport Processing](https://adventofcode.com/2020/day/4)\n",
    "\n",
    "You arrive at the airport only to realize that you grabbed your North Pole Credentials instead of your passport. While these documents are extremely similar, North Pole Credentials aren't issued by a country and therefore aren't actually valid documentation for travel in most of the world.\n",
    "\n",
    "It seems like you're not the only one having problems, though; a very long line has formed for the automatic passport scanners, and the delay could upset your travel itinerary.\n",
    "\n",
    "Due to some questionable network security, you realize you might be able to solve both of these problems at the same time."
   ]
  },
  {
   "cell_type": "markdown",
   "metadata": {},
   "source": [
    "#### Part 1"
   ]
  },
  {
   "cell_type": "code",
   "execution_count": 63,
   "metadata": {},
   "outputs": [
    {
     "data": {
      "text/plain": [
       "242"
      ]
     },
     "execution_count": 63,
     "metadata": {},
     "output_type": "execute_result"
    }
   ],
   "source": [
    "def parse_document_data(inp):\n",
    "    inp = inp.read().split('\\n\\n')\n",
    "    return [re.findall(r'(\\S+):\\S+[\\s]*', e) for e in inp]\n",
    "\n",
    "def document_is_valid(inp, *items):\n",
    "    for item in items:\n",
    "        if item not in inp:\n",
    "            return False\n",
    "    return True\n",
    "\n",
    "def process_documents(inp):\n",
    "    inp = parse_document_data(inp)\n",
    "    for i, document in enumerate(inp):\n",
    "        inp[i] = document_is_valid(document, 'byr', 'iyr', 'eyr', 'hgt', 'hcl', 'ecl', 'pid')\n",
    "    return inp\n",
    "    \n",
    "sum(process_documents(Input('04')))"
   ]
  },
  {
   "cell_type": "markdown",
   "metadata": {},
   "source": [
    "#### Part 2"
   ]
  },
  {
   "cell_type": "code",
   "execution_count": 64,
   "metadata": {},
   "outputs": [
    {
     "data": {
      "text/plain": [
       "186"
      ]
     },
     "execution_count": 64,
     "metadata": {},
     "output_type": "execute_result"
    }
   ],
   "source": [
    "def parse_document_data(inp):\n",
    "    inp = inp.read().split('\\n\\n')\n",
    "    return [re.findall(r'(\\S+):(\\S+)[\\s]*', e) for e in inp]\n",
    "\n",
    "def document_is_valid(inp, *items):\n",
    "    for item in items:\n",
    "        if item not in list(zip(*inp))[0]:\n",
    "            return False\n",
    "    for element in inp:\n",
    "        if element[0] == 'byr' and not (1920 <= int(element[1]) <= 2002) and len(element[1]) == 4:\n",
    "            return False\n",
    "        if element[0] == 'iyr' and not (2010 <= int(element[1]) <= 2020) and len(element[1]) == 4:\n",
    "            #print(element)\n",
    "            return False\n",
    "        if element[0] == 'eyr' and not (2020 <= int(element[1]) <= 2030) and len(element[1]) == 4:\n",
    "            #print(element)\n",
    "            return False\n",
    "        if element[0] == 'hgt':\n",
    "            hgt = re.findall(r'([0-9]+)(\\w*)', element[1])[0]\n",
    "            if hgt[1] not in ['cm', 'in']:\n",
    "                #print(element)\n",
    "                return False\n",
    "            if hgt[1] == 'cm' and not (150 <= int(hgt[0]) <= 193):\n",
    "                #print(element)\n",
    "                return False\n",
    "            if hgt[1] == 'in' and not (59 <= int(hgt[0]) <= 76):\n",
    "                #print(element)\n",
    "                return False\n",
    "        if element[0] == 'hcl' and not re.findall(r'^#[0-9a-f]{6}$', element[1]): #Aangepast\n",
    "            #print(element)\n",
    "            return False\n",
    "        if element[0] == 'ecl' and element[1] not in ['amb', 'blu', 'brn', 'gry', 'grn', 'hzl', 'oth']:\n",
    "            #print(element)\n",
    "            return False\n",
    "        if element[0] == 'pid' and not re.match(r'^[0-9]{9}$', element[1]): #Aangepast\n",
    "            #print(element)\n",
    "            return False\n",
    "    return True\n",
    "\n",
    "def process_documents(inp):\n",
    "    inp = parse_document_data(inp)\n",
    "    for i, document in enumerate(inp):\n",
    "        inp[i] = document_is_valid(document, 'byr', 'iyr', 'eyr', 'hgt', 'hcl', 'ecl', 'pid')\n",
    "    return inp\n",
    "    \n",
    "sum(process_documents(Input('04')))"
   ]
  },
  {
   "cell_type": "markdown",
   "metadata": {},
   "source": [
    "## [Day 5: Binary Boarding](https://adventofcode.com/2020/day/5)\n",
    "\n",
    "You board your plane only to discover a new problem: you dropped your boarding pass! You aren't sure which seat is yours, and all of the flight attendants are busy with the flood of people that suddenly made it through passport control."
   ]
  },
  {
   "cell_type": "code",
   "execution_count": 65,
   "metadata": {},
   "outputs": [
    {
     "data": {
      "text/plain": [
       "357"
      ]
     },
     "execution_count": 65,
     "metadata": {},
     "output_type": "execute_result"
    }
   ],
   "source": [
    "def find_seat(boarding_pass, rows=128, columns=8):\n",
    "    rows = list(range(rows))\n",
    "    columns = list(range(columns))\n",
    "    for e in boarding_pass:\n",
    "        if e == 'F':\n",
    "            rows = rows[:len(rows) // 2]\n",
    "        if e == 'B':\n",
    "            rows = rows[len(rows) // 2:]\n",
    "        if e =='L':\n",
    "            columns = columns[:len(columns) // 2]\n",
    "        if e =='R':\n",
    "            columns = columns[len(columns) // 2:]\n",
    "            \n",
    "    return rows[0], columns[0]\n",
    "    \n",
    "def seat_code(boarding_pass, rows=128, columns=8):\n",
    "    row, column = find_seat(boarding_pass, rows, columns)\n",
    "    return row * 8 + column\n",
    "\n",
    "seat_code('FBFBBFFRLR')"
   ]
  },
  {
   "cell_type": "code",
   "execution_count": 242,
   "metadata": {},
   "outputs": [
    {
     "name": "stdout",
     "output_type": "stream",
     "text": [
      "895\n",
      "1\n",
      "579\n",
      "Wall time: 14 ms\n"
     ]
    }
   ],
   "source": [
    "%%time\n",
    "\n",
    "for e in sorted([seat_code(boarding_pass) for boarding_pass in Input('05').read().split('\\n')]):\n",
    "    if e != j + 1 or not j:\n",
    "        print(j+1)\n",
    "    j = int(e)"
   ]
  },
  {
   "cell_type": "markdown",
   "metadata": {},
   "source": [
    "#### Part 2:\n",
    "\n",
    "Seeing online that I could interpret te string as a binary number I wanted to give that a try. It is a lot quicker too."
   ]
  },
  {
   "cell_type": "code",
   "execution_count": 225,
   "metadata": {},
   "outputs": [
    {
     "name": "stdout",
     "output_type": "stream",
     "text": [
      "579\n",
      "Wall time: 5 ms\n"
     ]
    }
   ],
   "source": [
    "%%time\n",
    "\n",
    "def code_to_binary(code):\n",
    "    binaries = {'F': '0', 'B': '1', 'L': '0', 'R': '1'}\n",
    "    binary = ''\n",
    "    for e in code:\n",
    "        binary += binaries[e]\n",
    "    return binary\n",
    "\n",
    "for i, e in enumerate(sorted([int(code_to_binary(e), 2) for e in Input('05').read().strip().split('\\n')])):\n",
    "    if i > 0 and e != f + 1:\n",
    "        print(f + 1)\n",
    "    f = e"
   ]
  },
  {
   "cell_type": "code",
   "execution_count": 238,
   "metadata": {},
   "outputs": [
    {
     "name": "stdout",
     "output_type": "stream",
     "text": [
      "579\n",
      "Wall time: 5 ms\n"
     ]
    }
   ],
   "source": [
    "%%time\n",
    "\n",
    "def translate_code(code):\n",
    "    return int(code.replace('F', '0').replace('B', '1').replace('L', '0').replace('R', '1'), 2)\n",
    "\n",
    "for i in sorted([translate_code(e) for e in Input('05').read().strip().split('\\n')]):\n",
    "    if i - j == 2:\n",
    "        print(j + 1)\n",
    "    j = int(i)\n",
    "        "
   ]
  },
  {
   "cell_type": "markdown",
   "metadata": {},
   "source": [
    "## [Day 6: Custom Customs](Day 6: Custom Customs)\n",
    "\n",
    "As your flight approaches the regional airport where you'll switch to a much larger plane, customs declaration forms are distributed to the passengers.\n",
    "\n",
    "The form asks a series of 26 yes-or-no questions marked a through z. All you need to do is identify the questions for which anyone in your group answers \"yes\". Since your group is just you, this doesn't take very long.\n",
    "\n",
    "However, the person sitting next to you seems to be experiencing a language barrier and asks if you can help. For each of the people in their group, you write down the questions for which they answer \"yes\", one per line."
   ]
  },
  {
   "cell_type": "code",
   "execution_count": 97,
   "metadata": {
    "slideshow": {
     "slide_type": "slide"
    }
   },
   "outputs": [
    {
     "data": {
      "text/plain": [
       "6612"
      ]
     },
     "execution_count": 97,
     "metadata": {},
     "output_type": "execute_result"
    }
   ],
   "source": [
    "i = Input('06').read()\n",
    "#i = 'abc\\n\\na\\nb\\nc\\n\\nab\\nac\\n\\na\\na\\na\\na\\n\\nb'\n",
    "\n",
    "sum([len(set(e.replace('\\n', ''))) for e in i.strip().split('\\n\\n')])"
   ]
  },
  {
   "cell_type": "code",
   "execution_count": 244,
   "metadata": {},
   "outputs": [
    {
     "name": "stdout",
     "output_type": "stream",
     "text": [
      "Wall time: 24 ms\n"
     ]
    },
    {
     "data": {
      "text/plain": [
       "3268"
      ]
     },
     "execution_count": 244,
     "metadata": {},
     "output_type": "execute_result"
    }
   ],
   "source": [
    "%%time\n",
    "\n",
    "i = 'abc\\n\\na\\nb\\nc\\n\\nab\\nac\\n\\na\\na\\na\\na\\n\\nb'\n",
    "i = Input('06').read()\n",
    "t = [e.split('\\n') for e in i.strip().split('\\n\\n')]\n",
    "total = 0\n",
    "\n",
    "for e in t:\n",
    "    temp = set(e[0])\n",
    "    \n",
    "    while len(e) > 1:\n",
    "        temp = temp.intersection(e.pop())\n",
    "    #print(temp)\n",
    "    total += len(temp)\n",
    "total"
   ]
  },
  {
   "cell_type": "markdown",
   "metadata": {},
   "source": [
    "## [Day 7: Handy Haversacks](https://adventofcode.com/2020/day/7)\n",
    "\n",
    "You land at the regional airport in time for your next flight. In fact, it looks like you'll even have time to grab some food: all flights are currently delayed due to issues in luggage processing.\n",
    "\n",
    "Due to recent aviation regulations, many rules (your puzzle input) are being enforced about bags and their contents; bags must be color-coded and must contain specific quantities of other color-coded bags. Apparently, nobody responsible for these regulations considered how long they would take to enforce!"
   ]
  },
  {
   "cell_type": "code",
   "execution_count": 398,
   "metadata": {
    "slideshow": {
     "slide_type": "slide"
    }
   },
   "outputs": [
    {
     "name": "stdout",
     "output_type": "stream",
     "text": [
      "222\n"
     ]
    }
   ],
   "source": [
    "rules = {}\n",
    "\n",
    "inp = Input('07').read().strip().split('\\n')\n",
    "#inp = 'light red bags contain 1 bright white bag, 2 muted yellow bags.\\ndark orange bags contain 3 bright white bags, 4 muted yellow bags.\\nbright white bags contain 1 shiny gold bag.\\nmuted yellow bags contain 2 shiny gold bags, 9 faded blue bags.\\nshiny gold bags contain 1 dark olive bag, 2 vibrant plum bags.\\ndark olive bags contain 3 faded blue bags, 4 dotted black bags.\\nvibrant plum bags contain 5 faded blue bags, 6 dotted black bags.\\nfaded blue bags contain no other bags.\\ndotted black bags contain no other bags.'.split('\\n')\n",
    "\n",
    "for e in inp:\n",
    "    tmp = e.split('bags contain ')\n",
    "    elements = re.findall(r'\\d+\\s(\\w+\\s\\w+)+.', tmp[1])\n",
    "    for element in elements:\n",
    "        rules.setdefault(element, []).append(tmp[0].strip())\n",
    "\n",
    "#print(rules)        \n",
    "        \n",
    "tree = []\n",
    "for e in rules['shiny gold']:\n",
    "    tree.append(e)\n",
    "    \n",
    "for e in tree:\n",
    "    if e in rules:\n",
    "        for f in rules[e]:\n",
    "            if f not in tree:\n",
    "                tree.append(f)\n",
    "            \n",
    "print(len(tree))"
   ]
  },
  {
   "cell_type": "code",
   "execution_count": 452,
   "metadata": {},
   "outputs": [
    {
     "name": "stdout",
     "output_type": "stream",
     "text": [
      "{'vibrant beige': [['drab lime', '4'], ['muted violet', '1'], ['drab plum', '5'], ['shiny silver', '5']], 'plaid green': [['pale olive', '2'], ['dark chartreuse', '1'], ['vibrant olive', '1'], ['pale bronze', '1']], 'plaid fuchsia': [['dull teal', '5'], ['dark beige', '4'], ['shiny teal', '4'], ['vibrant orange', '5']], 'vibrant coral': [['dotted blue', '1']], 'drab tan': [['drab maroon', '5'], ['bright silver', '5'], ['dim tan', '2']], 'light gray': [['dotted crimson', '3'], ['dull chartreuse', '3'], ['light maroon', '1']], 'mirrored tomato': [['clear orange', '5'], ['striped violet', '2']], 'pale brown': [['faded fuchsia', '1'], ['wavy orange', '2'], ['mirrored coral', '1'], ['dotted brown', '5']], 'muted maroon': [['drab gold', '5'], ['vibrant aqua', '2'], ['bright crimson', '5']], 'light purple': [['dim teal', '4'], ['vibrant bronze', '3'], ['dark chartreuse', '2'], ['shiny green', '1']], 'muted white': [['wavy lime', '3'], ['muted lavender', '5'], ['pale salmon', '1'], ['dotted red', '1']], 'plaid yellow': [['plaid gold', '2'], ['faded lavender', '2'], ['faded fuchsia', '2'], ['faded gold', '3']], 'plaid white': [['dull cyan', '1'], ['pale cyan', '4'], ['clear red', '1'], ['vibrant orange', '5']], 'wavy teal': [['wavy violet', '5'], ['shiny silver', '5']], 'pale crimson': [['wavy white', '1'], ['clear tomato', '5'], ['dark plum', '2'], ['bright turquoise', '3']], 'posh green': [['muted black', '2'], ['light magenta', '3']], 'striped maroon': [['bright green', '1'], ['dark coral', '4']], 'pale red': [['faded turquoise', '5'], ['plaid crimson', '4'], ['dark aqua', '5']], 'vibrant chartreuse': [['pale red', '2']], 'pale olive': [['striped blue', '3'], ['faded magenta', '5'], ['light white', '3']], 'striped tomato': [['faded plum', '4']], 'shiny cyan': [['clear tomato', '1'], ['clear magenta', '4'], ['plaid teal', '3'], ['dotted indigo', '5']], 'plaid silver': [['dotted beige', '3']], 'posh teal': [['faded black', '3'], ['vibrant lavender', '2'], ['light lavender', '5'], ['faded lime', '5']], 'clear gray': [['pale black', '5'], ['dull salmon', '2']], 'bright white': [['shiny olive', '2'], ['dim brown', '5'], ['dull crimson', '1']], 'striped gold': [['mirrored yellow', '3'], ['posh brown', '1'], ['clear cyan', '5'], ['striped tan', '3']], 'light black': [['light lavender', '2'], ['dotted bronze', '2']], 'vibrant orange': [['posh plum', '3'], ['light tan', '5'], ['dim gold', '5'], ['vibrant aqua', '4']], 'dark chartreuse': [['striped purple', '3'], ['dull beige', '2'], ['wavy brown', '5']], 'mirrored magenta': [['drab purple', '4'], ['dotted brown', '4'], ['light fuchsia', '2']], 'striped magenta': [['drab gray', '1'], ['wavy yellow', '1'], ['drab plum', '5']], 'dotted teal': [['pale indigo', '4']], 'plaid red': [['clear fuchsia', '4'], ['vibrant brown', '2']], 'dotted green': [['striped teal', '2'], ['muted bronze', '3'], ['light red', '4']], 'vibrant purple': [['drab plum', '2'], ['dim beige', '4'], ['drab aqua', '4']], 'light indigo': [['dotted plum', '1']], 'wavy green': [['shiny aqua', '1'], ['dark lavender', '2']], 'faded gray': [['plaid green', '2']], 'dull purple': [['dull salmon', '4'], ['plaid chartreuse', '1'], ['dull tan', '1'], ['pale green', '4']], 'posh yellow': [['dim teal', '2']], 'pale orange': [['mirrored red', '4'], ['dotted chartreuse', '2'], ['light yellow', '2'], ['posh red', '3']], 'dark tomato': [['light magenta', '1'], ['light black', '4'], ['vibrant aqua', '2']], 'light cyan': [['shiny red', '1'], ['plaid green', '2'], ['clear cyan', '4'], ['wavy tomato', '5']], 'pale lavender': [['pale gray', '2'], ['dotted violet', '3'], ['striped lavender', '2'], ['drab magenta', '5']], 'dim coral': [['bright black', '4'], ['shiny tan', '1'], ['faded chartreuse', '1'], ['bright silver', '1']], 'muted purple': [['wavy yellow', '2']], 'pale chartreuse': [['dotted red', '3'], ['striped salmon', '4'], ['pale brown', '4'], ['dull yellow', '2']], 'light red': [['bright crimson', '3']], 'bright green': [['plaid fuchsia', '2'], ['light lavender', '5'], ['dotted cyan', '3']], 'plaid purple': [['wavy tan', '4'], ['plaid teal', '5'], ['dull teal', '5'], ['shiny gold', '1']], 'vibrant gray': [['dull beige', '1']], 'dotted orange': [['light green', '2'], ['dotted brown', '5'], ['pale blue', '4']], 'dull black': [['pale silver', '5'], ['pale lavender', '4']], 'dull blue': [['striped turquoise', '1'], ['dotted red', '2'], ['dark white', '5']], 'clear turquoise': [['dim beige', '3'], ['faded brown', '5']], 'pale magenta': [['dark violet', '1'], ['dark yellow', '1'], ['wavy aqua', '2'], ['light silver', '5']], 'bright teal': [['dark beige', '1'], ['pale gold', '1'], ['dim magenta', '1']], 'pale plum': [['vibrant yellow', '3'], ['dotted beige', '1']], 'dull lime': [['faded coral', '1'], ['plaid gold', '4'], ['drab white', '3']], 'vibrant olive': [['plaid teal', '1'], ['faded tan', '1']], 'muted magenta': [['clear gold', '5']], 'dull olive': [['clear cyan', '4'], ['dotted tan', '1']], 'dim orange': [['drab lime', '3'], ['drab plum', '1'], ['vibrant tomato', '2'], ['plaid blue', '1']], 'wavy crimson': [['plaid gold', '2'], ['light olive', '3'], ['vibrant fuchsia', '4']], 'clear tan': [['dotted beige', '3'], ['dark purple', '2']], 'plaid bronze': [['mirrored violet', '1']], 'muted brown': [['dotted indigo', '4'], ['dull crimson', '5']], 'dull fuchsia': [['dotted gold', '2'], ['striped violet', '2'], ['clear lime', '1'], ['shiny fuchsia', '3']], 'mirrored gold': [['mirrored purple', '2'], ['plaid aqua', '4']], 'vibrant turquoise': [['light maroon', '1'], ['dim teal', '3'], ['dull brown', '1']], 'shiny green': [['plaid orange', '2']], 'dark crimson': [['striped purple', '1'], ['vibrant salmon', '4']], 'bright gray': [['plaid blue', '4'], ['faded lime', '1'], ['pale salmon', '4'], ['bright bronze', '3']], 'wavy salmon': [['wavy coral', '1'], ['bright blue', '3']], 'faded blue': [['muted fuchsia', '3'], ['plaid lavender', '1'], ['posh brown', '3']], 'posh tomato': [['dim gold', '4'], ['shiny gold', '2']], 'striped yellow': [['vibrant turquoise', '3'], ['dim salmon', '3'], ['vibrant yellow', '4'], ['faded beige', '2']], 'light beige': [['striped purple', '5'], ['muted gold', '3']], 'wavy indigo': [['muted chartreuse', '1'], ['wavy purple', '2'], ['mirrored coral', '2'], ['muted teal', '4']], 'striped tan': [['light fuchsia', '4'], ['dim chartreuse', '2'], ['vibrant black', '3'], ['muted black', '1']], 'pale fuchsia': [['vibrant aqua', '5'], ['drab purple', '5'], ['shiny olive', '5'], ['drab indigo', '5']], 'pale cyan': [['dull teal', '5']], 'dull chartreuse': [['wavy brown', '5']], 'bright coral': [['clear orange', '3'], ['shiny brown', '3'], ['pale teal', '4']], 'light magenta': [['light white', '3'], ['clear indigo', '1'], ['vibrant salmon', '3'], ['dark crimson', '3']], 'dull bronze': [['dotted gold', '5'], ['dark olive', '4'], ['vibrant magenta', '3']], 'light lime': [['vibrant cyan', '4']], 'muted aqua': [['dotted red', '3'], ['wavy blue', '2'], ['vibrant orange', '3']], 'light violet': [['light green', '3']], 'dotted red': [['muted teal', '1'], ['striped tan', '4'], ['wavy teal', '3']], 'pale purple': [['dotted cyan', '4'], ['dim magenta', '1']], 'dim beige': [['dotted yellow', '5'], ['faded magenta', '4'], ['muted beige', '1'], ['pale bronze', '2']], 'light bronze': [['faded bronze', '5'], ['drab bronze', '2'], ['dark gold', '5'], ['light purple', '2']], 'wavy violet': [['light white', '5'], ['light tan', '3']], 'vibrant aqua': [['wavy turquoise', '3'], ['dull beige', '4']], 'pale bronze': [['light lavender', '5'], ['dull beige', '4'], ['bright crimson', '3']], 'bright salmon': [['mirrored bronze', '5'], ['dull orange', '5'], ['shiny salmon', '2']], 'muted blue': [['shiny yellow', '3'], ['light yellow', '5'], ['vibrant gold', '5'], ['dotted coral', '2']], 'dotted silver': [['plaid fuchsia', '1'], ['light beige', '5'], ['drab lime', '4']], 'mirrored black': [['dull salmon', '2']], 'bright black': [['faded magenta', '4']], 'bright beige': [['mirrored salmon', '2']], 'bright indigo': [['clear brown', '4'], ['bright green', '3']], 'mirrored lavender': [['shiny tan', '3'], ['dark purple', '4'], ['striped tan', '2']], 'light aqua': [['light magenta', '2'], ['vibrant tan', '5'], ['drab plum', '5'], ['plaid tomato', '1']], 'mirrored maroon': [['vibrant tomato', '4']], 'posh turquoise': [['striped white', '1'], ['dim lavender', '3'], ['posh teal', '3'], ['mirrored salmon', '2']], 'shiny gray': [['vibrant beige', '1'], ['light tan', '3'], ['wavy teal', '4']], 'wavy black': [['dark tomato', '4'], ['dim gold', '3'], ['dark beige', '4']], 'drab silver': [['light green', '2'], ['light gold', '3'], ['drab plum', '4'], ['dotted yellow', '1']], 'pale violet': [['dull beige', '1'], ['shiny teal', '2'], ['light lavender', '1'], ['mirrored red', '3']], 'dark blue': [['dotted indigo', '1'], ['clear tomato', '1']], 'dull teal': [['vibrant salmon', '5'], ['vibrant aqua', '3'], ['wavy tan', '5'], ['striped purple', '5']], 'faded tomato': [['shiny chartreuse', '2'], ['clear orange', '4'], ['bright orange', '5']], 'mirrored red': [['muted beige', '5'], ['faded white', '2']], 'mirrored lime': [['posh crimson', '4'], ['pale turquoise', '5'], ['wavy blue', '3']], 'mirrored crimson': [['faded white', '1'], ['dark crimson', '2'], ['striped cyan', '3']], 'light teal': [['clear indigo', '3'], ['wavy tan', '1'], ['dim gold', '4']], 'wavy chartreuse': [['wavy plum', '5'], ['shiny salmon', '2'], ['clear olive', '3']], 'shiny black': [['drab aqua', '2'], ['dull brown', '4'], ['wavy silver', '5'], ['vibrant brown', '1']], 'bright violet': [['striped magenta', '2'], ['vibrant gray', '4']], 'muted tomato': [['drab turquoise', '1']], 'muted teal': [['dotted blue', '3']], 'dim cyan': [['dotted blue', '3'], ['vibrant coral', '1']], 'striped fuchsia': [['shiny gold', '1'], ['dark beige', '5'], ['mirrored indigo', '5']], 'clear bronze': [['striped orange', '3'], ['vibrant tomato', '2']], 'vibrant lavender': [['muted beige', '2'], ['shiny teal', '4'], ['dull beige', '4']], 'light olive': [['shiny yellow', '5'], ['vibrant cyan', '1']], 'shiny fuchsia': [['dim brown', '4'], ['dull chartreuse', '2']], 'plaid turquoise': [['bright green', '3'], ['light fuchsia', '4'], ['light lavender', '2']], 'shiny brown': [['mirrored plum', '5']], 'pale white': [['dull magenta', '4'], ['posh purple', '1'], ['pale olive', '4'], ['wavy olive', '4']], 'pale yellow': [['bright blue', '1']], 'dark salmon': [['wavy turquoise', '3'], ['dotted plum', '1'], ['faded white', '3'], ['dim tan', '5']], 'shiny crimson': [['faded coral', '5']], 'pale green': [['posh beige', '2'], ['dark silver', '5']], 'dim gray': [['dull cyan', '4'], ['muted salmon', '2'], ['mirrored tan', '4'], ['bright violet', '1']], 'dim blue': [['light orange', '4'], ['wavy beige', '4']], 'mirrored cyan': [['pale cyan', '3']], 'dark aqua': [['striped blue', '2'], ['light white', '5'], ['drab gray', '4']], 'light tan': [['clear aqua', '1']], 'light silver': [['light green', '1'], ['pale bronze', '2'], ['bright crimson', '1'], ['vibrant aqua', '1']], 'plaid tan': [['posh silver', '5'], ['shiny beige', '1']], 'shiny white': [['pale olive', '1']], 'dotted brown': [['bright silver', '1'], ['light tan', '5'], ['light coral', '4']], 'shiny bronze': [['vibrant plum', '2'], ['wavy teal', '2'], ['bright red', '1'], ['clear tomato', '5']], 'striped violet': [['vibrant gray', '5'], ['dark maroon', '3'], ['dotted fuchsia', '4'], ['plaid purple', '4']], 'dull plum': [['dark gray', '4'], ['wavy aqua', '1'], ['muted aqua', '2'], ['striped crimson', '5']], 'posh blue': [['dotted bronze', '1'], ['muted indigo', '5'], ['light tan', '2']], 'posh tan': [['shiny gold', '4'], ['drab maroon', '3']], 'striped aqua': [['muted bronze', '4'], ['bright blue', '5'], ['wavy tan', '1']], 'shiny silver': [['light green', '1']], 'dark white': [['drab purple', '4']], 'dull green': [['wavy bronze', '5'], ['faded white', '5']], 'clear chartreuse': [['dark gray', '3']], 'posh coral': [['shiny lime', '2'], ['light blue', '4'], ['muted bronze', '3']], 'faded magenta': [['dull maroon', '1'], ['shiny teal', '4'], ['plaid teal', '1']], 'drab brown': [['drab violet', '1']], 'pale salmon': [['plaid gray', '4'], ['wavy violet', '2']], 'mirrored aqua': [['faded turquoise', '1'], ['dull aqua', '5']], 'striped gray': [['dark maroon', '5'], ['shiny plum', '3']], 'mirrored salmon': [['clear cyan', '4'], ['vibrant olive', '2'], ['striped silver', '2'], ['muted lavender', '3']], 'wavy purple': [['shiny beige', '1']], 'plaid indigo': [['plaid plum', '1']], 'plaid gray': [['pale blue', '5'], ['shiny gold', '3']], 'bright yellow': [['drab bronze', '2'], ['drab teal', '3']], 'drab red': [['drab indigo', '4'], ['mirrored blue', '1'], ['dull aqua', '2'], ['light magenta', '4']], 'dull white': [['muted black', '2'], ['dim beige', '1'], ['dark beige', '1']], 'clear silver': [['muted bronze', '5'], ['muted tan', '1'], ['light aqua', '3'], ['wavy fuchsia', '1']], 'dark black': [['pale fuchsia', '2'], ['pale brown', '5'], ['drab black', '5']], 'mirrored silver': [['drab plum', '4'], ['shiny white', '3'], ['muted crimson', '5'], ['dull aqua', '5']], 'dim tomato': [['drab red', '3'], ['drab lime', '1'], ['striped gray', '4']], 'faded bronze': [['clear indigo', '5'], ['dotted blue', '2']], 'striped crimson': [['plaid tomato', '1'], ['dull yellow', '2'], ['plaid purple', '3']], 'wavy olive': [['mirrored red', '4'], ['drab indigo', '4']], 'dotted turquoise': [['mirrored lavender', '2'], ['light maroon', '4'], ['pale teal', '2'], ['mirrored crimson', '1']], 'muted violet': [['shiny olive', '5']], 'bright orange': [['pale tan', '4'], ['striped fuchsia', '1'], ['shiny olive', '5']], 'striped turquoise': [['posh salmon', '1'], ['shiny indigo', '5'], ['wavy violet', '4']], 'dull indigo': [['plaid plum', '3'], ['faded plum', '4'], ['dull violet', '3']], 'posh black': [['clear brown', '4'], ['vibrant cyan', '4'], ['light white', '1']], 'shiny orange': [['striped purple', '5'], ['muted beige', '3']], 'striped plum': [['dull salmon', '5'], ['dull orange', '3'], ['clear lime', '1'], ['mirrored indigo', '3']], 'clear white': [['wavy crimson', '4'], ['plaid magenta', '3']], 'pale tan': [['muted indigo', '5']], 'dark red': [['bright magenta', '3'], ['muted salmon', '1'], ['vibrant gray', '4'], ['clear green', '5']], 'dark yellow': [['dim teal', '3']], 'vibrant white': [['drab yellow', '2'], ['vibrant aqua', '4'], ['plaid maroon', '2']], 'posh lime': [['vibrant black', '5']], 'clear teal': [['shiny olive', '1'], ['bright aqua', '5'], ['bright violet', '4']], 'dotted indigo': [['muted fuchsia', '2'], ['mirrored gray', '3']], 'posh olive': [['clear maroon', '5'], ['dim teal', '2'], ['drab plum', '2'], ['shiny olive', '4']], 'dark coral': [['clear red', '4']], 'dark olive': [['vibrant black', '4']], 'faded olive': [['bright gray', '2'], ['dull white', '5']], 'dotted purple': [['faded brown', '1'], ['dark purple', '5']], 'faded plum': [['pale brown', '2'], ['dark aqua', '4']], 'bright plum': [['vibrant brown', '2'], ['bright black', '1'], ['dotted gold', '1']], 'faded lavender': [['clear violet', '4'], ['striped purple', '4']], 'faded silver': [['dotted blue', '4'], ['light purple', '2'], ['bright chartreuse', '1'], ['striped white', '3']], 'bright cyan': [['dotted lime', '5'], ['shiny gray', '5'], ['faded orange', '1'], ['clear indigo', '5']], 'plaid tomato': [['clear violet', '1'], ['muted beige', '3']], 'wavy aqua': [['light tan', '1']], 'dotted gold': [['mirrored indigo', '5'], ['dull tan', '5']], 'faded teal': [['plaid black', '5'], ['clear turquoise', '2']], 'striped white': [['dull aqua', '2'], ['mirrored violet', '1'], ['vibrant salmon', '4']], 'mirrored violet': [['vibrant salmon', '2'], ['clear brown', '1']], 'drab magenta': [['muted lime', '3'], ['bright orange', '2']], 'pale teal': [['light black', '3'], ['dim black', '4'], ['muted gray', '2']], 'dark teal': [['dark tomato', '5'], ['dull teal', '4'], ['striped white', '5'], ['plaid aqua', '5']], 'dim purple': [['wavy magenta', '5'], ['muted fuchsia', '2'], ['mirrored bronze', '5']], 'clear violet': [['wavy turquoise', '5'], ['light black', '5'], ['mirrored indigo', '1'], ['faded white', '2']], 'dim indigo': [['dull teal', '3']], 'dotted olive': [['dark red', '4'], ['mirrored beige', '2']], 'posh aqua': [['posh blue', '1'], ['dotted black', '4'], ['pale tomato', '4']], 'clear orange': [['striped magenta', '1'], ['wavy aqua', '3']], 'plaid cyan': [['vibrant lavender', '5'], ['light gold', '2'], ['wavy orange', '2'], ['bright turquoise', '4']], 'mirrored green': [['plaid fuchsia', '4']], 'dark silver': [['light coral', '3']], 'wavy silver': [['plaid yellow', '5'], ['pale orange', '5']], 'plaid crimson': [['vibrant salmon', '4'], ['vibrant blue', '4'], ['light teal', '1'], ['bright crimson', '3']], 'mirrored bronze': [['dark coral', '1'], ['clear orange', '2'], ['plaid orange', '4'], ['vibrant gray', '2']], 'faded aqua': [['light white', '5'], ['drab gray', '3'], ['plaid beige', '1']], 'drab yellow': [['dotted black', '1'], ['dim silver', '2']], 'dark beige': [['wavy tan', '4'], ['light lavender', '5'], ['dotted bronze', '5']], 'clear green': [['shiny purple', '5'], ['light teal', '5'], ['pale bronze', '5']], 'dotted lavender': [['wavy orange', '4'], ['dull chartreuse', '4']], 'bright chartreuse': [['dotted cyan', '2'], ['pale olive', '3'], ['vibrant salmon', '4']], 'faded red': [['dull cyan', '3'], ['drab indigo', '3'], ['light green', '5'], ['dark lime', '4']], 'plaid brown': [['dotted salmon', '2'], ['striped silver', '3'], ['light blue', '1']], 'dim violet': [['striped lavender', '3'], ['dotted coral', '5'], ['clear blue', '1']], 'vibrant red': [['dark coral', '1'], ['light gold', '3']], 'faded violet': [['pale gold', '3']], 'muted salmon': [['wavy turquoise', '3']], 'vibrant gold': [['shiny teal', '2']], 'dull coral': [['posh gold', '3'], ['wavy olive', '4']], 'mirrored fuchsia': [['wavy lime', '5']], 'dotted plum': [['bright bronze', '3'], ['light coral', '3'], ['mirrored orange', '5'], ['plaid gray', '4']], 'dim fuchsia': [['light indigo', '4'], ['faded red', '5'], ['plaid orange', '5']], 'dull brown': [['dim gold', '2']], 'faded indigo': [['wavy olive', '3'], ['shiny green', '1']], 'pale coral': [['faded crimson', '5']], 'light orange': [['bright gold', '3'], ['striped magenta', '1'], ['plaid lavender', '4'], ['light green', '5']], 'clear salmon': [['dim tan', '3'], ['light lavender', '1']], 'vibrant indigo': [['dark beige', '1'], ['posh purple', '2']], 'clear cyan': [['posh brown', '5']], 'dull red': [['drab gold', '3'], ['dark aqua', '3'], ['dim maroon', '5']], 'dim red': [['faded black', '5'], ['shiny lime', '2']], 'dark indigo': [['dull green', '5'], ['striped white', '2'], ['dotted indigo', '3']], 'pale tomato': [['vibrant gold', '4']], 'dim turquoise': [['plaid tomato', '4'], ['plaid gray', '2'], ['shiny violet', '4']], 'dotted yellow': [['dotted plum', '5'], ['muted beige', '3'], ['light fuchsia', '4'], ['wavy olive', '1']], 'dim gold': [['muted beige', '3']], 'mirrored orange': [['drab maroon', '5'], ['dull teal', '4'], ['faded tan', '1'], ['dark aqua', '2']], 'light chartreuse': [['vibrant gold', '4'], ['dark silver', '5'], ['pale purple', '3']], 'posh silver': [['dotted silver', '5'], ['dark chartreuse', '4'], ['striped magenta', '1']], 'vibrant black': [['muted red', '5'], ['pale purple', '1'], ['clear indigo', '2'], ['faded magenta', '4']], 'faded maroon': [['clear cyan', '2'], ['wavy orange', '4'], ['shiny blue', '2']], 'bright lavender': [['dull chartreuse', '5']], 'drab black': [['posh plum', '1'], ['mirrored maroon', '5'], ['dark yellow', '3']], 'drab gray': [['clear violet', '4'], ['mirrored red', '3'], ['light silver', '1'], ['wavy turquoise', '1']], 'faded turquoise': [['light tan', '2'], ['faded coral', '5']], 'dark purple': [['pale cyan', '5']], 'dull maroon': [['wavy turquoise', '2'], ['light lavender', '5'], ['muted beige', '5']], 'bright tomato': [['plaid blue', '3']], 'dim crimson': [['drab turquoise', '3'], ['faded crimson', '2'], ['plaid chartreuse', '2']], 'clear magenta': [['light green', '3'], ['dotted red', '5'], ['mirrored indigo', '1'], ['dim brown', '1']], 'dotted aqua': [['clear crimson', '5'], ['wavy orange', '1']], 'dark fuchsia': [['dull maroon', '1']], 'faded salmon': [['wavy yellow', '2'], ['faded plum', '3']], 'muted chartreuse': [['light gold', '5'], ['bright bronze', '1'], ['light beige', '5'], ['light black', '4']], 'muted lavender': [['mirrored coral', '3']], 'drab fuchsia': [['plaid brown', '3']], 'dim plum': [['vibrant brown', '4'], ['plaid beige', '3'], ['dark crimson', '3'], ['bright teal', '4']], 'shiny magenta': [['muted black', '1']], 'wavy magenta': [['faded lavender', '2'], ['bright gray', '1'], ['pale olive', '3']], 'mirrored plum': [['muted maroon', '5']], 'wavy plum': [['dark crimson', '5']], 'striped lavender': [['vibrant yellow', '4'], ['vibrant lavender', '2']], 'faded beige': [['pale indigo', '4'], ['vibrant tomato', '5']], 'shiny gold': [['drab gray', '4'], ['light coral', '4']], 'dotted beige': [['drab maroon', '5'], ['shiny gold', '1'], ['light lavender', '3']], 'dull yellow': [['pale bronze', '3'], ['bright silver', '1']], 'muted green': [['faded red', '3'], ['plaid green', '2'], ['plaid black', '3'], ['light yellow', '1']], 'vibrant silver': [['striped purple', '5'], ['shiny olive', '3'], ['vibrant lavender', '4']], 'dim green': [['vibrant gold', '4'], ['muted maroon', '5'], ['plaid aqua', '1'], ['posh silver', '2']], 'faded lime': [['shiny white', '2']], 'bright bronze': [['muted gold', '5'], ['light black', '3']], 'shiny yellow': [['light green', '5'], ['wavy brown', '5']], 'dark cyan': [['light teal', '5'], ['posh yellow', '1'], ['shiny aqua', '3']], 'striped blue': [['muted gold', '1'], ['dull maroon', '4'], ['clear red', '3'], ['faded fuchsia', '5']], 'dim tan': [['bright tan', '1']], 'shiny red': [['plaid turquoise', '3'], ['dotted cyan', '1'], ['pale fuchsia', '1']], 'vibrant brown': [['dim magenta', '5'], ['drab white', '4']], 'dull turquoise': [['bright orange', '2'], ['bright gray', '4'], ['dim chartreuse', '3']], 'dark bronze': [['striped green', '3'], ['wavy tan', '2'], ['faded lime', '2'], ['bright olive', '3']], 'striped green': [['light black', '4'], ['drab bronze', '2'], ['dotted bronze', '4'], ['plaid orange', '3']], 'dark brown': [['drab indigo', '5'], ['plaid white', '3'], ['pale lime', '1']], 'dotted black': [['dull beige', '4'], ['drab lavender', '4']], 'striped cyan': [['vibrant orange', '2'], ['clear violet', '3'], ['mirrored gray', '2']], 'clear tomato': [['shiny gold', '5'], ['dim chartreuse', '1'], ['dark crimson', '4'], ['shiny white', '5']], 'light white': [['pale violet', '3'], ['drab plum', '4'], ['drab gray', '4'], ['vibrant lavender', '1']], 'plaid black': [['vibrant orange', '4'], ['bright gray', '5']], 'drab salmon': [['faded coral', '4']], 'shiny maroon': [['pale black', '3'], ['bright magenta', '2']], 'striped black': [['plaid fuchsia', '1'], ['plaid black', '4'], ['mirrored beige', '1']], 'muted bronze': [['faded red', '5'], ['plaid green', '5']], 'bright tan': [['wavy yellow', '1'], ['light fuchsia', '5'], ['plaid teal', '5']], 'plaid gold': [['faded black', '5'], ['vibrant black', '1']], 'wavy tomato': [['plaid fuchsia', '5'], ['mirrored violet', '2'], ['dark yellow', '3'], ['bright gold', '1']], 'faded tan': [['vibrant salmon', '5'], ['plaid teal', '5'], ['clear aqua', '4'], ['pale violet', '2']], 'light crimson': [['mirrored tomato', '3'], ['plaid green', '5']], 'wavy bronze': [['light teal', '1']], 'faded yellow': [['clear beige', '3'], ['bright bronze', '4']], 'muted gold': [['plaid teal', '5'], ['faded fuchsia', '2'], ['bright crimson', '4']], 'shiny tan': [['dark salmon', '5'], ['light red', '5']], 'bright gold': [['faded chartreuse', '2'], ['dim green', '2'], ['striped cyan', '3']], 'pale turquoise': [['pale tan', '1'], ['dark violet', '5']], 'wavy orange': [['plaid teal', '5'], ['pale bronze', '1'], ['wavy tan', '4'], ['clear red', '1']], 'dim silver': [['dark lime', '3'], ['dotted beige', '1']], 'faded cyan': [['dull maroon', '2'], ['clear tan', '5'], ['dull coral', '1'], ['posh lavender', '2']], 'dim white': [['dull maroon', '1'], ['dull brown', '3']], 'vibrant bronze': [['faded chartreuse', '5']], 'dotted fuchsia': [['vibrant salmon', '4'], ['faded white', '2']], 'faded gold': [['dark maroon', '2'], ['bright chartreuse', '2'], ['dull brown', '1']], 'dim brown': [['dull yellow', '3'], ['faded chartreuse', '4'], ['vibrant silver', '5']], 'light yellow': [['striped silver', '2']], 'striped coral': [['muted blue', '1'], ['dim aqua', '1'], ['posh red', '4'], ['plaid lime', '5']], 'dark magenta': [['pale violet', '2'], ['vibrant tomato', '2'], ['clear orange', '5']], 'posh indigo': [['clear red', '2'], ['clear violet', '4'], ['shiny chartreuse', '2'], ['dull white', '5']], 'light tomato': [['clear indigo', '4']], 'light plum': [['mirrored maroon', '2']], 'drab violet': [['dark aqua', '5'], ['vibrant magenta', '1']], 'pale gray': [['striped lime', '1'], ['clear bronze', '4']], 'dark plum': [['dark olive', '2']], 'plaid lavender': [['pale brown', '4']], 'mirrored olive': [['faded coral', '1']], 'drab green': [['dull silver', '2'], ['clear purple', '2'], ['posh violet', '3'], ['light blue', '2']], 'bright maroon': [['faded yellow', '4'], ['dotted bronze', '4'], ['dark brown', '2']], 'striped purple': [['faded fuchsia', '2'], ['posh plum', '5']], 'wavy gray': [['dark violet', '4'], ['plaid orange', '4']], 'drab plum': [['light lavender', '3'], ['striped blue', '1'], ['bright crimson', '5']], 'faded orange': [['light teal', '4'], ['dim chartreuse', '4'], ['vibrant yellow', '2']], 'dim salmon': [['pale coral', '2'], ['drab aqua', '1']], 'muted silver': [['clear chartreuse', '1'], ['clear tan', '2'], ['dotted tan', '5'], ['clear black', '4']], 'muted yellow': [['wavy blue', '3'], ['striped lavender', '1']], 'wavy gold': [['faded gold', '5'], ['shiny green', '1'], ['mirrored cyan', '1']], 'dull gold': [['striped green', '1']], 'bright brown': [['drab plum', '4'], ['pale violet', '4'], ['vibrant blue', '5']], 'bright crimson': [['wavy tan', '2'], ['shiny teal', '4']], 'mirrored gray': [['dull beige', '2'], ['light white', '4'], ['pale brown', '5']], 'dull tan': [['dim magenta', '4'], ['light teal', '1']], 'mirrored yellow': [['drab lavender', '1'], ['shiny gold', '4'], ['drab turquoise', '3'], ['light silver', '2']], 'muted indigo': [['mirrored coral', '5'], ['dark crimson', '3']], 'dull aqua': [['drab lime', '4'], ['shiny crimson', '3'], ['drab salmon', '1']], 'dim aqua': [['shiny lavender', '2'], ['pale coral', '5']], 'shiny chartreuse': [['clear maroon', '1'], ['shiny blue', '4']], 'dotted magenta': [['light olive', '3']], 'faded green': [['faded beige', '4'], ['dotted gold', '5'], ['striped lavender', '5'], ['wavy blue', '5']], 'drab orange': [['muted fuchsia', '3']], 'dim magenta': [['shiny orange', '1']], 'shiny olive': [['wavy aqua', '2']], 'dark orange': [['clear black', '1'], ['faded gray', '1']], 'bright turquoise': [['dull beige', '2'], ['shiny teal', '5'], ['posh brown', '5'], ['dark beige', '5']], 'faded purple': [['dark white', '2'], ['pale salmon', '2']], 'drab olive': [['dark silver', '1'], ['plaid yellow', '4'], ['drab gold', '3'], ['mirrored yellow', '2']], 'dull gray': [['vibrant turquoise', '3'], ['faded chartreuse', '5']], 'striped bronze': [['faded turquoise', '3'], ['vibrant gray', '2'], ['dotted beige', '3'], ['dull beige', '3']], 'wavy fuchsia': [['shiny purple', '2'], ['plaid crimson', '2'], ['dark cyan', '1']], 'pale aqua': [['dotted tan', '4'], ['dim yellow', '1'], ['shiny lime', '5']], 'pale silver': [['shiny brown', '2']], 'shiny aqua': [['pale salmon', '1'], ['faded chartreuse', '5'], ['plaid aqua', '1'], ['shiny silver', '4']], 'posh brown': [['vibrant orange', '5'], ['bright silver', '4'], ['wavy orange', '5'], ['dim chartreuse', '3']], 'striped lime': [['drab violet', '5'], ['light turquoise', '4'], ['bright turquoise', '2']], 'muted tan': [['striped purple', '2'], ['posh yellow', '4']], 'drab purple': [['clear red', '2']], 'plaid magenta': [['pale blue', '2'], ['plaid crimson', '5']], 'mirrored tan': [['pale purple', '3']], 'light blue': [['light tan', '4']], 'clear black': [['pale blue', '2'], ['dim gold', '4'], ['vibrant gold', '2']], 'light gold': [['wavy turquoise', '1'], ['drab plum', '3'], ['clear violet', '1']], 'bright olive': [['light lavender', '3'], ['faded tan', '1'], ['shiny gold', '3'], ['dotted cyan', '1']], 'dark maroon': [['muted gold', '4'], ['shiny yellow', '2']], 'wavy lime': [['plaid green', '3'], ['mirrored silver', '5'], ['mirrored green', '4'], ['dotted beige', '3']], 'drab white': [['clear red', '3'], ['bright silver', '3'], ['posh red', '4'], ['shiny blue', '2']], 'clear lime': [['dotted orange', '4']], 'vibrant maroon': [['dull orange', '2'], ['vibrant crimson', '5']], 'pale black': [['pale cyan', '1'], ['dim tan', '5'], ['shiny purple', '4'], ['faded fuchsia', '4']], 'vibrant tomato': [['mirrored orange', '2']], 'dotted gray': [['dotted purple', '3']], 'drab gold': [['shiny gold', '4']], 'mirrored teal': [['shiny magenta', '3'], ['mirrored beige', '3'], ['dotted silver', '3'], ['mirrored indigo', '5']], 'posh lavender': [['wavy teal', '2'], ['striped violet', '4'], ['vibrant gold', '1']], 'dark lavender': [['light blue', '3'], ['muted beige', '2'], ['clear magenta', '3'], ['light tan', '1']], 'muted cyan': [['dull gold', '4'], ['dim yellow', '1'], ['striped cyan', '4'], ['dim gold', '2']], 'dim maroon': [['shiny purple', '5']], 'shiny purple': [['pale violet', '5'], ['light fuchsia', '2'], ['mirrored red', '2']], 'vibrant lime': [['bright orange', '4'], ['posh beige', '1']], 'vibrant teal': [['posh turquoise', '2'], ['pale tomato', '3'], ['dark bronze', '3']], 'posh fuchsia': [['striped plum', '3'], ['drab aqua', '2']], 'dotted violet': [['plaid black', '5'], ['clear salmon', '1'], ['dull chartreuse', '2']], 'clear gold': [['dull violet', '2'], ['muted white', '3']], 'dull cyan': [['pale violet', '4'], ['light gold', '2'], ['dark tomato', '4']], 'posh beige': [['mirrored cyan', '5'], ['dotted red', '5'], ['clear purple', '3'], ['posh white', '3']], 'dotted maroon': [['pale orange', '3'], ['striped black', '1'], ['faded fuchsia', '4']], 'dotted tomato': [['striped magenta', '5'], ['striped orange', '4'], ['muted teal', '3'], ['bright black', '3']], 'drab teal': [['striped tan', '5'], ['dull green', '4'], ['muted coral', '5'], ['clear red', '1']], 'vibrant magenta': [['bright orange', '5'], ['mirrored gray', '4'], ['faded tan', '1'], ['faded brown', '4']], 'posh crimson': [['light lime', '5'], ['faded brown', '1'], ['posh red', '2']], 'dull lavender': [['clear green', '4'], ['wavy orange', '5'], ['posh green', '5'], ['plaid orange', '3']], 'wavy yellow': [['light teal', '2']], 'dotted bronze': [['clear red', '3'], ['posh plum', '4'], ['light lavender', '4'], ['faded fuchsia', '4']], 'dim olive': [['dotted chartreuse', '2']], 'dark gray': [['shiny olive', '3']], 'posh salmon': [['pale purple', '1'], ['clear tomato', '2'], ['shiny gold', '4']], 'shiny coral': [['dark olive', '3'], ['dull fuchsia', '2'], ['dull gold', '1']], 'vibrant green': [['light fuchsia', '2'], ['vibrant violet', '5'], ['dotted blue', '3']], 'pale lime': [['vibrant gold', '4'], ['dotted yellow', '5']], 'vibrant yellow': [['clear violet', '5'], ['dark maroon', '1']], 'pale beige': [['faded red', '4'], ['striped green', '4']], 'dim bronze': [['posh chartreuse', '5'], ['light white', '5']], 'clear fuchsia': [['posh yellow', '5'], ['faded fuchsia', '4']], 'faded chartreuse': [['drab purple', '5'], ['wavy olive', '1'], ['light black', '3'], ['dotted brown', '1']], 'mirrored turquoise': [['faded fuchsia', '1'], ['mirrored blue', '2']], 'light maroon': [['dotted blue', '4'], ['muted gold', '4'], ['faded lavender', '3']], 'muted crimson': [['posh bronze', '5']], 'mirrored blue': [['faded lavender', '1'], ['bright chartreuse', '5'], ['dotted brown', '4']], 'striped brown': [['clear cyan', '2'], ['vibrant orange', '4'], ['shiny tan', '5']], 'muted orange': [['dotted black', '3'], ['clear beige', '4'], ['plaid beige', '2'], ['mirrored coral', '1']], 'clear beige': [['wavy tan', '3'], ['dark aqua', '5']], 'bright silver': [['striped purple', '3']], 'muted plum': [['light purple', '5'], ['light lavender', '1'], ['drab maroon', '2'], ['posh black', '1']], 'vibrant salmon': [['shiny teal', '1']], 'dotted chartreuse': [['vibrant gold', '4']], 'shiny lime': [['dotted crimson', '3'], ['striped crimson', '3']], 'wavy brown': [['pale violet', '1'], ['light beige', '3'], ['wavy aqua', '2'], ['dim teal', '4']], 'clear yellow': [['dotted tan', '3']], 'bright red': [['dim tomato', '1'], ['clear tan', '5'], ['posh red', '2'], ['mirrored yellow', '5']], 'drab tomato': [['drab yellow', '1']], 'dull crimson': [['dotted brown', '1'], ['bright gray', '2'], ['dim tan', '4']], 'shiny beige': [['plaid teal', '2']], 'dotted coral': [['plaid teal', '4'], ['pale turquoise', '2'], ['dark lime', '4'], ['pale purple', '2']], 'shiny plum': [['dull coral', '5'], ['shiny gold', '1']], 'light coral': [['pale bronze', '2'], ['clear aqua', '1']], 'vibrant cyan': [['muted fuchsia', '1'], ['pale tan', '4'], ['shiny green', '1'], ['dotted blue', '1']], 'bright purple': [['faded white', '4']], 'mirrored chartreuse': [['shiny orange', '2']], 'light brown': [['striped violet', '4'], ['striped purple', '4'], ['wavy yellow', '3'], ['drab blue', '2']], 'clear brown': [['clear indigo', '1'], ['dark coral', '2']], 'vibrant fuchsia': [['dull tan', '4'], ['vibrant bronze', '4'], ['light white', '1'], ['vibrant tomato', '5']], 'clear crimson': [['muted tomato', '5']], 'muted red': [['dull beige', '2'], ['dark turquoise', '2'], ['dark fuchsia', '1']], 'dull salmon': [['bright tan', '2'], ['faded white', '5'], ['muted beige', '4'], ['dull cyan', '1']], 'drab lavender': [['dark chartreuse', '1']], 'vibrant plum': [['dark violet', '1'], ['mirrored red', '2'], ['muted purple', '3'], ['dull blue', '5']], 'drab maroon': [['plaid teal', '3'], ['muted beige', '4'], ['posh gold', '4'], ['mirrored coral', '5']], 'posh magenta': [['wavy tomato', '4'], ['wavy beige', '3']], 'striped olive': [['shiny plum', '3'], ['plaid gold', '4']], 'vibrant crimson': [['dim chartreuse', '2']], 'drab lime': [['vibrant aqua', '1']], 'wavy maroon': [['dark tan', '2'], ['faded brown', '4'], ['dim silver', '4'], ['muted lime', '1']], 'dull tomato': [['dotted bronze', '2'], ['vibrant maroon', '5'], ['plaid tan', '4']], 'dim teal': [['muted beige', '5'], ['mirrored indigo', '2'], ['vibrant lavender', '4']], 'wavy white': [['muted white', '1'], ['dim chartreuse', '1']], 'bright lime': [['dull gold', '3'], ['dull indigo', '2'], ['drab teal', '4']], 'plaid aqua': [['light lavender', '4'], ['posh gold', '4'], ['wavy violet', '3'], ['muted chartreuse', '5']], 'mirrored purple': [['dark lavender', '3'], ['clear salmon', '3'], ['plaid white', '1'], ['striped violet', '1']], 'plaid maroon': [['dotted red', '4'], ['mirrored coral', '1'], ['muted indigo', '5'], ['clear turquoise', '1']], 'dark turquoise': [['bright crimson', '4'], ['dotted bronze', '2'], ['pale violet', '2'], ['wavy aqua', '5']], 'dull silver': [['wavy olive', '2'], ['shiny violet', '5']], 'muted olive': [['plaid beige', '5'], ['dark brown', '3'], ['clear black', '1'], ['faded red', '4']], 'drab indigo': [['pale violet', '1']], 'muted lime': [['striped violet', '5'], ['plaid lavender', '2']], 'drab blue': [['pale tomato', '1']], 'drab bronze': [['vibrant blue', '3'], ['vibrant bronze', '1']], 'muted gray': [['dim chartreuse', '4']], 'striped teal': [['dark coral', '4']], 'light green': [['plaid teal', '2'], ['pale bronze', '5'], ['dull teal', '3']], 'plaid salmon': [['bright chartreuse', '3']], 'dotted blue': [['drab plum', '4'], ['light tan', '1']], 'dark violet': [['dark coral', '5'], ['dotted lavender', '5'], ['pale brown', '5'], ['vibrant lavender', '1']], 'pale gold': [['bright silver', '1'], ['dark cyan', '2'], ['dull tan', '1'], ['plaid blue', '1']], 'light turquoise': [['drab turquoise', '3'], ['dull tan', '1'], ['muted indigo', '3'], ['dotted fuchsia', '5']], 'plaid blue': [['pale violet', '3'], ['dotted brown', '4']], 'bright magenta': [['shiny brown', '4'], ['wavy violet', '4'], ['dark aqua', '3'], ['bright turquoise', '2']], 'clear maroon': [['posh plum', '4']], 'posh red': [['plaid cyan', '5'], ['clear orange', '4']], 'posh purple': [['plaid cyan', '5'], ['drab lavender', '1'], ['pale purple', '3'], ['light coral', '4']], 'dim lime': [['striped beige', '2'], ['dark blue', '2']], 'shiny indigo': [['vibrant black', '2'], ['wavy orange', '2']], 'posh gold': [['dull beige', '5'], ['shiny teal', '1']], 'wavy beige': [['dark beige', '2'], ['muted chartreuse', '4'], ['dim lavender', '2'], ['mirrored indigo', '2']], 'dim lavender': [['vibrant aqua', '2']], 'mirrored beige': [['posh red', '2'], ['pale olive', '3'], ['dull brown', '3']], 'clear indigo': [['shiny teal', '1'], ['mirrored indigo', '1']], 'dim chartreuse': [['bright tan', '5']], 'plaid coral': [['clear green', '2']], 'wavy cyan': [['drab blue', '2'], ['dotted coral', '5'], ['mirrored beige', '3']], 'dotted crimson': [['muted tan', '1'], ['dull maroon', '4'], ['striped crimson', '2']], 'drab cyan': [['dull cyan', '1'], ['pale cyan', '3'], ['faded aqua', '4'], ['clear tan', '4']], 'wavy coral': [['wavy plum', '4'], ['plaid beige', '5'], ['pale tan', '5']], 'pale maroon': [['pale tan', '5']], 'shiny blue': [['light coral', '3'], ['bright olive', '4']], 'plaid orange': [['dim white', '2'], ['shiny silver', '3'], ['pale violet', '3']], 'dark tan': [['vibrant olive', '2'], ['plaid turquoise', '3'], ['dull chartreuse', '2'], ['dull teal', '4']], 'posh cyan': [['posh orange', '5'], ['shiny brown', '5']], 'light fuchsia': [['dark beige', '4'], ['light black', '1'], ['striped blue', '1']], 'striped beige': [['bright silver', '2'], ['faded indigo', '2'], ['plaid turquoise', '1'], ['shiny plum', '3']], 'wavy lavender': [['posh black', '4'], ['dotted teal', '1'], ['drab purple', '4']], 'dotted cyan': [['dull yellow', '5'], ['light beige', '5'], ['vibrant aqua', '2'], ['dark beige', '5']], 'drab crimson': [['dark magenta', '5']], 'plaid olive': [['vibrant crimson', '1'], ['dim bronze', '5'], ['striped black', '1'], ['drab brown', '1']], 'dim yellow': [['plaid gray', '3'], ['vibrant salmon', '5'], ['vibrant olive', '4']], 'striped indigo': [['mirrored coral', '3'], ['vibrant bronze', '2'], ['dull brown', '3']], 'dark green': [['shiny teal', '3'], ['pale chartreuse', '5'], ['dull teal', '5'], ['striped silver', '5']], 'drab aqua': [['dark aqua', '5'], ['dotted blue', '5'], ['pale violet', '1'], ['pale bronze', '1']], 'striped orange': [['striped green', '3'], ['muted beige', '4'], ['clear aqua', '2'], ['dark crimson', '3']], 'striped silver': [['pale cyan', '1'], ['drab gold', '5'], ['bright turquoise', '3'], ['light gold', '4']], 'bright blue': [['light black', '4'], ['plaid salmon', '1']], 'striped red': [['vibrant plum', '1'], ['dull blue', '5'], ['dull olive', '1']], 'posh white': [['drab bronze', '3'], ['bright crimson', '4']], 'drab turquoise': [['striped crimson', '4']], 'clear lavender': [['faded magenta', '4'], ['mirrored gray', '1'], ['wavy yellow', '4'], ['dotted cyan', '1']], 'drab chartreuse': [['shiny gray', '1']], 'clear purple': [['shiny brown', '1'], ['bright gray', '2'], ['clear salmon', '5']], 'dull magenta': [['posh cyan', '1'], ['muted indigo', '3'], ['dim lavender', '1']], 'posh chartreuse': [['wavy violet', '4']], 'posh maroon': [['striped gray', '4']], 'clear blue': [['faded lime', '3'], ['pale purple', '2']], 'dark gold': [['dull beige', '2'], ['plaid blue', '3']], 'muted coral': [['dark gold', '4']], 'bright aqua': [['muted crimson', '3']], 'dull orange': [['posh gold', '3']], 'shiny turquoise': [['dark brown', '3'], ['shiny red', '5'], ['muted beige', '3']], 'mirrored brown': [['light orange', '2'], ['drab coral', '5'], ['wavy lime', '2']], 'striped chartreuse': [['dark lavender', '1'], ['pale salmon', '4'], ['dotted violet', '4'], ['clear tomato', '4']], 'shiny salmon': [['dim magenta', '4']], 'bright fuchsia': [['muted chartreuse', '4'], ['mirrored green', '3']], 'shiny tomato': [['clear gray', '5'], ['drab silver', '2'], ['clear green', '3']], 'muted turquoise': [['shiny orange', '5'], ['mirrored tan', '1']], 'vibrant tan': [['faded magenta', '1'], ['drab plum', '5']], 'posh gray': [['posh magenta', '2']], 'dark lime': [['clear aqua', '5'], ['posh plum', '3']], 'plaid violet': [['light bronze', '2'], ['light green', '1'], ['striped gold', '1']], 'vibrant blue': [['wavy yellow', '2'], ['dim magenta', '4'], ['drab maroon', '1'], ['dotted brown', '4']], 'faded brown': [['pale blue', '2'], ['bright olive', '4'], ['bright bronze', '1']], 'striped salmon': [['light green', '4'], ['wavy orange', '4'], ['mirrored coral', '3']], 'plaid lime': [['bright green', '1'], ['light indigo', '2']], 'plaid chartreuse': [['vibrant green', '4'], ['dotted coral', '5'], ['muted gray', '2'], ['bright purple', '4']], 'light salmon': [['vibrant maroon', '5'], ['dark lime', '3'], ['drab tan', '5'], ['striped cyan', '1']], 'muted fuchsia': [['light silver', '4'], ['light teal', '3'], ['muted gold', '3']], 'clear plum': [['light turquoise', '5']], 'posh orange': [['wavy tan', '5'], ['dark turquoise', '4']], 'dotted tan': [['plaid teal', '2']], 'posh violet': [['vibrant tomato', '2'], ['bright orange', '4'], ['dotted red', '3'], ['pale silver', '5']], 'dotted lime': [['wavy tan', '5'], ['dark tomato', '2'], ['mirrored gray', '5'], ['light aqua', '2']], 'mirrored white': [['clear gold', '4'], ['dark teal', '1']], 'pale indigo': [['shiny magenta', '4'], ['shiny maroon', '1']], 'drab beige': [['muted plum', '1'], ['posh turquoise', '5'], ['vibrant fuchsia', '2']], 'faded black': [['wavy black', '5']], 'plaid beige': [['posh purple', '2'], ['pale olive', '4'], ['striped green', '3'], ['bright orange', '5']], 'faded white': [['clear red', '4'], ['faded fuchsia', '4'], ['dull beige', '1']], 'shiny violet': [['shiny green', '3'], ['wavy brown', '5']], 'wavy blue': [['light teal', '2'], ['dull silver', '4'], ['bright black', '2'], ['dull tan', '4']], 'wavy red': [['dark silver', '4'], ['dotted chartreuse', '5'], ['clear salmon', '2'], ['striped tan', '2']], 'shiny lavender': [['muted bronze', '2']], 'faded coral': [['dotted chartreuse', '5'], ['vibrant silver', '2'], ['wavy black', '2']], 'clear coral': [['muted fuchsia', '4']], 'mirrored coral': [['vibrant lavender', '1']], 'dim black': [['bright olive', '2'], ['dull teal', '1'], ['shiny purple', '4']], 'pale blue': [['light black', '1'], ['light white', '2'], ['dull maroon', '1'], ['plaid teal', '5']], 'plaid plum': [['muted coral', '3'], ['dim brown', '1'], ['plaid aqua', '2'], ['vibrant blue', '1']], 'muted black': [['light blue', '5'], ['clear salmon', '3']], 'dotted white': [['shiny salmon', '3'], ['faded maroon', '1']], 'drab coral': [['striped gold', '3'], ['shiny aqua', '4'], ['wavy red', '5']], 'dotted salmon': [['drab black', '4'], ['light aqua', '2']], 'mirrored indigo': [['wavy orange', '3'], ['posh plum', '5']], 'vibrant violet': [['striped lavender', '1'], ['muted purple', '1'], ['drab silver', '2'], ['pale olive', '5']], 'plaid teal': [['shiny teal', '4'], ['wavy turquoise', '2'], ['vibrant aqua', '2']], 'dull violet': [['light coral', '5'], ['vibrant tan', '1']], 'faded crimson': [['dark chartreuse', '3'], ['vibrant cyan', '2'], ['mirrored cyan', '3']], 'posh bronze': [['plaid lavender', '4'], ['shiny gold', '3'], ['mirrored coral', '5'], ['shiny indigo', '2']], 'clear olive': [['muted gray', '2'], ['dark red', '2'], ['clear brown', '5'], ['bright silver', '5']]}\n",
      "[['shiny gold', 1], ['drab gray', 4]]\n",
      "[['shiny gold', 1], ['drab gray', 4], ['light coral', 4]]\n",
      "[['shiny gold', 1], ['drab gray', 4], ['light coral', 4], ['clear violet', 16]]\n",
      "[['shiny gold', 1], ['drab gray', 4], ['light coral', 4], ['clear violet', 16], ['mirrored red', 12]]\n",
      "[['shiny gold', 1], ['drab gray', 4], ['light coral', 4], ['clear violet', 16], ['mirrored red', 12], ['light silver', 4]]\n",
      "[['shiny gold', 1], ['drab gray', 4], ['light coral', 4], ['clear violet', 16], ['mirrored red', 12], ['light silver', 4], ['wavy turquoise', 4]]\n",
      "[['shiny gold', 1], ['drab gray', 4], ['light coral', 4], ['clear violet', 16], ['mirrored red', 12], ['light silver', 4], ['wavy turquoise', 4], ['pale bronze', 8]]\n",
      "[['shiny gold', 1], ['drab gray', 4], ['light coral', 4], ['clear violet', 16], ['mirrored red', 12], ['light silver', 4], ['wavy turquoise', 4], ['pale bronze', 8], ['clear aqua', 4]]\n",
      "[['shiny gold', 1], ['drab gray', 4], ['light coral', 4], ['clear violet', 16], ['mirrored red', 12], ['light silver', 4], ['wavy turquoise', 4], ['pale bronze', 8], ['clear aqua', 4], ['wavy turquoise', 80]]\n",
      "[['shiny gold', 1], ['drab gray', 4], ['light coral', 4], ['clear violet', 16], ['mirrored red', 12], ['light silver', 4], ['wavy turquoise', 4], ['pale bronze', 8], ['clear aqua', 4], ['wavy turquoise', 80], ['light black', 80]]\n",
      "[['shiny gold', 1], ['drab gray', 4], ['light coral', 4], ['clear violet', 16], ['mirrored red', 12], ['light silver', 4], ['wavy turquoise', 4], ['pale bronze', 8], ['clear aqua', 4], ['wavy turquoise', 80], ['light black', 80], ['mirrored indigo', 16]]\n",
      "[['shiny gold', 1], ['drab gray', 4], ['light coral', 4], ['clear violet', 16], ['mirrored red', 12], ['light silver', 4], ['wavy turquoise', 4], ['pale bronze', 8], ['clear aqua', 4], ['wavy turquoise', 80], ['light black', 80], ['mirrored indigo', 16], ['faded white', 32]]\n",
      "[['shiny gold', 1], ['drab gray', 4], ['light coral', 4], ['clear violet', 16], ['mirrored red', 12], ['light silver', 4], ['wavy turquoise', 4], ['pale bronze', 8], ['clear aqua', 4], ['wavy turquoise', 80], ['light black', 80], ['mirrored indigo', 16], ['faded white', 32], ['muted beige', 60]]\n",
      "[['shiny gold', 1], ['drab gray', 4], ['light coral', 4], ['clear violet', 16], ['mirrored red', 12], ['light silver', 4], ['wavy turquoise', 4], ['pale bronze', 8], ['clear aqua', 4], ['wavy turquoise', 80], ['light black', 80], ['mirrored indigo', 16], ['faded white', 32], ['muted beige', 60], ['faded white', 24]]\n",
      "[['shiny gold', 1], ['drab gray', 4], ['light coral', 4], ['clear violet', 16], ['mirrored red', 12], ['light silver', 4], ['wavy turquoise', 4], ['pale bronze', 8], ['clear aqua', 4], ['wavy turquoise', 80], ['light black', 80], ['mirrored indigo', 16], ['faded white', 32], ['muted beige', 60], ['faded white', 24], ['light green', 4]]\n",
      "[['shiny gold', 1], ['drab gray', 4], ['light coral', 4], ['clear violet', 16], ['mirrored red', 12], ['light silver', 4], ['wavy turquoise', 4], ['pale bronze', 8], ['clear aqua', 4], ['wavy turquoise', 80], ['light black', 80], ['mirrored indigo', 16], ['faded white', 32], ['muted beige', 60], ['faded white', 24], ['light green', 4], ['pale bronze', 8]]\n",
      "[['shiny gold', 1], ['drab gray', 4], ['light coral', 4], ['clear violet', 16], ['mirrored red', 12], ['light silver', 4], ['wavy turquoise', 4], ['pale bronze', 8], ['clear aqua', 4], ['wavy turquoise', 80], ['light black', 80], ['mirrored indigo', 16], ['faded white', 32], ['muted beige', 60], ['faded white', 24], ['light green', 4], ['pale bronze', 8], ['bright crimson', 4]]\n",
      "[['shiny gold', 1], ['drab gray', 4], ['light coral', 4], ['clear violet', 16], ['mirrored red', 12], ['light silver', 4], ['wavy turquoise', 4], ['pale bronze', 8], ['clear aqua', 4], ['wavy turquoise', 80], ['light black', 80], ['mirrored indigo', 16], ['faded white', 32], ['muted beige', 60], ['faded white', 24], ['light green', 4], ['pale bronze', 8], ['bright crimson', 4], ['vibrant aqua', 4]]\n",
      "[['shiny gold', 1], ['drab gray', 4], ['light coral', 4], ['clear violet', 16], ['mirrored red', 12], ['light silver', 4], ['wavy turquoise', 4], ['pale bronze', 8], ['clear aqua', 4], ['wavy turquoise', 80], ['light black', 80], ['mirrored indigo', 16], ['faded white', 32], ['muted beige', 60], ['faded white', 24], ['light green', 4], ['pale bronze', 8], ['bright crimson', 4], ['vibrant aqua', 4], ['light lavender', 40]]\n",
      "[['shiny gold', 1], ['drab gray', 4], ['light coral', 4], ['clear violet', 16], ['mirrored red', 12], ['light silver', 4], ['wavy turquoise', 4], ['pale bronze', 8], ['clear aqua', 4], ['wavy turquoise', 80], ['light black', 80], ['mirrored indigo', 16], ['faded white', 32], ['muted beige', 60], ['faded white', 24], ['light green', 4], ['pale bronze', 8], ['bright crimson', 4], ['vibrant aqua', 4], ['light lavender', 40], ['dull beige', 32]]\n",
      "[['shiny gold', 1], ['drab gray', 4], ['light coral', 4], ['clear violet', 16], ['mirrored red', 12], ['light silver', 4], ['wavy turquoise', 4], ['pale bronze', 8], ['clear aqua', 4], ['wavy turquoise', 80], ['light black', 80], ['mirrored indigo', 16], ['faded white', 32], ['muted beige', 60], ['faded white', 24], ['light green', 4], ['pale bronze', 8], ['bright crimson', 4], ['vibrant aqua', 4], ['light lavender', 40], ['dull beige', 32], ['bright crimson', 24]]\n",
      "[['shiny gold', 1], ['drab gray', 4], ['light coral', 4], ['clear violet', 16], ['mirrored red', 12], ['light silver', 4], ['wavy turquoise', 4], ['pale bronze', 8], ['clear aqua', 4], ['wavy turquoise', 80], ['light black', 80], ['mirrored indigo', 16], ['faded white', 32], ['muted beige', 60], ['faded white', 24], ['light green', 4], ['pale bronze', 8], ['bright crimson', 4], ['vibrant aqua', 4], ['light lavender', 40], ['dull beige', 32], ['bright crimson', 24], ['light lavender', 160]]\n",
      "[['shiny gold', 1], ['drab gray', 4], ['light coral', 4], ['clear violet', 16], ['mirrored red', 12], ['light silver', 4], ['wavy turquoise', 4], ['pale bronze', 8], ['clear aqua', 4], ['wavy turquoise', 80], ['light black', 80], ['mirrored indigo', 16], ['faded white', 32], ['muted beige', 60], ['faded white', 24], ['light green', 4], ['pale bronze', 8], ['bright crimson', 4], ['vibrant aqua', 4], ['light lavender', 40], ['dull beige', 32], ['bright crimson', 24], ['light lavender', 160], ['dotted bronze', 160]]\n",
      "[['shiny gold', 1], ['drab gray', 4], ['light coral', 4], ['clear violet', 16], ['mirrored red', 12], ['light silver', 4], ['wavy turquoise', 4], ['pale bronze', 8], ['clear aqua', 4], ['wavy turquoise', 80], ['light black', 80], ['mirrored indigo', 16], ['faded white', 32], ['muted beige', 60], ['faded white', 24], ['light green', 4], ['pale bronze', 8], ['bright crimson', 4], ['vibrant aqua', 4], ['light lavender', 40], ['dull beige', 32], ['bright crimson', 24], ['light lavender', 160], ['dotted bronze', 160], ['wavy orange', 48]]\n",
      "[['shiny gold', 1], ['drab gray', 4], ['light coral', 4], ['clear violet', 16], ['mirrored red', 12], ['light silver', 4], ['wavy turquoise', 4], ['pale bronze', 8], ['clear aqua', 4], ['wavy turquoise', 80], ['light black', 80], ['mirrored indigo', 16], ['faded white', 32], ['muted beige', 60], ['faded white', 24], ['light green', 4], ['pale bronze', 8], ['bright crimson', 4], ['vibrant aqua', 4], ['light lavender', 40], ['dull beige', 32], ['bright crimson', 24], ['light lavender', 160], ['dotted bronze', 160], ['wavy orange', 48], ['posh plum', 80]]\n",
      "[['shiny gold', 1], ['drab gray', 4], ['light coral', 4], ['clear violet', 16], ['mirrored red', 12], ['light silver', 4], ['wavy turquoise', 4], ['pale bronze', 8], ['clear aqua', 4], ['wavy turquoise', 80], ['light black', 80], ['mirrored indigo', 16], ['faded white', 32], ['muted beige', 60], ['faded white', 24], ['light green', 4], ['pale bronze', 8], ['bright crimson', 4], ['vibrant aqua', 4], ['light lavender', 40], ['dull beige', 32], ['bright crimson', 24], ['light lavender', 160], ['dotted bronze', 160], ['wavy orange', 48], ['posh plum', 80], ['clear red', 128]]\n",
      "[['shiny gold', 1], ['drab gray', 4], ['light coral', 4], ['clear violet', 16], ['mirrored red', 12], ['light silver', 4], ['wavy turquoise', 4], ['pale bronze', 8], ['clear aqua', 4], ['wavy turquoise', 80], ['light black', 80], ['mirrored indigo', 16], ['faded white', 32], ['muted beige', 60], ['faded white', 24], ['light green', 4], ['pale bronze', 8], ['bright crimson', 4], ['vibrant aqua', 4], ['light lavender', 40], ['dull beige', 32], ['bright crimson', 24], ['light lavender', 160], ['dotted bronze', 160], ['wavy orange', 48], ['posh plum', 80], ['clear red', 128], ['faded fuchsia', 128]]\n",
      "[['shiny gold', 1], ['drab gray', 4], ['light coral', 4], ['clear violet', 16], ['mirrored red', 12], ['light silver', 4], ['wavy turquoise', 4], ['pale bronze', 8], ['clear aqua', 4], ['wavy turquoise', 80], ['light black', 80], ['mirrored indigo', 16], ['faded white', 32], ['muted beige', 60], ['faded white', 24], ['light green', 4], ['pale bronze', 8], ['bright crimson', 4], ['vibrant aqua', 4], ['light lavender', 40], ['dull beige', 32], ['bright crimson', 24], ['light lavender', 160], ['dotted bronze', 160], ['wavy orange', 48], ['posh plum', 80], ['clear red', 128], ['faded fuchsia', 128], ['dull beige', 32]]\n",
      "[['shiny gold', 1], ['drab gray', 4], ['light coral', 4], ['clear violet', 16], ['mirrored red', 12], ['light silver', 4], ['wavy turquoise', 4], ['pale bronze', 8], ['clear aqua', 4], ['wavy turquoise', 80], ['light black', 80], ['mirrored indigo', 16], ['faded white', 32], ['muted beige', 60], ['faded white', 24], ['light green', 4], ['pale bronze', 8], ['bright crimson', 4], ['vibrant aqua', 4], ['light lavender', 40], ['dull beige', 32], ['bright crimson', 24], ['light lavender', 160], ['dotted bronze', 160], ['wavy orange', 48], ['posh plum', 80], ['clear red', 128], ['faded fuchsia', 128], ['dull beige', 32], ['clear red', 96]]\n",
      "[['shiny gold', 1], ['drab gray', 4], ['light coral', 4], ['clear violet', 16], ['mirrored red', 12], ['light silver', 4], ['wavy turquoise', 4], ['pale bronze', 8], ['clear aqua', 4], ['wavy turquoise', 80], ['light black', 80], ['mirrored indigo', 16], ['faded white', 32], ['muted beige', 60], ['faded white', 24], ['light green', 4], ['pale bronze', 8], ['bright crimson', 4], ['vibrant aqua', 4], ['light lavender', 40], ['dull beige', 32], ['bright crimson', 24], ['light lavender', 160], ['dotted bronze', 160], ['wavy orange', 48], ['posh plum', 80], ['clear red', 128], ['faded fuchsia', 128], ['dull beige', 32], ['clear red', 96], ['faded fuchsia', 96]]\n",
      "[['shiny gold', 1], ['drab gray', 4], ['light coral', 4], ['clear violet', 16], ['mirrored red', 12], ['light silver', 4], ['wavy turquoise', 4], ['pale bronze', 8], ['clear aqua', 4], ['wavy turquoise', 80], ['light black', 80], ['mirrored indigo', 16], ['faded white', 32], ['muted beige', 60], ['faded white', 24], ['light green', 4], ['pale bronze', 8], ['bright crimson', 4], ['vibrant aqua', 4], ['light lavender', 40], ['dull beige', 32], ['bright crimson', 24], ['light lavender', 160], ['dotted bronze', 160], ['wavy orange', 48], ['posh plum', 80], ['clear red', 128], ['faded fuchsia', 128], ['dull beige', 32], ['clear red', 96], ['faded fuchsia', 96], ['dull beige', 24]]\n",
      "[['shiny gold', 1], ['drab gray', 4], ['light coral', 4], ['clear violet', 16], ['mirrored red', 12], ['light silver', 4], ['wavy turquoise', 4], ['pale bronze', 8], ['clear aqua', 4], ['wavy turquoise', 80], ['light black', 80], ['mirrored indigo', 16], ['faded white', 32], ['muted beige', 60], ['faded white', 24], ['light green', 4], ['pale bronze', 8], ['bright crimson', 4], ['vibrant aqua', 4], ['light lavender', 40], ['dull beige', 32], ['bright crimson', 24], ['light lavender', 160], ['dotted bronze', 160], ['wavy orange', 48], ['posh plum', 80], ['clear red', 128], ['faded fuchsia', 128], ['dull beige', 32], ['clear red', 96], ['faded fuchsia', 96], ['dull beige', 24], ['plaid teal', 8]]\n",
      "[['shiny gold', 1], ['drab gray', 4], ['light coral', 4], ['clear violet', 16], ['mirrored red', 12], ['light silver', 4], ['wavy turquoise', 4], ['pale bronze', 8], ['clear aqua', 4], ['wavy turquoise', 80], ['light black', 80], ['mirrored indigo', 16], ['faded white', 32], ['muted beige', 60], ['faded white', 24], ['light green', 4], ['pale bronze', 8], ['bright crimson', 4], ['vibrant aqua', 4], ['light lavender', 40], ['dull beige', 32], ['bright crimson', 24], ['light lavender', 160], ['dotted bronze', 160], ['wavy orange', 48], ['posh plum', 80], ['clear red', 128], ['faded fuchsia', 128], ['dull beige', 32], ['clear red', 96], ['faded fuchsia', 96], ['dull beige', 24], ['plaid teal', 8], ['pale bronze', 20]]\n",
      "[['shiny gold', 1], ['drab gray', 4], ['light coral', 4], ['clear violet', 16], ['mirrored red', 12], ['light silver', 4], ['wavy turquoise', 4], ['pale bronze', 8], ['clear aqua', 4], ['wavy turquoise', 80], ['light black', 80], ['mirrored indigo', 16], ['faded white', 32], ['muted beige', 60], ['faded white', 24], ['light green', 4], ['pale bronze', 8], ['bright crimson', 4], ['vibrant aqua', 4], ['light lavender', 40], ['dull beige', 32], ['bright crimson', 24], ['light lavender', 160], ['dotted bronze', 160], ['wavy orange', 48], ['posh plum', 80], ['clear red', 128], ['faded fuchsia', 128], ['dull beige', 32], ['clear red', 96], ['faded fuchsia', 96], ['dull beige', 24], ['plaid teal', 8], ['pale bronze', 20], ['dull teal', 12]]\n",
      "[['shiny gold', 1], ['drab gray', 4], ['light coral', 4], ['clear violet', 16], ['mirrored red', 12], ['light silver', 4], ['wavy turquoise', 4], ['pale bronze', 8], ['clear aqua', 4], ['wavy turquoise', 80], ['light black', 80], ['mirrored indigo', 16], ['faded white', 32], ['muted beige', 60], ['faded white', 24], ['light green', 4], ['pale bronze', 8], ['bright crimson', 4], ['vibrant aqua', 4], ['light lavender', 40], ['dull beige', 32], ['bright crimson', 24], ['light lavender', 160], ['dotted bronze', 160], ['wavy orange', 48], ['posh plum', 80], ['clear red', 128], ['faded fuchsia', 128], ['dull beige', 32], ['clear red', 96], ['faded fuchsia', 96], ['dull beige', 24], ['plaid teal', 8], ['pale bronze', 20], ['dull teal', 12], ['light lavender', 40]]\n",
      "[['shiny gold', 1], ['drab gray', 4], ['light coral', 4], ['clear violet', 16], ['mirrored red', 12], ['light silver', 4], ['wavy turquoise', 4], ['pale bronze', 8], ['clear aqua', 4], ['wavy turquoise', 80], ['light black', 80], ['mirrored indigo', 16], ['faded white', 32], ['muted beige', 60], ['faded white', 24], ['light green', 4], ['pale bronze', 8], ['bright crimson', 4], ['vibrant aqua', 4], ['light lavender', 40], ['dull beige', 32], ['bright crimson', 24], ['light lavender', 160], ['dotted bronze', 160], ['wavy orange', 48], ['posh plum', 80], ['clear red', 128], ['faded fuchsia', 128], ['dull beige', 32], ['clear red', 96], ['faded fuchsia', 96], ['dull beige', 24], ['plaid teal', 8], ['pale bronze', 20], ['dull teal', 12], ['light lavender', 40], ['dull beige', 32]]\n",
      "[['shiny gold', 1], ['drab gray', 4], ['light coral', 4], ['clear violet', 16], ['mirrored red', 12], ['light silver', 4], ['wavy turquoise', 4], ['pale bronze', 8], ['clear aqua', 4], ['wavy turquoise', 80], ['light black', 80], ['mirrored indigo', 16], ['faded white', 32], ['muted beige', 60], ['faded white', 24], ['light green', 4], ['pale bronze', 8], ['bright crimson', 4], ['vibrant aqua', 4], ['light lavender', 40], ['dull beige', 32], ['bright crimson', 24], ['light lavender', 160], ['dotted bronze', 160], ['wavy orange', 48], ['posh plum', 80], ['clear red', 128], ['faded fuchsia', 128], ['dull beige', 32], ['clear red', 96], ['faded fuchsia', 96], ['dull beige', 24], ['plaid teal', 8], ['pale bronze', 20], ['dull teal', 12], ['light lavender', 40], ['dull beige', 32], ['bright crimson', 24]]\n",
      "[['shiny gold', 1], ['drab gray', 4], ['light coral', 4], ['clear violet', 16], ['mirrored red', 12], ['light silver', 4], ['wavy turquoise', 4], ['pale bronze', 8], ['clear aqua', 4], ['wavy turquoise', 80], ['light black', 80], ['mirrored indigo', 16], ['faded white', 32], ['muted beige', 60], ['faded white', 24], ['light green', 4], ['pale bronze', 8], ['bright crimson', 4], ['vibrant aqua', 4], ['light lavender', 40], ['dull beige', 32], ['bright crimson', 24], ['light lavender', 160], ['dotted bronze', 160], ['wavy orange', 48], ['posh plum', 80], ['clear red', 128], ['faded fuchsia', 128], ['dull beige', 32], ['clear red', 96], ['faded fuchsia', 96], ['dull beige', 24], ['plaid teal', 8], ['pale bronze', 20], ['dull teal', 12], ['light lavender', 40], ['dull beige', 32], ['bright crimson', 24], ['wavy tan', 8]]\n",
      "[['shiny gold', 1], ['drab gray', 4], ['light coral', 4], ['clear violet', 16], ['mirrored red', 12], ['light silver', 4], ['wavy turquoise', 4], ['pale bronze', 8], ['clear aqua', 4], ['wavy turquoise', 80], ['light black', 80], ['mirrored indigo', 16], ['faded white', 32], ['muted beige', 60], ['faded white', 24], ['light green', 4], ['pale bronze', 8], ['bright crimson', 4], ['vibrant aqua', 4], ['light lavender', 40], ['dull beige', 32], ['bright crimson', 24], ['light lavender', 160], ['dotted bronze', 160], ['wavy orange', 48], ['posh plum', 80], ['clear red', 128], ['faded fuchsia', 128], ['dull beige', 32], ['clear red', 96], ['faded fuchsia', 96], ['dull beige', 24], ['plaid teal', 8], ['pale bronze', 20], ['dull teal', 12], ['light lavender', 40], ['dull beige', 32], ['bright crimson', 24], ['wavy tan', 8], ['shiny teal', 16]]\n",
      "[['shiny gold', 1], ['drab gray', 4], ['light coral', 4], ['clear violet', 16], ['mirrored red', 12], ['light silver', 4], ['wavy turquoise', 4], ['pale bronze', 8], ['clear aqua', 4], ['wavy turquoise', 80], ['light black', 80], ['mirrored indigo', 16], ['faded white', 32], ['muted beige', 60], ['faded white', 24], ['light green', 4], ['pale bronze', 8], ['bright crimson', 4], ['vibrant aqua', 4], ['light lavender', 40], ['dull beige', 32], ['bright crimson', 24], ['light lavender', 160], ['dotted bronze', 160], ['wavy orange', 48], ['posh plum', 80], ['clear red', 128], ['faded fuchsia', 128], ['dull beige', 32], ['clear red', 96], ['faded fuchsia', 96], ['dull beige', 24], ['plaid teal', 8], ['pale bronze', 20], ['dull teal', 12], ['light lavender', 40], ['dull beige', 32], ['bright crimson', 24], ['wavy tan', 8], ['shiny teal', 16], ['wavy turquoise', 12]]\n",
      "[['shiny gold', 1], ['drab gray', 4], ['light coral', 4], ['clear violet', 16], ['mirrored red', 12], ['light silver', 4], ['wavy turquoise', 4], ['pale bronze', 8], ['clear aqua', 4], ['wavy turquoise', 80], ['light black', 80], ['mirrored indigo', 16], ['faded white', 32], ['muted beige', 60], ['faded white', 24], ['light green', 4], ['pale bronze', 8], ['bright crimson', 4], ['vibrant aqua', 4], ['light lavender', 40], ['dull beige', 32], ['bright crimson', 24], ['light lavender', 160], ['dotted bronze', 160], ['wavy orange', 48], ['posh plum', 80], ['clear red', 128], ['faded fuchsia', 128], ['dull beige', 32], ['clear red', 96], ['faded fuchsia', 96], ['dull beige', 24], ['plaid teal', 8], ['pale bronze', 20], ['dull teal', 12], ['light lavender', 40], ['dull beige', 32], ['bright crimson', 24], ['wavy tan', 8], ['shiny teal', 16], ['wavy turquoise', 12], ['dull beige', 16]]\n",
      "[['shiny gold', 1], ['drab gray', 4], ['light coral', 4], ['clear violet', 16], ['mirrored red', 12], ['light silver', 4], ['wavy turquoise', 4], ['pale bronze', 8], ['clear aqua', 4], ['wavy turquoise', 80], ['light black', 80], ['mirrored indigo', 16], ['faded white', 32], ['muted beige', 60], ['faded white', 24], ['light green', 4], ['pale bronze', 8], ['bright crimson', 4], ['vibrant aqua', 4], ['light lavender', 40], ['dull beige', 32], ['bright crimson', 24], ['light lavender', 160], ['dotted bronze', 160], ['wavy orange', 48], ['posh plum', 80], ['clear red', 128], ['faded fuchsia', 128], ['dull beige', 32], ['clear red', 96], ['faded fuchsia', 96], ['dull beige', 24], ['plaid teal', 8], ['pale bronze', 20], ['dull teal', 12], ['light lavender', 40], ['dull beige', 32], ['bright crimson', 24], ['wavy tan', 8], ['shiny teal', 16], ['wavy turquoise', 12], ['dull beige', 16], ['wavy tan', 48]]\n",
      "[['shiny gold', 1], ['drab gray', 4], ['light coral', 4], ['clear violet', 16], ['mirrored red', 12], ['light silver', 4], ['wavy turquoise', 4], ['pale bronze', 8], ['clear aqua', 4], ['wavy turquoise', 80], ['light black', 80], ['mirrored indigo', 16], ['faded white', 32], ['muted beige', 60], ['faded white', 24], ['light green', 4], ['pale bronze', 8], ['bright crimson', 4], ['vibrant aqua', 4], ['light lavender', 40], ['dull beige', 32], ['bright crimson', 24], ['light lavender', 160], ['dotted bronze', 160], ['wavy orange', 48], ['posh plum', 80], ['clear red', 128], ['faded fuchsia', 128], ['dull beige', 32], ['clear red', 96], ['faded fuchsia', 96], ['dull beige', 24], ['plaid teal', 8], ['pale bronze', 20], ['dull teal', 12], ['light lavender', 40], ['dull beige', 32], ['bright crimson', 24], ['wavy tan', 8], ['shiny teal', 16], ['wavy turquoise', 12], ['dull beige', 16], ['wavy tan', 48], ['shiny teal', 96]]\n",
      "[['shiny gold', 1], ['drab gray', 4], ['light coral', 4], ['clear violet', 16], ['mirrored red', 12], ['light silver', 4], ['wavy turquoise', 4], ['pale bronze', 8], ['clear aqua', 4], ['wavy turquoise', 80], ['light black', 80], ['mirrored indigo', 16], ['faded white', 32], ['muted beige', 60], ['faded white', 24], ['light green', 4], ['pale bronze', 8], ['bright crimson', 4], ['vibrant aqua', 4], ['light lavender', 40], ['dull beige', 32], ['bright crimson', 24], ['light lavender', 160], ['dotted bronze', 160], ['wavy orange', 48], ['posh plum', 80], ['clear red', 128], ['faded fuchsia', 128], ['dull beige', 32], ['clear red', 96], ['faded fuchsia', 96], ['dull beige', 24], ['plaid teal', 8], ['pale bronze', 20], ['dull teal', 12], ['light lavender', 40], ['dull beige', 32], ['bright crimson', 24], ['wavy tan', 8], ['shiny teal', 16], ['wavy turquoise', 12], ['dull beige', 16], ['wavy tan', 48], ['shiny teal', 96], ['clear red', 480]]\n",
      "[['shiny gold', 1], ['drab gray', 4], ['light coral', 4], ['clear violet', 16], ['mirrored red', 12], ['light silver', 4], ['wavy turquoise', 4], ['pale bronze', 8], ['clear aqua', 4], ['wavy turquoise', 80], ['light black', 80], ['mirrored indigo', 16], ['faded white', 32], ['muted beige', 60], ['faded white', 24], ['light green', 4], ['pale bronze', 8], ['bright crimson', 4], ['vibrant aqua', 4], ['light lavender', 40], ['dull beige', 32], ['bright crimson', 24], ['light lavender', 160], ['dotted bronze', 160], ['wavy orange', 48], ['posh plum', 80], ['clear red', 128], ['faded fuchsia', 128], ['dull beige', 32], ['clear red', 96], ['faded fuchsia', 96], ['dull beige', 24], ['plaid teal', 8], ['pale bronze', 20], ['dull teal', 12], ['light lavender', 40], ['dull beige', 32], ['bright crimson', 24], ['wavy tan', 8], ['shiny teal', 16], ['wavy turquoise', 12], ['dull beige', 16], ['wavy tan', 48], ['shiny teal', 96], ['clear red', 480], ['posh plum', 640]]\n",
      "[['shiny gold', 1], ['drab gray', 4], ['light coral', 4], ['clear violet', 16], ['mirrored red', 12], ['light silver', 4], ['wavy turquoise', 4], ['pale bronze', 8], ['clear aqua', 4], ['wavy turquoise', 80], ['light black', 80], ['mirrored indigo', 16], ['faded white', 32], ['muted beige', 60], ['faded white', 24], ['light green', 4], ['pale bronze', 8], ['bright crimson', 4], ['vibrant aqua', 4], ['light lavender', 40], ['dull beige', 32], ['bright crimson', 24], ['light lavender', 160], ['dotted bronze', 160], ['wavy orange', 48], ['posh plum', 80], ['clear red', 128], ['faded fuchsia', 128], ['dull beige', 32], ['clear red', 96], ['faded fuchsia', 96], ['dull beige', 24], ['plaid teal', 8], ['pale bronze', 20], ['dull teal', 12], ['light lavender', 40], ['dull beige', 32], ['bright crimson', 24], ['wavy tan', 8], ['shiny teal', 16], ['wavy turquoise', 12], ['dull beige', 16], ['wavy tan', 48], ['shiny teal', 96], ['clear red', 480], ['posh plum', 640], ['light lavender', 640]]\n",
      "[['shiny gold', 1], ['drab gray', 4], ['light coral', 4], ['clear violet', 16], ['mirrored red', 12], ['light silver', 4], ['wavy turquoise', 4], ['pale bronze', 8], ['clear aqua', 4], ['wavy turquoise', 80], ['light black', 80], ['mirrored indigo', 16], ['faded white', 32], ['muted beige', 60], ['faded white', 24], ['light green', 4], ['pale bronze', 8], ['bright crimson', 4], ['vibrant aqua', 4], ['light lavender', 40], ['dull beige', 32], ['bright crimson', 24], ['light lavender', 160], ['dotted bronze', 160], ['wavy orange', 48], ['posh plum', 80], ['clear red', 128], ['faded fuchsia', 128], ['dull beige', 32], ['clear red', 96], ['faded fuchsia', 96], ['dull beige', 24], ['plaid teal', 8], ['pale bronze', 20], ['dull teal', 12], ['light lavender', 40], ['dull beige', 32], ['bright crimson', 24], ['wavy tan', 8], ['shiny teal', 16], ['wavy turquoise', 12], ['dull beige', 16], ['wavy tan', 48], ['shiny teal', 96], ['clear red', 480], ['posh plum', 640], ['light lavender', 640], ['faded fuchsia', 640]]\n",
      "[['shiny gold', 1], ['drab gray', 4], ['light coral', 4], ['clear violet', 16], ['mirrored red', 12], ['light silver', 4], ['wavy turquoise', 4], ['pale bronze', 8], ['clear aqua', 4], ['wavy turquoise', 80], ['light black', 80], ['mirrored indigo', 16], ['faded white', 32], ['muted beige', 60], ['faded white', 24], ['light green', 4], ['pale bronze', 8], ['bright crimson', 4], ['vibrant aqua', 4], ['light lavender', 40], ['dull beige', 32], ['bright crimson', 24], ['light lavender', 160], ['dotted bronze', 160], ['wavy orange', 48], ['posh plum', 80], ['clear red', 128], ['faded fuchsia', 128], ['dull beige', 32], ['clear red', 96], ['faded fuchsia', 96], ['dull beige', 24], ['plaid teal', 8], ['pale bronze', 20], ['dull teal', 12], ['light lavender', 40], ['dull beige', 32], ['bright crimson', 24], ['wavy tan', 8], ['shiny teal', 16], ['wavy turquoise', 12], ['dull beige', 16], ['wavy tan', 48], ['shiny teal', 96], ['clear red', 480], ['posh plum', 640], ['light lavender', 640], ['faded fuchsia', 640], ['plaid teal', 240]]\n",
      "[['shiny gold', 1], ['drab gray', 4], ['light coral', 4], ['clear violet', 16], ['mirrored red', 12], ['light silver', 4], ['wavy turquoise', 4], ['pale bronze', 8], ['clear aqua', 4], ['wavy turquoise', 80], ['light black', 80], ['mirrored indigo', 16], ['faded white', 32], ['muted beige', 60], ['faded white', 24], ['light green', 4], ['pale bronze', 8], ['bright crimson', 4], ['vibrant aqua', 4], ['light lavender', 40], ['dull beige', 32], ['bright crimson', 24], ['light lavender', 160], ['dotted bronze', 160], ['wavy orange', 48], ['posh plum', 80], ['clear red', 128], ['faded fuchsia', 128], ['dull beige', 32], ['clear red', 96], ['faded fuchsia', 96], ['dull beige', 24], ['plaid teal', 8], ['pale bronze', 20], ['dull teal', 12], ['light lavender', 40], ['dull beige', 32], ['bright crimson', 24], ['wavy tan', 8], ['shiny teal', 16], ['wavy turquoise', 12], ['dull beige', 16], ['wavy tan', 48], ['shiny teal', 96], ['clear red', 480], ['posh plum', 640], ['light lavender', 640], ['faded fuchsia', 640], ['plaid teal', 240], ['pale bronze', 48]]\n",
      "[['shiny gold', 1], ['drab gray', 4], ['light coral', 4], ['clear violet', 16], ['mirrored red', 12], ['light silver', 4], ['wavy turquoise', 4], ['pale bronze', 8], ['clear aqua', 4], ['wavy turquoise', 80], ['light black', 80], ['mirrored indigo', 16], ['faded white', 32], ['muted beige', 60], ['faded white', 24], ['light green', 4], ['pale bronze', 8], ['bright crimson', 4], ['vibrant aqua', 4], ['light lavender', 40], ['dull beige', 32], ['bright crimson', 24], ['light lavender', 160], ['dotted bronze', 160], ['wavy orange', 48], ['posh plum', 80], ['clear red', 128], ['faded fuchsia', 128], ['dull beige', 32], ['clear red', 96], ['faded fuchsia', 96], ['dull beige', 24], ['plaid teal', 8], ['pale bronze', 20], ['dull teal', 12], ['light lavender', 40], ['dull beige', 32], ['bright crimson', 24], ['wavy tan', 8], ['shiny teal', 16], ['wavy turquoise', 12], ['dull beige', 16], ['wavy tan', 48], ['shiny teal', 96], ['clear red', 480], ['posh plum', 640], ['light lavender', 640], ['faded fuchsia', 640], ['plaid teal', 240], ['pale bronze', 48], ['wavy tan', 192]]\n",
      "[['shiny gold', 1], ['drab gray', 4], ['light coral', 4], ['clear violet', 16], ['mirrored red', 12], ['light silver', 4], ['wavy turquoise', 4], ['pale bronze', 8], ['clear aqua', 4], ['wavy turquoise', 80], ['light black', 80], ['mirrored indigo', 16], ['faded white', 32], ['muted beige', 60], ['faded white', 24], ['light green', 4], ['pale bronze', 8], ['bright crimson', 4], ['vibrant aqua', 4], ['light lavender', 40], ['dull beige', 32], ['bright crimson', 24], ['light lavender', 160], ['dotted bronze', 160], ['wavy orange', 48], ['posh plum', 80], ['clear red', 128], ['faded fuchsia', 128], ['dull beige', 32], ['clear red', 96], ['faded fuchsia', 96], ['dull beige', 24], ['plaid teal', 8], ['pale bronze', 20], ['dull teal', 12], ['light lavender', 40], ['dull beige', 32], ['bright crimson', 24], ['wavy tan', 8], ['shiny teal', 16], ['wavy turquoise', 12], ['dull beige', 16], ['wavy tan', 48], ['shiny teal', 96], ['clear red', 480], ['posh plum', 640], ['light lavender', 640], ['faded fuchsia', 640], ['plaid teal', 240], ['pale bronze', 48], ['wavy tan', 192], ['clear red', 48]]\n",
      "[['shiny gold', 1], ['drab gray', 4], ['light coral', 4], ['clear violet', 16], ['mirrored red', 12], ['light silver', 4], ['wavy turquoise', 4], ['pale bronze', 8], ['clear aqua', 4], ['wavy turquoise', 80], ['light black', 80], ['mirrored indigo', 16], ['faded white', 32], ['muted beige', 60], ['faded white', 24], ['light green', 4], ['pale bronze', 8], ['bright crimson', 4], ['vibrant aqua', 4], ['light lavender', 40], ['dull beige', 32], ['bright crimson', 24], ['light lavender', 160], ['dotted bronze', 160], ['wavy orange', 48], ['posh plum', 80], ['clear red', 128], ['faded fuchsia', 128], ['dull beige', 32], ['clear red', 96], ['faded fuchsia', 96], ['dull beige', 24], ['plaid teal', 8], ['pale bronze', 20], ['dull teal', 12], ['light lavender', 40], ['dull beige', 32], ['bright crimson', 24], ['wavy tan', 8], ['shiny teal', 16], ['wavy turquoise', 12], ['dull beige', 16], ['wavy tan', 48], ['shiny teal', 96], ['clear red', 480], ['posh plum', 640], ['light lavender', 640], ['faded fuchsia', 640], ['plaid teal', 240], ['pale bronze', 48], ['wavy tan', 192], ['clear red', 48], ['shiny teal', 32]]\n",
      "[['shiny gold', 1], ['drab gray', 4], ['light coral', 4], ['clear violet', 16], ['mirrored red', 12], ['light silver', 4], ['wavy turquoise', 4], ['pale bronze', 8], ['clear aqua', 4], ['wavy turquoise', 80], ['light black', 80], ['mirrored indigo', 16], ['faded white', 32], ['muted beige', 60], ['faded white', 24], ['light green', 4], ['pale bronze', 8], ['bright crimson', 4], ['vibrant aqua', 4], ['light lavender', 40], ['dull beige', 32], ['bright crimson', 24], ['light lavender', 160], ['dotted bronze', 160], ['wavy orange', 48], ['posh plum', 80], ['clear red', 128], ['faded fuchsia', 128], ['dull beige', 32], ['clear red', 96], ['faded fuchsia', 96], ['dull beige', 24], ['plaid teal', 8], ['pale bronze', 20], ['dull teal', 12], ['light lavender', 40], ['dull beige', 32], ['bright crimson', 24], ['wavy tan', 8], ['shiny teal', 16], ['wavy turquoise', 12], ['dull beige', 16], ['wavy tan', 48], ['shiny teal', 96], ['clear red', 480], ['posh plum', 640], ['light lavender', 640], ['faded fuchsia', 640], ['plaid teal', 240], ['pale bronze', 48], ['wavy tan', 192], ['clear red', 48], ['shiny teal', 32], ['wavy turquoise', 16]]\n",
      "[['shiny gold', 1], ['drab gray', 4], ['light coral', 4], ['clear violet', 16], ['mirrored red', 12], ['light silver', 4], ['wavy turquoise', 4], ['pale bronze', 8], ['clear aqua', 4], ['wavy turquoise', 80], ['light black', 80], ['mirrored indigo', 16], ['faded white', 32], ['muted beige', 60], ['faded white', 24], ['light green', 4], ['pale bronze', 8], ['bright crimson', 4], ['vibrant aqua', 4], ['light lavender', 40], ['dull beige', 32], ['bright crimson', 24], ['light lavender', 160], ['dotted bronze', 160], ['wavy orange', 48], ['posh plum', 80], ['clear red', 128], ['faded fuchsia', 128], ['dull beige', 32], ['clear red', 96], ['faded fuchsia', 96], ['dull beige', 24], ['plaid teal', 8], ['pale bronze', 20], ['dull teal', 12], ['light lavender', 40], ['dull beige', 32], ['bright crimson', 24], ['wavy tan', 8], ['shiny teal', 16], ['wavy turquoise', 12], ['dull beige', 16], ['wavy tan', 48], ['shiny teal', 96], ['clear red', 480], ['posh plum', 640], ['light lavender', 640], ['faded fuchsia', 640], ['plaid teal', 240], ['pale bronze', 48], ['wavy tan', 192], ['clear red', 48], ['shiny teal', 32], ['wavy turquoise', 16], ['vibrant aqua', 16]]\n",
      "[['shiny gold', 1], ['drab gray', 4], ['light coral', 4], ['clear violet', 16], ['mirrored red', 12], ['light silver', 4], ['wavy turquoise', 4], ['pale bronze', 8], ['clear aqua', 4], ['wavy turquoise', 80], ['light black', 80], ['mirrored indigo', 16], ['faded white', 32], ['muted beige', 60], ['faded white', 24], ['light green', 4], ['pale bronze', 8], ['bright crimson', 4], ['vibrant aqua', 4], ['light lavender', 40], ['dull beige', 32], ['bright crimson', 24], ['light lavender', 160], ['dotted bronze', 160], ['wavy orange', 48], ['posh plum', 80], ['clear red', 128], ['faded fuchsia', 128], ['dull beige', 32], ['clear red', 96], ['faded fuchsia', 96], ['dull beige', 24], ['plaid teal', 8], ['pale bronze', 20], ['dull teal', 12], ['light lavender', 40], ['dull beige', 32], ['bright crimson', 24], ['wavy tan', 8], ['shiny teal', 16], ['wavy turquoise', 12], ['dull beige', 16], ['wavy tan', 48], ['shiny teal', 96], ['clear red', 480], ['posh plum', 640], ['light lavender', 640], ['faded fuchsia', 640], ['plaid teal', 240], ['pale bronze', 48], ['wavy tan', 192], ['clear red', 48], ['shiny teal', 32], ['wavy turquoise', 16], ['vibrant aqua', 16], ['light lavender', 100]]\n",
      "[['shiny gold', 1], ['drab gray', 4], ['light coral', 4], ['clear violet', 16], ['mirrored red', 12], ['light silver', 4], ['wavy turquoise', 4], ['pale bronze', 8], ['clear aqua', 4], ['wavy turquoise', 80], ['light black', 80], ['mirrored indigo', 16], ['faded white', 32], ['muted beige', 60], ['faded white', 24], ['light green', 4], ['pale bronze', 8], ['bright crimson', 4], ['vibrant aqua', 4], ['light lavender', 40], ['dull beige', 32], ['bright crimson', 24], ['light lavender', 160], ['dotted bronze', 160], ['wavy orange', 48], ['posh plum', 80], ['clear red', 128], ['faded fuchsia', 128], ['dull beige', 32], ['clear red', 96], ['faded fuchsia', 96], ['dull beige', 24], ['plaid teal', 8], ['pale bronze', 20], ['dull teal', 12], ['light lavender', 40], ['dull beige', 32], ['bright crimson', 24], ['wavy tan', 8], ['shiny teal', 16], ['wavy turquoise', 12], ['dull beige', 16], ['wavy tan', 48], ['shiny teal', 96], ['clear red', 480], ['posh plum', 640], ['light lavender', 640], ['faded fuchsia', 640], ['plaid teal', 240], ['pale bronze', 48], ['wavy tan', 192], ['clear red', 48], ['shiny teal', 32], ['wavy turquoise', 16], ['vibrant aqua', 16], ['light lavender', 100], ['dull beige', 80]]\n",
      "[['shiny gold', 1], ['drab gray', 4], ['light coral', 4], ['clear violet', 16], ['mirrored red', 12], ['light silver', 4], ['wavy turquoise', 4], ['pale bronze', 8], ['clear aqua', 4], ['wavy turquoise', 80], ['light black', 80], ['mirrored indigo', 16], ['faded white', 32], ['muted beige', 60], ['faded white', 24], ['light green', 4], ['pale bronze', 8], ['bright crimson', 4], ['vibrant aqua', 4], ['light lavender', 40], ['dull beige', 32], ['bright crimson', 24], ['light lavender', 160], ['dotted bronze', 160], ['wavy orange', 48], ['posh plum', 80], ['clear red', 128], ['faded fuchsia', 128], ['dull beige', 32], ['clear red', 96], ['faded fuchsia', 96], ['dull beige', 24], ['plaid teal', 8], ['pale bronze', 20], ['dull teal', 12], ['light lavender', 40], ['dull beige', 32], ['bright crimson', 24], ['wavy tan', 8], ['shiny teal', 16], ['wavy turquoise', 12], ['dull beige', 16], ['wavy tan', 48], ['shiny teal', 96], ['clear red', 480], ['posh plum', 640], ['light lavender', 640], ['faded fuchsia', 640], ['plaid teal', 240], ['pale bronze', 48], ['wavy tan', 192], ['clear red', 48], ['shiny teal', 32], ['wavy turquoise', 16], ['vibrant aqua', 16], ['light lavender', 100], ['dull beige', 80], ['bright crimson', 60]]\n",
      "[['shiny gold', 1], ['drab gray', 4], ['light coral', 4], ['clear violet', 16], ['mirrored red', 12], ['light silver', 4], ['wavy turquoise', 4], ['pale bronze', 8], ['clear aqua', 4], ['wavy turquoise', 80], ['light black', 80], ['mirrored indigo', 16], ['faded white', 32], ['muted beige', 60], ['faded white', 24], ['light green', 4], ['pale bronze', 8], ['bright crimson', 4], ['vibrant aqua', 4], ['light lavender', 40], ['dull beige', 32], ['bright crimson', 24], ['light lavender', 160], ['dotted bronze', 160], ['wavy orange', 48], ['posh plum', 80], ['clear red', 128], ['faded fuchsia', 128], ['dull beige', 32], ['clear red', 96], ['faded fuchsia', 96], ['dull beige', 24], ['plaid teal', 8], ['pale bronze', 20], ['dull teal', 12], ['light lavender', 40], ['dull beige', 32], ['bright crimson', 24], ['wavy tan', 8], ['shiny teal', 16], ['wavy turquoise', 12], ['dull beige', 16], ['wavy tan', 48], ['shiny teal', 96], ['clear red', 480], ['posh plum', 640], ['light lavender', 640], ['faded fuchsia', 640], ['plaid teal', 240], ['pale bronze', 48], ['wavy tan', 192], ['clear red', 48], ['shiny teal', 32], ['wavy turquoise', 16], ['vibrant aqua', 16], ['light lavender', 100], ['dull beige', 80], ['bright crimson', 60], ['vibrant salmon', 60]]\n",
      "[['shiny gold', 1], ['drab gray', 4], ['light coral', 4], ['clear violet', 16], ['mirrored red', 12], ['light silver', 4], ['wavy turquoise', 4], ['pale bronze', 8], ['clear aqua', 4], ['wavy turquoise', 80], ['light black', 80], ['mirrored indigo', 16], ['faded white', 32], ['muted beige', 60], ['faded white', 24], ['light green', 4], ['pale bronze', 8], ['bright crimson', 4], ['vibrant aqua', 4], ['light lavender', 40], ['dull beige', 32], ['bright crimson', 24], ['light lavender', 160], ['dotted bronze', 160], ['wavy orange', 48], ['posh plum', 80], ['clear red', 128], ['faded fuchsia', 128], ['dull beige', 32], ['clear red', 96], ['faded fuchsia', 96], ['dull beige', 24], ['plaid teal', 8], ['pale bronze', 20], ['dull teal', 12], ['light lavender', 40], ['dull beige', 32], ['bright crimson', 24], ['wavy tan', 8], ['shiny teal', 16], ['wavy turquoise', 12], ['dull beige', 16], ['wavy tan', 48], ['shiny teal', 96], ['clear red', 480], ['posh plum', 640], ['light lavender', 640], ['faded fuchsia', 640], ['plaid teal', 240], ['pale bronze', 48], ['wavy tan', 192], ['clear red', 48], ['shiny teal', 32], ['wavy turquoise', 16], ['vibrant aqua', 16], ['light lavender', 100], ['dull beige', 80], ['bright crimson', 60], ['vibrant salmon', 60], ['vibrant aqua', 36]]\n",
      "[['shiny gold', 1], ['drab gray', 4], ['light coral', 4], ['clear violet', 16], ['mirrored red', 12], ['light silver', 4], ['wavy turquoise', 4], ['pale bronze', 8], ['clear aqua', 4], ['wavy turquoise', 80], ['light black', 80], ['mirrored indigo', 16], ['faded white', 32], ['muted beige', 60], ['faded white', 24], ['light green', 4], ['pale bronze', 8], ['bright crimson', 4], ['vibrant aqua', 4], ['light lavender', 40], ['dull beige', 32], ['bright crimson', 24], ['light lavender', 160], ['dotted bronze', 160], ['wavy orange', 48], ['posh plum', 80], ['clear red', 128], ['faded fuchsia', 128], ['dull beige', 32], ['clear red', 96], ['faded fuchsia', 96], ['dull beige', 24], ['plaid teal', 8], ['pale bronze', 20], ['dull teal', 12], ['light lavender', 40], ['dull beige', 32], ['bright crimson', 24], ['wavy tan', 8], ['shiny teal', 16], ['wavy turquoise', 12], ['dull beige', 16], ['wavy tan', 48], ['shiny teal', 96], ['clear red', 480], ['posh plum', 640], ['light lavender', 640], ['faded fuchsia', 640], ['plaid teal', 240], ['pale bronze', 48], ['wavy tan', 192], ['clear red', 48], ['shiny teal', 32], ['wavy turquoise', 16], ['vibrant aqua', 16], ['light lavender', 100], ['dull beige', 80], ['bright crimson', 60], ['vibrant salmon', 60], ['vibrant aqua', 36], ['wavy tan', 60]]\n",
      "[['shiny gold', 1], ['drab gray', 4], ['light coral', 4], ['clear violet', 16], ['mirrored red', 12], ['light silver', 4], ['wavy turquoise', 4], ['pale bronze', 8], ['clear aqua', 4], ['wavy turquoise', 80], ['light black', 80], ['mirrored indigo', 16], ['faded white', 32], ['muted beige', 60], ['faded white', 24], ['light green', 4], ['pale bronze', 8], ['bright crimson', 4], ['vibrant aqua', 4], ['light lavender', 40], ['dull beige', 32], ['bright crimson', 24], ['light lavender', 160], ['dotted bronze', 160], ['wavy orange', 48], ['posh plum', 80], ['clear red', 128], ['faded fuchsia', 128], ['dull beige', 32], ['clear red', 96], ['faded fuchsia', 96], ['dull beige', 24], ['plaid teal', 8], ['pale bronze', 20], ['dull teal', 12], ['light lavender', 40], ['dull beige', 32], ['bright crimson', 24], ['wavy tan', 8], ['shiny teal', 16], ['wavy turquoise', 12], ['dull beige', 16], ['wavy tan', 48], ['shiny teal', 96], ['clear red', 480], ['posh plum', 640], ['light lavender', 640], ['faded fuchsia', 640], ['plaid teal', 240], ['pale bronze', 48], ['wavy tan', 192], ['clear red', 48], ['shiny teal', 32], ['wavy turquoise', 16], ['vibrant aqua', 16], ['light lavender', 100], ['dull beige', 80], ['bright crimson', 60], ['vibrant salmon', 60], ['vibrant aqua', 36], ['wavy tan', 60], ['striped purple', 60]]\n",
      "[['shiny gold', 1], ['drab gray', 4], ['light coral', 4], ['clear violet', 16], ['mirrored red', 12], ['light silver', 4], ['wavy turquoise', 4], ['pale bronze', 8], ['clear aqua', 4], ['wavy turquoise', 80], ['light black', 80], ['mirrored indigo', 16], ['faded white', 32], ['muted beige', 60], ['faded white', 24], ['light green', 4], ['pale bronze', 8], ['bright crimson', 4], ['vibrant aqua', 4], ['light lavender', 40], ['dull beige', 32], ['bright crimson', 24], ['light lavender', 160], ['dotted bronze', 160], ['wavy orange', 48], ['posh plum', 80], ['clear red', 128], ['faded fuchsia', 128], ['dull beige', 32], ['clear red', 96], ['faded fuchsia', 96], ['dull beige', 24], ['plaid teal', 8], ['pale bronze', 20], ['dull teal', 12], ['light lavender', 40], ['dull beige', 32], ['bright crimson', 24], ['wavy tan', 8], ['shiny teal', 16], ['wavy turquoise', 12], ['dull beige', 16], ['wavy tan', 48], ['shiny teal', 96], ['clear red', 480], ['posh plum', 640], ['light lavender', 640], ['faded fuchsia', 640], ['plaid teal', 240], ['pale bronze', 48], ['wavy tan', 192], ['clear red', 48], ['shiny teal', 32], ['wavy turquoise', 16], ['vibrant aqua', 16], ['light lavender', 100], ['dull beige', 80], ['bright crimson', 60], ['vibrant salmon', 60], ['vibrant aqua', 36], ['wavy tan', 60], ['striped purple', 60], ['wavy tan', 48]]\n",
      "[['shiny gold', 1], ['drab gray', 4], ['light coral', 4], ['clear violet', 16], ['mirrored red', 12], ['light silver', 4], ['wavy turquoise', 4], ['pale bronze', 8], ['clear aqua', 4], ['wavy turquoise', 80], ['light black', 80], ['mirrored indigo', 16], ['faded white', 32], ['muted beige', 60], ['faded white', 24], ['light green', 4], ['pale bronze', 8], ['bright crimson', 4], ['vibrant aqua', 4], ['light lavender', 40], ['dull beige', 32], ['bright crimson', 24], ['light lavender', 160], ['dotted bronze', 160], ['wavy orange', 48], ['posh plum', 80], ['clear red', 128], ['faded fuchsia', 128], ['dull beige', 32], ['clear red', 96], ['faded fuchsia', 96], ['dull beige', 24], ['plaid teal', 8], ['pale bronze', 20], ['dull teal', 12], ['light lavender', 40], ['dull beige', 32], ['bright crimson', 24], ['wavy tan', 8], ['shiny teal', 16], ['wavy turquoise', 12], ['dull beige', 16], ['wavy tan', 48], ['shiny teal', 96], ['clear red', 480], ['posh plum', 640], ['light lavender', 640], ['faded fuchsia', 640], ['plaid teal', 240], ['pale bronze', 48], ['wavy tan', 192], ['clear red', 48], ['shiny teal', 32], ['wavy turquoise', 16], ['vibrant aqua', 16], ['light lavender', 100], ['dull beige', 80], ['bright crimson', 60], ['vibrant salmon', 60], ['vibrant aqua', 36], ['wavy tan', 60], ['striped purple', 60], ['wavy tan', 48], ['shiny teal', 96]]\n",
      "[['shiny gold', 1], ['drab gray', 4], ['light coral', 4], ['clear violet', 16], ['mirrored red', 12], ['light silver', 4], ['wavy turquoise', 4], ['pale bronze', 8], ['clear aqua', 4], ['wavy turquoise', 80], ['light black', 80], ['mirrored indigo', 16], ['faded white', 32], ['muted beige', 60], ['faded white', 24], ['light green', 4], ['pale bronze', 8], ['bright crimson', 4], ['vibrant aqua', 4], ['light lavender', 40], ['dull beige', 32], ['bright crimson', 24], ['light lavender', 160], ['dotted bronze', 160], ['wavy orange', 48], ['posh plum', 80], ['clear red', 128], ['faded fuchsia', 128], ['dull beige', 32], ['clear red', 96], ['faded fuchsia', 96], ['dull beige', 24], ['plaid teal', 8], ['pale bronze', 20], ['dull teal', 12], ['light lavender', 40], ['dull beige', 32], ['bright crimson', 24], ['wavy tan', 8], ['shiny teal', 16], ['wavy turquoise', 12], ['dull beige', 16], ['wavy tan', 48], ['shiny teal', 96], ['clear red', 480], ['posh plum', 640], ['light lavender', 640], ['faded fuchsia', 640], ['plaid teal', 240], ['pale bronze', 48], ['wavy tan', 192], ['clear red', 48], ['shiny teal', 32], ['wavy turquoise', 16], ['vibrant aqua', 16], ['light lavender', 100], ['dull beige', 80], ['bright crimson', 60], ['vibrant salmon', 60], ['vibrant aqua', 36], ['wavy tan', 60], ['striped purple', 60], ['wavy tan', 48], ['shiny teal', 96], ['shiny teal', 960]]\n",
      "[['shiny gold', 1], ['drab gray', 4], ['light coral', 4], ['clear violet', 16], ['mirrored red', 12], ['light silver', 4], ['wavy turquoise', 4], ['pale bronze', 8], ['clear aqua', 4], ['wavy turquoise', 80], ['light black', 80], ['mirrored indigo', 16], ['faded white', 32], ['muted beige', 60], ['faded white', 24], ['light green', 4], ['pale bronze', 8], ['bright crimson', 4], ['vibrant aqua', 4], ['light lavender', 40], ['dull beige', 32], ['bright crimson', 24], ['light lavender', 160], ['dotted bronze', 160], ['wavy orange', 48], ['posh plum', 80], ['clear red', 128], ['faded fuchsia', 128], ['dull beige', 32], ['clear red', 96], ['faded fuchsia', 96], ['dull beige', 24], ['plaid teal', 8], ['pale bronze', 20], ['dull teal', 12], ['light lavender', 40], ['dull beige', 32], ['bright crimson', 24], ['wavy tan', 8], ['shiny teal', 16], ['wavy turquoise', 12], ['dull beige', 16], ['wavy tan', 48], ['shiny teal', 96], ['clear red', 480], ['posh plum', 640], ['light lavender', 640], ['faded fuchsia', 640], ['plaid teal', 240], ['pale bronze', 48], ['wavy tan', 192], ['clear red', 48], ['shiny teal', 32], ['wavy turquoise', 16], ['vibrant aqua', 16], ['light lavender', 100], ['dull beige', 80], ['bright crimson', 60], ['vibrant salmon', 60], ['vibrant aqua', 36], ['wavy tan', 60], ['striped purple', 60], ['wavy tan', 48], ['shiny teal', 96], ['shiny teal', 960], ['wavy turquoise', 480]]\n",
      "[['shiny gold', 1], ['drab gray', 4], ['light coral', 4], ['clear violet', 16], ['mirrored red', 12], ['light silver', 4], ['wavy turquoise', 4], ['pale bronze', 8], ['clear aqua', 4], ['wavy turquoise', 80], ['light black', 80], ['mirrored indigo', 16], ['faded white', 32], ['muted beige', 60], ['faded white', 24], ['light green', 4], ['pale bronze', 8], ['bright crimson', 4], ['vibrant aqua', 4], ['light lavender', 40], ['dull beige', 32], ['bright crimson', 24], ['light lavender', 160], ['dotted bronze', 160], ['wavy orange', 48], ['posh plum', 80], ['clear red', 128], ['faded fuchsia', 128], ['dull beige', 32], ['clear red', 96], ['faded fuchsia', 96], ['dull beige', 24], ['plaid teal', 8], ['pale bronze', 20], ['dull teal', 12], ['light lavender', 40], ['dull beige', 32], ['bright crimson', 24], ['wavy tan', 8], ['shiny teal', 16], ['wavy turquoise', 12], ['dull beige', 16], ['wavy tan', 48], ['shiny teal', 96], ['clear red', 480], ['posh plum', 640], ['light lavender', 640], ['faded fuchsia', 640], ['plaid teal', 240], ['pale bronze', 48], ['wavy tan', 192], ['clear red', 48], ['shiny teal', 32], ['wavy turquoise', 16], ['vibrant aqua', 16], ['light lavender', 100], ['dull beige', 80], ['bright crimson', 60], ['vibrant salmon', 60], ['vibrant aqua', 36], ['wavy tan', 60], ['striped purple', 60], ['wavy tan', 48], ['shiny teal', 96], ['shiny teal', 960], ['wavy turquoise', 480], ['vibrant aqua', 480]]\n",
      "[['shiny gold', 1], ['drab gray', 4], ['light coral', 4], ['clear violet', 16], ['mirrored red', 12], ['light silver', 4], ['wavy turquoise', 4], ['pale bronze', 8], ['clear aqua', 4], ['wavy turquoise', 80], ['light black', 80], ['mirrored indigo', 16], ['faded white', 32], ['muted beige', 60], ['faded white', 24], ['light green', 4], ['pale bronze', 8], ['bright crimson', 4], ['vibrant aqua', 4], ['light lavender', 40], ['dull beige', 32], ['bright crimson', 24], ['light lavender', 160], ['dotted bronze', 160], ['wavy orange', 48], ['posh plum', 80], ['clear red', 128], ['faded fuchsia', 128], ['dull beige', 32], ['clear red', 96], ['faded fuchsia', 96], ['dull beige', 24], ['plaid teal', 8], ['pale bronze', 20], ['dull teal', 12], ['light lavender', 40], ['dull beige', 32], ['bright crimson', 24], ['wavy tan', 8], ['shiny teal', 16], ['wavy turquoise', 12], ['dull beige', 16], ['wavy tan', 48], ['shiny teal', 96], ['clear red', 480], ['posh plum', 640], ['light lavender', 640], ['faded fuchsia', 640], ['plaid teal', 240], ['pale bronze', 48], ['wavy tan', 192], ['clear red', 48], ['shiny teal', 32], ['wavy turquoise', 16], ['vibrant aqua', 16], ['light lavender', 100], ['dull beige', 80], ['bright crimson', 60], ['vibrant salmon', 60], ['vibrant aqua', 36], ['wavy tan', 60], ['striped purple', 60], ['wavy tan', 48], ['shiny teal', 96], ['shiny teal', 960], ['wavy turquoise', 480], ['vibrant aqua', 480], ['light lavender', 240]]\n",
      "[['shiny gold', 1], ['drab gray', 4], ['light coral', 4], ['clear violet', 16], ['mirrored red', 12], ['light silver', 4], ['wavy turquoise', 4], ['pale bronze', 8], ['clear aqua', 4], ['wavy turquoise', 80], ['light black', 80], ['mirrored indigo', 16], ['faded white', 32], ['muted beige', 60], ['faded white', 24], ['light green', 4], ['pale bronze', 8], ['bright crimson', 4], ['vibrant aqua', 4], ['light lavender', 40], ['dull beige', 32], ['bright crimson', 24], ['light lavender', 160], ['dotted bronze', 160], ['wavy orange', 48], ['posh plum', 80], ['clear red', 128], ['faded fuchsia', 128], ['dull beige', 32], ['clear red', 96], ['faded fuchsia', 96], ['dull beige', 24], ['plaid teal', 8], ['pale bronze', 20], ['dull teal', 12], ['light lavender', 40], ['dull beige', 32], ['bright crimson', 24], ['wavy tan', 8], ['shiny teal', 16], ['wavy turquoise', 12], ['dull beige', 16], ['wavy tan', 48], ['shiny teal', 96], ['clear red', 480], ['posh plum', 640], ['light lavender', 640], ['faded fuchsia', 640], ['plaid teal', 240], ['pale bronze', 48], ['wavy tan', 192], ['clear red', 48], ['shiny teal', 32], ['wavy turquoise', 16], ['vibrant aqua', 16], ['light lavender', 100], ['dull beige', 80], ['bright crimson', 60], ['vibrant salmon', 60], ['vibrant aqua', 36], ['wavy tan', 60], ['striped purple', 60], ['wavy tan', 48], ['shiny teal', 96], ['shiny teal', 960], ['wavy turquoise', 480], ['vibrant aqua', 480], ['light lavender', 240], ['dull beige', 192]]\n",
      "[['shiny gold', 1], ['drab gray', 4], ['light coral', 4], ['clear violet', 16], ['mirrored red', 12], ['light silver', 4], ['wavy turquoise', 4], ['pale bronze', 8], ['clear aqua', 4], ['wavy turquoise', 80], ['light black', 80], ['mirrored indigo', 16], ['faded white', 32], ['muted beige', 60], ['faded white', 24], ['light green', 4], ['pale bronze', 8], ['bright crimson', 4], ['vibrant aqua', 4], ['light lavender', 40], ['dull beige', 32], ['bright crimson', 24], ['light lavender', 160], ['dotted bronze', 160], ['wavy orange', 48], ['posh plum', 80], ['clear red', 128], ['faded fuchsia', 128], ['dull beige', 32], ['clear red', 96], ['faded fuchsia', 96], ['dull beige', 24], ['plaid teal', 8], ['pale bronze', 20], ['dull teal', 12], ['light lavender', 40], ['dull beige', 32], ['bright crimson', 24], ['wavy tan', 8], ['shiny teal', 16], ['wavy turquoise', 12], ['dull beige', 16], ['wavy tan', 48], ['shiny teal', 96], ['clear red', 480], ['posh plum', 640], ['light lavender', 640], ['faded fuchsia', 640], ['plaid teal', 240], ['pale bronze', 48], ['wavy tan', 192], ['clear red', 48], ['shiny teal', 32], ['wavy turquoise', 16], ['vibrant aqua', 16], ['light lavender', 100], ['dull beige', 80], ['bright crimson', 60], ['vibrant salmon', 60], ['vibrant aqua', 36], ['wavy tan', 60], ['striped purple', 60], ['wavy tan', 48], ['shiny teal', 96], ['shiny teal', 960], ['wavy turquoise', 480], ['vibrant aqua', 480], ['light lavender', 240], ['dull beige', 192], ['bright crimson', 144]]\n",
      "[['shiny gold', 1], ['drab gray', 4], ['light coral', 4], ['clear violet', 16], ['mirrored red', 12], ['light silver', 4], ['wavy turquoise', 4], ['pale bronze', 8], ['clear aqua', 4], ['wavy turquoise', 80], ['light black', 80], ['mirrored indigo', 16], ['faded white', 32], ['muted beige', 60], ['faded white', 24], ['light green', 4], ['pale bronze', 8], ['bright crimson', 4], ['vibrant aqua', 4], ['light lavender', 40], ['dull beige', 32], ['bright crimson', 24], ['light lavender', 160], ['dotted bronze', 160], ['wavy orange', 48], ['posh plum', 80], ['clear red', 128], ['faded fuchsia', 128], ['dull beige', 32], ['clear red', 96], ['faded fuchsia', 96], ['dull beige', 24], ['plaid teal', 8], ['pale bronze', 20], ['dull teal', 12], ['light lavender', 40], ['dull beige', 32], ['bright crimson', 24], ['wavy tan', 8], ['shiny teal', 16], ['wavy turquoise', 12], ['dull beige', 16], ['wavy tan', 48], ['shiny teal', 96], ['clear red', 480], ['posh plum', 640], ['light lavender', 640], ['faded fuchsia', 640], ['plaid teal', 240], ['pale bronze', 48], ['wavy tan', 192], ['clear red', 48], ['shiny teal', 32], ['wavy turquoise', 16], ['vibrant aqua', 16], ['light lavender', 100], ['dull beige', 80], ['bright crimson', 60], ['vibrant salmon', 60], ['vibrant aqua', 36], ['wavy tan', 60], ['striped purple', 60], ['wavy tan', 48], ['shiny teal', 96], ['shiny teal', 960], ['wavy turquoise', 480], ['vibrant aqua', 480], ['light lavender', 240], ['dull beige', 192], ['bright crimson', 144], ['wavy turquoise', 48]]\n",
      "[['shiny gold', 1], ['drab gray', 4], ['light coral', 4], ['clear violet', 16], ['mirrored red', 12], ['light silver', 4], ['wavy turquoise', 4], ['pale bronze', 8], ['clear aqua', 4], ['wavy turquoise', 80], ['light black', 80], ['mirrored indigo', 16], ['faded white', 32], ['muted beige', 60], ['faded white', 24], ['light green', 4], ['pale bronze', 8], ['bright crimson', 4], ['vibrant aqua', 4], ['light lavender', 40], ['dull beige', 32], ['bright crimson', 24], ['light lavender', 160], ['dotted bronze', 160], ['wavy orange', 48], ['posh plum', 80], ['clear red', 128], ['faded fuchsia', 128], ['dull beige', 32], ['clear red', 96], ['faded fuchsia', 96], ['dull beige', 24], ['plaid teal', 8], ['pale bronze', 20], ['dull teal', 12], ['light lavender', 40], ['dull beige', 32], ['bright crimson', 24], ['wavy tan', 8], ['shiny teal', 16], ['wavy turquoise', 12], ['dull beige', 16], ['wavy tan', 48], ['shiny teal', 96], ['clear red', 480], ['posh plum', 640], ['light lavender', 640], ['faded fuchsia', 640], ['plaid teal', 240], ['pale bronze', 48], ['wavy tan', 192], ['clear red', 48], ['shiny teal', 32], ['wavy turquoise', 16], ['vibrant aqua', 16], ['light lavender', 100], ['dull beige', 80], ['bright crimson', 60], ['vibrant salmon', 60], ['vibrant aqua', 36], ['wavy tan', 60], ['striped purple', 60], ['wavy tan', 48], ['shiny teal', 96], ['shiny teal', 960], ['wavy turquoise', 480], ['vibrant aqua', 480], ['light lavender', 240], ['dull beige', 192], ['bright crimson', 144], ['wavy turquoise', 48], ['dull beige', 64]]\n",
      "[['shiny gold', 1], ['drab gray', 4], ['light coral', 4], ['clear violet', 16], ['mirrored red', 12], ['light silver', 4], ['wavy turquoise', 4], ['pale bronze', 8], ['clear aqua', 4], ['wavy turquoise', 80], ['light black', 80], ['mirrored indigo', 16], ['faded white', 32], ['muted beige', 60], ['faded white', 24], ['light green', 4], ['pale bronze', 8], ['bright crimson', 4], ['vibrant aqua', 4], ['light lavender', 40], ['dull beige', 32], ['bright crimson', 24], ['light lavender', 160], ['dotted bronze', 160], ['wavy orange', 48], ['posh plum', 80], ['clear red', 128], ['faded fuchsia', 128], ['dull beige', 32], ['clear red', 96], ['faded fuchsia', 96], ['dull beige', 24], ['plaid teal', 8], ['pale bronze', 20], ['dull teal', 12], ['light lavender', 40], ['dull beige', 32], ['bright crimson', 24], ['wavy tan', 8], ['shiny teal', 16], ['wavy turquoise', 12], ['dull beige', 16], ['wavy tan', 48], ['shiny teal', 96], ['clear red', 480], ['posh plum', 640], ['light lavender', 640], ['faded fuchsia', 640], ['plaid teal', 240], ['pale bronze', 48], ['wavy tan', 192], ['clear red', 48], ['shiny teal', 32], ['wavy turquoise', 16], ['vibrant aqua', 16], ['light lavender', 100], ['dull beige', 80], ['bright crimson', 60], ['vibrant salmon', 60], ['vibrant aqua', 36], ['wavy tan', 60], ['striped purple', 60], ['wavy tan', 48], ['shiny teal', 96], ['shiny teal', 960], ['wavy turquoise', 480], ['vibrant aqua', 480], ['light lavender', 240], ['dull beige', 192], ['bright crimson', 144], ['wavy turquoise', 48], ['dull beige', 64], ['wavy tan', 120]]\n",
      "[['shiny gold', 1], ['drab gray', 4], ['light coral', 4], ['clear violet', 16], ['mirrored red', 12], ['light silver', 4], ['wavy turquoise', 4], ['pale bronze', 8], ['clear aqua', 4], ['wavy turquoise', 80], ['light black', 80], ['mirrored indigo', 16], ['faded white', 32], ['muted beige', 60], ['faded white', 24], ['light green', 4], ['pale bronze', 8], ['bright crimson', 4], ['vibrant aqua', 4], ['light lavender', 40], ['dull beige', 32], ['bright crimson', 24], ['light lavender', 160], ['dotted bronze', 160], ['wavy orange', 48], ['posh plum', 80], ['clear red', 128], ['faded fuchsia', 128], ['dull beige', 32], ['clear red', 96], ['faded fuchsia', 96], ['dull beige', 24], ['plaid teal', 8], ['pale bronze', 20], ['dull teal', 12], ['light lavender', 40], ['dull beige', 32], ['bright crimson', 24], ['wavy tan', 8], ['shiny teal', 16], ['wavy turquoise', 12], ['dull beige', 16], ['wavy tan', 48], ['shiny teal', 96], ['clear red', 480], ['posh plum', 640], ['light lavender', 640], ['faded fuchsia', 640], ['plaid teal', 240], ['pale bronze', 48], ['wavy tan', 192], ['clear red', 48], ['shiny teal', 32], ['wavy turquoise', 16], ['vibrant aqua', 16], ['light lavender', 100], ['dull beige', 80], ['bright crimson', 60], ['vibrant salmon', 60], ['vibrant aqua', 36], ['wavy tan', 60], ['striped purple', 60], ['wavy tan', 48], ['shiny teal', 96], ['shiny teal', 960], ['wavy turquoise', 480], ['vibrant aqua', 480], ['light lavender', 240], ['dull beige', 192], ['bright crimson', 144], ['wavy turquoise', 48], ['dull beige', 64], ['wavy tan', 120], ['shiny teal', 240]]\n",
      "[['shiny gold', 1], ['drab gray', 4], ['light coral', 4], ['clear violet', 16], ['mirrored red', 12], ['light silver', 4], ['wavy turquoise', 4], ['pale bronze', 8], ['clear aqua', 4], ['wavy turquoise', 80], ['light black', 80], ['mirrored indigo', 16], ['faded white', 32], ['muted beige', 60], ['faded white', 24], ['light green', 4], ['pale bronze', 8], ['bright crimson', 4], ['vibrant aqua', 4], ['light lavender', 40], ['dull beige', 32], ['bright crimson', 24], ['light lavender', 160], ['dotted bronze', 160], ['wavy orange', 48], ['posh plum', 80], ['clear red', 128], ['faded fuchsia', 128], ['dull beige', 32], ['clear red', 96], ['faded fuchsia', 96], ['dull beige', 24], ['plaid teal', 8], ['pale bronze', 20], ['dull teal', 12], ['light lavender', 40], ['dull beige', 32], ['bright crimson', 24], ['wavy tan', 8], ['shiny teal', 16], ['wavy turquoise', 12], ['dull beige', 16], ['wavy tan', 48], ['shiny teal', 96], ['clear red', 480], ['posh plum', 640], ['light lavender', 640], ['faded fuchsia', 640], ['plaid teal', 240], ['pale bronze', 48], ['wavy tan', 192], ['clear red', 48], ['shiny teal', 32], ['wavy turquoise', 16], ['vibrant aqua', 16], ['light lavender', 100], ['dull beige', 80], ['bright crimson', 60], ['vibrant salmon', 60], ['vibrant aqua', 36], ['wavy tan', 60], ['striped purple', 60], ['wavy tan', 48], ['shiny teal', 96], ['shiny teal', 960], ['wavy turquoise', 480], ['vibrant aqua', 480], ['light lavender', 240], ['dull beige', 192], ['bright crimson', 144], ['wavy turquoise', 48], ['dull beige', 64], ['wavy tan', 120], ['shiny teal', 240], ['shiny teal', 60]]\n",
      "[['shiny gold', 1], ['drab gray', 4], ['light coral', 4], ['clear violet', 16], ['mirrored red', 12], ['light silver', 4], ['wavy turquoise', 4], ['pale bronze', 8], ['clear aqua', 4], ['wavy turquoise', 80], ['light black', 80], ['mirrored indigo', 16], ['faded white', 32], ['muted beige', 60], ['faded white', 24], ['light green', 4], ['pale bronze', 8], ['bright crimson', 4], ['vibrant aqua', 4], ['light lavender', 40], ['dull beige', 32], ['bright crimson', 24], ['light lavender', 160], ['dotted bronze', 160], ['wavy orange', 48], ['posh plum', 80], ['clear red', 128], ['faded fuchsia', 128], ['dull beige', 32], ['clear red', 96], ['faded fuchsia', 96], ['dull beige', 24], ['plaid teal', 8], ['pale bronze', 20], ['dull teal', 12], ['light lavender', 40], ['dull beige', 32], ['bright crimson', 24], ['wavy tan', 8], ['shiny teal', 16], ['wavy turquoise', 12], ['dull beige', 16], ['wavy tan', 48], ['shiny teal', 96], ['clear red', 480], ['posh plum', 640], ['light lavender', 640], ['faded fuchsia', 640], ['plaid teal', 240], ['pale bronze', 48], ['wavy tan', 192], ['clear red', 48], ['shiny teal', 32], ['wavy turquoise', 16], ['vibrant aqua', 16], ['light lavender', 100], ['dull beige', 80], ['bright crimson', 60], ['vibrant salmon', 60], ['vibrant aqua', 36], ['wavy tan', 60], ['striped purple', 60], ['wavy tan', 48], ['shiny teal', 96], ['shiny teal', 960], ['wavy turquoise', 480], ['vibrant aqua', 480], ['light lavender', 240], ['dull beige', 192], ['bright crimson', 144], ['wavy turquoise', 48], ['dull beige', 64], ['wavy tan', 120], ['shiny teal', 240], ['shiny teal', 60], ['wavy turquoise', 108]]\n",
      "[['shiny gold', 1], ['drab gray', 4], ['light coral', 4], ['clear violet', 16], ['mirrored red', 12], ['light silver', 4], ['wavy turquoise', 4], ['pale bronze', 8], ['clear aqua', 4], ['wavy turquoise', 80], ['light black', 80], ['mirrored indigo', 16], ['faded white', 32], ['muted beige', 60], ['faded white', 24], ['light green', 4], ['pale bronze', 8], ['bright crimson', 4], ['vibrant aqua', 4], ['light lavender', 40], ['dull beige', 32], ['bright crimson', 24], ['light lavender', 160], ['dotted bronze', 160], ['wavy orange', 48], ['posh plum', 80], ['clear red', 128], ['faded fuchsia', 128], ['dull beige', 32], ['clear red', 96], ['faded fuchsia', 96], ['dull beige', 24], ['plaid teal', 8], ['pale bronze', 20], ['dull teal', 12], ['light lavender', 40], ['dull beige', 32], ['bright crimson', 24], ['wavy tan', 8], ['shiny teal', 16], ['wavy turquoise', 12], ['dull beige', 16], ['wavy tan', 48], ['shiny teal', 96], ['clear red', 480], ['posh plum', 640], ['light lavender', 640], ['faded fuchsia', 640], ['plaid teal', 240], ['pale bronze', 48], ['wavy tan', 192], ['clear red', 48], ['shiny teal', 32], ['wavy turquoise', 16], ['vibrant aqua', 16], ['light lavender', 100], ['dull beige', 80], ['bright crimson', 60], ['vibrant salmon', 60], ['vibrant aqua', 36], ['wavy tan', 60], ['striped purple', 60], ['wavy tan', 48], ['shiny teal', 96], ['shiny teal', 960], ['wavy turquoise', 480], ['vibrant aqua', 480], ['light lavender', 240], ['dull beige', 192], ['bright crimson', 144], ['wavy turquoise', 48], ['dull beige', 64], ['wavy tan', 120], ['shiny teal', 240], ['shiny teal', 60], ['wavy turquoise', 108], ['dull beige', 144]]\n",
      "[['shiny gold', 1], ['drab gray', 4], ['light coral', 4], ['clear violet', 16], ['mirrored red', 12], ['light silver', 4], ['wavy turquoise', 4], ['pale bronze', 8], ['clear aqua', 4], ['wavy turquoise', 80], ['light black', 80], ['mirrored indigo', 16], ['faded white', 32], ['muted beige', 60], ['faded white', 24], ['light green', 4], ['pale bronze', 8], ['bright crimson', 4], ['vibrant aqua', 4], ['light lavender', 40], ['dull beige', 32], ['bright crimson', 24], ['light lavender', 160], ['dotted bronze', 160], ['wavy orange', 48], ['posh plum', 80], ['clear red', 128], ['faded fuchsia', 128], ['dull beige', 32], ['clear red', 96], ['faded fuchsia', 96], ['dull beige', 24], ['plaid teal', 8], ['pale bronze', 20], ['dull teal', 12], ['light lavender', 40], ['dull beige', 32], ['bright crimson', 24], ['wavy tan', 8], ['shiny teal', 16], ['wavy turquoise', 12], ['dull beige', 16], ['wavy tan', 48], ['shiny teal', 96], ['clear red', 480], ['posh plum', 640], ['light lavender', 640], ['faded fuchsia', 640], ['plaid teal', 240], ['pale bronze', 48], ['wavy tan', 192], ['clear red', 48], ['shiny teal', 32], ['wavy turquoise', 16], ['vibrant aqua', 16], ['light lavender', 100], ['dull beige', 80], ['bright crimson', 60], ['vibrant salmon', 60], ['vibrant aqua', 36], ['wavy tan', 60], ['striped purple', 60], ['wavy tan', 48], ['shiny teal', 96], ['shiny teal', 960], ['wavy turquoise', 480], ['vibrant aqua', 480], ['light lavender', 240], ['dull beige', 192], ['bright crimson', 144], ['wavy turquoise', 48], ['dull beige', 64], ['wavy tan', 120], ['shiny teal', 240], ['shiny teal', 60], ['wavy turquoise', 108], ['dull beige', 144], ['faded fuchsia', 120]]\n",
      "[['shiny gold', 1], ['drab gray', 4], ['light coral', 4], ['clear violet', 16], ['mirrored red', 12], ['light silver', 4], ['wavy turquoise', 4], ['pale bronze', 8], ['clear aqua', 4], ['wavy turquoise', 80], ['light black', 80], ['mirrored indigo', 16], ['faded white', 32], ['muted beige', 60], ['faded white', 24], ['light green', 4], ['pale bronze', 8], ['bright crimson', 4], ['vibrant aqua', 4], ['light lavender', 40], ['dull beige', 32], ['bright crimson', 24], ['light lavender', 160], ['dotted bronze', 160], ['wavy orange', 48], ['posh plum', 80], ['clear red', 128], ['faded fuchsia', 128], ['dull beige', 32], ['clear red', 96], ['faded fuchsia', 96], ['dull beige', 24], ['plaid teal', 8], ['pale bronze', 20], ['dull teal', 12], ['light lavender', 40], ['dull beige', 32], ['bright crimson', 24], ['wavy tan', 8], ['shiny teal', 16], ['wavy turquoise', 12], ['dull beige', 16], ['wavy tan', 48], ['shiny teal', 96], ['clear red', 480], ['posh plum', 640], ['light lavender', 640], ['faded fuchsia', 640], ['plaid teal', 240], ['pale bronze', 48], ['wavy tan', 192], ['clear red', 48], ['shiny teal', 32], ['wavy turquoise', 16], ['vibrant aqua', 16], ['light lavender', 100], ['dull beige', 80], ['bright crimson', 60], ['vibrant salmon', 60], ['vibrant aqua', 36], ['wavy tan', 60], ['striped purple', 60], ['wavy tan', 48], ['shiny teal', 96], ['shiny teal', 960], ['wavy turquoise', 480], ['vibrant aqua', 480], ['light lavender', 240], ['dull beige', 192], ['bright crimson', 144], ['wavy turquoise', 48], ['dull beige', 64], ['wavy tan', 120], ['shiny teal', 240], ['shiny teal', 60], ['wavy turquoise', 108], ['dull beige', 144], ['faded fuchsia', 120], ['posh plum', 300]]\n",
      "[['shiny gold', 1], ['drab gray', 4], ['light coral', 4], ['clear violet', 16], ['mirrored red', 12], ['light silver', 4], ['wavy turquoise', 4], ['pale bronze', 8], ['clear aqua', 4], ['wavy turquoise', 80], ['light black', 80], ['mirrored indigo', 16], ['faded white', 32], ['muted beige', 60], ['faded white', 24], ['light green', 4], ['pale bronze', 8], ['bright crimson', 4], ['vibrant aqua', 4], ['light lavender', 40], ['dull beige', 32], ['bright crimson', 24], ['light lavender', 160], ['dotted bronze', 160], ['wavy orange', 48], ['posh plum', 80], ['clear red', 128], ['faded fuchsia', 128], ['dull beige', 32], ['clear red', 96], ['faded fuchsia', 96], ['dull beige', 24], ['plaid teal', 8], ['pale bronze', 20], ['dull teal', 12], ['light lavender', 40], ['dull beige', 32], ['bright crimson', 24], ['wavy tan', 8], ['shiny teal', 16], ['wavy turquoise', 12], ['dull beige', 16], ['wavy tan', 48], ['shiny teal', 96], ['clear red', 480], ['posh plum', 640], ['light lavender', 640], ['faded fuchsia', 640], ['plaid teal', 240], ['pale bronze', 48], ['wavy tan', 192], ['clear red', 48], ['shiny teal', 32], ['wavy turquoise', 16], ['vibrant aqua', 16], ['light lavender', 100], ['dull beige', 80], ['bright crimson', 60], ['vibrant salmon', 60], ['vibrant aqua', 36], ['wavy tan', 60], ['striped purple', 60], ['wavy tan', 48], ['shiny teal', 96], ['shiny teal', 960], ['wavy turquoise', 480], ['vibrant aqua', 480], ['light lavender', 240], ['dull beige', 192], ['bright crimson', 144], ['wavy turquoise', 48], ['dull beige', 64], ['wavy tan', 120], ['shiny teal', 240], ['shiny teal', 60], ['wavy turquoise', 108], ['dull beige', 144], ['faded fuchsia', 120], ['posh plum', 300], ['wavy turquoise', 1440]]\n",
      "[['shiny gold', 1], ['drab gray', 4], ['light coral', 4], ['clear violet', 16], ['mirrored red', 12], ['light silver', 4], ['wavy turquoise', 4], ['pale bronze', 8], ['clear aqua', 4], ['wavy turquoise', 80], ['light black', 80], ['mirrored indigo', 16], ['faded white', 32], ['muted beige', 60], ['faded white', 24], ['light green', 4], ['pale bronze', 8], ['bright crimson', 4], ['vibrant aqua', 4], ['light lavender', 40], ['dull beige', 32], ['bright crimson', 24], ['light lavender', 160], ['dotted bronze', 160], ['wavy orange', 48], ['posh plum', 80], ['clear red', 128], ['faded fuchsia', 128], ['dull beige', 32], ['clear red', 96], ['faded fuchsia', 96], ['dull beige', 24], ['plaid teal', 8], ['pale bronze', 20], ['dull teal', 12], ['light lavender', 40], ['dull beige', 32], ['bright crimson', 24], ['wavy tan', 8], ['shiny teal', 16], ['wavy turquoise', 12], ['dull beige', 16], ['wavy tan', 48], ['shiny teal', 96], ['clear red', 480], ['posh plum', 640], ['light lavender', 640], ['faded fuchsia', 640], ['plaid teal', 240], ['pale bronze', 48], ['wavy tan', 192], ['clear red', 48], ['shiny teal', 32], ['wavy turquoise', 16], ['vibrant aqua', 16], ['light lavender', 100], ['dull beige', 80], ['bright crimson', 60], ['vibrant salmon', 60], ['vibrant aqua', 36], ['wavy tan', 60], ['striped purple', 60], ['wavy tan', 48], ['shiny teal', 96], ['shiny teal', 960], ['wavy turquoise', 480], ['vibrant aqua', 480], ['light lavender', 240], ['dull beige', 192], ['bright crimson', 144], ['wavy turquoise', 48], ['dull beige', 64], ['wavy tan', 120], ['shiny teal', 240], ['shiny teal', 60], ['wavy turquoise', 108], ['dull beige', 144], ['faded fuchsia', 120], ['posh plum', 300], ['wavy turquoise', 1440], ['dull beige', 1920]]\n",
      "[['shiny gold', 1], ['drab gray', 4], ['light coral', 4], ['clear violet', 16], ['mirrored red', 12], ['light silver', 4], ['wavy turquoise', 4], ['pale bronze', 8], ['clear aqua', 4], ['wavy turquoise', 80], ['light black', 80], ['mirrored indigo', 16], ['faded white', 32], ['muted beige', 60], ['faded white', 24], ['light green', 4], ['pale bronze', 8], ['bright crimson', 4], ['vibrant aqua', 4], ['light lavender', 40], ['dull beige', 32], ['bright crimson', 24], ['light lavender', 160], ['dotted bronze', 160], ['wavy orange', 48], ['posh plum', 80], ['clear red', 128], ['faded fuchsia', 128], ['dull beige', 32], ['clear red', 96], ['faded fuchsia', 96], ['dull beige', 24], ['plaid teal', 8], ['pale bronze', 20], ['dull teal', 12], ['light lavender', 40], ['dull beige', 32], ['bright crimson', 24], ['wavy tan', 8], ['shiny teal', 16], ['wavy turquoise', 12], ['dull beige', 16], ['wavy tan', 48], ['shiny teal', 96], ['clear red', 480], ['posh plum', 640], ['light lavender', 640], ['faded fuchsia', 640], ['plaid teal', 240], ['pale bronze', 48], ['wavy tan', 192], ['clear red', 48], ['shiny teal', 32], ['wavy turquoise', 16], ['vibrant aqua', 16], ['light lavender', 100], ['dull beige', 80], ['bright crimson', 60], ['vibrant salmon', 60], ['vibrant aqua', 36], ['wavy tan', 60], ['striped purple', 60], ['wavy tan', 48], ['shiny teal', 96], ['shiny teal', 960], ['wavy turquoise', 480], ['vibrant aqua', 480], ['light lavender', 240], ['dull beige', 192], ['bright crimson', 144], ['wavy turquoise', 48], ['dull beige', 64], ['wavy tan', 120], ['shiny teal', 240], ['shiny teal', 60], ['wavy turquoise', 108], ['dull beige', 144], ['faded fuchsia', 120], ['posh plum', 300], ['wavy turquoise', 1440], ['dull beige', 1920], ['wavy tan', 288]]\n",
      "[['shiny gold', 1], ['drab gray', 4], ['light coral', 4], ['clear violet', 16], ['mirrored red', 12], ['light silver', 4], ['wavy turquoise', 4], ['pale bronze', 8], ['clear aqua', 4], ['wavy turquoise', 80], ['light black', 80], ['mirrored indigo', 16], ['faded white', 32], ['muted beige', 60], ['faded white', 24], ['light green', 4], ['pale bronze', 8], ['bright crimson', 4], ['vibrant aqua', 4], ['light lavender', 40], ['dull beige', 32], ['bright crimson', 24], ['light lavender', 160], ['dotted bronze', 160], ['wavy orange', 48], ['posh plum', 80], ['clear red', 128], ['faded fuchsia', 128], ['dull beige', 32], ['clear red', 96], ['faded fuchsia', 96], ['dull beige', 24], ['plaid teal', 8], ['pale bronze', 20], ['dull teal', 12], ['light lavender', 40], ['dull beige', 32], ['bright crimson', 24], ['wavy tan', 8], ['shiny teal', 16], ['wavy turquoise', 12], ['dull beige', 16], ['wavy tan', 48], ['shiny teal', 96], ['clear red', 480], ['posh plum', 640], ['light lavender', 640], ['faded fuchsia', 640], ['plaid teal', 240], ['pale bronze', 48], ['wavy tan', 192], ['clear red', 48], ['shiny teal', 32], ['wavy turquoise', 16], ['vibrant aqua', 16], ['light lavender', 100], ['dull beige', 80], ['bright crimson', 60], ['vibrant salmon', 60], ['vibrant aqua', 36], ['wavy tan', 60], ['striped purple', 60], ['wavy tan', 48], ['shiny teal', 96], ['shiny teal', 960], ['wavy turquoise', 480], ['vibrant aqua', 480], ['light lavender', 240], ['dull beige', 192], ['bright crimson', 144], ['wavy turquoise', 48], ['dull beige', 64], ['wavy tan', 120], ['shiny teal', 240], ['shiny teal', 60], ['wavy turquoise', 108], ['dull beige', 144], ['faded fuchsia', 120], ['posh plum', 300], ['wavy turquoise', 1440], ['dull beige', 1920], ['wavy tan', 288], ['shiny teal', 576]]\n",
      "(1, 4, 4, 16, 12, 4, 4, 8, 4, 80, 80, 16, 32, 60, 24, 4, 8, 4, 4, 40, 32, 24, 160, 160, 48, 80, 128, 128, 32, 96, 96, 24, 8, 20, 12, 40, 32, 24, 8, 16, 12, 16, 48, 96, 480, 640, 640, 640, 240, 48, 192, 48, 32, 16, 16, 100, 80, 60, 60, 36, 60, 60, 48, 96, 960, 480, 480, 240, 192, 144, 48, 64, 120, 240, 60, 108, 144, 120, 300, 1440, 1920, 288, 576)\n",
      "13265\n"
     ]
    }
   ],
   "source": [
    "rules = {}\n",
    "\n",
    "inp = Input('07').read().strip().split('\\n')\n",
    "#inp = 'light red bags contain 1 bright white bag, 2 muted yellow bags.\\ndark orange bags contain 3 bright white bags, 4 muted yellow bags.\\nbright white bags contain 1 shiny gold bag.\\nmuted yellow bags contain 2 shiny gold bags, 9 faded blue bags.\\nshiny gold bags contain 1 dark olive bag, 2 vibrant plum bags.\\ndark olive bags contain 3 faded blue bags, 4 dotted black bags.\\nvibrant plum bags contain 5 faded blue bags, 6 dotted black bags.\\nfaded blue bags contain no other bags.\\ndotted black bags contain no other bags.'.split('\\n')\n",
    "#inp = 'shiny gold bags contain 2 dark red bags.\\ndark red bags contain 2 dark orange bags.\\ndark orange bags contain 2 dark yellow bags.\\ndark yellow bags contain 2 dark green bags.\\ndark green bags contain 2 dark blue bags.\\ndark blue bags contain 2 dark violet bags.\\ndark violet bags contain no other bags.'.split('\\n')\n",
    "\n",
    "for e in inp:\n",
    "    tmp = e.split('bags contain ')\n",
    "    elements = re.findall(r'(\\d+\\s\\w+\\s\\w+)+.', tmp[1])\n",
    "    for element in elements:\n",
    "        element = re.findall(r'(\\d+)\\s(\\w+\\s\\w+)', element)\n",
    "        rules.setdefault(tmp[0].strip(), []).append([element[0][1], element[0][0]])\n",
    "\n",
    "print(rules)\n",
    "        \n",
    "tree = [['shiny gold', 1]]\n",
    "\n",
    "i = 0\n",
    "\n",
    "while len(tree) > i:\n",
    "    try:\n",
    "        number = tree[i][1]\n",
    "        bags = rules[tree[i][0]]\n",
    "        for bag in bags:\n",
    "            tree.append([bag[0], int(bag[1]) * number])\n",
    "            print(tree)\n",
    "    except:\n",
    "        pass\n",
    "    i += 1\n",
    "print(list(zip(*tree))[1])\n",
    "print(sum(list(zip(*tree))[1]))"
   ]
  }
 ],
 "metadata": {
  "kernelspec": {
   "display_name": "Python 3",
   "language": "python",
   "name": "python3"
  },
  "language_info": {
   "codemirror_mode": {
    "name": "ipython",
    "version": 3
   },
   "file_extension": ".py",
   "mimetype": "text/x-python",
   "name": "python",
   "nbconvert_exporter": "python",
   "pygments_lexer": "ipython3",
   "version": "3.7.6"
  }
 },
 "nbformat": 4,
 "nbformat_minor": 4
}

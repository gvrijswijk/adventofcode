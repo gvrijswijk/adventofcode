{
 "cells": [
  {
   "cell_type": "markdown",
   "id": "347075f3-9332-483e-97e3-59aed6d0b336",
   "metadata": {},
   "source": [
    "# [Advent of Code 2024](https://adventofcode.com/2024 )"
   ]
  },
  {
   "cell_type": "markdown",
   "id": "433135d8-2c31-4862-a172-f548f01263ef",
   "metadata": {},
   "source": [
    "## General functions"
   ]
  },
  {
   "cell_type": "code",
   "execution_count": 1,
   "id": "cf691d31-cab8-40c3-b97d-ced5997985ee",
   "metadata": {},
   "outputs": [],
   "source": [
    "import re\n",
    "import itertools\n",
    "import math\n",
    "from operator import itemgetter\n",
    "\n",
    "# import matplotlib.pyplot as plt\n",
    "# import numpy as np\n",
    "\n",
    "import requests\n"
   ]
  },
  {
   "cell_type": "code",
   "execution_count": 2,
   "id": "41fd15b0-8cfa-416f-8b87-80acb3c64b01",
   "metadata": {},
   "outputs": [],
   "source": [
    "def Input(day, year=2024):\n",
    "    directory = '{}'.format(year)\n",
    "    filename = directory + '/input{}.txt'.format(day)\n",
    "    return open(filename)\n",
    "\n",
    "def Testdata(day, year=2024):\n",
    "    directory = '{}'.format(year)\n",
    "    filename = directory + '/testdata{}.txt'.format(day)\n",
    "    return open(filename)\n",
    "\n",
    "def mapt(fn, *args):\n",
    "    \"\"\"map(fn, *args) and return the result as a tuple.\"\"\"\n",
    "    return tuple(map(fn, *args))\n",
    "\n",
    "def parse(day, parser=str, sep='\\n', output='tuple') -> tuple:\n",
    "    \"\"\"Split the day's input file into entries separated by `sep`, and apply `parser` to each.\"\"\"\n",
    "    entries = open(f'2024/input{day}.txt').read().rstrip().split(sep)\n",
    "    return mapt(parser, entries)"
   ]
  },
  {
   "cell_type": "code",
   "execution_count": 3,
   "id": "6dde3e24-71c9-44f8-9626-b3a58fe4468b",
   "metadata": {},
   "outputs": [],
   "source": [
    "def findroots(a, b, c):\n",
    "    dis = b * b - 4 * a * c \n",
    "    sqrt_val = math.sqrt(abs(dis)) \n",
    "    if dis > 0:\n",
    "        return (-b + sqrt_val)/(2 * a), (-b - sqrt_val)/(2 * a)\n",
    "    elif dis == 0:\n",
    "        return -b / (2 * a)\n",
    "    else:\n",
    "        return - b / (2 * a), + i, sqrt_val,  - b / (2 * a), - i, sqrt_val"
   ]
  },
  {
   "cell_type": "markdown",
   "id": "c9067339-99a0-4ebd-bdb4-d2efa4ef9dc3",
   "metadata": {},
   "source": [
    "## [Day 1: Historian Hysteria](https://adventofcode.com/2024/day/1)"
   ]
  },
  {
   "cell_type": "code",
   "execution_count": 4,
   "id": "cf430841-7060-414a-b3d0-f6a188d7bbde",
   "metadata": {},
   "outputs": [],
   "source": [
    "def list_diff(lst1, lst2):\n",
    "    return [abs(e[0] - e[1]) for e in zip(sorted(lst1), sorted(lst2))]\n",
    "\n",
    "def parselst(str):\n",
    "    str = list(zip(*[e.split() for e in str.strip().split(\"\\n\")]))\n",
    "    lst1, lst2 = str\n",
    "    lst1 = [int(e) for e in lst1]\n",
    "    lst2 = [int(e) for e in lst2]\n",
    "    return lst1, lst2"
   ]
  },
  {
   "cell_type": "code",
   "execution_count": 5,
   "id": "e59db403-5e53-421d-acf3-19896fd1a1cc",
   "metadata": {},
   "outputs": [],
   "source": [
    "teststr = \"3   4\\n4   3\\n2   5\\n1   3\\n3   9\\n3   3\"\n",
    "assert sum(list_diff(*parselst(teststr)))==11"
   ]
  },
  {
   "cell_type": "code",
   "execution_count": 6,
   "id": "f84e4775-affd-42ca-b529-505af7ab373a",
   "metadata": {},
   "outputs": [
    {
     "data": {
      "text/plain": [
       "1110981"
      ]
     },
     "execution_count": 6,
     "metadata": {},
     "output_type": "execute_result"
    }
   ],
   "source": [
    "inp = Input('01').read()\n",
    "sum(list_diff(*parselst(inp)))"
   ]
  },
  {
   "cell_type": "code",
   "execution_count": 7,
   "id": "7133b59a-97ea-4e92-b461-4490b4296c62",
   "metadata": {},
   "outputs": [],
   "source": [
    "def calibration_values(n, replace = False):\n",
    "    if replace == True:\n",
    "        n = [translate_string(e) for e in n]\n",
    "    else:\n",
    "        n = [re.findall(r'\\d', e) for e in n]\n",
    "    return [int(e[0] + e[-1]) for e in n]"
   ]
  },
  {
   "cell_type": "code",
   "execution_count": 8,
   "id": "8cdcc9bf-2986-4cf1-8b37-18f48b8f686c",
   "metadata": {},
   "outputs": [],
   "source": [
    "testdata = (\"1abc2\", \"pqr3stu8vwx\", \"a1b2c3d4e5f\", \"treb7uchet\")\n",
    "assert sum(calibration_values(testdata)) == 142"
   ]
  },
  {
   "cell_type": "code",
   "execution_count": 9,
   "id": "2613d8e6-53b5-445c-a445-477b89cc2ade",
   "metadata": {},
   "outputs": [
    {
     "name": "stdout",
     "output_type": "stream",
     "text": [
      "CPU times: user 1.33 ms, sys: 270 μs, total: 1.6 ms\n",
      "Wall time: 1.41 ms\n"
     ]
    },
    {
     "data": {
      "text/plain": [
       "54613"
      ]
     },
     "execution_count": 9,
     "metadata": {},
     "output_type": "execute_result"
    }
   ],
   "source": [
    "%time sum(calibration_values(parse('01')))"
   ]
  },
  {
   "cell_type": "code",
   "execution_count": 10,
   "id": "430a3f4c-2fab-426a-bd53-1088f325b7ef",
   "metadata": {},
   "outputs": [],
   "source": [
    "def translate_string(n):\n",
    "    r = []\n",
    "    d = [\"zero\", \"one\", \"two\", \"three\", \"four\", \"five\", \"six\", \"seven\", \"eight\", \"nine\"]\n",
    "    for i, c in enumerate(n):\n",
    "        if c.isdigit():\n",
    "            r.append(c)\n",
    "        for j, b in enumerate(d):\n",
    "            if n[i:].startswith(b):\n",
    "                r.append(str(j))\n",
    "    return ''.join(r)\n",
    "                "
   ]
  },
  {
   "cell_type": "code",
   "execution_count": 11,
   "id": "a5650b4e-e8c2-45ed-8a63-60380aebe827",
   "metadata": {
    "scrolled": true
   },
   "outputs": [],
   "source": [
    "testdata = (\"two1nine\", \"eightwothree\", \"abcone2threexyz\", \"xtwone3four\", \"4nineeightseven2\", \"zoneight234\", \"7pqrstsixteen\")\n",
    "assert(sum(calibration_values(testdata, True))) == 281"
   ]
  },
  {
   "cell_type": "code",
   "execution_count": 12,
   "id": "1e72809f-b242-4ab4-a054-d6edd4093a48",
   "metadata": {},
   "outputs": [
    {
     "name": "stdout",
     "output_type": "stream",
     "text": [
      "CPU times: user 10.2 ms, sys: 364 μs, total: 10.6 ms\n",
      "Wall time: 10.4 ms\n"
     ]
    },
    {
     "data": {
      "text/plain": [
       "54613"
      ]
     },
     "execution_count": 12,
     "metadata": {},
     "output_type": "execute_result"
    }
   ],
   "source": [
    "%time sum(calibration_values(parse('01'), True))"
   ]
  },
  {
   "cell_type": "code",
   "execution_count": 13,
   "id": "25a4ea51-b38a-46c7-9a8c-9651274ea1b5",
   "metadata": {},
   "outputs": [
    {
     "ename": "FileNotFoundError",
     "evalue": "[Errno 2] No such file or directory: '2024/input02.txt'",
     "output_type": "error",
     "traceback": [
      "\u001b[0;31m---------------------------------------------------------------------------\u001b[0m",
      "\u001b[0;31mFileNotFoundError\u001b[0m                         Traceback (most recent call last)",
      "File \u001b[0;32m<timed eval>:1\u001b[0m\n",
      "Cell \u001b[0;32mIn[2], line 4\u001b[0m, in \u001b[0;36mInput\u001b[0;34m(day, year)\u001b[0m\n\u001b[1;32m      2\u001b[0m directory \u001b[38;5;241m=\u001b[39m \u001b[38;5;124m'\u001b[39m\u001b[38;5;132;01m{}\u001b[39;00m\u001b[38;5;124m'\u001b[39m\u001b[38;5;241m.\u001b[39mformat(year)\n\u001b[1;32m      3\u001b[0m filename \u001b[38;5;241m=\u001b[39m directory \u001b[38;5;241m+\u001b[39m \u001b[38;5;124m'\u001b[39m\u001b[38;5;124m/input\u001b[39m\u001b[38;5;132;01m{}\u001b[39;00m\u001b[38;5;124m.txt\u001b[39m\u001b[38;5;124m'\u001b[39m\u001b[38;5;241m.\u001b[39mformat(day)\n\u001b[0;32m----> 4\u001b[0m \u001b[38;5;28;01mreturn\u001b[39;00m \u001b[38;5;28;43mopen\u001b[39;49m\u001b[43m(\u001b[49m\u001b[43mfilename\u001b[49m\u001b[43m)\u001b[49m\n",
      "File \u001b[0;32m/opt/homebrew/Cellar/jupyterlab/4.3.1_1/libexec/lib/python3.12/site-packages/IPython/core/interactiveshell.py:324\u001b[0m, in \u001b[0;36m_modified_open\u001b[0;34m(file, *args, **kwargs)\u001b[0m\n\u001b[1;32m    317\u001b[0m \u001b[38;5;28;01mif\u001b[39;00m file \u001b[38;5;129;01min\u001b[39;00m {\u001b[38;5;241m0\u001b[39m, \u001b[38;5;241m1\u001b[39m, \u001b[38;5;241m2\u001b[39m}:\n\u001b[1;32m    318\u001b[0m     \u001b[38;5;28;01mraise\u001b[39;00m \u001b[38;5;167;01mValueError\u001b[39;00m(\n\u001b[1;32m    319\u001b[0m         \u001b[38;5;124mf\u001b[39m\u001b[38;5;124m\"\u001b[39m\u001b[38;5;124mIPython won\u001b[39m\u001b[38;5;124m'\u001b[39m\u001b[38;5;124mt let you open fd=\u001b[39m\u001b[38;5;132;01m{\u001b[39;00mfile\u001b[38;5;132;01m}\u001b[39;00m\u001b[38;5;124m by default \u001b[39m\u001b[38;5;124m\"\u001b[39m\n\u001b[1;32m    320\u001b[0m         \u001b[38;5;124m\"\u001b[39m\u001b[38;5;124mas it is likely to crash IPython. If you know what you are doing, \u001b[39m\u001b[38;5;124m\"\u001b[39m\n\u001b[1;32m    321\u001b[0m         \u001b[38;5;124m\"\u001b[39m\u001b[38;5;124myou can use builtins\u001b[39m\u001b[38;5;124m'\u001b[39m\u001b[38;5;124m open.\u001b[39m\u001b[38;5;124m\"\u001b[39m\n\u001b[1;32m    322\u001b[0m     )\n\u001b[0;32m--> 324\u001b[0m \u001b[38;5;28;01mreturn\u001b[39;00m \u001b[43mio_open\u001b[49m\u001b[43m(\u001b[49m\u001b[43mfile\u001b[49m\u001b[43m,\u001b[49m\u001b[43m \u001b[49m\u001b[38;5;241;43m*\u001b[39;49m\u001b[43margs\u001b[49m\u001b[43m,\u001b[49m\u001b[43m \u001b[49m\u001b[38;5;241;43m*\u001b[39;49m\u001b[38;5;241;43m*\u001b[39;49m\u001b[43mkwargs\u001b[49m\u001b[43m)\u001b[49m\n",
      "\u001b[0;31mFileNotFoundError\u001b[0m: [Errno 2] No such file or directory: '2024/input02.txt'"
     ]
    }
   ],
   "source": [
    "def combinations(n, red = None, green = None, blue = None):\n",
    "    d = {\"red\": red, \"green\": green, \"blue\": blue}\n",
    "    n = [[d[k] >= int(v) for v, k in re.findall(r'(\\d+) (\\w+)', m)] for m in n]\n",
    "    return [i + 1 if False not in m else 0 for i, m in enumerate(n)]\n",
    "\n",
    "%time sum(combinations(Input('02').readlines(), 12, 13, 14))"
   ]
  },
  {
   "cell_type": "code",
   "execution_count": 14,
   "id": "ad4e5551-cbb9-4031-83c7-9fea96ca1149",
   "metadata": {},
   "outputs": [],
   "source": [
    "testdata = \"Game 1: 3 blue, 4 red; 1 red, 2 green, 6 blue; 2 green\\nGame 2: 1 blue, 2 green; 3 green, 4 blue, 1 red; 1 green, 1 blue\\nGame 3: 8 green, 6 blue, 20 red; 5 blue, 4 red, 13 green; 5 green, 1 red\\nGame 4: 1 green, 3 red, 6 blue; 3 green, 6 red; 3 green, 15 blue, 14 red\\nGame 5: 6 red, 1 blue, 3 green; 2 blue, 1 red, 2 green\""
   ]
  },
  {
   "cell_type": "code",
   "execution_count": 15,
   "id": "607bcee0-3b2a-4226-bdd5-839cdab8233e",
   "metadata": {},
   "outputs": [],
   "source": [
    "def fewest_possible(n):\n",
    "    r = []\n",
    "    for m in n:\n",
    "        m = re.findall(r'(\\d+) (\\w+)', m)\n",
    "        t = {}\n",
    "        for v, k in m:\n",
    "            t[k] = max(t.get(k, 0), int(v))\n",
    "        r.append(t.values())\n",
    "    return r"
   ]
  },
  {
   "cell_type": "code",
   "execution_count": 16,
   "id": "cba918b6-d7bd-4312-b700-c732387fab19",
   "metadata": {},
   "outputs": [],
   "source": [
    "assert sum([math.prod(e) for e in fewest_possible(testdata.split(\"\\n\"))])==2286"
   ]
  },
  {
   "cell_type": "code",
   "execution_count": 17,
   "id": "705cb3d7-4452-4261-9281-f14816543ff0",
   "metadata": {},
   "outputs": [
    {
     "ename": "FileNotFoundError",
     "evalue": "[Errno 2] No such file or directory: '2024/input02.txt'",
     "output_type": "error",
     "traceback": [
      "\u001b[0;31m---------------------------------------------------------------------------\u001b[0m",
      "\u001b[0;31mFileNotFoundError\u001b[0m                         Traceback (most recent call last)",
      "File \u001b[0;32m<timed eval>:1\u001b[0m\n",
      "Cell \u001b[0;32mIn[2], line 4\u001b[0m, in \u001b[0;36mInput\u001b[0;34m(day, year)\u001b[0m\n\u001b[1;32m      2\u001b[0m directory \u001b[38;5;241m=\u001b[39m \u001b[38;5;124m'\u001b[39m\u001b[38;5;132;01m{}\u001b[39;00m\u001b[38;5;124m'\u001b[39m\u001b[38;5;241m.\u001b[39mformat(year)\n\u001b[1;32m      3\u001b[0m filename \u001b[38;5;241m=\u001b[39m directory \u001b[38;5;241m+\u001b[39m \u001b[38;5;124m'\u001b[39m\u001b[38;5;124m/input\u001b[39m\u001b[38;5;132;01m{}\u001b[39;00m\u001b[38;5;124m.txt\u001b[39m\u001b[38;5;124m'\u001b[39m\u001b[38;5;241m.\u001b[39mformat(day)\n\u001b[0;32m----> 4\u001b[0m \u001b[38;5;28;01mreturn\u001b[39;00m \u001b[38;5;28;43mopen\u001b[39;49m\u001b[43m(\u001b[49m\u001b[43mfilename\u001b[49m\u001b[43m)\u001b[49m\n",
      "File \u001b[0;32m/opt/homebrew/Cellar/jupyterlab/4.3.1_1/libexec/lib/python3.12/site-packages/IPython/core/interactiveshell.py:324\u001b[0m, in \u001b[0;36m_modified_open\u001b[0;34m(file, *args, **kwargs)\u001b[0m\n\u001b[1;32m    317\u001b[0m \u001b[38;5;28;01mif\u001b[39;00m file \u001b[38;5;129;01min\u001b[39;00m {\u001b[38;5;241m0\u001b[39m, \u001b[38;5;241m1\u001b[39m, \u001b[38;5;241m2\u001b[39m}:\n\u001b[1;32m    318\u001b[0m     \u001b[38;5;28;01mraise\u001b[39;00m \u001b[38;5;167;01mValueError\u001b[39;00m(\n\u001b[1;32m    319\u001b[0m         \u001b[38;5;124mf\u001b[39m\u001b[38;5;124m\"\u001b[39m\u001b[38;5;124mIPython won\u001b[39m\u001b[38;5;124m'\u001b[39m\u001b[38;5;124mt let you open fd=\u001b[39m\u001b[38;5;132;01m{\u001b[39;00mfile\u001b[38;5;132;01m}\u001b[39;00m\u001b[38;5;124m by default \u001b[39m\u001b[38;5;124m\"\u001b[39m\n\u001b[1;32m    320\u001b[0m         \u001b[38;5;124m\"\u001b[39m\u001b[38;5;124mas it is likely to crash IPython. If you know what you are doing, \u001b[39m\u001b[38;5;124m\"\u001b[39m\n\u001b[1;32m    321\u001b[0m         \u001b[38;5;124m\"\u001b[39m\u001b[38;5;124myou can use builtins\u001b[39m\u001b[38;5;124m'\u001b[39m\u001b[38;5;124m open.\u001b[39m\u001b[38;5;124m\"\u001b[39m\n\u001b[1;32m    322\u001b[0m     )\n\u001b[0;32m--> 324\u001b[0m \u001b[38;5;28;01mreturn\u001b[39;00m \u001b[43mio_open\u001b[49m\u001b[43m(\u001b[49m\u001b[43mfile\u001b[49m\u001b[43m,\u001b[49m\u001b[43m \u001b[49m\u001b[38;5;241;43m*\u001b[39;49m\u001b[43margs\u001b[49m\u001b[43m,\u001b[49m\u001b[43m \u001b[49m\u001b[38;5;241;43m*\u001b[39;49m\u001b[38;5;241;43m*\u001b[39;49m\u001b[43mkwargs\u001b[49m\u001b[43m)\u001b[49m\n",
      "\u001b[0;31mFileNotFoundError\u001b[0m: [Errno 2] No such file or directory: '2024/input02.txt'"
     ]
    }
   ],
   "source": [
    "%time sum([math.prod(e) for e in fewest_possible(Input('02').readlines())])"
   ]
  },
  {
   "cell_type": "code",
   "execution_count": 18,
   "id": "4bc50549-7b4b-4914-9da7-7e1d08d12450",
   "metadata": {},
   "outputs": [],
   "source": [
    "testdata = \"467..114..\\n...*......\\n..35..633.\\n......#...\\n617*......\\n.....+.58.\\n..592.....\\n......755.\\n...$.*....\\n.664.598..\""
   ]
  },
  {
   "cell_type": "code",
   "execution_count": 19,
   "id": "3fd2f810-d827-4b1c-a4b8-453bf36bcef1",
   "metadata": {
    "scrolled": true
   },
   "outputs": [
    {
     "data": {
      "text/plain": [
       "[467, 35, 633, 617, 592, 755, 664, 598]"
      ]
     },
     "execution_count": 19,
     "metadata": {},
     "output_type": "execute_result"
    }
   ],
   "source": [
    "def str_to_lst(n):\n",
    "    d = {}\n",
    "    for i, e in enumerate(n.split()):\n",
    "        for j, f in enumerate(e):\n",
    "            d[(i, j)] = f\n",
    "    return d\n",
    "\n",
    "def neighbours8(i, j):\n",
    "    return (i - 1, j - 1), (i - 1, j),(i - 1, j + 1), (i, j - 1),(i, j + 1),(i + 1, j - 1),(i + 1, j),(i + 1, j + 1),\n",
    "\n",
    "def symbol_neighbours(n):\n",
    "    grid = str_to_lst(n)\n",
    "    nbs = {}\n",
    "    for k, v in grid.items():\n",
    "        if v.isdigit():\n",
    "            nbs[k] = True in [True if not grid.get(nb, \".\").isdigit() and grid.get(nb, \".\") != \".\" else False for nb in neighbours8(*k)]\n",
    "    return nbs\n",
    "\n",
    "def part_numbers(n):\n",
    "    part_numbers = []\n",
    "    grid = str_to_lst(n)\n",
    "    lst = symbol_neighbours(n)\n",
    "    string = \"\"\n",
    "    l = []\n",
    "    for k, v in lst.items():\n",
    "        i, j = k\n",
    "        if (i, j - 1) in lst:\n",
    "            string = string + str(grid[k])\n",
    "            l.append(v)\n",
    "        else:\n",
    "            if True in l:\n",
    "                part_numbers.append(int(string))\n",
    "            string = str(grid[k])\n",
    "            l = [v]\n",
    "    if True in l:\n",
    "        part_numbers.append(int(string))\n",
    "    return part_numbers\n",
    "\n",
    "part_numbers(testdata)"
   ]
  },
  {
   "cell_type": "code",
   "execution_count": 20,
   "id": "530a96fa-a34b-4cfc-9b65-f6eaa8598d0d",
   "metadata": {},
   "outputs": [],
   "source": [
    "assert sum(part_numbers(testdata))==4361"
   ]
  },
  {
   "cell_type": "code",
   "execution_count": 21,
   "id": "94e238ed-c6ca-49cf-8de2-21e03714ef5a",
   "metadata": {},
   "outputs": [
    {
     "ename": "FileNotFoundError",
     "evalue": "[Errno 2] No such file or directory: '2024/input03.txt'",
     "output_type": "error",
     "traceback": [
      "\u001b[0;31m---------------------------------------------------------------------------\u001b[0m",
      "\u001b[0;31mFileNotFoundError\u001b[0m                         Traceback (most recent call last)",
      "File \u001b[0;32m<timed eval>:1\u001b[0m\n",
      "Cell \u001b[0;32mIn[2], line 4\u001b[0m, in \u001b[0;36mInput\u001b[0;34m(day, year)\u001b[0m\n\u001b[1;32m      2\u001b[0m directory \u001b[38;5;241m=\u001b[39m \u001b[38;5;124m'\u001b[39m\u001b[38;5;132;01m{}\u001b[39;00m\u001b[38;5;124m'\u001b[39m\u001b[38;5;241m.\u001b[39mformat(year)\n\u001b[1;32m      3\u001b[0m filename \u001b[38;5;241m=\u001b[39m directory \u001b[38;5;241m+\u001b[39m \u001b[38;5;124m'\u001b[39m\u001b[38;5;124m/input\u001b[39m\u001b[38;5;132;01m{}\u001b[39;00m\u001b[38;5;124m.txt\u001b[39m\u001b[38;5;124m'\u001b[39m\u001b[38;5;241m.\u001b[39mformat(day)\n\u001b[0;32m----> 4\u001b[0m \u001b[38;5;28;01mreturn\u001b[39;00m \u001b[38;5;28;43mopen\u001b[39;49m\u001b[43m(\u001b[49m\u001b[43mfilename\u001b[49m\u001b[43m)\u001b[49m\n",
      "File \u001b[0;32m/opt/homebrew/Cellar/jupyterlab/4.3.1_1/libexec/lib/python3.12/site-packages/IPython/core/interactiveshell.py:324\u001b[0m, in \u001b[0;36m_modified_open\u001b[0;34m(file, *args, **kwargs)\u001b[0m\n\u001b[1;32m    317\u001b[0m \u001b[38;5;28;01mif\u001b[39;00m file \u001b[38;5;129;01min\u001b[39;00m {\u001b[38;5;241m0\u001b[39m, \u001b[38;5;241m1\u001b[39m, \u001b[38;5;241m2\u001b[39m}:\n\u001b[1;32m    318\u001b[0m     \u001b[38;5;28;01mraise\u001b[39;00m \u001b[38;5;167;01mValueError\u001b[39;00m(\n\u001b[1;32m    319\u001b[0m         \u001b[38;5;124mf\u001b[39m\u001b[38;5;124m\"\u001b[39m\u001b[38;5;124mIPython won\u001b[39m\u001b[38;5;124m'\u001b[39m\u001b[38;5;124mt let you open fd=\u001b[39m\u001b[38;5;132;01m{\u001b[39;00mfile\u001b[38;5;132;01m}\u001b[39;00m\u001b[38;5;124m by default \u001b[39m\u001b[38;5;124m\"\u001b[39m\n\u001b[1;32m    320\u001b[0m         \u001b[38;5;124m\"\u001b[39m\u001b[38;5;124mas it is likely to crash IPython. If you know what you are doing, \u001b[39m\u001b[38;5;124m\"\u001b[39m\n\u001b[1;32m    321\u001b[0m         \u001b[38;5;124m\"\u001b[39m\u001b[38;5;124myou can use builtins\u001b[39m\u001b[38;5;124m'\u001b[39m\u001b[38;5;124m open.\u001b[39m\u001b[38;5;124m\"\u001b[39m\n\u001b[1;32m    322\u001b[0m     )\n\u001b[0;32m--> 324\u001b[0m \u001b[38;5;28;01mreturn\u001b[39;00m \u001b[43mio_open\u001b[49m\u001b[43m(\u001b[49m\u001b[43mfile\u001b[49m\u001b[43m,\u001b[49m\u001b[43m \u001b[49m\u001b[38;5;241;43m*\u001b[39;49m\u001b[43margs\u001b[49m\u001b[43m,\u001b[49m\u001b[43m \u001b[49m\u001b[38;5;241;43m*\u001b[39;49m\u001b[38;5;241;43m*\u001b[39;49m\u001b[43mkwargs\u001b[49m\u001b[43m)\u001b[49m\n",
      "\u001b[0;31mFileNotFoundError\u001b[0m: [Errno 2] No such file or directory: '2024/input03.txt'"
     ]
    }
   ],
   "source": [
    "%time sum(part_numbers(Input('03').read()))"
   ]
  },
  {
   "cell_type": "code",
   "execution_count": 22,
   "id": "af29290b-7ab5-4632-83e2-8f13782d13df",
   "metadata": {},
   "outputs": [],
   "source": [
    "def gear_ratios(n):\n",
    "    grid = str_to_lst(n)\n",
    "    numbers = {}\n",
    "    l = []\n",
    "    gears = []\n",
    "    for k, v in grid.items():\n",
    "        i, j = k\n",
    "        if v == \"*\":\n",
    "            gears.append(k)\n",
    "        if v.isdigit():\n",
    "            if grid.get((i, j - 1), \".\").isdigit():\n",
    "                l.append(v)\n",
    "                c.append(k)\n",
    "            else:\n",
    "                l = [v]\n",
    "                c = [k]\n",
    "        elif len(l) > 0:\n",
    "            for cc in c:\n",
    "                numbers[cc] = int(''.join(l))\n",
    "    som = 0\n",
    "    for gear in gears:\n",
    "        nbs = set([numbers[nb] for nb in neighbours8(*gear) if nb in numbers])\n",
    "        if len(nbs) == 2:\n",
    "            som += math.prod(nbs)\n",
    "\n",
    "    return som"
   ]
  },
  {
   "cell_type": "code",
   "execution_count": 23,
   "id": "01b1c775-4df3-4bfe-a42d-cdc58461ee51",
   "metadata": {},
   "outputs": [],
   "source": [
    "assert gear_ratios(testdata) == 467835"
   ]
  },
  {
   "cell_type": "code",
   "execution_count": 24,
   "id": "c178ec44-0d8d-4901-a9a5-6907e0eb458a",
   "metadata": {},
   "outputs": [
    {
     "ename": "FileNotFoundError",
     "evalue": "[Errno 2] No such file or directory: '2024/input03.txt'",
     "output_type": "error",
     "traceback": [
      "\u001b[0;31m---------------------------------------------------------------------------\u001b[0m",
      "\u001b[0;31mFileNotFoundError\u001b[0m                         Traceback (most recent call last)",
      "File \u001b[0;32m<timed eval>:1\u001b[0m\n",
      "Cell \u001b[0;32mIn[2], line 4\u001b[0m, in \u001b[0;36mInput\u001b[0;34m(day, year)\u001b[0m\n\u001b[1;32m      2\u001b[0m directory \u001b[38;5;241m=\u001b[39m \u001b[38;5;124m'\u001b[39m\u001b[38;5;132;01m{}\u001b[39;00m\u001b[38;5;124m'\u001b[39m\u001b[38;5;241m.\u001b[39mformat(year)\n\u001b[1;32m      3\u001b[0m filename \u001b[38;5;241m=\u001b[39m directory \u001b[38;5;241m+\u001b[39m \u001b[38;5;124m'\u001b[39m\u001b[38;5;124m/input\u001b[39m\u001b[38;5;132;01m{}\u001b[39;00m\u001b[38;5;124m.txt\u001b[39m\u001b[38;5;124m'\u001b[39m\u001b[38;5;241m.\u001b[39mformat(day)\n\u001b[0;32m----> 4\u001b[0m \u001b[38;5;28;01mreturn\u001b[39;00m \u001b[38;5;28;43mopen\u001b[39;49m\u001b[43m(\u001b[49m\u001b[43mfilename\u001b[49m\u001b[43m)\u001b[49m\n",
      "File \u001b[0;32m/opt/homebrew/Cellar/jupyterlab/4.3.1_1/libexec/lib/python3.12/site-packages/IPython/core/interactiveshell.py:324\u001b[0m, in \u001b[0;36m_modified_open\u001b[0;34m(file, *args, **kwargs)\u001b[0m\n\u001b[1;32m    317\u001b[0m \u001b[38;5;28;01mif\u001b[39;00m file \u001b[38;5;129;01min\u001b[39;00m {\u001b[38;5;241m0\u001b[39m, \u001b[38;5;241m1\u001b[39m, \u001b[38;5;241m2\u001b[39m}:\n\u001b[1;32m    318\u001b[0m     \u001b[38;5;28;01mraise\u001b[39;00m \u001b[38;5;167;01mValueError\u001b[39;00m(\n\u001b[1;32m    319\u001b[0m         \u001b[38;5;124mf\u001b[39m\u001b[38;5;124m\"\u001b[39m\u001b[38;5;124mIPython won\u001b[39m\u001b[38;5;124m'\u001b[39m\u001b[38;5;124mt let you open fd=\u001b[39m\u001b[38;5;132;01m{\u001b[39;00mfile\u001b[38;5;132;01m}\u001b[39;00m\u001b[38;5;124m by default \u001b[39m\u001b[38;5;124m\"\u001b[39m\n\u001b[1;32m    320\u001b[0m         \u001b[38;5;124m\"\u001b[39m\u001b[38;5;124mas it is likely to crash IPython. If you know what you are doing, \u001b[39m\u001b[38;5;124m\"\u001b[39m\n\u001b[1;32m    321\u001b[0m         \u001b[38;5;124m\"\u001b[39m\u001b[38;5;124myou can use builtins\u001b[39m\u001b[38;5;124m'\u001b[39m\u001b[38;5;124m open.\u001b[39m\u001b[38;5;124m\"\u001b[39m\n\u001b[1;32m    322\u001b[0m     )\n\u001b[0;32m--> 324\u001b[0m \u001b[38;5;28;01mreturn\u001b[39;00m \u001b[43mio_open\u001b[49m\u001b[43m(\u001b[49m\u001b[43mfile\u001b[49m\u001b[43m,\u001b[49m\u001b[43m \u001b[49m\u001b[38;5;241;43m*\u001b[39;49m\u001b[43margs\u001b[49m\u001b[43m,\u001b[49m\u001b[43m \u001b[49m\u001b[38;5;241;43m*\u001b[39;49m\u001b[38;5;241;43m*\u001b[39;49m\u001b[43mkwargs\u001b[49m\u001b[43m)\u001b[49m\n",
      "\u001b[0;31mFileNotFoundError\u001b[0m: [Errno 2] No such file or directory: '2024/input03.txt'"
     ]
    }
   ],
   "source": [
    "%time gear_ratios(Input('03').read())"
   ]
  },
  {
   "cell_type": "code",
   "execution_count": 25,
   "id": "2ddf21a8-4760-4579-9888-b88aa08c3539",
   "metadata": {},
   "outputs": [],
   "source": [
    "testdata = \"Card 1: 41 48 83 86 17 | 83 86  6 31 17  9 48 53\\nCard 2: 13 32 20 16 61 | 61 30 68 82 17 32 24 19\\nCard 3:  1 21 53 59 44 | 69 82 63 72 16 21 14  1\\nCard 4: 41 92 73 84 69 | 59 84 76 51 58  5 54 83\\nCard 5: 87 83 26 28 32 | 88 30 70 12 93 22 82 36\\nCard 6: 31 18 13 56 72 | 74 77 10 23 35 67 36 11\""
   ]
  },
  {
   "cell_type": "code",
   "execution_count": 26,
   "id": "60f3e066-1e29-41be-9822-f7fd2aa77062",
   "metadata": {},
   "outputs": [],
   "source": [
    "def cards_worth(n):\n",
    "    n = n.strip().split(\"\\n\")\n",
    "    r = 0\n",
    "    for e in n:\n",
    "        c = [f.split() for f in e.split(\":\")[1].split(\"|\")]\n",
    "        c = [1 for e in c[0] if e in c[1]]\n",
    "        if sum(c) > 0:\n",
    "            r += 2 ** (sum(c) - 1)\n",
    "    return r"
   ]
  },
  {
   "cell_type": "code",
   "execution_count": 27,
   "id": "60f0f8cd-81c5-402e-b80c-162fa3fb8ce2",
   "metadata": {},
   "outputs": [],
   "source": [
    "assert cards_worth(testdata) == 13"
   ]
  },
  {
   "cell_type": "code",
   "execution_count": 28,
   "id": "a9e65348-bf6c-4202-86a8-b5fb79fa08c5",
   "metadata": {},
   "outputs": [
    {
     "ename": "FileNotFoundError",
     "evalue": "[Errno 2] No such file or directory: '2024/input04.txt'",
     "output_type": "error",
     "traceback": [
      "\u001b[0;31m---------------------------------------------------------------------------\u001b[0m",
      "\u001b[0;31mFileNotFoundError\u001b[0m                         Traceback (most recent call last)",
      "File \u001b[0;32m<timed eval>:1\u001b[0m\n",
      "Cell \u001b[0;32mIn[2], line 4\u001b[0m, in \u001b[0;36mInput\u001b[0;34m(day, year)\u001b[0m\n\u001b[1;32m      2\u001b[0m directory \u001b[38;5;241m=\u001b[39m \u001b[38;5;124m'\u001b[39m\u001b[38;5;132;01m{}\u001b[39;00m\u001b[38;5;124m'\u001b[39m\u001b[38;5;241m.\u001b[39mformat(year)\n\u001b[1;32m      3\u001b[0m filename \u001b[38;5;241m=\u001b[39m directory \u001b[38;5;241m+\u001b[39m \u001b[38;5;124m'\u001b[39m\u001b[38;5;124m/input\u001b[39m\u001b[38;5;132;01m{}\u001b[39;00m\u001b[38;5;124m.txt\u001b[39m\u001b[38;5;124m'\u001b[39m\u001b[38;5;241m.\u001b[39mformat(day)\n\u001b[0;32m----> 4\u001b[0m \u001b[38;5;28;01mreturn\u001b[39;00m \u001b[38;5;28;43mopen\u001b[39;49m\u001b[43m(\u001b[49m\u001b[43mfilename\u001b[49m\u001b[43m)\u001b[49m\n",
      "File \u001b[0;32m/opt/homebrew/Cellar/jupyterlab/4.3.1_1/libexec/lib/python3.12/site-packages/IPython/core/interactiveshell.py:324\u001b[0m, in \u001b[0;36m_modified_open\u001b[0;34m(file, *args, **kwargs)\u001b[0m\n\u001b[1;32m    317\u001b[0m \u001b[38;5;28;01mif\u001b[39;00m file \u001b[38;5;129;01min\u001b[39;00m {\u001b[38;5;241m0\u001b[39m, \u001b[38;5;241m1\u001b[39m, \u001b[38;5;241m2\u001b[39m}:\n\u001b[1;32m    318\u001b[0m     \u001b[38;5;28;01mraise\u001b[39;00m \u001b[38;5;167;01mValueError\u001b[39;00m(\n\u001b[1;32m    319\u001b[0m         \u001b[38;5;124mf\u001b[39m\u001b[38;5;124m\"\u001b[39m\u001b[38;5;124mIPython won\u001b[39m\u001b[38;5;124m'\u001b[39m\u001b[38;5;124mt let you open fd=\u001b[39m\u001b[38;5;132;01m{\u001b[39;00mfile\u001b[38;5;132;01m}\u001b[39;00m\u001b[38;5;124m by default \u001b[39m\u001b[38;5;124m\"\u001b[39m\n\u001b[1;32m    320\u001b[0m         \u001b[38;5;124m\"\u001b[39m\u001b[38;5;124mas it is likely to crash IPython. If you know what you are doing, \u001b[39m\u001b[38;5;124m\"\u001b[39m\n\u001b[1;32m    321\u001b[0m         \u001b[38;5;124m\"\u001b[39m\u001b[38;5;124myou can use builtins\u001b[39m\u001b[38;5;124m'\u001b[39m\u001b[38;5;124m open.\u001b[39m\u001b[38;5;124m\"\u001b[39m\n\u001b[1;32m    322\u001b[0m     )\n\u001b[0;32m--> 324\u001b[0m \u001b[38;5;28;01mreturn\u001b[39;00m \u001b[43mio_open\u001b[49m\u001b[43m(\u001b[49m\u001b[43mfile\u001b[49m\u001b[43m,\u001b[49m\u001b[43m \u001b[49m\u001b[38;5;241;43m*\u001b[39;49m\u001b[43margs\u001b[49m\u001b[43m,\u001b[49m\u001b[43m \u001b[49m\u001b[38;5;241;43m*\u001b[39;49m\u001b[38;5;241;43m*\u001b[39;49m\u001b[43mkwargs\u001b[49m\u001b[43m)\u001b[49m\n",
      "\u001b[0;31mFileNotFoundError\u001b[0m: [Errno 2] No such file or directory: '2024/input04.txt'"
     ]
    }
   ],
   "source": [
    "%time cards_worth(Input('04').read())"
   ]
  },
  {
   "cell_type": "code",
   "execution_count": 29,
   "id": "4fdb51bc-3526-4ca8-8ec0-bde85a779720",
   "metadata": {},
   "outputs": [],
   "source": [
    "def number_of_cards(n):\n",
    "    n = [[f.split() for f in e.split(\":\")[1].split(\"|\")] for e in n.strip().split(\"\\n\")] \n",
    "    m = {i: 1 for i in range(len(n))}\n",
    "    for i, e in enumerate(n):\n",
    "        \n",
    "        c = [1 for f in e[0] if f in e[1]]\n",
    "        for j in range(1, sum(c) + 1):\n",
    "            m[i + j] = m[i + j] + m[i]\n",
    "    return sum(m.values())"
   ]
  },
  {
   "cell_type": "code",
   "execution_count": 30,
   "id": "5626e110-85e8-4c92-af74-33a76a4ffdf0",
   "metadata": {},
   "outputs": [],
   "source": [
    "assert number_of_cards(testdata) == 30"
   ]
  },
  {
   "cell_type": "code",
   "execution_count": 31,
   "id": "647c835d-8e49-4763-8c32-6f604be53014",
   "metadata": {},
   "outputs": [
    {
     "data": {
      "text/plain": [
       "30"
      ]
     },
     "execution_count": 31,
     "metadata": {},
     "output_type": "execute_result"
    }
   ],
   "source": [
    "number_of_cards(testdata)"
   ]
  },
  {
   "cell_type": "code",
   "execution_count": 32,
   "id": "538a5db3-8199-4297-951b-3474dfda15a7",
   "metadata": {},
   "outputs": [
    {
     "ename": "FileNotFoundError",
     "evalue": "[Errno 2] No such file or directory: '2024/input04.txt'",
     "output_type": "error",
     "traceback": [
      "\u001b[0;31m---------------------------------------------------------------------------\u001b[0m",
      "\u001b[0;31mFileNotFoundError\u001b[0m                         Traceback (most recent call last)",
      "File \u001b[0;32m<timed eval>:1\u001b[0m\n",
      "Cell \u001b[0;32mIn[2], line 4\u001b[0m, in \u001b[0;36mInput\u001b[0;34m(day, year)\u001b[0m\n\u001b[1;32m      2\u001b[0m directory \u001b[38;5;241m=\u001b[39m \u001b[38;5;124m'\u001b[39m\u001b[38;5;132;01m{}\u001b[39;00m\u001b[38;5;124m'\u001b[39m\u001b[38;5;241m.\u001b[39mformat(year)\n\u001b[1;32m      3\u001b[0m filename \u001b[38;5;241m=\u001b[39m directory \u001b[38;5;241m+\u001b[39m \u001b[38;5;124m'\u001b[39m\u001b[38;5;124m/input\u001b[39m\u001b[38;5;132;01m{}\u001b[39;00m\u001b[38;5;124m.txt\u001b[39m\u001b[38;5;124m'\u001b[39m\u001b[38;5;241m.\u001b[39mformat(day)\n\u001b[0;32m----> 4\u001b[0m \u001b[38;5;28;01mreturn\u001b[39;00m \u001b[38;5;28;43mopen\u001b[39;49m\u001b[43m(\u001b[49m\u001b[43mfilename\u001b[49m\u001b[43m)\u001b[49m\n",
      "File \u001b[0;32m/opt/homebrew/Cellar/jupyterlab/4.3.1_1/libexec/lib/python3.12/site-packages/IPython/core/interactiveshell.py:324\u001b[0m, in \u001b[0;36m_modified_open\u001b[0;34m(file, *args, **kwargs)\u001b[0m\n\u001b[1;32m    317\u001b[0m \u001b[38;5;28;01mif\u001b[39;00m file \u001b[38;5;129;01min\u001b[39;00m {\u001b[38;5;241m0\u001b[39m, \u001b[38;5;241m1\u001b[39m, \u001b[38;5;241m2\u001b[39m}:\n\u001b[1;32m    318\u001b[0m     \u001b[38;5;28;01mraise\u001b[39;00m \u001b[38;5;167;01mValueError\u001b[39;00m(\n\u001b[1;32m    319\u001b[0m         \u001b[38;5;124mf\u001b[39m\u001b[38;5;124m\"\u001b[39m\u001b[38;5;124mIPython won\u001b[39m\u001b[38;5;124m'\u001b[39m\u001b[38;5;124mt let you open fd=\u001b[39m\u001b[38;5;132;01m{\u001b[39;00mfile\u001b[38;5;132;01m}\u001b[39;00m\u001b[38;5;124m by default \u001b[39m\u001b[38;5;124m\"\u001b[39m\n\u001b[1;32m    320\u001b[0m         \u001b[38;5;124m\"\u001b[39m\u001b[38;5;124mas it is likely to crash IPython. If you know what you are doing, \u001b[39m\u001b[38;5;124m\"\u001b[39m\n\u001b[1;32m    321\u001b[0m         \u001b[38;5;124m\"\u001b[39m\u001b[38;5;124myou can use builtins\u001b[39m\u001b[38;5;124m'\u001b[39m\u001b[38;5;124m open.\u001b[39m\u001b[38;5;124m\"\u001b[39m\n\u001b[1;32m    322\u001b[0m     )\n\u001b[0;32m--> 324\u001b[0m \u001b[38;5;28;01mreturn\u001b[39;00m \u001b[43mio_open\u001b[49m\u001b[43m(\u001b[49m\u001b[43mfile\u001b[49m\u001b[43m,\u001b[49m\u001b[43m \u001b[49m\u001b[38;5;241;43m*\u001b[39;49m\u001b[43margs\u001b[49m\u001b[43m,\u001b[49m\u001b[43m \u001b[49m\u001b[38;5;241;43m*\u001b[39;49m\u001b[38;5;241;43m*\u001b[39;49m\u001b[43mkwargs\u001b[49m\u001b[43m)\u001b[49m\n",
      "\u001b[0;31mFileNotFoundError\u001b[0m: [Errno 2] No such file or directory: '2024/input04.txt'"
     ]
    }
   ],
   "source": [
    "%time number_of_cards(Input('04').read())"
   ]
  },
  {
   "cell_type": "code",
   "execution_count": 33,
   "id": "e47f8995-8538-4eac-a581-08a873408cf6",
   "metadata": {},
   "outputs": [
    {
     "ename": "FileNotFoundError",
     "evalue": "[Errno 2] No such file or directory: '2024/testdata07.txt'",
     "output_type": "error",
     "traceback": [
      "\u001b[0;31m---------------------------------------------------------------------------\u001b[0m",
      "\u001b[0;31mFileNotFoundError\u001b[0m                         Traceback (most recent call last)",
      "Cell \u001b[0;32mIn[33], line 1\u001b[0m\n\u001b[0;32m----> 1\u001b[0m testdata \u001b[38;5;241m=\u001b[39m \u001b[43mTestdata\u001b[49m\u001b[43m(\u001b[49m\u001b[38;5;124;43m'\u001b[39;49m\u001b[38;5;124;43m07\u001b[39;49m\u001b[38;5;124;43m'\u001b[39;49m\u001b[43m)\u001b[49m\u001b[38;5;241m.\u001b[39mread()\n",
      "Cell \u001b[0;32mIn[2], line 9\u001b[0m, in \u001b[0;36mTestdata\u001b[0;34m(day, year)\u001b[0m\n\u001b[1;32m      7\u001b[0m directory \u001b[38;5;241m=\u001b[39m \u001b[38;5;124m'\u001b[39m\u001b[38;5;132;01m{}\u001b[39;00m\u001b[38;5;124m'\u001b[39m\u001b[38;5;241m.\u001b[39mformat(year)\n\u001b[1;32m      8\u001b[0m filename \u001b[38;5;241m=\u001b[39m directory \u001b[38;5;241m+\u001b[39m \u001b[38;5;124m'\u001b[39m\u001b[38;5;124m/testdata\u001b[39m\u001b[38;5;132;01m{}\u001b[39;00m\u001b[38;5;124m.txt\u001b[39m\u001b[38;5;124m'\u001b[39m\u001b[38;5;241m.\u001b[39mformat(day)\n\u001b[0;32m----> 9\u001b[0m \u001b[38;5;28;01mreturn\u001b[39;00m \u001b[38;5;28;43mopen\u001b[39;49m\u001b[43m(\u001b[49m\u001b[43mfilename\u001b[49m\u001b[43m)\u001b[49m\n",
      "File \u001b[0;32m/opt/homebrew/Cellar/jupyterlab/4.3.1_1/libexec/lib/python3.12/site-packages/IPython/core/interactiveshell.py:324\u001b[0m, in \u001b[0;36m_modified_open\u001b[0;34m(file, *args, **kwargs)\u001b[0m\n\u001b[1;32m    317\u001b[0m \u001b[38;5;28;01mif\u001b[39;00m file \u001b[38;5;129;01min\u001b[39;00m {\u001b[38;5;241m0\u001b[39m, \u001b[38;5;241m1\u001b[39m, \u001b[38;5;241m2\u001b[39m}:\n\u001b[1;32m    318\u001b[0m     \u001b[38;5;28;01mraise\u001b[39;00m \u001b[38;5;167;01mValueError\u001b[39;00m(\n\u001b[1;32m    319\u001b[0m         \u001b[38;5;124mf\u001b[39m\u001b[38;5;124m\"\u001b[39m\u001b[38;5;124mIPython won\u001b[39m\u001b[38;5;124m'\u001b[39m\u001b[38;5;124mt let you open fd=\u001b[39m\u001b[38;5;132;01m{\u001b[39;00mfile\u001b[38;5;132;01m}\u001b[39;00m\u001b[38;5;124m by default \u001b[39m\u001b[38;5;124m\"\u001b[39m\n\u001b[1;32m    320\u001b[0m         \u001b[38;5;124m\"\u001b[39m\u001b[38;5;124mas it is likely to crash IPython. If you know what you are doing, \u001b[39m\u001b[38;5;124m\"\u001b[39m\n\u001b[1;32m    321\u001b[0m         \u001b[38;5;124m\"\u001b[39m\u001b[38;5;124myou can use builtins\u001b[39m\u001b[38;5;124m'\u001b[39m\u001b[38;5;124m open.\u001b[39m\u001b[38;5;124m\"\u001b[39m\n\u001b[1;32m    322\u001b[0m     )\n\u001b[0;32m--> 324\u001b[0m \u001b[38;5;28;01mreturn\u001b[39;00m \u001b[43mio_open\u001b[49m\u001b[43m(\u001b[49m\u001b[43mfile\u001b[49m\u001b[43m,\u001b[49m\u001b[43m \u001b[49m\u001b[38;5;241;43m*\u001b[39;49m\u001b[43margs\u001b[49m\u001b[43m,\u001b[49m\u001b[43m \u001b[49m\u001b[38;5;241;43m*\u001b[39;49m\u001b[38;5;241;43m*\u001b[39;49m\u001b[43mkwargs\u001b[49m\u001b[43m)\u001b[49m\n",
      "\u001b[0;31mFileNotFoundError\u001b[0m: [Errno 2] No such file or directory: '2024/testdata07.txt'"
     ]
    }
   ],
   "source": [
    "testdata = Testdata('07').read()"
   ]
  },
  {
   "cell_type": "code",
   "execution_count": null,
   "id": "292e446e-bf3a-4d64-9df9-f2f8944f2c32",
   "metadata": {},
   "outputs": [],
   "source": [
    "def parse_data(n):\n",
    "    d = {}\n",
    "    for e in n.strip().split(\"\\n\\n\"):\n",
    "        if e.startswith(\"seeds\"):\n",
    "            seeds = [int(f) for f in re.findall(r'(\\d+)', e)]\n",
    "        else:\n",
    "            e = e.split(\"\\n\")\n",
    "            name = e[0][:len(e[0]) - 5]\n",
    "            t = []\n",
    "            for f in e[1:]:\n",
    "                t.append([int(g) for g in f.split()])\n",
    "            d[name] = sorted(t, key=itemgetter(1))\n",
    "    return seeds, d  \n",
    "\n",
    "def solution(n, steps = None):\n",
    "    if steps == None:\n",
    "        steps = ['seed-to-soil', 'soil-to-fertilizer', 'fertilizer-to-water', 'water-to-light', 'light-to-temperature', 'temperature-to-humidity','humidity-to-location']\n",
    "    seeds, d = parse_data(n)\n",
    "    locs = []\n",
    "    for seed in seeds:\n",
    "        # print(\"-\"*30)\n",
    "        loc = seed\n",
    "        for step in steps:\n",
    "            for lst in d[step]:\n",
    "                if loc in range(lst[1], lst[1] + lst[2]):\n",
    "                    loc = lst[0] + loc - lst[1]\n",
    "                    # print(\"D\", step, d[step], loc)\n",
    "                    break\n",
    "        locs.append(loc)\n",
    "    return locs"
   ]
  },
  {
   "cell_type": "code",
   "execution_count": null,
   "id": "c0ef8472-8df4-449d-a265-ec9cff413b0a",
   "metadata": {},
   "outputs": [],
   "source": [
    "%time assert min(solution(testdata)) == 35"
   ]
  },
  {
   "cell_type": "code",
   "execution_count": null,
   "id": "4ec74719-97af-435c-834d-c7646b7b1afd",
   "metadata": {},
   "outputs": [],
   "source": [
    "%time min(solution(Input('05').read()))"
   ]
  },
  {
   "cell_type": "code",
   "execution_count": null,
   "id": "5fb52a81-910f-43f3-8f8a-bcaeb5be1f1d",
   "metadata": {},
   "outputs": [],
   "source": [
    "from operator import itemgetter \n",
    "\n",
    "def solution(n, steps = None):\n",
    "    if steps == None:\n",
    "        steps = ['seed-to-soil', 'soil-to-fertilizer', 'fertilizer-to-water', 'water-to-light', 'light-to-temperature', 'temperature-to-humidity','humidity-to-location']\n",
    "    seeds, d = parse_data(n)\n",
    "    seeds = [(x, x + y) for x, y in zip(seeds[::2], seeds[1::2])]\n",
    "    for step in steps:\n",
    "        # print(\"seeds\", seeds)\n",
    "        step = d[step]\n",
    "        t = []\n",
    "        for seedrange in seeds:\n",
    "            seedrange_low, seedrange_high = seedrange\n",
    "            for i, rng in enumerate(step):\n",
    "                range_low = rng[1]\n",
    "                range_high = rng[1] + rng[2]\n",
    "                range_shift = rng[0] - rng[1]\n",
    "                # print(\"in\", seedrange, (range_low, range_high), i, len(step))\n",
    "                if seedrange_high < range_low:\n",
    "                    t.append((seedrange_low, seedrange_high))\n",
    "                    break\n",
    "                elif seedrange_low < range_low and seedrange_high >= range_low:\n",
    "                    t.append((seedrange_low, range_low))\n",
    "                    seedrange_low = range_low\n",
    "                elif seedrange_low >= range_low and seedrange_high <= range_high:\n",
    "                    t.append((seedrange_low + range_shift, seedrange_high+ range_shift))\n",
    "                    break\n",
    "                elif seedrange_low >= range_low and seedrange_low < range_high and seedrange_high > range_high:\n",
    "                    t.append((seedrange_low + range_shift, range_high + range_shift))\n",
    "                    seedrange_low = range_high\n",
    "                elif i == len(step) - 1 and seedrange_low > range_high:\n",
    "                    t.append((seedrange_low, seedrange_high))\n",
    "            # print(\"uit\", t)\n",
    "        seeds = t\n",
    "    return min(list(zip(*seeds))[0])\n",
    "                    "
   ]
  },
  {
   "cell_type": "code",
   "execution_count": null,
   "id": "256e8eae-ff32-4c56-bef1-89a9183b6ba3",
   "metadata": {},
   "outputs": [],
   "source": [
    "%time assert solution(testdata) == 46"
   ]
  },
  {
   "cell_type": "code",
   "execution_count": null,
   "id": "f9e98f12-e667-4c93-b7be-590f87b799e4",
   "metadata": {},
   "outputs": [],
   "source": [
    "%time solution(Input('05').read())"
   ]
  },
  {
   "cell_type": "code",
   "execution_count": null,
   "id": "16327465-2a24-409f-a176-3eae7945a82a",
   "metadata": {},
   "outputs": [],
   "source": [
    "def speed(n):\n",
    "    return n\n",
    "\n",
    "def distance(m, n=None):\n",
    "    if n == None:\n",
    "        return [(i, (m - i) * speed(i)) for i in range(1, m)]\n",
    "    else:\n",
    "        return [(i, (m - i) * speed(i)) for i in range(1, m) if (m - i) * speed(i) > n]\n",
    "\n",
    "def score(n):\n",
    "    return math.prod([len(distance(e[0], e[1])) for e in zip(*n)])"
   ]
  },
  {
   "cell_type": "code",
   "execution_count": null,
   "id": "c5d293a4-6f66-4d40-83ce-c7c6aa06f898",
   "metadata": {},
   "outputs": [],
   "source": [
    "testdata = [[7, 15, 30], [9, 40, 200]]\n",
    "\n",
    "assert score(testdata) == 288 "
   ]
  },
  {
   "cell_type": "code",
   "execution_count": null,
   "id": "cd709f8c-d377-4f55-954c-6d77d2bad687",
   "metadata": {},
   "outputs": [],
   "source": [
    "day6 = [58, 81, 96, 76], [434, 1041, 2219, 1218]\n",
    "\n",
    "%time score(day6)"
   ]
  },
  {
   "cell_type": "code",
   "execution_count": null,
   "id": "6ca77a1a-3f68-4e8d-995c-fe1c22b39492",
   "metadata": {},
   "outputs": [],
   "source": [
    "day6 = [58819676, 434104122191218]"
   ]
  },
  {
   "cell_type": "code",
   "execution_count": null,
   "id": "869e8ce3-6aa1-45e6-a60c-5d0f49742b10",
   "metadata": {},
   "outputs": [],
   "source": [
    "def score(m, n=None):\n",
    "    sc = 0\n",
    "    for i in range(1, m):\n",
    "        dist = (m - i) * speed(i)\n",
    "        if dist > n:\n",
    "            sc += 1\n",
    "    return sc\n"
   ]
  },
  {
   "cell_type": "code",
   "execution_count": null,
   "id": "5a932d37-5ed5-4fa2-bd3e-a0c363a95ce4",
   "metadata": {},
   "outputs": [],
   "source": [
    "assert score(71530, 940200) == 71503"
   ]
  },
  {
   "cell_type": "code",
   "execution_count": null,
   "id": "6b56744f-19c3-4bb8-ac77-e18bfe5af86c",
   "metadata": {},
   "outputs": [],
   "source": [
    "%time score(58819676, 434104122191218)"
   ]
  },
  {
   "cell_type": "code",
   "execution_count": null,
   "id": "28ec4ae7-b902-4150-9a7c-fcd17430eb73",
   "metadata": {},
   "outputs": [],
   "source": [
    "%time \n",
    "\n",
    "t = findroots(1, -58819676, 434104122191218)\n",
    "int(t[0] - t[1])"
   ]
  },
  {
   "cell_type": "code",
   "execution_count": null,
   "id": "490cb4b4-2834-4119-9bf8-6b2c36a1ecbc",
   "metadata": {},
   "outputs": [],
   "source": [
    "def handrankings(n):\n",
    "    ranks = {'2': '01', '3': '02', '4': '03', '5': '04', '6': '05', '7': '06', '8': '07', '9': '08', 'T': '09', 'J': '10', 'Q': '11', 'K':'12', 'A': '13'}\n",
    "    hands = []\n",
    "    for hand, score in n:\n",
    "        f = [hand.count(cards) for cards in hand]\n",
    "        if 5 in [hand.count(cards) for cards in hand]:\n",
    "            string = \"70\"\n",
    "        elif 4 in [hand.count(cards) for cards in hand]:\n",
    "            string = \"60\"\n",
    "        elif 3 in [hand.count(cards) for cards in hand]:\n",
    "            if 2 in [hand.count(cards) for cards in hand]:\n",
    "                string = \"50\"\n",
    "            else:\n",
    "                string = \"40\"\n",
    "        elif 2 in [hand.count(cards) for cards in hand]:\n",
    "            if sum([hand.count(cards) for cards in hand]) == 9:\n",
    "                string = \"30\"\n",
    "            else:\n",
    "                string = \"20\"\n",
    "        else:\n",
    "            string = \"10\"\n",
    "        string = string + ''.join([ranks[card] for card in hand])\n",
    "        hands.append([int(string), score, hand, f])\n",
    "    return sorted(hands)\n",
    "    "
   ]
  },
  {
   "cell_type": "code",
   "execution_count": null,
   "id": "6a9215f2-0dba-49e8-b260-c04df1fe757b",
   "metadata": {},
   "outputs": [],
   "source": [
    "testdata = \"32T3K 765\\nT55J5 684\\nKK677 28\\nKTJJT 220\\nQQQJA 483\"\n",
    "testdata = [e.split() for e in testdata.split(\"\\n\")]"
   ]
  },
  {
   "cell_type": "code",
   "execution_count": null,
   "id": "554aafde-1ad7-48d8-9c09-bd15c23e6b16",
   "metadata": {},
   "outputs": [],
   "source": [
    "assert sum([(i + 1) * int(e[1]) for i, e in enumerate(handrankings(testdata))])==6440"
   ]
  },
  {
   "cell_type": "code",
   "execution_count": null,
   "id": "5360ffbf-ff67-472a-91ed-ae971012d47b",
   "metadata": {},
   "outputs": [],
   "source": [
    "input = [e.split() for e in parse('07')]\n",
    "%time sum([(i + 1) * int(e[1]) for i, e in enumerate(handrankings(input))])"
   ]
  },
  {
   "cell_type": "code",
   "execution_count": null,
   "id": "e07ad895-9c42-4f87-a67e-255d67246f63",
   "metadata": {},
   "outputs": [],
   "source": [
    "def translatehand(m, n=\"J\"):\n",
    "    ranks = {'2': '01', '3': '02', '4': '03', '5': '04', '6': '05', '7': '06', '8': '07', '9': '08', 'T': '09', 'J': '00', 'Q': '11', 'K':'12', 'A': '13'}\n",
    "    c = m.count(n)\n",
    "    g = [m.count(e) for e in m]\n",
    "    k = [int(ranks[e]) for e in m]\n",
    "    if c == 5:\n",
    "        m = \"AAAAA\"\n",
    "    if c == 4 or c == 3:\n",
    "        m = m.replace(n, m[k.index(max(k))])\n",
    "    if c == 2:\n",
    "        if g.count(2) == 4:\n",
    "            m = m.replace(n, [e for e, f in zip(m, g) if e != \"J\" and f ==2][0])\n",
    "        else:\n",
    "            m = m.replace(n, m[k.index(max(k))])\n",
    "    if c == 1:\n",
    "        if max(g) > 1:\n",
    "            m = m.replace(n, m[g.index(max(g))])\n",
    "        else:\n",
    "            m = m.replace(n, m[k.index(max(k))])\n",
    "            \n",
    "    return m\n",
    "\n",
    "def handrankings(n):\n",
    "    ranks = {'2': '01', '3': '02', '4': '03', '5': '04', '6': '05', '7': '06', '8': '07', '9': '08', 'T': '09', 'J': '00', 'Q': '11', 'K':'12', 'A': '13'}\n",
    "    hands = []\n",
    "    for hand, score in n:\n",
    "        oldhand = hand\n",
    "        oldstr = ''.join([ranks[card] for card in hand])\n",
    "        hand = translatehand(hand)\n",
    "        f = [hand.count(cards) for cards in hand]\n",
    "        if 5 in [hand.count(cards) for cards in hand]:\n",
    "            string = \"70\"\n",
    "        elif 4 in [hand.count(cards) for cards in hand]:\n",
    "            string = \"60\"\n",
    "        elif 3 in [hand.count(cards) for cards in hand]:\n",
    "            if 2 in [hand.count(cards) for cards in hand]:\n",
    "                string = \"50\"\n",
    "            else:\n",
    "                string = \"40\"\n",
    "        elif 2 in [hand.count(cards) for cards in hand]:\n",
    "            if sum([hand.count(cards) for cards in hand]) == 9:\n",
    "                string = \"30\"\n",
    "            else:\n",
    "                string = \"20\"\n",
    "        else:\n",
    "            string = \"10\"\n",
    "        # str = str + ''.join([ranks[card] for card in hand]) + oldstr\n",
    "        string = string + oldstr\n",
    "        hands.append([int(string), score, hand, f, oldhand])\n",
    "    return sorted(hands)"
   ]
  },
  {
   "cell_type": "code",
   "execution_count": null,
   "id": "b50d7aec-db68-42e3-b494-27810c9f4e28",
   "metadata": {},
   "outputs": [],
   "source": [
    "assert sum([(i + 1) * int(e[1]) for i, e in enumerate(handrankings(testdata))])"
   ]
  },
  {
   "cell_type": "code",
   "execution_count": null,
   "id": "65259a0d-d1d4-4222-bcd7-be609544d2ad",
   "metadata": {
    "scrolled": true
   },
   "outputs": [],
   "source": [
    "sum([(i + 1) * int(e[1]) for i, e in enumerate(handrankings(input))])"
   ]
  },
  {
   "cell_type": "code",
   "execution_count": null,
   "id": "5bc5e06f-0079-4aab-82d1-c17fd177128f",
   "metadata": {},
   "outputs": [],
   "source": [
    "testdata = \"LLR\\n\\nAAA = (BBB, BBB)\\nBBB = (AAA, ZZZ)\\nZZZ = (ZZZ, ZZZ)\\n\""
   ]
  },
  {
   "cell_type": "code",
   "execution_count": null,
   "id": "28426d12-6a4e-4039-aa12-93bd2d4d37e3",
   "metadata": {},
   "outputs": [],
   "source": [
    "def data_parser(n):\n",
    "    n = n.strip().split(\"\\n\\n\")\n",
    "    m = [int(e) for e in n[0].replace(\"L\", \"0\").replace(\"R\", \"1\")]\n",
    "    n = [e.split(\" = \") for e in n[1].split(\"\\n\")]\n",
    "    n = {e[0]: re. findall(r'(\\w+)', e[1]) for e in n}\n",
    "    return m, n\n",
    "\n",
    "def find_goal(n, next = \"AAA\", goal = \"ZZZ\"):\n",
    "    m, d = data_parser(n)\n",
    "    i = 0\n",
    "    while next != goal:\n",
    "        next = d[next][m[i % len(m)]]\n",
    "        i += 1\n",
    "    return i\n",
    "        "
   ]
  },
  {
   "cell_type": "code",
   "execution_count": null,
   "id": "2509bae0-c127-46f4-9d0c-b6773037bd7a",
   "metadata": {},
   "outputs": [],
   "source": [
    "assert find_goal(testdata) == 6"
   ]
  },
  {
   "cell_type": "code",
   "execution_count": null,
   "id": "9ef3a37e-1873-4e1f-9fa5-b954b584f4a0",
   "metadata": {},
   "outputs": [],
   "source": [
    "input = Input('08').read()"
   ]
  },
  {
   "cell_type": "code",
   "execution_count": null,
   "id": "bdc49291-2ecf-44bb-9115-e8970633e1df",
   "metadata": {},
   "outputs": [],
   "source": [
    "%time find_goal(input)"
   ]
  },
  {
   "cell_type": "code",
   "execution_count": null,
   "id": "7959882b-64f6-4b95-99a6-a6078edc8032",
   "metadata": {},
   "outputs": [],
   "source": [
    "testdata = \"LR\\n\\n11A = (11B, XXX)\\n11B = (XXX, 11Z)\\n11Z = (11B, XXX)\\n22A = (22B, XXX)\\n22B = (22C, 22C)\\n22C = (22Z, 22Z)\\n22Z = (22B, 22B)\\nXXX = (XXX, XXX)\""
   ]
  },
  {
   "cell_type": "code",
   "execution_count": null,
   "id": "17459b3a-593d-41c4-ae36-22bbf6fedcf8",
   "metadata": {},
   "outputs": [],
   "source": [
    "def find_goal(n):\n",
    "    m, d = data_parser(n)\n",
    "    paths = [e for e in d if e[-1] == \"A\"]\n",
    "    t = []\n",
    "    for e in paths:\n",
    "        i = 0\n",
    "        while e[-1] != \"Z\":\n",
    "            e = d[e][m[i % len(m)]]\n",
    "            i += 1\n",
    "        t.append(i)        \n",
    "    return math.lcm(*t)"
   ]
  },
  {
   "cell_type": "code",
   "execution_count": null,
   "id": "543d3499-3674-4f67-be70-c3abc5410b33",
   "metadata": {},
   "outputs": [],
   "source": [
    "assert find_goal(testdata) == 6"
   ]
  },
  {
   "cell_type": "code",
   "execution_count": null,
   "id": "b3767984-9bdb-4f0d-b893-9658ebd38cae",
   "metadata": {},
   "outputs": [],
   "source": [
    "%time find_goal(input)"
   ]
  },
  {
   "cell_type": "code",
   "execution_count": null,
   "id": "ce93c5c4-bbd3-446e-871d-faa84d6c7c56",
   "metadata": {},
   "outputs": [],
   "source": [
    "def next_value(n):\n",
    "    t = []\n",
    "    while set(n) != {0}:\n",
    "        t.append(n[-1])\n",
    "        n = [y - x for x, y in zip(n, n[1:])]\n",
    "    return sum(t)\n",
    "\n",
    "def next_values(n):\n",
    "    return [next_value(e) for e in n]"
   ]
  },
  {
   "cell_type": "code",
   "execution_count": null,
   "id": "60f769b2-814e-4422-8aca-6e6335fde563",
   "metadata": {},
   "outputs": [],
   "source": [
    "testdata = \"0 3 6 9 12 15\\n1 3 6 10 15 21\\n10 13 16 21 30 45\"\n",
    "testdata = testdata.strip().split(\"\\n\")\n",
    "testdata = [[int(e) for e in f.split()] for f in testdata]"
   ]
  },
  {
   "cell_type": "code",
   "execution_count": null,
   "id": "f3f2eafd-31ab-47c4-87d9-be9b70956ad8",
   "metadata": {},
   "outputs": [],
   "source": [
    "assert sum(next_values(testdata)) == 114"
   ]
  },
  {
   "cell_type": "code",
   "execution_count": null,
   "id": "862c9c30-a1ec-48b1-b0cf-9cc08c6b3034",
   "metadata": {
    "scrolled": true
   },
   "outputs": [],
   "source": [
    "input = [[int(e) for e in f.split()] for f in parse('09')]\n",
    "\n",
    "%time sum(next_values(input))"
   ]
  },
  {
   "cell_type": "code",
   "execution_count": null,
   "id": "dc93c1cc-d146-4737-829c-ebf408704330",
   "metadata": {},
   "outputs": [],
   "source": [
    "from functools import reduce\n",
    "\n",
    "def previous_value(n):\n",
    "    t = []\n",
    "    while set(n) != {0}:\n",
    "        t.append(n[0])\n",
    "        n = [y - x for x, y in zip(n, n[1:])]\n",
    "    return reduce(lambda x, y: y - x, t[::-1])\n",
    "\n",
    "def previous_values(n):\n",
    "    return [previous_value(e) for e in n]"
   ]
  },
  {
   "cell_type": "code",
   "execution_count": null,
   "id": "6b9fa47c-817f-475d-b822-6cacbb54bca4",
   "metadata": {},
   "outputs": [],
   "source": [
    "assert sum(previous_values(testdata)) ==2"
   ]
  },
  {
   "cell_type": "code",
   "execution_count": null,
   "id": "ce614fe2-16eb-43c7-b139-2c234089859f",
   "metadata": {},
   "outputs": [],
   "source": [
    "%time sum(previous_values(input))"
   ]
  },
  {
   "cell_type": "code",
   "execution_count": null,
   "id": "a9351fb9-c4bc-45d9-bf90-4427ccde0ece",
   "metadata": {},
   "outputs": [],
   "source": [
    "input = Input('10').read().strip().split(\"\\n\")\n",
    "testdata = Testdata('10').read().strip().split(\"\\n\")"
   ]
  },
  {
   "cell_type": "code",
   "execution_count": null,
   "id": "c1c6288f-774e-4dcd-9b44-579ace4551db",
   "metadata": {},
   "outputs": [],
   "source": [
    "pipes = {\n",
    "    \"|\":  ((-1, 0), (1, 0)),\n",
    "    \"-\": ((0, -1), (0, 1)),\n",
    "    \"L\": ((-1, 0), (0, 1)),\n",
    "    \"J\": ((-1, 0), (0, -1)),\n",
    "    \"7\": ((1, 0), (0, -1)),\n",
    "    \"F\": ((1, 0), (0, 1))\n",
    "}"
   ]
  },
  {
   "cell_type": "code",
   "execution_count": null,
   "id": "836cdc96-6c35-43ae-8fd3-ed25608d9f57",
   "metadata": {},
   "outputs": [],
   "source": [
    "def parse_maze(n, p, s):\n",
    "    d = {}\n",
    "    S = []\n",
    "    for i, x in enumerate(n):\n",
    "        for j, y in enumerate(x):\n",
    "            if y in p.keys():\n",
    "                d[(i, j)] = [(x, y) for x, y in [[sum(e) for e in zip((i, j), f)] for f in p[y]]]\n",
    "            elif y == s:\n",
    "                S.append((i, j))\n",
    "    return d, S[0]\n",
    "\n",
    "def find_start(n, s = None):\n",
    "    if s == None:\n",
    "        s = \"S\"\n",
    "    return [k for k, v in n.items() if v == s][0]\n",
    "\n",
    "def solution(n, p, S):\n",
    "    m, s = parse_maze(n, p, S)\n",
    "    r = []\n",
    "    for k, v in p.items():\n",
    "        m[s] = [[sum(e) for e in zip(s, f)] for f in v]\n",
    "        next = (m[s][0][0], m[s][0][1])\n",
    "        prev = s\n",
    "        chain = [s]\n",
    "        while prev in m.get(next, []): \n",
    "            chain.append(next)\n",
    "            next = [e for e in m.get(next, []) if e != prev][0]\n",
    "            prev = chain[-1]\n",
    "        r.append(chain)\n",
    "    return r\n",
    "            "
   ]
  },
  {
   "cell_type": "code",
   "execution_count": null,
   "id": "b445dd57-3051-45ac-88a4-f68fc1eb4699",
   "metadata": {},
   "outputs": [],
   "source": [
    "assert max(len(e) for e in solution(testdata, pipes, \"S\")) / 2 == 8"
   ]
  },
  {
   "cell_type": "code",
   "execution_count": null,
   "id": "58cc1a01-e6e4-4e4c-aab9-d11dcb57d34e",
   "metadata": {},
   "outputs": [],
   "source": [
    "%time int(max(len(e) for e in solution(input, pipes, \"S\")) / 2)"
   ]
  },
  {
   "cell_type": "code",
   "execution_count": null,
   "id": "7093a201-5b39-4c3f-9911-dbb70fa43ad1",
   "metadata": {},
   "outputs": [],
   "source": [
    "%%time\n",
    "\n",
    "testdata2 = [e for e in Input('10').read().strip().split(\"\\n\")]\n",
    "y, x = len(testdata2), len(testdata2[0])\n",
    "\n",
    "sol = solution(testdata2, pipes, \"S\")[0]\n",
    "maze = {}\n",
    "\n",
    "for i, e in enumerate(testdata2):\n",
    "    for j, f in enumerate(e):\n",
    "        maze[i, j] = f\n",
    "\n",
    "r = {}\n",
    "ct = 0\n",
    "\n",
    "for j in range(y):\n",
    "    if (j, 0) in sol:\n",
    "        r[(j, 0)] = maze[(j, 0)]\n",
    "    else:\n",
    "        r[(j, 0)] = \".\"\n",
    "    if (j, x - 1) in sol:\n",
    "        r[(j, x - 1)] = maze[(j, x - 1)]\n",
    "    else:\n",
    "        r[(j, x - 1)] = \".\"\n",
    "for i in range(x):\n",
    "    if (0, i) in sol:\n",
    "        r[(0, i)] = maze[(0, i)]\n",
    "    else:\n",
    "        r[(0, i)] = \".\"\n",
    "    if (y - 1, i) in sol:\n",
    "        r[(y - 1, i)] = maze[(y - 1, i)]\n",
    "    else:\n",
    "        r[(y - 1, i)] = \".\"\n",
    "        \n",
    "for j in range(1, y - 1):\n",
    "    for i in range(1, x - 1):\n",
    "        if (j, i) in sol:\n",
    "            r[(j, i)] = maze[(j, i)]\n",
    "        else:\n",
    "            t = [r.get((g, h), 0) for g, h in [[sum(f) for f in zip((j, i), e)] for e in ((-1, 0), (1, 0), (0, -1), (0, 1))]]\n",
    "            if \".\" in t:\n",
    "                r[(j, i)] = \".\"\n",
    "            else:\n",
    "                r[(j, i)] = \"I\"\n",
    "                \n",
    "# for j in range(y - 1, 1, -1):\n",
    "#     for i in range(x - 1, 1, -1):\n",
    "#         if r[(j, i)] == \"I\":\n",
    "#             t = [r.get((g, h), 0) for g, h in [[sum(f) for f in zip((j, i), e)] for e in ((-1, 0), (1, 0), (0, -1), (0, 1))]]\n",
    "#             if \".\" in t:\n",
    "#                 r[(j, i)] = \".\"\n",
    "t = []\n",
    "for j in range(y):\n",
    "    for i in range(x):\n",
    "        if r[(j, i)] == \"I\":\n",
    "            string = ''.join([r[(j, c)] for c in range(i, x)])\n",
    "            # print(str)\n",
    "            string = re.sub(r'\\.', '', string, count = x)\n",
    "            string = re.sub(r'-', '', string, count = x)\n",
    "            string = re.sub(r'I', '', string, count = x)\n",
    "            string = re.sub(r'F-*J', '|', string, count = x)\n",
    "            string = re.sub(r'L-*7', '|', string, count = x)\n",
    "            string = re.sub(r'F-*7', '', string, count = x)\n",
    "            string = re.sub(r'L-*J', '', string, count = x)\n",
    "            # print(str)\n",
    "            if len(string) % 2 == 1:\n",
    "                t.append((j, i))\n",
    "                ct += 1\n",
    "                # print(j, i)\n",
    "                # print(\"=\" *30)\n",
    "print(len(t))\n",
    "# k =  []\n",
    "# for j in range(y):\n",
    "#     l = []\n",
    "#     for i in range(x):\n",
    "#         l.append(r[(j, i)])\n",
    "#     k.append(''.join(l))\n",
    "# printable = '\\n'.join(k)\n",
    "# print(printable.count(\"I\"))\n",
    "# print(\"\\n\")\n",
    "# print(printable)"
   ]
  },
  {
   "cell_type": "code",
   "execution_count": null,
   "id": "7846f22f-e4ed-4c02-bf3f-98a1e11ff8bf",
   "metadata": {},
   "outputs": [],
   "source": [
    "testdata = [[c for c in l] for l in Testdata(11).read().split(\"\\n\")]\n",
    "testdata"
   ]
  },
  {
   "cell_type": "code",
   "execution_count": null,
   "id": "baeae560-0560-4045-819e-afaac1c55f35",
   "metadata": {},
   "outputs": [],
   "source": [
    "input = [[c for c in l] for l in Input(11).read().strip().split(\"\\n\")]\n",
    "# sum(shortest_paths(m_to_d(expand_matrix(input, \"#\"))))"
   ]
  },
  {
   "cell_type": "code",
   "execution_count": null,
   "id": "2879e959-3c63-4fd2-a723-06efb2f93b86",
   "metadata": {
    "scrolled": true
   },
   "outputs": [],
   "source": [
    "def solution(m, n, y=10**6):\n",
    "    rows, columns = empty_rc(m, n)\n",
    "    d = m_to_d(m, n)\n",
    "    return shortest_paths(d, rows, columns, y)\n",
    "\n",
    "def empty_rc(m, n):\n",
    "    r, c  = [], []\n",
    "    for j, y in enumerate(m):\n",
    "        if n not in (y):\n",
    "            r.append(j)\n",
    "    for i, x in enumerate(zip(*m)):\n",
    "        if n not in (x):\n",
    "            c.append(i)\n",
    "    return r, c\n",
    "\n",
    "def shortest_paths(n, rows, columns, y):\n",
    "    r = []\n",
    "    m = list(n.keys())\n",
    "    for i, k in enumerate(m):\n",
    "        for l in m[i:]:\n",
    "            y1, x1 = k\n",
    "            y2, x2 = l\n",
    "            corr = 0\n",
    "            for row in rows:\n",
    "                if row in range(min(y1, y2), max(y1, y2)):\n",
    "                    corr += 1\n",
    "            for column in columns:\n",
    "                if column in range(min(x1, x2), max(x1, x2)):\n",
    "                    corr += 1\n",
    "            r.append(abs(x2 - x1) + abs(y2 - y1) + corr * (y-1))\n",
    "    return r\n",
    "\n",
    "def m_to_d(m, n = None):\n",
    "    if n == None:\n",
    "        n = \"#\"\n",
    "    d = {}\n",
    "    for j, y in enumerate(m):\n",
    "        for i, x in enumerate(y):\n",
    "            if m[j][i] == n:\n",
    "                d[(j, i)] = n\n",
    "    return d\n",
    "\n",
    "empty_rc(testdata, \"#\")"
   ]
  },
  {
   "cell_type": "code",
   "execution_count": null,
   "id": "1d4f37ff-f99f-4462-9a3a-edabda19ab71",
   "metadata": {},
   "outputs": [],
   "source": [
    "%time assert sum(solution(testdata, \"#\", 2)) == 374"
   ]
  },
  {
   "cell_type": "code",
   "execution_count": null,
   "id": "98bfc9b3-e1b1-47e8-bd35-e2540d89732f",
   "metadata": {},
   "outputs": [],
   "source": [
    "%time sum(solution(input, \"#\", 2)) "
   ]
  },
  {
   "cell_type": "code",
   "execution_count": null,
   "id": "6620a850-4ce4-41f0-bc46-e930162379d1",
   "metadata": {},
   "outputs": [],
   "source": [
    "assert sum(solution(testdata, \"#\", 10)) == 1030\n",
    "assert sum(solution(testdata, \"#\", 100)) == 8410"
   ]
  },
  {
   "cell_type": "code",
   "execution_count": null,
   "id": "8d4af677-fbcf-4112-99d8-1397f3be372c",
   "metadata": {},
   "outputs": [],
   "source": [
    "%time sum(solution(input, \"#\"))"
   ]
  },
  {
   "cell_type": "code",
   "execution_count": null,
   "id": "85b8a304-2847-47be-b70f-3526b7c1ab43",
   "metadata": {},
   "outputs": [],
   "source": [
    "testdata = Testdata('12').read().strip().split(\"\\n\")\n",
    "testdata = [e.replace(\",\", \" \").split() for e in testdata]\n",
    "testdata = [[int(e) if e.isdigit() else e for e in f] for f in testdata]\n",
    "testdata"
   ]
  },
  {
   "cell_type": "code",
   "execution_count": null,
   "id": "2d4e0f26-a98b-4ce5-bb15-1e0354b38c5e",
   "metadata": {},
   "outputs": [],
   "source": [
    "input = Input('12').read().strip().split(\"\\n\")\n",
    "input = [e.replace(\",\", \" \").split() for e in input]\n",
    "input = [[int(e)  if e.isdigit() else e for e in f] for f in input]"
   ]
  },
  {
   "cell_type": "code",
   "execution_count": null,
   "id": "89aaf04f-d21a-4bcd-a8b6-db4a0dc9808d",
   "metadata": {},
   "outputs": [],
   "source": [
    "%%time\n",
    "counter = 0\n",
    "\n",
    "for e in testdata:\n",
    "    n = e[0].count(\"?\")\n",
    "    # print(e[0])\n",
    "    m = sum(e[1:]) - e[0].count(\"#\")\n",
    "    f = itertools.product(range(2), repeat = n)\n",
    "    for g in f:\n",
    "        if sum(g) == m:\n",
    "            \n",
    "            h = [c for c in e[0]]\n",
    "    \n",
    "            ct = 0\n",
    "            for i, j in enumerate(h):\n",
    "                if j == \"?\":\n",
    "                    h[i] = '.#'[g[ct] % 2]\n",
    "                    ct += 1\n",
    "            h = ''.join(h)\n",
    "    \n",
    "            if [e.count(\"#\") for e in re.findall(r'(\\#*)', h) if e.count(\"#\") > 0] == e[1:]:\n",
    "                counter += 1 \n",
    "print(counter)"
   ]
  },
  {
   "cell_type": "code",
   "execution_count": null,
   "id": "77c811d2-4887-4d07-962d-b4075e2fde1e",
   "metadata": {},
   "outputs": [],
   "source": [
    "testdata13 = Testdata('13').read().split(\"\\n\\n\")\n",
    "testdata13 = [n.split(\"\\n\") for n in testdata13]\n",
    "\n",
    "testdata13 = [[list(c) for c in m] for m in testdata13]\n",
    "testdata13"
   ]
  },
  {
   "cell_type": "code",
   "execution_count": null,
   "id": "fe9b3cca-fe4a-4edb-a3d1-e434bcfcbb25",
   "metadata": {},
   "outputs": [],
   "source": [
    "input13 = Input('13').read().strip().split(\"\\n\\n\")\n",
    "input13 = [n.split(\"\\n\") for n in input13]\n",
    "\n",
    "input13 = [[list(c) for c in m] for m in input13]"
   ]
  },
  {
   "cell_type": "code",
   "execution_count": null,
   "id": "87008cce-40bd-43b6-a316-8b23d58bc117",
   "metadata": {},
   "outputs": [],
   "source": [
    "def mirrorline(m):\n",
    "    for i in range(1,len(m)):\n",
    "        minlength = min(i, len(m) - i)\n",
    "        if m[i - minlength:i] == m[i:i + minlength][::-1] or m[i - minlength:i] == m[i:i + minlength]:\n",
    "            return i\n",
    "    return False\n",
    "\n",
    "def score(m):\n",
    "    r = 0\n",
    "    if mirrorline(m):\n",
    "        r += mirrorline(m) * 100\n",
    "    if mirrorline(list(zip(*m))):\n",
    "        r +=  mirrorline(list(zip(*m)))\n",
    "    return r\n",
    "\n",
    "def scores(l):\n",
    "    return [score(e) for e in l]"
   ]
  },
  {
   "cell_type": "code",
   "execution_count": null,
   "id": "cf67f0ef-8713-4311-9038-1838ec3a7c95",
   "metadata": {},
   "outputs": [],
   "source": [
    "assert sum(scores(testdata13)) == 405"
   ]
  },
  {
   "cell_type": "code",
   "execution_count": null,
   "id": "1bf66d96-cefb-4d97-a3b7-aed54ebc1b85",
   "metadata": {},
   "outputs": [],
   "source": [
    "%time sum(scores(input13))"
   ]
  }
 ],
 "metadata": {
  "kernelspec": {
   "display_name": "Python 3 (ipykernel)",
   "language": "python",
   "name": "python3"
  },
  "language_info": {
   "codemirror_mode": {
    "name": "ipython",
    "version": 3
   },
   "file_extension": ".py",
   "mimetype": "text/x-python",
   "name": "python",
   "nbconvert_exporter": "python",
   "pygments_lexer": "ipython3",
   "version": "3.12.7"
  }
 },
 "nbformat": 4,
 "nbformat_minor": 5
}

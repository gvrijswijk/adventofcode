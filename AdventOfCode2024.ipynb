{
 "cells": [
  {
   "cell_type": "markdown",
   "id": "347075f3-9332-483e-97e3-59aed6d0b336",
   "metadata": {},
   "source": [
    "# [Advent of Code 2024](https://adventofcode.com/2024 )"
   ]
  },
  {
   "cell_type": "markdown",
   "id": "433135d8-2c31-4862-a172-f548f01263ef",
   "metadata": {},
   "source": [
    "## General functions"
   ]
  },
  {
   "cell_type": "code",
   "execution_count": 1,
   "id": "cf691d31-cab8-40c3-b97d-ced5997985ee",
   "metadata": {},
   "outputs": [],
   "source": [
    "import re\n",
    "import itertools\n",
    "import math\n",
    "from operator import itemgetter\n",
    "\n",
    "# import matplotlib.pyplot as plt\n",
    "# import numpy as np\n",
    "\n",
    "import requests\n"
   ]
  },
  {
   "cell_type": "code",
   "execution_count": 2,
   "id": "41fd15b0-8cfa-416f-8b87-80acb3c64b01",
   "metadata": {},
   "outputs": [],
   "source": [
    "def Input(day, year=2024):\n",
    "    directory = '{}'.format(year)\n",
    "    filename = directory + '/input{}.txt'.format(day)\n",
    "    return open(filename)\n",
    "\n",
    "def Testdata(day, year=2024):\n",
    "    directory = '{}'.format(year)\n",
    "    filename = directory + '/testdata{}.txt'.format(day)\n",
    "    return open(filename)\n",
    "\n",
    "def mapt(fn, *args):\n",
    "    \"\"\"map(fn, *args) and return the result as a tuple.\"\"\"\n",
    "    return tuple(map(fn, *args))\n",
    "\n",
    "def parse(day, parser=str, sep='\\n', output='tuple') -> tuple:\n",
    "    \"\"\"Split the day's input file into entries separated by `sep`, and apply `parser` to each.\"\"\"\n",
    "    entries = open(f'2024/input{day}.txt').read().rstrip().split(sep)\n",
    "    return mapt(parser, entries)"
   ]
  },
  {
   "cell_type": "code",
   "execution_count": 3,
   "id": "6dde3e24-71c9-44f8-9626-b3a58fe4468b",
   "metadata": {},
   "outputs": [],
   "source": [
    "def findroots(a, b, c):\n",
    "    dis = b * b - 4 * a * c \n",
    "    sqrt_val = math.sqrt(abs(dis)) \n",
    "    if dis > 0:\n",
    "        return (-b + sqrt_val)/(2 * a), (-b - sqrt_val)/(2 * a)\n",
    "    elif dis == 0:\n",
    "        return -b / (2 * a)\n",
    "    else:\n",
    "        return - b / (2 * a), + i, sqrt_val,  - b / (2 * a), - i, sqrt_val"
   ]
  },
  {
   "cell_type": "markdown",
   "id": "c9067339-99a0-4ebd-bdb4-d2efa4ef9dc3",
   "metadata": {},
   "source": [
    "## [Day 1: Historian Hysteria](https://adventofcode.com/2024/day/1)"
   ]
  },
  {
   "cell_type": "code",
   "execution_count": 4,
   "id": "cf430841-7060-414a-b3d0-f6a188d7bbde",
   "metadata": {},
   "outputs": [],
   "source": [
    "def list_diff(lst1, lst2):\n",
    "    return [abs(e[0] - e[1]) for e in zip(sorted(lst1), sorted(lst2))]\n",
    "\n",
    "def parselst(str):\n",
    "    str = list(zip(*[e.split() for e in str.strip().split(\"\\n\")]))\n",
    "    lst1, lst2 = str\n",
    "    lst1 = [int(e) for e in lst1]\n",
    "    lst2 = [int(e) for e in lst2]\n",
    "    return lst1, lst2"
   ]
  },
  {
   "cell_type": "code",
   "execution_count": 5,
   "id": "e59db403-5e53-421d-acf3-19896fd1a1cc",
   "metadata": {},
   "outputs": [],
   "source": [
    "teststr = \"3   4\\n4   3\\n2   5\\n1   3\\n3   9\\n3   3\"\n",
    "assert sum(list_diff(*parselst(teststr)))==11"
   ]
  },
  {
   "cell_type": "code",
   "execution_count": 6,
   "id": "f84e4775-affd-42ca-b529-505af7ab373a",
   "metadata": {},
   "outputs": [
    {
     "data": {
      "text/plain": [
       "1110981"
      ]
     },
     "execution_count": 6,
     "metadata": {},
     "output_type": "execute_result"
    }
   ],
   "source": [
    "inp = Input('01').read()\n",
    "sum(list_diff(*parselst(inp)))"
   ]
  },
  {
   "cell_type": "code",
   "execution_count": 7,
   "id": "3811248a-8951-44db-a66d-a879b24d5245",
   "metadata": {},
   "outputs": [],
   "source": [
    "def similarity(lst1, lst2):\n",
    "    total = 0\n",
    "    for e in lst1:\n",
    "        total += e * lst2.count(e)\n",
    "    return total"
   ]
  },
  {
   "cell_type": "code",
   "execution_count": 8,
   "id": "0541aa5b-42b2-4cfb-b7ba-4140cbe87b19",
   "metadata": {},
   "outputs": [],
   "source": [
    "assert similarity(*parselst(teststr)) == 31"
   ]
  },
  {
   "cell_type": "code",
   "execution_count": 9,
   "id": "ab102f4f-cc07-47d9-a1d1-fc43abf5752b",
   "metadata": {},
   "outputs": [
    {
     "data": {
      "text/plain": [
       "24869388"
      ]
     },
     "execution_count": 9,
     "metadata": {},
     "output_type": "execute_result"
    }
   ],
   "source": [
    "similarity(*parselst(inp))"
   ]
  },
  {
   "cell_type": "markdown",
   "id": "f3db95ec-8cf8-481c-bee1-21424b52572b",
   "metadata": {},
   "source": [
    "## [Day 2: Red-Nosed Reports](https://adventofcode.com/2024/day/2)"
   ]
  },
  {
   "cell_type": "code",
   "execution_count": 10,
   "id": "5ce0e178-f1b4-441c-96bd-a1448653276e",
   "metadata": {},
   "outputs": [],
   "source": [
    "def parseline(line,d=False):\n",
    "    t = [int(e) for e in line.split(' ')]\n",
    "    return [e - t[i -1] for i, e in enumerate(t)]\n",
    "\n",
    "def issafe(e):\n",
    "    t1 = [True if (e < 0 and e >= -3) else False for e in parseline(e)][1:]\n",
    "    t2 = [True if (e > 0 and e <= 3) else False for e in parseline(e)][1:]\n",
    "    return False in t1 and False in t2\n",
    "\n",
    "def allsafe(text):\n",
    "    text = text.strip().split('\\n')\n",
    "    return [0 if issafe(e) == True else 1 for e in text]"
   ]
  },
  {
   "cell_type": "code",
   "execution_count": 11,
   "id": "d404a330-3f8c-48af-9761-c12055556480",
   "metadata": {},
   "outputs": [
    {
     "data": {
      "text/plain": [
       "2"
      ]
     },
     "execution_count": 11,
     "metadata": {},
     "output_type": "execute_result"
    }
   ],
   "source": [
    "teststr = \"7 6 4 2 1\\n1 2 7 8 9\\n9 7 6 2 1\\n1 3 2 4 5\\n8 6 4 4 1\\n1 3 6 7 9\"\n",
    "sum(allsafe(teststr))"
   ]
  },
  {
   "cell_type": "code",
   "execution_count": 12,
   "id": "2f02ebc2-3ddf-463b-b046-fd874bcc0c9b",
   "metadata": {},
   "outputs": [
    {
     "data": {
      "text/plain": [
       "472"
      ]
     },
     "execution_count": 12,
     "metadata": {},
     "output_type": "execute_result"
    }
   ],
   "source": [
    "inp = Input('02').read()\n",
    "sum(allsafe(inp))\n"
   ]
  },
  {
   "cell_type": "code",
   "execution_count": 13,
   "id": "d78d4110-9f0e-493a-a783-7d8b7de8bd87",
   "metadata": {},
   "outputs": [],
   "source": [
    "def parseline(line,d=False):\n",
    "    return [int(e) for e in line.split(' ')]\n",
    "\n",
    "def issafe(e, d=False):\n",
    "    o, out = [e], []\n",
    "    if d == True:\n",
    "        for i in range(len(e)):\n",
    "            o.append(e[:i] + e[i+1:])\n",
    "    for l in o:\n",
    "        t = [e - l[i -1] for i, e in enumerate(l)]\n",
    "        t1 = [True if (e < 0 and e >= -3) else False for e in t[1:]]\n",
    "        t2 = [True if (e > 0 and e <= 3) else False for e in t[1:]]\n",
    "        if False not in t1 or False not in t2:\n",
    "            return True\n",
    "    return False\n",
    "\n",
    "def allsafe(text, d=False):\n",
    "    text = text.strip().split('\\n')\n",
    "    ct = 0\n",
    "    for line in text:\n",
    "        line = parseline(line)\n",
    "        if issafe(line, d):\n",
    "            ct += 1\n",
    "    return ct"
   ]
  },
  {
   "cell_type": "code",
   "execution_count": 14,
   "id": "bd7b72d3-7a92-4c0e-99b5-f4b279a69cd8",
   "metadata": {},
   "outputs": [],
   "source": [
    "assert allsafe(teststr, d=True) == 4"
   ]
  },
  {
   "cell_type": "markdown",
   "id": "5c78e57a-5521-41ad-9f1a-0e343d57b309",
   "metadata": {},
   "source": [
    "Still works for part 1?"
   ]
  },
  {
   "cell_type": "code",
   "execution_count": 15,
   "id": "edab93f5-4d4c-4a40-a683-d3bb343a187c",
   "metadata": {},
   "outputs": [],
   "source": [
    "assert allsafe(inp) == 472"
   ]
  },
  {
   "cell_type": "code",
   "execution_count": 16,
   "id": "1dec131f-25f6-4d23-ad33-d42b1f6c5b35",
   "metadata": {},
   "outputs": [
    {
     "data": {
      "text/plain": [
       "520"
      ]
     },
     "execution_count": 16,
     "metadata": {},
     "output_type": "execute_result"
    }
   ],
   "source": [
    "allsafe(inp, d=True)"
   ]
  },
  {
   "cell_type": "markdown",
   "id": "dba2cb41-3d32-4811-bc24-033a309da913",
   "metadata": {},
   "source": [
    "## [Day 3: Mull It Over](https://adventofcode.com/2024/day/3)"
   ]
  },
  {
   "cell_type": "code",
   "execution_count": 17,
   "id": "c3b05dd2-633c-40c2-a1bc-85a14357924f",
   "metadata": {},
   "outputs": [],
   "source": [
    "def get_ops(str):\n",
    "    return re.findall(r'mul\\((\\d{1,3}),(\\d{1,3})\\)', str)\n",
    "\n",
    "def multiplications(str):\n",
    "    return [int(e[0]) * int(e[1]) for e in get_ops(str)]"
   ]
  },
  {
   "cell_type": "code",
   "execution_count": 18,
   "id": "803ce034-8737-4277-b014-95ce48b24485",
   "metadata": {},
   "outputs": [],
   "source": [
    "teststr = \"xmul(2,4)%&mul[3,7]!@^do_not_mul(5,5)+mul(32,64]then(mul(11,8)mul(8,5))\"\n",
    "assert sum(multiplications(teststr))==161"
   ]
  },
  {
   "cell_type": "code",
   "execution_count": 19,
   "id": "bd5cc631-eee7-4477-a10f-9f0717962e4e",
   "metadata": {},
   "outputs": [
    {
     "data": {
      "text/plain": [
       "[('2', '4'), ('5', '5'), ('11', '8'), ('8', '5')]"
      ]
     },
     "execution_count": 19,
     "metadata": {},
     "output_type": "execute_result"
    }
   ],
   "source": [
    "get_ops(teststr)"
   ]
  },
  {
   "cell_type": "code",
   "execution_count": 20,
   "id": "a8e29132-19d3-45da-965c-2ef6afabcd89",
   "metadata": {},
   "outputs": [
    {
     "data": {
      "text/plain": [
       "189600467"
      ]
     },
     "execution_count": 20,
     "metadata": {},
     "output_type": "execute_result"
    }
   ],
   "source": [
    "inp = Input('03').read()\n",
    "sum(multiplications(inp))"
   ]
  },
  {
   "cell_type": "code",
   "execution_count": 21,
   "id": "432a0668-4ec9-4acf-9594-667df0eb39c2",
   "metadata": {},
   "outputs": [],
   "source": [
    "def get_ops(str):\n",
    "    return re.findall(r'mul\\((\\d{1,3}),(\\d{1,3})\\)|(do[n\\'t]*)', str)\n",
    "def mults(str):\n",
    "    res = 0\n",
    "    multi = 1\n",
    "    m = get_ops(str)\n",
    "    for e in m:\n",
    "        if e[2] == \"don't\":\n",
    "            multi = 0\n",
    "        elif e[2] == \"do\":\n",
    "            multi = 1\n",
    "        else:\n",
    "            res += int(e[0]) * int(e[1]) * multi\n",
    "    return res"
   ]
  },
  {
   "cell_type": "code",
   "execution_count": 22,
   "id": "b56d1715-da6d-4a8c-bb6d-315131a3833c",
   "metadata": {},
   "outputs": [],
   "source": [
    "teststr = \"xmul(2,4)&mul[3,7]!^don't()_mul(5,5)+mul(32,64](mul(11,8)undo()?mul(8,5))\"\n",
    "assert mults(teststr) ==48"
   ]
  },
  {
   "cell_type": "code",
   "execution_count": 23,
   "id": "518e715f-324e-43b2-8546-a76fdfc7198c",
   "metadata": {},
   "outputs": [
    {
     "data": {
      "text/plain": [
       "107069718"
      ]
     },
     "execution_count": 23,
     "metadata": {},
     "output_type": "execute_result"
    }
   ],
   "source": [
    "mults(inp)"
   ]
  },
  {
   "cell_type": "code",
   "execution_count": 24,
   "id": "cd14ee2d-110e-41d4-8afb-5b00f11bd479",
   "metadata": {},
   "outputs": [
    {
     "data": {
      "text/plain": [
       "[('2', '4', ''),\n",
       " ('', '', \"don't\"),\n",
       " ('5', '5', ''),\n",
       " ('11', '8', ''),\n",
       " ('', '', 'do'),\n",
       " ('8', '5', '')]"
      ]
     },
     "execution_count": 24,
     "metadata": {},
     "output_type": "execute_result"
    }
   ],
   "source": [
    "get_ops(teststr)"
   ]
  },
  {
   "cell_type": "markdown",
   "id": "796fb23f-da97-4515-a4f9-8f9a4556c5c2",
   "metadata": {},
   "source": [
    "## [Day 4: Ceres Search](https://adventofcode.com/2024/day/4)"
   ]
  },
  {
   "cell_type": "code",
   "execution_count": 25,
   "id": "699d2830-d2d2-4fc8-9e43-320bbbc18b7f",
   "metadata": {},
   "outputs": [],
   "source": [
    "def word_search(m, w):\n",
    "    ct = 0\n",
    "    lst = []\n",
    "    for i, l in enumerate(m):\n",
    "        for j, c in enumerate(l):\n",
    "            if c == w[0]:\n",
    "                for dx in (-1, 0, 1):\n",
    "                    for dy in (-1, 0, 1):\n",
    "                        try:\n",
    "                            wd = [m[i + dx * k][j + dy * k] for k in range(len(w)) if i + dx * k >= 0 and j + dy * k >= 0]\n",
    "                        except:\n",
    "                            break\n",
    "                        if \"\".join(wd) == w:\n",
    "                            ct += 1\n",
    "                            lst.append((i, j))\n",
    "    return ct"
   ]
  },
  {
   "cell_type": "code",
   "execution_count": 26,
   "id": "2a00622f-66e3-4d37-a385-83972b386671",
   "metadata": {},
   "outputs": [],
   "source": [
    "teststr= \"MMMSXXMASM\\nMSAMXMSMSA\\nAMXSXMAAMM\\nMSAMASMSMX\\nXMASAMXAMM\\nXXAMMXXAMA\\nSMSMSASXSS\\nSAXAMASAAA\\nMAMMMXMMMM\\nMXMXAXMASX\"\n",
    "teststr = [list(e) for e in teststr.split('\\n')]\n",
    "assert word_search(teststr, \"XMAS\") ==18"
   ]
  },
  {
   "cell_type": "code",
   "execution_count": 27,
   "id": "8104cd93-672e-44a7-9199-6cc942d4b220",
   "metadata": {},
   "outputs": [
    {
     "data": {
      "text/plain": [
       "2685"
      ]
     },
     "execution_count": 27,
     "metadata": {},
     "output_type": "execute_result"
    }
   ],
   "source": [
    "inp = [list(e) for e in Input('04').readlines()]\n",
    "word_search(inp, \"XMAS\")"
   ]
  },
  {
   "cell_type": "code",
   "execution_count": 28,
   "id": "fa7e52b4-eb0e-4437-9ac8-4855426950e2",
   "metadata": {},
   "outputs": [],
   "source": [
    "def word_search2(m, w):\n",
    "    ct=0\n",
    "    lst = []\n",
    "    for i, l in enumerate(m):\n",
    "        for j, c in enumerate(l):\n",
    "            sct = 0\n",
    "            if c == w[int(len(w) / 2)]:                \n",
    "                for dx in (-1, 1):\n",
    "                    for dy in (-1, 1):\n",
    "                        try:\n",
    "                            wd = [m[i + dx * k][j + dy * k] for k in range(-int(len(w) / 2), int(len(w) / 2) + 1) if i + dx * k >= 0 and j + dy * k >= 0]\n",
    "                        except:\n",
    "                            break\n",
    "                        if \"\".join(wd) == w:\n",
    "                            sct += 1\n",
    "                            lst.append((i, j))\n",
    "            if sct > 1:\n",
    "                ct += 1\n",
    "    return ct\n",
    "    \n"
   ]
  },
  {
   "cell_type": "code",
   "execution_count": 29,
   "id": "70d58bac-72d2-4afc-983f-e0c1762e4ebf",
   "metadata": {},
   "outputs": [],
   "source": [
    "assert word_search2(teststr, \"MAS\") ==9"
   ]
  },
  {
   "cell_type": "code",
   "execution_count": 30,
   "id": "924f248f-b424-4b03-b147-2457ae81bcb7",
   "metadata": {},
   "outputs": [
    {
     "data": {
      "text/plain": [
       "2048"
      ]
     },
     "execution_count": 30,
     "metadata": {},
     "output_type": "execute_result"
    }
   ],
   "source": [
    "word_search2(inp, \"MAS\")"
   ]
  }
 ],
 "metadata": {
  "kernelspec": {
   "display_name": "Python 3 (ipykernel)",
   "language": "python",
   "name": "python3"
  },
  "language_info": {
   "codemirror_mode": {
    "name": "ipython",
    "version": 3
   },
   "file_extension": ".py",
   "mimetype": "text/x-python",
   "name": "python",
   "nbconvert_exporter": "python",
   "pygments_lexer": "ipython3",
   "version": "3.12.7"
  }
 },
 "nbformat": 4,
 "nbformat_minor": 5
}

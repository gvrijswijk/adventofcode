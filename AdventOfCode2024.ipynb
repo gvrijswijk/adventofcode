{
 "cells": [
  {
   "cell_type": "markdown",
   "id": "347075f3-9332-483e-97e3-59aed6d0b336",
   "metadata": {},
   "source": [
    "# [Advent of Code 2024](https://adventofcode.com/2024 )"
   ]
  },
  {
   "cell_type": "markdown",
   "id": "433135d8-2c31-4862-a172-f548f01263ef",
   "metadata": {},
   "source": [
    "## General functions"
   ]
  },
  {
   "cell_type": "code",
   "execution_count": null,
   "id": "cf691d31-cab8-40c3-b97d-ced5997985ee",
   "metadata": {},
   "outputs": [],
   "source": [
    "import re\n",
    "import itertools\n",
    "import math\n",
    "from operator import itemgetter\n",
    "\n",
    "# import matplotlib.pyplot as plt\n",
    "# import numpy as np\n",
    "\n",
    "import requests\n"
   ]
  },
  {
   "cell_type": "code",
   "execution_count": null,
   "id": "41fd15b0-8cfa-416f-8b87-80acb3c64b01",
   "metadata": {},
   "outputs": [],
   "source": [
    "def Input(day, year=2024):\n",
    "    directory = '{}'.format(year)\n",
    "    filename = directory + '/input{}.txt'.format(day)\n",
    "    return open(filename)\n",
    "\n",
    "def Testdata(day, year=2024):\n",
    "    directory = '{}'.format(year)\n",
    "    filename = directory + '/testdata{}.txt'.format(day)\n",
    "    return open(filename)\n",
    "\n",
    "def mapt(fn, *args):\n",
    "    \"\"\"map(fn, *args) and return the result as a tuple.\"\"\"\n",
    "    return tuple(map(fn, *args))\n",
    "\n",
    "def parse(day, parser=str, sep='\\n', output='tuple') -> tuple:\n",
    "    \"\"\"Split the day's input file into entries separated by `sep`, and apply `parser` to each.\"\"\"\n",
    "    entries = open(f'2024/input{day}.txt').read().rstrip().split(sep)\n",
    "    return mapt(parser, entries)"
   ]
  },
  {
   "cell_type": "code",
   "execution_count": null,
   "id": "6dde3e24-71c9-44f8-9626-b3a58fe4468b",
   "metadata": {},
   "outputs": [],
   "source": [
    "def findroots(a, b, c):\n",
    "    dis = b * b - 4 * a * c \n",
    "    sqrt_val = math.sqrt(abs(dis)) \n",
    "    if dis > 0:\n",
    "        return (-b + sqrt_val)/(2 * a), (-b - sqrt_val)/(2 * a)\n",
    "    elif dis == 0:\n",
    "        return -b / (2 * a)\n",
    "    else:\n",
    "        return - b / (2 * a), + i, sqrt_val,  - b / (2 * a), - i, sqrt_val"
   ]
  },
  {
   "cell_type": "markdown",
   "id": "c9067339-99a0-4ebd-bdb4-d2efa4ef9dc3",
   "metadata": {},
   "source": [
    "## [Day 1: Historian Hysteria](https://adventofcode.com/2024/day/1)"
   ]
  },
  {
   "cell_type": "code",
   "execution_count": null,
   "id": "cf430841-7060-414a-b3d0-f6a188d7bbde",
   "metadata": {},
   "outputs": [],
   "source": [
    "def list_diff(lst1, lst2):\n",
    "    return [abs(e[0] - e[1]) for e in zip(sorted(lst1), sorted(lst2))]\n",
    "\n",
    "def parselst(str):\n",
    "    str = list(zip(*[e.split() for e in str.strip().split(\"\\n\")]))\n",
    "    lst1, lst2 = str\n",
    "    lst1 = [int(e) for e in lst1]\n",
    "    lst2 = [int(e) for e in lst2]\n",
    "    return lst1, lst2"
   ]
  },
  {
   "cell_type": "code",
   "execution_count": null,
   "id": "e59db403-5e53-421d-acf3-19896fd1a1cc",
   "metadata": {},
   "outputs": [],
   "source": [
    "teststr = \"3   4\\n4   3\\n2   5\\n1   3\\n3   9\\n3   3\"\n",
    "assert sum(list_diff(*parselst(teststr)))==11"
   ]
  },
  {
   "cell_type": "code",
   "execution_count": null,
   "id": "f84e4775-affd-42ca-b529-505af7ab373a",
   "metadata": {},
   "outputs": [],
   "source": [
    "inp = Input('01').read()\n",
    "sum(list_diff(*parselst(inp)))"
   ]
  },
  {
   "cell_type": "code",
   "execution_count": null,
   "id": "3811248a-8951-44db-a66d-a879b24d5245",
   "metadata": {},
   "outputs": [],
   "source": [
    "def similarity(lst1, lst2):\n",
    "    total = 0\n",
    "    for e in lst1:\n",
    "        total += e * lst2.count(e)\n",
    "    return total"
   ]
  },
  {
   "cell_type": "code",
   "execution_count": null,
   "id": "0541aa5b-42b2-4cfb-b7ba-4140cbe87b19",
   "metadata": {},
   "outputs": [],
   "source": [
    "assert similarity(*parselst(teststr)) == 31"
   ]
  },
  {
   "cell_type": "code",
   "execution_count": null,
   "id": "ab102f4f-cc07-47d9-a1d1-fc43abf5752b",
   "metadata": {},
   "outputs": [],
   "source": [
    "similarity(*parselst(inp))"
   ]
  }
 ],
 "metadata": {
  "kernelspec": {
   "display_name": "Python 3 (ipykernel)",
   "language": "python",
   "name": "python3"
  },
  "language_info": {
   "codemirror_mode": {
    "name": "ipython",
    "version": 3
   },
   "file_extension": ".py",
   "mimetype": "text/x-python",
   "name": "python",
   "nbconvert_exporter": "python",
   "pygments_lexer": "ipython3",
   "version": "3.12.7"
  }
 },
 "nbformat": 4,
 "nbformat_minor": 5
}

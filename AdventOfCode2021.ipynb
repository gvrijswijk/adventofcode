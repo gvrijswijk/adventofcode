{
 "cells": [
  {
   "cell_type": "code",
   "execution_count": 2,
   "id": "8cbdfef0",
   "metadata": {},
   "outputs": [],
   "source": [
    "import re\n",
    "import numpy as np\n",
    "import seaborn as sns\n",
    "import matplotlib\n",
    "import matplotlib.pyplot as plt\n",
    "\n",
    "def Input(day, year=2021):\n",
    "    directory = '{}'.format(year)\n",
    "    filename = directory + '/input{}.txt'.format(day)\n",
    "    return open(filename)\n",
    "\n",
    "def mapt(fn, *args):\n",
    "    \"\"\"map(fn, *args) and return the result as a tuple.\"\"\"\n",
    "    return tuple(map(fn, *args))\n",
    "\n",
    "def mapl(fn, *args):\n",
    "    \"\"\"map(fn, *args) and return the result as a tuple.\"\"\"\n",
    "    return list(map(fn, *args))\n",
    "\n",
    "def parse(day, parser=str, sep='\\n', output='tuple') -> tuple:\n",
    "    \"\"\"Split the day's input file into entries separated by `sep`, and apply `parser` to each.\"\"\"\n",
    "    entries = open(f'2021/input{day}.txt').read().rstrip().split(sep)\n",
    "    return mapl(parser, entries)"
   ]
  },
  {
   "cell_type": "markdown",
   "id": "3ce634d8",
   "metadata": {},
   "source": [
    "## [Day 1](https://adventofcode.com/2021/day/1)"
   ]
  },
  {
   "cell_type": "code",
   "execution_count": 3,
   "id": "87f51c4d",
   "metadata": {},
   "outputs": [],
   "source": [
    "def times_depth_increased(i):\n",
    "    return [1 if e[0] > e[1] else 0 for e in list(zip(i[1:], i[:-1]))]"
   ]
  },
  {
   "cell_type": "code",
   "execution_count": 4,
   "id": "e27d53e9",
   "metadata": {},
   "outputs": [
    {
     "data": {
      "text/plain": [
       "7"
      ]
     },
     "execution_count": 4,
     "metadata": {},
     "output_type": "execute_result"
    }
   ],
   "source": [
    "i = [199, 200, 208, 210, 200, 207, 240, 269, 260, 263]\n",
    "\n",
    "sum(times_depth_increased(i))"
   ]
  },
  {
   "cell_type": "code",
   "execution_count": 5,
   "id": "f8fdf09e",
   "metadata": {},
   "outputs": [
    {
     "data": {
      "text/plain": [
       "1184"
      ]
     },
     "execution_count": 5,
     "metadata": {},
     "output_type": "execute_result"
    }
   ],
   "source": [
    "i = [int(e) for e in Input('01').readlines()]\n",
    "\n",
    "sum(times_depth_increased(i))"
   ]
  },
  {
   "cell_type": "code",
   "execution_count": 6,
   "id": "4e0c99d0",
   "metadata": {},
   "outputs": [],
   "source": [
    "def times_depth_increased(i, avg=3):\n",
    "    l = []\n",
    "    for a in range(avg):\n",
    "        if a == 0:\n",
    "            l.append(i)\n",
    "        else:\n",
    "            l.append(i[a:])\n",
    "    l = [sum(e) for e in zip(*l)]\n",
    "    return [1 if e[1] > e[0] else 0 for e in list(zip(l, l[1:]))]"
   ]
  },
  {
   "cell_type": "code",
   "execution_count": 7,
   "id": "1a810e05",
   "metadata": {},
   "outputs": [
    {
     "data": {
      "text/plain": [
       "5"
      ]
     },
     "execution_count": 7,
     "metadata": {},
     "output_type": "execute_result"
    }
   ],
   "source": [
    "i = [199, 200, 208, 210, 200, 207, 240, 269, 260, 263]\n",
    "\n",
    "sum(times_depth_increased(i))"
   ]
  },
  {
   "cell_type": "code",
   "execution_count": 8,
   "id": "5db89957",
   "metadata": {},
   "outputs": [
    {
     "data": {
      "text/plain": [
       "1158"
      ]
     },
     "execution_count": 8,
     "metadata": {},
     "output_type": "execute_result"
    }
   ],
   "source": [
    "i = [int(e) for e in Input('01').readlines()]\n",
    "\n",
    "sum(times_depth_increased(i))"
   ]
  },
  {
   "cell_type": "markdown",
   "id": "3c4a79d1",
   "metadata": {},
   "source": [
    "## [Day 2](https://adventofcode.com/2021/day/2)"
   ]
  },
  {
   "cell_type": "code",
   "execution_count": 9,
   "id": "07fd1a76",
   "metadata": {},
   "outputs": [
    {
     "data": {
      "text/plain": [
       "150"
      ]
     },
     "execution_count": 9,
     "metadata": {},
     "output_type": "execute_result"
    }
   ],
   "source": [
    "i = \"forward 5\\ndown 5\\nforward 8\\nup 3\\ndown 8\\nforward 2\"\n",
    "\n",
    "x, y = 0, 0\n",
    "\n",
    "d = re.findall(r'(\\w+) (\\d+)', i)\n",
    "\n",
    "for e in d:\n",
    "    if e[0] == 'forward':\n",
    "        x += int(e[1])\n",
    "    elif e[0] == 'down':\n",
    "        y += int(e[1])\n",
    "    else:\n",
    "        y += -int(e[1])\n",
    "        \n",
    "x * y"
   ]
  },
  {
   "cell_type": "code",
   "execution_count": 10,
   "id": "a10f666a",
   "metadata": {},
   "outputs": [
    {
     "data": {
      "text/plain": [
       "1690020"
      ]
     },
     "execution_count": 10,
     "metadata": {},
     "output_type": "execute_result"
    }
   ],
   "source": [
    "i = Input('02').read()\n",
    "\n",
    "x, y = 0, 0\n",
    "\n",
    "d = re.findall(r'(\\w+) (\\d+)', i)\n",
    "\n",
    "for e in d:\n",
    "    if e[0] == 'forward':\n",
    "        x += int(e[1])\n",
    "    elif e[0] == 'down':\n",
    "        y += int(e[1])\n",
    "    else:\n",
    "        y += -int(e[1])\n",
    "        \n",
    "x * y"
   ]
  },
  {
   "cell_type": "code",
   "execution_count": 11,
   "id": "c9de3e02",
   "metadata": {},
   "outputs": [
    {
     "data": {
      "text/plain": [
       "900"
      ]
     },
     "execution_count": 11,
     "metadata": {},
     "output_type": "execute_result"
    }
   ],
   "source": [
    "i = \"forward 5\\ndown 5\\nforward 8\\nup 3\\ndown 8\\nforward 2\"\n",
    "\n",
    "x, y, aim = 0, 0, 0\n",
    "\n",
    "d = re.findall(r'(\\w+) (\\d+)', i)\n",
    "\n",
    "for e in d:\n",
    "    if e[0] == 'forward':\n",
    "        x += int(e[1])\n",
    "        y += aim * int(e[1])\n",
    "    elif e[0] == 'down':\n",
    "        aim += int(e[1])\n",
    "    else:\n",
    "        aim += -int(e[1])\n",
    "        \n",
    "x * y"
   ]
  },
  {
   "cell_type": "code",
   "execution_count": 12,
   "id": "0d169438",
   "metadata": {},
   "outputs": [
    {
     "data": {
      "text/plain": [
       "1408487760"
      ]
     },
     "execution_count": 12,
     "metadata": {},
     "output_type": "execute_result"
    }
   ],
   "source": [
    "i = Input('02').read()\n",
    "\n",
    "x, y, aim = 0, 0, 0\n",
    "\n",
    "d = re.findall(r'(\\w+) (\\d+)', i)\n",
    "\n",
    "for e in d:\n",
    "    if e[0] == 'forward':\n",
    "        x += int(e[1])\n",
    "        y += aim * int(e[1])\n",
    "    elif e[0] == 'down':\n",
    "        aim += int(e[1])\n",
    "    else:\n",
    "        aim += -int(e[1])\n",
    "        \n",
    "x * y"
   ]
  },
  {
   "cell_type": "markdown",
   "id": "aae7ccfc",
   "metadata": {},
   "source": [
    "## [Day 3](https://adventofcode.com/2021/day/3)"
   ]
  },
  {
   "cell_type": "code",
   "execution_count": 13,
   "id": "d80d4d4d",
   "metadata": {},
   "outputs": [
    {
     "data": {
      "text/plain": [
       "198"
      ]
     },
     "execution_count": 13,
     "metadata": {},
     "output_type": "execute_result"
    }
   ],
   "source": [
    "i = \"00100\\n11110\\n10110\\n10111\\n10101\\n01111\\n00111\\n11100\\n10000\\n11001\\n00010\\n01010\"\n",
    "\n",
    "def gamma_rate(i):\n",
    "    gamma = \"\"\n",
    "    i = [list(e) for e in i.strip().split('\\n')]\n",
    "    for e in zip(*i):\n",
    "        if e.count('1') > len(e) / 2:\n",
    "            gamma += '1'\n",
    "        else:\n",
    "            gamma += '0'\n",
    "    return gamma\n",
    "\n",
    "def epsilon_rate(i):\n",
    "    epsilon = \"\"\n",
    "    gamma = gamma_rate(i)\n",
    "    for e in gamma:\n",
    "        if e == '0':\n",
    "            epsilon += '1'\n",
    "        else:\n",
    "            epsilon += '0'\n",
    "    return epsilon\n",
    "\n",
    "def binaryToDecimal(n):\n",
    "    return int(n,2)\n",
    "\n",
    "binaryToDecimal(epsilon_rate(i)) * binaryToDecimal(gamma_rate(i))"
   ]
  },
  {
   "cell_type": "code",
   "execution_count": 14,
   "id": "7e6794ca",
   "metadata": {},
   "outputs": [
    {
     "data": {
      "text/plain": [
       "749376"
      ]
     },
     "execution_count": 14,
     "metadata": {},
     "output_type": "execute_result"
    }
   ],
   "source": [
    "i = Input('03').read()\n",
    "\n",
    "binaryToDecimal(epsilon_rate(i)) * binaryToDecimal(gamma_rate(i))"
   ]
  },
  {
   "cell_type": "code",
   "execution_count": 15,
   "id": "1064f74a",
   "metadata": {
    "scrolled": true
   },
   "outputs": [
    {
     "data": {
      "text/plain": [
       "230"
      ]
     },
     "execution_count": 15,
     "metadata": {},
     "output_type": "execute_result"
    }
   ],
   "source": [
    "i = \"00100\\n11110\\n10110\\n10111\\n10101\\n01111\\n00111\\n11100\\n10000\\n11001\\n00010\\n01010\"\n",
    "\n",
    "def oxygen_generator_rating(i):\n",
    "    i = [list(e) for e in i.strip().split('\\n')]\n",
    "    c = -1\n",
    "    while len(i) > 1:\n",
    "        c += 1\n",
    "        j = []\n",
    "        if list(zip(*i))[c].count('1') < len(list(zip(*i))[c])/2:\n",
    "            for e in i:\n",
    "                if e[c] == '0':\n",
    "                    j.append(e)\n",
    "        else:\n",
    "            for e in i:\n",
    "                if e[c] == '1':\n",
    "                    j.append(e)\n",
    "        i = j\n",
    "\n",
    "    return(''.join(i[0]))\n",
    "\n",
    "def co2_scrubber_rating(i):\n",
    "    i = [list(e) for e in i.strip().split('\\n')]\n",
    "    c = -1\n",
    "    while len(i) > 1:\n",
    "        c += 1\n",
    "        j = []\n",
    "        if list(zip(*i))[c].count('1') < len(list(zip(*i))[c])/2:\n",
    "            for e in i:\n",
    "                if e[c] == '1':\n",
    "                    j.append(e)\n",
    "        else:\n",
    "            for e in i:\n",
    "                if e[c] == '0':\n",
    "                    j.append(e)\n",
    "        i = j\n",
    "\n",
    "    return(''.join(i[0]))\n",
    "\n",
    "binaryToDecimal(oxygen_generator_rating(i)) * binaryToDecimal(co2_scrubber_rating(i))"
   ]
  },
  {
   "cell_type": "code",
   "execution_count": 16,
   "id": "ff7aa0ff",
   "metadata": {},
   "outputs": [
    {
     "data": {
      "text/plain": [
       "2372923"
      ]
     },
     "execution_count": 16,
     "metadata": {},
     "output_type": "execute_result"
    }
   ],
   "source": [
    "i = Input('03').read()\n",
    "\n",
    "binaryToDecimal(oxygen_generator_rating(i)) * binaryToDecimal(co2_scrubber_rating(i))"
   ]
  },
  {
   "cell_type": "markdown",
   "id": "8056e98b",
   "metadata": {},
   "source": [
    "## [Day 4](https://adventofcode.com/2021/day/4)"
   ]
  },
  {
   "cell_type": "code",
   "execution_count": 17,
   "id": "0e0ca506",
   "metadata": {
    "scrolled": true
   },
   "outputs": [
    {
     "data": {
      "text/plain": [
       "4512"
      ]
     },
     "execution_count": 17,
     "metadata": {},
     "output_type": "execute_result"
    }
   ],
   "source": [
    "i = '7,4,9,5,11,17,23,2,0,14,21,24,10,16,13,6,15,25,12,22,18,20,8,19,3,26,1\\n\\n22 13 17 11  0\\n 8  2 23  4 24\\n21  9 14 16  7\\n 6 10  3 18  5\\n 1 12 20 15 19\\n\\n 3 15  0  2 22\\n 9 18 13 17  5\\n19  8  7 25 23\\n20 11 10 24  4\\n14 21 16 12  6\\n\\n14 21 17 24  4\\n10 16 15  9 19\\n18  8 23 26 20\\n22 11 13  6  5\\n 2  0 12  3  7\\n\\n'\n",
    "\n",
    "def _parser(i):\n",
    "    i = i.strip().split('\\n\\n')\n",
    "    numbers = [int(e) for e in i[0].split(',')]\n",
    "    tickets = []\n",
    "    for e in i[1:]:\n",
    "        tickets.append([])\n",
    "        tickets[-1] = [int(e) for e in re.findall(r'\\d+',e)]\n",
    "    return numbers, tickets\n",
    "\n",
    "def _scorecard(i, j):\n",
    "    return [j.index(e) for e in i]\n",
    "\n",
    "def _slicecard(i):\n",
    "    slices = []\n",
    "    for j in range(5):\n",
    "        slices.append(i[j*5:j*5+5])\n",
    "    slices += list(zip(*slices))\n",
    "    return slices\n",
    "\n",
    "def _score(i, j, k):\n",
    "    for number in k[:j+1]:\n",
    "        try:\n",
    "            i.remove(number)\n",
    "        except:\n",
    "            pass\n",
    "    return k[j] * sum(i)\n",
    "        \n",
    "\n",
    "def bestbingo(i):\n",
    "    numbers, tickets = _parser(i)\n",
    "    best = 0\n",
    "    for nr, ticket in enumerate(tickets):\n",
    "        scorecard = _scorecard(ticket, numbers)\n",
    "        scorecard = _slicecard(scorecard)\n",
    "        score = min([max(e) for e in scorecard])\n",
    "        if score < best or best == 0:\n",
    "            best_ticket = ticket\n",
    "            best = score\n",
    "    return _score(best_ticket, best, numbers)\n",
    "\n",
    "bestbingo(i)"
   ]
  },
  {
   "cell_type": "code",
   "execution_count": 18,
   "id": "0a3a2a22",
   "metadata": {},
   "outputs": [
    {
     "data": {
      "text/plain": [
       "5685"
      ]
     },
     "execution_count": 18,
     "metadata": {},
     "output_type": "execute_result"
    }
   ],
   "source": [
    "i = Input('04').read()\n",
    "\n",
    "bestbingo(i)"
   ]
  },
  {
   "cell_type": "code",
   "execution_count": 19,
   "id": "2d456074",
   "metadata": {},
   "outputs": [
    {
     "data": {
      "text/plain": [
       "1924"
      ]
     },
     "execution_count": 19,
     "metadata": {},
     "output_type": "execute_result"
    }
   ],
   "source": [
    "def worstbingo(i):\n",
    "    numbers, tickets = _parser(i)\n",
    "    worst = 0\n",
    "    for nr, ticket in enumerate(tickets):\n",
    "        scorecard = _scorecard(ticket, numbers)\n",
    "        scorecard = _slicecard(scorecard)\n",
    "        score = min([max(e) for e in scorecard])\n",
    "        if score > worst:\n",
    "            worst_ticket = ticket\n",
    "            worst = score\n",
    "    return _score(worst_ticket, worst, numbers)\n",
    "\n",
    "i = '7,4,9,5,11,17,23,2,0,14,21,24,10,16,13,6,15,25,12,22,18,20,8,19,3,26,1\\n\\n22 13 17 11  0\\n 8  2 23  4 24\\n21  9 14 16  7\\n 6 10  3 18  5\\n 1 12 20 15 19\\n\\n 3 15  0  2 22\\n 9 18 13 17  5\\n19  8  7 25 23\\n20 11 10 24  4\\n14 21 16 12  6\\n\\n14 21 17 24  4\\n10 16 15  9 19\\n18  8 23 26 20\\n22 11 13  6  5\\n 2  0 12  3  7\\n\\n'\n",
    "\n",
    "worstbingo(i)"
   ]
  },
  {
   "cell_type": "code",
   "execution_count": 20,
   "id": "5ccbf021",
   "metadata": {},
   "outputs": [
    {
     "data": {
      "text/plain": [
       "21070"
      ]
     },
     "execution_count": 20,
     "metadata": {},
     "output_type": "execute_result"
    }
   ],
   "source": [
    "i = Input('04').read()\n",
    "\n",
    "worstbingo(i)"
   ]
  },
  {
   "cell_type": "markdown",
   "id": "981e772c",
   "metadata": {},
   "source": [
    "## [Day 5](https://adventofcode.com/2021/day/5)"
   ]
  },
  {
   "cell_type": "code",
   "execution_count": 21,
   "id": "a24f8bea",
   "metadata": {},
   "outputs": [
    {
     "data": {
      "text/plain": [
       "5"
      ]
     },
     "execution_count": 21,
     "metadata": {},
     "output_type": "execute_result"
    }
   ],
   "source": [
    "i = \"0,9 -> 5,9\\n8,0 -> 0,8\\n9,4 -> 3,4\\n2,2 -> 2,1\\n7,0 -> 7,4\\n6,4 -> 2,0\\n0,9 -> 2,9\\n3,4 -> 1,4\\n0,0 -> 8,8\\n5,5 -> 8,2\"\n",
    "\n",
    "points = [int(e) for e in re.findall('[0-9]+', i)]\n",
    "\n",
    "grid = {}\n",
    "    \n",
    "for j in range(0, len(points), 4):\n",
    "    x1, y1, x2, y2 = points[j:j + 4]\n",
    "    if x1 != x2 and y1 !=y2:\n",
    "        pass\n",
    "    elif x1 == x2:\n",
    "        x = x1\n",
    "        for y in range(min(y1, y2), max(y1, y2) + 1):\n",
    "            xy = str(x) + ',' + str(y)\n",
    "            if xy not in grid:\n",
    "                grid[xy] = 1\n",
    "            else:\n",
    "                grid[xy] += 1\n",
    "    else:\n",
    "        y = y1\n",
    "        for x in range(min(x1, x2), max(x1, x2) + 1):\n",
    "            xy = str(x) + ',' + str(y)\n",
    "            if xy not in grid:\n",
    "                grid[xy] = 1\n",
    "            else:\n",
    "                grid[xy] += 1\n",
    "sum([1 if e > 1 else 0 for e in grid.values()])"
   ]
  },
  {
   "cell_type": "code",
   "execution_count": 22,
   "id": "e89fffb5",
   "metadata": {},
   "outputs": [
    {
     "data": {
      "text/plain": [
       "7380"
      ]
     },
     "execution_count": 22,
     "metadata": {},
     "output_type": "execute_result"
    }
   ],
   "source": [
    "i = Input('05').read()\n",
    "\n",
    "points = [int(e) for e in re.findall('[0-9]+', i)]\n",
    "\n",
    "grid = {}\n",
    "    \n",
    "for j in range(0, len(points), 4):\n",
    "    x1, y1, x2, y2 = points[j:j + 4]\n",
    "    if x1 != x2 and y1 !=y2:\n",
    "        pass\n",
    "    elif x1 == x2:\n",
    "        x = x1\n",
    "        for y in range(min(y1, y2), max(y1, y2) + 1):\n",
    "            xy = str(x) + ',' + str(y)\n",
    "            if xy not in grid:\n",
    "                grid[xy] = 1\n",
    "            else:\n",
    "                grid[xy] += 1\n",
    "    else:\n",
    "        y = y1\n",
    "        for x in range(min(x1, x2), max(x1, x2) + 1):\n",
    "            xy = str(x) + ',' + str(y)\n",
    "            if xy not in grid:\n",
    "                grid[xy] = 1\n",
    "            else:\n",
    "                grid[xy] += 1\n",
    "sum([1 if e > 1 else 0 for e in grid.values()])"
   ]
  },
  {
   "cell_type": "code",
   "execution_count": 23,
   "id": "668ab299",
   "metadata": {},
   "outputs": [
    {
     "data": {
      "text/plain": [
       "12"
      ]
     },
     "execution_count": 23,
     "metadata": {},
     "output_type": "execute_result"
    }
   ],
   "source": [
    "i = \"0,9 -> 5,9\\n8,0 -> 0,8\\n9,4 -> 3,4\\n2,2 -> 2,1\\n7,0 -> 7,4\\n6,4 -> 2,0\\n0,9 -> 2,9\\n3,4 -> 1,4\\n0,0 -> 8,8\\n5,5 -> 8,2\"\n",
    "\n",
    "i = [int(e) for e in re.findall('[0-9]+', i)]\n",
    "\n",
    "grid = {}\n",
    "    \n",
    "for j in range(0, len(i), 4):\n",
    "    x1, y1, x2, y2 = i[j:j + 4]\n",
    "    if abs(x1-x2) == abs(y1-y2):\n",
    "        if x1 > x2:\n",
    "            x1, x2, y1, y2 = x2, x1, y2, y1\n",
    "        x = [e for e in range(x1, x2 + 1)]\n",
    "        if y1 > y2:\n",
    "            y = [e for e in range(y1, y2, -1)] + [y2]    \n",
    "        else:\n",
    "            y = [e for e in range(y1, y2 + 1)]\n",
    "        points = list(zip(x, y))\n",
    "        for point in points:\n",
    "            xy = str(point[0]) + ',' + str(point[1])\n",
    "            if xy not in grid:\n",
    "                grid[xy] = 1\n",
    "            else:\n",
    "                grid[xy] += 1  \n",
    "    elif x1 == x2:\n",
    "        x = x1\n",
    "        for y in range(min(y1, y2), max(y1, y2) + 1):\n",
    "            xy = str(x) + ',' + str(y)\n",
    "            if xy not in grid:\n",
    "                grid[xy] = 1\n",
    "            else:\n",
    "                grid[xy] += 1\n",
    "    elif y1 == y2:\n",
    "        y = y1\n",
    "        for x in range(min(x1, x2), max(x1, x2) + 1):\n",
    "            xy = str(x) + ',' + str(y)\n",
    "            if xy not in grid:\n",
    "                grid[xy] = 1\n",
    "            else:\n",
    "                grid[xy] += 1\n",
    "\n",
    "sum([1 if e > 1 else 0 for e in grid.values()])"
   ]
  },
  {
   "cell_type": "code",
   "execution_count": 24,
   "id": "47a9e87c",
   "metadata": {},
   "outputs": [
    {
     "data": {
      "text/plain": [
       "21373"
      ]
     },
     "execution_count": 24,
     "metadata": {},
     "output_type": "execute_result"
    }
   ],
   "source": [
    "i = \"0,9 -> 5,9\\n8,0 -> 0,8\\n9,4 -> 3,4\\n2,2 -> 2,1\\n7,0 -> 7,4\\n6,4 -> 2,0\\n0,9 -> 2,9\\n3,4 -> 1,4\\n0,0 -> 8,8\\n5,5 -> 8,2\"\n",
    "\n",
    "i = Input('05').read()\n",
    "\n",
    "i = [int(e) for e in re.findall('[0-9]+', i)]\n",
    "\n",
    "grid = {}\n",
    "    \n",
    "for j in range(0, len(i), 4):\n",
    "    x1, y1, x2, y2 = i[j:j + 4]\n",
    "    if abs(x1-x2) == abs(y1-y2):\n",
    "        if x1 > x2:\n",
    "            x1, x2, y1, y2 = x2, x1, y2, y1\n",
    "        x = [e for e in range(x1, x2 + 1)]\n",
    "        if y1 > y2:\n",
    "            y = [e for e in range(y1, y2, -1)] + [y2]    \n",
    "        else:\n",
    "            y = [e for e in range(y1, y2 + 1)]\n",
    "        points = list(zip(x, y))\n",
    "        for point in points:\n",
    "            xy = str(point[0]) + ',' + str(point[1])\n",
    "            if xy not in grid:\n",
    "                grid[xy] = 1\n",
    "            else:\n",
    "                grid[xy] += 1  \n",
    "    elif x1 == x2:\n",
    "        x = x1\n",
    "        for y in range(min(y1, y2), max(y1, y2) + 1):\n",
    "            xy = str(x) + ',' + str(y)\n",
    "            if xy not in grid:\n",
    "                grid[xy] = 1\n",
    "            else:\n",
    "                grid[xy] += 1\n",
    "    elif y1 == y2:\n",
    "        y = y1\n",
    "        for x in range(min(x1, x2), max(x1, x2) + 1):\n",
    "            xy = str(x) + ',' + str(y)\n",
    "            if xy not in grid:\n",
    "                grid[xy] = 1\n",
    "            else:\n",
    "                grid[xy] += 1\n",
    "\n",
    "sum([1 if e > 1 else 0 for e in grid.values()])"
   ]
  },
  {
   "cell_type": "markdown",
   "id": "d5aae837",
   "metadata": {},
   "source": [
    "## [Day 6](https://adventofcode.com/2021/day/6)"
   ]
  },
  {
   "cell_type": "code",
   "execution_count": 25,
   "id": "45e93366",
   "metadata": {},
   "outputs": [
    {
     "data": {
      "text/plain": [
       "5934"
      ]
     },
     "execution_count": 25,
     "metadata": {},
     "output_type": "execute_result"
    }
   ],
   "source": [
    "i = [3,4,3,1,2]\n",
    "\n",
    "for j in range(80):\n",
    "    ct = i.count(0)\n",
    "    i = [e - 1 if e > 0 else 6 for e in i]\n",
    "    if ct:\n",
    "        for k in range(ct):\n",
    "            i.append(8)\n",
    "len(i)"
   ]
  },
  {
   "cell_type": "code",
   "execution_count": 26,
   "id": "e98cb680",
   "metadata": {},
   "outputs": [
    {
     "data": {
      "text/plain": [
       "390011"
      ]
     },
     "execution_count": 26,
     "metadata": {},
     "output_type": "execute_result"
    }
   ],
   "source": [
    "i = Input('06').read().split(',')\n",
    "i = [int(e) for e in i]\n",
    "\n",
    "for j in range(80):\n",
    "    ct = i.count(0)\n",
    "    i = [e - 1 if e > 0 else 6 for e in i]\n",
    "    if ct:\n",
    "        for k in range(ct):\n",
    "            i.append(8)\n",
    "len(i)"
   ]
  },
  {
   "cell_type": "code",
   "execution_count": 27,
   "id": "ea53f040",
   "metadata": {},
   "outputs": [
    {
     "name": "stdout",
     "output_type": "stream",
     "text": [
      "26984457539\n"
     ]
    }
   ],
   "source": [
    "i = [3,4,3,1,2]\n",
    "\n",
    "counter = [0, 0, 0, 0, 0, 0, 0, 0, 0]\n",
    "\n",
    "for e in i:\n",
    "    counter[e] += 1\n",
    "    \n",
    "for j in range(256):\n",
    "    k = counter[0]\n",
    "    counter[0] = counter[1]\n",
    "    counter[1] = counter[2]\n",
    "    counter[2] = counter[3]\n",
    "    counter[3] = counter[4]\n",
    "    counter[4] = counter[5]\n",
    "    counter[5] = counter[6]\n",
    "    counter[6] = counter[7] + k\n",
    "    counter[7] = counter[8]\n",
    "    counter[8] = k\n",
    "    \n",
    "print(sum(counter))"
   ]
  },
  {
   "cell_type": "code",
   "execution_count": 28,
   "id": "e00fc81e",
   "metadata": {},
   "outputs": [
    {
     "name": "stdout",
     "output_type": "stream",
     "text": [
      "1746710169834\n"
     ]
    }
   ],
   "source": [
    "i = Input('06').read().split(',')\n",
    "i = [int(e) for e in i]\n",
    "counter = [0, 0, 0, 0, 0, 0, 0, 0, 0]\n",
    "\n",
    "for e in i:\n",
    "    counter[e] += 1\n",
    "    \n",
    "for j in range(256):\n",
    "    k = counter[0]\n",
    "    counter[0] = counter[1]\n",
    "    counter[1] = counter[2]\n",
    "    counter[2] = counter[3]\n",
    "    counter[3] = counter[4]\n",
    "    counter[4] = counter[5]\n",
    "    counter[5] = counter[6]\n",
    "    counter[6] = counter[7] + k\n",
    "    counter[7] = counter[8]\n",
    "    counter[8] = k\n",
    "    \n",
    "print(sum(counter))"
   ]
  },
  {
   "cell_type": "markdown",
   "id": "82fe2aec",
   "metadata": {},
   "source": [
    "## [Day 7](https://adventofcode.com/2021/day/7)"
   ]
  },
  {
   "cell_type": "code",
   "execution_count": 29,
   "id": "b3f912f9",
   "metadata": {},
   "outputs": [
    {
     "data": {
      "text/plain": [
       "[111, 41, 37, 49, 41, 37, 53, 41, 37, 95]"
      ]
     },
     "execution_count": 29,
     "metadata": {},
     "output_type": "execute_result"
    }
   ],
   "source": [
    "i = \"16,1,2,0,4,2,7,1,2,14\"\n",
    "\n",
    "i = [int(e) for e in i.split(',')]\n",
    "\n",
    "[sum([abs(e-f) for f in i]) for e in i]"
   ]
  },
  {
   "cell_type": "code",
   "execution_count": 30,
   "id": "11bd0a50",
   "metadata": {},
   "outputs": [
    {
     "data": {
      "text/plain": [
       "342534"
      ]
     },
     "execution_count": 30,
     "metadata": {},
     "output_type": "execute_result"
    }
   ],
   "source": [
    "i = Input('07').read()\n",
    "\n",
    "i = [int(e) for e in i.split(',')]\n",
    "\n",
    "min([sum([abs(e-f) for f in i]) for e in i])"
   ]
  },
  {
   "cell_type": "code",
   "execution_count": 31,
   "id": "3e68799a",
   "metadata": {},
   "outputs": [
    {
     "data": {
      "text/plain": [
       "168"
      ]
     },
     "execution_count": 31,
     "metadata": {},
     "output_type": "execute_result"
    }
   ],
   "source": [
    "i = \"16,1,2,0,4,2,7,1,2,14\"\n",
    "\n",
    "i = [int(e) for e in i.split(',')]\n",
    "\n",
    "def fuel(i):\n",
    "    return sum(range(0, i+1))\n",
    "\n",
    "min([sum([fuel(abs(x-y)) for y in i]) for x in range(min(i), max(i) + 1)])"
   ]
  },
  {
   "cell_type": "code",
   "execution_count": 32,
   "id": "ce82f251",
   "metadata": {},
   "outputs": [
    {
     "data": {
      "text/plain": [
       "94004208"
      ]
     },
     "execution_count": 32,
     "metadata": {},
     "output_type": "execute_result"
    }
   ],
   "source": [
    "i = Input(\"07\").read()\n",
    "i = [int(e) for e in i.split(',')]\n",
    "\n",
    "def fuel(i):\n",
    "    return sum(range(0, i+1))\n",
    "\n",
    "min([sum([fuel(abs(x-y)) for y in i]) for x in range(min(i), max(i) + 1)])"
   ]
  },
  {
   "cell_type": "markdown",
   "id": "08f12aa8",
   "metadata": {},
   "source": [
    "## [Day 8](https://adventofcode.com/2021/day/8)"
   ]
  },
  {
   "cell_type": "code",
   "execution_count": 33,
   "id": "5191b040",
   "metadata": {
    "scrolled": true
   },
   "outputs": [
    {
     "data": {
      "text/plain": [
       "412"
      ]
     },
     "execution_count": 33,
     "metadata": {},
     "output_type": "execute_result"
    }
   ],
   "source": [
    "i = Input('08').read()\n",
    "\n",
    "i = i.strip().split('\\n')\n",
    "i = [re.findall(r'(\\w+)', e) for e in i]\n",
    "\n",
    "count = 0\n",
    "for e in i:\n",
    "    for f in e[-4:]:\n",
    "        if len(f) == 2 or len(f) == 3 or len(f) == 4 or len(f) == 7:\n",
    "            count += 1\n",
    "count    "
   ]
  },
  {
   "cell_type": "code",
   "execution_count": 34,
   "id": "c82c73fb",
   "metadata": {},
   "outputs": [
    {
     "data": {
      "text/plain": [
       "61229"
      ]
     },
     "execution_count": 34,
     "metadata": {},
     "output_type": "execute_result"
    }
   ],
   "source": [
    "i = \"be cfbegad cbdgef fgaecd cgeb fdcge agebfd fecdb fabcd edb | fdgacbe cefdb cefbgd gcbe\\nedbfga begcd cbg gc gcadebf fbgde acbgfd abcde gfcbed gfec | fcgedb cgb dgebacf gc\\nfgaebd cg bdaec gdafb agbcfd gdcbef bgcad gfac gcb cdgabef | cg cg fdcagb cbg\\nfbegcd cbd adcefb dageb afcb bc aefdc ecdab fgdeca fcdbega | efabcd cedba gadfec cb\\naecbfdg fbg gf bafeg dbefa fcge gcbea fcaegb dgceab fcbdga | gecf egdcabf bgf bfgea\\nfgeab ca afcebg bdacfeg cfaedg gcfdb baec bfadeg bafgc acf | gebdcfa ecba ca fadegcb\\ndbcfg fgd bdegcaf fgec aegbdf ecdfab fbedc dacgb gdcebf gf | cefg dcbef fcge gbcadfe\\nbdfegc cbegaf gecbf dfcage bdacg ed bedf ced adcbefg gebcd | ed bcgafe cdgba cbgef\\negadfb cdbfeg cegd fecab cgb gbdefca cg fgcdab egfdb bfceg | gbdfcae bgc cg cgb\\ngcafb gcf dcaebfg ecagb gf abcdeg gaef cafbge fdbac fegbdc | fgae cfgab fg bagce\"\n",
    "\n",
    "i = i.split('\\n')\n",
    "#i = \"be cfbegad cbdgef fgaecd cgeb fdcge agebfd fecdb fabcd edb | fdgacbe cefdb cefbgd gcbe\\nedbfga begcd cbg gc gcadebf fbgde acbgfd abcde gfcbed gfec | fcgedb cgb dgebacf gc\\nfgaebd cg bdaec gdafb agbcfd gdcbef bgcad gfac gcb cdgabef | cg cg fdcagb cbg\\nfbegcd cbd adcefb dageb afcb bc aefdc ecdab fgdeca fcdbega | efabcd cedba gadfec cb\\naecbfdg fbg gf bafeg dbefa fcge gcbea fcaegb dgceab fcbdga | gecf egdcabf bgf bfgea\\nfgeab ca afcebg bdacfeg cfaedg gcfdb baec bfadeg bafgc acf | gebdcfa ecba ca fadegcb\\ndbcfg fgd bdegcaf fgec aegbdf ecdfab fbedc dacgb gdcebf gf | cefg dcbef fcge gbcadfe\\nbdfegc cbegaf gecbf dfcage bdacg ed bedf ced adcbefg gebcd | ed bcgafe cdgba cbgef\\negadfb cdbfeg cegd fecab cgb gbdefca cg fgcdab egfdb bfceg | gbdfcae bgc cg cgb\\ngcafb gcf dcaebfg ecagb gf abcdeg gaef cafbge fdbac fegbdc | fgae cfgab fg bagce\"\n",
    "#i = i.split('\\n')\n",
    "\n",
    "i = [re.findall(r'(\\w+)', e.strip()) for e in i]\n",
    "\n",
    "scores = []\n",
    "\n",
    "for k in i:\n",
    "    j = k[:10]\n",
    "    j = [''.join(sorted(e)) for e in j]\n",
    "    j.sort(key=len)\n",
    "\n",
    "    numbers = {}\n",
    "    while j:\n",
    "        for e in j:\n",
    "        \n",
    "            if len(e) == 2:\n",
    "                numbers[1] = j.pop(j.index(e))\n",
    "            elif len(e) == 3:\n",
    "                numbers[7] = j.pop(j.index(e))\n",
    "            elif len(e) == 4:\n",
    "                numbers[4] = j.pop(j.index(e))\n",
    "            elif len(e) == 7:\n",
    "                numbers[8] = j.pop(j.index(e))\n",
    "            elif len(e) == 5:\n",
    "                if (1 in numbers and 4 in numbers):\n",
    "                    if not set(numbers.get(1, 'hjkl')) - set(e):\n",
    "                        numbers[3] = j.pop(j.index(e))\n",
    "                    elif len(set(numbers.get(4, 'hjkl')) - set(e)) == 1:\n",
    "                        numbers[5] = j.pop(j.index(e))\n",
    "                    else:\n",
    "                        numbers[2] = j.pop(j.index(e))\n",
    "            elif len(e) == 6:\n",
    "                if 1 in numbers and 3 in numbers: \n",
    "                    if len(set(numbers.get(1, 'hjkl')) - set(e)) == 1:\n",
    "                        numbers[6] = j.pop(j.index(e))\n",
    "                    elif len(set(numbers.get(3, 'hjkl')) - set(e)) == 1:\n",
    "                        numbers[0] = j.pop(j.index(e))\n",
    "                    else:\n",
    "                        numbers[9] = j.pop(j.index(e))\n",
    "    \n",
    "    string = ''       \n",
    "    for e in k[10:]:\n",
    "        e = ''.join(sorted(e))\n",
    "        for key, value in numbers.items():\n",
    "            if value == e:\n",
    "                string += str(key)\n",
    "    scores.append(int(string))\n",
    "    \n",
    "sum(scores)"
   ]
  },
  {
   "cell_type": "code",
   "execution_count": 35,
   "id": "214077a3",
   "metadata": {
    "scrolled": true
   },
   "outputs": [
    {
     "data": {
      "text/plain": [
       "978171"
      ]
     },
     "execution_count": 35,
     "metadata": {},
     "output_type": "execute_result"
    }
   ],
   "source": [
    "i = Input('08').readlines()\n",
    "#i = \"be cfbegad cbdgef fgaecd cgeb fdcge agebfd fecdb fabcd edb | fdgacbe cefdb cefbgd gcbe\\nedbfga begcd cbg gc gcadebf fbgde acbgfd abcde gfcbed gfec | fcgedb cgb dgebacf gc\\nfgaebd cg bdaec gdafb agbcfd gdcbef bgcad gfac gcb cdgabef | cg cg fdcagb cbg\\nfbegcd cbd adcefb dageb afcb bc aefdc ecdab fgdeca fcdbega | efabcd cedba gadfec cb\\naecbfdg fbg gf bafeg dbefa fcge gcbea fcaegb dgceab fcbdga | gecf egdcabf bgf bfgea\\nfgeab ca afcebg bdacfeg cfaedg gcfdb baec bfadeg bafgc acf | gebdcfa ecba ca fadegcb\\ndbcfg fgd bdegcaf fgec aegbdf ecdfab fbedc dacgb gdcebf gf | cefg dcbef fcge gbcadfe\\nbdfegc cbegaf gecbf dfcage bdacg ed bedf ced adcbefg gebcd | ed bcgafe cdgba cbgef\\negadfb cdbfeg cegd fecab cgb gbdefca cg fgcdab egfdb bfceg | gbdfcae bgc cg cgb\\ngcafb gcf dcaebfg ecagb gf abcdeg gaef cafbge fdbac fegbdc | fgae cfgab fg bagce\"\n",
    "#i = i.split('\\n')\n",
    "\n",
    "i = [re.findall(r'(\\w+)', e.strip()) for e in i]\n",
    "\n",
    "scores = []\n",
    "\n",
    "for k in i:\n",
    "    j = k[:10]\n",
    "    j = [''.join(sorted(e)) for e in j]\n",
    "    j.sort(key=len)\n",
    "\n",
    "    numbers = {}\n",
    "    while j:\n",
    "        for e in j:\n",
    "        \n",
    "            if len(e) == 2:\n",
    "                numbers[1] = j.pop(j.index(e))\n",
    "            elif len(e) == 3:\n",
    "                numbers[7] = j.pop(j.index(e))\n",
    "            elif len(e) == 4:\n",
    "                numbers[4] = j.pop(j.index(e))\n",
    "            elif len(e) == 7:\n",
    "                numbers[8] = j.pop(j.index(e))\n",
    "            elif len(e) == 5:\n",
    "                if (1 in numbers and 4 in numbers):\n",
    "                    if not set(numbers.get(1, 'hjkl')) - set(e):\n",
    "                        numbers[3] = j.pop(j.index(e))\n",
    "                    elif len(set(numbers.get(4, 'hjkl')) - set(e)) == 1:\n",
    "                        numbers[5] = j.pop(j.index(e))\n",
    "                    else:\n",
    "                        numbers[2] = j.pop(j.index(e))\n",
    "            elif len(e) == 6:\n",
    "                if 1 in numbers and 3 in numbers: \n",
    "                    if len(set(numbers.get(1, 'hjkl')) - set(e)) == 1:\n",
    "                        numbers[6] = j.pop(j.index(e))\n",
    "                    elif len(set(numbers.get(3, 'hjkl')) - set(e)) == 1:\n",
    "                        numbers[0] = j.pop(j.index(e))\n",
    "                    else:\n",
    "                        numbers[9] = j.pop(j.index(e))\n",
    "    \n",
    "    string = ''       \n",
    "    for e in k[10:]:\n",
    "        e = ''.join(sorted(e))\n",
    "        for key, value in numbers.items():\n",
    "            if value == e:\n",
    "                string += str(key)\n",
    "    scores.append(int(string))\n",
    "    \n",
    "sum(scores)"
   ]
  },
  {
   "cell_type": "markdown",
   "id": "2d47cde3",
   "metadata": {},
   "source": [
    "## [Day 9](https://adventofcode.com/2021/day/9)"
   ]
  },
  {
   "cell_type": "code",
   "execution_count": 36,
   "id": "8eb52eec",
   "metadata": {},
   "outputs": [
    {
     "data": {
      "text/plain": [
       "(4, 11)"
      ]
     },
     "execution_count": 36,
     "metadata": {},
     "output_type": "execute_result"
    }
   ],
   "source": [
    "i = \"2199943210\\n3987894921\\n9856789892\\n8767896789\\n9899965678\"\n",
    "\n",
    "i = i.split('\\n')\n",
    "\n",
    "def neighbors(x, y):\n",
    "    return str(x+1)+','+ str(y), str(x-1) + ',' + str(y), str(x) + ',' +str(y+1), str(x) + ',' + str(y-1)\n",
    "\n",
    "def multiply(lst):\n",
    "    return np.product(lst)\n",
    "\n",
    "grid = {}\n",
    "count = 0\n",
    "risk = 0\n",
    "\n",
    "for y, e in enumerate(i):\n",
    "    for x, f in enumerate(e):\n",
    "        grid[str(x) + ',' + str(y)] = i[y][x]\n",
    "        \n",
    "for x in range(len(i[0])):\n",
    "    for y in range(len(i)):\n",
    "        nbr = neighbors(x, y)\n",
    "        scores = [int(grid.get(str(x) + ',' + str(y)))]\n",
    "        for n in nbr:\n",
    "            scores.append(int(grid.get(n, 9)))\n",
    "        scores = [1 if scores[0] < e else 0 for e in scores[1:]]\n",
    "        count += multiply(scores)\n",
    "        risk += int(grid[str(x) + ',' + str(y)]) * multiply(scores)\n",
    "count, risk"
   ]
  },
  {
   "cell_type": "code",
   "execution_count": 37,
   "id": "b8cfd765",
   "metadata": {},
   "outputs": [
    {
     "data": {
      "text/plain": [
       "(217, 269, 486)"
      ]
     },
     "execution_count": 37,
     "metadata": {},
     "output_type": "execute_result"
    }
   ],
   "source": [
    "i = Input('09').read()\n",
    "#i = \"2199943210\\n3987894921\\n9856789892\\n8767896789\\n9899965678\"\n",
    "i = i.strip().split('\\n')\n",
    "\n",
    "def neighbors(x, y):\n",
    "    x = int(x)\n",
    "    y = int(y)\n",
    "    return str(x+1)+','+ str(y), str(x-1) + ',' + str(y), str(x) + ',' +str(y+1), str(x) + ',' + str(y-1)\n",
    "\n",
    "def multiply(lst):\n",
    "    return np.product(lst)\n",
    "\n",
    "grid = {}\n",
    "low_points={}\n",
    "count = 0\n",
    "risk = 0\n",
    "\n",
    "for y, e in enumerate(i):\n",
    "    for x, f in enumerate(e):\n",
    "        grid[str(x) + ',' + str(y)] = i[y][x]\n",
    "        \n",
    "for x in range(len(i[0])):\n",
    "    for y in range(len(i)):\n",
    "        nbr = neighbors(x, y)\n",
    "        scores = [int(grid.get(str(x) + ',' + str(y)))]\n",
    "        for n in nbr:\n",
    "            scores.append(int(grid.get(n, 9)))\n",
    "        scores = [1 if scores[0] < e else 0 for e in scores[1:]]\n",
    "        if multiply(scores) != 0:\n",
    "            low_points[str(x) + ',' + str(y)] = {}\n",
    "        count += multiply(scores)\n",
    "        risk += int(grid[str(x) + ',' + str(y)]) * multiply(scores)\n",
    "count, risk, count + risk"
   ]
  },
  {
   "cell_type": "code",
   "execution_count": 38,
   "id": "85be3d2f",
   "metadata": {},
   "outputs": [],
   "source": [
    "# - voor elk laagste punt\n",
    "# - voor elke hoogte\n",
    "# - oppervlakte en eventuele overlap met andere bassins"
   ]
  },
  {
   "cell_type": "code",
   "execution_count": 39,
   "id": "c5ea84b2",
   "metadata": {},
   "outputs": [
    {
     "ename": "NameError",
     "evalue": "name 'data' is not defined",
     "output_type": "error",
     "traceback": [
      "\u001b[0;31m---------------------------------------------------------------------------\u001b[0m",
      "\u001b[0;31mNameError\u001b[0m                                 Traceback (most recent call last)",
      "\u001b[0;32m/tmp/ipykernel_24/1723480117.py\u001b[0m in \u001b[0;36m<module>\u001b[0;34m\u001b[0m\n\u001b[1;32m      1\u001b[0m \u001b[0mlowpoints\u001b[0m \u001b[0;34m=\u001b[0m \u001b[0;34m[\u001b[0m\u001b[0;34m]\u001b[0m\u001b[0;34m\u001b[0m\u001b[0;34m\u001b[0m\u001b[0m\n\u001b[0;32m----> 2\u001b[0;31m \u001b[0;32mfor\u001b[0m \u001b[0mi\u001b[0m\u001b[0;34m,\u001b[0m \u001b[0mline\u001b[0m \u001b[0;32min\u001b[0m \u001b[0menumerate\u001b[0m\u001b[0;34m(\u001b[0m\u001b[0mdata\u001b[0m\u001b[0;34m)\u001b[0m\u001b[0;34m:\u001b[0m\u001b[0;34m\u001b[0m\u001b[0;34m\u001b[0m\u001b[0m\n\u001b[0m\u001b[1;32m      3\u001b[0m     \u001b[0mlowpoints\u001b[0m\u001b[0;34m.\u001b[0m\u001b[0mappend\u001b[0m\u001b[0;34m(\u001b[0m\u001b[0;34m[\u001b[0m\u001b[0;34m]\u001b[0m\u001b[0;34m)\u001b[0m\u001b[0;34m\u001b[0m\u001b[0;34m\u001b[0m\u001b[0m\n\u001b[1;32m      4\u001b[0m     \u001b[0;32mfor\u001b[0m \u001b[0mj\u001b[0m\u001b[0;34m,\u001b[0m \u001b[0me\u001b[0m \u001b[0;32min\u001b[0m \u001b[0menumerate\u001b[0m\u001b[0;34m(\u001b[0m\u001b[0mline\u001b[0m\u001b[0;34m)\u001b[0m\u001b[0;34m:\u001b[0m\u001b[0;34m\u001b[0m\u001b[0;34m\u001b[0m\u001b[0m\n\u001b[1;32m      5\u001b[0m         \u001b[0;32mif\u001b[0m \u001b[0mstr\u001b[0m\u001b[0;34m(\u001b[0m\u001b[0mj\u001b[0m\u001b[0;34m)\u001b[0m\u001b[0;34m+\u001b[0m\u001b[0;34m\",\"\u001b[0m\u001b[0;34m+\u001b[0m\u001b[0mstr\u001b[0m\u001b[0;34m(\u001b[0m\u001b[0mi\u001b[0m\u001b[0;34m)\u001b[0m \u001b[0;32min\u001b[0m \u001b[0mlow_points\u001b[0m\u001b[0;34m:\u001b[0m\u001b[0;34m\u001b[0m\u001b[0;34m\u001b[0m\u001b[0m\n",
      "\u001b[0;31mNameError\u001b[0m: name 'data' is not defined"
     ]
    }
   ],
   "source": [
    "lowpoints = []\n",
    "for i, line in enumerate(data):\n",
    "    lowpoints.append([])\n",
    "    for j, e in enumerate(line):\n",
    "        if str(j)+\",\"+str(i) in low_points:\n",
    "            lowpoints[i].append(1)\n",
    "        else:\n",
    "            lowpoints[i].append(0)"
   ]
  },
  {
   "cell_type": "code",
   "execution_count": null,
   "id": "fe8c0fed",
   "metadata": {},
   "outputs": [],
   "source": [
    "import matplotlib.pyplot as plt\n",
    "import matplotlib.colors\n",
    "import matplotlib.cm\n",
    "\n",
    "def rgb_white2alpha(rgb, ensure_increasing=False):\n",
    "    \"\"\"\n",
    "    Convert a set of RGB colors to RGBA with maximum transparency.\n",
    "    \n",
    "    The transparency is maximised for each color individually, assuming\n",
    "    that the background is white.\n",
    "    \n",
    "    Parameters\n",
    "    ----------\n",
    "    rgb : array_like shaped (N, 3)\n",
    "        Original colors.\n",
    "    ensure_increasing : bool, default=False\n",
    "        Ensure that alpha values are strictly increasing.\n",
    "    \n",
    "    Returns\n",
    "    -------\n",
    "    rgba : numpy.ndarray shaped (N, 4)\n",
    "        Colors with maximum possible transparency, assuming a white\n",
    "        background.\n",
    "    \"\"\"\n",
    "    # The most transparent alpha we can use is given by the min of RGB\n",
    "    # Convert it from saturation to opacity\n",
    "    alpha = 1. - np.min(rgb, axis=1)\n",
    "    if ensure_increasing:\n",
    "        # Let's also ensure the alpha value is monotonically increasing\n",
    "        a_max = alpha[0]\n",
    "        for i, a in enumerate(alpha):\n",
    "            alpha[i] = a_max = np.maximum(a, a_max)\n",
    "    alpha = np.expand_dims(alpha, -1)\n",
    "    # Rescale colors to discount the white that will show through from transparency\n",
    "    rgb = (rgb + alpha - 1) / alpha\n",
    "    # Concatenate our alpha channel\n",
    "    return np.concatenate((rgb, alpha), axis=1)\n",
    "    \n",
    "\n",
    "def cmap_white2alpha(name, ensure_increasing=False, register=True):\n",
    "    \"\"\"\n",
    "    Convert colormap to have the most transparency possible, assuming white background.\n",
    "    \n",
    "    Parameters\n",
    "    ----------\n",
    "    name : str\n",
    "        Name of builtin (or registered) colormap.\n",
    "    ensure_increasing : bool, default=False\n",
    "        Ensure that alpha values are strictly increasing.\n",
    "    register : bool, default=True\n",
    "        Whether to register the new colormap.\n",
    "\n",
    "    Returns\n",
    "    -------\n",
    "    cmap : matplotlib.colors.ListedColormap\n",
    "        Colormap with alpha set as low as possible.\n",
    "    \"\"\"\n",
    "    # Fetch the cmap callable\n",
    "    cmap = plt.get_cmap(name)\n",
    "    # Get the colors out from the colormap LUT\n",
    "    rgb = cmap(np.arange(cmap.N))[:, :3]  # N-by-3\n",
    "    # Convert white to alpha\n",
    "    rgba = rgb_white2alpha(rgb, ensure_increasing=ensure_increasing)\n",
    "    # Create a new Colormap object\n",
    "    cmap_alpha = matplotlib.colors.ListedColormap(rgba, name=name + \"_alpha\")\n",
    "    if register:\n",
    "        matplotlib.cm.register_cmap(name=name + \"_alpha\", cmap=cmap_alpha)\n",
    "    return cmap_alpha\n",
    "\n",
    "# Get original Reds colormap\n",
    "cmap_og = plt.get_cmap(\"Reds\")\n",
    "\n",
    "# Get our new version of the colormap with white2alpha\n",
    "cmap_w2a = cmap_white2alpha(\"Reds\")\n",
    "\n",
    "data = parse('09')\n",
    "\n",
    "heightmap = []\n",
    "for line in data:\n",
    "    heightmap.append([int(e) for e in line])\n",
    "\n",
    "fig, ax = plt.subplots(figsize=(10,10))\n",
    "im = ax.imshow(heightmap, cmap='winter')\n",
    "im = ax.imshow(lowpoints, cmap=cmap_w2a)\n",
    "\n",
    "plt.show()"
   ]
  },
  {
   "cell_type": "code",
   "execution_count": null,
   "id": "7462d20b",
   "metadata": {},
   "outputs": [],
   "source": [
    "i = \"2199943210\\n3987894921\\n9856789892\\n8767896789\\n9899965678\"\n",
    "i = parse('09')\n",
    "#i = i.split('\\n')\n",
    "\n",
    "grid = {}\n",
    "low_points={}\n",
    "count = 0\n",
    "risk = 0\n",
    "\n",
    "for y, e in enumerate(i):\n",
    "    for x, f in enumerate(e):\n",
    "        grid[str(x) + ',' + str(y)] = i[y][x]\n",
    "        \n",
    "for x in range(len(i[0])):\n",
    "    for y in range(len(i)):\n",
    "        nbr = neighbors(x, y)\n",
    "        scores = [int(grid.get(str(x) + ',' + str(y)))]\n",
    "        for n in nbr:\n",
    "            scores.append(int(grid.get(n, 9)))\n",
    "        scores = [1 if scores[0] < e else 0 for e in scores[1:]]\n",
    "        if multiply(scores) != 0:\n",
    "            low_points[str(x) + ',' + str(y)] = {}\n",
    "        count += multiply(scores)\n",
    "        risk += int(grid[str(x) + ',' + str(y)]) * multiply(scores)\n",
    "count, risk, count + risk\n",
    "\n",
    "#print(low_points)\n",
    "\n",
    "def height(x, y, grid):\n",
    "    c = str(x) + ',' + str(y)\n",
    "    return grid.get(c, 9)\n",
    "\n",
    "def depoint(pt):\n",
    "    return [int(e) for e in pt.split(',')]\n",
    "areas = []\n",
    "for point in low_points:\n",
    "    hist = [point]\n",
    "    for pt in hist:\n",
    "        #print(hist)\n",
    "        x, y = depoint(pt)\n",
    "        nbrs = [*neighbors(x, y)]\n",
    "        #print(nbrs)\n",
    "        _nbrs = []\n",
    "        while nbrs:\n",
    "            nbr = nbrs.pop(0)\n",
    "            if int(grid.get(nbr, 9)) < 9 and nbr in grid and nbr not in hist:\n",
    "                _nbrs.append(nbr)\n",
    "        hist += _nbrs\n",
    "    #print(len(hist))\n",
    "    areas.append(len(hist))\n",
    "multiply(sorted(areas)[-3:])"
   ]
  },
  {
   "cell_type": "markdown",
   "id": "1c08c090",
   "metadata": {},
   "source": [
    "## [Day 10](https://adventofcode.com/2021/day/10)"
   ]
  },
  {
   "cell_type": "code",
   "execution_count": null,
   "id": "d6afe2c9",
   "metadata": {},
   "outputs": [],
   "source": [
    "i = parse('10')\n",
    "\n",
    "scores = {\n",
    "    ')': 3,\n",
    "    ']': 57,\n",
    "    '}': 1197,\n",
    "    '>': 25137\n",
    "}\n",
    "\n",
    "score = 0\n",
    "\n",
    "for num, line in enumerate(i):\n",
    "    tmp = []\n",
    "    for char in line:\n",
    "        if char in '[{(<':\n",
    "            tmp.append(char)\n",
    "        elif char == ')' and tmp[-1] == '(':\n",
    "            tmp.pop()\n",
    "        elif char == '>' and tmp[-1] == '<':\n",
    "            tmp.pop()\n",
    "        elif char == ']' and tmp[-1] == '[':\n",
    "            tmp.pop()\n",
    "        elif char == '}' and tmp[-1] == '{':\n",
    "            tmp.pop()\n",
    "        else:\n",
    "            #print(\"line \" + str(num) + \" is false\")\n",
    "            #i.pop(num)\n",
    "            score += scores[char]\n",
    "            break\n",
    "score"
   ]
  },
  {
   "cell_type": "code",
   "execution_count": null,
   "id": "0ff86388",
   "metadata": {},
   "outputs": [],
   "source": [
    "i = parse('10')\n",
    "\n",
    "#i = \"[({(<(())[]>[[{[]{<()<>>\\n[(()[<>])]({[<{<<[]>>(\\n{([(<{}[<>[]}>{[]{[(<()>\\n(((({<>}<{<{<>}{[]{[]{}\\n[[<[([]))<([[{}[[()]]]\\n[{[{({}]{}}([{[{{{}}([]\\n{<[[]]>}<{[{[{[]{()[[[]\\n[<(<(<(<{}))><([]([]()\\n<{([([[(<>()){}]>(<<{{\\n<{([{{}}[<[[[<>{}]]]>[]]\"\n",
    "#i = i.split('\\n')\n",
    "\n",
    "scores = {\n",
    "    '(': 1,\n",
    "    '[': 2,\n",
    "    '{': 3,\n",
    "    '<': 4\n",
    "}\n",
    "score = []\n",
    "while i:\n",
    "    line = i.pop(0)\n",
    "    tmp = []\n",
    "    for char in line:\n",
    "        get_score = True\n",
    "        if char in '[{(<':\n",
    "            tmp.append(char)\n",
    "        elif tmp[-1] == '[{(<'[']})>'.find(char)]:\n",
    "            tmp.pop()\n",
    "        elif tmp[-1] != '[{(<'[']})>'.find(char)]:\n",
    "            get_score = False\n",
    "            break\n",
    "    if get_score and len(tmp) != 0:\n",
    "        tmpscore = 0\n",
    "        for e in tmp[-1::-1]:\n",
    "            tmpscore *= 5\n",
    "            tmpscore += scores[e]\n",
    "        score.append(tmpscore)\n",
    "sorted(score)[int(len(score)/2)]"
   ]
  },
  {
   "cell_type": "markdown",
   "id": "08924442",
   "metadata": {},
   "source": [
    "## [Day 11](https://adventofcode.com/2021/day/11)"
   ]
  },
  {
   "cell_type": "code",
   "execution_count": null,
   "id": "8a65198f",
   "metadata": {},
   "outputs": [],
   "source": [
    "i = parse('11')\n",
    "\n",
    "#i = \"5483143223\\n2745854711\\n5264556173\\n6141336146\\n6357385478\\n4167524645\\n2176841721\\n6882881134\\n4846848554\\n5283751526\".split('\\n')\n",
    "\n",
    "def neighbor8(x, y):\n",
    "    return (x-1, y-1), (x, y-1), (x+1, y-1), (x-1, y), (x+1, y), (x-1, y+1), (x, y+1), (x+1, y+1)\n",
    "\n",
    "\n",
    "grid = {}\n",
    "flash = 0\n",
    "\n",
    "for j, y in enumerate(i):\n",
    "    for k, x in enumerate(y):\n",
    "        c = \"(\" + str(x) + \", \" + str(y) + \")\"\n",
    "        grid[(k, j)] = int(i[j][k])\n",
    "\n",
    "for step in range(100):\n",
    "    for k, v in grid.items():\n",
    "        grid[k] += 1\n",
    "    while True:\n",
    "        process = []\n",
    "        for k, v in grid.items():\n",
    "            if grid[k] > 9:\n",
    "                flash += 1\n",
    "                process.append(k)\n",
    "                grid[k] = 0\n",
    "        if not process:\n",
    "            break\n",
    "        while process:\n",
    "            p = process.pop()\n",
    "            for n in neighbor8(*p):\n",
    "                if grid.get(n, 0) > 0:\n",
    "                    grid[n] += 1\n",
    "                    \n",
    "step, flash"
   ]
  },
  {
   "cell_type": "code",
   "execution_count": null,
   "id": "19de68a0",
   "metadata": {},
   "outputs": [],
   "source": [
    "i = \"5483143223\\n2745854711\\n5264556173\\n6141336146\\n6357385478\\n4167524645\\n2176841721\\n6882881134\\n4846848554\\n5283751526\".split('\\n')\n",
    "i = parse('11')\n",
    "grid = {}\n",
    "step = 0\n",
    "\n",
    "for j, y in enumerate(i):\n",
    "    for k, x in enumerate(y):\n",
    "        c = \"(\" + str(x) + \", \" + str(y) + \")\"\n",
    "        grid[(k, j)] = int(i[j][k])\n",
    "\n",
    "while sum(grid.values()) != 0:\n",
    "    step += 1\n",
    "    for k, v in grid.items():\n",
    "        grid[k] += 1\n",
    "    while True:\n",
    "        process = []\n",
    "        for k, v in grid.items():\n",
    "            if grid[k] > 9:\n",
    "                flash += 1\n",
    "                process.append(k)\n",
    "                grid[k] = 0\n",
    "        if not process:\n",
    "            break\n",
    "        while process:\n",
    "            p = process.pop()\n",
    "            for n in neighbor8(*p):\n",
    "                if grid.get(n, 0) > 0:\n",
    "                    grid[n] += 1\n",
    "                    \n",
    "print(step)"
   ]
  },
  {
   "cell_type": "markdown",
   "id": "a7c617af",
   "metadata": {},
   "source": [
    "## [Day 12](https://adventofcode.com/2021/day/12)"
   ]
  },
  {
   "cell_type": "code",
   "execution_count": null,
   "id": "20ce1ff0",
   "metadata": {},
   "outputs": [],
   "source": [
    "i = \"start-A\\nstart-b\\nA-c\\nA-b\\nb-d\\nA-end\\nb-end\"\n",
    "i = [e.split('-') for e in i.split('\\n')]\n",
    "\n",
    "caverns = {}\n",
    "\n",
    "for e in i:\n",
    "    k, v = e\n",
    "    if k in caverns and v != 'start':\n",
    "        caverns[k].append(v)\n",
    "    elif v != 'start':\n",
    "        caverns[k] = [v]\n",
    "    if v in caverns and k != 'start':\n",
    "        caverns[v].append(k)\n",
    "    elif k != 'start':\n",
    "        caverns[v] = [k]\n",
    "        \n",
    "caverns.pop('end')\n",
    "\n",
    "paths = [['start']]\n",
    "\n",
    "for path in paths:\n",
    "    if path[-1] != 'end':\n",
    "        options = caverns[path[-1]]\n",
    "        for option in options:\n",
    "            option1 = None\n",
    "#             print(option, path)\n",
    "            if option.isupper() and option != path[-1]:\n",
    "                option1 = option\n",
    "            elif option.islower() and option not in path:\n",
    "                option1 = option\n",
    "            if option1:\n",
    "                paths.append(path.copy() + [option])\n",
    "    else:\n",
    "        pass\n",
    "\n",
    "len(list(filter(lambda path: path[-1] == 'end', paths)))"
   ]
  },
  {
   "cell_type": "code",
   "execution_count": null,
   "id": "3f1dfcb5",
   "metadata": {},
   "outputs": [],
   "source": [
    "i = \"\"\"fs-end\n",
    "he-DX\n",
    "fs-he\n",
    "start-DX\n",
    "pj-DX\n",
    "end-zg\n",
    "zg-sl\n",
    "zg-pj\n",
    "pj-he\n",
    "RW-he\n",
    "fs-DX\n",
    "pj-RW\n",
    "zg-RW\n",
    "start-pj\n",
    "he-WI\n",
    "zg-he\n",
    "pj-fs\n",
    "start-RW\"\"\"\n",
    "i = [e.split('-') for e in i.split('\\n')]\n",
    "\n",
    "caverns = {}\n",
    "\n",
    "for e in i:\n",
    "    k, v = e\n",
    "    if k in caverns and v != 'start':\n",
    "        caverns[k].append(v)\n",
    "    elif v != 'start':\n",
    "        caverns[k] = [v]\n",
    "    if v in caverns and k != 'start':\n",
    "        caverns[v].append(k)\n",
    "    elif k != 'start':\n",
    "        caverns[v] = [k]\n",
    "        \n",
    "caverns.pop('end')\n",
    "\n",
    "paths = [['start']]\n",
    "\n",
    "for path in paths:\n",
    "    if path[-1] != 'end':\n",
    "        options = caverns[path[-1]]\n",
    "        for option in options:\n",
    "            option1 = None\n",
    "#             print(option, path)\n",
    "            if option.isupper() and option != path[-1]:\n",
    "                option1 = option\n",
    "            elif option.islower() and option not in path:\n",
    "                option1 = option\n",
    "            if option1:\n",
    "                paths.append(path.copy() + [option])\n",
    "    else:\n",
    "        pass\n",
    "\n",
    "len(list(filter(lambda path: path[-1] == 'end', paths)))"
   ]
  },
  {
   "cell_type": "code",
   "execution_count": null,
   "id": "f65e36b1",
   "metadata": {},
   "outputs": [],
   "source": [
    "i = parse('12')\n",
    "i = [e.split('-') for e in i]\n",
    "\n",
    "caverns = {}\n",
    "\n",
    "for e in i:\n",
    "    k, v = e\n",
    "    if k in caverns and v != 'start':\n",
    "        caverns[k].append(v)\n",
    "    elif v != 'start':\n",
    "        caverns[k] = [v]\n",
    "    if v in caverns and k != 'start':\n",
    "        caverns[v].append(k)\n",
    "    elif k != 'start':\n",
    "        caverns[v] = [k]\n",
    "        \n",
    "caverns.pop('end')\n",
    "\n",
    "paths = [['start']]\n",
    "\n",
    "for path in paths:\n",
    "    if path[-1] != 'end':\n",
    "        options = caverns[path[-1]]\n",
    "        for option in options:\n",
    "            option1 = None\n",
    "#             print(option, path)\n",
    "            if option.isupper() and option != path[-1]:\n",
    "                option1 = option\n",
    "            elif option.islower() and option not in path:\n",
    "                option1 = option\n",
    "            if option1:\n",
    "                paths.append(path.copy() + [option])\n",
    "    else:\n",
    "        pass\n",
    "\n",
    "len(list(filter(lambda path: path[-1] == 'end', paths)))"
   ]
  },
  {
   "cell_type": "code",
   "execution_count": null,
   "id": "3318a36f",
   "metadata": {},
   "outputs": [],
   "source": [
    "i = \"start-A\\nstart-b\\nA-c\\nA-b\\nb-d\\nA-end\\nb-end\"\n",
    "i = [e.split('-') for e in i.split('\\n')]\n",
    "\n",
    "caverns = {}\n",
    "\n",
    "for e in i:\n",
    "    k, v = e\n",
    "    if k in caverns and v != 'start':\n",
    "        caverns[k].append(v)\n",
    "    elif v != 'start':\n",
    "        caverns[k] = [v]\n",
    "    if v in caverns and k != 'start':\n",
    "        caverns[v].append(k)\n",
    "    elif k != 'start':\n",
    "        caverns[v] = [k]\n",
    "        \n",
    "caverns.pop('end')\n",
    "\n",
    "paths = [['start']]\n",
    "\n",
    "for path in paths:\n",
    "    if path[-1] != 'end':\n",
    "        options = caverns[path[-1]]\n",
    "        for option in options:\n",
    "            option1 = None\n",
    "            if option == 'end':\n",
    "                option1 = option\n",
    "            else:\n",
    "                if option.isupper() and option != path[-1]:\n",
    "                    option1 = option\n",
    "                if option.islower() and option != 'end':\n",
    "                    for e in path:\n",
    "                        if e.islower() and path.count(e) == 2 and option in path:\n",
    "                            option1 = None\n",
    "                            break\n",
    "                        else:\n",
    "                            option1 = option\n",
    "            if option1:\n",
    "                paths.append(path.copy() + [option1])\n",
    "\n",
    "len(list(filter(lambda path: path[-1] == 'end', paths)))"
   ]
  },
  {
   "cell_type": "code",
   "execution_count": null,
   "id": "234f8b4c",
   "metadata": {},
   "outputs": [],
   "source": [
    "i = \"\"\"fs-end\n",
    "he-DX\n",
    "fs-he\n",
    "start-DX\n",
    "pj-DX\n",
    "end-zg\n",
    "zg-sl\n",
    "zg-pj\n",
    "pj-he\n",
    "RW-he\n",
    "fs-DX\n",
    "pj-RW\n",
    "zg-RW\n",
    "start-pj\n",
    "he-WI\n",
    "zg-he\n",
    "pj-fs\n",
    "start-RW\"\"\"\n",
    "i = [e.split('-') for e in i.split('\\n')]\n",
    "\n",
    "caverns = {}\n",
    "\n",
    "for e in i:\n",
    "    k, v = e\n",
    "    if k in caverns and v != 'start':\n",
    "        caverns[k].append(v)\n",
    "    elif v != 'start':\n",
    "        caverns[k] = [v]\n",
    "    if v in caverns and k != 'start':\n",
    "        caverns[v].append(k)\n",
    "    elif k != 'start':\n",
    "        caverns[v] = [k]\n",
    "        \n",
    "caverns.pop('end')\n",
    "\n",
    "paths = [['start']]\n",
    "\n",
    "for path in paths:\n",
    "    if path[-1] != 'end':\n",
    "        options = caverns[path[-1]]\n",
    "        for option in options:\n",
    "            option1 = None\n",
    "            if option == 'end':\n",
    "                option1 = option\n",
    "            else:\n",
    "                if option.isupper() and option != path[-1]:\n",
    "                    option1 = option\n",
    "                if option.islower() and option != 'end':\n",
    "                    for e in path:\n",
    "                        if e.islower() and path.count(e) == 2 and option in path:\n",
    "                            option1 = None\n",
    "                            break\n",
    "                        else:\n",
    "                            option1 = option\n",
    "            if option1:\n",
    "                paths.append(path.copy() + [option1])\n",
    "\n",
    "len(list(filter(lambda path: path[-1] == 'end', paths)))"
   ]
  },
  {
   "cell_type": "code",
   "execution_count": null,
   "id": "d90877c3",
   "metadata": {},
   "outputs": [],
   "source": [
    "i = parse('12')\n",
    "i = [e.split('-') for e in i]\n",
    "\n",
    "caverns = {}\n",
    "\n",
    "for e in i:\n",
    "    k, v = e\n",
    "    if k in caverns and v != 'start':\n",
    "        caverns[k].append(v)\n",
    "    elif v != 'start':\n",
    "        caverns[k] = [v]\n",
    "    if v in caverns and k != 'start':\n",
    "        caverns[v].append(k)\n",
    "    elif k != 'start':\n",
    "        caverns[v] = [k]\n",
    "        \n",
    "caverns.pop('end')\n",
    "\n",
    "paths = [['start']]\n",
    "\n",
    "for path in paths:\n",
    "    if path[-1] != 'end':\n",
    "        options = caverns[path[-1]]\n",
    "        for option in options:\n",
    "            option1 = None\n",
    "            if option == 'end':\n",
    "                option1 = option\n",
    "            else:\n",
    "                if option.isupper() and option != path[-1]:\n",
    "                    option1 = option\n",
    "                if option.islower() and option != 'end':\n",
    "                    for e in path:\n",
    "                        if e.islower() and path.count(e) == 2 and option in path:\n",
    "                            option1 = None\n",
    "                            break\n",
    "                        else:\n",
    "                            option1 = option\n",
    "            if option1:\n",
    "                paths.append(path.copy() + [option1])\n",
    "\n",
    "len(list(filter(lambda path: path[-1] == 'end', paths)))"
   ]
  },
  {
   "cell_type": "markdown",
   "id": "9f18cb6f",
   "metadata": {},
   "source": [
    "## [Day 13](https://adventofcode.com/2021/day/13)"
   ]
  },
  {
   "cell_type": "code",
   "execution_count": null,
   "id": "d839b5ca",
   "metadata": {},
   "outputs": [],
   "source": [
    "i = \"\"\"6,10\n",
    "0,14\n",
    "9,10\n",
    "0,3\n",
    "10,4\n",
    "4,11\n",
    "6,0\n",
    "6,12\n",
    "4,1\n",
    "0,13\n",
    "10,12\n",
    "3,4\n",
    "3,0\n",
    "8,4\n",
    "1,10\n",
    "2,14\n",
    "8,10\n",
    "9,0\n",
    "\n",
    "fold along y=7\n",
    "fold along x=5\"\"\"\n",
    "\n",
    "def mirror(i):\n",
    "    return i[::-1]\n",
    "\n",
    "i = i.split('\\n\\n')\n",
    "\n",
    "folds = re.findall(r'([xy])=(\\d)', i[1])\n",
    "i = [e.split(',') for e in i[0].split('\\n')]\n",
    "i = [[int(e) for e in f] for f in i]\n",
    "maxx = max(zip(*i))[0]\n",
    "maxy = max(zip(*i))[1]\n",
    "\n",
    "grid = []\n",
    "\n",
    "for y in range(maxy + 1):\n",
    "    grid.append([0] * (maxx + 1))\n",
    "    \n",
    "for e in i:\n",
    "    x, y = e\n",
    "    grid[y][x] = 1    \n",
    "\n",
    "for fold in folds:\n",
    "#     print(grid)\n",
    "    if fold[0] == 'y':\n",
    "        p1 = grid[:int(fold[1])]\n",
    "        p2 = mirror(grid[int(fold[1])+1:])\n",
    "#         print(p1, p2)\n",
    "        for y, line in enumerate(p1):\n",
    "            for x, e in enumerate(line):\n",
    "                if p2[y][x] == 1:\n",
    "                    p1[y][x] = 1\n",
    "                    #print(p1)\n",
    "        grid = p1\n",
    "#         print(grid)\n",
    "            \n",
    "#         print(grid)\n",
    "                    \n",
    "    if fold[0] == 'x':\n",
    "        grid = list(zip(*grid))\n",
    "        grid =  [[e for e in f] for f in grid]\n",
    "        p1 = grid[:int(fold[1])]\n",
    "        p2 = mirror(grid[int(fold[1])+1:])\n",
    "        for y, line in enumerate(p1):\n",
    "            for x, e in enumerate(line):\n",
    "                if p2[y][x] == 1:\n",
    "                    p1[y][x] = 1\n",
    "        grid = p1\n",
    "#         print(grid)\n",
    "        grid = list(zip(*grid))\n",
    "        grid =  [[e for e in f] for f in grid]              \n",
    "                        \n",
    "grid"
   ]
  },
  {
   "cell_type": "code",
   "execution_count": null,
   "id": "a689e022",
   "metadata": {},
   "outputs": [],
   "source": [
    "i = Input('13').read()\n",
    "\n",
    "def mirror(i):\n",
    "    return i[::-1]\n",
    "\n",
    "i = i.strip().split('\\n\\n')\n",
    "\n",
    "folds = re.findall(r'([xy])=(\\d+)', i[1])\n",
    "i = [e.split(',') for e in i[0].split('\\n')]\n",
    "i = [[int(e) for e in f] for f in i]\n",
    "\n",
    "maxx = max(list(zip(*i))[0])\n",
    "maxy = max(list(zip(*i))[1])\n",
    "\n",
    "grid = []\n",
    "\n",
    "for y in range(maxy + 1):\n",
    "    grid.append([0] * (maxx + 1))\n",
    "    \n",
    "for e in i:\n",
    "    x, y = e\n",
    "    grid[y][x] = 1  \n",
    "\n",
    "for fold in folds:\n",
    "    print(sum([sum(e) for e in grid]))\n",
    "\n",
    "    if fold[0] == 'y':\n",
    "        p1 = grid[:int(fold[1])]\n",
    "        p2 = mirror(grid[int(fold[1])+1:])\n",
    "\n",
    "        for y, line in enumerate(p1):\n",
    "            for x, e in enumerate(line):\n",
    "                if p2[y][x] == 1:\n",
    "                    p1[y][x] = 1\n",
    "        grid = p1\n",
    "                    \n",
    "    if fold[0] == 'x':\n",
    "\n",
    "        grid = list(zip(*grid))\n",
    "        grid = [[e for e in f] for f in grid]\n",
    "        p1 = grid[:int(fold[1])]\n",
    "        p2 = mirror(grid[int(fold[1])+1:])\n",
    "\n",
    "        for y, line in enumerate(p1):\n",
    "            for x, e in enumerate(line):\n",
    "\n",
    "                if p2[y][x] == 1:\n",
    "                    p1[y][x] = 1\n",
    "        grid = p1\n",
    "        grid = list(zip(*grid))\n",
    "        grid =  [[e for e in f] for f in grid]  "
   ]
  },
  {
   "cell_type": "code",
   "execution_count": null,
   "id": "36e9a6ea",
   "metadata": {},
   "outputs": [],
   "source": [
    "i = Input('13').read()\n",
    "\n",
    "def mirror(i):\n",
    "    return i[::-1]\n",
    "\n",
    "i = i.strip().split('\\n\\n')\n",
    "\n",
    "folds = re.findall(r'([xy])=(\\d+)', i[1])\n",
    "i = [e.split(',') for e in i[0].split('\\n')]\n",
    "i = [[int(e) for e in f] for f in i]\n",
    "\n",
    "maxx = max(list(zip(*i))[0])\n",
    "maxy = max(list(zip(*i))[1])\n",
    "\n",
    "grid = []\n",
    "\n",
    "for y in range(maxy + 1):\n",
    "    grid.append([0] * (maxx + 1))\n",
    "    \n",
    "for e in i:\n",
    "    x, y = e\n",
    "    grid[y][x] = 1  \n",
    "\n",
    "for fold in folds:\n",
    "    #print(sum([sum(e) for e in grid]))\n",
    "\n",
    "    if fold[0] == 'y':\n",
    "        p1 = grid[:int(fold[1])]\n",
    "        p2 = mirror(grid[int(fold[1])+1:])\n",
    "\n",
    "        for y, line in enumerate(p1):\n",
    "            for x, e in enumerate(line):\n",
    "                if p2[y][x] == 1:\n",
    "                    p1[y][x] = 1\n",
    "        grid = p1\n",
    "                    \n",
    "    if fold[0] == 'x':\n",
    "\n",
    "        grid = list(zip(*grid))\n",
    "        grid = [[e for e in f] for f in grid]\n",
    "        p1 = grid[:int(fold[1])]\n",
    "        p2 = mirror(grid[int(fold[1])+1:])\n",
    "\n",
    "        for y, line in enumerate(p1):\n",
    "            for x, e in enumerate(line):\n",
    "\n",
    "                if p2[y][x] == 1:\n",
    "                    p1[y][x] = 1\n",
    "        grid = p1\n",
    "        grid = list(zip(*grid))\n",
    "        grid =  [[e for e in f] for f in grid]\n",
    "        \n",
    "grid = [['#' if e==1 else '.' for e in f] for f in grid]\n",
    "\n",
    "grid = [''.join(e) for e in grid]\n",
    "\n",
    "grid\n"
   ]
  },
  {
   "cell_type": "markdown",
   "id": "518b28cf",
   "metadata": {},
   "source": [
    "## [Day 14](https://adventofcode.com/2021/day/14)"
   ]
  },
  {
   "cell_type": "code",
   "execution_count": null,
   "id": "0bfcde01",
   "metadata": {
    "scrolled": true
   },
   "outputs": [],
   "source": [
    "i = \"\"\"NNCB\n",
    "\n",
    "CH -> B\n",
    "HH -> N\n",
    "CB -> H\n",
    "NH -> C\n",
    "HB -> C\n",
    "HC -> B\n",
    "HN -> C\n",
    "NN -> C\n",
    "BH -> H\n",
    "NC -> B\n",
    "NB -> B\n",
    "BN -> B\n",
    "BB -> N\n",
    "BC -> B\n",
    "CC -> N\n",
    "CN -> C\"\"\"\n",
    "\n",
    "i = i.split('\\n\\n')\n",
    "\n",
    "sequence = [e for e in i[0]]\n",
    "\n",
    "table = {key: value for (key,value) in re.findall(r'(\\w+) -> (\\w)', i[1])}\n",
    "\n",
    "for step in range(10):\n",
    "    out = []\n",
    "    for j in range(len(sequence)-1):\n",
    "        slc = sequence[j:j+2]\n",
    "        key = ''.join(slc)\n",
    "        out.append(slc[0])\n",
    "        out.append(table[key])\n",
    "    out.append(sequence[-1])\n",
    "    sequence = out\n",
    "    #print(''.join(sequence))\n",
    "\n",
    "scores = {}\n",
    "for char in ('NCBH'):\n",
    "    scores[char] = sequence.count(char)\n",
    "    \n",
    "scores"
   ]
  },
  {
   "cell_type": "code",
   "execution_count": null,
   "id": "67978d08",
   "metadata": {},
   "outputs": [],
   "source": [
    "i = Input('14').read()\n",
    "\n",
    "i = i.split('\\n\\n')\n",
    "\n",
    "sequence = [e for e in i[0]]\n",
    "\n",
    "table = {key: value for (key,value) in re.findall(r'(\\w+) -> (\\w)', i[1])}\n",
    "\n",
    "for step in range(10):\n",
    "    out = []\n",
    "    for j in range(len(sequence)-1):\n",
    "        slc = sequence[j:j+2]\n",
    "        key = ''.join(slc)\n",
    "        out.append(slc[0])\n",
    "        out.append(table[key])\n",
    "    out.append(sequence[-1])\n",
    "    sequence = out\n",
    "\n",
    "scores = {}\n",
    "for char in sequence:\n",
    "    if char not in scores:\n",
    "        scores[char] = sequence.count(char)\n",
    "    \n",
    "max(scores.values()) - min(scores.values())"
   ]
  },
  {
   "cell_type": "code",
   "execution_count": null,
   "id": "a4269f70",
   "metadata": {},
   "outputs": [],
   "source": [
    "i = \"\"\"NNCB\n",
    "\n",
    "CH -> B\n",
    "HH -> N\n",
    "CB -> H\n",
    "NH -> C\n",
    "HB -> C\n",
    "HC -> B\n",
    "HN -> C\n",
    "NN -> C\n",
    "BH -> H\n",
    "NC -> B\n",
    "NB -> B\n",
    "BN -> B\n",
    "BB -> N\n",
    "BC -> B\n",
    "CC -> N\n",
    "CN -> C\"\"\"\n",
    "\n",
    "i = Input('14').read()\n",
    "\n",
    "i = i.split('\\n\\n')\n",
    "\n",
    "sequence = [e for e in i[0]]\n",
    "\n",
    "i = re.findall(r'(\\w+) -> (\\w)', i[1])\n",
    "\n",
    "table = {}\n",
    "for e in i:\n",
    "    k, v = e\n",
    "    v1, v2 = k[0] + v, v + k[1] \n",
    "    table[k] = [v1, v2] \n",
    "\n",
    "scores = {}\n",
    "first = table[''.join(sequence[:2])][0]\n",
    "last = table[''.join(sequence[-2:])][1]\n",
    "\n",
    "for i in range(len(sequence) - 1):\n",
    "    key = ''.join(sequence[i:i+2])\n",
    "    if key in scores:\n",
    "        scores[key] += 1\n",
    "    else:\n",
    "        scores[key] = 1\n",
    "\n",
    "for step in range(40):\n",
    "    tmp = {}\n",
    "    first = table[first][0]\n",
    "    last = table[last][1]nb\n",
    "    for k, v in scores.items():\n",
    "        keys = table[k]\n",
    "        for key in keys:\n",
    "            if key in tmp:\n",
    "                tmp[key] += v\n",
    "            else:\n",
    "                tmp[key] = v\n",
    "    scores = tmp\n",
    "    \n",
    "scores\n",
    "score = {}    \n",
    "for key, value in scores.items():\n",
    "    for e in key:\n",
    "        if e in score:\n",
    "            score[e] += value\n",
    "        else:\n",
    "            score[e] = value\n",
    "score = {key:value/2 for key,value in score.items()}\n",
    "int(max(score.values()) - min(score.values()))"
   ]
  },
  {
   "cell_type": "markdown",
   "id": "c20b783e",
   "metadata": {},
   "source": [
    "## [Day 15](https://adventofcode.com/2021/day/15)"
   ]
  },
  {
   "cell_type": "code",
   "execution_count": 221,
   "id": "8e8ac2f9",
   "metadata": {
    "scrolled": true
   },
   "outputs": [
    {
     "data": {
      "text/plain": [
       "714"
      ]
     },
     "execution_count": 221,
     "metadata": {},
     "output_type": "execute_result"
    }
   ],
   "source": [
    "from collections import deque\n",
    "\n",
    "i = \"\"\"1163751742\n",
    "1381373672\n",
    "2136511328\n",
    "3694931569\n",
    "7463417111\n",
    "1319128137\n",
    "1359912421\n",
    "3125421639\n",
    "1293138521\n",
    "2311944581\n",
    "\"\"\"\n",
    "\n",
    "#i = \"\"\"1381\n",
    "2136\n",
    "2649\n",
    "7463\n",
    "#\"\"\"\n",
    "\n",
    "i = Input('15').read()\n",
    "\n",
    "def grid(i):\n",
    "    grid = {}\n",
    "    for y, l in enumerate(i):\n",
    "        for x, e in enumerate(l):\n",
    "            grid[label(x, y)] = int(e)\n",
    "    return grid\n",
    "\n",
    "def label(x, y):\n",
    "    return (x, y)\n",
    "\n",
    "def neighbors(i):\n",
    "    x, y = i\n",
    "    return (x+1, y), (x-1, y), (x, y+1), (x, y-1)\n",
    "\n",
    "\n",
    "def paths(grid):\n",
    "    paths = {}\n",
    "    queue = deque(grid.keys())\n",
    "    while queue:\n",
    "        k = queue.popleft()\n",
    "        for nbr in neighbors(k):\n",
    "            if nbr in grid.keys():\n",
    "                p = paths.get(nbr, 0)\n",
    "                paths[nbr] = min(paths.get(k, 0) + grid[nbr], paths.get(nbr, 99999999))\n",
    "    queue = deque(grid.keys())\n",
    "    while queue:\n",
    "        k = queue.popleft()\n",
    "        for nbr in neighbors(k):\n",
    "            if nbr in grid.keys():\n",
    "                p = paths.get(nbr, 0)\n",
    "                paths[nbr] = min(paths.get(k, 0) + grid[nbr], paths.get(nbr, 99999999))\n",
    "#                 if paths[nbr] != p and p != 0:\n",
    "#                     for nbr2 in neighbors(nbr):\n",
    "#                         queue.append(nbr2)\n",
    "#             print(k)\n",
    "#             if k == (99, 99):\n",
    "#                 print(k, paths[k], paths)\n",
    "    return paths\n",
    "\n",
    "grid = grid(mapt(str, i.strip().split('\\n')))\n",
    "\n",
    "p = paths(grid)\n",
    "\n",
    "p[(99, 99)]"
   ]
  },
  {
   "cell_type": "code",
   "execution_count": 250,
   "id": "9c8b22d0",
   "metadata": {},
   "outputs": [
    {
     "data": {
      "text/plain": [
       "315"
      ]
     },
     "execution_count": 250,
     "metadata": {},
     "output_type": "execute_result"
    }
   ],
   "source": [
    "i = \"\"\"11637517422274862853338597396444961841755517295286\n",
    "13813736722492484783351359589446246169155735727126\n",
    "21365113283247622439435873354154698446526571955763\n",
    "36949315694715142671582625378269373648937148475914\n",
    "74634171118574528222968563933317967414442817852555\n",
    "13191281372421239248353234135946434524615754563572\n",
    "13599124212461123532357223464346833457545794456865\n",
    "31254216394236532741534764385264587549637569865174\n",
    "12931385212314249632342535174345364628545647573965\n",
    "23119445813422155692453326671356443778246755488935\n",
    "22748628533385973964449618417555172952866628316397\n",
    "24924847833513595894462461691557357271266846838237\n",
    "32476224394358733541546984465265719557637682166874\n",
    "47151426715826253782693736489371484759148259586125\n",
    "85745282229685639333179674144428178525553928963666\n",
    "24212392483532341359464345246157545635726865674683\n",
    "24611235323572234643468334575457944568656815567976\n",
    "42365327415347643852645875496375698651748671976285\n",
    "23142496323425351743453646285456475739656758684176\n",
    "34221556924533266713564437782467554889357866599146\n",
    "33859739644496184175551729528666283163977739427418\n",
    "35135958944624616915573572712668468382377957949348\n",
    "43587335415469844652657195576376821668748793277985\n",
    "58262537826937364893714847591482595861259361697236\n",
    "96856393331796741444281785255539289636664139174777\n",
    "35323413594643452461575456357268656746837976785794\n",
    "35722346434683345754579445686568155679767926678187\n",
    "53476438526458754963756986517486719762859782187396\n",
    "34253517434536462854564757396567586841767869795287\n",
    "45332667135644377824675548893578665991468977611257\n",
    "44961841755517295286662831639777394274188841538529\n",
    "46246169155735727126684683823779579493488168151459\n",
    "54698446526571955763768216687487932779859814388196\n",
    "69373648937148475914825958612593616972361472718347\n",
    "17967414442817852555392896366641391747775241285888\n",
    "46434524615754563572686567468379767857948187896815\n",
    "46833457545794456865681556797679266781878137789298\n",
    "64587549637569865174867197628597821873961893298417\n",
    "45364628545647573965675868417678697952878971816398\n",
    "56443778246755488935786659914689776112579188722368\n",
    "55172952866628316397773942741888415385299952649631\n",
    "57357271266846838237795794934881681514599279262561\n",
    "65719557637682166874879327798598143881961925499217\n",
    "71484759148259586125936169723614727183472583829458\n",
    "28178525553928963666413917477752412858886352396999\n",
    "57545635726865674683797678579481878968159298917926\n",
    "57944568656815567976792667818781377892989248891319\n",
    "75698651748671976285978218739618932984172914319528\n",
    "56475739656758684176786979528789718163989182927419\n",
    "67554889357866599146897761125791887223681299833479\"\"\"\n",
    "\n",
    "def grid(i):\n",
    "    grid = {}\n",
    "    for y, l in enumerate(i):\n",
    "        for x, e in enumerate(l):\n",
    "            grid[label(x, y)] = int(e)\n",
    "    return grid\n",
    "\n",
    "grid = grid(i.strip().split('\\n'))\n",
    "\n",
    "p = paths(grid)\n",
    "\n",
    "p[(49, 49)]"
   ]
  },
  {
   "cell_type": "code",
   "execution_count": 305,
   "id": "ff651cb7",
   "metadata": {},
   "outputs": [
    {
     "name": "stdout",
     "output_type": "stream",
     "text": [
      "250000\n"
     ]
    }
   ],
   "source": [
    "def grid(i):\n",
    "    grid = {}\n",
    "    for y, l in enumerate(i):\n",
    "        for x, e in enumerate(l):\n",
    "            grid[label(x, y)] = int(e)\n",
    "    return grid\n",
    "\n",
    "def paths(grid):\n",
    "    paths = {}\n",
    "    queue = deque(grid.keys())\n",
    "    while queue:\n",
    "        k = queue.popleft()\n",
    "        for nbr in neighbors(k):\n",
    "            if nbr in grid.keys():\n",
    "                p = paths.get(nbr, 0)\n",
    "                paths[nbr] = min(paths.get(k, 0) + grid[nbr], paths.get(nbr, 99999999))\n",
    "    queue = deque(grid.keys())\n",
    "    while queue:\n",
    "        k = queue.popleft()\n",
    "        for nbr in neighbors(k):\n",
    "            if nbr in grid.keys():\n",
    "                p = paths.get(nbr, 0)\n",
    "                paths[nbr] = min(paths.get(k, 0) + grid[nbr], paths.get(nbr, 99999999))\n",
    "    queue = deque(grid.keys())\n",
    "    while queue:\n",
    "        k = queue.popleft()\n",
    "        for nbr in neighbors(k):\n",
    "            if nbr in grid.keys():\n",
    "                p = paths.get(nbr, 0)\n",
    "                paths[nbr] = min(paths.get(k, 0) + grid[nbr], paths.get(nbr, 99999999))\n",
    "    queue = deque(grid.keys())\n",
    "    while queue:\n",
    "        k = queue.popleft()\n",
    "        for nbr in neighbors(k):\n",
    "            if nbr in grid.keys():\n",
    "                p = paths.get(nbr, 0)\n",
    "                paths[nbr] = min(paths.get(k, 0) + grid[nbr], paths.get(nbr, 99999999))\n",
    "                \n",
    "    queue = deque(grid.keys())\n",
    "    while queue:\n",
    "        k = queue.popleft()\n",
    "        for nbr in neighbors(k):\n",
    "            if nbr in grid.keys():\n",
    "                p = paths.get(nbr, 0)\n",
    "                paths[nbr] = min(paths.get(k, 0) + grid[nbr], paths.get(nbr, 99999999))\n",
    "    queue = deque(grid.keys())\n",
    "    while queue:\n",
    "        k = queue.popleft()\n",
    "        for nbr in neighbors(k):\n",
    "            if nbr in grid.keys():\n",
    "                p = paths.get(nbr, 0)\n",
    "                paths[nbr] = min(paths.get(k, 0) + grid[nbr], paths.get(nbr, 99999999))\n",
    "    queue = deque(grid.keys())\n",
    "    while queue:\n",
    "        k = queue.popleft()\n",
    "        for nbr in neighbors(k):\n",
    "            if nbr in grid.keys():\n",
    "                p = paths.get(nbr, 0)\n",
    "                paths[nbr] = min(paths.get(k, 0) + grid[nbr], paths.get(nbr, 99999999))\n",
    "#                 if paths[nbr] != p and p != 0:\n",
    "#                     for nbr2 in neighbors(nbr):\n",
    "#                         queue.append(nbr2)\n",
    "#             print(k)\n",
    "#             if k == (99, 99):\n",
    "#                 print(k, paths[k], paths)\n",
    "    return paths\n",
    "\n",
    "i = Input('15').read()\n",
    "\n",
    "grid = grid(mapt(str, i.strip().split('\\n')))\n",
    "\n",
    "grid0 = {}\n",
    "\n",
    "for l in range(0, 5):\n",
    "    for m in range(0, 5):\n",
    "        for k, v in grid.items():\n",
    "            x, y = k\n",
    "            val = grid[k]\n",
    "            x = x + 100 * m\n",
    "            y = y + 100 * l\n",
    "            val = 9 if (val + (l + m)) %9 == 0 else (val + (l + m)) % 9\n",
    "            grid0[(label(x, y))] = val\n",
    "            \n",
    "print(len(grid0))\n",
    "                \n",
    "p = paths(grid0)\n",
    "\n",
    "# sum([1 if v == 0 else 0 for k, v in grid0.items()])"
   ]
  },
  {
   "cell_type": "code",
   "execution_count": 306,
   "id": "b0fd4171",
   "metadata": {},
   "outputs": [
    {
     "data": {
      "text/plain": [
       "2948"
      ]
     },
     "execution_count": 306,
     "metadata": {},
     "output_type": "execute_result"
    }
   ],
   "source": [
    "p[(499, 499)]"
   ]
  }
 ],
 "metadata": {
  "kernelspec": {
   "display_name": "Python 3 (ipykernel)",
   "language": "python",
   "name": "python3"
  },
  "language_info": {
   "codemirror_mode": {
    "name": "ipython",
    "version": 3
   },
   "file_extension": ".py",
   "mimetype": "text/x-python",
   "name": "python",
   "nbconvert_exporter": "python",
   "pygments_lexer": "ipython3",
   "version": "3.11.6"
  }
 },
 "nbformat": 4,
 "nbformat_minor": 5
}

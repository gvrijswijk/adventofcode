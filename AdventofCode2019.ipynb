{
 "cells": [
  {
   "cell_type": "markdown",
   "metadata": {},
   "source": [
    "# Advent of Code 2019"
   ]
  },
  {
   "cell_type": "code",
   "execution_count": 31,
   "metadata": {},
   "outputs": [],
   "source": [
    "import re\n",
    "\n",
    "def Input(day, year=2019):\n",
    "    directory = '{}'.format(year)\n",
    "    filename = directory + '/input{}.txt'.format(day)\n",
    "    return open(filename)"
   ]
  },
  {
   "cell_type": "markdown",
   "metadata": {},
   "source": [
    "## [Day 1: The Tyranny of the Rocket Equation](https://adventofcode.com/2019/day/1)\n",
    "\n",
    "At first I solved this puzzle by just iterating over the data. Part 1 was supereasy, part 2 involved a little bit of iterating over the data. Over the weekend I tried getting a cleaner solution. This involved an hour or so of wondering why part 2 wasn't calculated correctly. I didn't know zip only zips up to the shortest length input."
   ]
  },
  {
   "cell_type": "code",
   "execution_count": 37,
   "metadata": {},
   "outputs": [
    {
     "name": "stdout",
     "output_type": "stream",
     "text": [
      "Part 1:\n",
      "3266288.0\n",
      "Part 2:\n",
      "4896582.0\n"
     ]
    }
   ],
   "source": [
    "i = [int(e) for e in Input('01')]\n",
    "    \n",
    "def f_to_add(i):\n",
    "    o = []\n",
    "    for c,j in enumerate(i):\n",
    "        o.append([])\n",
    "        while j > 8:\n",
    "            j = j / 3 // 1 -2\n",
    "            o[c].append(j)\n",
    "    return o\n",
    "\n",
    "print(\"Part 1:\")\n",
    "print([sum(j) for j in zip(*f_to_add(i))][0])\n",
    "print(\"Part 2:\")\n",
    "print(sum([sum(j) for j in (f_to_add(i))]))"
   ]
  },
  {
   "cell_type": "markdown",
   "metadata": {},
   "source": [
    "## [Day 2: 1202 Program Alarm](https://adventofcode.com/2019/day/2)"
   ]
  },
  {
   "cell_type": "code",
   "execution_count": 45,
   "metadata": {},
   "outputs": [
    {
     "name": "stdout",
     "output_type": "stream",
     "text": [
      "Part 1:\n",
      "3085697\n",
      "9425\n"
     ]
    }
   ],
   "source": [
    "input02 = \"1,0,0,3,1,1,2,3,1,3,4,3,1,5,0,3,2,10,1,19,1,19,9,23,1,23,13,27,1,10,27,31,2,31,13,35,1,10,35,39,2,9,39,43,2,43,9,47,1,6,47,51,1,10,51,55,2,55,13,59,1,59,10,63,2,63,13,67,2,67,9,71,1,6,71,75,2,75,9,79,1,79,5,83,2,83,13,87,1,9,87,91,1,13,91,95,1,2,95,99,1,99,6,0,99,2,14,0,0\"\n",
    "#input02 = \"1,9,10,3,2,3,11,0,99,30,40,50\"\n",
    "\n",
    "i = [int(e) for e in input02.split(',')]\n",
    "i[1] = 12\n",
    "i[2] = 2\n",
    "\n",
    "for j in range(0, len(i), 4):\n",
    "    if i[j] == 99:\n",
    "        break\n",
    "    elif i[j] == 1:\n",
    "        i[i[j + 3]] = i[i[j + 1]] + i[i[j + 2]]\n",
    "    elif i[j] == 2:\n",
    "        i[i[j + 3]] = i[i[j + 1]] * i[i[j + 2]]\n",
    "\n",
    "print('Part 1:')\n",
    "print(i[0])\n",
    "\n",
    "target = 19690720\n",
    "maxi = 100\n",
    "for verb in range(maxi):\n",
    "    for noun in range(maxi):\n",
    "        i = [int(e) for e in input02.split(',')]\n",
    "        i[1] = noun\n",
    "        i[2] = verb\n",
    "        for j in range(0, len(i), 4):\n",
    "            if i[j] == 99:\n",
    "                break\n",
    "            elif i[j] == 1:\n",
    "                i[i[j + 3]] = i[i[j + 1]] + i[i[j + 2]]\n",
    "            elif i[j] == 2:\n",
    "                i[i[j + 3]] = i[i[j + 1]] * i[i[j + 2]]\n",
    "        if i[0] == target:\n",
    "            print(100 * noun + verb)\n"
   ]
  },
  {
   "cell_type": "markdown",
   "metadata": {},
   "source": [
    "## [Day 3: Crossed Wires](https://adventofcode.com/2019/day/3)"
   ]
  },
  {
   "cell_type": "code",
   "execution_count": 46,
   "metadata": {},
   "outputs": [
    {
     "name": "stdout",
     "output_type": "stream",
     "text": [
      "Part 1:\n",
      "258\n",
      "12304\n"
     ]
    }
   ],
   "source": [
    "Point = complex\n",
    "dir ={'R': 1, 'L': -1, 'U': 1j, 'D': -1j}\n",
    "\n",
    "i = Input('03')\n",
    "\n",
    "visited = []\n",
    "\n",
    "for c, j in enumerate(i):\n",
    "    visited.append([])\n",
    "    loc = 0\n",
    "    for k in re.findall(r'([RLDU])(\\d+)', j):\n",
    "        for l in range(int(k[1])): \n",
    "            loc += dir[k[0]]\n",
    "            visited[c].append(loc)\n",
    "\n",
    "distances = []\n",
    "\n",
    "for point in (set(visited[0]) & set(visited[1])):\n",
    "    distances.append(point.real+point.imag) \n",
    "\n",
    "print(\"Part 1:\")\n",
    "print(min(distances))\n",
    "\n",
    "d2 = []\n",
    "\n",
    "for point in set(visited[0]) & set(visited[1]):\n",
    "    d2.append(visited[0].index(point) + visited[1].index(point))\n",
    "\n",
    "print(min(d2) + 2)"
   ]
  },
  {
   "cell_type": "markdown",
   "metadata": {},
   "source": [
    "## [Day 4: Secure Container](https://adventofcode.com/2019/day/4)"
   ]
  },
  {
   "cell_type": "code",
   "execution_count": 44,
   "metadata": {},
   "outputs": [
    {
     "name": "stdout",
     "output_type": "stream",
     "text": [
      "Part 1: 1605\n",
      "Part 2: 1102\n"
     ]
    }
   ],
   "source": [
    "rlow = 193651\n",
    "rhigh = 649729\n",
    "\n",
    "def sixdigits(low, high):\n",
    "    lst = []\n",
    "    for i in range(low, high + 1):\n",
    "        i = str(i)\n",
    "        if len(str(i)) == 6:\n",
    "            lst.append(i)\n",
    "    return lst\n",
    "\n",
    "def doubledigits(low, high):\n",
    "    lst = []\n",
    "    for i in range(low, high + 1):\n",
    "        i = str(i)\n",
    "        for j in range(1, len(i)):\n",
    "            if i[j]== i[j-1]:\n",
    "                lst.append(i)\n",
    "                break\n",
    "    return lst\n",
    "\n",
    "def ascendingorder(low, high):\n",
    "    lst = []\n",
    "    for i in range(low, high + 1):\n",
    "        i = str(i)\n",
    "        if i == \"\".join(sorted(i)):\n",
    "            lst.append(i)\n",
    "    return lst\n",
    "\n",
    "def isolateddoubledigits(low, high):\n",
    "    lst = []\n",
    "    for i in range (low, high + 1):\n",
    "        i = str(i)\n",
    "        tmp = [1]\n",
    "        for j in range(1, len(i)):\n",
    "            if i[j] == i[j - 1]:\n",
    "                tmp.append(tmp[j - 1] + 1)\n",
    "            else:\n",
    "                tmp.append(1)\n",
    "        if tmp.count(2) > tmp.count(3):\n",
    "            lst.append(i)\n",
    "    return lst\n",
    "\n",
    "print(\"Part 1: \" + str(len(set(sixdigits(rlow, rhigh)) & set(doubledigits(rlow, rhigh)) & set(ascendingorder(rlow, rhigh)))))\n",
    "print(\"Part 2: \" + str(len(set(sixdigits(rlow, rhigh)) & set(ascendingorder(rlow, rhigh)) & set(isolateddoubledigits(rlow, rhigh)))))"
   ]
  },
  {
   "cell_type": "markdown",
   "metadata": {},
   "source": [
    "## Day 5: Sunny with a Chance of Asteroids"
   ]
  },
  {
   "cell_type": "code",
   "execution_count": null,
   "metadata": {
    "scrolled": true
   },
   "outputs": [],
   "source": []
  },
  {
   "cell_type": "code",
   "execution_count": null,
   "metadata": {},
   "outputs": [],
   "source": []
  }
 ],
 "metadata": {
  "kernelspec": {
   "display_name": "Python 3",
   "language": "python",
   "name": "python3"
  },
  "language_info": {
   "codemirror_mode": {
    "name": "ipython",
    "version": 3
   },
   "file_extension": ".py",
   "mimetype": "text/x-python",
   "name": "python",
   "nbconvert_exporter": "python",
   "pygments_lexer": "ipython3",
   "version": "3.6.9"
  }
 },
 "nbformat": 4,
 "nbformat_minor": 2
}

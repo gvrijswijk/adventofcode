{
 "cells": [
  {
   "cell_type": "markdown",
   "metadata": {},
   "source": [
    "# Advent of Code 2019"
   ]
  },
  {
   "cell_type": "code",
   "execution_count": 1,
   "metadata": {},
   "outputs": [],
   "source": [
    "import re, itertools\n",
    "\n",
    "def Input(day, year=2019):\n",
    "    directory = '{}'.format(year)\n",
    "    filename = directory + '/input{}.txt'.format(day)\n",
    "    return open(filename)\n",
    "\n",
    "def isprime(val):\n",
    "    pass"
   ]
  },
  {
   "cell_type": "markdown",
   "metadata": {},
   "source": [
    "## [Day 1: The Tyranny of the Rocket Equation](https://adventofcode.com/2019/day/1)\n",
    "\n",
    "At first I solved this puzzle by just iterating over the data. Part 1 was supereasy, part 2 involved a little bit of iterating over the data. Over the weekend I tried getting a cleaner solution. This involved an hour or so of wondering why part 2 wasn't calculated correctly. I didn't know zip only zips up to the shortest length input."
   ]
  },
  {
   "cell_type": "code",
   "execution_count": 2,
   "metadata": {
    "scrolled": false
   },
   "outputs": [
    {
     "name": "stdout",
     "output_type": "stream",
     "text": [
      "Part 1:\n",
      "3266288.0\n",
      "Part 2:\n",
      "4896582.0\n"
     ]
    }
   ],
   "source": [
    "i = [int(e) for e in Input('01')]\n",
    "    \n",
    "def f_to_add(i):\n",
    "    o = []\n",
    "    for c,j in enumerate(i):\n",
    "        o.append([])\n",
    "        while j > 8:\n",
    "            j = j / 3 // 1 -2\n",
    "            o[c].append(j)\n",
    "    return o\n",
    "\n",
    "print(\"Part 1:\")\n",
    "print([sum(j) for j in zip(*f_to_add(i))][0])\n",
    "print(\"Part 2:\")\n",
    "print(sum([sum(j) for j in (f_to_add(i))]))"
   ]
  },
  {
   "cell_type": "markdown",
   "metadata": {},
   "source": [
    "## [Day 2: 1202 Program Alarm](https://adventofcode.com/2019/day/2)"
   ]
  },
  {
   "cell_type": "code",
   "execution_count": 3,
   "metadata": {},
   "outputs": [
    {
     "name": "stdout",
     "output_type": "stream",
     "text": [
      "Part 1:\n",
      "3085697\n",
      "9425\n"
     ]
    }
   ],
   "source": [
    "input02 = Input('02').read().split(',')\n",
    "\n",
    "i = [int(e) for e in input02]\n",
    "i[1] = 12\n",
    "i[2] = 2\n",
    "\n",
    "for j in range(0, len(i), 4):\n",
    "    if i[j] == 99:\n",
    "        break\n",
    "    elif i[j] == 1:\n",
    "        i[i[j + 3]] = i[i[j + 1]] + i[i[j + 2]]\n",
    "    elif i[j] == 2:\n",
    "        i[i[j + 3]] = i[i[j + 1]] * i[i[j + 2]]\n",
    "\n",
    "print('Part 1:')\n",
    "print(i[0])\n",
    "\n",
    "target = 19690720\n",
    "maxi = 100\n",
    "for verb in range(maxi):\n",
    "    for noun in range(maxi):\n",
    "        i = [int(e) for e in input02]\n",
    "        i[1] = noun\n",
    "        i[2] = verb\n",
    "        for j in range(0, len(i), 4):\n",
    "            if i[j] == 99:\n",
    "                break\n",
    "            elif i[j] == 1:\n",
    "                i[i[j + 3]] = i[i[j + 1]] + i[i[j + 2]]\n",
    "            elif i[j] == 2:\n",
    "                i[i[j + 3]] = i[i[j + 1]] * i[i[j + 2]]\n",
    "        if i[0] == target:\n",
    "            print(100 * noun + verb)"
   ]
  },
  {
   "cell_type": "markdown",
   "metadata": {},
   "source": [
    "## [Day 3: Crossed Wires](https://adventofcode.com/2019/day/3)"
   ]
  },
  {
   "cell_type": "code",
   "execution_count": 4,
   "metadata": {},
   "outputs": [
    {
     "name": "stdout",
     "output_type": "stream",
     "text": [
      "Part 1:\n",
      "258\n",
      "12304\n"
     ]
    }
   ],
   "source": [
    "Point = complex\n",
    "dir ={'R': 1, 'L': -1, 'U': 1j, 'D': -1j}\n",
    "\n",
    "i = Input('03')\n",
    "\n",
    "visited = []\n",
    "\n",
    "for c, j in enumerate(i):\n",
    "    visited.append([])\n",
    "    loc = 0\n",
    "    for k in re.findall(r'([RLDU])(\\d+)', j):\n",
    "        for l in range(int(k[1])): \n",
    "            loc += dir[k[0]]\n",
    "            visited[c].append(loc)\n",
    "\n",
    "distances = []\n",
    "\n",
    "for point in (set(visited[0]) & set(visited[1])):\n",
    "    distances.append(point.real+point.imag) \n",
    "\n",
    "print(\"Part 1:\")\n",
    "print(min(distances))\n",
    "\n",
    "d2 = []\n",
    "\n",
    "for point in set(visited[0]) & set(visited[1]):\n",
    "    d2.append(visited[0].index(point) + visited[1].index(point))\n",
    "\n",
    "print(min(d2) + 2)"
   ]
  },
  {
   "cell_type": "markdown",
   "metadata": {},
   "source": [
    "## [Day 4: Secure Container](https://adventofcode.com/2019/day/4)"
   ]
  },
  {
   "cell_type": "code",
   "execution_count": 5,
   "metadata": {},
   "outputs": [
    {
     "name": "stdout",
     "output_type": "stream",
     "text": [
      "Part 1: 1605\n",
      "Part 2: 1102\n"
     ]
    }
   ],
   "source": [
    "rlow = 193651\n",
    "rhigh = 649729\n",
    "\n",
    "def sixdigits(low, high):\n",
    "    lst = []\n",
    "    for i in range(low, high + 1):\n",
    "        i = str(i)\n",
    "        if len(str(i)) == 6:\n",
    "            lst.append(i)\n",
    "    return lst\n",
    "\n",
    "def doubledigits(low, high):\n",
    "    lst = []\n",
    "    for i in range(low, high + 1):\n",
    "        i = str(i)\n",
    "        for j in range(1, len(i)):\n",
    "            if i[j]== i[j-1]:\n",
    "                lst.append(i)\n",
    "                break\n",
    "    return lst\n",
    "\n",
    "def ascendingorder(low, high):\n",
    "    lst = []\n",
    "    for i in range(low, high + 1):\n",
    "        i = str(i)\n",
    "        if i == \"\".join(sorted(i)):\n",
    "            lst.append(i)\n",
    "    return lst\n",
    "\n",
    "def isolateddoubledigits(low, high):\n",
    "    lst = []\n",
    "    for i in range (low, high + 1):\n",
    "        i = str(i)\n",
    "        tmp = [1]\n",
    "        for j in range(1, len(i)):\n",
    "            if i[j] == i[j - 1]:\n",
    "                tmp.append(tmp[j - 1] + 1)\n",
    "            else:\n",
    "                tmp.append(1)\n",
    "        if tmp.count(2) > tmp.count(3):\n",
    "            lst.append(i)\n",
    "    return lst\n",
    "\n",
    "print(\"Part 1: \" + str(len(set(sixdigits(rlow, rhigh)) & set(doubledigits(rlow, rhigh)) & set(ascendingorder(rlow, rhigh)))))\n",
    "print(\"Part 2: \" + str(len(set(sixdigits(rlow, rhigh)) & set(ascendingorder(rlow, rhigh)) & set(isolateddoubledigits(rlow, rhigh)))))"
   ]
  },
  {
   "cell_type": "markdown",
   "metadata": {},
   "source": [
    "## [Day 5: Sunny with a Chance of Asteroids](https://adventofcode.com/2019/day/5)\n",
    "This puzzle builds on day 2. I want to solve this one and clean up day 2. In the process."
   ]
  },
  {
   "cell_type": "code",
   "execution_count": 6,
   "metadata": {
    "scrolled": true
   },
   "outputs": [
    {
     "name": "stdout",
     "output_type": "stream",
     "text": [
      "[3, 21, 1008, 21, 8, 20, 1005, 20, 22, 107, 8, 21, 20, 1006, 20, 31, 1106, 0, 36, 98, 0, 0, 1002, 21, 125, 20, 4, 20, 1105, 1, 46, 104, 999, 1105, 1, 46, 1101, 1000, 1, 20, 4, 20, 1105, 1, 46, 98, 99]\n"
     ]
    },
    {
     "ename": "KeyboardInterrupt",
     "evalue": "",
     "output_type": "error",
     "traceback": [
      "\u001b[0;31m---------------------------------------------------------------------------\u001b[0m",
      "\u001b[0;31mKeyboardInterrupt\u001b[0m                         Traceback (most recent call last)",
      "\u001b[0;32m~/.local/lib/python3.6/site-packages/ipykernel/kernelbase.py\u001b[0m in \u001b[0;36m_input_request\u001b[0;34m(self, prompt, ident, parent, password)\u001b[0m\n\u001b[1;32m    883\u001b[0m             \u001b[0;32mtry\u001b[0m\u001b[0;34m:\u001b[0m\u001b[0;34m\u001b[0m\u001b[0;34m\u001b[0m\u001b[0m\n\u001b[0;32m--> 884\u001b[0;31m                 \u001b[0mident\u001b[0m\u001b[0;34m,\u001b[0m \u001b[0mreply\u001b[0m \u001b[0;34m=\u001b[0m \u001b[0mself\u001b[0m\u001b[0;34m.\u001b[0m\u001b[0msession\u001b[0m\u001b[0;34m.\u001b[0m\u001b[0mrecv\u001b[0m\u001b[0;34m(\u001b[0m\u001b[0mself\u001b[0m\u001b[0;34m.\u001b[0m\u001b[0mstdin_socket\u001b[0m\u001b[0;34m,\u001b[0m \u001b[0;36m0\u001b[0m\u001b[0;34m)\u001b[0m\u001b[0;34m\u001b[0m\u001b[0;34m\u001b[0m\u001b[0m\n\u001b[0m\u001b[1;32m    885\u001b[0m             \u001b[0;32mexcept\u001b[0m \u001b[0mException\u001b[0m\u001b[0;34m:\u001b[0m\u001b[0;34m\u001b[0m\u001b[0;34m\u001b[0m\u001b[0m\n",
      "\u001b[0;32m~/.local/lib/python3.6/site-packages/jupyter_client/session.py\u001b[0m in \u001b[0;36mrecv\u001b[0;34m(self, socket, mode, content, copy)\u001b[0m\n\u001b[1;32m    802\u001b[0m         \u001b[0;32mtry\u001b[0m\u001b[0;34m:\u001b[0m\u001b[0;34m\u001b[0m\u001b[0;34m\u001b[0m\u001b[0m\n\u001b[0;32m--> 803\u001b[0;31m             \u001b[0mmsg_list\u001b[0m \u001b[0;34m=\u001b[0m \u001b[0msocket\u001b[0m\u001b[0;34m.\u001b[0m\u001b[0mrecv_multipart\u001b[0m\u001b[0;34m(\u001b[0m\u001b[0mmode\u001b[0m\u001b[0;34m,\u001b[0m \u001b[0mcopy\u001b[0m\u001b[0;34m=\u001b[0m\u001b[0mcopy\u001b[0m\u001b[0;34m)\u001b[0m\u001b[0;34m\u001b[0m\u001b[0;34m\u001b[0m\u001b[0m\n\u001b[0m\u001b[1;32m    804\u001b[0m         \u001b[0;32mexcept\u001b[0m \u001b[0mzmq\u001b[0m\u001b[0;34m.\u001b[0m\u001b[0mZMQError\u001b[0m \u001b[0;32mas\u001b[0m \u001b[0me\u001b[0m\u001b[0;34m:\u001b[0m\u001b[0;34m\u001b[0m\u001b[0;34m\u001b[0m\u001b[0m\n",
      "\u001b[0;32m~/.local/lib/python3.6/site-packages/zmq/sugar/socket.py\u001b[0m in \u001b[0;36mrecv_multipart\u001b[0;34m(self, flags, copy, track)\u001b[0m\n\u001b[1;32m    474\u001b[0m         \"\"\"\n\u001b[0;32m--> 475\u001b[0;31m         \u001b[0mparts\u001b[0m \u001b[0;34m=\u001b[0m \u001b[0;34m[\u001b[0m\u001b[0mself\u001b[0m\u001b[0;34m.\u001b[0m\u001b[0mrecv\u001b[0m\u001b[0;34m(\u001b[0m\u001b[0mflags\u001b[0m\u001b[0;34m,\u001b[0m \u001b[0mcopy\u001b[0m\u001b[0;34m=\u001b[0m\u001b[0mcopy\u001b[0m\u001b[0;34m,\u001b[0m \u001b[0mtrack\u001b[0m\u001b[0;34m=\u001b[0m\u001b[0mtrack\u001b[0m\u001b[0;34m)\u001b[0m\u001b[0;34m]\u001b[0m\u001b[0;34m\u001b[0m\u001b[0;34m\u001b[0m\u001b[0m\n\u001b[0m\u001b[1;32m    476\u001b[0m         \u001b[0;31m# have first part already, only loop while more to receive\u001b[0m\u001b[0;34m\u001b[0m\u001b[0;34m\u001b[0m\u001b[0;34m\u001b[0m\u001b[0m\n",
      "\u001b[0;32mzmq/backend/cython/socket.pyx\u001b[0m in \u001b[0;36mzmq.backend.cython.socket.Socket.recv\u001b[0;34m()\u001b[0m\n",
      "\u001b[0;32mzmq/backend/cython/socket.pyx\u001b[0m in \u001b[0;36mzmq.backend.cython.socket.Socket.recv\u001b[0;34m()\u001b[0m\n",
      "\u001b[0;32mzmq/backend/cython/socket.pyx\u001b[0m in \u001b[0;36mzmq.backend.cython.socket._recv_copy\u001b[0;34m()\u001b[0m\n",
      "\u001b[0;32m~/.local/lib/python3.6/site-packages/zmq/backend/cython/checkrc.pxd\u001b[0m in \u001b[0;36mzmq.backend.cython.checkrc._check_rc\u001b[0;34m()\u001b[0m\n",
      "\u001b[0;31mKeyboardInterrupt\u001b[0m: ",
      "\nDuring handling of the above exception, another exception occurred:\n",
      "\u001b[0;31mKeyboardInterrupt\u001b[0m                         Traceback (most recent call last)",
      "\u001b[0;32m<ipython-input-6-68d977241bb4>\u001b[0m in \u001b[0;36m<module>\u001b[0;34m\u001b[0m\n\u001b[1;32m     67\u001b[0m         \u001b[0mj\u001b[0m \u001b[0;34m+=\u001b[0m \u001b[0;36m4\u001b[0m\u001b[0;34m\u001b[0m\u001b[0;34m\u001b[0m\u001b[0m\n\u001b[1;32m     68\u001b[0m     \u001b[0;32mif\u001b[0m \u001b[0mopcode\u001b[0m \u001b[0;34m==\u001b[0m \u001b[0;36m3\u001b[0m\u001b[0;34m:\u001b[0m\u001b[0;34m\u001b[0m\u001b[0;34m\u001b[0m\u001b[0m\n\u001b[0;32m---> 69\u001b[0;31m         \u001b[0mi\u001b[0m\u001b[0;34m[\u001b[0m\u001b[0mparams\u001b[0m\u001b[0;34m[\u001b[0m\u001b[0;34m-\u001b[0m\u001b[0;36m3\u001b[0m\u001b[0;34m]\u001b[0m\u001b[0;34m]\u001b[0m \u001b[0;34m=\u001b[0m \u001b[0mint\u001b[0m\u001b[0;34m(\u001b[0m\u001b[0minput\u001b[0m\u001b[0;34m(\u001b[0m\u001b[0;34m)\u001b[0m\u001b[0;34m)\u001b[0m\u001b[0;34m\u001b[0m\u001b[0;34m\u001b[0m\u001b[0m\n\u001b[0m\u001b[1;32m     70\u001b[0m         \u001b[0;31m#print(i[idx1])\u001b[0m\u001b[0;34m\u001b[0m\u001b[0;34m\u001b[0m\u001b[0;34m\u001b[0m\u001b[0m\n\u001b[1;32m     71\u001b[0m         \u001b[0mj\u001b[0m \u001b[0;34m+=\u001b[0m \u001b[0;36m2\u001b[0m\u001b[0;34m\u001b[0m\u001b[0;34m\u001b[0m\u001b[0m\n",
      "\u001b[0;32m~/.local/lib/python3.6/site-packages/ipykernel/kernelbase.py\u001b[0m in \u001b[0;36mraw_input\u001b[0;34m(self, prompt)\u001b[0m\n\u001b[1;32m    857\u001b[0m             \u001b[0mself\u001b[0m\u001b[0;34m.\u001b[0m\u001b[0m_parent_ident\u001b[0m\u001b[0;34m,\u001b[0m\u001b[0;34m\u001b[0m\u001b[0;34m\u001b[0m\u001b[0m\n\u001b[1;32m    858\u001b[0m             \u001b[0mself\u001b[0m\u001b[0;34m.\u001b[0m\u001b[0m_parent_header\u001b[0m\u001b[0;34m,\u001b[0m\u001b[0;34m\u001b[0m\u001b[0;34m\u001b[0m\u001b[0m\n\u001b[0;32m--> 859\u001b[0;31m             \u001b[0mpassword\u001b[0m\u001b[0;34m=\u001b[0m\u001b[0;32mFalse\u001b[0m\u001b[0;34m,\u001b[0m\u001b[0;34m\u001b[0m\u001b[0;34m\u001b[0m\u001b[0m\n\u001b[0m\u001b[1;32m    860\u001b[0m         )\n\u001b[1;32m    861\u001b[0m \u001b[0;34m\u001b[0m\u001b[0m\n",
      "\u001b[0;32m~/.local/lib/python3.6/site-packages/ipykernel/kernelbase.py\u001b[0m in \u001b[0;36m_input_request\u001b[0;34m(self, prompt, ident, parent, password)\u001b[0m\n\u001b[1;32m    887\u001b[0m             \u001b[0;32mexcept\u001b[0m \u001b[0mKeyboardInterrupt\u001b[0m\u001b[0;34m:\u001b[0m\u001b[0;34m\u001b[0m\u001b[0;34m\u001b[0m\u001b[0m\n\u001b[1;32m    888\u001b[0m                 \u001b[0;31m# re-raise KeyboardInterrupt, to truncate traceback\u001b[0m\u001b[0;34m\u001b[0m\u001b[0;34m\u001b[0m\u001b[0;34m\u001b[0m\u001b[0m\n\u001b[0;32m--> 889\u001b[0;31m                 \u001b[0;32mraise\u001b[0m \u001b[0mKeyboardInterrupt\u001b[0m\u001b[0;34m\u001b[0m\u001b[0;34m\u001b[0m\u001b[0m\n\u001b[0m\u001b[1;32m    890\u001b[0m             \u001b[0;32melse\u001b[0m\u001b[0;34m:\u001b[0m\u001b[0;34m\u001b[0m\u001b[0;34m\u001b[0m\u001b[0m\n\u001b[1;32m    891\u001b[0m                 \u001b[0;32mbreak\u001b[0m\u001b[0;34m\u001b[0m\u001b[0;34m\u001b[0m\u001b[0m\n",
      "\u001b[0;31mKeyboardInterrupt\u001b[0m: "
     ]
    }
   ],
   "source": [
    "i = [int(e) for e in Input('05').read().strip().split(',')]\n",
    "#i = [1002,4,3,4,33]\n",
    "j = 0\n",
    "#i = [3,12,6,12,15,1,13,14,13,4,13,99,-1,0,1,9]\n",
    "#i = [3,3,1105,-1,9,1101,0,0,12,4,12,99,1 ]\n",
    "i = [3,21,1008,21,8,20,1005,20,22,107,8,21,20,1006,20,31,1106,0,36,98,0,0,1002,21,125,20,4,20,1105,1,46,104,999,1105,1,46,1101,1000,1,20,4,20,1105,1,46,98,99]\n",
    "#i = [3,3,1108,-1,8,3,4,3,99]\n",
    "\n",
    "def parse(val):\n",
    "    val = str(val)\n",
    "    if len(val) <= 2:\n",
    "        opcode = int(val)\n",
    "        params = [0, 0, 0]\n",
    "    else:\n",
    "        opcode = int(val[-2:])\n",
    "        params = [int(e) for e in val[:-2]]\n",
    "        while len(params) < 3:\n",
    "            params.insert(0, 0)\n",
    "    return opcode, params\n",
    "        \n",
    "def params_to_idx(params, list, j):\n",
    "    for c, p in enumerate(params):\n",
    "        if p == 0:\n",
    "            try:\n",
    "                params[c] = i[j + len(params) - c]\n",
    "            except:\n",
    "                params[c] = 0\n",
    "        if p == 1:\n",
    "            try:\n",
    "                params[c] = j + len(params) - c\n",
    "            except:\n",
    "                params[c] = 0\n",
    "                \n",
    "    return params\n",
    "    \n",
    "s = \"\"\n",
    "while j < len(i):\n",
    "    print(i)\n",
    "    opcode,  params = parse(i[j])\n",
    "    \n",
    "    params = params_to_idx(params, i, j)\n",
    "    \n",
    "    #if params[-1] == 1:\n",
    "    #    idx1 = j + 1\n",
    "    #else:\n",
    "    #    idx1 = i[j + 1]\n",
    "    #if params[-2] == 1:\n",
    "    #    idx2 = j + 2\n",
    "    #else:\n",
    "    #    idx2 = i[j + 2]\n",
    "    #if params[-3] == 1:\n",
    "    #    idx3 = j + 3\n",
    "    #else:\n",
    "    #    idx3 = i[j + 3]\n",
    "    \n",
    "    #print(j, i[j], params)\n",
    "    if opcode == 99:\n",
    "        break\n",
    "        \n",
    "    if opcode == 1:\n",
    "        #i[idx3] = i[idx1] + i[idx2]\n",
    "        i[params[-3]] = i[params[-1]] + i[params[-2]]\n",
    "        j += 4\n",
    "    if opcode == 2:\n",
    "        #i[idx3] = i[idx1] * i[idx2]\n",
    "        i[params[-3]] = i[params[-1]] * i[params[-2]]\n",
    "        j += 4\n",
    "    if opcode == 3:\n",
    "        i[params[-3]] = int(input())\n",
    "        #print(i[idx1])\n",
    "        j += 2\n",
    "    if opcode == 4:\n",
    "        print(params[-3])\n",
    "        j += 2\n",
    "    if opcode == 5:\n",
    "        if params[-1] != 0:\n",
    "            j = params[-2]\n",
    "    if opcode == 6:\n",
    "        if params[-1] == 0:\n",
    "            j = params[-2]\n",
    "    if opcode == 7:\n",
    "        if params[-1] < params[-2]:\n",
    "            i[params[-3]] = 1\n",
    "        else:\n",
    "            i[params[-3]] = 0\n",
    "        j += 4\n",
    "    if opcode == 8:\n",
    "        if params[-1] == params[-2]:\n",
    "            i[params[-3]] = 1\n",
    "        else:\n",
    "            i[params[-3]] = 0\n",
    "        j += 4"
   ]
  },
  {
   "cell_type": "markdown",
   "metadata": {},
   "source": [
    "## [Day 6: Universal Orbit Map](https://adventofcode.com/2019/day/6)"
   ]
  },
  {
   "cell_type": "code",
   "execution_count": null,
   "metadata": {},
   "outputs": [],
   "source": [
    "\n",
    "i = Input('06').read()\n",
    "p = re.findall(r'(\\w+)\\)(\\w+)', i)\n",
    "\n",
    "d = {}\n",
    "\n",
    "for e in p:\n",
    "    if e[0] not in d:\n",
    "        d[e[0]] = []\n",
    "    d[e[0]].append(e[1])\n",
    "    \n",
    "lst = [['COM'],[0]]\n",
    "\n",
    "j = 0\n",
    "\n",
    "while j < len(lst[0]):\n",
    "    try:\n",
    "        for value in d[lst[0][j]]:\n",
    "            score = lst[1][j]\n",
    "            lst[0].append(value)\n",
    "            lst[1].append(score + 1)\n",
    "        j += 1\n",
    "    except:\n",
    "        j += 1\n",
    "        pass\n",
    "\n",
    "print(\"Part 1:\")\n",
    "print(sum(lst[1]))\n",
    "\n",
    "SAN = ['SAN']\n",
    "YOU = ['YOU']\n",
    "\n",
    "q = list(zip(*p))\n",
    "\n",
    "k = 0\n",
    "l = 0\n",
    "\n",
    "while l < len(YOU):\n",
    "    try:\n",
    "        idx = q[1].index(YOU[l])\n",
    "        YOU.append(q[0][idx])\n",
    "        l += 1\n",
    "    except:\n",
    "        l += 1\n",
    "\n",
    "while k < len(SAN):\n",
    "    try:\n",
    "        idx = q[1].index(SAN[k])\n",
    "        SAN.append(q[0][idx])\n",
    "        k += 1\n",
    "    except:\n",
    "        k +=1\n",
    "\n",
    "#print(YOU)\n",
    "#print(SAN)\n",
    "# behalve YOU rn SAN. Die tellen volgens de opgave niet mee.\n",
    "print(len(SAN) + len(YOU) - 2 * len(set(SAN) & set(YOU)) - 2)"
   ]
  },
  {
   "cell_type": "markdown",
   "metadata": {},
   "source": [
    "## [Day 7: Amplification Circuit](https://adventofcode.com/2019/day/7)\n",
    "\n",
    "AAAAAAAARGHHH!!!! Need to solve day 5 (and 2) first. Day 2 is actually solved, but needs serious cleanup."
   ]
  },
  {
   "cell_type": "code",
   "execution_count": null,
   "metadata": {},
   "outputs": [],
   "source": []
  },
  {
   "cell_type": "markdown",
   "metadata": {},
   "source": [
    "## [Day 8: Space Image Format](https://adventofcode.com/2019/day/8)\n"
   ]
  },
  {
   "cell_type": "code",
   "execution_count": null,
   "metadata": {},
   "outputs": [],
   "source": [
    "i = Input('08').read().strip()\n",
    "\n",
    "width = 25\n",
    "height = 6\n",
    "\n",
    "n = width * height\n",
    "\n",
    "i = [list(i[j:j + n]) for j in range(0, len(i), n)]\n",
    "\n",
    "m = [e.count('0') for e in i]\n",
    "\n",
    "print(i[m.index(min(m))].count('1') * i[m.index(min(m))].count('2'))\n",
    "\n",
    "# Part B is finding the first 0 or 1 on a zip\n",
    "\n",
    "s = \"\"\n",
    "\n",
    "for f in list(zip(*i)):\n",
    "    \n",
    "    try:\n",
    "        m = f.index('1')\n",
    "    except:\n",
    "        m = 999\n",
    "    try:\n",
    "        n = f.index('0')\n",
    "    except:\n",
    "        n = 999\n",
    "    \n",
    "    if m > n:\n",
    "        s = s + ' '\n",
    "    elif n > m:\n",
    "        s = s + '#'\n",
    "        \n",
    "for x in range(0, len(s), width):\n",
    "    print(s[x:x + width])"
   ]
  },
  {
   "cell_type": "markdown",
   "metadata": {},
   "source": [
    "## [Day 9: Sensor Boost](https://adventofcode.com/2019/day/9)"
   ]
  },
  {
   "cell_type": "code",
   "execution_count": null,
   "metadata": {},
   "outputs": [],
   "source": []
  },
  {
   "cell_type": "markdown",
   "metadata": {},
   "source": [
    "## [Day 10: Monitoring Station](https://adventofcode.com/2019/day/10)"
   ]
  },
  {
   "cell_type": "code",
   "execution_count": 171,
   "metadata": {
    "scrolled": false
   },
   "outputs": [
    {
     "name": "stdout",
     "output_type": "stream",
     "text": [
      ".###..#######..####..##...#\n",
      "########.#.###...###.#....#\n",
      "###..#...#######...#..####.\n",
      ".##.#.....#....##.#.#.....#\n",
      "###.#######.###..##......#.\n",
      "#..###..###.##.#.#####....#\n",
      "#.##..###....#####...##.##.\n",
      "####.##..#...#####.#..###.#\n",
      "#..#....####.####.###.#.###\n",
      "#..#..#....###...#####..#..\n",
      "##...####.######....#.####.\n",
      "####.##...###.####..##....#\n",
      "#.#..#.###.#.##.####..#...#\n",
      "..##..##....#.#..##..#.#..#\n",
      "##.##.#..######.#..#..####.\n",
      "#.....#####.##........#####\n",
      "###.#.#######..#.#.##..#..#\n",
      "###...#..#.#..##.##..#####.\n",
      ".##.#..#...#####.###.##.##.\n",
      "...#.#.######.#####.#.####.\n",
      "#..##..###...###.#.#..#.#.#\n",
      ".#..#.#......#.###...###..#\n",
      "#.##.#.#..#.#......#..#..##\n",
      ".##.##.##.#...##.##.##.#..#\n",
      "#.###.#.#...##..#####.###.#\n",
      "#.####.#..#.#.##.######.#..\n",
      ".#.#####.##...#...#.##...#.\n",
      "\n",
      "Part 1:\n",
      "296\n",
      "17 23\n"
     ]
    }
   ],
   "source": [
    "print(Input('10').read())\n",
    "i = [list(e) for e in Input('10').read().strip().split('\\n')]\n",
    "\n",
    "def points_between(p1, p2):\n",
    "    results = []\n",
    "    (a, b) = p1\n",
    "    (c, d) = p2\n",
    "    dx = c - a\n",
    "    dy = d - b\n",
    "   # print((a, b), (c, d), dx, dy)\n",
    "    for i in range(1, max(abs(dx), abs(dy)) + 1):\n",
    "        if dx % i == 0 and dy % i ==0:\n",
    "            for j in range(1, i):\n",
    "                x = int(a + dx / i * j)\n",
    "                y = int(b + dy / i * j)\n",
    "                results.append((x, y))\n",
    "    if results:\n",
    "        return results\n",
    "\n",
    "sightings = []\n",
    "sightings_test = {}\n",
    "for p in range(len(i)):\n",
    "    for q in range(len(i[0])):\n",
    "        if i[p][q] == '#':\n",
    "            tmp = []\n",
    "            for r in range(len(i)):\n",
    "                for s in range(len(i[0])):\n",
    "\n",
    "                    if (p, q) == (r, s) or i[r][s] != '#':\n",
    "                        add = False\n",
    "                    elif not points_between((p, q), (r, s)):\n",
    "                        add = True\n",
    "                    else:\n",
    "                       # print((p, q), (r, s), points_between((p, q), (r, s)))\n",
    "                        add = True\n",
    "                        for point in points_between((p, q), (r, s)):\n",
    "                            (x, y) = point\n",
    "                            if i[x][y] == '#':\n",
    "                                add = False\n",
    "                    if add:\n",
    "                        tmp.append((r, s))\n",
    "        sightings_test[p, q] = len(tmp)\n",
    "        sightings.append(tmp)\n",
    "            \n",
    "print(\"Part 1:\")\n",
    "print(max([len(e) for e in sightings]))"
   ]
  },
  {
   "cell_type": "code",
   "execution_count": null,
   "metadata": {},
   "outputs": [],
   "source": []
  },
  {
   "cell_type": "code",
   "execution_count": null,
   "metadata": {},
   "outputs": [],
   "source": []
  }
 ],
 "metadata": {
  "kernelspec": {
   "display_name": "Python 3",
   "language": "python",
   "name": "python3"
  },
  "language_info": {
   "codemirror_mode": {
    "name": "ipython",
    "version": 3
   },
   "file_extension": ".py",
   "mimetype": "text/x-python",
   "name": "python",
   "nbconvert_exporter": "python",
   "pygments_lexer": "ipython3",
   "version": "3.6.9"
  }
 },
 "nbformat": 4,
 "nbformat_minor": 2
}

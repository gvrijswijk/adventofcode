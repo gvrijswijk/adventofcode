{
 "cells": [
  {
   "cell_type": "markdown",
   "metadata": {},
   "source": [
    "# Advent of Code 2019"
   ]
  },
  {
   "cell_type": "code",
   "execution_count": 1,
   "metadata": {},
   "outputs": [],
   "source": [
    "import re, itertools\n",
    "\n",
    "def Input(day, year=2019):\n",
    "    directory = '{}'.format(year)\n",
    "    filename = directory + '/input{}.txt'.format(day)\n",
    "    return open(filename)"
   ]
  },
  {
   "cell_type": "markdown",
   "metadata": {},
   "source": [
    "## [Day 1: The Tyranny of the Rocket Equation](https://adventofcode.com/2019/day/1)\n",
    "\n",
    "At first I solved this puzzle by just iterating over the data. Part 1 was supereasy, part 2 involved a little bit of iterating over the data. Over the weekend I tried getting a cleaner solution. This involved an hour or so of wondering why part 2 wasn't calculated correctly. I didn't know zip only zips up to the shortest length input."
   ]
  },
  {
   "cell_type": "code",
   "execution_count": 75,
   "metadata": {},
   "outputs": [
    {
     "name": "stdout",
     "output_type": "stream",
     "text": [
      "Part 1:\n",
      "3266288.0\n",
      "Part 2:\n",
      "4896582.0\n"
     ]
    }
   ],
   "source": [
    "i = [int(e) for e in Input('01')]\n",
    "    \n",
    "def f_to_add(i):\n",
    "    o = []\n",
    "    for c,j in enumerate(i):\n",
    "        o.append([])\n",
    "        while j > 8:\n",
    "            j = j / 3 // 1 -2\n",
    "            o[c].append(j)\n",
    "    return o\n",
    "\n",
    "print(\"Part 1:\")\n",
    "print([sum(j) for j in zip(*f_to_add(i))][0])\n",
    "print(\"Part 2:\")\n",
    "print(sum([sum(j) for j in (f_to_add(i))]))"
   ]
  },
  {
   "cell_type": "markdown",
   "metadata": {},
   "source": [
    "## [Day 2: 1202 Program Alarm](https://adventofcode.com/2019/day/2)"
   ]
  },
  {
   "cell_type": "code",
   "execution_count": 76,
   "metadata": {},
   "outputs": [
    {
     "name": "stdout",
     "output_type": "stream",
     "text": [
      "Part 1:\n",
      "3085697\n",
      "9425\n"
     ]
    }
   ],
   "source": [
    "input = Input('02').read().split(',')\n",
    "\n",
    "i = [int(e) for e in input02]\n",
    "i[1] = 12\n",
    "i[2] = 2\n",
    "\n",
    "for j in range(0, len(i), 4):\n",
    "    if i[j] == 99:\n",
    "        break\n",
    "    elif i[j] == 1:\n",
    "        i[i[j + 3]] = i[i[j + 1]] + i[i[j + 2]]\n",
    "    elif i[j] == 2:\n",
    "        i[i[j + 3]] = i[i[j + 1]] * i[i[j + 2]]\n",
    "\n",
    "print('Part 1:')\n",
    "print(i[0])\n",
    "\n",
    "target = 19690720\n",
    "maxi = 100\n",
    "for verb in range(maxi):\n",
    "    for noun in range(maxi):\n",
    "        i = [int(e) for e in input02]\n",
    "        i[1] = noun\n",
    "        i[2] = verb\n",
    "        for j in range(0, len(i), 4):\n",
    "            if i[j] == 99:\n",
    "                break\n",
    "            elif i[j] == 1:\n",
    "                i[i[j + 3]] = i[i[j + 1]] + i[i[j + 2]]\n",
    "            elif i[j] == 2:\n",
    "                i[i[j + 3]] = i[i[j + 1]] * i[i[j + 2]]\n",
    "        if i[0] == target:\n",
    "            print(100 * noun + verb)"
   ]
  },
  {
   "cell_type": "markdown",
   "metadata": {},
   "source": [
    "## [Day 3: Crossed Wires](https://adventofcode.com/2019/day/3)"
   ]
  },
  {
   "cell_type": "code",
   "execution_count": 77,
   "metadata": {},
   "outputs": [
    {
     "name": "stdout",
     "output_type": "stream",
     "text": [
      "Part 1:\n",
      "258\n",
      "12304\n"
     ]
    }
   ],
   "source": [
    "Point = complex\n",
    "dir ={'R': 1, 'L': -1, 'U': 1j, 'D': -1j}\n",
    "\n",
    "i = Input('03')\n",
    "\n",
    "visited = []\n",
    "\n",
    "for c, j in enumerate(i):\n",
    "    visited.append([])\n",
    "    loc = 0\n",
    "    for k in re.findall(r'([RLDU])(\\d+)', j):\n",
    "        for l in range(int(k[1])): \n",
    "            loc += dir[k[0]]\n",
    "            visited[c].append(loc)\n",
    "\n",
    "distances = []\n",
    "\n",
    "for point in (set(visited[0]) & set(visited[1])):\n",
    "    distances.append(point.real+point.imag) \n",
    "\n",
    "print(\"Part 1:\")\n",
    "print(min(distances))\n",
    "\n",
    "d2 = []\n",
    "\n",
    "for point in set(visited[0]) & set(visited[1]):\n",
    "    d2.append(visited[0].index(point) + visited[1].index(point))\n",
    "\n",
    "print(min(d2) + 2)"
   ]
  },
  {
   "cell_type": "markdown",
   "metadata": {},
   "source": [
    "## [Day 4: Secure Container](https://adventofcode.com/2019/day/4)"
   ]
  },
  {
   "cell_type": "code",
   "execution_count": 78,
   "metadata": {},
   "outputs": [
    {
     "name": "stdout",
     "output_type": "stream",
     "text": [
      "Part 1: 1605\n",
      "Part 2: 1102\n"
     ]
    }
   ],
   "source": [
    "rlow = 193651\n",
    "rhigh = 649729\n",
    "\n",
    "def sixdigits(low, high):\n",
    "    lst = []\n",
    "    for i in range(low, high + 1):\n",
    "        i = str(i)\n",
    "        if len(str(i)) == 6:\n",
    "            lst.append(i)\n",
    "    return lst\n",
    "\n",
    "def doubledigits(low, high):\n",
    "    lst = []\n",
    "    for i in range(low, high + 1):\n",
    "        i = str(i)\n",
    "        for j in range(1, len(i)):\n",
    "            if i[j]== i[j-1]:\n",
    "                lst.append(i)\n",
    "                break\n",
    "    return lst\n",
    "\n",
    "def ascendingorder(low, high):\n",
    "    lst = []\n",
    "    for i in range(low, high + 1):\n",
    "        i = str(i)\n",
    "        if i == \"\".join(sorted(i)):\n",
    "            lst.append(i)\n",
    "    return lst\n",
    "\n",
    "def isolateddoubledigits(low, high):\n",
    "    lst = []\n",
    "    for i in range (low, high + 1):\n",
    "        i = str(i)\n",
    "        tmp = [1]\n",
    "        for j in range(1, len(i)):\n",
    "            if i[j] == i[j - 1]:\n",
    "                tmp.append(tmp[j - 1] + 1)\n",
    "            else:\n",
    "                tmp.append(1)\n",
    "        if tmp.count(2) > tmp.count(3):\n",
    "            lst.append(i)\n",
    "    return lst\n",
    "\n",
    "print(\"Part 1: \" + str(len(set(sixdigits(rlow, rhigh)) & set(doubledigits(rlow, rhigh)) & set(ascendingorder(rlow, rhigh)))))\n",
    "print(\"Part 2: \" + str(len(set(sixdigits(rlow, rhigh)) & set(ascendingorder(rlow, rhigh)) & set(isolateddoubledigits(rlow, rhigh)))))"
   ]
  },
  {
   "cell_type": "markdown",
   "metadata": {},
   "source": [
    "## [Day 5: Sunny with a Chance of Asteroids](https://adventofcode.com/2019/day/5)\n",
    "This puzzle builds on day 2. I want to solve this one and clean up day 2. In the process."
   ]
  },
  {
   "cell_type": "code",
   "execution_count": 79,
   "metadata": {
    "scrolled": true
   },
   "outputs": [
    {
     "ename": "TypeError",
     "evalue": "'list' object is not callable",
     "output_type": "error",
     "traceback": [
      "\u001b[0;31m---------------------------------------------------------------------------\u001b[0m",
      "\u001b[0;31mTypeError\u001b[0m                                 Traceback (most recent call last)",
      "\u001b[0;32m<ipython-input-79-1ae726408a5a>\u001b[0m in \u001b[0;36m<module>\u001b[0;34m\u001b[0m\n\u001b[1;32m     22\u001b[0m     \u001b[0mparams\u001b[0m \u001b[0;34m=\u001b[0m \u001b[0mo\u001b[0m\u001b[0;34m[\u001b[0m\u001b[0;36m1\u001b[0m\u001b[0;34m]\u001b[0m\u001b[0;34m\u001b[0m\u001b[0;34m\u001b[0m\u001b[0m\n\u001b[1;32m     23\u001b[0m     \u001b[0;32mif\u001b[0m \u001b[0mopcode\u001b[0m \u001b[0;34m==\u001b[0m \u001b[0;36m3\u001b[0m\u001b[0;34m:\u001b[0m\u001b[0;34m\u001b[0m\u001b[0;34m\u001b[0m\u001b[0m\n\u001b[0;32m---> 24\u001b[0;31m         \u001b[0mval\u001b[0m \u001b[0;34m=\u001b[0m \u001b[0minput\u001b[0m\u001b[0;34m(\u001b[0m\u001b[0;34m\"Input: \"\u001b[0m\u001b[0;34m)\u001b[0m\u001b[0;34m\u001b[0m\u001b[0;34m\u001b[0m\u001b[0m\n\u001b[0m\u001b[1;32m     25\u001b[0m         \u001b[0;32mif\u001b[0m \u001b[0mlen\u001b[0m\u001b[0;34m(\u001b[0m\u001b[0mparams\u001b[0m\u001b[0;34m)\u001b[0m \u001b[0;34m==\u001b[0m \u001b[0;36m0\u001b[0m\u001b[0;34m:\u001b[0m\u001b[0;34m\u001b[0m\u001b[0;34m\u001b[0m\u001b[0m\n\u001b[1;32m     26\u001b[0m             \u001b[0mi\u001b[0m\u001b[0;34m[\u001b[0m\u001b[0mi\u001b[0m\u001b[0;34m[\u001b[0m\u001b[0mj\u001b[0m \u001b[0;34m+\u001b[0m \u001b[0;36m1\u001b[0m\u001b[0;34m]\u001b[0m\u001b[0;34m]\u001b[0m \u001b[0;34m=\u001b[0m \u001b[0mval\u001b[0m\u001b[0;34m\u001b[0m\u001b[0;34m\u001b[0m\u001b[0m\n",
      "\u001b[0;31mTypeError\u001b[0m: 'list' object is not callable"
     ]
    }
   ],
   "source": [
    "input05 = \"3,225,1,225,6,6,1100,1,238,225,104,0,1001,210,88,224,101,-143,224,224,4,224,1002,223,8,223,101,3,224,224,1,223,224,223,101,42,92,224,101,-78,224,224,4,224,1002,223,8,223,1001,224,3,224,1,223,224,223,1101,73,10,225,1102,38,21,225,1102,62,32,225,1,218,61,224,1001,224,-132,224,4,224,102,8,223,223,1001,224,5,224,1,224,223,223,1102,19,36,225,102,79,65,224,101,-4898,224,224,4,224,102,8,223,223,101,4,224,224,1,224,223,223,1101,66,56,224,1001,224,-122,224,4,224,102,8,223,223,1001,224,2,224,1,224,223,223,1002,58,82,224,101,-820,224,224,4,224,1002,223,8,223,101,3,224,224,1,223,224,223,2,206,214,224,1001,224,-648,224,4,224,102,8,223,223,101,3,224,224,1,223,224,223,1102,76,56,224,1001,224,-4256,224,4,224,102,8,223,223,1001,224,6,224,1,223,224,223,1102,37,8,225,1101,82,55,225,1102,76,81,225,1101,10,94,225,4,223,99,0,0,0,677,0,0,0,0,0,0,0,0,0,0,0,1105,0,99999,1105,227,247,1105,1,99999,1005,227,99999,1005,0,256,1105,1,99999,1106,227,99999,1106,0,265,1105,1,99999,1006,0,99999,1006,227,274,1105,1,99999,1105,1,280,1105,1,99999,1,225,225,225,1101,294,0,0,105,1,0,1105,1,99999,1106,0,300,1105,1,99999,1,225,225,225,1101,314,0,0,106,0,0,1105,1,99999,8,226,677,224,102,2,223,223,1005,224,329,101,1,223,223,1008,677,677,224,1002,223,2,223,1006,224,344,1001,223,1,223,107,226,677,224,102,2,223,223,1005,224,359,1001,223,1,223,1108,677,677,224,1002,223,2,223,1006,224,374,101,1,223,223,1107,677,677,224,1002,223,2,223,1006,224,389,101,1,223,223,108,226,677,224,102,2,223,223,1006,224,404,101,1,223,223,7,677,677,224,102,2,223,223,1006,224,419,101,1,223,223,108,677,677,224,102,2,223,223,1006,224,434,1001,223,1,223,7,226,677,224,102,2,223,223,1006,224,449,1001,223,1,223,108,226,226,224,102,2,223,223,1005,224,464,101,1,223,223,8,226,226,224,1002,223,2,223,1006,224,479,101,1,223,223,1008,226,226,224,102,2,223,223,1005,224,494,1001,223,1,223,1008,677,226,224,1002,223,2,223,1005,224,509,101,1,223,223,7,677,226,224,102,2,223,223,1006,224,524,101,1,223,223,1007,677,226,224,1002,223,2,223,1006,224,539,1001,223,1,223,1108,677,226,224,102,2,223,223,1005,224,554,1001,223,1,223,8,677,226,224,1002,223,2,223,1005,224,569,101,1,223,223,1108,226,677,224,1002,223,2,223,1005,224,584,101,1,223,223,1107,677,226,224,102,2,223,223,1006,224,599,101,1,223,223,107,226,226,224,102,2,223,223,1006,224,614,1001,223,1,223,107,677,677,224,1002,223,2,223,1005,224,629,1001,223,1,223,1107,226,677,224,1002,223,2,223,1006,224,644,101,1,223,223,1007,677,677,224,102,2,223,223,1006,224,659,1001,223,1,223,1007,226,226,224,1002,223,2,223,1006,224,674,1001,223,1,223,4,223,99,226\"\n",
    "#input05 = \"1002,4,3,4,33\"\n",
    "\n",
    "i = [int(e) for e in input05.split(',')]\n",
    "\n",
    "j = 0\n",
    "\n",
    "def parser(val):\n",
    "    if len(str(val)) > 2:\n",
    "        opcode = str(val)[-2:]\n",
    "        params = list(str(val)[:-2])\n",
    "        for i in range(len(params), 3):\n",
    "            params.insert(0, 0)\n",
    "    else:\n",
    "        opcode = val\n",
    "        params = []\n",
    "    return opcode, params\n",
    "\n",
    "while i[j] != 99:\n",
    "    o = parser(i[j])\n",
    "    opcode = o[0]\n",
    "    params = o[1]\n",
    "    if opcode == 3:\n",
    "        val = input(\"Input: \")\n",
    "        if len(params) == 0:\n",
    "            i[i[j + 1]] = val\n",
    "        j += 2\n",
    "        print(j)\n",
    "    if opcode == 1:\n",
    "        if len(params) == 0:\n",
    "            i[i[j + 3]] = i[i[j + 1]] + i[i[j + 2]]\n",
    "\n"
   ]
  },
  {
   "cell_type": "markdown",
   "metadata": {},
   "source": [
    "## [Day 6: Universal Orbit Map](https://adventofcode.com/2019/day/6)"
   ]
  },
  {
   "cell_type": "code",
   "execution_count": 23,
   "metadata": {},
   "outputs": [
    {
     "name": "stdout",
     "output_type": "stream",
     "text": [
      "Part 1:\n",
      "271151\n",
      "388\n"
     ]
    }
   ],
   "source": [
    "i = Input('06').read()\n",
    "p = re.findall(r'(\\w+)\\)(\\w+)', i)\n",
    "\n",
    "d = {}\n",
    "\n",
    "for e in p:\n",
    "    if e[0] not in d:\n",
    "        d[e[0]] = []\n",
    "    d[e[0]].append(e[1])\n",
    "    \n",
    "lst = [['COM'],[0]]\n",
    "\n",
    "j = 0\n",
    "\n",
    "while j < len(lst[0]):\n",
    "    try:\n",
    "        for value in d[lst[0][j]]:\n",
    "            score = lst[1][j]\n",
    "            lst[0].append(value)\n",
    "            lst[1].append(score + 1)\n",
    "        j += 1\n",
    "    except:\n",
    "        j += 1\n",
    "        pass\n",
    "\n",
    "print(\"Part 1:\")\n",
    "print(sum(lst[1]))\n",
    "\n",
    "SAN = ['SAN']\n",
    "YOU = ['YOU']\n",
    "\n",
    "q = list(zip(*p))\n",
    "\n",
    "k = 0\n",
    "l = 0\n",
    "\n",
    "while l < len(YOU):\n",
    "    try:\n",
    "        idx = q[1].index(YOU[l])\n",
    "        YOU.append(q[0][idx])\n",
    "        l += 1\n",
    "    except:\n",
    "        l += 1\n",
    "\n",
    "while k < len(SAN):\n",
    "    try:\n",
    "        idx = q[1].index(SAN[k])\n",
    "        SAN.append(q[0][idx])\n",
    "        k += 1\n",
    "    except:\n",
    "        k +=1\n",
    "\n",
    "#print(YOU)\n",
    "#print(SAN)\n",
    "# behalve YOU rn SAN. Die tellen volgens de opgave niet mee.\n",
    "print(len(SAN) + len(YOU) - 2 * len(set(SAN) & set(YOU)) - 2)"
   ]
  },
  {
   "cell_type": "code",
   "execution_count": null,
   "metadata": {},
   "outputs": [],
   "source": []
  },
  {
   "cell_type": "code",
   "execution_count": null,
   "metadata": {},
   "outputs": [],
   "source": []
  },
  {
   "cell_type": "code",
   "execution_count": null,
   "metadata": {},
   "outputs": [],
   "source": []
  }
 ],
 "metadata": {
  "kernelspec": {
   "display_name": "Python 3",
   "language": "python",
   "name": "python3"
  },
  "language_info": {
   "codemirror_mode": {
    "name": "ipython",
    "version": 3
   },
   "file_extension": ".py",
   "mimetype": "text/x-python",
   "name": "python",
   "nbconvert_exporter": "python",
   "pygments_lexer": "ipython3",
   "version": "3.6.9"
  }
 },
 "nbformat": 4,
 "nbformat_minor": 2
}

{
 "cells": [
  {
   "cell_type": "code",
   "execution_count": 29,
   "metadata": {},
   "outputs": [
    {
     "name": "stdout",
     "output_type": "stream",
     "text": [
      "236\n"
     ]
    }
   ],
   "source": [
    "# 0, 1, 2, 3 = N - O - Z - W (=y+, x+, y-, x-)\n",
    "# y+: /2: 0 %2: 0\n",
    "# y-: /2: 1 %2: 0\n",
    "# x+: /2: 0 %2: 1\n",
    "# x-: /2: 1 %2: 1\n",
    "# r = +, l = -\n",
    "# eerst richting bepalen en daarna nieuwe coordinaten\n",
    "\n",
    "with open('input01.txt') as f:\n",
    "    input = f.read().strip().split(', ')\n",
    "    \n",
    "    # Start facing North\n",
    "    startpos = [0, 0]\n",
    "    startdir = 0\n",
    "    position = startpos\n",
    "    direction = startdir\n",
    "    \n",
    "    for item in input:\n",
    "        if item[0] == 'R':\n",
    "            direction = (direction + 1) % 4\n",
    "        else:\n",
    "            direction = (direction - 1) % 4\n",
    "            \n",
    "        if direction % 2 == 0:\n",
    "            if direction / 2 < 1:\n",
    "                position[1] += int(item[1:])\n",
    "            else:\n",
    "                position[1] -= int(item[1:])\n",
    "        else:\n",
    "            if direction / 2 < 1:\n",
    "                position[0] += int(item[1:])\n",
    "            else:\n",
    "                position[0] -= int(item[1:])\n",
    "    print(abs(position[1]) + abs(position[0]))"
   ]
  },
  {
   "cell_type": "code",
   "execution_count": null,
   "metadata": {},
   "outputs": [],
   "source": []
  }
 ],
 "metadata": {
  "kernelspec": {
   "display_name": "Python 3",
   "language": "python",
   "name": "python3"
  },
  "language_info": {
   "codemirror_mode": {
    "name": "ipython",
    "version": 3
   },
   "file_extension": ".py",
   "mimetype": "text/x-python",
   "name": "python",
   "nbconvert_exporter": "python",
   "pygments_lexer": "ipython3",
   "version": "3.6.4"
  }
 },
 "nbformat": 4,
 "nbformat_minor": 2
}

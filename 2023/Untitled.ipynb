{
 "cells": [
  {
   "cell_type": "code",
   "execution_count": null,
   "id": "250ab156-68a5-4f63-b818-5008fb13e997",
   "metadata": {},
   "outputs": [],
   "source": [
    "from operator import itemgetter \n",
    "\n",
    "def solution(n, steps = None):\n",
    "    if steps == None:\n",
    "        steps = ['seed-to-soil', 'soil-to-fertilizer', 'fertilizer-to-water', 'water-to-light', 'light-to-temperature', 'temperature-to-humidity','humidity-to-location']\n",
    "    d = parse_data(n)\n",
    "    sr = [(x, x + y) for x, y in zip(d['seeds'][::2], d['seeds'][1::2])]\n",
    "    o = []\n",
    "    for seed in sr:\n",
    "        print(seed)\n",
    "    #     slow, shigh = seed\n",
    "    #     t = [seed]\n",
    "    #     for step in steps:\n",
    "    #         s = []\n",
    "    #         while len(t) > 0:\n",
    "    #             t.pop(0)\n",
    "    #             for rng in sorted(d[step], key=itemgetter(1)):\n",
    "                    \n",
    "    #                 x, y, z = rng\n",
    "    #                 low = y\n",
    "    #                 high = y + z\n",
    "    #                 shift = x - y\n",
    "                \n",
    "    #                 # print(step, (low, high, shift), (slow, shigh), slow > low, shigh < high)\n",
    "    \n",
    "    #                 if slow < low:\n",
    "    #                     if shigh > high:\n",
    "    #                         s.append((slow, high))\n",
    "    #                 if slow > low:\n",
    "    #                     if shigh < high:\n",
    "    #                         s.append((slow + shift, shigh + shift))\n",
    "    #                         slow += shift\n",
    "    #                         shigh += shift\n",
    "    #                     else:\n",
    "    #                         s.append((slow + shift, high + shift))\n",
    "    #                         slow = high\n",
    "    #                 else:\n",
    "    #                     s.append((slow, shigh))\n",
    "    #                 print(s)\n",
    "    #             t = s\n",
    "    #     o.append(t)\n",
    "    # return o   \n",
    "        \n",
    "    "
   ]
  }
 ],
 "metadata": {
  "kernelspec": {
   "display_name": "Python 3 (ipykernel)",
   "language": "python",
   "name": "python3"
  },
  "language_info": {
   "codemirror_mode": {
    "name": "ipython",
    "version": 3
   },
   "file_extension": ".py",
   "mimetype": "text/x-python",
   "name": "python",
   "nbconvert_exporter": "python",
   "pygments_lexer": "ipython3",
   "version": "3.11.6"
  }
 },
 "nbformat": 4,
 "nbformat_minor": 5
}

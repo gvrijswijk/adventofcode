{
 "cells": [
  {
   "cell_type": "markdown",
   "metadata": {},
   "source": [
    "# Advent of Code 2016"
   ]
  },
  {
   "cell_type": "code",
   "execution_count": null,
   "metadata": {},
   "outputs": [],
   "source": []
  },
  {
   "cell_type": "markdown",
   "metadata": {},
   "source": [
    "## [Day 1: No Time for a Taxicab](https://adventofcode.com/2016/day/1)\n",
    "\n",
    "\"You're airdropped near Easter Bunny Headquarters in a city somewhere. \"Near\", unfortunately, is as close as you can get - the instructions on the Easter Bunny Recruiting Document the Elves intercepted start here, and nobody had time to work them out further. The Document indicates that you should start at the given coordinates (where you just landed) and face North. Then, follow the provided sequence: either turn left (L) or right (R) 90 degrees, then walk forward the given number of blocks, ending at a new intersection.\""
   ]
  },
  {
   "cell_type": "code",
   "execution_count": 50,
   "metadata": {},
   "outputs": [
    {
     "name": "stdout",
     "output_type": "stream",
     "text": [
      "Part 1: 236.0\n",
      "Part 2: 182.0\n"
     ]
    }
   ],
   "source": [
    "with open('2016/input01.txt') as f:\n",
    "    f = f.read()\n",
    "    \n",
    "location = complex\n",
    "location, heading = 0, 1j\n",
    "\n",
    "d = {'L': -1j, 'R': 1j}\n",
    "\n",
    "path, duplicate = [], None\n",
    "\n",
    "for e in f.strip().split(', '):\n",
    "    heading *= d[e[0]]\n",
    "    for f in range(int(e[1:])):\n",
    "        location += heading\n",
    "        if location in path and not duplicate:\n",
    "            duplicate = location\n",
    "        path.append(location)\n",
    "        \n",
    "print(\"Part 1: \" + str(abs(location.imag) + abs(location.real)))\n",
    "print(\"Part 2: \" + str(abs(duplicate.imag) + abs(duplicate.real)))"
   ]
  },
  {
   "cell_type": "markdown",
   "metadata": {},
   "source": [
    "## [Day 2: Bathroom Security](https://adventofcode.com/2016/day/2)\n",
    "\n",
    "\"In order to improve security,\" the document you find says, \"bathroom codes will no longer be written down. Instead, please memorize and follow the procedure below to access the bathrooms.\""
   ]
  },
  {
   "cell_type": "code",
   "execution_count": 149,
   "metadata": {},
   "outputs": [
    {
     "name": "stdout",
     "output_type": "stream",
     "text": [
      "53255\n"
     ]
    }
   ],
   "source": [
    "with open('2016/input02.txt') as f:\n",
    "    f = f.read()\n",
    "    \n",
    "keypad = [[1, 2, 3], \n",
    "          [4, 5, 6], \n",
    "          [7, 8, 9]]\n",
    "\n",
    "position = (1, 1)\n",
    "directions =  {'L': [0, -1], 'R': [0, 1], 'U': [-1, 0], 'D': [1, 0]}\n",
    "code = ''\n",
    "\n",
    "def new_position(pos, move, keypad):\n",
    "    #print(pos, move)\n",
    "    x, y = pos\n",
    "    dx, dy = move\n",
    "    #print(keypad[x + dx][y + dy])\n",
    "    try: \n",
    "        val = keypad[x + dx][y + dy]\n",
    "        if val == ' ':\n",
    "            pass\n",
    "        else:\n",
    "            if 0 <= x + dx <= len(keypad):\n",
    "                x += dx\n",
    "            if 0 <= y + dy <= len(keypad[y + dy]):\n",
    "                y += dy\n",
    "    except: pass\n",
    "    return (x, y)\n",
    "    \n",
    "\n",
    "for line in f.strip().split('\\n'):\n",
    "    for char in line:\n",
    "        #print(position)\n",
    "        position = new_position(position, directions[char], keypad)\n",
    "    code += str(keypad[position[0]][position[1]])\n",
    "print(code)         "
   ]
  },
  {
   "cell_type": "code",
   "execution_count": 148,
   "metadata": {},
   "outputs": [
    {
     "name": "stdout",
     "output_type": "stream",
     "text": [
      "7423A\n"
     ]
    }
   ],
   "source": [
    "keypad = [[' ', ' ', '1', ' ', ' '], \n",
    "          [' ', '2', '3', '4', ' '], \n",
    "          ['5', '6', '7', '8', '9'],\n",
    "          [' ', 'A', 'B', 'C', ' '],\n",
    "          [' ', ' ', 'D', ' ', ' ']]\n",
    "\n",
    "position = (2, 0) # start at 5\n",
    "code = ''\n",
    "\n",
    "def new_position(pos, move, keypad):\n",
    "    #print(pos, move)\n",
    "    x, y = pos\n",
    "    dx, dy = move\n",
    "    #print(keypad[x + dx][y + dy])\n",
    "    try: \n",
    "        val = keypad[x + dx][y + dy]\n",
    "        if val == ' ':\n",
    "            pass\n",
    "        else:\n",
    "            if 0 <= x + dx <= len(keypad):\n",
    "                x += dx\n",
    "            if 0 <= y + dy <= len(keypad[y + dy]):\n",
    "                y += dy\n",
    "    except: pass\n",
    "    return (x, y)\n",
    "    \n",
    "\n",
    "for line in f.strip().split('\\n'):\n",
    "    for char in line:\n",
    "        #print(position)\n",
    "        position = new_position(position, directions[char], keypad)\n",
    "    code += str(keypad[position[0]][position[1]])\n",
    "print(code)         "
   ]
  },
  {
   "cell_type": "markdown",
   "metadata": {},
   "source": [
    "## [Day 3: Squares With Three Sides](https://adventofcode.com/2016/day/3)\n",
    "\n",
    "\"The design document gives the side lengths of each triangle it describes, but... 5 10 25? Some of these aren't triangles. You can't help but mark the impossible ones.\""
   ]
  },
  {
   "cell_type": "code",
   "execution_count": 188,
   "metadata": {},
   "outputs": [
    {
     "data": {
      "text/plain": [
       "862"
      ]
     },
     "execution_count": 188,
     "metadata": {},
     "output_type": "execute_result"
    }
   ],
   "source": [
    "def isvalidtriangle(args):\n",
    "    for arg in args:\n",
    "        if arg >= sum(args) - arg:\n",
    "            return False\n",
    "    return True\n",
    "\n",
    "with open('2016/input03.txt') as f:\n",
    "    f = [[int(s) for s in e.strip().split()] for e in f.readlines()]\n",
    "\n",
    "f = [isvalidtriangle(e) for e in f]\n",
    "sum(f)"
   ]
  },
  {
   "cell_type": "code",
   "execution_count": 253,
   "metadata": {},
   "outputs": [
    {
     "data": {
      "text/plain": [
       "1577"
      ]
     },
     "execution_count": 253,
     "metadata": {},
     "output_type": "execute_result"
    }
   ],
   "source": [
    "def concatenate_tuples(*args):\n",
    "    r = ()\n",
    "    for arg in args:\n",
    "        r = r + arg\n",
    "    return r\n",
    "\n",
    "with open('2016/input03.txt') as f:\n",
    "    f = [[int(s) for s in e.strip().split()] for e in f.readlines()]\n",
    "    f = concatenate_tuples(*zip(*f))\n",
    "\n",
    "count = 0\n",
    "for i in range(0, len(f), 3):\n",
    "    if isvalidtriangle(f[i:i + 3]):\n",
    "        count += 1\n",
    "    \n",
    "count"
   ]
  },
  {
   "cell_type": "code",
   "execution_count": null,
   "metadata": {},
   "outputs": [],
   "source": []
  }
 ],
 "metadata": {
  "kernelspec": {
   "display_name": "Python 3",
   "language": "python",
   "name": "python3"
  },
  "language_info": {
   "codemirror_mode": {
    "name": "ipython",
    "version": 3
   },
   "file_extension": ".py",
   "mimetype": "text/x-python",
   "name": "python",
   "nbconvert_exporter": "python",
   "pygments_lexer": "ipython3",
   "version": "3.7.6"
  }
 },
 "nbformat": 4,
 "nbformat_minor": 4
}

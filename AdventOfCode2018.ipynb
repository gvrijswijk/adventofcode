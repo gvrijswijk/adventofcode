{
 "cells": [
  {
   "cell_type": "code",
   "execution_count": 26,
   "metadata": {},
   "outputs": [],
   "source": [
    "def Input(day, year=2018):\n",
    "    directory = '{}'.format(year)\n",
    "    filename = directory + '/input{}.txt'.format(day)\n",
    "    return open(filename)"
   ]
  },
  {
   "cell_type": "markdown",
   "metadata": {},
   "source": [
    "# Day 1 - Chronal Calibration"
   ]
  },
  {
   "cell_type": "code",
   "execution_count": 27,
   "metadata": {},
   "outputs": [
    {
     "name": "stdout",
     "output_type": "stream",
     "text": [
      "561\n"
     ]
    }
   ],
   "source": [
    "f = Input('01')\n",
    "s = 0\n",
    "for line in f:\n",
    "    s += int(line)\n",
    "print(s)"
   ]
  },
  {
   "cell_type": "code",
   "execution_count": 28,
   "metadata": {},
   "outputs": [
    {
     "name": "stdout",
     "output_type": "stream",
     "text": [
      "139283\n",
      "563\n"
     ]
    }
   ],
   "source": [
    "l = [int(e) for e in Input('01')]\n",
    "\n",
    "t, u = 0, 0\n",
    "v = {}\n",
    "\n",
    "while t not in v:\n",
    "    v[t] = t\n",
    "    t += l[u % len(l)]\n",
    "    u += 1\n",
    "print(len(v))    \n",
    "print(t)"
   ]
  },
  {
   "cell_type": "markdown",
   "metadata": {},
   "source": [
    "# Day 2 - Inventory Management System"
   ]
  },
  {
   "cell_type": "code",
   "execution_count": 61,
   "metadata": {},
   "outputs": [
    {
     "name": "stdout",
     "output_type": "stream",
     "text": [
      "5456\n"
     ]
    }
   ],
   "source": [
    "z = ([[e.count(c) for c in e] for e in Input('02')])\n",
    "count = {2: 0, 3: 0}\n",
    "\n",
    "for e in z:\n",
    "    if 2 in e:\n",
    "        count[2] += 1\n",
    "    if 3 in e:\n",
    "        count[3] += 1\n",
    "        \n",
    "print(count[2] * count[3])"
   ]
  },
  {
   "cell_type": "code",
   "execution_count": 91,
   "metadata": {},
   "outputs": [
    {
     "name": "stdout",
     "output_type": "stream",
     "text": [
      "('megsdlpulxvinkatfoyzxcbvq\\n', 1)\n",
      "('megsdlpulxvinkatfoyzxcbvq\\n', 1)\n"
     ]
    }
   ],
   "source": [
    "q = list(Input('02'))\n",
    "matches = {}\n",
    "\n",
    "def compare_string(str1, lst):\n",
    "    for e in lst:\n",
    "        counter = 0\n",
    "        result = []\n",
    "        for i in range(len(str1)):\n",
    "            if str1[i] != e[i]:\n",
    "                counter += 1\n",
    "            else:\n",
    "                result.append(str1[i])\n",
    "        if counter == 1:\n",
    "            return ''.join(result), counter\n",
    "    \n",
    "for e in q:\n",
    "    if compare_string(e, q) != None:\n",
    "        print(compare_string(e, q))"
   ]
  },
  {
   "cell_type": "markdown",
   "metadata": {},
   "source": [
    "# Day 3 - No Matter How You Slice It"
   ]
  },
  {
   "cell_type": "code",
   "execution_count": 222,
   "metadata": {},
   "outputs": [
    {
     "name": "stdout",
     "output_type": "stream",
     "text": [
      "104712\n"
     ]
    }
   ],
   "source": [
    "import re\n",
    "\n",
    "f = Input('03')\n",
    "\n",
    "coordinates = {}\n",
    "counter = 0\n",
    "counter2 = 0\n",
    "\n",
    "for e in f:\n",
    "    x = re.match(r'#(\\d+) @ (\\d+),(\\d+): (\\d+)x(\\d+)', e)\n",
    "\n",
    "    #counter += int(x.group(4)) * int(x.group(5))\n",
    "    for j in range(int(x.group(5))):\n",
    "        for i in range(int(x.group(4))):\n",
    "            t = int(x.group(2)) + i\n",
    "            u = int(x.group(3)) + j\n",
    "            key = (t, u)\n",
    "\n",
    "            if key in coordinates:\n",
    "                coordinates[key] += 1\n",
    "                if coordinates[key] == 2:\n",
    "                    counter2 += 1\n",
    "            else:\n",
    "                coordinates[key] = 1\n",
    "print(counter2)"
   ]
  },
  {
   "cell_type": "code",
   "execution_count": null,
   "metadata": {},
   "outputs": [],
   "source": []
  }
 ],
 "metadata": {
  "kernelspec": {
   "display_name": "Python 3",
   "language": "python",
   "name": "python3"
  },
  "language_info": {
   "codemirror_mode": {
    "name": "ipython",
    "version": 3
   },
   "file_extension": ".py",
   "mimetype": "text/x-python",
   "name": "python",
   "nbconvert_exporter": "python",
   "pygments_lexer": "ipython3",
   "version": "3.7.0"
  }
 },
 "nbformat": 4,
 "nbformat_minor": 2
}

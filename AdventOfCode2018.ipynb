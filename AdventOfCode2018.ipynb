{
 "cells": [
  {
   "cell_type": "code",
   "execution_count": 239,
   "metadata": {},
   "outputs": [],
   "source": [
    "import re\n",
    "\n",
    "def Input(day, year=2018):\n",
    "    directory = '{}'.format(year)\n",
    "    filename = directory + '/input{}.txt'.format(day)\n",
    "    return open(filename)"
   ]
  },
  {
   "cell_type": "markdown",
   "metadata": {},
   "source": [
    "# Day 1 - Chronal Calibration"
   ]
  },
  {
   "cell_type": "code",
   "execution_count": 240,
   "metadata": {},
   "outputs": [
    {
     "name": "stdout",
     "output_type": "stream",
     "text": [
      "561\n"
     ]
    }
   ],
   "source": [
    "f = Input('01')\n",
    "s = 0\n",
    "for line in f:\n",
    "    s += int(line)\n",
    "print(s)"
   ]
  },
  {
   "cell_type": "code",
   "execution_count": 241,
   "metadata": {},
   "outputs": [
    {
     "name": "stdout",
     "output_type": "stream",
     "text": [
      "139283\n",
      "563\n"
     ]
    }
   ],
   "source": [
    "l = [int(e) for e in Input('01')]\n",
    "\n",
    "t, u = 0, 0\n",
    "v = {}\n",
    "\n",
    "while t not in v:\n",
    "    v[t] = t\n",
    "    t += l[u % len(l)]\n",
    "    u += 1\n",
    "print(len(v))    \n",
    "print(t)"
   ]
  },
  {
   "cell_type": "markdown",
   "metadata": {},
   "source": [
    "# Day 2 - Inventory Management System"
   ]
  },
  {
   "cell_type": "code",
   "execution_count": 242,
   "metadata": {},
   "outputs": [
    {
     "name": "stdout",
     "output_type": "stream",
     "text": [
      "5456\n"
     ]
    }
   ],
   "source": [
    "z = ([[e.count(c) for c in e] for e in Input('02')])\n",
    "count = {2: 0, 3: 0}\n",
    "\n",
    "for e in z:\n",
    "    if 2 in e:\n",
    "        count[2] += 1\n",
    "    if 3 in e:\n",
    "        count[3] += 1\n",
    "        \n",
    "print(count[2] * count[3])"
   ]
  },
  {
   "cell_type": "code",
   "execution_count": 243,
   "metadata": {},
   "outputs": [
    {
     "name": "stdout",
     "output_type": "stream",
     "text": [
      "('megsdlpulxvinkatfoyzxcbvq\\n', 1)\n",
      "('megsdlpulxvinkatfoyzxcbvq\\n', 1)\n"
     ]
    }
   ],
   "source": [
    "q = list(Input('02'))\n",
    "matches = {}\n",
    "\n",
    "def compare_string(str1, lst):\n",
    "    for e in lst:\n",
    "        counter = 0\n",
    "        result = []\n",
    "        for i in range(len(str1)):\n",
    "            if str1[i] != e[i]:\n",
    "                counter += 1\n",
    "            else:\n",
    "                result.append(str1[i])\n",
    "        if counter == 1:\n",
    "            return ''.join(result), counter\n",
    "    \n",
    "for e in q:\n",
    "    if compare_string(e, q) != None:\n",
    "        print(compare_string(e, q))"
   ]
  },
  {
   "cell_type": "markdown",
   "metadata": {},
   "source": [
    "# Day 3 - No Matter How You Slice It"
   ]
  },
  {
   "cell_type": "code",
   "execution_count": 244,
   "metadata": {},
   "outputs": [
    {
     "name": "stdout",
     "output_type": "stream",
     "text": [
      "104712\n"
     ]
    }
   ],
   "source": [
    "f = Input('03')\n",
    "\n",
    "coordinates = {}\n",
    "counter = 0\n",
    "counter2 = 0\n",
    "\n",
    "for e in f:\n",
    "    x = re.match(r'#(\\d+) @ (\\d+),(\\d+): (\\d+)x(\\d+)', e)\n",
    "\n",
    "    #counter += int(x.group(4)) * int(x.group(5))\n",
    "    for j in range(int(x.group(5))):\n",
    "        for i in range(int(x.group(4))):\n",
    "            t = int(x.group(2)) + i\n",
    "            u = int(x.group(3)) + j\n",
    "            key = (t, u)\n",
    "\n",
    "            if key in coordinates:\n",
    "                coordinates[key] += 1\n",
    "                if coordinates[key] == 2:\n",
    "                    counter2 += 1\n",
    "            else:\n",
    "                coordinates[key] = 1\n",
    "print(counter2)"
   ]
  },
  {
   "cell_type": "code",
   "execution_count": 260,
   "metadata": {},
   "outputs": [],
   "source": [
    "for e in Input('03'):\n",
    "    \n",
    "    x = re.match(r'#(\\d+) @ (\\d+),(\\d+): (\\d+)x(\\d+)', e)\n",
    "    \n",
    "    sum = 0\n",
    "    \n",
    "    for j in range(int(x.group(5))):\n",
    "        for i in range(int(x.group(4))):\n",
    "            t = int(x.group(2)) + i\n",
    "            u = int(x.group(3)) + j\n",
    "            key = (t, u)\n",
    "            sum += coordinates[key]\n",
    "            \n",
    "    if sum == int(x.group(4)) * int(x.group(5)):\n",
    "        print(e)"
   ]
  },
  {
   "cell_type": "markdown",
   "metadata": {},
   "source": [
    "# Day 4 - Repose Record"
   ]
  },
  {
   "cell_type": "code",
   "execution_count": 448,
   "metadata": {},
   "outputs": [
    {
     "name": "stdout",
     "output_type": "stream",
     "text": [
      "76357\n",
      "2459\n",
      "10\n",
      "31\n",
      "76229\n",
      "++++\n",
      "2633\n",
      "14\n",
      "29\n",
      "76357\n",
      "++++\n",
      "3121\n",
      "9\n",
      "31\n",
      "96751\n",
      "++++\n",
      "2897\n",
      "5\n",
      "35\n",
      "101395\n",
      "++++\n",
      "1291\n",
      "9\n",
      "33\n",
      "42603\n",
      "++++\n",
      "61\n",
      "12\n",
      "37\n",
      "2257\n",
      "++++\n",
      "1931\n",
      "7\n",
      "25\n",
      "48275\n",
      "++++\n",
      "1471\n",
      "6\n",
      "33\n",
      "48543\n",
      "++++\n",
      "661\n",
      "6\n",
      "22\n",
      "14542\n",
      "++++\n",
      "467\n",
      "7\n",
      "37\n",
      "17279\n",
      "++++\n",
      "947\n",
      "18\n",
      "44\n",
      "41668\n",
      "++++\n",
      "3037\n",
      "6\n",
      "24\n",
      "72888\n",
      "++++\n",
      "1283\n",
      "5\n",
      "26\n",
      "33358\n",
      "++++\n",
      "409\n",
      "9\n",
      "21\n",
      "8589\n",
      "++++\n",
      "1889\n",
      "6\n",
      "37\n",
      "69893\n",
      "++++\n",
      "1663\n",
      "9\n",
      "41\n",
      "68183\n",
      "++++\n",
      "2447\n",
      "7\n",
      "27\n",
      "66069\n",
      "++++\n",
      "2819\n",
      "6\n",
      "22\n",
      "62018\n",
      "++++\n",
      "1433\n",
      "6\n",
      "45\n",
      "64485\n",
      "++++\n",
      "3307\n",
      "10\n",
      "35\n",
      "115745\n",
      "++++\n"
     ]
    }
   ],
   "source": [
    "import re\n",
    "import datetime\n",
    "\n",
    "f = sorted(list(Input('04')))\n",
    "\n",
    "sleeptime = {}\n",
    "byminute = {}\n",
    "\n",
    "def days_hours_minutes(td):\n",
    "    return td.days, td.seconds//3600, (td.seconds//60)%60\n",
    "\n",
    "def minutes(td):\n",
    "    return (td.seconds//60)%60\n",
    "\n",
    "for e in f:\n",
    "\n",
    "    x = re.match(r'\\[(\\d+)-(\\d+)-(\\d+) (\\d+):(\\d+)\\] (\\S+) #?(\\S+)', e)\n",
    "    if x.group(6) == \"Guard\":\n",
    "        guard = int(x.group(7))\n",
    "    if x.group(6) == \"falls\":\n",
    "        start = datetime.datetime(int(x.group(1)), int(x.group(2)), int(x.group(3)), int(x.group(4)), int(x.group(5)))\n",
    "    if x.group(6) == \"wakes\":\n",
    "        end = datetime.datetime(int(x.group(1)), int(x.group(2)), int(x.group(3)), int(x.group(4)), int(x.group(5)))\n",
    "        sleep = minutes(end - start)\n",
    "        if guard in sleeptime:\n",
    "            sleeptime[guard] += sleep\n",
    "        else:\n",
    "            sleeptime[guard] = sleep\n",
    "            l = []\n",
    "            for i in range(60):\n",
    "                l.append(0)\n",
    "            byminute[guard] = l\n",
    "        for i in range(start.minute, end.minute):\n",
    "            byminute[guard][i] = int(byminute[guard][i]) + 1\n",
    "\n",
    "g = (max(sleeptime, key=lambda key: sleeptime[key]))\n",
    "print(g * byminute[g].index((max(byminute[g]))))\n",
    "\n",
    "for e in byminute:\n",
    "    print(e)\n",
    "    print(max(byminute[e]))\n",
    "    print(byminute[e].index(max(byminute[e])))\n",
    "    print(e * byminute[e].index(max(byminute[e])))\n",
    "    print('++++')"
   ]
  },
  {
   "cell_type": "code",
   "execution_count": null,
   "metadata": {},
   "outputs": [],
   "source": []
  }
 ],
 "metadata": {
  "kernelspec": {
   "display_name": "Python 3",
   "language": "python",
   "name": "python3"
  },
  "language_info": {
   "codemirror_mode": {
    "name": "ipython",
    "version": 3
   },
   "file_extension": ".py",
   "mimetype": "text/x-python",
   "name": "python",
   "nbconvert_exporter": "python",
   "pygments_lexer": "ipython3",
   "version": "3.7.0"
  }
 },
 "nbformat": 4,
 "nbformat_minor": 2
}

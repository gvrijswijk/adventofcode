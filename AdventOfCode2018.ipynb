{
 "cells": [
  {
   "cell_type": "code",
   "execution_count": 2,
   "metadata": {},
   "outputs": [],
   "source": [
    "import re\n",
    "from itertools import accumulate\n",
    "import numpy as np\n",
    "\n",
    "def Input(day, year=2018):\n",
    "    directory = '{}'.format(year)\n",
    "    filename = directory + '/input{}.txt'.format(day)\n",
    "    return open(filename)"
   ]
  },
  {
   "cell_type": "markdown",
   "metadata": {},
   "source": [
    "# Day 1 - Chronal Calibration"
   ]
  },
  {
   "cell_type": "code",
   "execution_count": 15,
   "metadata": {},
   "outputs": [
    {
     "data": {
      "text/plain": [
       "561"
      ]
     },
     "execution_count": 15,
     "metadata": {},
     "output_type": "execute_result"
    }
   ],
   "source": [
    "sum([int(e) for e in Input('01')])"
   ]
  },
  {
   "cell_type": "code",
   "execution_count": 27,
   "metadata": {
    "scrolled": false
   },
   "outputs": [
    {
     "data": {
      "text/plain": [
       "563"
      ]
     },
     "execution_count": 27,
     "metadata": {},
     "output_type": "execute_result"
    }
   ],
   "source": [
    "frequency_changes = [int(e) for e in Input('01')]\n",
    "\n",
    "frequencies = {}\n",
    "frequency = 0\n",
    "\n",
    "while frequency not in frequencies:\n",
    "    frequencies[frequency] = 1\n",
    "    frequency += frequency_changes[(len(frequencies) - 1) % len(f)]\n",
    "    \n",
    "frequency"
   ]
  },
  {
   "cell_type": "markdown",
   "metadata": {},
   "source": [
    "# Day 2 - Inventory Management System"
   ]
  },
  {
   "cell_type": "code",
   "execution_count": 31,
   "metadata": {},
   "outputs": [
    {
     "name": "stdout",
     "output_type": "stream",
     "text": [
      "5456\n"
     ]
    }
   ],
   "source": [
    "z = ([[e.count(c) for c in e] for e in Input('02')])\n",
    "count = {2: 0, 3: 0}\n",
    "\n",
    "for e in z:\n",
    "    if 2 in e:\n",
    "        count[2] += 1\n",
    "    if 3 in e:\n",
    "        count[3] += 1\n",
    "        \n",
    "print(count[2] * count[3])"
   ]
  },
  {
   "cell_type": "code",
   "execution_count": 4,
   "metadata": {},
   "outputs": [
    {
     "name": "stdout",
     "output_type": "stream",
     "text": [
      "('megsdlpulxvinkatfoyzxcbvq\\n', 1)\n",
      "('megsdlpulxvinkatfoyzxcbvq\\n', 1)\n"
     ]
    }
   ],
   "source": [
    "q = list(Input('02'))\n",
    "matches = {}\n",
    "\n",
    "def compare_string(str1, lst):\n",
    "    for e in lst:\n",
    "        counter = 0\n",
    "        result = []\n",
    "        for i in range(len(str1)):\n",
    "            if str1[i] != e[i]:\n",
    "                counter += 1\n",
    "            else:\n",
    "                result.append(str1[i])\n",
    "        if counter == 1:\n",
    "            return ''.join(result), counter\n",
    "    \n",
    "for e in q:\n",
    "    if compare_string(e, q) != None:\n",
    "        print(compare_string(e, q))"
   ]
  },
  {
   "cell_type": "markdown",
   "metadata": {},
   "source": [
    "# Day 3 - No Matter How You Slice It"
   ]
  },
  {
   "cell_type": "code",
   "execution_count": 7,
   "metadata": {},
   "outputs": [
    {
     "name": "stdout",
     "output_type": "stream",
     "text": [
      "104712\n"
     ]
    }
   ],
   "source": [
    "f = Input('03')\n",
    "\n",
    "coordinates = {}\n",
    "counter = 0\n",
    "counter2 = 0\n",
    "\n",
    "for e in f:\n",
    "    x = re.match(r'#(\\d+) @ (\\d+),(\\d+): (\\d+)x(\\d+)', e)\n",
    "\n",
    "    #counter += int(x.group(4)) * int(x.group(5))\n",
    "    for j in range(int(x.group(5))):\n",
    "        for i in range(int(x.group(4))):\n",
    "            t = int(x.group(2)) + i\n",
    "            u = int(x.group(3)) + j\n",
    "            key = (t, u)\n",
    "\n",
    "            if key in coordinates:\n",
    "                coordinates[key] += 1\n",
    "                if coordinates[key] == 2:\n",
    "                    counter2 += 1\n",
    "            else:\n",
    "                coordinates[key] = 1\n",
    "print(counter2)"
   ]
  },
  {
   "cell_type": "code",
   "execution_count": 8,
   "metadata": {},
   "outputs": [
    {
     "name": "stdout",
     "output_type": "stream",
     "text": [
      "#840 @ 163,836: 21x12\n",
      "\n"
     ]
    }
   ],
   "source": [
    "for e in Input('03'):\n",
    "    \n",
    "    x = re.match(r'#(\\d+) @ (\\d+),(\\d+): (\\d+)x(\\d+)', e)\n",
    "    \n",
    "    sum = 0\n",
    "    \n",
    "    for j in range(int(x.group(5))):\n",
    "        for i in range(int(x.group(4))):\n",
    "            t = int(x.group(2)) + i\n",
    "            u = int(x.group(3)) + j\n",
    "            key = (t, u)\n",
    "            sum += coordinates[key]\n",
    "            \n",
    "    if sum == int(x.group(4)) * int(x.group(5)):\n",
    "        print(e)"
   ]
  },
  {
   "cell_type": "markdown",
   "metadata": {},
   "source": [
    "# Day 4 - Repose Record"
   ]
  },
  {
   "cell_type": "code",
   "execution_count": 307,
   "metadata": {},
   "outputs": [
    {
     "name": "stdout",
     "output_type": "stream",
     "text": [
      "76357\n",
      "2459\n",
      "10\n",
      "31\n",
      "76229\n",
      "++++\n",
      "2633\n",
      "14\n",
      "29\n",
      "76357\n",
      "++++\n",
      "3121\n",
      "9\n",
      "31\n",
      "96751\n",
      "++++\n",
      "2897\n",
      "5\n",
      "35\n",
      "101395\n",
      "++++\n",
      "1291\n",
      "9\n",
      "33\n",
      "42603\n",
      "++++\n",
      "61\n",
      "12\n",
      "37\n",
      "2257\n",
      "++++\n",
      "1931\n",
      "7\n",
      "25\n",
      "48275\n",
      "++++\n",
      "1471\n",
      "6\n",
      "33\n",
      "48543\n",
      "++++\n",
      "661\n",
      "6\n",
      "22\n",
      "14542\n",
      "++++\n",
      "467\n",
      "7\n",
      "37\n",
      "17279\n",
      "++++\n",
      "947\n",
      "18\n",
      "44\n",
      "41668\n",
      "++++\n",
      "3037\n",
      "6\n",
      "24\n",
      "72888\n",
      "++++\n",
      "1283\n",
      "5\n",
      "26\n",
      "33358\n",
      "++++\n",
      "409\n",
      "9\n",
      "21\n",
      "8589\n",
      "++++\n",
      "1889\n",
      "6\n",
      "37\n",
      "69893\n",
      "++++\n",
      "1663\n",
      "9\n",
      "41\n",
      "68183\n",
      "++++\n",
      "2447\n",
      "7\n",
      "27\n",
      "66069\n",
      "++++\n",
      "2819\n",
      "6\n",
      "22\n",
      "62018\n",
      "++++\n",
      "1433\n",
      "6\n",
      "45\n",
      "64485\n",
      "++++\n",
      "3307\n",
      "10\n",
      "35\n",
      "115745\n",
      "++++\n"
     ]
    }
   ],
   "source": [
    "import re\n",
    "import datetime\n",
    "\n",
    "f = sorted(list(Input('04')))\n",
    "\n",
    "sleeptime = {}\n",
    "byminute = {}\n",
    "\n",
    "def days_hours_minutes(td):\n",
    "    return td.days, td.seconds//3600, (td.seconds//60)%60\n",
    "\n",
    "def minutes(td):\n",
    "    return (td.seconds//60)%60\n",
    "\n",
    "for e in f:\n",
    "\n",
    "    x = re.match(r'\\[(\\d+)-(\\d+)-(\\d+) (\\d+):(\\d+)\\] (\\S+) #?(\\S+)', e)\n",
    "    if x.group(6) == \"Guard\":\n",
    "        guard = int(x.group(7))\n",
    "    if x.group(6) == \"falls\":\n",
    "        start = datetime.datetime(int(x.group(1)), int(x.group(2)), int(x.group(3)), int(x.group(4)), int(x.group(5)))\n",
    "    if x.group(6) == \"wakes\":\n",
    "        end = datetime.datetime(int(x.group(1)), int(x.group(2)), int(x.group(3)), int(x.group(4)), int(x.group(5)))\n",
    "        sleep = minutes(end - start)\n",
    "        if guard in sleeptime:\n",
    "            sleeptime[guard] += sleep\n",
    "        else:\n",
    "            sleeptime[guard] = sleep\n",
    "            l = []\n",
    "            for i in range(60):\n",
    "                l.append(0)\n",
    "            byminute[guard] = l\n",
    "        for i in range(start.minute, end.minute):\n",
    "            byminute[guard][i] = int(byminute[guard][i]) + 1\n",
    "\n",
    "g = (max(sleeptime, key=lambda key: sleeptime[key]))\n",
    "print(g * byminute[g].index((max(byminute[g]))))\n",
    "\n",
    "for e in byminute:\n",
    "    print(e)\n",
    "    print(max(byminute[e]))\n",
    "    print(byminute[e].index(max(byminute[e])))\n",
    "    print(e * byminute[e].index(max(byminute[e])))\n",
    "    print('++++')"
   ]
  },
  {
   "cell_type": "markdown",
   "metadata": {},
   "source": [
    "# Day 5 - Alchemical Reduction"
   ]
  },
  {
   "cell_type": "code",
   "execution_count": 32,
   "metadata": {},
   "outputs": [
    {
     "name": "stdout",
     "output_type": "stream",
     "text": [
      "11108\n"
     ]
    }
   ],
   "source": [
    "f = list(Input('05').read().strip())\n",
    "\n",
    "def capuncap(e):\n",
    "    if e.isupper():\n",
    "        return e.lower()\n",
    "    else:\n",
    "        return e.upper()\n",
    "x=0\n",
    "k = 0\n",
    "y = 1\n",
    "while y == 1:   \n",
    "    i = 0\n",
    "    j = len(f)-1\n",
    "\n",
    "    while i < j:\n",
    "        if f[i] == capuncap(f[i + 1]):\n",
    "            del(f[i+1])\n",
    "            del(f[i])\n",
    "            j -= 2\n",
    "        else:\n",
    "            i += 1\n",
    "    if x == len(f):\n",
    "        y = 0\n",
    "    x = len(f)\n",
    "print(len(f))"
   ]
  },
  {
   "cell_type": "code",
   "execution_count": 33,
   "metadata": {},
   "outputs": [
    {
     "name": "stdout",
     "output_type": "stream",
     "text": [
      "a: 10602\n",
      "b: 10704\n",
      "c: 10632\n",
      "d: 10650\n",
      "e: 10686\n",
      "f: 5094\n",
      "g: 10688\n",
      "h: 10664\n",
      "i: 10670\n",
      "j: 10656\n",
      "k: 10726\n",
      "l: 10698\n",
      "m: 10630\n",
      "n: 10626\n",
      "o: 10644\n",
      "p: 10648\n",
      "q: 10656\n",
      "r: 10650\n",
      "s: 10664\n",
      "t: 10718\n",
      "u: 10700\n",
      "v: 10664\n",
      "w: 10682\n",
      "x: 10606\n",
      "y: 10678\n",
      "z: 10642\n"
     ]
    }
   ],
   "source": [
    "import string\n",
    "\n",
    "f = Input('05').read().strip()\n",
    "\n",
    "\n",
    "g = string.ascii_lowercase\n",
    "\n",
    "for c in g:\n",
    "    h = f\n",
    "    #print(len(h))\n",
    "    h = re.sub(c, '', f)\n",
    "    #print(len(h))\n",
    "    h = re.sub(capuncap(c), '', h)\n",
    "    #print(len(h))\n",
    "    #h = f.replace(c, \"\")\n",
    "    #h = h.replace(capuncap(c), \"\")\n",
    "    k = 0\n",
    "    y = 1\n",
    "    h = list(h)\n",
    "    while y == 1:   \n",
    "        i = 0\n",
    "        j = len(h)-1\n",
    "        \n",
    "        while i < j:\n",
    "            if h[i] == capuncap(h[i + 1]):\n",
    "                del(h[i+1])\n",
    "                del(h[i])\n",
    "                j -= 2\n",
    "            else:\n",
    "                i += 1\n",
    "        \n",
    "        if x == len(h):\n",
    "            y = 0\n",
    "        x = len(h)\n",
    "    print(c + \": \" + str(len(h)))\n",
    "    #if c == 'f':\n",
    "        #print(h)\n",
    "        "
   ]
  },
  {
   "cell_type": "markdown",
   "metadata": {},
   "source": [
    "# Day 6 - Chronal Coordinates"
   ]
  },
  {
   "cell_type": "code",
   "execution_count": 12,
   "metadata": {},
   "outputs": [
    {
     "name": "stdout",
     "output_type": "stream",
     "text": [
      "4171\n"
     ]
    }
   ],
   "source": [
    "f = Input('06').readlines()\n",
    "\n",
    "Points = []\n",
    "\n",
    "def manhattan_distance(start, end=(0, 0)):\n",
    "    sx, sy = start\n",
    "    ex, ey = end\n",
    "    return abs(ex - sx) + abs(ey - sy)\n",
    "\n",
    "for i in range(len(f)):\n",
    "    x = re.match(r'(\\d+), (\\d+)', f[i])\n",
    "    Points.append([int(x.group(1)), int(x.group(2))])\n",
    "\n",
    "maxi = [max(e) for e in list(zip(*Points[0:-1]))]\n",
    "\n",
    "grid = []\n",
    "\n",
    "for y in range(maxi[1] + 2):\n",
    "    grid.append([])\n",
    "    for x in range(maxi[0] + 2):\n",
    "        mdist = []\n",
    "        for e in Points:\n",
    "            mdist.append(manhattan_distance((e[0], e[1]), (x, y)))\n",
    "        if mdist.count(min(mdist)) == 1:\n",
    "            grid[y].append(mdist.index(min(mdist)))\n",
    "        else:\n",
    "            grid[y].append('X')\n",
    "\n",
    "infinites = list(set(grid[0] + grid[-1] + list(map(list, zip(*grid)))[0] + list(map(list, zip(*grid)))[-1]))\n",
    "score = {}\n",
    "\n",
    "for e in Points:\n",
    "    if Points.index(e) not in infinites:\n",
    "        score[Points.index(e)] = 0\n",
    "        for g in grid:\n",
    "            score[Points.index(e)] += g.count(Points.index(e))\n",
    "\n",
    "print(max(score.values()))"
   ]
  },
  {
   "cell_type": "code",
   "execution_count": 13,
   "metadata": {},
   "outputs": [
    {
     "name": "stdout",
     "output_type": "stream",
     "text": [
      "39545\n"
     ]
    }
   ],
   "source": [
    "f = Input('06').readlines()\n",
    "\n",
    "Points = []\n",
    "\n",
    "def manhattan_distance(start, end=(0, 0)):\n",
    "    sx, sy = start\n",
    "    ex, ey = end\n",
    "    return abs(ex - sx) + abs(ey - sy)\n",
    "\n",
    "for i in range(len(f)):\n",
    "    x = re.match(r'(\\d+), (\\d+)', f[i])\n",
    "    Points.append([int(x.group(1)), int(x.group(2))])\n",
    "\n",
    "maxi = [max(e) for e in list(zip(*Points[0:-1]))]\n",
    "\n",
    "grid = []\n",
    "\n",
    "for y in range(maxi[1] + 2):\n",
    "    grid.append([])\n",
    "    for x in range(maxi[0] + 2):\n",
    "        dist = 0\n",
    "        for e in Points:\n",
    "            dist += manhattan_distance((e[0], e[1]), (x, y))\n",
    "        grid[y].append(dist)\n",
    "\n",
    "count = 0        \n",
    "\n",
    "for e in grid:\n",
    "    for f in e:\n",
    "        if f <10000:\n",
    "            count += 1\n",
    "            \n",
    "print(count)"
   ]
  },
  {
   "cell_type": "code",
   "execution_count": 14,
   "metadata": {},
   "outputs": [
    {
     "name": "stdout",
     "output_type": "stream",
     "text": [
      "Part 1: BFKEGNOVATIHXYZRMCJDLSUPWQ\n"
     ]
    }
   ],
   "source": [
    "import re\n",
    "\n",
    "f = Input('07').readlines()\n",
    "\n",
    "instructions = {}\n",
    "finished = []\n",
    "\n",
    "for e in list(f):\n",
    "    x = re.match(r'Step (\\S+) must be finished before step (\\S+) can begin.', e)\n",
    "    if x.group(1) not in instructions:\n",
    "        instructions[x.group(1)] = ['']\n",
    "    if x.group(2) not in instructions:\n",
    "        instructions[x.group(2)] = []\n",
    "    if x.group(1) not in instructions[x.group(2)]:\n",
    "        instructions[x.group(2)].append(x.group(1))\n",
    "        \n",
    "#for e in sorted(instructions):\n",
    "#    print(e + \": \" + ''.join(instructions[e]))\n",
    "\n",
    "while len(instructions) > 0:\n",
    "    lst = []\n",
    "    for key in sorted(instructions):\n",
    "        add = 1\n",
    "        for value in instructions[key]:\n",
    "            if value in finished or value == '':\n",
    "                pass\n",
    "            else:\n",
    "                add -= 1\n",
    "        if add == 1:\n",
    "            lst.append(key)\n",
    "    \n",
    "    finished.append(lst[0])\n",
    "    instructions.pop(lst[0])\n",
    "\n",
    "print(\"Part 1: \" + ''.join(finished))"
   ]
  },
  {
   "cell_type": "code",
   "execution_count": 15,
   "metadata": {
    "scrolled": true
   },
   "outputs": [
    {
     "name": "stdout",
     "output_type": "stream",
     "text": [
      "1020: BFKVEGAOTNYIHXZRMCJLDSUPWQ\n"
     ]
    }
   ],
   "source": [
    "import re\n",
    "\n",
    "f = Input('07').readlines()\n",
    "\n",
    "instructions = {}\n",
    "finished = []\n",
    "t = 0\n",
    "\n",
    "for e in list(f):\n",
    "    x = re.match(r'Step (\\S+) must be finished before step (\\S+) can begin.', e)\n",
    "    if x.group(1) not in instructions:\n",
    "        instructions[x.group(1)] = ['']\n",
    "    if x.group(2) not in instructions:\n",
    "        instructions[x.group(2)] = []\n",
    "    if x.group(1) not in instructions[x.group(2)]:\n",
    "        instructions[x.group(2)].append(x.group(1))\n",
    "\n",
    "workers = []\n",
    "timers = []\n",
    "        \n",
    "while len(instructions) > 0:\n",
    "    lst = []\n",
    "    for key in sorted(instructions):\n",
    "        add = 1\n",
    "        for value in instructions[key]:\n",
    "            if value in finished or value == '':\n",
    "                pass\n",
    "            else:\n",
    "                add -= 1\n",
    "        if add == 1:\n",
    "            lst.append(key)\n",
    "    for e in lst:\n",
    "        if len(workers) < 5:\n",
    "            workers.append(e)\n",
    "            timers.append(t + ord(e) - 4)\n",
    "            instructions.pop(e)\n",
    "\n",
    "    t = min(timers)\n",
    "    for e in timers:\n",
    "        if e == t:\n",
    "            finished.append(workers.pop(timers.index(e)))\n",
    "            timers.pop(timers.index(e))\n",
    "            \n",
    "print(str(t) + \": \" + ''.join(finished))   "
   ]
  },
  {
   "cell_type": "markdown",
   "metadata": {},
   "source": [
    "# Day 8 -Memory Maneuve"
   ]
  },
  {
   "cell_type": "code",
   "execution_count": 555,
   "metadata": {
    "scrolled": true
   },
   "outputs": [
    {
     "name": "stdout",
     "output_type": "stream",
     "text": [
      "42798\n"
     ]
    }
   ],
   "source": [
    "# A node consists of:\n",
    "# - A header, which is always exactly two numbers:\n",
    "#   - The quantity of child nodes.\n",
    "#   - The quantity of metadata entries.\n",
    "# - Zero or more child nodes (as specified in the header).\n",
    "# - One or more metadata entries (as specified in the header).\n",
    "\n",
    "#f = Input('08').read().split(' ')\n",
    "f = Input('08').read().split(' ')\n",
    "#f = ('2 3 0 3 10 11 12 1 1 0 1 99 2 1 1 2').split(' ')\n",
    "\n",
    "#                         ==> treesearch[]\n",
    "# 0 Node(2, 3)            ==> treesearch = [[2, 3]]\n",
    "# 1 Node(0, 3)            ==> treesearch = [[1, 3][0, 3]]\n",
    "# 1 Metadata(10, 11, 12)  ==> treesearch = [[1, 3]] ==> metadata\n",
    "# 1 Node(1, 1)            ==> treesearch = [[0, 3][1, 1]]\n",
    "# 2 Node(0, 1)            ==> treesearch = [[0, 3][0, 1][0, 1]]\n",
    "# 2 Metadata(99)          ==> treesearch = [[0, 3][0, 1]] ==> metadata\n",
    "# 1 Metadata(2)           ==> treesearch = [[0, 3]] ==> metadata\n",
    "# 0 Metadata(1, 1, 2)     ==> treesearch = [] ==> metadata\n",
    "\n",
    "i = 0\n",
    "tmp = []\n",
    "metadata = 0\n",
    "\n",
    "f = list(map(int, f))\n",
    "\n",
    "while i < len(f):\n",
    "\n",
    "    if len(tmp) == 0 or tmp[-1][0] > 0:\n",
    "        if len(tmp) > 0:\n",
    "            tmp[-1][0] -= 1\n",
    "        tmp.append([f[i],f[i + 1]])\n",
    "        i += 2\n",
    "    elif tmp[-1][0] == 0 and tmp[-1][1] > 0:\n",
    "        for j in range(tmp[-1][1]):\n",
    "            metadata += f[i + j]\n",
    "        i += tmp[-1][1]\n",
    "        del tmp[-1]\n",
    "        \n",
    "print(metadata)"
   ]
  },
  {
   "cell_type": "code",
   "execution_count": null,
   "metadata": {},
   "outputs": [],
   "source": []
  },
  {
   "cell_type": "markdown",
   "metadata": {},
   "source": [
    "# Day 9 - Marble Mania"
   ]
  },
  {
   "cell_type": "code",
   "execution_count": 163,
   "metadata": {},
   "outputs": [
    {
     "name": "stdout",
     "output_type": "stream",
     "text": [
      "374287\n"
     ]
    }
   ],
   "source": [
    "marbles = []\n",
    "\n",
    "i = 0\n",
    "\n",
    "players = 468\n",
    "\n",
    "scores = [0] * players\n",
    "\n",
    "while i < 71010:\n",
    "    if i == 0:\n",
    "        marbles.append(i)\n",
    "        position = 0\n",
    "    elif i % 23 == 0:\n",
    "        position = marbles.index(marbles[position - 7])\n",
    "        score = i + marbles.pop(position + 1)\n",
    "        if i % players == 0:\n",
    "            player = players\n",
    "        else:\n",
    "            player = i % players\n",
    "        scores[player - 1] += score\n",
    "    else:\n",
    "        position = (position + 2) % len(marbles)    \n",
    "        marbles.insert(position + 1, i)\n",
    "        \n",
    "    i += 1\n",
    "    \n",
    "print(max(scores))"
   ]
  },
  {
   "cell_type": "code",
   "execution_count": 174,
   "metadata": {},
   "outputs": [
    {
     "name": "stdout",
     "output_type": "stream",
     "text": [
      "100000\n",
      "200000\n",
      "300000\n",
      "400000\n",
      "500000\n",
      "600000\n",
      "700000\n",
      "800000\n",
      "900000\n",
      "1000000\n",
      "1100000\n",
      "1200000\n",
      "1300000\n",
      "1400000\n",
      "1500000\n",
      "1600000\n",
      "1700000\n",
      "1800000\n",
      "1900000\n",
      "2000000\n",
      "2100000\n",
      "2200000\n",
      "2300000\n",
      "2400000\n",
      "2500000\n",
      "2600000\n",
      "2700000\n",
      "2800000\n",
      "2900000\n",
      "3000000\n",
      "3100000\n",
      "3200000\n",
      "3300000\n",
      "3400000\n",
      "3500000\n",
      "3600000\n",
      "3700000\n",
      "3800000\n",
      "3900000\n",
      "4000000\n",
      "4100000\n",
      "4200000\n",
      "4300000\n",
      "4400000\n",
      "4500000\n",
      "4600000\n",
      "4700000\n",
      "4800000\n",
      "4900000\n",
      "5000000\n",
      "5100000\n",
      "5200000\n",
      "5300000\n",
      "5400000\n",
      "5500000\n",
      "5600000\n",
      "5700000\n",
      "5800000\n",
      "5900000\n",
      "6000000\n",
      "6100000\n",
      "6200000\n",
      "6300000\n",
      "6400000\n",
      "6500000\n",
      "6600000\n",
      "6700000\n",
      "6800000\n",
      "6900000\n",
      "7000000\n",
      "7100000\n",
      "3083412635\n"
     ]
    }
   ],
   "source": [
    "marbles = []\n",
    "\n",
    "i = 0\n",
    "\n",
    "players = 468\n",
    "\n",
    "scores = [0] * players\n",
    "\n",
    "while i < 7101000:\n",
    "    if i == 0:\n",
    "        marbles.append(i)\n",
    "        position = 0\n",
    "    elif i % 23 == 0:\n",
    "        position = marbles.index(marbles[position - 7])\n",
    "        score = i + marbles.pop(position + 1)\n",
    "        scores[i % players] += score\n",
    "    else:\n",
    "        position = (position + 2) % len(marbles)    \n",
    "        marbles.insert(position + 1, i)\n",
    "        \n",
    "    i += 1\n",
    "    if(i % 100000) == 0:\n",
    "        print(i)\n",
    "    \n",
    "print(max(scores))"
   ]
  },
  {
   "cell_type": "code",
   "execution_count": 172,
   "metadata": {},
   "outputs": [
    {
     "name": "stdout",
     "output_type": "stream",
     "text": [
      "374287\n",
      "3083412635\n"
     ]
    }
   ],
   "source": [
    "import re\n",
    "import sys\n",
    "\n",
    "def Solve(players, marbles):\n",
    "    scores = [0]*players\n",
    "    prev = [0]*marbles\n",
    "    next = [0]*marbles\n",
    "    i = 0\n",
    "    for j in range(1, marbles):\n",
    "        if j%23 != 0:\n",
    "            i = next[i]\n",
    "            k = next[i]\n",
    "            next[j] = k\n",
    "            prev[k] = j\n",
    "        else:\n",
    "            for _ in range(7):\n",
    "                i = prev[i]\n",
    "            player = (j - 1)%players\n",
    "            scores[player] += i + j\n",
    "            j = next[i]\n",
    "            i = prev[i]\n",
    "        next[i] = j\n",
    "        prev[j] = i\n",
    "        i = j\n",
    "    return max(scores)\n",
    "\n",
    "pattern = r'(\\d+) players; last marble is worth (\\d+) points'\n",
    "line = sys.stdin.readline()\n",
    "line = '468 players; last marble is worth 71010 points'\n",
    "players, last_marble = map(int, re.match(pattern, line).groups())\n",
    "print(Solve(players, last_marble + 1))\n",
    "print(Solve(players, last_marble*100 + 1))"
   ]
  },
  {
   "cell_type": "markdown",
   "metadata": {},
   "source": [
    "# Day 10 - The Stars Align"
   ]
  },
  {
   "cell_type": "code",
   "execution_count": 460,
   "metadata": {},
   "outputs": [
    {
     "name": "stdout",
     "output_type": "stream",
     "text": [
      "                                                             \n",
      "######     ###  ######  ######    ##      ##    #####   #####\n",
      "#           #        #  #        #  #    #  #   #    #  #    \n",
      "#           #        #  #       #    #  #    #  #    #  #    \n",
      "#           #       #   #       #    #  #    #  #    #  #    \n",
      "#####       #      #    #####   #    #  #    #  #####   #####\n",
      "#           #     #     #       ######  ######  #       #    \n",
      "#           #    #      #       #    #  #    #  #       #    \n",
      "#       #   #   #       #       #    #  #    #  #       #    \n",
      "#       #   #   #       #       #    #  #    #  #       #    \n",
      "######   ###    ######  ######  #    #  #    #  #       #####\n",
      "                                                             \n",
      "Part B: 10054\n"
     ]
    }
   ],
   "source": [
    "import re\n",
    "\n",
    "f = Input('10').readlines()\n",
    "\n",
    "particles = []\n",
    "\n",
    "for i, line in enumerate(f):\n",
    "    m = re.match(r'position=<\\s?(-?\\d+), \\s?(-?\\d+)> velocity=<\\s?(-?\\d+), \\s?(-?\\d+)>', line)\n",
    "    particles.append([m.group(1), m.group(2), m.group(3), m.group(4)])\n",
    "    \n",
    "def location(t, x, y, vx, vy):\n",
    "    return (int(x) + int(vx) * t, int(y) + int(vy) * t)\n",
    "\n",
    "def manhattan_distance(start, end=(0, 0)):\n",
    "    sx, sy = start\n",
    "    ex, ey = end\n",
    "    return abs(ex - sx) + abs(ey - sy)\n",
    "\n",
    "#Increases calculation time\n",
    "t = 0\n",
    "#t = 10000\n",
    "t1 = t\n",
    "\n",
    "while True:\n",
    "\n",
    "    locations = []\n",
    "    score = 0\n",
    "    for item in particles:\n",
    "        locations.append(location(t, item[0], item[1], item[2], item[3]))\n",
    "\n",
    "    for point in locations:\n",
    "        for x in locations:\n",
    "            score += manhattan_distance(point, x)\n",
    "    \n",
    "    if t == t1 or score < best:\n",
    "        best = score\n",
    "        display = locations\n",
    "        t += 1\n",
    "    else:\n",
    "        break\n",
    "\n",
    "ranges = list(zip(*list(display)))\n",
    "minx = min(ranges[0])\n",
    "maxx = max(ranges[0])\n",
    "miny = min(ranges[1])\n",
    "maxy = max(ranges[1])\n",
    " \n",
    "show = []\n",
    "for y in range(miny - 1, maxy + 2):\n",
    "    tmp = ''\n",
    "    for x in range(minx, maxx):\n",
    "        if (x, y) in display:\n",
    "            tmp += '#'\n",
    "        else:\n",
    "            tmp += ' '\n",
    "    show.append(tmp)\n",
    "for line in show:\n",
    "    print(line)\n",
    "\n",
    "print(\"Part B: \" + str(t - 1))"
   ]
  },
  {
   "cell_type": "markdown",
   "metadata": {},
   "source": [
    "# Day 12 - Subterranean Sustainability"
   ]
  },
  {
   "cell_type": "code",
   "execution_count": 309,
   "metadata": {
    "scrolled": true
   },
   "outputs": [
    {
     "name": "stdout",
     "output_type": "stream",
     "text": [
      "Part A: 2995\n",
      "Part B: 3650000000377\n",
      "CPU times: user 106 µs, sys: 52 µs, total: 158 µs\n",
      "Wall time: 133 µs\n"
     ]
    }
   ],
   "source": [
    "import re\n",
    "\n",
    "f = Input('12').readlines()\n",
    "\n",
    "rules = {}\n",
    "\n",
    "for line in f:\n",
    "    x = re.match(r'([#.]+) => ([#.])', line)\n",
    "    try:\n",
    "        rules[x.group(1)] = x.group(2)\n",
    "    except:\n",
    "        None\n",
    "        \n",
    "initial_state = '#.#..#..###.###.#..###.#####...########.#...#####...##.#....#.####.#.#..#..#.#..###...#..#.#....##.'\n",
    "#initial_state = '#..#.#..##......###...###'\n",
    "\n",
    "state = {}\n",
    "tmp = ''\n",
    "\n",
    "for i, e in enumerate(initial_state):\n",
    "    state[i] = e\n",
    "\n",
    "states = []\n",
    "states.append(state)\n",
    "\n",
    "score = 0\n",
    "for j in range(1, 21):\n",
    "    tmp = ''\n",
    "    state = {}\n",
    "    for k in range(- 2, len(states[-1]) + 2):\n",
    "        key = ''\n",
    "        for l in range(-2, 3):\n",
    "            key += states[-1].get(k+l, '.')\n",
    "        state[k] = rules.get(key, '.')\n",
    "    \n",
    "    states.append(state)\n",
    "for key, value in states[-1].items():\n",
    "    if value == '#':\n",
    "        score += int(key)\n",
    "    \n",
    "        \n",
    "print(\"Part A: \" + str(score))\n",
    "\n",
    "state = {}\n",
    "tmp = ''\n",
    "\n",
    "for i, e in enumerate(initial_state):\n",
    "    state[i] = e\n",
    "    if e == '#':\n",
    "        tmp += str(i) + ','\n",
    "\n",
    "\n",
    "states = []\n",
    "states_str = []\n",
    "states.append(state)\n",
    "states_str.append(tmp)\n",
    "score = 0\n",
    "q=0\n",
    "for j in range(1, 1001):\n",
    "    tmp = ''\n",
    "    state = {}\n",
    "    for k in range(- 2, len(states[-1]) + 2):\n",
    "        key = ''\n",
    "        for l in range(-2, 3):\n",
    "            key += states[-1].get(k+l, '.')\n",
    "        state[k] = rules.get(key, '.')\n",
    "    for key, value in state.items():\n",
    "        if value == '#':\n",
    "            tmp += str(key) + ','\n",
    "    states.append(state)\n",
    "    if tmp in states_str:\n",
    "        print(states_str.index(tmp))\n",
    "    states_str.append(tmp)\n",
    "for key, value in states[-1].items():\n",
    "    if value == '#':\n",
    "        score += int(key)\n",
    "        \n",
    "#print(\"Part B: \" + str(score))\n",
    "\n",
    "saver = 0\n",
    "for i, e in enumerate(states):\n",
    "    tmp =''\n",
    "    score1 = 0\n",
    "    \n",
    "    for key, value in e.items():\n",
    "        tmp += value\n",
    "        if value == '#':\n",
    "            score1 += int(key)\n",
    "    pattern = score1 - saver\n",
    "    saver = score1\n",
    "    #print(i, score1, pattern)\n",
    "    \n",
    "\n",
    "y = 2356 + 97 * 21\n",
    " \n",
    "def sumupto(n):\n",
    "    o = 0\n",
    "    for i in range(n + 1):\n",
    "        o += i\n",
    "    return o\n",
    "        \n",
    "%time print(\"Part B: \" + str(12130 + 73 *(50000000000 - 161)))\n",
    "    \n"
   ]
  },
  {
   "cell_type": "markdown",
   "metadata": {},
   "source": [
    "# Day 14 - Chocolate Charts\n",
    "\n",
    "Had a working example which ran for hours. Cheated and got this from reddit."
   ]
  },
  {
   "cell_type": "code",
   "execution_count": 306,
   "metadata": {},
   "outputs": [
    {
     "name": "stdout",
     "output_type": "stream",
     "text": [
      "Part A: 3171123923\n",
      "Part B: 20353748\n"
     ]
    }
   ],
   "source": [
    "f = '765071'\n",
    "#f = '59414'\n",
    "#f = '92510'\n",
    "#f = '01245'\n",
    "#f = '51589'\n",
    "\n",
    "recipes = '37'\n",
    "elf1 = 0\n",
    "elf2 = 1\n",
    "\n",
    "while (f not in recipes[-(len(f) + 1):]):\n",
    "    recipes = recipes + str(int(recipes[elf1]) + int(recipes[elf2]))\n",
    "    elf1 = (elf1 + int(recipes[elf1]) + 1) % len(recipes)\n",
    "    elf2 = (elf2 + int(recipes[elf2]) + 1) % len(recipes)\n",
    "    \n",
    "print(\"Part A: \" + recipes[int(f):int(f) + 10])\n",
    "print(\"Part B: \" + str(recipes.index(f)))"
   ]
  },
  {
   "cell_type": "code",
   "execution_count": null,
   "metadata": {},
   "outputs": [],
   "source": []
  },
  {
   "cell_type": "markdown",
   "metadata": {},
   "source": [
    "# Day 18 - Settlers of The North Pole"
   ]
  },
  {
   "cell_type": "code",
   "execution_count": 252,
   "metadata": {},
   "outputs": [
    {
     "name": "stdout",
     "output_type": "stream",
     "text": [
      "10: 763804\n",
      "468: 188400\n"
     ]
    }
   ],
   "source": [
    "initial_state = Input('18').read().strip().split('\\n')\n",
    "\n",
    "def neighbors8(point): \n",
    "    \"The eight neighboring squares.\"\n",
    "    x, y = point \n",
    "    return ((x-1, y-1), (x, y-1), (x+1, y-1),\n",
    "            (x-1, y),             (x+1, y),\n",
    "            (x-1, y+1), (x, y+1), (x+1, y+1))\n",
    "\n",
    "def counter(point, grid):\n",
    "    count = {}\n",
    "    for point in neighbors8(point):\n",
    "        x, y = point\n",
    "        if x >= 0 and y >= 0:\n",
    "            try:\n",
    "                if grid[y][x] in count:\n",
    "                    count[grid[y][x]] += 1\n",
    "                else:\n",
    "                    count[grid[y][x]] = 1\n",
    "            except IndexError:\n",
    "                None   \n",
    "    return count\n",
    "\n",
    "def resource_value(i):\n",
    "    c1, c2 = 0, 0\n",
    "    for line in i:\n",
    "        c1 += line.count('#')\n",
    "        c2 += line.count('|')\n",
    "    return c1 * c2\n",
    "\n",
    "\n",
    "states = {}\n",
    "states[0] = initial_state  \n",
    "t = 0\n",
    "run = True\n",
    "iterations = 1000000000\n",
    "\n",
    "while run == True:\n",
    "    t += 1\n",
    "    state = states[t - 1]\n",
    "    tmp = []\n",
    "    for i, line in enumerate(state):\n",
    "        tmp_line = ''\n",
    "        for j, e in enumerate(line):\n",
    "            point = (j, i)\n",
    "            c = counter(point, state)\n",
    "            if e == '.' and c.get('|', 0) > 2:\n",
    "                f = '|' \n",
    "            elif e == '|' and c.get('#', 0) > 2:\n",
    "                f = '#'\n",
    "            elif e == '#' and c.get('#', 0) == 0:\n",
    "                f = '.'\n",
    "            elif e == '#' and c.get('|', 0) == 0:\n",
    "                f = '.'\n",
    "            else:\n",
    "                f = e\n",
    "            #print(str(point) +\": \" + e + \" >> \" + str(c) + \" >> \" + f)\n",
    "            tmp_line += f\n",
    "        tmp.append(tmp_line)\n",
    "    for key, value in states.items():\n",
    "        if value == tmp:\n",
    "            first = key\n",
    "            pattern = t - first\n",
    "            run = False\n",
    "    states[t] = tmp\n",
    "\n",
    "y = (iterations - first) % pattern + first\n",
    "    \n",
    "c1, c2 = 0, 0        \n",
    "\n",
    "print(str(10) + \": \" + str(resource_value(states[10])))\n",
    "print(str(y) + \": \" + str(resource_value(states[y])))"
   ]
  },
  {
   "cell_type": "code",
   "execution_count": null,
   "metadata": {},
   "outputs": [],
   "source": []
  },
  {
   "cell_type": "code",
   "execution_count": null,
   "metadata": {},
   "outputs": [],
   "source": []
  }
 ],
 "metadata": {
  "kernelspec": {
   "display_name": "Python 3",
   "language": "python",
   "name": "python3"
  },
  "language_info": {
   "codemirror_mode": {
    "name": "ipython",
    "version": 3
   },
   "file_extension": ".py",
   "mimetype": "text/x-python",
   "name": "python",
   "nbconvert_exporter": "python",
   "pygments_lexer": "ipython3",
   "version": "3.7.6"
  }
 },
 "nbformat": 4,
 "nbformat_minor": 2
}

{
 "cells": [
  {
   "cell_type": "code",
   "execution_count": 1,
   "metadata": {},
   "outputs": [],
   "source": [
    "import re\n",
    "\n",
    "def Input(day, year=2018):\n",
    "    directory = '{}'.format(year)\n",
    "    filename = directory + '/input{}.txt'.format(day)\n",
    "    return open(filename)"
   ]
  },
  {
   "cell_type": "markdown",
   "metadata": {},
   "source": [
    "# Day 1 - Chronal Calibration"
   ]
  },
  {
   "cell_type": "code",
   "execution_count": 240,
   "metadata": {},
   "outputs": [
    {
     "name": "stdout",
     "output_type": "stream",
     "text": [
      "561\n"
     ]
    }
   ],
   "source": [
    "f = Input('01')\n",
    "s = 0\n",
    "for line in f:\n",
    "    s += int(line)\n",
    "print(s)"
   ]
  },
  {
   "cell_type": "code",
   "execution_count": 241,
   "metadata": {},
   "outputs": [
    {
     "name": "stdout",
     "output_type": "stream",
     "text": [
      "139283\n",
      "563\n"
     ]
    }
   ],
   "source": [
    "l = [int(e) for e in Input('01')]\n",
    "\n",
    "t, u = 0, 0\n",
    "v = {}\n",
    "\n",
    "while t not in v:\n",
    "    v[t] = t\n",
    "    t += l[u % len(l)]\n",
    "    u += 1\n",
    "print(len(v))    \n",
    "print(t)"
   ]
  },
  {
   "cell_type": "markdown",
   "metadata": {},
   "source": [
    "# Day 2 - Inventory Management System"
   ]
  },
  {
   "cell_type": "code",
   "execution_count": 242,
   "metadata": {},
   "outputs": [
    {
     "name": "stdout",
     "output_type": "stream",
     "text": [
      "5456\n"
     ]
    }
   ],
   "source": [
    "z = ([[e.count(c) for c in e] for e in Input('02')])\n",
    "count = {2: 0, 3: 0}\n",
    "\n",
    "for e in z:\n",
    "    if 2 in e:\n",
    "        count[2] += 1\n",
    "    if 3 in e:\n",
    "        count[3] += 1\n",
    "        \n",
    "print(count[2] * count[3])"
   ]
  },
  {
   "cell_type": "code",
   "execution_count": 243,
   "metadata": {},
   "outputs": [
    {
     "name": "stdout",
     "output_type": "stream",
     "text": [
      "('megsdlpulxvinkatfoyzxcbvq\\n', 1)\n",
      "('megsdlpulxvinkatfoyzxcbvq\\n', 1)\n"
     ]
    }
   ],
   "source": [
    "q = list(Input('02'))\n",
    "matches = {}\n",
    "\n",
    "def compare_string(str1, lst):\n",
    "    for e in lst:\n",
    "        counter = 0\n",
    "        result = []\n",
    "        for i in range(len(str1)):\n",
    "            if str1[i] != e[i]:\n",
    "                counter += 1\n",
    "            else:\n",
    "                result.append(str1[i])\n",
    "        if counter == 1:\n",
    "            return ''.join(result), counter\n",
    "    \n",
    "for e in q:\n",
    "    if compare_string(e, q) != None:\n",
    "        print(compare_string(e, q))"
   ]
  },
  {
   "cell_type": "markdown",
   "metadata": {},
   "source": [
    "# Day 3 - No Matter How You Slice It"
   ]
  },
  {
   "cell_type": "code",
   "execution_count": 244,
   "metadata": {},
   "outputs": [
    {
     "name": "stdout",
     "output_type": "stream",
     "text": [
      "104712\n"
     ]
    }
   ],
   "source": [
    "f = Input('03')\n",
    "\n",
    "coordinates = {}\n",
    "counter = 0\n",
    "counter2 = 0\n",
    "\n",
    "for e in f:\n",
    "    x = re.match(r'#(\\d+) @ (\\d+),(\\d+): (\\d+)x(\\d+)', e)\n",
    "\n",
    "    #counter += int(x.group(4)) * int(x.group(5))\n",
    "    for j in range(int(x.group(5))):\n",
    "        for i in range(int(x.group(4))):\n",
    "            t = int(x.group(2)) + i\n",
    "            u = int(x.group(3)) + j\n",
    "            key = (t, u)\n",
    "\n",
    "            if key in coordinates:\n",
    "                coordinates[key] += 1\n",
    "                if coordinates[key] == 2:\n",
    "                    counter2 += 1\n",
    "            else:\n",
    "                coordinates[key] = 1\n",
    "print(counter2)"
   ]
  },
  {
   "cell_type": "code",
   "execution_count": 260,
   "metadata": {},
   "outputs": [],
   "source": [
    "for e in Input('03'):\n",
    "    \n",
    "    x = re.match(r'#(\\d+) @ (\\d+),(\\d+): (\\d+)x(\\d+)', e)\n",
    "    \n",
    "    sum = 0\n",
    "    \n",
    "    for j in range(int(x.group(5))):\n",
    "        for i in range(int(x.group(4))):\n",
    "            t = int(x.group(2)) + i\n",
    "            u = int(x.group(3)) + j\n",
    "            key = (t, u)\n",
    "            sum += coordinates[key]\n",
    "            \n",
    "    if sum == int(x.group(4)) * int(x.group(5)):\n",
    "        print(e)"
   ]
  },
  {
   "cell_type": "markdown",
   "metadata": {},
   "source": [
    "# Day 4 - Repose Record"
   ]
  },
  {
   "cell_type": "code",
   "execution_count": 448,
   "metadata": {},
   "outputs": [
    {
     "name": "stdout",
     "output_type": "stream",
     "text": [
      "76357\n",
      "2459\n",
      "10\n",
      "31\n",
      "76229\n",
      "++++\n",
      "2633\n",
      "14\n",
      "29\n",
      "76357\n",
      "++++\n",
      "3121\n",
      "9\n",
      "31\n",
      "96751\n",
      "++++\n",
      "2897\n",
      "5\n",
      "35\n",
      "101395\n",
      "++++\n",
      "1291\n",
      "9\n",
      "33\n",
      "42603\n",
      "++++\n",
      "61\n",
      "12\n",
      "37\n",
      "2257\n",
      "++++\n",
      "1931\n",
      "7\n",
      "25\n",
      "48275\n",
      "++++\n",
      "1471\n",
      "6\n",
      "33\n",
      "48543\n",
      "++++\n",
      "661\n",
      "6\n",
      "22\n",
      "14542\n",
      "++++\n",
      "467\n",
      "7\n",
      "37\n",
      "17279\n",
      "++++\n",
      "947\n",
      "18\n",
      "44\n",
      "41668\n",
      "++++\n",
      "3037\n",
      "6\n",
      "24\n",
      "72888\n",
      "++++\n",
      "1283\n",
      "5\n",
      "26\n",
      "33358\n",
      "++++\n",
      "409\n",
      "9\n",
      "21\n",
      "8589\n",
      "++++\n",
      "1889\n",
      "6\n",
      "37\n",
      "69893\n",
      "++++\n",
      "1663\n",
      "9\n",
      "41\n",
      "68183\n",
      "++++\n",
      "2447\n",
      "7\n",
      "27\n",
      "66069\n",
      "++++\n",
      "2819\n",
      "6\n",
      "22\n",
      "62018\n",
      "++++\n",
      "1433\n",
      "6\n",
      "45\n",
      "64485\n",
      "++++\n",
      "3307\n",
      "10\n",
      "35\n",
      "115745\n",
      "++++\n"
     ]
    }
   ],
   "source": [
    "import re\n",
    "import datetime\n",
    "\n",
    "f = sorted(list(Input('04')))\n",
    "\n",
    "sleeptime = {}\n",
    "byminute = {}\n",
    "\n",
    "def days_hours_minutes(td):\n",
    "    return td.days, td.seconds//3600, (td.seconds//60)%60\n",
    "\n",
    "def minutes(td):\n",
    "    return (td.seconds//60)%60\n",
    "\n",
    "for e in f:\n",
    "\n",
    "    x = re.match(r'\\[(\\d+)-(\\d+)-(\\d+) (\\d+):(\\d+)\\] (\\S+) #?(\\S+)', e)\n",
    "    if x.group(6) == \"Guard\":\n",
    "        guard = int(x.group(7))\n",
    "    if x.group(6) == \"falls\":\n",
    "        start = datetime.datetime(int(x.group(1)), int(x.group(2)), int(x.group(3)), int(x.group(4)), int(x.group(5)))\n",
    "    if x.group(6) == \"wakes\":\n",
    "        end = datetime.datetime(int(x.group(1)), int(x.group(2)), int(x.group(3)), int(x.group(4)), int(x.group(5)))\n",
    "        sleep = minutes(end - start)\n",
    "        if guard in sleeptime:\n",
    "            sleeptime[guard] += sleep\n",
    "        else:\n",
    "            sleeptime[guard] = sleep\n",
    "            l = []\n",
    "            for i in range(60):\n",
    "                l.append(0)\n",
    "            byminute[guard] = l\n",
    "        for i in range(start.minute, end.minute):\n",
    "            byminute[guard][i] = int(byminute[guard][i]) + 1\n",
    "\n",
    "g = (max(sleeptime, key=lambda key: sleeptime[key]))\n",
    "print(g * byminute[g].index((max(byminute[g]))))\n",
    "\n",
    "for e in byminute:\n",
    "    print(e)\n",
    "    print(max(byminute[e]))\n",
    "    print(byminute[e].index(max(byminute[e])))\n",
    "    print(e * byminute[e].index(max(byminute[e])))\n",
    "    print('++++')"
   ]
  },
  {
   "cell_type": "markdown",
   "metadata": {},
   "source": [
    "# Day 5 - Alchemical Reduction"
   ]
  },
  {
   "cell_type": "code",
   "execution_count": 54,
   "metadata": {},
   "outputs": [
    {
     "name": "stdout",
     "output_type": "stream",
     "text": [
      "11108\n"
     ]
    }
   ],
   "source": [
    "f = list(Input('05').read().strip())\n",
    "\n",
    "def capuncap(e):\n",
    "    if e.isupper():\n",
    "        return e.lower()\n",
    "    else:\n",
    "        return e.upper()\n",
    "\n",
    "k = 0\n",
    "y = 1\n",
    "while y == 1:   \n",
    "    i = 0\n",
    "    j = len(f)-1\n",
    "\n",
    "    while i < j:\n",
    "        if f[i] == capuncap(f[i + 1]):\n",
    "            del(f[i+1])\n",
    "            del(f[i])\n",
    "            j -= 2\n",
    "        else:\n",
    "            i += 1\n",
    "    if x == len(f):\n",
    "        y = 0\n",
    "    x = len(f)\n",
    "print(len(f))"
   ]
  },
  {
   "cell_type": "code",
   "execution_count": 55,
   "metadata": {},
   "outputs": [
    {
     "name": "stdout",
     "output_type": "stream",
     "text": [
      "a: 10602\n",
      "b: 10704\n",
      "c: 10632\n",
      "d: 10650\n",
      "e: 10686\n",
      "f: 5094\n",
      "['i', 'P', 'c', 'p', 'j', 'B', 'm', 'P', 'r', 'I', 'z', 'O', 'e', 'a', 'a', 'y', 'N', 'e', 'Z', 'D', 'Z', 'B', 'z', 'l', 'O', 'K', 'p', 'C', 'p', 'b', 'Y', 'P', 'H', 'M', 'q', 'G', 'i', 'v', 'v', 'a', 'O', 'm', 'D', 'L', 'O', 'v', 'G', 'h', 'W', 'R', 'd', 'T', 'R', 't', 'D', 'G', 'c', 'O', 'h', 'W', 'q', 'n', 'o', 'U', 'L', 'H', 'm', 'c', 'S', 'I', 'S', 'm', 'Q', 'j', 'k', 'R', 'D', 'I', 'u', 'E', 'R', 'O', 'i', 'Z', 'w', 'c', 'N', 'A', 'o', 'C', 'N', 'h', 'v', 'i', 'O', 'Y', 'c', 'I', 'd', 's', 'm', 'g', 'J', 'B', 'A', 'E', 'Q', 's', 'Q', 'P', 'm', 'R', 'h', 'e', 's', 'e', 'y', 'i', 'K', 'm', 'd', 'k', 'E', 'U', 'Z', 'c', 'z', 'j', 'g', 'y', 'X', 'P', 'd', 'm', 'S', 'C', 'l', 'G', 'Y', 'M', 'I', 'M', 'M', 'g', 'Z', 'j', 'v', 'q', 'N', 'T', 'G', 'v', 'u', 'g', 's', 'B', 'u', 'S', 'r', 'v', 'G', 'E', 'H', 'L', 'E', 'p', 'Y', 'c', 'L', 'S', 'a', 'H', 'Y', 'A', 'e', 'S', 'C', 'V', 'm', 'I', 'H', 'O', 'n', 'M', 'C', 't', 'A', 'w', 'o', 'C', 'Q', 'e', 'V', 'K', 'M', 'H', 'y', 'A', 'q', 'w', 'o', 'X', 'K', 'Q', 'R', 'i', 'O', 'I', 'O', 'z', 'M', 'n', 'b', 'd', 'C', 'T', 'g', 'r', 'P', 'd', 'h', 'M', 'i', 'G', 's', 'x', 'T', 'A', 'H', 'P', 'E', 'C', 'I', 'D', 'y', 'Z', 'Q', 'C', 'u', 'y', 'C', 'v', 'v', 'k', 'c', 'L', 'y', 'V', 'I', 'R', 'c', 'N', 'm', 'W', 'W', 'H', 'H', 'b', 'U', 'i', 'G', 'h', 'k', 'E', 'x', 'M', 'Y', 'X', 'N', 'u', 'm', 'z', 'C', 'X', 'c', 'n', 'p', 'm', 'g', 'e', 'K', 'C', 'Q', 'I', 'R', 'v', 'N', 'u', 'T', 'g', 'D', 'a', 'Y', 'u', 's', 'O', 'H', 'x', 'I', 'z', 'J', 'L', 'q', 'O', 'Z', 'h', 'v', 'H', 'P', 'Z', 'L', 'L', 'T', 'D', 'H', 'x', 'Z', 'Z', 'O', 'A', 'q', 'c', 'Q', 'N', 'l', 'z', 'c', 'N', 'b', 'X', 'u', 'N', 'W', 'j', 'B', 'E', 'B', 'S', 'O', 'r', 'L', 'M', 'r', 'S', 'w', 'H', 'k', 'x', 'O', 'A', 'n', 'p', 'h', 'i', 'g', 'g', 'a', 'B', 'x', 'Y', 'd', 'W', 'q', 'C', 'e', 'H', 'N', 'Q', 'J', 'A', 'O', 'y', 'Z', 's', 'b', 'u', 'Q', 'c', 'i', 'T', 'W', 'R', 'A', 'R', 'P', 'X', 'q', 't', 'Y', 'P', 'r', 'J', 'x', 'g', 'j', 'Y', 'u', 't', 'j', 'e', 'C', 'd', 'Q', 'D', 'g', 'X', 'M', 'd', 'v', 'Z', 'I', 'N', 's', 'y', 'c', 'Y', 'g', 'K', 'O', 'e', 'g', 's', 'X', 'H', 'n', 'z', 'C', 'v', 'z', 'U', 's', 'C', 'Z', 'p', 's', 'R', 'j', 'T', 'Z', 'd', 'Y', 'i', 'h', 'g', 'J', 'R', 'W', 'I', 'p', 'Y', 'B', 'R', 'Z', 'I', 'e', 'X', 'H', 'b', 'h', 'X', 'Z', 'A', 'J', 'b', 'k', 'A', 'H', 'W', 'v', 's', 'l', 'h', 'Y', 'o', 'x', 'v', 'R', 'S', 'Y', 'E', 'N', 's', 'v', 'c', 'J', 's', 'x', 'B', 'C', 'j', 'd', 'B', 'g', 'k', 'G', 'X', 'e', 'j', 'n', 'U', 'p', 'W', 'z', 'O', 'O', 'n', 'V', 'y', 'V', 'K', 'H', 'p', 'j', 't', 'z', 'P', 'P', 'a', 'k', 'G', 'w', 'o', 'D', 'N', 'X', 'd', 'Y', 'D', 'I', 'J', 'u', 'G', 'r', 'E', 'q', 'u', 'g', 'o', 'S', 't', 'a', 'X', 'l', 'q', 'P', 'u', 'e', 'J', 'u', 'z', 'J', 'r', 'l', 'p', 'a', 'H', 'I', 'e', 'k', 'H', 'S', 'w', 'O', 'y', 'n', 's', 's', 'P', 'n', 'H', 'v', 'W', 'U', 't', 'M', 'v', 's', 'O', 'w', 'E', 'V', 'o', 'o', 'I', 'c', 'y', 'v', 'k', 'I', 'm', 'e', 'T', 'L', 'm', 'S', 'M', 'G', 'Z', 'n', 'd', 'q', 'A', 'L', 'w', 'A', 'e', 'b', 'O', 'n', 'W', 'x', 'Q', 'k', 'i', 'r', 'O', 'I', 'C', 'b', 'E', 'V', 'g', 'm', 'S', 'C', 'D', 'M', 'd', 'A', 'K', 'N', 'h', 'z', 'u', 'w', 's', 'n', 'r', 'X', 'U', 'x', 'm', 'W', 'u', 'S', 'A', 'n', 'o', 'N', 'T', 'b', 'L', 'A', 'v', 'I', 'L', 'c', 'B', 'z', 'L', 'n', 'A', 'y', 't', 'y', 's', 'R', 'Z', 'V', 'C', 'm', 'R', 'D', 'J', 's', 'e', 'g', 'a', 'S', 'g', 'p', 'O', 'T', 'R', 'P', 'U', 'h', 'r', 'N', 'm', 'L', 'q', 'w', 'n', 'X', 'n', 'm', 'Q', 'V', 'H', 'p', 'L', 's', 'i', 'd', 'O', 'D', 'i', 'S', 'j', 'j', 'U', 'Q', 'R', 'D', 's', 'p', 'D', 'K', 'C', 'D', 't', 'p', 'o', 'T', 'L', 'c', 'x', 'B', 'N', 'J', 'E', 't', 'a', 'g', 'r', 't', 'w', 'I', 'W', 'x', 'C', 's', 'z', 'J', 'C', 's', 'i', 't', 'q', 'J', 'I', 'q', 'u', 'a', 'L', 'B', 'K', 'P', 'n', 'b', 'J', 'T', 'z', 'b', 'm', 'k', 'w', 'd', 'r', 'j', 'm', 'V', 'u', 'p', 'G', 'c', 'n', 's', 'q', 'O', 'h', 'm', 'l', 'z', 'V', 's', 'j', 'e', 'p', 'C', 'y', 'V', 'K', 'y', 'C', 'X', 'H', 'z', 'q', 'P', 'u', 'n', 'j', 'y', 'g', 'h', 'G', 'r', 'V', 'Z', 'H', 'C', 'o', 'A', 'H', 'n', 's', 'e', 'x', 'I', 'X', 's', 'e', 'A', 'O', 'M', 'p', 'E', 'Q', 'D', 'g', 't', 'M', 'Q', 'x', 'c', 'O', 'v', 'e', 'N', 'T', 'g', 'h', 'r', 'L', 'W', 'c', 'l', 'S', 'Q', 'z', 'a', 'n', 'v', 'U', 'I', 'z', 'e', 'k', 'V', 'J', 'U', 'j', 'v', 'O', 'j', 'd', 'h', 'r', 'X', 'Z', 'O', 'N', 'M', 'B', 'W', 'd', 'i', 'd', 'X', 'i', 'b', 'g', 's', 'i', 'l', 'O', 's', 'L', 'O', 'O', 'R', 'e', 'e', 'k', 'S', 'R', 'p', 'S', 'z', 'q', 'U', 'c', 'X', 'B', 'm', 'P', 'o', 'C', 'Y', 'M', 'x', 'n', 'v', 'A', 'X', 'B', 'Z', 'v', 'R', 'Q', 'w', 'x', 's', 'J', 'R', 'X', 'N', 'V', 'r', 'Y', 'n', 'n', 'O', 'V', 'O', 'H', 'g', 'P', 'L', 'd', 's', 'a', 'w', 'E', 'O', 's', 'x', 'r', 'I', 'g', 'p', 'U', 'E', 'l', 'h', 's', 'e', 'X', 'i', 'd', 'K', 'i', 'm', 'A', 'Y', 'g', 'J', 'B', 'L', 'u', 'e', 'O', 'c', 'J', 'E', 'E', 'r', 'N', 'E', 'D', 'y', 'v', 'j', 'L', 'k', 'j', 'Y', 'm', 'O', 'I', 'J', 'd', 'a', 'z', 'l', 'a', 'H', 'r', 'X', 'o', 'q', 'p', 'q', 'a', 'G', 'r', 'Y', 'O', 'C', 'Z', 'R', 's', 'E', 's', 'j', 'i', 'a', 'v', 'L', 't', 'H', 'e', 'N', 'k', 's', 'W', 'K', 'p', 'v', 'l', 'J', 'k', 'W', 'j', 'r', 'P', 'B', 'd', 't', 'W', 'S', 'i', 'v', 'x', 'Y', 'C', 'T', 'C', 'M', 'Q', 'B', 'o', 'E', 'r', 'T', 'H', 'N', 'R', 'N', 'N', 'R', 'J', 'q', 'v', 't', 'w', 'X', 'r', 'Q', 'j', 'I', 'z', 'o', 'c', 'D', 'K', 'X', 'y', 'H', 'Z', 'p', 'X', 'M', 'D', 'r', 'n', 'Y', 'K', 'G', 'x', 'o', 'H', 'O', 'm', 'w', 'O', 'R', 'h', 'q', 'R', 'j', 'H', 'P', 'Y', 'q', 'Z', 'n', 'Q', 'h', 'X', 'K', 'l', 'B', 'd', 'e', 'w', 'G', 'd', 'n', 'H', 'k', 'G', 'e', 'D', 'J', 'S', 'w', 'E', 'l', 'p', 'Z', 'O', 'a', 'w', 'L', 'y', 's', 'P', 'a', 'L', 'I', 'd', 'l', 'M', 'l', 'w', 'X', 'b', 'b', 'e', 'i', 'Q', 'T', 'v', 'E', 'N', 'b', 'e', 'S', 'M', 's', 'A', 'L', 'b', 't', 'z', 'W', 'A', 'n', 'S', 't', 'y', 'B', 'D', 'n', 'd', 'B', 'O', 'D', 'S', 'v', 'T', 'j', 'o', 'c', 'q', 'X', 'T', 'H', 'w', 'C', 'x', 'm', 'o', 'K', 'h', 'r', 'l', 'y', 'D', 'k', 'V', 'K', 'X', 'K', 'w', 'O', 'E', 'L', 'p', 'R', 'N', 'w', 'g', 'r', 'O', 'G', 'b', 'i', 'h', 'n', 'v', 'U', 'a', 'n', 'g', 'I', 'v', 'j', 'S', 'E', 'l', 'x', 'e', 'W', 'Z', 'C', 'r', 'W', 'g', 'Q', 'B', 'X', 'u', 'Q', 't', 'm', 'K', 'Z', 'y', 'b', 'Z', 'g', 'k', 'C', 'd', 'q', 'X', 'r', 'X', 'N', 'w', 'J', 'r', 'c', 'l', 'h', 'J', 'p', 'x', 'e', 't', 'D', 'e', 'x', 'a', 'H', 'X', 'W', 'X', 't', 'o', 'P', 'c', 'c', 'v', 'z', 'j', 'n', 'J', 't', 's', 'M', 'I', 'Y', 'R', 'v', 'C', 'Q', 'H', 'W', 'M', 'u', 'b', 'G', 'u', 'Q', 'i', 'V', 'w', 'j', 'I', 's', 'c', 'p', 'A', 'R', 'Q', 'O', 'H', 'n', 'u', 'a', 'H', 'Z', 'j', 'Y', 'T', 'H', 'x', 'u', 'l', 't', 'Z', 'C', 'G', 's', 'u', 'e', 'G', 'Y', 'Q', 'M', 'C', 'Q', 'k', 'E', 'h', 'R', 'J', 'o', 'Z', 'P', 'w', 'o', 'l', 'Q', 'A', 'g', 'i', 'm', 'd', 'B', 'q', 'J', 'h', 'j', 'h', 'q', 'r', 'N', 'O', 'r', 'm', 'B', 'T', 'O', 'K', 'm', 'Q', 'O', 'j', 'v', 's', 'Q', 'P', 'D', 'p', 'J', 'Q', 'j', 'R', 'o', 'o', 'l', 'b', 'e', 'h', 'v', 'C', 'o', 'E', 'g', 'S', 'P', 'D', 'r', 'c', 'k', 'b', 'Z', 'N', 'X', 'B', 'V', 'r', 'k', 'C', 'D', 'j', 'r', 'a', 'g', 'U', 'B', 'z', 'A', 'A', 'J', 'r', 'W', 'l', 'a', 'g', 'X', 'h', 'I', 'I', 'T', 'W', 'c', 'G', 'm', 'X', 'p', 'V', 'p', 'i', 'Q', 'P', 'k', 't', 'H', 'D', 't', 'H', 'y', 'g', 'e', 'D', 'p', 's', 'u', 'x', 'R', 'm', 'z', 'k', 'm', 'C', 'D', 's', 't', 'O', 'I', 'H', 'p', 'p', 'O', 'z', 'O', 't', 'M', 'L', 'J', 'G', 'L', 'S', 'n', 'h', 'e', 't', 'p', 'w', 'C', 'K', 'p', 'R', 'D', 'e', 'D', 'y', 'A', 'E', 'J', 'a', 'x', 'Q', 'A', 'R', 'O', 'P', 'E', 'T', 'H', 'q', 'I', 'Q', 'd', 'y', 'C', 'o', 'V', 'i', 'X', 'o', 'n', 'u', 'D', 'O', 'N', 'Q', 'H', 'N', 'A', 'P', 'd', 'O', 'V', 'A', 't', 'w', 'X', 'r', 'p', 'I', 'M', 'Q', 'V', 'y', 'c', 'h', 'N', 'Q', 'v', 'l', 'q', 'V', 'r', 'N', 'l', 'k', 'i', 'i', 'K', 'g', 'e', 'h', 'R', 'v', 's', 'n', 'I', 'v', 'K', 'X', 'o', 'V', 'T', 'x', 'G', 'a', 'r', 'g', 'z', 'G', 'O', 'i', 'y', 'c', 'Y', 'P', 'j', 's', 'O', 'z', 'P', 'j', 'T', 'U', 'D', 'l', 'n', 'w', 'z', 'M', 'g', 'n', 'n', 'e', 'K', 'x', 'O', 'v', 'M', 'r', 'O', 'p', 'l', 'v', 'p', 'W', 'D', 'L', 'w', 'z', 'V', 'c', 'b', 'h', 'I', 'h', 'w', 'w', 'R', 's', 'O', 'c', 'p', 'C', 's', 'W', 'L', 'n', 's', 'U', 'm', 'J', 'A', 'o', 'X', 'o', 'g', 'E', 'd', 'm', 'j', 'k', 'A', 'N', 'Q', 'O', 'n', 'o', 'i', 'p', 'L', 'h', 'c', 'A', 'o', 'g', 't', 'W', 'H', 'H', 'n', 'z', 'a', 't', 'r', 'a', 'n', 'V', 'A', 'n', 'l', 'B', 'E', 'Q', 'C', 'l', 'R', 'K', 'R', 'B', 'R', 'P', 'L', 'm', 'N', 'c', 'I', 'e', 'y', 'o', 's', 'M', 'a', 'Z', 'w', 'r', 'm', 'Q', 'c', 'N', 'q', 'N', 'j', 'a', 'i', 'M', 'q', 'q', 'J', 'u', 'Z', 'B', 'v', 'A', 'l', 'Z', 'l', 'W', 'V', 'T', 'y', 'b', 'o', 'R', 'V', 'x', 'K', 'L', 'v', 'r', 'm', 'b', 'V', 'J', 'v', 'Z', 'W', 'j', 'x', 'M', 'j', 'Y', 'K', 'T', 'D', 'D', 'O', 'H', 'p', 's', 'W', 'S', 'u', 'g', 'r', 'l', 'G', 'I', 'J', 'H', 's', 'h', 'R', 'M', 'X', 'g', 'c', 'B', 'k', 'q', 'B', 'E', 'v', 'g', 'B', 'E', 'S', 'C', 'M', 'H', 'Q', 'Y', 'Y', 'A', 'P', 'R', 'T', 'Y', 'K', 'R', 'k', 'V', 'G', 'x', 'K', 'B', 'H', 'B', 'L', 'U', 'j', 'y', 'X', 'b', 'Z', 'A', 'A', 'i', 'R', 'B', 'n', 'k', 'n', 'e', 'G', 'G', 'n', 'X', 'D', 'n', 'D', 'E', 'B', 'Y', 'd', 'a', 'T', 'o', 'U', 't', 'U', 'D', 'l', 't', 'a', 'a', 'E', 'A', 't', 'P', 'm', 'p', 'y', 'G', 'Z', 'J', 'N', 'R', 'D', 'z', 'Q', 'T', 'X', 'W', 'B', 'B', 'A', 'z', 'I', 'G', 'm', 'e', 'D', 'j', 'w', 'i', 'm', 'e', 'i', 'v', 'N', 'd', 'k', 'Z', 'N', 'E', 'c', 'I', 'x', 'Q', 'm', 'z', 'b', 'H', 'e', 'V', 'x', 'D', 'N', 'O', 'U', 'O', 'S', 'B', 'e', 'p', 'w', 's', 'D', 'W', 'I', 'x', 'v', 'Z', 'm', 'R', 'n', 'x', 'm', 'K', 'Q', 'p', 'X', 'C', 'p', 'r', 'S', 'D', 'G', 'k', 'l', 'N', 'G', 'j', 'r', 'b', 'q', 'O', 'a', 'w', 'u', 'c', 'c', 'm', 'z', 'n', 'e', 'o', 'y', 'T', 'H', 'i', 'H', 'd', 'd', 'U', 'P', 'z', 'g', 'o', 'x', 'L', 'o', 'w', 'i', 'Q', 'K', 'G', 'z', 'w', 'L', 'W', 's', 'r', 'D', 'R', 'H', 'L', 'r', 'c', 'D', 'y', 't', 'y', 'W', 'M', 'D', 'k', 'w', 'n', 'm', 'D', 'E', 'H', 'c', 's', 'T', 'L', 'Z', 's', 'B', 'd', 'Z', 'p', 'a', 'M', 'V', 'e', 'H', 'm', 'B', 'j', 'S', 'i', 'n', 's', 'Q', 'c', 'q', 'U', 'e', 'j', 'z', 'z', 'U', 'k', 'y', 'A', 'v', 'p', 'Y', 'G', 'C', 'u', 'S', 'z', 'w', 'K', 'Y', 'r', 'N', 'a', 'P', 'T', 'p', 'M', 'v', 'p', 'm', 'O', 'X', 'I', 'E', 'G', 'B', 'N', 'r', 'r', 'U', 'Q', 'b', 'r', 'G', 'c', 'g', 'W', 'B', 'Y', 'b', 'M', 'C', 'A', 'w', 'k', 'c', 'X', 'V', 'V', 'Y', 'b', 'y', 'r', 'm', 'z', 'R', 'a', 'X', 'a', 'x', 'Z', 'J', 'J', 'H', 'H', 'g', 'z', 'H', 'c', 'l', 's', 'P', 'x', 'm', 'i', 'e', 'B', 'y', 'm', 'h', 'p', 'R', 'e', 'j', 'N', 'q', 'z', 'B', 'l', 'r', 'a', 'y', 'e', 'A', 'E', 'Q', 'B', 'a', 'y', 'Q', 'Q', 'L', 'a', 'R', 'd', 'W', 'O', 'A', 'A', 'q', 'r', 'q', 'W', 'W', 'K', 'x', 'T', 's', 'I', 'y', 'Q', 't', 'x', 'H', 'u', 'l', 's', 'q', 'C', 'B', 'e', 'b', 'V', 'A', 'N', 'B', 'o', 'g', 'O', 'Z', 'V', 'n', 'A', 'u', 'S', 'y', 'y', 'i', 'y', 'B', 'u', 'R', 't', 'X', 'X', 'q', 'l', 'B', 'N', 'W', 'g', 'v', 'G', 'U', 'q', 'u', 'r', 'c', 'a', 'x', 'V', 'N', 'y', 'a', 'h', 'P', 'x', 'a', 'w', 'k', 'q', 's', 'e', 'r', 'C', 'p', 'j', 'C', 'S', 'l', 'z', 'P', 'Z', 'I', 'U', 's', 'R', 'B', 'R', 'x', 'J', 'u', 'H', 'y', 'A', 'J', 'q', 'n', 'L', 'S', 'l', 'd', 'V', 'h', 'T', 'r', 'm', 'N', 's', 'P', 'S', 'T', 'U', 'S', 'J', 'P', 'R', 'l', 'm', 'g', 'Z', 'A', 'r', 'S', 'd', 'M', 'y', 'j', 'e', 'h', 'b', 'w', 'R', 'L', 'A', 'o', 'X', 'E', 'n', 'h', 'C', 'V', 'M', 'x', 'S', 'z', 'P', 'j', 'M', 'W', 'k', 'd', 'v', 'Z', 'E', 'C', 'y', 'r', 'n', 'W', 'W', 'N', 'T', 'G', 'A', 'W', 'T', 'D', 'L', 'C', 's', 'V', 'L', 'X', 'S', 'K', 'A', 'm', 'E', 'S', 'S', 'm', 'G', 'a', 'C', 'q', 'W', 'b', 'X', 'P', 'R', 'q', 'q', 'U', 'N', 'g', 'N', 'C', 'P', 'V', 'I', 'Y', 'V', 'B', 'o', 'S', 'o', 'J', 'A', 'Z', 'v', 'w', 'g', 'q', 'X', 'w', 'j', 'e', 'h', 'L', 'i', 'c', 'n', 'V', 'M', 'w', 'r', 'x', 'p', 'E', 'u', 'L', 'D', 'Q', 't', 'L', 'T', 'l', 'R', 'u', 'q', 's', 'u', 'W', 'u', 'X', 'A', 'd', 'U', 'y', 'M', 'V', 'Y', 'G', 'y', 'E', 'L', 'R', 'X', 'b', 'M', 'V', 'M', 't', 'W', 'z', 'Y', 'q', 'm', 'A', 's', 'M', 'p', 't', 'p', 'y', 'C', 'T', 'I', 'e', 't', 'U', 'C', 'g', 'J', 'V', 'd', 'W', 'L', 'U', 'o', 'u', 'p', 'p', 'Q', 'z', 'C', 'b', 'd', 'r', 'H', 'w', 'A', 'p', 'm', 'S', 'E', 'k', 'U', 'H', 'X', 'X', 'V', 'N', 'I', 'r', 'p', 'A', 'l', 'C', 'r', 'A', 'i', 'Q', 'w', 'g', 'i', 'K', 'z', 'S', 'a', 'I', 'U', 'S', 'l', 'j', 'I', 't', 'H', 'L', 'q', 'X', 'a', 'U', 'm', 'e', 'G', 'H', 'v', 'R', 'L', 'Z', 'D', 'J', 'e', 'N', 'P', 'e', 'w', 's', 'r', 'z', 'R', 'I', 'p', 'A', 'c', 'z', 'A', 'v', 'm', 's', 'X', 'a', 'l', 'l', 'Q', 'L', 'b', 'A', 'A', 'Q', 'w', 'y', 'z', 'D', 'S', 'Q', 'M', 'y', 'y', 'Q', 'G', 'I', 'P', 'E', 'v', 'z', 'C', 'E', 'c', 'Z', 'V', 'e', 'p', 'i', 'g', 'q', 'Y', 'Y', 'm', 'q', 's', 'd', 'Z', 'Y', 'W', 'q', 'a', 'a', 'B', 'l', 'q', 'L', 'L', 'A', 'x', 'S', 'M', 'V', 'a', 'Z', 'C', 'a', 'P', 'i', 'r', 'Z', 'R', 'S', 'W', 'E', 'p', 'n', 'E', 'j', 'd', 'z', 'l', 'r', 'V', 'h', 'g', 'E', 'M', 'u', 'A', 'x', 'Q', 'l', 'h', 'T', 'i', 'J', 'L', 's', 'u', 'i', 'A', 's', 'Z', 'k', 'I', 'G', 'W', 'q', 'I', 'a', 'R', 'c', 'L', 'a', 'P', 'R', 'i', 'n', 'v', 'x', 'x', 'h', 'u', 'K', 'e', 's', 'M', 'P', 'a', 'W', 'h', 'R', 'D', 'B', 'c', 'Z', 'q', 'P', 'P', 'U', 'O', 'u', 'l', 'w', 'D', 'v', 'j', 'G', 'c', 'u', 'T', 'E', 'i', 't', 'c', 'Y', 'P', 'T', 'P', 'm', 'S', 'a', 'M', 'Q', 'y', 'Z', 'w', 'T', 'm', 'v', 'm', 'B', 'x', 'r', 'l', 'e', 'Y', 'g', 'y', 'v', 'm', 'Y', 'u', 'D', 'a', 'x', 'U', 'w', 'U', 'S', 'Q', 'U', 'r', 'L', 't', 'l', 'T', 'q', 'd', 'l', 'U', 'e', 'P', 'X', 'R', 'W', 'm', 'v', 'N', 'C', 'I', 'l', 'H', 'E', 'J', 'W', 'x', 'Q', 'G', 'W', 'V', 'z', 'a', 'j', 'O', 's', 'O', 'b', 'v', 'y', 'i', 'v', 'p', 'c', 'n', 'G', 'n', 'u', 'Q', 'Q', 'r', 'p', 'x', 'B', 'w', 'Q', 'c', 'A', 'g', 'M', 's', 's', 'e', 'M', 'a', 'k', 's', 'x', 'l', 'v', 'S', 'c', 'l', 'd', 't', 'w', 'a', 'g', 't', 'n', 'w', 'w', 'N', 'R', 'Y', 'c', 'e', 'z', 'V', 'D', 'K', 'w', 'm', 'J', 'p', 'Z', 's', 'X', 'm', 'v', 'c', 'H', 'N', 'e', 'x', 'O', 'a', 'l', 'r', 'o', 'W', 'B', 'H', 'E', 'J', 'Y', 'm', 'D', 's', 'R', 'a', 'z', 'G', 'M', 'L', 'r', 'p', 'j', 's', 'u', 't', 's', 'p', 'S', 'n', 'M', 'R', 't', 'H', 'v', 'D', 'L', 's', 'l', 'N', 'Q', 'j', 'a', 'Y', 'h', 'U', 'j', 'X', 'r', 'b', 'r', 'S', 'u', 'i', 'z', 'p', 'Z', 'L', 's', 'c', 'J', 'P', 'c', 'R', 'E', 'S', 'Q', 'K', 'W', 'A', 'X', 'p', 'H', 'A', 'Y', 'n', 'v', 'X', 'A', 'C', 'R', 'U', 'Q', 'u', 'g', 'V', 'G', 'w', 'n', 'b', 'L', 'Q', 'x', 'x', 'T', 'r', 'U', 'b', 'Y', 'I', 'Y', 'Y', 's', 'U', 'a', 'N', 'v', 'z', 'o', 'G', 'O', 'b', 'n', 'a', 'v', 'B', 'E', 'b', 'c', 'Q', 'S', 'L', 'U', 'h', 'X', 'T', 'q', 'Y', 'i', 'S', 't', 'X', 'k', 'w', 'w', 'Q', 'R', 'Q', 'a', 'a', 'o', 'w', 'D', 'r', 'A', 'l', 'q', 'q', 'Y', 'A', 'b', 'q', 'e', 'a', 'E', 'Y', 'A', 'R', 'L', 'b', 'Z', 'Q', 'n', 'J', 'E', 'r', 'P', 'H', 'M', 'Y', 'b', 'E', 'I', 'M', 'X', 'p', 'S', 'L', 'C', 'h', 'Z', 'G', 'h', 'h', 'j', 'j', 'z', 'X', 'A', 'x', 'A', 'r', 'Z', 'M', 'R', 'Y', 'B', 'y', 'v', 'v', 'x', 'C', 'K', 'W', 'a', 'c', 'm', 'B', 'y', 'b', 'w', 'G', 'C', 'g', 'R', 'B', 'q', 'u', 'R', 'R', 'n', 'b', 'g', 'e', 'i', 'x', 'o', 'M', 'P', 'V', 'm', 'P', 't', 'p', 'A', 'n', 'R', 'y', 'k', 'W', 'Z', 's', 'U', 'c', 'g', 'y', 'P', 'V', 'a', 'Y', 'K', 'u', 'Z', 'Z', 'J', 'E', 'u', 'Q', 'C', 'q', 'S', 'N', 'I', 's', 'J', 'b', 'M', 'h', 'v', 'm', 'A', 'P', 'z', 'D', 'b', 'S', 'z', 'l', 't', 'S', 'C', 'h', 'e', 'd', 'M', 'N', 'W', 'K', 'd', 'm', 'w', 'Y', 'T', 'Y', 'd', 'C', 'R', 'l', 'h', 'r', 'd', 'R', 'S', 'w', 'l', 'W', 'Z', 'g', 'k', 'q', 'I', 'W', 'O', 'l', 'X', 'O', 'G', 'Z', 'p', 'u', 'D', 'D', 'h', 'I', 'h', 't', 'Y', 'O', 'E', 'N', 'Z', 'M', 'C', 'C', 'U', 'W', 'A', 'o', 'Q', 'B', 'R', 'J', 'g', 'n', 'L', 'K', 'g', 'd', 's', 'R', 'P', 'c', 'x', 'P', 'q', 'k', 'M', 'X', 'N', 'r', 'M', 'z', 'V', 'X', 'i', 'w', 'd', 'S', 'W', 'P', 'E', 'b', 's', 'o', 'u', 'o', 'n', 'd', 'X', 'v', 'E', 'h', 'B', 'Z', 'M', 'q', 'X', 'i', 'C', 'e', 'n', 'z', 'K', 'D', 'n', 'V', 'I', 'E', 'M', 'I', 'W', 'J', 'd', 'E', 'M', 'g', 'i', 'Z', 'a', 'b', 'b', 'w', 'x', 't', 'q', 'Z', 'd', 'r', 'n', 'j', 'z', 'g', 'Y', 'P', 'M', 'p', 'T', 'a', 'e', 'A', 'A', 'T', 'L', 'd', 'u', 'T', 'u', 'O', 't', 'A', 'D', 'y', 'b', 'e', 'd', 'N', 'd', 'x', 'N', 'g', 'g', 'E', 'N', 'K', 'N', 'b', 'r', 'I', 'a', 'a', 'z', 'B', 'x', 'Y', 'J', 'u', 'l', 'b', 'h', 'b', 'k', 'X', 'g', 'v', 'K', 'r', 'k', 'y', 't', 'r', 'p', 'a', 'y', 'y', 'q', 'h', 'm', 'c', 's', 'e', 'b', 'G', 'V', 'e', 'b', 'Q', 'K', 'b', 'C', 'G', 'x', 'm', 'r', 'H', 'S', 'h', 'j', 'i', 'g', 'L', 'R', 'G', 'U', 's', 'w', 'S', 'P', 'h', 'o', 'd', 'd', 't', 'k', 'y', 'J', 'm', 'X', 'J', 'w', 'z', 'V', 'j', 'v', 'B', 'M', 'R', 'V', 'l', 'k', 'X', 'v', 'r', 'O', 'B', 'Y', 't', 'v', 'w', 'L', 'z', 'L', 'a', 'V', 'b', 'z', 'U', 'j', 'Q', 'Q', 'm', 'I', 'A', 'J', 'n', 'Q', 'n', 'C', 'q', 'M', 'R', 'W', 'z', 'A', 'm', 'S', 'O', 'Y', 'E', 'i', 'C', 'n', 'M', 'l', 'p', 'r', 'b', 'r', 'k', 'r', 'L', 'c', 'q', 'e', 'b', 'L', 'N', 'a', 'v', 'N', 'A', 'R', 'T', 'A', 'Z', 'N', 'h', 'O', 'h', 'w', 'T', 'G', 'O', 'a', 'C', 'H', 'l', 'P', 'I', 'O', 'N', 'o', 'q', 'n', 'a', 'K', 'J', 'M', 'D', 'e', 'G', 'O', 'x', 'O', 'a', 'j', 'M', 'u', 'S', 'N', 'l', 'w', 'S', 'c', 'P', 'C', 'o', 'S', 'r', 'W', 'W', 'H', 'i', 'H', 'B', 'C', 'v', 'Z', 'W', 'l', 'd', 'w', 'P', 'V', 'L', 'P', 'o', 'R', 'm', 'V', 'o', 'X', 'k', 'E', 'N', 'N', 'G', 'm', 'Z', 'W', 'N', 'L', 'd', 'u', 't', 'J', 'p', 'Z', 'o', 'S', 'J', 'p', 'y', 'C', 'Y', 'I', 'o', 'g', 'Z', 'G', 'R', 'A', 'g', 'X', 't', 'v', 'O', 'x', 'k', 'V', 'i', 'N', 'S', 'V', 'r', 'H', 'E', 'G', 'k', 'I', 'I', 'K', 'L', 'n', 'R', 'v', 'Q', 'L', 'V', 'q', 'n', 'H', 'C', 'Y', 'v', 'q', 'm', 'i', 'P', 'R', 'x', 'W', 'T', 'a', 'v', 'o', 'D', 'p', 'a', 'n', 'h', 'q', 'n', 'o', 'd', 'U', 'N', 'O', 'x', 'I', 'v', 'O', 'c', 'Y', 'D', 'q', 'i', 'Q', 'h', 't', 'e', 'p', 'o', 'r', 'a', 'q', 'X', 'A', 'j', 'e', 'a', 'Y', 'd', 'E', 'd', 'r', 'P', 'k', 'c', 'W', 'P', 'T', 'E', 'H', 'N', 's', 'l', 'g', 'j', 'l', 'm', 'T', 'o', 'Z', 'o', 'P', 'P', 'h', 'i', 'o', 'T', 'S', 'd', 'c', 'M', 'K', 'Z', 'M', 'r', 'X', 'U', 'S', 'P', 'd', 'E', 'G', 'Y', 'h', 'T', 'd', 'h', 'T', 'K', 'p', 'q', 'I', 'P', 'v', 'P', 'x', 'M', 'g', 'C', 'w', 't', 'i', 'i', 'H', 'x', 'G', 'A', 'L', 'w', 'R', 'j', 'a', 'a', 'Z', 'b', 'u', 'G', 'A', 'R', 'J', 'd', 'c', 'K', 'R', 'v', 'b', 'x', 'n', 'z', 'B', 'K', 'C', 'R', 'd', 'p', 's', 'G', 'e', 'O', 'c', 'V', 'H', 'E', 'B', 'L', 'O', 'O', 'r', 'J', 'q', 'j', 'P', 'd', 'p', 'q', 'S', 'V', 'J', 'o', 'q', 'M', 'k', 'o', 't', 'b', 'M', 'R', 'o', 'n', 'R', 'Q', 'H', 'J', 'H', 'j', 'Q', 'b', 'D', 'M', 'I', 'G', 'a', 'q', 'L', 'O', 'W', 'p', 'z', 'O', 'j', 'r', 'H', 'e', 'K', 'q', 'c', 'm', 'q', 'y', 'g', 'E', 'U', 'S', 'g', 'c', 'z', 'T', 'L', 'U', 'X', 'h', 't', 'y', 'J', 'z', 'h', 'A', 'U', 'N', 'h', 'o', 'q', 'r', 'a', 'P', 'C', 'S', 'i', 'J', 'W', 'v', 'I', 'q', 'U', 'g', 'B', 'U', 'm', 'w', 'h', 'q', 'c', 'V', 'r', 'y', 'i', 'm', 'S', 'T', 'j', 'N', 'J', 'Z', 'V', 'C', 'C', 'p', 'O', 'T', 'x', 'w', 'x', 'h', 'A', 'X', 'E', 'd', 'T', 'E', 'X', 'P', 'j', 'H', 'L', 'C', 'R', 'j', 'W', 'n', 'x', 'R', 'x', 'Q', 'D', 'c', 'K', 'G', 'z', 'B', 'Y', 'z', 'k', 'M', 'T', 'q', 'U', 'x', 'b', 'q', 'G', 'w', 'R', 'c', 'z', 'w', 'E', 'X', 'L', 'e', 's', 'J', 'V', 'i', 'G', 'N', 'A', 'u', 'V', 'N', 'H', 'I', 'B', 'g', 'o', 'R', 'G', 'W', 'n', 'r', 'P', 'l', 'e', 'o', 'W', 'k', 'x', 'k', 'v', 'K', 'd', 'Y', 'L', 'R', 'H', 'k', 'O', 'M', 'X', 'c', 'W', 'h', 't', 'x', 'Q', 'C', 'O', 'J', 't', 'V', 's', 'd', 'o', 'b', 'D', 'N', 'd', 'b', 'Y', 'T', 's', 'N', 'a', 'w', 'Z', 'T', 'B', 'l', 'a', 'S', 'm', 's', 'E', 'B', 'n', 'e', 'V', 't', 'q', 'I', 'E', 'B', 'B', 'x', 'W', 'L', 'm', 'L', 'D', 'i', 'l', 'A', 'p', 'S', 'Y', 'l', 'W', 'A', 'o', 'z', 'P', 'L', 'e', 'W', 's', 'j', 'd', 'E', 'g', 'K', 'h', 'N', 'D', 'g', 'W', 'E', 'D', 'b', 'L', 'k', 'x', 'H', 'q', 'N', 'z', 'Q', 'y', 'p', 'h', 'J', 'r', 'Q', 'H', 'r', 'o', 'W', 'M', 'o', 'h', 'O', 'X', 'g', 'k', 'y', 'N', 'R', 'd', 'm', 'x', 'P', 'z', 'h', 'Y', 'x', 'k', 'd', 'C', 'O', 'Z', 'i', 'J', 'q', 'R', 'x', 'W', 'T', 'V', 'Q', 'j', 'r', 'n', 'n', 'r', 'n', 'h', 't', 'R', 'e', 'O', 'b', 'q', 'm', 'c', 't', 'c', 'y', 'X', 'V', 'I', 's', 'w', 'T', 'D', 'b', 'p', 'R', 'J', 'w', 'K', 'j', 'L', 'V', 'P', 'k', 'w', 'S', 'K', 'n', 'E', 'h', 'T', 'l', 'V', 'A', 'I', 'J', 'S', 'e', 'S', 'r', 'z', 'c', 'o', 'y', 'R', 'g', 'A', 'Q', 'P', 'Q', 'O', 'x', 'R', 'h', 'A', 'L', 'Z', 'A', 'D', 'j', 'i', 'o', 'M', 'y', 'J', 'K', 'l', 'J', 'V', 'Y', 'd', 'e', 'n', 'R', 'e', 'e', 'j', 'C', 'o', 'E', 'U', 'l', 'b', 'j', 'G', 'y', 'a', 'M', 'I', 'k', 'D', 'I', 'x', 'E', 'S', 'H', 'L', 'e', 'u', 'P', 'G', 'i', 'R', 'X', 'S', 'o', 'e', 'W', 'A', 'S', 'D', 'l', 'p', 'G', 'h', 'o', 'v', 'o', 'N', 'N', 'y', 'R', 'v', 'n', 'x', 'r', 'j', 'S', 'X', 'W', 'q', 'r', 'V', 'z', 'b', 'x', 'a', 'V', 'N', 'X', 'm', 'y', 'c', 'O', 'p', 'M', 'b', 'x', 'C', 'u', 'Q', 'Z', 's', 'P', 'r', 's', 'K', 'E', 'E', 'r', 'o', 'o', 'l', 'S', 'o', 'L', 'I', 'S', 'G', 'B', 'I', 'x', 'D', 'I', 'D', 'w', 'b', 'm', 'n', 'o', 'z', 'x', 'R', 'H', 'D', 'J', 'o', 'V', 'J', 'u', 'j', 'v', 'K', 'E', 'Z', 'i', 'u', 'V', 'N', 'A', 'Z', 'q', 's', 'L', 'C', 'w', 'l', 'R', 'H', 'G', 't', 'n', 'E', 'V', 'o', 'C', 'X', 'q', 'm', 'T', 'G', 'd', 'q', 'e', 'P', 'm', 'o', 'a', 'E', 'S', 'x', 'i', 'X', 'E', 'S', 'N', 'h', 'a', 'O', 'c', 'h', 'z', 'v', 'R', 'g', 'H', 'G', 'Y', 'J', 'N', 'U', 'p', 'Q', 'Z', 'h', 'x', 'c', 'Y', 'k', 'v', 'Y', 'c', 'P', 'E', 'J', 'S', 'v', 'Z', 'L', 'M', 'H', 'o', 'Q', 'S', 'N', 'C', 'g', 'P', 'U', 'v', 'M', 'J', 'R', 'D', 'W', 'K', 'M', 'B', 'Z', 't', 'j', 'B', 'N', 'p', 'k', 'b', 'l', 'A', 'U', 'Q', 'i', 'j', 'Q', 'T', 'I', 'S', 'c', 'j', 'Z', 'S', 'c', 'X', 'w', 'i', 'W', 'T', 'R', 'G', 'A', 'T', 'e', 'j', 'n', 'b', 'X', 'C', 'l', 't', 'O', 'P', 'T', 'd', 'c', 'k', 'd', 'P', 'S', 'd', 'r', 'q', 'u', 'J', 'J', 's', 'I', 'd', 'o', 'D', 'I', 'S', 'l', 'P', 'h', 'v', 'q', 'M', 'N', 'x', 'N', 'W', 'Q', 'l', 'M', 'n', 'R', 'H', 'u', 'p', 'r', 't', 'o', 'P', 'G', 's', 'A', 'G', 'E', 'S', 'j', 'd', 'r', 'M', 'c', 'v', 'z', 'r', 'S', 'Y', 'T', 'Y', 'a', 'N', 'l', 'Z', 'b', 'C', 'l', 'i', 'V', 'a', 'l', 'B', 't', 'n', 'O', 'N', 'a', 's', 'U', 'w', 'M', 'X', 'u', 'x', 'R', 'N', 'S', 'W', 'U', 'Z', 'H', 'n', 'k', 'a', 'D', 'm', 'd', 'c', 's', 'M', 'G', 'v', 'e', 'B', 'c', 'i', 'o', 'R', 'I', 'K', 'q', 'X', 'w', 'N', 'o', 'B', 'E', 'a', 'W', 'l', 'a', 'Q', 'D', 'N', 'z', 'g', 'm', 's', 'M', 'l', 't', 'E', 'M', 'i', 'K', 'V', 'Y', 'C', 'i', 'O', 'O', 'v', 'e', 'W', 'o', 'S', 'V', 'm', 'T', 'u', 'w', 'V', 'h', 'N', 'p', 'S', 'S', 'N', 'Y', 'o', 'W', 's', 'h', 'K', 'E', 'i', 'h', 'A', 'P', 'L', 'R', 'j', 'Z', 'U', 'j', 'E', 'U', 'p', 'Q', 'L', 'x', 'A', 'T', 's', 'O', 'G', 'U', 'Q', 'e', 'R', 'g', 'U', 'j', 'i', 'd', 'y', 'D', 'x', 'n', 'd', 'O', 'W', 'g', 'K', 'A', 'p', 'p', 'Z', 'T', 'J', 'P', 'h', 'k', 'v', 'Y', 'v', 'N', 'o', 'o', 'Z', 'w', 'P', 'u', 'N', 'J', 'E', 'x', 'g', 'K', 'G', 'b', 'D', 'J', 'c', 'b', 'X', 'S', 'j', 'C', 'V', 'S', 'n', 'e', 'y', 's', 'r', 'V', 'X', 'O', 'y', 'H', 'L', 'S', 'V', 'w', 'h', 'a', 'K', 'B', 'j', 'a', 'z', 'x', 'H', 'B', 'h', 'x', 'E', 'i', 'z', 'r', 'b', 'y', 'P', 'i', 'w', 'r', 'j', 'G', 'H', 'I', 'y', 'D', 'z', 't', 'J', 'r', 'S', 'P', 'z', 'c', 'S', 'u', 'Z', 'V', 'c', 'Z', 'N', 'h', 'x', 'S', 'G', 'E', 'o', 'k', 'G', 'y', 'C', 'Y', 'S', 'n', 'i', 'z', 'V', 'D', 'm', 'x', 'G', 'd', 'q', 'D', 'c', 'E', 'J', 'T', 'U', 'y', 'J', 'G', 'X', 'j', 'R', 'p', 'y', 'T', 'Q', 'x', 'p', 'r', 'a', 'r', 'w', 't', 'I', 'C', 'q', 'U', 'B', 'S', 'z', 'Y', 'o', 'a', 'j', 'q', 'n', 'h', 'E', 'c', 'Q', 'w', 'D', 'y', 'X', 'b', 'A', 'G', 'G', 'I', 'H', 'P', 'N', 'a', 'o', 'X', 'K', 'h', 'W', 's', 'R', 'm', 'l', 'R', 'o', 's', 'b', 'e', 'b', 'J', 'w', 'n', 'U', 'x', 'B', 'n', 'C', 'Z', 'L', 'n', 'q', 'C', 'Q', 'a', 'o', 'z', 'z', 'X', 'h', 'd', 't', 'l', 'l', 'z', 'p', 'h', 'V', 'H', 'z', 'o', 'Q', 'l', 'j', 'Z', 'i', 'X', 'h', 'o', 'S', 'U', 'y', 'A', 'd', 'G', 't', 'U', 'n', 'V', 'r', 'i', 'q', 'c', 'k', 'E', 'G', 'M', 'P', 'N', 'C', 'x', 'c', 'Z', 'M', 'U', 'n', 'x', 'y', 'm', 'X', 'e', 'K', 'H', 'g', 'I', 'u', 'B', 'h', 'h', 'w', 'w', 'M', 'n', 'C', 'r', 'i', 'v', 'Y', 'l', 'C', 'K', 'V', 'V', 'c', 'Y', 'U', 'c', 'q', 'z', 'Y', 'd', 'i', 'c', 'e', 'p', 'h', 'a', 't', 'X', 'S', 'g', 'I', 'm', 'H', 'D', 'p', 'R', 'G', 't', 'c', 'D', 'B', 'N', 'm', 'Z', 'o', 'i', 'o', 'I', 'r', 'q', 'k', 'x', 'O', 'W', 'Q', 'a', 'Y', 'h', 'm', 'k', 'v', 'E', 'q', 'c', 'O', 'W', 'a', 'T', 'c', 'm', 'N', 'o', 'h', 'i', 'M', 'v', 'c', 's', 'E', 'a', 'y', 'h', 'A', 's', 'l', 'C', 'y', 'P', 'e', 'l', 'h', 'e', 'g', 'V', 'R', 's', 'U', 'b', 'S', 'G', 'U', 'V', 'g', 't', 'n', 'Q', 'V', 'J', 'z', 'G', 'm', 'm', 'i', 'm', 'y', 'g', 'L', 'c', 's', 'M', 'D', 'p', 'x', 'Y', 'G', 'J', 'Z', 'C', 'z', 'u', 'e', 'K', 'D', 'M', 'k', 'I', 'Y', 'E', 'S', 'E', 'H', 'r', 'M', 'p', 'q', 'S', 'q', 'e', 'a', 'b', 'j', 'G', 'M', 'S', 'D', 'i', 'C', 'y', 'o', 'I', 'V', 'H', 'n', 'c', 'O', 'a', 'n', 'C', 'W', 'z', 'I', 'o', 'r', 'e', 'U', 'i', 'd', 'r', 'K', 'J', 'q', 'M', 's', 'i', 's', 'C', 'M', 'h', 'l', 'u', 'O', 'N', 'Q', 'w', 'H', 'o', 'C', 'g', 'd', 'T', 'r', 't', 'D', 'r', 'w', 'H', 'g', 'V', 'o', 'l', 'd', 'M', 'o', 'A', 'V', 'V', 'I', 'g', 'Q', 'm', 'h', 'p', 'y', 'B', 'P', 'c', 'P', 'k', 'o', 'L', 'Z', 'b', 'z', 'd', 'z', 'E', 'n', 'Y', 'A', 'A', 'E', 'o', 'Z', 'i', 'R', 'p', 'M', 'b', 'J', 'P', 'C', 'p', 'I']\n"
     ]
    },
    {
     "name": "stdout",
     "output_type": "stream",
     "text": [
      "g: 10688\n",
      "h: 10664\n",
      "i: 10670\n",
      "j: 10656\n",
      "k: 10726\n",
      "l: 10698\n",
      "m: 10630\n",
      "n: 10626\n",
      "o: 10644\n",
      "p: 10648\n",
      "q: 10656\n",
      "r: 10650\n",
      "s: 10664\n",
      "t: 10718\n",
      "u: 10700\n",
      "v: 10664\n",
      "w: 10682\n",
      "x: 10606\n",
      "y: 10678\n",
      "z: 10642\n"
     ]
    }
   ],
   "source": [
    "import string\n",
    "\n",
    "f = Input('05').read().strip()\n",
    "\n",
    "\n",
    "g = string.ascii_lowercase\n",
    "\n",
    "for c in g:\n",
    "    h = f.replace(c, \"\")\n",
    "    h = h.replace(capuncap(c), \"\")\n",
    "    k = 0\n",
    "    y = 1\n",
    "    h = list(h)\n",
    "    while y == 1:   \n",
    "        i = 0\n",
    "        j = len(h)-1\n",
    "        \n",
    "        while i < j:\n",
    "            if h[i] == capuncap(h[i + 1]):\n",
    "                del(h[i+1])\n",
    "                del(h[i])\n",
    "                j -= 2\n",
    "            else:\n",
    "                i += 1\n",
    "        if x == len(h):\n",
    "            y = 0\n",
    "        x = len(h)\n",
    "    print(c + \": \" + str(len(h)))\n",
    "    if c == 'f':\n",
    "        print(h)\n",
    "        "
   ]
  },
  {
   "cell_type": "markdown",
   "metadata": {},
   "source": [
    "# Day 6 - Chronal Coordinates"
   ]
  },
  {
   "cell_type": "code",
   "execution_count": 792,
   "metadata": {},
   "outputs": [
    {
     "name": "stdout",
     "output_type": "stream",
     "text": [
      "4171\n"
     ]
    }
   ],
   "source": [
    "f = Input('06').readlines()\n",
    "\n",
    "Points = []\n",
    "\n",
    "def manhattan_distance(start, end=(0, 0)):\n",
    "    sx, sy = start\n",
    "    ex, ey = end\n",
    "    return abs(ex - sx) + abs(ey - sy)\n",
    "\n",
    "for i in range(len(f)):\n",
    "    x = re.match(r'(\\d+), (\\d+)', f[i])\n",
    "    Points.append([int(x.group(1)), int(x.group(2))])\n",
    "\n",
    "maxi = [max(e) for e in list(zip(*Points[0:-1]))]\n",
    "\n",
    "grid = []\n",
    "\n",
    "for y in range(maxi[1] + 2):\n",
    "    grid.append([])\n",
    "    for x in range(maxi[0] + 2):\n",
    "        mdist = []\n",
    "        for e in Points:\n",
    "            mdist.append(manhattan_distance((e[0], e[1]), (x, y)))\n",
    "        if mdist.count(min(mdist)) == 1:\n",
    "            grid[y].append(mdist.index(min(mdist)))\n",
    "        else:\n",
    "            grid[y].append('X')\n",
    "\n",
    "infinites = list(set(grid[0] + grid[-1] + list(map(list, zip(*grid)))[0] + list(map(list, zip(*grid)))[-1]))\n",
    "score = {}\n",
    "\n",
    "for e in Points:\n",
    "    if Points.index(e) not in infinites:\n",
    "        score[Points.index(e)] = 0\n",
    "        for g in grid:\n",
    "            score[Points.index(e)] += g.count(Points.index(e))\n",
    "\n",
    "print(max(score.values()))"
   ]
  },
  {
   "cell_type": "code",
   "execution_count": 822,
   "metadata": {},
   "outputs": [
    {
     "name": "stdout",
     "output_type": "stream",
     "text": [
      "39545\n"
     ]
    }
   ],
   "source": [
    "f = Input('06').readlines()\n",
    "\n",
    "Points = []\n",
    "\n",
    "def manhattan_distance(start, end=(0, 0)):\n",
    "    sx, sy = start\n",
    "    ex, ey = end\n",
    "    return abs(ex - sx) + abs(ey - sy)\n",
    "\n",
    "for i in range(len(f)):\n",
    "    x = re.match(r'(\\d+), (\\d+)', f[i])\n",
    "    Points.append([int(x.group(1)), int(x.group(2))])\n",
    "\n",
    "maxi = [max(e) for e in list(zip(*Points[0:-1]))]\n",
    "\n",
    "grid = []\n",
    "\n",
    "for y in range(maxi[1] + 2):\n",
    "    grid.append([])\n",
    "    for x in range(maxi[0] + 2):\n",
    "        dist = 0\n",
    "        for e in Points:\n",
    "            dist += manhattan_distance((e[0], e[1]), (x, y))\n",
    "        grid[y].append(dist)\n",
    "\n",
    "count = 0        \n",
    "\n",
    "for e in grid:\n",
    "    for f in e:\n",
    "        if f <10000:\n",
    "            count += 1\n",
    "            \n",
    "print(count)"
   ]
  },
  {
   "cell_type": "code",
   "execution_count": 991,
   "metadata": {},
   "outputs": [
    {
     "name": "stdout",
     "output_type": "stream",
     "text": [
      "A: V\n",
      "B: \n",
      "C: NMEF\n",
      "D: RHJFECY\n",
      "E: BK\n",
      "F: \n",
      "G: K\n",
      "H: EIOA\n",
      "I: T\n",
      "J: EFMZROTH\n",
      "K: \n",
      "L: TMFA\n",
      "M: XR\n",
      "N: FG\n",
      "O: K\n",
      "P: AMCUSZEI\n",
      "Q: LUPWCENOD\n",
      "R: GOZXTY\n",
      "S: YXJACLHG\n",
      "T: VF\n",
      "U: CDSBTVYHLIEMJ\n",
      "V: \n",
      "W: BPRLZSDUMXHTO\n",
      "X: I\n",
      "Y: V\n",
      "Z: KVX\n",
      "Part 1: BFKEGNOVATIHXYZRMCJDLSUPWQ\n"
     ]
    }
   ],
   "source": [
    "import re\n",
    "\n",
    "f = Input('07').readlines()\n",
    "\n",
    "instructions = {}\n",
    "finished = []\n",
    "\n",
    "for e in list(f):\n",
    "    x = re.match(r'Step (\\S+) must be finished before step (\\S+) can begin.', e)\n",
    "    if x.group(1) not in instructions:\n",
    "        instructions[x.group(1)] = ['']\n",
    "    if x.group(2) not in instructions:\n",
    "        instructions[x.group(2)] = []\n",
    "    if x.group(1) not in instructions[x.group(2)]:\n",
    "        instructions[x.group(2)].append(x.group(1))\n",
    "        \n",
    "for e in sorted(instructions):\n",
    "    print(e + \": \" + ''.join(instructions[e]))\n",
    "\n",
    "while len(instructions) > 0:\n",
    "    lst = []\n",
    "    for key in sorted(instructions):\n",
    "        add = 1\n",
    "        for value in instructions[key]:\n",
    "            if value in finished or value == '':\n",
    "                pass\n",
    "            else:\n",
    "                add -= 1\n",
    "        if add == 1:\n",
    "            lst.append(key)\n",
    "    \n",
    "    finished.append(lst[0])\n",
    "    instructions.pop(lst[0])\n",
    "\n",
    "print(\"Part 1: \" + ''.join(finished))"
   ]
  },
  {
   "cell_type": "code",
   "execution_count": 121,
   "metadata": {
    "scrolled": true
   },
   "outputs": [
    {
     "name": "stdout",
     "output_type": "stream",
     "text": [
      "0: []\n",
      "0: ['B', 'F', 'K', 'V'], [62, 66, 71, 82]\n",
      "62: ['B']\n",
      "62: ['F', 'K', 'V'], [66, 71, 82]\n",
      "66: ['B', 'F']\n",
      "66: ['K', 'V'], [71, 82]\n",
      "71: ['B', 'F', 'K']\n",
      "71: ['V', 'E', 'G', 'O'], [82, 136, 138, 146]\n",
      "82: ['B', 'F', 'K', 'V']\n",
      "82: ['E', 'G', 'O', 'A', 'T'], [136, 138, 146, 143, 162]\n",
      "136: ['B', 'F', 'K', 'V', 'E']\n",
      "136: ['G', 'O', 'A', 'T', 'Y'], [138, 146, 143, 162, 221]\n",
      "138: ['B', 'F', 'K', 'V', 'E', 'G']\n",
      "138: ['O', 'A', 'T', 'Y', 'N'], [146, 143, 162, 221, 212]\n",
      "143: ['B', 'F', 'K', 'V', 'E', 'G', 'A']\n",
      "143: ['O', 'T', 'Y', 'N'], [146, 162, 221, 212]\n",
      "146: ['B', 'F', 'K', 'V', 'E', 'G', 'A', 'O']\n",
      "146: ['T', 'Y', 'N'], [162, 221, 212]\n",
      "162: ['B', 'F', 'K', 'V', 'E', 'G', 'A', 'O', 'T']\n",
      "162: ['Y', 'N', 'I'], [221, 212, 231]\n",
      "212: ['B', 'F', 'K', 'V', 'E', 'G', 'A', 'O', 'T', 'N']\n",
      "212: ['Y', 'I'], [221, 231]\n",
      "221: ['B', 'F', 'K', 'V', 'E', 'G', 'A', 'O', 'T', 'N', 'Y']\n",
      "221: ['I'], [231]\n",
      "231: ['B', 'F', 'K', 'V', 'E', 'G', 'A', 'O', 'T', 'N', 'Y', 'I']\n",
      "231: ['H', 'X'], [299, 315]\n",
      "299: ['B', 'F', 'K', 'V', 'E', 'G', 'A', 'O', 'T', 'N', 'Y', 'I', 'H']\n",
      "299: ['X'], [315]\n",
      "315: ['B', 'F', 'K', 'V', 'E', 'G', 'A', 'O', 'T', 'N', 'Y', 'I', 'H', 'X']\n",
      "315: ['Z'], [401]\n",
      "401: ['B', 'F', 'K', 'V', 'E', 'G', 'A', 'O', 'T', 'N', 'Y', 'I', 'H', 'X', 'Z']\n",
      "401: ['R'], [479]\n",
      "479: ['B', 'F', 'K', 'V', 'E', 'G', 'A', 'O', 'T', 'N', 'Y', 'I', 'H', 'X', 'Z', 'R']\n",
      "479: ['M'], [552]\n",
      "552: ['B', 'F', 'K', 'V', 'E', 'G', 'A', 'O', 'T', 'N', 'Y', 'I', 'H', 'X', 'Z', 'R', 'M']\n",
      "552: ['C', 'J', 'L'], [615, 622, 624]\n",
      "615: ['B', 'F', 'K', 'V', 'E', 'G', 'A', 'O', 'T', 'N', 'Y', 'I', 'H', 'X', 'Z', 'R', 'M', 'C']\n",
      "615: ['J', 'L'], [622, 624]\n",
      "622: ['B', 'F', 'K', 'V', 'E', 'G', 'A', 'O', 'T', 'N', 'Y', 'I', 'H', 'X', 'Z', 'R', 'M', 'C', 'J']\n",
      "622: ['L', 'D'], [624, 686]\n",
      "624: ['B', 'F', 'K', 'V', 'E', 'G', 'A', 'O', 'T', 'N', 'Y', 'I', 'H', 'X', 'Z', 'R', 'M', 'C', 'J', 'L']\n",
      "624: ['D', 'S'], [686, 703]\n",
      "686: ['B', 'F', 'K', 'V', 'E', 'G', 'A', 'O', 'T', 'N', 'Y', 'I', 'H', 'X', 'Z', 'R', 'M', 'C', 'J', 'L', 'D']\n",
      "686: ['S'], [703]\n",
      "703: ['B', 'F', 'K', 'V', 'E', 'G', 'A', 'O', 'T', 'N', 'Y', 'I', 'H', 'X', 'Z', 'R', 'M', 'C', 'J', 'L', 'D', 'S']\n",
      "703: ['U'], [784]\n",
      "784: ['B', 'F', 'K', 'V', 'E', 'G', 'A', 'O', 'T', 'N', 'Y', 'I', 'H', 'X', 'Z', 'R', 'M', 'C', 'J', 'L', 'D', 'S', 'U']\n",
      "784: ['P'], [860]\n",
      "860: ['B', 'F', 'K', 'V', 'E', 'G', 'A', 'O', 'T', 'N', 'Y', 'I', 'H', 'X', 'Z', 'R', 'M', 'C', 'J', 'L', 'D', 'S', 'U', 'P']\n",
      "860: ['W'], [943]\n",
      "943: ['B', 'F', 'K', 'V', 'E', 'G', 'A', 'O', 'T', 'N', 'Y', 'I', 'H', 'X', 'Z', 'R', 'M', 'C', 'J', 'L', 'D', 'S', 'U', 'P', 'W']\n",
      "943: ['Q'], [1020]\n",
      "BFKVEGAOTNYIHXZRMCJLDSUPWQ\n"
     ]
    }
   ],
   "source": [
    "import re\n",
    "\n",
    "f = Input('07').readlines()\n",
    "\n",
    "instructions = {}\n",
    "finished = []\n",
    "t = 0\n",
    "\n",
    "for e in list(f):\n",
    "    x = re.match(r'Step (\\S+) must be finished before step (\\S+) can begin.', e)\n",
    "    if x.group(1) not in instructions:\n",
    "        instructions[x.group(1)] = ['']\n",
    "    if x.group(2) not in instructions:\n",
    "        instructions[x.group(2)] = []\n",
    "    if x.group(1) not in instructions[x.group(2)]:\n",
    "        instructions[x.group(2)].append(x.group(1))\n",
    "\n",
    "workers = []\n",
    "timers = []\n",
    "        \n",
    "while len(instructions) > 0:\n",
    "    print(str(t) + \": \" + str(finished))\n",
    "    lst = []\n",
    "    for key in sorted(instructions):\n",
    "        add = 1\n",
    "        for value in instructions[key]:\n",
    "            if value in finished or value == '':\n",
    "                pass\n",
    "            else:\n",
    "                add -= 1\n",
    "        if add == 1:\n",
    "            lst.append(key)\n",
    "    for e in lst:\n",
    "        if len(workers) < 5:\n",
    "            workers.append(e)\n",
    "            timers.append(t + ord(e) - 4)\n",
    "            instructions.pop(e)\n",
    "    print(str(t) + \": \" + str(workers) + \", \" + str(timers))\n",
    "\n",
    "    t = min(timers)\n",
    "    for e in timers:\n",
    "        if e == t:\n",
    "            finished.append(workers.pop(timers.index(e)))\n",
    "            timers.pop(timers.index(e))\n",
    "            \n",
    "print(''.join(finished))   "
   ]
  },
  {
   "cell_type": "code",
   "execution_count": null,
   "metadata": {},
   "outputs": [],
   "source": []
  },
  {
   "cell_type": "code",
   "execution_count": null,
   "metadata": {},
   "outputs": [],
   "source": []
  }
 ],
 "metadata": {
  "kernelspec": {
   "display_name": "Python 3",
   "language": "python",
   "name": "python3"
  },
  "language_info": {
   "codemirror_mode": {
    "name": "ipython",
    "version": 3
   },
   "file_extension": ".py",
   "mimetype": "text/x-python",
   "name": "python",
   "nbconvert_exporter": "python",
   "pygments_lexer": "ipython3",
   "version": "3.7.0"
  }
 },
 "nbformat": 4,
 "nbformat_minor": 2
}

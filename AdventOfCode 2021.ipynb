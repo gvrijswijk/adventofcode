{
 "cells": [
  {
   "cell_type": "code",
   "execution_count": 1,
   "id": "8cbdfef0",
   "metadata": {},
   "outputs": [],
   "source": [
    "import re\n",
    "\n",
    "def Input(day, year=2021):\n",
    "    directory = '{}'.format(year)\n",
    "    filename = directory + '/input{}.txt'.format(day)\n",
    "    return open(filename)"
   ]
  },
  {
   "cell_type": "markdown",
   "id": "3ce634d8",
   "metadata": {},
   "source": [
    "## [Day 1](https://adventofcode.com/2021/day/1)"
   ]
  },
  {
   "cell_type": "code",
   "execution_count": 2,
   "id": "87f51c4d",
   "metadata": {},
   "outputs": [],
   "source": [
    "def times_depth_increased(i):\n",
    "    return [1 if e[0] > e[1] else 0 for e in list(zip(i[1:], i[:-1]))]"
   ]
  },
  {
   "cell_type": "code",
   "execution_count": 3,
   "id": "e27d53e9",
   "metadata": {},
   "outputs": [
    {
     "data": {
      "text/plain": [
       "7"
      ]
     },
     "execution_count": 3,
     "metadata": {},
     "output_type": "execute_result"
    }
   ],
   "source": [
    "i = [199, 200, 208, 210, 200, 207, 240, 269, 260, 263]\n",
    "\n",
    "sum(times_depth_increased(i))"
   ]
  },
  {
   "cell_type": "code",
   "execution_count": 4,
   "id": "f8fdf09e",
   "metadata": {},
   "outputs": [
    {
     "data": {
      "text/plain": [
       "1184"
      ]
     },
     "execution_count": 4,
     "metadata": {},
     "output_type": "execute_result"
    }
   ],
   "source": [
    "i = [int(e) for e in Input('01').readlines()]\n",
    "\n",
    "sum(times_depth_increased(i))"
   ]
  },
  {
   "cell_type": "code",
   "execution_count": 5,
   "id": "4e0c99d0",
   "metadata": {},
   "outputs": [],
   "source": [
    "def times_depth_increased(i, avg=3):\n",
    "    l = []\n",
    "    for a in range(avg):\n",
    "        if a == 0:\n",
    "            l.append(i)\n",
    "        else:\n",
    "            l.append(i[a:])\n",
    "    l = [sum(e) for e in zip(*l)]\n",
    "    return [1 if e[1] > e[0] else 0 for e in list(zip(l, l[1:]))]"
   ]
  },
  {
   "cell_type": "code",
   "execution_count": 6,
   "id": "1a810e05",
   "metadata": {},
   "outputs": [
    {
     "data": {
      "text/plain": [
       "5"
      ]
     },
     "execution_count": 6,
     "metadata": {},
     "output_type": "execute_result"
    }
   ],
   "source": [
    "i = [199, 200, 208, 210, 200, 207, 240, 269, 260, 263]\n",
    "\n",
    "sum(times_depth_increased(i))"
   ]
  },
  {
   "cell_type": "code",
   "execution_count": 7,
   "id": "5db89957",
   "metadata": {},
   "outputs": [
    {
     "data": {
      "text/plain": [
       "1158"
      ]
     },
     "execution_count": 7,
     "metadata": {},
     "output_type": "execute_result"
    }
   ],
   "source": [
    "i = [int(e) for e in Input('01').readlines()]\n",
    "\n",
    "sum(times_depth_increased(i))"
   ]
  },
  {
   "cell_type": "markdown",
   "id": "3c4a79d1",
   "metadata": {},
   "source": [
    "## [Day 2](https://adventofcode.com/2021/day/2)"
   ]
  },
  {
   "cell_type": "code",
   "execution_count": 8,
   "id": "07fd1a76",
   "metadata": {},
   "outputs": [
    {
     "data": {
      "text/plain": [
       "150"
      ]
     },
     "execution_count": 8,
     "metadata": {},
     "output_type": "execute_result"
    }
   ],
   "source": [
    "i = \"forward 5\\ndown 5\\nforward 8\\nup 3\\ndown 8\\nforward 2\"\n",
    "\n",
    "x, y = 0, 0\n",
    "\n",
    "d = re.findall(r'(\\w+) (\\d+)', i)\n",
    "\n",
    "for e in d:\n",
    "    if e[0] == 'forward':\n",
    "        x += int(e[1])\n",
    "    elif e[0] == 'down':\n",
    "        y += int(e[1])\n",
    "    else:\n",
    "        y += -int(e[1])\n",
    "        \n",
    "x * y"
   ]
  },
  {
   "cell_type": "code",
   "execution_count": 9,
   "id": "a10f666a",
   "metadata": {},
   "outputs": [
    {
     "data": {
      "text/plain": [
       "1690020"
      ]
     },
     "execution_count": 9,
     "metadata": {},
     "output_type": "execute_result"
    }
   ],
   "source": [
    "i = Input('02').read()\n",
    "\n",
    "x, y = 0, 0\n",
    "\n",
    "d = re.findall(r'(\\w+) (\\d+)', i)\n",
    "\n",
    "for e in d:\n",
    "    if e[0] == 'forward':\n",
    "        x += int(e[1])\n",
    "    elif e[0] == 'down':\n",
    "        y += int(e[1])\n",
    "    else:\n",
    "        y += -int(e[1])\n",
    "        \n",
    "x * y"
   ]
  },
  {
   "cell_type": "code",
   "execution_count": 10,
   "id": "c9de3e02",
   "metadata": {},
   "outputs": [
    {
     "data": {
      "text/plain": [
       "900"
      ]
     },
     "execution_count": 10,
     "metadata": {},
     "output_type": "execute_result"
    }
   ],
   "source": [
    "i = \"forward 5\\ndown 5\\nforward 8\\nup 3\\ndown 8\\nforward 2\"\n",
    "\n",
    "x, y, aim = 0, 0, 0\n",
    "\n",
    "d = re.findall(r'(\\w+) (\\d+)', i)\n",
    "\n",
    "for e in d:\n",
    "    if e[0] == 'forward':\n",
    "        x += int(e[1])\n",
    "        y += aim * int(e[1])\n",
    "    elif e[0] == 'down':\n",
    "        aim += int(e[1])\n",
    "    else:\n",
    "        aim += -int(e[1])\n",
    "        \n",
    "x * y"
   ]
  },
  {
   "cell_type": "code",
   "execution_count": 11,
   "id": "0d169438",
   "metadata": {},
   "outputs": [
    {
     "data": {
      "text/plain": [
       "1408487760"
      ]
     },
     "execution_count": 11,
     "metadata": {},
     "output_type": "execute_result"
    }
   ],
   "source": [
    "i = Input('02').read()\n",
    "\n",
    "x, y, aim = 0, 0, 0\n",
    "\n",
    "d = re.findall(r'(\\w+) (\\d+)', i)\n",
    "\n",
    "for e in d:\n",
    "    if e[0] == 'forward':\n",
    "        x += int(e[1])\n",
    "        y += aim * int(e[1])\n",
    "    elif e[0] == 'down':\n",
    "        aim += int(e[1])\n",
    "    else:\n",
    "        aim += -int(e[1])\n",
    "        \n",
    "x * y"
   ]
  },
  {
   "cell_type": "markdown",
   "id": "aae7ccfc",
   "metadata": {},
   "source": [
    "## [Day 3](https://adventofcode.com/2021/day/3)"
   ]
  },
  {
   "cell_type": "code",
   "execution_count": 35,
   "id": "d80d4d4d",
   "metadata": {},
   "outputs": [
    {
     "data": {
      "text/plain": [
       "198"
      ]
     },
     "execution_count": 35,
     "metadata": {},
     "output_type": "execute_result"
    }
   ],
   "source": [
    "i = \"00100\\n11110\\n10110\\n10111\\n10101\\n01111\\n00111\\n11100\\n10000\\n11001\\n00010\\n01010\"\n",
    "\n",
    "def gamma_rate(i):\n",
    "    gamma = \"\"\n",
    "    i = [list(e) for e in i.strip().split('\\n')]\n",
    "    for e in zip(*i):\n",
    "        if e.count('1') > len(e) / 2:\n",
    "            gamma += '1'\n",
    "        else:\n",
    "            gamma += '0'\n",
    "    return gamma\n",
    "\n",
    "def epsilon_rate(i):\n",
    "    epsilon = \"\"\n",
    "    gamma = gamma_rate(i)\n",
    "    for e in gamma:\n",
    "        if e == '0':\n",
    "            epsilon += '1'\n",
    "        else:\n",
    "            epsilon += '0'\n",
    "    return epsilon\n",
    "\n",
    "def binaryToDecimal(n):\n",
    "    return int(n,2)\n",
    "\n",
    "binaryToDecimal(epsilon_rate(i)) * binaryToDecimal(gamma_rate(i))"
   ]
  },
  {
   "cell_type": "code",
   "execution_count": 36,
   "id": "7e6794ca",
   "metadata": {},
   "outputs": [
    {
     "data": {
      "text/plain": [
       "749376"
      ]
     },
     "execution_count": 36,
     "metadata": {},
     "output_type": "execute_result"
    }
   ],
   "source": [
    "i = Input('03').read()\n",
    "\n",
    "binaryToDecimal(epsilon_rate(i)) * binaryToDecimal(gamma_rate(i))"
   ]
  },
  {
   "cell_type": "code",
   "execution_count": 77,
   "id": "1064f74a",
   "metadata": {},
   "outputs": [
    {
     "data": {
      "text/plain": [
       "230"
      ]
     },
     "execution_count": 77,
     "metadata": {},
     "output_type": "execute_result"
    }
   ],
   "source": [
    "i = \"00100\\n11110\\n10110\\n10111\\n10101\\n01111\\n00111\\n11100\\n10000\\n11001\\n00010\\n01010\"\n",
    "\n",
    "def oxygen_generator_rating(i):\n",
    "    i = [list(e) for e in i.strip().split('\\n')]\n",
    "    c = -1\n",
    "    while len(i) > 1:\n",
    "        c += 1\n",
    "        j = []\n",
    "        if list(zip(*i))[c].count('1') < len(list(zip(*i))[c])/2:\n",
    "            for e in i:\n",
    "                if e[c] == '0':\n",
    "                    j.append(e)\n",
    "        else:\n",
    "            for e in i:\n",
    "                if e[c] == '1':\n",
    "                    j.append(e)\n",
    "        i = j\n",
    "\n",
    "    return(''.join(i[0]))\n",
    "\n",
    "def co2_scrubber_rating(i):\n",
    "    i = [list(e) for e in i.strip().split('\\n')]\n",
    "    c = -1\n",
    "    while len(i) > 1:\n",
    "        c += 1\n",
    "        j = []\n",
    "        if list(zip(*i))[c].count('1') < len(list(zip(*i))[c])/2:\n",
    "            for e in i:\n",
    "                if e[c] == '1':\n",
    "                    j.append(e)\n",
    "        else:\n",
    "            for e in i:\n",
    "                if e[c] == '0':\n",
    "                    j.append(e)\n",
    "        i = j\n",
    "\n",
    "    return(''.join(i[0]))\n",
    "\n",
    "binaryToDecimal(oxygen_generator_rating(i)) * binaryToDecimal(co2_scrubber_rating(i))"
   ]
  },
  {
   "cell_type": "code",
   "execution_count": 78,
   "id": "ff7aa0ff",
   "metadata": {},
   "outputs": [
    {
     "data": {
      "text/plain": [
       "2372923"
      ]
     },
     "execution_count": 78,
     "metadata": {},
     "output_type": "execute_result"
    }
   ],
   "source": [
    "i = Input('03').read()\n",
    "\n",
    "binaryToDecimal(oxygen_generator_rating(i)) * binaryToDecimal(co2_scrubber_rating(i))"
   ]
  },
  {
   "cell_type": "markdown",
   "id": "8056e98b",
   "metadata": {},
   "source": [
    "## [Day 4](https://adventofcode.com/2021/day/4)"
   ]
  },
  {
   "cell_type": "code",
   "execution_count": null,
   "id": "0e0ca506",
   "metadata": {},
   "outputs": [],
   "source": []
  }
 ],
 "metadata": {
  "kernelspec": {
   "display_name": "Python 3 (ipykernel)",
   "language": "python",
   "name": "python3"
  },
  "language_info": {
   "codemirror_mode": {
    "name": "ipython",
    "version": 3
   },
   "file_extension": ".py",
   "mimetype": "text/x-python",
   "name": "python",
   "nbconvert_exporter": "python",
   "pygments_lexer": "ipython3",
   "version": "3.9.7"
  }
 },
 "nbformat": 4,
 "nbformat_minor": 5
}

{
 "cells": [
  {
   "cell_type": "code",
   "execution_count": 1,
   "id": "8cbdfef0",
   "metadata": {},
   "outputs": [],
   "source": [
    "import re\n",
    "\n",
    "def Input(day, year=2021):\n",
    "    directory = '{}'.format(year)\n",
    "    filename = directory + '/input{}.txt'.format(day)\n",
    "    return open(filename)"
   ]
  },
  {
   "cell_type": "markdown",
   "id": "3ce634d8",
   "metadata": {},
   "source": [
    "## [Day 1](https://adventofcode.com/2021/day/1)"
   ]
  },
  {
   "cell_type": "code",
   "execution_count": 2,
   "id": "87f51c4d",
   "metadata": {},
   "outputs": [],
   "source": [
    "def times_depth_increased(i):\n",
    "    return [1 if e[0] > e[1] else 0 for e in list(zip(i[1:], i[:-1]))]"
   ]
  },
  {
   "cell_type": "code",
   "execution_count": 3,
   "id": "e27d53e9",
   "metadata": {},
   "outputs": [
    {
     "data": {
      "text/plain": [
       "7"
      ]
     },
     "execution_count": 3,
     "metadata": {},
     "output_type": "execute_result"
    }
   ],
   "source": [
    "i = [199, 200, 208, 210, 200, 207, 240, 269, 260, 263]\n",
    "\n",
    "sum(times_depth_increased(i))"
   ]
  },
  {
   "cell_type": "code",
   "execution_count": 4,
   "id": "f8fdf09e",
   "metadata": {},
   "outputs": [
    {
     "data": {
      "text/plain": [
       "1184"
      ]
     },
     "execution_count": 4,
     "metadata": {},
     "output_type": "execute_result"
    }
   ],
   "source": [
    "i = [int(e) for e in Input('01').readlines()]\n",
    "\n",
    "sum(times_depth_increased(i))"
   ]
  },
  {
   "cell_type": "code",
   "execution_count": 5,
   "id": "4e0c99d0",
   "metadata": {},
   "outputs": [],
   "source": [
    "def times_depth_increased(i, avg=3):\n",
    "    l = []\n",
    "    for a in range(avg):\n",
    "        if a == 0:\n",
    "            l.append(i)\n",
    "        else:\n",
    "            l.append(i[a:])\n",
    "    l = [sum(e) for e in zip(*l)]\n",
    "    return [1 if e[1] > e[0] else 0 for e in list(zip(l, l[1:]))]"
   ]
  },
  {
   "cell_type": "code",
   "execution_count": 6,
   "id": "1a810e05",
   "metadata": {},
   "outputs": [
    {
     "data": {
      "text/plain": [
       "5"
      ]
     },
     "execution_count": 6,
     "metadata": {},
     "output_type": "execute_result"
    }
   ],
   "source": [
    "i = [199, 200, 208, 210, 200, 207, 240, 269, 260, 263]\n",
    "\n",
    "sum(times_depth_increased(i))"
   ]
  },
  {
   "cell_type": "code",
   "execution_count": 7,
   "id": "5db89957",
   "metadata": {},
   "outputs": [
    {
     "data": {
      "text/plain": [
       "1158"
      ]
     },
     "execution_count": 7,
     "metadata": {},
     "output_type": "execute_result"
    }
   ],
   "source": [
    "i = [int(e) for e in Input('01').readlines()]\n",
    "\n",
    "sum(times_depth_increased(i))"
   ]
  },
  {
   "cell_type": "markdown",
   "id": "3c4a79d1",
   "metadata": {},
   "source": [
    "## [Day 2](https://adventofcode.com/2021/day/2)"
   ]
  },
  {
   "cell_type": "code",
   "execution_count": 8,
   "id": "07fd1a76",
   "metadata": {},
   "outputs": [
    {
     "data": {
      "text/plain": [
       "150"
      ]
     },
     "execution_count": 8,
     "metadata": {},
     "output_type": "execute_result"
    }
   ],
   "source": [
    "i = \"forward 5\\ndown 5\\nforward 8\\nup 3\\ndown 8\\nforward 2\"\n",
    "\n",
    "x, y = 0, 0\n",
    "\n",
    "d = re.findall(r'(\\w+) (\\d+)', i)\n",
    "\n",
    "for e in d:\n",
    "    if e[0] == 'forward':\n",
    "        x += int(e[1])\n",
    "    elif e[0] == 'down':\n",
    "        y += int(e[1])\n",
    "    else:\n",
    "        y += -int(e[1])\n",
    "        \n",
    "x * y"
   ]
  },
  {
   "cell_type": "code",
   "execution_count": 9,
   "id": "a10f666a",
   "metadata": {},
   "outputs": [
    {
     "data": {
      "text/plain": [
       "1690020"
      ]
     },
     "execution_count": 9,
     "metadata": {},
     "output_type": "execute_result"
    }
   ],
   "source": [
    "i = Input('02').read()\n",
    "\n",
    "x, y = 0, 0\n",
    "\n",
    "d = re.findall(r'(\\w+) (\\d+)', i)\n",
    "\n",
    "for e in d:\n",
    "    if e[0] == 'forward':\n",
    "        x += int(e[1])\n",
    "    elif e[0] == 'down':\n",
    "        y += int(e[1])\n",
    "    else:\n",
    "        y += -int(e[1])\n",
    "        \n",
    "x * y"
   ]
  },
  {
   "cell_type": "code",
   "execution_count": 10,
   "id": "c9de3e02",
   "metadata": {},
   "outputs": [
    {
     "data": {
      "text/plain": [
       "900"
      ]
     },
     "execution_count": 10,
     "metadata": {},
     "output_type": "execute_result"
    }
   ],
   "source": [
    "i = \"forward 5\\ndown 5\\nforward 8\\nup 3\\ndown 8\\nforward 2\"\n",
    "\n",
    "x, y, aim = 0, 0, 0\n",
    "\n",
    "d = re.findall(r'(\\w+) (\\d+)', i)\n",
    "\n",
    "for e in d:\n",
    "    if e[0] == 'forward':\n",
    "        x += int(e[1])\n",
    "        y += aim * int(e[1])\n",
    "    elif e[0] == 'down':\n",
    "        aim += int(e[1])\n",
    "    else:\n",
    "        aim += -int(e[1])\n",
    "        \n",
    "x * y"
   ]
  },
  {
   "cell_type": "code",
   "execution_count": 11,
   "id": "0d169438",
   "metadata": {},
   "outputs": [
    {
     "data": {
      "text/plain": [
       "1408487760"
      ]
     },
     "execution_count": 11,
     "metadata": {},
     "output_type": "execute_result"
    }
   ],
   "source": [
    "i = Input('02').read()\n",
    "\n",
    "x, y, aim = 0, 0, 0\n",
    "\n",
    "d = re.findall(r'(\\w+) (\\d+)', i)\n",
    "\n",
    "for e in d:\n",
    "    if e[0] == 'forward':\n",
    "        x += int(e[1])\n",
    "        y += aim * int(e[1])\n",
    "    elif e[0] == 'down':\n",
    "        aim += int(e[1])\n",
    "    else:\n",
    "        aim += -int(e[1])\n",
    "        \n",
    "x * y"
   ]
  },
  {
   "cell_type": "markdown",
   "id": "aae7ccfc",
   "metadata": {},
   "source": [
    "## [Day 3](https://adventofcode.com/2021/day/3)"
   ]
  },
  {
   "cell_type": "code",
   "execution_count": 12,
   "id": "d80d4d4d",
   "metadata": {},
   "outputs": [
    {
     "data": {
      "text/plain": [
       "198"
      ]
     },
     "execution_count": 12,
     "metadata": {},
     "output_type": "execute_result"
    }
   ],
   "source": [
    "i = \"00100\\n11110\\n10110\\n10111\\n10101\\n01111\\n00111\\n11100\\n10000\\n11001\\n00010\\n01010\"\n",
    "\n",
    "def gamma_rate(i):\n",
    "    gamma = \"\"\n",
    "    i = [list(e) for e in i.strip().split('\\n')]\n",
    "    for e in zip(*i):\n",
    "        if e.count('1') > len(e) / 2:\n",
    "            gamma += '1'\n",
    "        else:\n",
    "            gamma += '0'\n",
    "    return gamma\n",
    "\n",
    "def epsilon_rate(i):\n",
    "    epsilon = \"\"\n",
    "    gamma = gamma_rate(i)\n",
    "    for e in gamma:\n",
    "        if e == '0':\n",
    "            epsilon += '1'\n",
    "        else:\n",
    "            epsilon += '0'\n",
    "    return epsilon\n",
    "\n",
    "def binaryToDecimal(n):\n",
    "    return int(n,2)\n",
    "\n",
    "binaryToDecimal(epsilon_rate(i)) * binaryToDecimal(gamma_rate(i))"
   ]
  },
  {
   "cell_type": "code",
   "execution_count": 13,
   "id": "7e6794ca",
   "metadata": {},
   "outputs": [
    {
     "data": {
      "text/plain": [
       "749376"
      ]
     },
     "execution_count": 13,
     "metadata": {},
     "output_type": "execute_result"
    }
   ],
   "source": [
    "i = Input('03').read()\n",
    "\n",
    "binaryToDecimal(epsilon_rate(i)) * binaryToDecimal(gamma_rate(i))"
   ]
  },
  {
   "cell_type": "code",
   "execution_count": 14,
   "id": "1064f74a",
   "metadata": {},
   "outputs": [
    {
     "data": {
      "text/plain": [
       "230"
      ]
     },
     "execution_count": 14,
     "metadata": {},
     "output_type": "execute_result"
    }
   ],
   "source": [
    "i = \"00100\\n11110\\n10110\\n10111\\n10101\\n01111\\n00111\\n11100\\n10000\\n11001\\n00010\\n01010\"\n",
    "\n",
    "def oxygen_generator_rating(i):\n",
    "    i = [list(e) for e in i.strip().split('\\n')]\n",
    "    c = -1\n",
    "    while len(i) > 1:\n",
    "        c += 1\n",
    "        j = []\n",
    "        if list(zip(*i))[c].count('1') < len(list(zip(*i))[c])/2:\n",
    "            for e in i:\n",
    "                if e[c] == '0':\n",
    "                    j.append(e)\n",
    "        else:\n",
    "            for e in i:\n",
    "                if e[c] == '1':\n",
    "                    j.append(e)\n",
    "        i = j\n",
    "\n",
    "    return(''.join(i[0]))\n",
    "\n",
    "def co2_scrubber_rating(i):\n",
    "    i = [list(e) for e in i.strip().split('\\n')]\n",
    "    c = -1\n",
    "    while len(i) > 1:\n",
    "        c += 1\n",
    "        j = []\n",
    "        if list(zip(*i))[c].count('1') < len(list(zip(*i))[c])/2:\n",
    "            for e in i:\n",
    "                if e[c] == '1':\n",
    "                    j.append(e)\n",
    "        else:\n",
    "            for e in i:\n",
    "                if e[c] == '0':\n",
    "                    j.append(e)\n",
    "        i = j\n",
    "\n",
    "    return(''.join(i[0]))\n",
    "\n",
    "binaryToDecimal(oxygen_generator_rating(i)) * binaryToDecimal(co2_scrubber_rating(i))"
   ]
  },
  {
   "cell_type": "code",
   "execution_count": 15,
   "id": "ff7aa0ff",
   "metadata": {},
   "outputs": [
    {
     "data": {
      "text/plain": [
       "2372923"
      ]
     },
     "execution_count": 15,
     "metadata": {},
     "output_type": "execute_result"
    }
   ],
   "source": [
    "i = Input('03').read()\n",
    "\n",
    "binaryToDecimal(oxygen_generator_rating(i)) * binaryToDecimal(co2_scrubber_rating(i))"
   ]
  },
  {
   "cell_type": "markdown",
   "id": "8056e98b",
   "metadata": {},
   "source": [
    "## [Day 4](https://adventofcode.com/2021/day/4)"
   ]
  },
  {
   "cell_type": "code",
   "execution_count": 16,
   "id": "0e0ca506",
   "metadata": {
    "scrolled": true
   },
   "outputs": [
    {
     "data": {
      "text/plain": [
       "4512"
      ]
     },
     "execution_count": 16,
     "metadata": {},
     "output_type": "execute_result"
    }
   ],
   "source": [
    "i = '7,4,9,5,11,17,23,2,0,14,21,24,10,16,13,6,15,25,12,22,18,20,8,19,3,26,1\\n\\n22 13 17 11  0\\n 8  2 23  4 24\\n21  9 14 16  7\\n 6 10  3 18  5\\n 1 12 20 15 19\\n\\n 3 15  0  2 22\\n 9 18 13 17  5\\n19  8  7 25 23\\n20 11 10 24  4\\n14 21 16 12  6\\n\\n14 21 17 24  4\\n10 16 15  9 19\\n18  8 23 26 20\\n22 11 13  6  5\\n 2  0 12  3  7\\n\\n'\n",
    "\n",
    "def _parser(i):\n",
    "    i = i.strip().split('\\n\\n')\n",
    "    numbers = [int(e) for e in i[0].split(',')]\n",
    "    tickets = []\n",
    "    for e in i[1:]:\n",
    "        tickets.append([])\n",
    "        tickets[-1] = [int(e) for e in re.findall(r'\\d+',e)]\n",
    "    return numbers, tickets\n",
    "\n",
    "def _scorecard(i, j):\n",
    "    return [j.index(e) for e in i]\n",
    "\n",
    "def _slicecard(i):\n",
    "    slices = []\n",
    "    for j in range(5):\n",
    "        slices.append(i[j*5:j*5+5])\n",
    "    slices += list(zip(*slices))\n",
    "    return slices\n",
    "\n",
    "def _score(i, j, k):\n",
    "    for number in k[:j+1]:\n",
    "        try:\n",
    "            i.remove(number)\n",
    "        except:\n",
    "            pass\n",
    "    return k[j] * sum(i)\n",
    "        \n",
    "\n",
    "def bestbingo(i):\n",
    "    numbers, tickets = _parser(i)\n",
    "    best = 0\n",
    "    for nr, ticket in enumerate(tickets):\n",
    "        scorecard = _scorecard(ticket, numbers)\n",
    "        scorecard = _slicecard(scorecard)\n",
    "        score = min([max(e) for e in scorecard])\n",
    "        if score < best or best == 0:\n",
    "            best_ticket = ticket\n",
    "            best = score\n",
    "    return _score(best_ticket, best, numbers)\n",
    "\n",
    "bestbingo(i)"
   ]
  },
  {
   "cell_type": "code",
   "execution_count": 17,
   "id": "0a3a2a22",
   "metadata": {},
   "outputs": [
    {
     "data": {
      "text/plain": [
       "5685"
      ]
     },
     "execution_count": 17,
     "metadata": {},
     "output_type": "execute_result"
    }
   ],
   "source": [
    "i = Input('04').read()\n",
    "\n",
    "bestbingo(i)"
   ]
  },
  {
   "cell_type": "code",
   "execution_count": 18,
   "id": "2d456074",
   "metadata": {},
   "outputs": [
    {
     "data": {
      "text/plain": [
       "1924"
      ]
     },
     "execution_count": 18,
     "metadata": {},
     "output_type": "execute_result"
    }
   ],
   "source": [
    "def worstbingo(i):\n",
    "    numbers, tickets = _parser(i)\n",
    "    worst = 0\n",
    "    for nr, ticket in enumerate(tickets):\n",
    "        scorecard = _scorecard(ticket, numbers)\n",
    "        scorecard = _slicecard(scorecard)\n",
    "        score = min([max(e) for e in scorecard])\n",
    "        if score > worst:\n",
    "            worst_ticket = ticket\n",
    "            worst = score\n",
    "    return _score(worst_ticket, worst, numbers)\n",
    "\n",
    "i = '7,4,9,5,11,17,23,2,0,14,21,24,10,16,13,6,15,25,12,22,18,20,8,19,3,26,1\\n\\n22 13 17 11  0\\n 8  2 23  4 24\\n21  9 14 16  7\\n 6 10  3 18  5\\n 1 12 20 15 19\\n\\n 3 15  0  2 22\\n 9 18 13 17  5\\n19  8  7 25 23\\n20 11 10 24  4\\n14 21 16 12  6\\n\\n14 21 17 24  4\\n10 16 15  9 19\\n18  8 23 26 20\\n22 11 13  6  5\\n 2  0 12  3  7\\n\\n'\n",
    "\n",
    "worstbingo(i)"
   ]
  },
  {
   "cell_type": "code",
   "execution_count": 19,
   "id": "5ccbf021",
   "metadata": {},
   "outputs": [
    {
     "data": {
      "text/plain": [
       "21070"
      ]
     },
     "execution_count": 19,
     "metadata": {},
     "output_type": "execute_result"
    }
   ],
   "source": [
    "i = Input('04').read()\n",
    "\n",
    "worstbingo(i)"
   ]
  },
  {
   "cell_type": "markdown",
   "id": "981e772c",
   "metadata": {},
   "source": [
    "## [Day 5](https://adventofcode.com/2021/day/5)"
   ]
  },
  {
   "cell_type": "code",
   "execution_count": 20,
   "id": "a24f8bea",
   "metadata": {},
   "outputs": [
    {
     "data": {
      "text/plain": [
       "5"
      ]
     },
     "execution_count": 20,
     "metadata": {},
     "output_type": "execute_result"
    }
   ],
   "source": [
    "i = \"0,9 -> 5,9\\n8,0 -> 0,8\\n9,4 -> 3,4\\n2,2 -> 2,1\\n7,0 -> 7,4\\n6,4 -> 2,0\\n0,9 -> 2,9\\n3,4 -> 1,4\\n0,0 -> 8,8\\n5,5 -> 8,2\"\n",
    "\n",
    "points = [int(e) for e in re.findall('[0-9]+', i)]\n",
    "\n",
    "grid = {}\n",
    "    \n",
    "for j in range(0, len(points), 4):\n",
    "    x1, y1, x2, y2 = points[j:j + 4]\n",
    "    if x1 != x2 and y1 !=y2:\n",
    "        pass\n",
    "    elif x1 == x2:\n",
    "        x = x1\n",
    "        for y in range(min(y1, y2), max(y1, y2) + 1):\n",
    "            xy = str(x) + ',' + str(y)\n",
    "            if xy not in grid:\n",
    "                grid[xy] = 1\n",
    "            else:\n",
    "                grid[xy] += 1\n",
    "    else:\n",
    "        y = y1\n",
    "        for x in range(min(x1, x2), max(x1, x2) + 1):\n",
    "            xy = str(x) + ',' + str(y)\n",
    "            if xy not in grid:\n",
    "                grid[xy] = 1\n",
    "            else:\n",
    "                grid[xy] += 1\n",
    "sum([1 if e > 1 else 0 for e in grid.values()])"
   ]
  },
  {
   "cell_type": "code",
   "execution_count": 21,
   "id": "e89fffb5",
   "metadata": {},
   "outputs": [
    {
     "data": {
      "text/plain": [
       "7380"
      ]
     },
     "execution_count": 21,
     "metadata": {},
     "output_type": "execute_result"
    }
   ],
   "source": [
    "i = Input('05').read()\n",
    "\n",
    "points = [int(e) for e in re.findall('[0-9]+', i)]\n",
    "\n",
    "grid = {}\n",
    "    \n",
    "for j in range(0, len(points), 4):\n",
    "    x1, y1, x2, y2 = points[j:j + 4]\n",
    "    if x1 != x2 and y1 !=y2:\n",
    "        pass\n",
    "    elif x1 == x2:\n",
    "        x = x1\n",
    "        for y in range(min(y1, y2), max(y1, y2) + 1):\n",
    "            xy = str(x) + ',' + str(y)\n",
    "            if xy not in grid:\n",
    "                grid[xy] = 1\n",
    "            else:\n",
    "                grid[xy] += 1\n",
    "    else:\n",
    "        y = y1\n",
    "        for x in range(min(x1, x2), max(x1, x2) + 1):\n",
    "            xy = str(x) + ',' + str(y)\n",
    "            if xy not in grid:\n",
    "                grid[xy] = 1\n",
    "            else:\n",
    "                grid[xy] += 1\n",
    "sum([1 if e > 1 else 0 for e in grid.values()])"
   ]
  },
  {
   "cell_type": "code",
   "execution_count": 23,
   "id": "668ab299",
   "metadata": {},
   "outputs": [
    {
     "data": {
      "text/plain": [
       "12"
      ]
     },
     "execution_count": 23,
     "metadata": {},
     "output_type": "execute_result"
    }
   ],
   "source": [
    "i = \"0,9 -> 5,9\\n8,0 -> 0,8\\n9,4 -> 3,4\\n2,2 -> 2,1\\n7,0 -> 7,4\\n6,4 -> 2,0\\n0,9 -> 2,9\\n3,4 -> 1,4\\n0,0 -> 8,8\\n5,5 -> 8,2\"\n",
    "\n",
    "i = [int(e) for e in re.findall('[0-9]+', i)]\n",
    "\n",
    "grid = {}\n",
    "    \n",
    "for j in range(0, len(i), 4):\n",
    "    x1, y1, x2, y2 = i[j:j + 4]\n",
    "    if abs(x1-x2) == abs(y1-y2):\n",
    "        if x1 > x2:\n",
    "            x1, x2, y1, y2 = x2, x1, y2, y1\n",
    "        x = [e for e in range(x1, x2 + 1)]\n",
    "        if y1 > y2:\n",
    "            y = [e for e in range(y1, y2, -1)] + [y2]    \n",
    "        else:\n",
    "            y = [e for e in range(y1, y2 + 1)]\n",
    "        points = list(zip(x, y))\n",
    "        for point in points:\n",
    "            xy = str(point[0]) + ',' + str(point[1])\n",
    "            if xy not in grid:\n",
    "                grid[xy] = 1\n",
    "            else:\n",
    "                grid[xy] += 1  \n",
    "    elif x1 == x2:\n",
    "        x = x1\n",
    "        for y in range(min(y1, y2), max(y1, y2) + 1):\n",
    "            xy = str(x) + ',' + str(y)\n",
    "            if xy not in grid:\n",
    "                grid[xy] = 1\n",
    "            else:\n",
    "                grid[xy] += 1\n",
    "    elif y1 == y2:\n",
    "        y = y1\n",
    "        for x in range(min(x1, x2), max(x1, x2) + 1):\n",
    "            xy = str(x) + ',' + str(y)\n",
    "            if xy not in grid:\n",
    "                grid[xy] = 1\n",
    "            else:\n",
    "                grid[xy] += 1\n",
    "\n",
    "sum([1 if e > 1 else 0 for e in grid.values()])"
   ]
  },
  {
   "cell_type": "code",
   "execution_count": 24,
   "id": "9df8383e",
   "metadata": {},
   "outputs": [
    {
     "data": {
      "text/plain": [
       "21373"
      ]
     },
     "execution_count": 24,
     "metadata": {},
     "output_type": "execute_result"
    }
   ],
   "source": [
    "i = \"0,9 -> 5,9\\n8,0 -> 0,8\\n9,4 -> 3,4\\n2,2 -> 2,1\\n7,0 -> 7,4\\n6,4 -> 2,0\\n0,9 -> 2,9\\n3,4 -> 1,4\\n0,0 -> 8,8\\n5,5 -> 8,2\"\n",
    "\n",
    "i = Input('05').read()\n",
    "\n",
    "i = [int(e) for e in re.findall('[0-9]+', i)]\n",
    "\n",
    "grid = {}\n",
    "    \n",
    "for j in range(0, len(i), 4):\n",
    "    x1, y1, x2, y2 = i[j:j + 4]\n",
    "    if abs(x1-x2) == abs(y1-y2):\n",
    "        if x1 > x2:\n",
    "            x1, x2, y1, y2 = x2, x1, y2, y1\n",
    "        x = [e for e in range(x1, x2 + 1)]\n",
    "        if y1 > y2:\n",
    "            y = [e for e in range(y1, y2, -1)] + [y2]    \n",
    "        else:\n",
    "            y = [e for e in range(y1, y2 + 1)]\n",
    "        points = list(zip(x, y))\n",
    "        for point in points:\n",
    "            xy = str(point[0]) + ',' + str(point[1])\n",
    "            if xy not in grid:\n",
    "                grid[xy] = 1\n",
    "            else:\n",
    "                grid[xy] += 1  \n",
    "    elif x1 == x2:\n",
    "        x = x1\n",
    "        for y in range(min(y1, y2), max(y1, y2) + 1):\n",
    "            xy = str(x) + ',' + str(y)\n",
    "            if xy not in grid:\n",
    "                grid[xy] = 1\n",
    "            else:\n",
    "                grid[xy] += 1\n",
    "    elif y1 == y2:\n",
    "        y = y1\n",
    "        for x in range(min(x1, x2), max(x1, x2) + 1):\n",
    "            xy = str(x) + ',' + str(y)\n",
    "            if xy not in grid:\n",
    "                grid[xy] = 1\n",
    "            else:\n",
    "                grid[xy] += 1\n",
    "\n",
    "sum([1 if e > 1 else 0 for e in grid.values()])"
   ]
  }
 ],
 "metadata": {
  "kernelspec": {
   "display_name": "Python 3 (ipykernel)",
   "language": "python",
   "name": "python3"
  },
  "language_info": {
   "codemirror_mode": {
    "name": "ipython",
    "version": 3
   },
   "file_extension": ".py",
   "mimetype": "text/x-python",
   "name": "python",
   "nbconvert_exporter": "python",
   "pygments_lexer": "ipython3",
   "version": "3.9.7"
  }
 },
 "nbformat": 4,
 "nbformat_minor": 5
}

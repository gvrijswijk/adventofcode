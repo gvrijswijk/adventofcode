{
 "cells": [
  {
   "cell_type": "code",
   "execution_count": 109,
   "id": "8cbdfef0",
   "metadata": {},
   "outputs": [],
   "source": [
    "import re\n",
    "import numpy as np\n",
    "\n",
    "def Input(day, year=2021):\n",
    "    directory = '{}'.format(year)\n",
    "    filename = directory + '/input{}.txt'.format(day)\n",
    "    return open(filename)"
   ]
  },
  {
   "cell_type": "markdown",
   "id": "3ce634d8",
   "metadata": {},
   "source": [
    "## [Day 1](https://adventofcode.com/2021/day/1)"
   ]
  },
  {
   "cell_type": "code",
   "execution_count": 2,
   "id": "87f51c4d",
   "metadata": {},
   "outputs": [],
   "source": [
    "def times_depth_increased(i):\n",
    "    return [1 if e[0] > e[1] else 0 for e in list(zip(i[1:], i[:-1]))]"
   ]
  },
  {
   "cell_type": "code",
   "execution_count": 3,
   "id": "e27d53e9",
   "metadata": {},
   "outputs": [
    {
     "data": {
      "text/plain": [
       "7"
      ]
     },
     "execution_count": 3,
     "metadata": {},
     "output_type": "execute_result"
    }
   ],
   "source": [
    "i = [199, 200, 208, 210, 200, 207, 240, 269, 260, 263]\n",
    "\n",
    "sum(times_depth_increased(i))"
   ]
  },
  {
   "cell_type": "code",
   "execution_count": 4,
   "id": "f8fdf09e",
   "metadata": {},
   "outputs": [
    {
     "data": {
      "text/plain": [
       "1184"
      ]
     },
     "execution_count": 4,
     "metadata": {},
     "output_type": "execute_result"
    }
   ],
   "source": [
    "i = [int(e) for e in Input('01').readlines()]\n",
    "\n",
    "sum(times_depth_increased(i))"
   ]
  },
  {
   "cell_type": "code",
   "execution_count": 5,
   "id": "4e0c99d0",
   "metadata": {},
   "outputs": [],
   "source": [
    "def times_depth_increased(i, avg=3):\n",
    "    l = []\n",
    "    for a in range(avg):\n",
    "        if a == 0:\n",
    "            l.append(i)\n",
    "        else:\n",
    "            l.append(i[a:])\n",
    "    l = [sum(e) for e in zip(*l)]\n",
    "    return [1 if e[1] > e[0] else 0 for e in list(zip(l, l[1:]))]"
   ]
  },
  {
   "cell_type": "code",
   "execution_count": 6,
   "id": "1a810e05",
   "metadata": {},
   "outputs": [
    {
     "data": {
      "text/plain": [
       "5"
      ]
     },
     "execution_count": 6,
     "metadata": {},
     "output_type": "execute_result"
    }
   ],
   "source": [
    "i = [199, 200, 208, 210, 200, 207, 240, 269, 260, 263]\n",
    "\n",
    "sum(times_depth_increased(i))"
   ]
  },
  {
   "cell_type": "code",
   "execution_count": 7,
   "id": "5db89957",
   "metadata": {},
   "outputs": [
    {
     "data": {
      "text/plain": [
       "1158"
      ]
     },
     "execution_count": 7,
     "metadata": {},
     "output_type": "execute_result"
    }
   ],
   "source": [
    "i = [int(e) for e in Input('01').readlines()]\n",
    "\n",
    "sum(times_depth_increased(i))"
   ]
  },
  {
   "cell_type": "markdown",
   "id": "3c4a79d1",
   "metadata": {},
   "source": [
    "## [Day 2](https://adventofcode.com/2021/day/2)"
   ]
  },
  {
   "cell_type": "code",
   "execution_count": 8,
   "id": "07fd1a76",
   "metadata": {},
   "outputs": [
    {
     "data": {
      "text/plain": [
       "150"
      ]
     },
     "execution_count": 8,
     "metadata": {},
     "output_type": "execute_result"
    }
   ],
   "source": [
    "i = \"forward 5\\ndown 5\\nforward 8\\nup 3\\ndown 8\\nforward 2\"\n",
    "\n",
    "x, y = 0, 0\n",
    "\n",
    "d = re.findall(r'(\\w+) (\\d+)', i)\n",
    "\n",
    "for e in d:\n",
    "    if e[0] == 'forward':\n",
    "        x += int(e[1])\n",
    "    elif e[0] == 'down':\n",
    "        y += int(e[1])\n",
    "    else:\n",
    "        y += -int(e[1])\n",
    "        \n",
    "x * y"
   ]
  },
  {
   "cell_type": "code",
   "execution_count": 9,
   "id": "a10f666a",
   "metadata": {},
   "outputs": [
    {
     "data": {
      "text/plain": [
       "1690020"
      ]
     },
     "execution_count": 9,
     "metadata": {},
     "output_type": "execute_result"
    }
   ],
   "source": [
    "i = Input('02').read()\n",
    "\n",
    "x, y = 0, 0\n",
    "\n",
    "d = re.findall(r'(\\w+) (\\d+)', i)\n",
    "\n",
    "for e in d:\n",
    "    if e[0] == 'forward':\n",
    "        x += int(e[1])\n",
    "    elif e[0] == 'down':\n",
    "        y += int(e[1])\n",
    "    else:\n",
    "        y += -int(e[1])\n",
    "        \n",
    "x * y"
   ]
  },
  {
   "cell_type": "code",
   "execution_count": 10,
   "id": "c9de3e02",
   "metadata": {},
   "outputs": [
    {
     "data": {
      "text/plain": [
       "900"
      ]
     },
     "execution_count": 10,
     "metadata": {},
     "output_type": "execute_result"
    }
   ],
   "source": [
    "i = \"forward 5\\ndown 5\\nforward 8\\nup 3\\ndown 8\\nforward 2\"\n",
    "\n",
    "x, y, aim = 0, 0, 0\n",
    "\n",
    "d = re.findall(r'(\\w+) (\\d+)', i)\n",
    "\n",
    "for e in d:\n",
    "    if e[0] == 'forward':\n",
    "        x += int(e[1])\n",
    "        y += aim * int(e[1])\n",
    "    elif e[0] == 'down':\n",
    "        aim += int(e[1])\n",
    "    else:\n",
    "        aim += -int(e[1])\n",
    "        \n",
    "x * y"
   ]
  },
  {
   "cell_type": "code",
   "execution_count": 11,
   "id": "0d169438",
   "metadata": {},
   "outputs": [
    {
     "data": {
      "text/plain": [
       "1408487760"
      ]
     },
     "execution_count": 11,
     "metadata": {},
     "output_type": "execute_result"
    }
   ],
   "source": [
    "i = Input('02').read()\n",
    "\n",
    "x, y, aim = 0, 0, 0\n",
    "\n",
    "d = re.findall(r'(\\w+) (\\d+)', i)\n",
    "\n",
    "for e in d:\n",
    "    if e[0] == 'forward':\n",
    "        x += int(e[1])\n",
    "        y += aim * int(e[1])\n",
    "    elif e[0] == 'down':\n",
    "        aim += int(e[1])\n",
    "    else:\n",
    "        aim += -int(e[1])\n",
    "        \n",
    "x * y"
   ]
  },
  {
   "cell_type": "markdown",
   "id": "aae7ccfc",
   "metadata": {},
   "source": [
    "## [Day 3](https://adventofcode.com/2021/day/3)"
   ]
  },
  {
   "cell_type": "code",
   "execution_count": 12,
   "id": "d80d4d4d",
   "metadata": {},
   "outputs": [
    {
     "data": {
      "text/plain": [
       "198"
      ]
     },
     "execution_count": 12,
     "metadata": {},
     "output_type": "execute_result"
    }
   ],
   "source": [
    "i = \"00100\\n11110\\n10110\\n10111\\n10101\\n01111\\n00111\\n11100\\n10000\\n11001\\n00010\\n01010\"\n",
    "\n",
    "def gamma_rate(i):\n",
    "    gamma = \"\"\n",
    "    i = [list(e) for e in i.strip().split('\\n')]\n",
    "    for e in zip(*i):\n",
    "        if e.count('1') > len(e) / 2:\n",
    "            gamma += '1'\n",
    "        else:\n",
    "            gamma += '0'\n",
    "    return gamma\n",
    "\n",
    "def epsilon_rate(i):\n",
    "    epsilon = \"\"\n",
    "    gamma = gamma_rate(i)\n",
    "    for e in gamma:\n",
    "        if e == '0':\n",
    "            epsilon += '1'\n",
    "        else:\n",
    "            epsilon += '0'\n",
    "    return epsilon\n",
    "\n",
    "def binaryToDecimal(n):\n",
    "    return int(n,2)\n",
    "\n",
    "binaryToDecimal(epsilon_rate(i)) * binaryToDecimal(gamma_rate(i))"
   ]
  },
  {
   "cell_type": "code",
   "execution_count": 13,
   "id": "7e6794ca",
   "metadata": {},
   "outputs": [
    {
     "data": {
      "text/plain": [
       "749376"
      ]
     },
     "execution_count": 13,
     "metadata": {},
     "output_type": "execute_result"
    }
   ],
   "source": [
    "i = Input('03').read()\n",
    "\n",
    "binaryToDecimal(epsilon_rate(i)) * binaryToDecimal(gamma_rate(i))"
   ]
  },
  {
   "cell_type": "code",
   "execution_count": 14,
   "id": "1064f74a",
   "metadata": {
    "scrolled": true
   },
   "outputs": [
    {
     "data": {
      "text/plain": [
       "230"
      ]
     },
     "execution_count": 14,
     "metadata": {},
     "output_type": "execute_result"
    }
   ],
   "source": [
    "i = \"00100\\n11110\\n10110\\n10111\\n10101\\n01111\\n00111\\n11100\\n10000\\n11001\\n00010\\n01010\"\n",
    "\n",
    "def oxygen_generator_rating(i):\n",
    "    i = [list(e) for e in i.strip().split('\\n')]\n",
    "    c = -1\n",
    "    while len(i) > 1:\n",
    "        c += 1\n",
    "        j = []\n",
    "        if list(zip(*i))[c].count('1') < len(list(zip(*i))[c])/2:\n",
    "            for e in i:\n",
    "                if e[c] == '0':\n",
    "                    j.append(e)\n",
    "        else:\n",
    "            for e in i:\n",
    "                if e[c] == '1':\n",
    "                    j.append(e)\n",
    "        i = j\n",
    "\n",
    "    return(''.join(i[0]))\n",
    "\n",
    "def co2_scrubber_rating(i):\n",
    "    i = [list(e) for e in i.strip().split('\\n')]\n",
    "    c = -1\n",
    "    while len(i) > 1:\n",
    "        c += 1\n",
    "        j = []\n",
    "        if list(zip(*i))[c].count('1') < len(list(zip(*i))[c])/2:\n",
    "            for e in i:\n",
    "                if e[c] == '1':\n",
    "                    j.append(e)\n",
    "        else:\n",
    "            for e in i:\n",
    "                if e[c] == '0':\n",
    "                    j.append(e)\n",
    "        i = j\n",
    "\n",
    "    return(''.join(i[0]))\n",
    "\n",
    "binaryToDecimal(oxygen_generator_rating(i)) * binaryToDecimal(co2_scrubber_rating(i))"
   ]
  },
  {
   "cell_type": "code",
   "execution_count": 15,
   "id": "ff7aa0ff",
   "metadata": {},
   "outputs": [
    {
     "data": {
      "text/plain": [
       "2372923"
      ]
     },
     "execution_count": 15,
     "metadata": {},
     "output_type": "execute_result"
    }
   ],
   "source": [
    "i = Input('03').read()\n",
    "\n",
    "binaryToDecimal(oxygen_generator_rating(i)) * binaryToDecimal(co2_scrubber_rating(i))"
   ]
  },
  {
   "cell_type": "markdown",
   "id": "8056e98b",
   "metadata": {},
   "source": [
    "## [Day 4](https://adventofcode.com/2021/day/4)"
   ]
  },
  {
   "cell_type": "code",
   "execution_count": 16,
   "id": "0e0ca506",
   "metadata": {
    "scrolled": true
   },
   "outputs": [
    {
     "data": {
      "text/plain": [
       "4512"
      ]
     },
     "execution_count": 16,
     "metadata": {},
     "output_type": "execute_result"
    }
   ],
   "source": [
    "i = '7,4,9,5,11,17,23,2,0,14,21,24,10,16,13,6,15,25,12,22,18,20,8,19,3,26,1\\n\\n22 13 17 11  0\\n 8  2 23  4 24\\n21  9 14 16  7\\n 6 10  3 18  5\\n 1 12 20 15 19\\n\\n 3 15  0  2 22\\n 9 18 13 17  5\\n19  8  7 25 23\\n20 11 10 24  4\\n14 21 16 12  6\\n\\n14 21 17 24  4\\n10 16 15  9 19\\n18  8 23 26 20\\n22 11 13  6  5\\n 2  0 12  3  7\\n\\n'\n",
    "\n",
    "def _parser(i):\n",
    "    i = i.strip().split('\\n\\n')\n",
    "    numbers = [int(e) for e in i[0].split(',')]\n",
    "    tickets = []\n",
    "    for e in i[1:]:\n",
    "        tickets.append([])\n",
    "        tickets[-1] = [int(e) for e in re.findall(r'\\d+',e)]\n",
    "    return numbers, tickets\n",
    "\n",
    "def _scorecard(i, j):\n",
    "    return [j.index(e) for e in i]\n",
    "\n",
    "def _slicecard(i):\n",
    "    slices = []\n",
    "    for j in range(5):\n",
    "        slices.append(i[j*5:j*5+5])\n",
    "    slices += list(zip(*slices))\n",
    "    return slices\n",
    "\n",
    "def _score(i, j, k):\n",
    "    for number in k[:j+1]:\n",
    "        try:\n",
    "            i.remove(number)\n",
    "        except:\n",
    "            pass\n",
    "    return k[j] * sum(i)\n",
    "        \n",
    "\n",
    "def bestbingo(i):\n",
    "    numbers, tickets = _parser(i)\n",
    "    best = 0\n",
    "    for nr, ticket in enumerate(tickets):\n",
    "        scorecard = _scorecard(ticket, numbers)\n",
    "        scorecard = _slicecard(scorecard)\n",
    "        score = min([max(e) for e in scorecard])\n",
    "        if score < best or best == 0:\n",
    "            best_ticket = ticket\n",
    "            best = score\n",
    "    return _score(best_ticket, best, numbers)\n",
    "\n",
    "bestbingo(i)"
   ]
  },
  {
   "cell_type": "code",
   "execution_count": 17,
   "id": "0a3a2a22",
   "metadata": {},
   "outputs": [
    {
     "data": {
      "text/plain": [
       "5685"
      ]
     },
     "execution_count": 17,
     "metadata": {},
     "output_type": "execute_result"
    }
   ],
   "source": [
    "i = Input('04').read()\n",
    "\n",
    "bestbingo(i)"
   ]
  },
  {
   "cell_type": "code",
   "execution_count": 18,
   "id": "2d456074",
   "metadata": {},
   "outputs": [
    {
     "data": {
      "text/plain": [
       "1924"
      ]
     },
     "execution_count": 18,
     "metadata": {},
     "output_type": "execute_result"
    }
   ],
   "source": [
    "def worstbingo(i):\n",
    "    numbers, tickets = _parser(i)\n",
    "    worst = 0\n",
    "    for nr, ticket in enumerate(tickets):\n",
    "        scorecard = _scorecard(ticket, numbers)\n",
    "        scorecard = _slicecard(scorecard)\n",
    "        score = min([max(e) for e in scorecard])\n",
    "        if score > worst:\n",
    "            worst_ticket = ticket\n",
    "            worst = score\n",
    "    return _score(worst_ticket, worst, numbers)\n",
    "\n",
    "i = '7,4,9,5,11,17,23,2,0,14,21,24,10,16,13,6,15,25,12,22,18,20,8,19,3,26,1\\n\\n22 13 17 11  0\\n 8  2 23  4 24\\n21  9 14 16  7\\n 6 10  3 18  5\\n 1 12 20 15 19\\n\\n 3 15  0  2 22\\n 9 18 13 17  5\\n19  8  7 25 23\\n20 11 10 24  4\\n14 21 16 12  6\\n\\n14 21 17 24  4\\n10 16 15  9 19\\n18  8 23 26 20\\n22 11 13  6  5\\n 2  0 12  3  7\\n\\n'\n",
    "\n",
    "worstbingo(i)"
   ]
  },
  {
   "cell_type": "code",
   "execution_count": 19,
   "id": "5ccbf021",
   "metadata": {},
   "outputs": [
    {
     "data": {
      "text/plain": [
       "21070"
      ]
     },
     "execution_count": 19,
     "metadata": {},
     "output_type": "execute_result"
    }
   ],
   "source": [
    "i = Input('04').read()\n",
    "\n",
    "worstbingo(i)"
   ]
  },
  {
   "cell_type": "markdown",
   "id": "981e772c",
   "metadata": {},
   "source": [
    "## [Day 5](https://adventofcode.com/2021/day/5)"
   ]
  },
  {
   "cell_type": "code",
   "execution_count": 20,
   "id": "a24f8bea",
   "metadata": {},
   "outputs": [
    {
     "data": {
      "text/plain": [
       "5"
      ]
     },
     "execution_count": 20,
     "metadata": {},
     "output_type": "execute_result"
    }
   ],
   "source": [
    "i = \"0,9 -> 5,9\\n8,0 -> 0,8\\n9,4 -> 3,4\\n2,2 -> 2,1\\n7,0 -> 7,4\\n6,4 -> 2,0\\n0,9 -> 2,9\\n3,4 -> 1,4\\n0,0 -> 8,8\\n5,5 -> 8,2\"\n",
    "\n",
    "points = [int(e) for e in re.findall('[0-9]+', i)]\n",
    "\n",
    "grid = {}\n",
    "    \n",
    "for j in range(0, len(points), 4):\n",
    "    x1, y1, x2, y2 = points[j:j + 4]\n",
    "    if x1 != x2 and y1 !=y2:\n",
    "        pass\n",
    "    elif x1 == x2:\n",
    "        x = x1\n",
    "        for y in range(min(y1, y2), max(y1, y2) + 1):\n",
    "            xy = str(x) + ',' + str(y)\n",
    "            if xy not in grid:\n",
    "                grid[xy] = 1\n",
    "            else:\n",
    "                grid[xy] += 1\n",
    "    else:\n",
    "        y = y1\n",
    "        for x in range(min(x1, x2), max(x1, x2) + 1):\n",
    "            xy = str(x) + ',' + str(y)\n",
    "            if xy not in grid:\n",
    "                grid[xy] = 1\n",
    "            else:\n",
    "                grid[xy] += 1\n",
    "sum([1 if e > 1 else 0 for e in grid.values()])"
   ]
  },
  {
   "cell_type": "code",
   "execution_count": 21,
   "id": "e89fffb5",
   "metadata": {},
   "outputs": [
    {
     "data": {
      "text/plain": [
       "7380"
      ]
     },
     "execution_count": 21,
     "metadata": {},
     "output_type": "execute_result"
    }
   ],
   "source": [
    "i = Input('05').read()\n",
    "\n",
    "points = [int(e) for e in re.findall('[0-9]+', i)]\n",
    "\n",
    "grid = {}\n",
    "    \n",
    "for j in range(0, len(points), 4):\n",
    "    x1, y1, x2, y2 = points[j:j + 4]\n",
    "    if x1 != x2 and y1 !=y2:\n",
    "        pass\n",
    "    elif x1 == x2:\n",
    "        x = x1\n",
    "        for y in range(min(y1, y2), max(y1, y2) + 1):\n",
    "            xy = str(x) + ',' + str(y)\n",
    "            if xy not in grid:\n",
    "                grid[xy] = 1\n",
    "            else:\n",
    "                grid[xy] += 1\n",
    "    else:\n",
    "        y = y1\n",
    "        for x in range(min(x1, x2), max(x1, x2) + 1):\n",
    "            xy = str(x) + ',' + str(y)\n",
    "            if xy not in grid:\n",
    "                grid[xy] = 1\n",
    "            else:\n",
    "                grid[xy] += 1\n",
    "sum([1 if e > 1 else 0 for e in grid.values()])"
   ]
  },
  {
   "cell_type": "code",
   "execution_count": 22,
   "id": "668ab299",
   "metadata": {},
   "outputs": [
    {
     "data": {
      "text/plain": [
       "12"
      ]
     },
     "execution_count": 22,
     "metadata": {},
     "output_type": "execute_result"
    }
   ],
   "source": [
    "i = \"0,9 -> 5,9\\n8,0 -> 0,8\\n9,4 -> 3,4\\n2,2 -> 2,1\\n7,0 -> 7,4\\n6,4 -> 2,0\\n0,9 -> 2,9\\n3,4 -> 1,4\\n0,0 -> 8,8\\n5,5 -> 8,2\"\n",
    "\n",
    "i = [int(e) for e in re.findall('[0-9]+', i)]\n",
    "\n",
    "grid = {}\n",
    "    \n",
    "for j in range(0, len(i), 4):\n",
    "    x1, y1, x2, y2 = i[j:j + 4]\n",
    "    if abs(x1-x2) == abs(y1-y2):\n",
    "        if x1 > x2:\n",
    "            x1, x2, y1, y2 = x2, x1, y2, y1\n",
    "        x = [e for e in range(x1, x2 + 1)]\n",
    "        if y1 > y2:\n",
    "            y = [e for e in range(y1, y2, -1)] + [y2]    \n",
    "        else:\n",
    "            y = [e for e in range(y1, y2 + 1)]\n",
    "        points = list(zip(x, y))\n",
    "        for point in points:\n",
    "            xy = str(point[0]) + ',' + str(point[1])\n",
    "            if xy not in grid:\n",
    "                grid[xy] = 1\n",
    "            else:\n",
    "                grid[xy] += 1  \n",
    "    elif x1 == x2:\n",
    "        x = x1\n",
    "        for y in range(min(y1, y2), max(y1, y2) + 1):\n",
    "            xy = str(x) + ',' + str(y)\n",
    "            if xy not in grid:\n",
    "                grid[xy] = 1\n",
    "            else:\n",
    "                grid[xy] += 1\n",
    "    elif y1 == y2:\n",
    "        y = y1\n",
    "        for x in range(min(x1, x2), max(x1, x2) + 1):\n",
    "            xy = str(x) + ',' + str(y)\n",
    "            if xy not in grid:\n",
    "                grid[xy] = 1\n",
    "            else:\n",
    "                grid[xy] += 1\n",
    "\n",
    "sum([1 if e > 1 else 0 for e in grid.values()])"
   ]
  },
  {
   "cell_type": "code",
   "execution_count": 23,
   "id": "47a9e87c",
   "metadata": {},
   "outputs": [
    {
     "data": {
      "text/plain": [
       "21373"
      ]
     },
     "execution_count": 23,
     "metadata": {},
     "output_type": "execute_result"
    }
   ],
   "source": [
    "i = \"0,9 -> 5,9\\n8,0 -> 0,8\\n9,4 -> 3,4\\n2,2 -> 2,1\\n7,0 -> 7,4\\n6,4 -> 2,0\\n0,9 -> 2,9\\n3,4 -> 1,4\\n0,0 -> 8,8\\n5,5 -> 8,2\"\n",
    "\n",
    "i = Input('05').read()\n",
    "\n",
    "i = [int(e) for e in re.findall('[0-9]+', i)]\n",
    "\n",
    "grid = {}\n",
    "    \n",
    "for j in range(0, len(i), 4):\n",
    "    x1, y1, x2, y2 = i[j:j + 4]\n",
    "    if abs(x1-x2) == abs(y1-y2):\n",
    "        if x1 > x2:\n",
    "            x1, x2, y1, y2 = x2, x1, y2, y1\n",
    "        x = [e for e in range(x1, x2 + 1)]\n",
    "        if y1 > y2:\n",
    "            y = [e for e in range(y1, y2, -1)] + [y2]    \n",
    "        else:\n",
    "            y = [e for e in range(y1, y2 + 1)]\n",
    "        points = list(zip(x, y))\n",
    "        for point in points:\n",
    "            xy = str(point[0]) + ',' + str(point[1])\n",
    "            if xy not in grid:\n",
    "                grid[xy] = 1\n",
    "            else:\n",
    "                grid[xy] += 1  \n",
    "    elif x1 == x2:\n",
    "        x = x1\n",
    "        for y in range(min(y1, y2), max(y1, y2) + 1):\n",
    "            xy = str(x) + ',' + str(y)\n",
    "            if xy not in grid:\n",
    "                grid[xy] = 1\n",
    "            else:\n",
    "                grid[xy] += 1\n",
    "    elif y1 == y2:\n",
    "        y = y1\n",
    "        for x in range(min(x1, x2), max(x1, x2) + 1):\n",
    "            xy = str(x) + ',' + str(y)\n",
    "            if xy not in grid:\n",
    "                grid[xy] = 1\n",
    "            else:\n",
    "                grid[xy] += 1\n",
    "\n",
    "sum([1 if e > 1 else 0 for e in grid.values()])"
   ]
  },
  {
   "cell_type": "markdown",
   "id": "d5aae837",
   "metadata": {},
   "source": [
    "## [Day 6](https://adventofcode.com/2021/day/6)"
   ]
  },
  {
   "cell_type": "code",
   "execution_count": 24,
   "id": "45e93366",
   "metadata": {},
   "outputs": [
    {
     "data": {
      "text/plain": [
       "5934"
      ]
     },
     "execution_count": 24,
     "metadata": {},
     "output_type": "execute_result"
    }
   ],
   "source": [
    "i = [3,4,3,1,2]\n",
    "\n",
    "for j in range(80):\n",
    "    ct = i.count(0)\n",
    "    i = [e - 1 if e > 0 else 6 for e in i]\n",
    "    if ct:\n",
    "        for k in range(ct):\n",
    "            i.append(8)\n",
    "len(i)"
   ]
  },
  {
   "cell_type": "code",
   "execution_count": 25,
   "id": "e98cb680",
   "metadata": {},
   "outputs": [
    {
     "data": {
      "text/plain": [
       "390011"
      ]
     },
     "execution_count": 25,
     "metadata": {},
     "output_type": "execute_result"
    }
   ],
   "source": [
    "i = Input('06').read().split(',')\n",
    "i = [int(e) for e in i]\n",
    "\n",
    "for j in range(80):\n",
    "    ct = i.count(0)\n",
    "    i = [e - 1 if e > 0 else 6 for e in i]\n",
    "    if ct:\n",
    "        for k in range(ct):\n",
    "            i.append(8)\n",
    "len(i)"
   ]
  },
  {
   "cell_type": "code",
   "execution_count": 26,
   "id": "ea53f040",
   "metadata": {},
   "outputs": [
    {
     "name": "stdout",
     "output_type": "stream",
     "text": [
      "26984457539\n"
     ]
    }
   ],
   "source": [
    "i = [3,4,3,1,2]\n",
    "\n",
    "counter = [0, 0, 0, 0, 0, 0, 0, 0, 0]\n",
    "\n",
    "for e in i:\n",
    "    counter[e] += 1\n",
    "    \n",
    "for j in range(256):\n",
    "    k = counter[0]\n",
    "    counter[0] = counter[1]\n",
    "    counter[1] = counter[2]\n",
    "    counter[2] = counter[3]\n",
    "    counter[3] = counter[4]\n",
    "    counter[4] = counter[5]\n",
    "    counter[5] = counter[6]\n",
    "    counter[6] = counter[7] + k\n",
    "    counter[7] = counter[8]\n",
    "    counter[8] = k\n",
    "    \n",
    "print(sum(counter))"
   ]
  },
  {
   "cell_type": "code",
   "execution_count": 27,
   "id": "e00fc81e",
   "metadata": {},
   "outputs": [
    {
     "name": "stdout",
     "output_type": "stream",
     "text": [
      "1746710169834\n"
     ]
    }
   ],
   "source": [
    "i = Input('06').read().split(',')\n",
    "i = [int(e) for e in i]\n",
    "counter = [0, 0, 0, 0, 0, 0, 0, 0, 0]\n",
    "\n",
    "for e in i:\n",
    "    counter[e] += 1\n",
    "    \n",
    "for j in range(256):\n",
    "    k = counter[0]\n",
    "    counter[0] = counter[1]\n",
    "    counter[1] = counter[2]\n",
    "    counter[2] = counter[3]\n",
    "    counter[3] = counter[4]\n",
    "    counter[4] = counter[5]\n",
    "    counter[5] = counter[6]\n",
    "    counter[6] = counter[7] + k\n",
    "    counter[7] = counter[8]\n",
    "    counter[8] = k\n",
    "    \n",
    "print(sum(counter))"
   ]
  },
  {
   "cell_type": "markdown",
   "id": "82fe2aec",
   "metadata": {},
   "source": [
    "## [Day 7](https://adventofcode.com/2021/day/7)"
   ]
  },
  {
   "cell_type": "code",
   "execution_count": 28,
   "id": "b3f912f9",
   "metadata": {},
   "outputs": [
    {
     "data": {
      "text/plain": [
       "[111, 41, 37, 49, 41, 37, 53, 41, 37, 95]"
      ]
     },
     "execution_count": 28,
     "metadata": {},
     "output_type": "execute_result"
    }
   ],
   "source": [
    "i = \"16,1,2,0,4,2,7,1,2,14\"\n",
    "\n",
    "i = [int(e) for e in i.split(',')]\n",
    "\n",
    "[sum([abs(e-f) for f in i]) for e in i]"
   ]
  },
  {
   "cell_type": "code",
   "execution_count": 29,
   "id": "11bd0a50",
   "metadata": {},
   "outputs": [
    {
     "data": {
      "text/plain": [
       "342534"
      ]
     },
     "execution_count": 29,
     "metadata": {},
     "output_type": "execute_result"
    }
   ],
   "source": [
    "i = Input('07').read()\n",
    "\n",
    "i = [int(e) for e in i.split(',')]\n",
    "\n",
    "min([sum([abs(e-f) for f in i]) for e in i])"
   ]
  },
  {
   "cell_type": "code",
   "execution_count": 30,
   "id": "3e68799a",
   "metadata": {
    "scrolled": false
   },
   "outputs": [
    {
     "data": {
      "text/plain": [
       "168"
      ]
     },
     "execution_count": 30,
     "metadata": {},
     "output_type": "execute_result"
    }
   ],
   "source": [
    "i = \"16,1,2,0,4,2,7,1,2,14\"\n",
    "\n",
    "i = [int(e) for e in i.split(',')]\n",
    "\n",
    "def fuel(i):\n",
    "    return sum(range(0, i+1))\n",
    "\n",
    "min([sum([fuel(abs(x-y)) for y in i]) for x in range(min(i), max(i) + 1)])"
   ]
  },
  {
   "cell_type": "code",
   "execution_count": 31,
   "id": "ce82f251",
   "metadata": {},
   "outputs": [
    {
     "data": {
      "text/plain": [
       "94004208"
      ]
     },
     "execution_count": 31,
     "metadata": {},
     "output_type": "execute_result"
    }
   ],
   "source": [
    "i = Input(\"07\").read()\n",
    "i = [int(e) for e in i.split(',')]\n",
    "\n",
    "def fuel(i):\n",
    "    return sum(range(0, i+1))\n",
    "\n",
    "min([sum([fuel(abs(x-y)) for y in i]) for x in range(min(i), max(i) + 1)])"
   ]
  },
  {
   "cell_type": "markdown",
   "id": "08f12aa8",
   "metadata": {},
   "source": [
    "## [Day 8](https://adventofcode.com/2021/day/8)"
   ]
  },
  {
   "cell_type": "code",
   "execution_count": 32,
   "id": "5191b040",
   "metadata": {
    "scrolled": true
   },
   "outputs": [
    {
     "data": {
      "text/plain": [
       "412"
      ]
     },
     "execution_count": 32,
     "metadata": {},
     "output_type": "execute_result"
    }
   ],
   "source": [
    "i = Input('08').read()\n",
    "\n",
    "i = i.strip().split('\\n')\n",
    "i = [re.findall(r'(\\w+)', e) for e in i]\n",
    "\n",
    "count = 0\n",
    "for e in i:\n",
    "    for f in e[-4:]:\n",
    "        if len(f) == 2 or len(f) == 3 or len(f) == 4 or len(f) == 7:\n",
    "            count += 1\n",
    "count    "
   ]
  },
  {
   "cell_type": "code",
   "execution_count": 33,
   "id": "c82c73fb",
   "metadata": {},
   "outputs": [
    {
     "data": {
      "text/plain": [
       "61229"
      ]
     },
     "execution_count": 33,
     "metadata": {},
     "output_type": "execute_result"
    }
   ],
   "source": [
    "i = \"be cfbegad cbdgef fgaecd cgeb fdcge agebfd fecdb fabcd edb | fdgacbe cefdb cefbgd gcbe\\nedbfga begcd cbg gc gcadebf fbgde acbgfd abcde gfcbed gfec | fcgedb cgb dgebacf gc\\nfgaebd cg bdaec gdafb agbcfd gdcbef bgcad gfac gcb cdgabef | cg cg fdcagb cbg\\nfbegcd cbd adcefb dageb afcb bc aefdc ecdab fgdeca fcdbega | efabcd cedba gadfec cb\\naecbfdg fbg gf bafeg dbefa fcge gcbea fcaegb dgceab fcbdga | gecf egdcabf bgf bfgea\\nfgeab ca afcebg bdacfeg cfaedg gcfdb baec bfadeg bafgc acf | gebdcfa ecba ca fadegcb\\ndbcfg fgd bdegcaf fgec aegbdf ecdfab fbedc dacgb gdcebf gf | cefg dcbef fcge gbcadfe\\nbdfegc cbegaf gecbf dfcage bdacg ed bedf ced adcbefg gebcd | ed bcgafe cdgba cbgef\\negadfb cdbfeg cegd fecab cgb gbdefca cg fgcdab egfdb bfceg | gbdfcae bgc cg cgb\\ngcafb gcf dcaebfg ecagb gf abcdeg gaef cafbge fdbac fegbdc | fgae cfgab fg bagce\"\n",
    "\n",
    "i = i.split('\\n')\n",
    "#i = \"be cfbegad cbdgef fgaecd cgeb fdcge agebfd fecdb fabcd edb | fdgacbe cefdb cefbgd gcbe\\nedbfga begcd cbg gc gcadebf fbgde acbgfd abcde gfcbed gfec | fcgedb cgb dgebacf gc\\nfgaebd cg bdaec gdafb agbcfd gdcbef bgcad gfac gcb cdgabef | cg cg fdcagb cbg\\nfbegcd cbd adcefb dageb afcb bc aefdc ecdab fgdeca fcdbega | efabcd cedba gadfec cb\\naecbfdg fbg gf bafeg dbefa fcge gcbea fcaegb dgceab fcbdga | gecf egdcabf bgf bfgea\\nfgeab ca afcebg bdacfeg cfaedg gcfdb baec bfadeg bafgc acf | gebdcfa ecba ca fadegcb\\ndbcfg fgd bdegcaf fgec aegbdf ecdfab fbedc dacgb gdcebf gf | cefg dcbef fcge gbcadfe\\nbdfegc cbegaf gecbf dfcage bdacg ed bedf ced adcbefg gebcd | ed bcgafe cdgba cbgef\\negadfb cdbfeg cegd fecab cgb gbdefca cg fgcdab egfdb bfceg | gbdfcae bgc cg cgb\\ngcafb gcf dcaebfg ecagb gf abcdeg gaef cafbge fdbac fegbdc | fgae cfgab fg bagce\"\n",
    "#i = i.split('\\n')\n",
    "\n",
    "i = [re.findall(r'(\\w+)', e.strip()) for e in i]\n",
    "\n",
    "scores = []\n",
    "\n",
    "for k in i:\n",
    "    j = k[:10]\n",
    "    j = [''.join(sorted(e)) for e in j]\n",
    "    j.sort(key=len)\n",
    "\n",
    "    numbers = {}\n",
    "    while j:\n",
    "        for e in j:\n",
    "        \n",
    "            if len(e) == 2:\n",
    "                numbers[1] = j.pop(j.index(e))\n",
    "            elif len(e) == 3:\n",
    "                numbers[7] = j.pop(j.index(e))\n",
    "            elif len(e) == 4:\n",
    "                numbers[4] = j.pop(j.index(e))\n",
    "            elif len(e) == 7:\n",
    "                numbers[8] = j.pop(j.index(e))\n",
    "            elif len(e) == 5:\n",
    "                if (1 in numbers and 4 in numbers):\n",
    "                    if not set(numbers.get(1, 'hjkl')) - set(e):\n",
    "                        numbers[3] = j.pop(j.index(e))\n",
    "                    elif len(set(numbers.get(4, 'hjkl')) - set(e)) == 1:\n",
    "                        numbers[5] = j.pop(j.index(e))\n",
    "                    else:\n",
    "                        numbers[2] = j.pop(j.index(e))\n",
    "            elif len(e) == 6:\n",
    "                if 1 in numbers and 3 in numbers: \n",
    "                    if len(set(numbers.get(1, 'hjkl')) - set(e)) == 1:\n",
    "                        numbers[6] = j.pop(j.index(e))\n",
    "                    elif len(set(numbers.get(3, 'hjkl')) - set(e)) == 1:\n",
    "                        numbers[0] = j.pop(j.index(e))\n",
    "                    else:\n",
    "                        numbers[9] = j.pop(j.index(e))\n",
    "    \n",
    "    string = ''       \n",
    "    for e in k[10:]:\n",
    "        e = ''.join(sorted(e))\n",
    "        for key, value in numbers.items():\n",
    "            if value == e:\n",
    "                string += str(key)\n",
    "    scores.append(int(string))\n",
    "    \n",
    "sum(scores)"
   ]
  },
  {
   "cell_type": "code",
   "execution_count": 34,
   "id": "214077a3",
   "metadata": {
    "scrolled": true
   },
   "outputs": [
    {
     "data": {
      "text/plain": [
       "978171"
      ]
     },
     "execution_count": 34,
     "metadata": {},
     "output_type": "execute_result"
    }
   ],
   "source": [
    "i = Input('08').readlines()\n",
    "#i = \"be cfbegad cbdgef fgaecd cgeb fdcge agebfd fecdb fabcd edb | fdgacbe cefdb cefbgd gcbe\\nedbfga begcd cbg gc gcadebf fbgde acbgfd abcde gfcbed gfec | fcgedb cgb dgebacf gc\\nfgaebd cg bdaec gdafb agbcfd gdcbef bgcad gfac gcb cdgabef | cg cg fdcagb cbg\\nfbegcd cbd adcefb dageb afcb bc aefdc ecdab fgdeca fcdbega | efabcd cedba gadfec cb\\naecbfdg fbg gf bafeg dbefa fcge gcbea fcaegb dgceab fcbdga | gecf egdcabf bgf bfgea\\nfgeab ca afcebg bdacfeg cfaedg gcfdb baec bfadeg bafgc acf | gebdcfa ecba ca fadegcb\\ndbcfg fgd bdegcaf fgec aegbdf ecdfab fbedc dacgb gdcebf gf | cefg dcbef fcge gbcadfe\\nbdfegc cbegaf gecbf dfcage bdacg ed bedf ced adcbefg gebcd | ed bcgafe cdgba cbgef\\negadfb cdbfeg cegd fecab cgb gbdefca cg fgcdab egfdb bfceg | gbdfcae bgc cg cgb\\ngcafb gcf dcaebfg ecagb gf abcdeg gaef cafbge fdbac fegbdc | fgae cfgab fg bagce\"\n",
    "#i = i.split('\\n')\n",
    "\n",
    "i = [re.findall(r'(\\w+)', e.strip()) for e in i]\n",
    "\n",
    "scores = []\n",
    "\n",
    "for k in i:\n",
    "    j = k[:10]\n",
    "    j = [''.join(sorted(e)) for e in j]\n",
    "    j.sort(key=len)\n",
    "\n",
    "    numbers = {}\n",
    "    while j:\n",
    "        for e in j:\n",
    "        \n",
    "            if len(e) == 2:\n",
    "                numbers[1] = j.pop(j.index(e))\n",
    "            elif len(e) == 3:\n",
    "                numbers[7] = j.pop(j.index(e))\n",
    "            elif len(e) == 4:\n",
    "                numbers[4] = j.pop(j.index(e))\n",
    "            elif len(e) == 7:\n",
    "                numbers[8] = j.pop(j.index(e))\n",
    "            elif len(e) == 5:\n",
    "                if (1 in numbers and 4 in numbers):\n",
    "                    if not set(numbers.get(1, 'hjkl')) - set(e):\n",
    "                        numbers[3] = j.pop(j.index(e))\n",
    "                    elif len(set(numbers.get(4, 'hjkl')) - set(e)) == 1:\n",
    "                        numbers[5] = j.pop(j.index(e))\n",
    "                    else:\n",
    "                        numbers[2] = j.pop(j.index(e))\n",
    "            elif len(e) == 6:\n",
    "                if 1 in numbers and 3 in numbers: \n",
    "                    if len(set(numbers.get(1, 'hjkl')) - set(e)) == 1:\n",
    "                        numbers[6] = j.pop(j.index(e))\n",
    "                    elif len(set(numbers.get(3, 'hjkl')) - set(e)) == 1:\n",
    "                        numbers[0] = j.pop(j.index(e))\n",
    "                    else:\n",
    "                        numbers[9] = j.pop(j.index(e))\n",
    "    \n",
    "    string = ''       \n",
    "    for e in k[10:]:\n",
    "        e = ''.join(sorted(e))\n",
    "        for key, value in numbers.items():\n",
    "            if value == e:\n",
    "                string += str(key)\n",
    "    scores.append(int(string))\n",
    "    \n",
    "sum(scores)"
   ]
  },
  {
   "cell_type": "markdown",
   "id": "2d47cde3",
   "metadata": {},
   "source": [
    "## [Day 9](https://adventofcode.com/2021/day/9)"
   ]
  },
  {
   "cell_type": "code",
   "execution_count": 154,
   "id": "8eb52eec",
   "metadata": {},
   "outputs": [
    {
     "data": {
      "text/plain": [
       "(4, 11)"
      ]
     },
     "execution_count": 154,
     "metadata": {},
     "output_type": "execute_result"
    }
   ],
   "source": [
    "i = \"2199943210\\n3987894921\\n9856789892\\n8767896789\\n9899965678\"\n",
    "\n",
    "i = i.split('\\n')\n",
    "\n",
    "def neighbors(x, y):\n",
    "    return str(x+1)+','+ str(y), str(x-1) + ',' + str(y), str(x) + ',' +str(y+1), str(x) + ',' + str(y-1)\n",
    "\n",
    "def multiply(lst):\n",
    "    return np.product(lst)\n",
    "\n",
    "grid = {}\n",
    "count = 0\n",
    "risk = 0\n",
    "\n",
    "for y, e in enumerate(i):\n",
    "    for x, f in enumerate(e):\n",
    "        grid[str(x) + ',' + str(y)] = i[y][x]\n",
    "        \n",
    "for x in range(len(i[0])):\n",
    "    for y in range(len(i)):\n",
    "        nbr = neighbors(x, y)\n",
    "        scores = [int(grid.get(str(x) + ',' + str(y)))]\n",
    "        for n in nbr:\n",
    "            scores.append(int(grid.get(n, 9)))\n",
    "        scores = [1 if scores[0] < e else 0 for e in scores[1:]]\n",
    "        count += multiply(scores)\n",
    "        risk += int(grid[str(x) + ',' + str(y)]) * multiply(scores)\n",
    "count, risk"
   ]
  },
  {
   "cell_type": "code",
   "execution_count": 157,
   "id": "b8cfd765",
   "metadata": {},
   "outputs": [
    {
     "data": {
      "text/plain": [
       "(217, 269, 486)"
      ]
     },
     "execution_count": 157,
     "metadata": {},
     "output_type": "execute_result"
    }
   ],
   "source": [
    "i = Input('09').read()\n",
    "#i = \"2199943210\\n3987894921\\n9856789892\\n8767896789\\n9899965678\"\n",
    "i = i.strip().split('\\n')\n",
    "\n",
    "def neighbors(x, y):\n",
    "    return str(x+1)+','+ str(y), str(x-1) + ',' + str(y), str(x) + ',' +str(y+1), str(x) + ',' + str(y-1)\n",
    "\n",
    "def multiply(lst):\n",
    "    return np.product(lst)\n",
    "\n",
    "grid = {}\n",
    "count = 0\n",
    "risk = 0\n",
    "\n",
    "for y, e in enumerate(i):\n",
    "    for x, f in enumerate(e):\n",
    "        grid[str(x) + ',' + str(y)] = i[y][x]\n",
    "        \n",
    "for x in range(len(i[0])):\n",
    "    for y in range(len(i)):\n",
    "        nbr = neighbors(x, y)\n",
    "        scores = [int(grid.get(str(x) + ',' + str(y)))]\n",
    "        for n in nbr:\n",
    "            scores.append(int(grid.get(n, 9)))\n",
    "        scores = [1 if scores[0] < e else 0 for e in scores[1:]]\n",
    "        count += multiply(scores)\n",
    "        risk += int(grid[str(x) + ',' + str(y)]) * multiply(scores)\n",
    "count, risk, count + risk"
   ]
  },
  {
   "cell_type": "code",
   "execution_count": null,
   "id": "85be3d2f",
   "metadata": {},
   "outputs": [],
   "source": []
  },
  {
   "cell_type": "code",
   "execution_count": null,
   "id": "fe8c0fed",
   "metadata": {},
   "outputs": [],
   "source": []
  }
 ],
 "metadata": {
  "kernelspec": {
   "display_name": "Python 3 (ipykernel)",
   "language": "python",
   "name": "python3"
  },
  "language_info": {
   "codemirror_mode": {
    "name": "ipython",
    "version": 3
   },
   "file_extension": ".py",
   "mimetype": "text/x-python",
   "name": "python",
   "nbconvert_exporter": "python",
   "pygments_lexer": "ipython3",
   "version": "3.9.7"
  }
 },
 "nbformat": 4,
 "nbformat_minor": 5
}

{
 "cells": [
  {
   "cell_type": "code",
   "execution_count": 1,
   "id": "8cbdfef0",
   "metadata": {},
   "outputs": [],
   "source": [
    "import re\n",
    "import numpy as np\n",
    "import seaborn as sns\n",
    "import matplotlib\n",
    "import matplotlib.pyplot as plt\n",
    "\n",
    "def Input(day, year=2021):\n",
    "    directory = '{}'.format(year)\n",
    "    filename = directory + '/input{}.txt'.format(day)\n",
    "    return open(filename)\n",
    "\n",
    "def mapt(fn, *args):\n",
    "    \"\"\"map(fn, *args) and return the result as a tuple.\"\"\"\n",
    "    return tuple(map(fn, *args))\n",
    "\n",
    "def mapl(fn, *args):\n",
    "    \"\"\"map(fn, *args) and return the result as a tuple.\"\"\"\n",
    "    return list(map(fn, *args))\n",
    "\n",
    "def parse(day, parser=str, sep='\\n', output='tuple') -> tuple:\n",
    "    \"\"\"Split the day's input file into entries separated by `sep`, and apply `parser` to each.\"\"\"\n",
    "    entries = open(f'2021/input{day}.txt').read().rstrip().split(sep)\n",
    "    return mapl(parser, entries)"
   ]
  },
  {
   "cell_type": "markdown",
   "id": "3ce634d8",
   "metadata": {},
   "source": [
    "## [Day 1](https://adventofcode.com/2021/day/1)"
   ]
  },
  {
   "cell_type": "code",
   "execution_count": 2,
   "id": "87f51c4d",
   "metadata": {},
   "outputs": [],
   "source": [
    "def times_depth_increased(i):\n",
    "    return [1 if e[0] > e[1] else 0 for e in list(zip(i[1:], i[:-1]))]"
   ]
  },
  {
   "cell_type": "code",
   "execution_count": 3,
   "id": "e27d53e9",
   "metadata": {},
   "outputs": [
    {
     "data": {
      "text/plain": [
       "7"
      ]
     },
     "execution_count": 3,
     "metadata": {},
     "output_type": "execute_result"
    }
   ],
   "source": [
    "i = [199, 200, 208, 210, 200, 207, 240, 269, 260, 263]\n",
    "\n",
    "sum(times_depth_increased(i))"
   ]
  },
  {
   "cell_type": "code",
   "execution_count": 4,
   "id": "f8fdf09e",
   "metadata": {},
   "outputs": [
    {
     "data": {
      "text/plain": [
       "1184"
      ]
     },
     "execution_count": 4,
     "metadata": {},
     "output_type": "execute_result"
    }
   ],
   "source": [
    "i = [int(e) for e in Input('01').readlines()]\n",
    "\n",
    "sum(times_depth_increased(i))"
   ]
  },
  {
   "cell_type": "code",
   "execution_count": 5,
   "id": "4e0c99d0",
   "metadata": {},
   "outputs": [],
   "source": [
    "def times_depth_increased(i, avg=3):\n",
    "    l = []\n",
    "    for a in range(avg):\n",
    "        if a == 0:\n",
    "            l.append(i)\n",
    "        else:\n",
    "            l.append(i[a:])\n",
    "    l = [sum(e) for e in zip(*l)]\n",
    "    return [1 if e[1] > e[0] else 0 for e in list(zip(l, l[1:]))]"
   ]
  },
  {
   "cell_type": "code",
   "execution_count": 6,
   "id": "1a810e05",
   "metadata": {},
   "outputs": [
    {
     "data": {
      "text/plain": [
       "5"
      ]
     },
     "execution_count": 6,
     "metadata": {},
     "output_type": "execute_result"
    }
   ],
   "source": [
    "i = [199, 200, 208, 210, 200, 207, 240, 269, 260, 263]\n",
    "\n",
    "sum(times_depth_increased(i))"
   ]
  },
  {
   "cell_type": "code",
   "execution_count": 7,
   "id": "5db89957",
   "metadata": {},
   "outputs": [
    {
     "data": {
      "text/plain": [
       "1158"
      ]
     },
     "execution_count": 7,
     "metadata": {},
     "output_type": "execute_result"
    }
   ],
   "source": [
    "i = [int(e) for e in Input('01').readlines()]\n",
    "\n",
    "sum(times_depth_increased(i))"
   ]
  },
  {
   "cell_type": "markdown",
   "id": "3c4a79d1",
   "metadata": {},
   "source": [
    "## [Day 2](https://adventofcode.com/2021/day/2)"
   ]
  },
  {
   "cell_type": "code",
   "execution_count": 8,
   "id": "07fd1a76",
   "metadata": {},
   "outputs": [
    {
     "data": {
      "text/plain": [
       "150"
      ]
     },
     "execution_count": 8,
     "metadata": {},
     "output_type": "execute_result"
    }
   ],
   "source": [
    "i = \"forward 5\\ndown 5\\nforward 8\\nup 3\\ndown 8\\nforward 2\"\n",
    "\n",
    "x, y = 0, 0\n",
    "\n",
    "d = re.findall(r'(\\w+) (\\d+)', i)\n",
    "\n",
    "for e in d:\n",
    "    if e[0] == 'forward':\n",
    "        x += int(e[1])\n",
    "    elif e[0] == 'down':\n",
    "        y += int(e[1])\n",
    "    else:\n",
    "        y += -int(e[1])\n",
    "        \n",
    "x * y"
   ]
  },
  {
   "cell_type": "code",
   "execution_count": 9,
   "id": "a10f666a",
   "metadata": {},
   "outputs": [
    {
     "data": {
      "text/plain": [
       "1690020"
      ]
     },
     "execution_count": 9,
     "metadata": {},
     "output_type": "execute_result"
    }
   ],
   "source": [
    "i = Input('02').read()\n",
    "\n",
    "x, y = 0, 0\n",
    "\n",
    "d = re.findall(r'(\\w+) (\\d+)', i)\n",
    "\n",
    "for e in d:\n",
    "    if e[0] == 'forward':\n",
    "        x += int(e[1])\n",
    "    elif e[0] == 'down':\n",
    "        y += int(e[1])\n",
    "    else:\n",
    "        y += -int(e[1])\n",
    "        \n",
    "x * y"
   ]
  },
  {
   "cell_type": "code",
   "execution_count": 10,
   "id": "c9de3e02",
   "metadata": {},
   "outputs": [
    {
     "data": {
      "text/plain": [
       "900"
      ]
     },
     "execution_count": 10,
     "metadata": {},
     "output_type": "execute_result"
    }
   ],
   "source": [
    "i = \"forward 5\\ndown 5\\nforward 8\\nup 3\\ndown 8\\nforward 2\"\n",
    "\n",
    "x, y, aim = 0, 0, 0\n",
    "\n",
    "d = re.findall(r'(\\w+) (\\d+)', i)\n",
    "\n",
    "for e in d:\n",
    "    if e[0] == 'forward':\n",
    "        x += int(e[1])\n",
    "        y += aim * int(e[1])\n",
    "    elif e[0] == 'down':\n",
    "        aim += int(e[1])\n",
    "    else:\n",
    "        aim += -int(e[1])\n",
    "        \n",
    "x * y"
   ]
  },
  {
   "cell_type": "code",
   "execution_count": 11,
   "id": "0d169438",
   "metadata": {},
   "outputs": [
    {
     "data": {
      "text/plain": [
       "1408487760"
      ]
     },
     "execution_count": 11,
     "metadata": {},
     "output_type": "execute_result"
    }
   ],
   "source": [
    "i = Input('02').read()\n",
    "\n",
    "x, y, aim = 0, 0, 0\n",
    "\n",
    "d = re.findall(r'(\\w+) (\\d+)', i)\n",
    "\n",
    "for e in d:\n",
    "    if e[0] == 'forward':\n",
    "        x += int(e[1])\n",
    "        y += aim * int(e[1])\n",
    "    elif e[0] == 'down':\n",
    "        aim += int(e[1])\n",
    "    else:\n",
    "        aim += -int(e[1])\n",
    "        \n",
    "x * y"
   ]
  },
  {
   "cell_type": "markdown",
   "id": "aae7ccfc",
   "metadata": {},
   "source": [
    "## [Day 3](https://adventofcode.com/2021/day/3)"
   ]
  },
  {
   "cell_type": "code",
   "execution_count": 12,
   "id": "d80d4d4d",
   "metadata": {},
   "outputs": [
    {
     "data": {
      "text/plain": [
       "198"
      ]
     },
     "execution_count": 12,
     "metadata": {},
     "output_type": "execute_result"
    }
   ],
   "source": [
    "i = \"00100\\n11110\\n10110\\n10111\\n10101\\n01111\\n00111\\n11100\\n10000\\n11001\\n00010\\n01010\"\n",
    "\n",
    "def gamma_rate(i):\n",
    "    gamma = \"\"\n",
    "    i = [list(e) for e in i.strip().split('\\n')]\n",
    "    for e in zip(*i):\n",
    "        if e.count('1') > len(e) / 2:\n",
    "            gamma += '1'\n",
    "        else:\n",
    "            gamma += '0'\n",
    "    return gamma\n",
    "\n",
    "def epsilon_rate(i):\n",
    "    epsilon = \"\"\n",
    "    gamma = gamma_rate(i)\n",
    "    for e in gamma:\n",
    "        if e == '0':\n",
    "            epsilon += '1'\n",
    "        else:\n",
    "            epsilon += '0'\n",
    "    return epsilon\n",
    "\n",
    "def binaryToDecimal(n):\n",
    "    return int(n,2)\n",
    "\n",
    "binaryToDecimal(epsilon_rate(i)) * binaryToDecimal(gamma_rate(i))"
   ]
  },
  {
   "cell_type": "code",
   "execution_count": 13,
   "id": "7e6794ca",
   "metadata": {},
   "outputs": [
    {
     "data": {
      "text/plain": [
       "749376"
      ]
     },
     "execution_count": 13,
     "metadata": {},
     "output_type": "execute_result"
    }
   ],
   "source": [
    "i = Input('03').read()\n",
    "\n",
    "binaryToDecimal(epsilon_rate(i)) * binaryToDecimal(gamma_rate(i))"
   ]
  },
  {
   "cell_type": "code",
   "execution_count": 14,
   "id": "1064f74a",
   "metadata": {
    "scrolled": true
   },
   "outputs": [
    {
     "data": {
      "text/plain": [
       "230"
      ]
     },
     "execution_count": 14,
     "metadata": {},
     "output_type": "execute_result"
    }
   ],
   "source": [
    "i = \"00100\\n11110\\n10110\\n10111\\n10101\\n01111\\n00111\\n11100\\n10000\\n11001\\n00010\\n01010\"\n",
    "\n",
    "def oxygen_generator_rating(i):\n",
    "    i = [list(e) for e in i.strip().split('\\n')]\n",
    "    c = -1\n",
    "    while len(i) > 1:\n",
    "        c += 1\n",
    "        j = []\n",
    "        if list(zip(*i))[c].count('1') < len(list(zip(*i))[c])/2:\n",
    "            for e in i:\n",
    "                if e[c] == '0':\n",
    "                    j.append(e)\n",
    "        else:\n",
    "            for e in i:\n",
    "                if e[c] == '1':\n",
    "                    j.append(e)\n",
    "        i = j\n",
    "\n",
    "    return(''.join(i[0]))\n",
    "\n",
    "def co2_scrubber_rating(i):\n",
    "    i = [list(e) for e in i.strip().split('\\n')]\n",
    "    c = -1\n",
    "    while len(i) > 1:\n",
    "        c += 1\n",
    "        j = []\n",
    "        if list(zip(*i))[c].count('1') < len(list(zip(*i))[c])/2:\n",
    "            for e in i:\n",
    "                if e[c] == '1':\n",
    "                    j.append(e)\n",
    "        else:\n",
    "            for e in i:\n",
    "                if e[c] == '0':\n",
    "                    j.append(e)\n",
    "        i = j\n",
    "\n",
    "    return(''.join(i[0]))\n",
    "\n",
    "binaryToDecimal(oxygen_generator_rating(i)) * binaryToDecimal(co2_scrubber_rating(i))"
   ]
  },
  {
   "cell_type": "code",
   "execution_count": 15,
   "id": "ff7aa0ff",
   "metadata": {},
   "outputs": [
    {
     "data": {
      "text/plain": [
       "2372923"
      ]
     },
     "execution_count": 15,
     "metadata": {},
     "output_type": "execute_result"
    }
   ],
   "source": [
    "i = Input('03').read()\n",
    "\n",
    "binaryToDecimal(oxygen_generator_rating(i)) * binaryToDecimal(co2_scrubber_rating(i))"
   ]
  },
  {
   "cell_type": "markdown",
   "id": "8056e98b",
   "metadata": {},
   "source": [
    "## [Day 4](https://adventofcode.com/2021/day/4)"
   ]
  },
  {
   "cell_type": "code",
   "execution_count": 16,
   "id": "0e0ca506",
   "metadata": {
    "scrolled": true
   },
   "outputs": [
    {
     "data": {
      "text/plain": [
       "4512"
      ]
     },
     "execution_count": 16,
     "metadata": {},
     "output_type": "execute_result"
    }
   ],
   "source": [
    "i = '7,4,9,5,11,17,23,2,0,14,21,24,10,16,13,6,15,25,12,22,18,20,8,19,3,26,1\\n\\n22 13 17 11  0\\n 8  2 23  4 24\\n21  9 14 16  7\\n 6 10  3 18  5\\n 1 12 20 15 19\\n\\n 3 15  0  2 22\\n 9 18 13 17  5\\n19  8  7 25 23\\n20 11 10 24  4\\n14 21 16 12  6\\n\\n14 21 17 24  4\\n10 16 15  9 19\\n18  8 23 26 20\\n22 11 13  6  5\\n 2  0 12  3  7\\n\\n'\n",
    "\n",
    "def _parser(i):\n",
    "    i = i.strip().split('\\n\\n')\n",
    "    numbers = [int(e) for e in i[0].split(',')]\n",
    "    tickets = []\n",
    "    for e in i[1:]:\n",
    "        tickets.append([])\n",
    "        tickets[-1] = [int(e) for e in re.findall(r'\\d+',e)]\n",
    "    return numbers, tickets\n",
    "\n",
    "def _scorecard(i, j):\n",
    "    return [j.index(e) for e in i]\n",
    "\n",
    "def _slicecard(i):\n",
    "    slices = []\n",
    "    for j in range(5):\n",
    "        slices.append(i[j*5:j*5+5])\n",
    "    slices += list(zip(*slices))\n",
    "    return slices\n",
    "\n",
    "def _score(i, j, k):\n",
    "    for number in k[:j+1]:\n",
    "        try:\n",
    "            i.remove(number)\n",
    "        except:\n",
    "            pass\n",
    "    return k[j] * sum(i)\n",
    "        \n",
    "\n",
    "def bestbingo(i):\n",
    "    numbers, tickets = _parser(i)\n",
    "    best = 0\n",
    "    for nr, ticket in enumerate(tickets):\n",
    "        scorecard = _scorecard(ticket, numbers)\n",
    "        scorecard = _slicecard(scorecard)\n",
    "        score = min([max(e) for e in scorecard])\n",
    "        if score < best or best == 0:\n",
    "            best_ticket = ticket\n",
    "            best = score\n",
    "    return _score(best_ticket, best, numbers)\n",
    "\n",
    "bestbingo(i)"
   ]
  },
  {
   "cell_type": "code",
   "execution_count": 17,
   "id": "0a3a2a22",
   "metadata": {},
   "outputs": [
    {
     "data": {
      "text/plain": [
       "5685"
      ]
     },
     "execution_count": 17,
     "metadata": {},
     "output_type": "execute_result"
    }
   ],
   "source": [
    "i = Input('04').read()\n",
    "\n",
    "bestbingo(i)"
   ]
  },
  {
   "cell_type": "code",
   "execution_count": 18,
   "id": "2d456074",
   "metadata": {},
   "outputs": [
    {
     "data": {
      "text/plain": [
       "1924"
      ]
     },
     "execution_count": 18,
     "metadata": {},
     "output_type": "execute_result"
    }
   ],
   "source": [
    "def worstbingo(i):\n",
    "    numbers, tickets = _parser(i)\n",
    "    worst = 0\n",
    "    for nr, ticket in enumerate(tickets):\n",
    "        scorecard = _scorecard(ticket, numbers)\n",
    "        scorecard = _slicecard(scorecard)\n",
    "        score = min([max(e) for e in scorecard])\n",
    "        if score > worst:\n",
    "            worst_ticket = ticket\n",
    "            worst = score\n",
    "    return _score(worst_ticket, worst, numbers)\n",
    "\n",
    "i = '7,4,9,5,11,17,23,2,0,14,21,24,10,16,13,6,15,25,12,22,18,20,8,19,3,26,1\\n\\n22 13 17 11  0\\n 8  2 23  4 24\\n21  9 14 16  7\\n 6 10  3 18  5\\n 1 12 20 15 19\\n\\n 3 15  0  2 22\\n 9 18 13 17  5\\n19  8  7 25 23\\n20 11 10 24  4\\n14 21 16 12  6\\n\\n14 21 17 24  4\\n10 16 15  9 19\\n18  8 23 26 20\\n22 11 13  6  5\\n 2  0 12  3  7\\n\\n'\n",
    "\n",
    "worstbingo(i)"
   ]
  },
  {
   "cell_type": "code",
   "execution_count": 19,
   "id": "5ccbf021",
   "metadata": {},
   "outputs": [
    {
     "data": {
      "text/plain": [
       "21070"
      ]
     },
     "execution_count": 19,
     "metadata": {},
     "output_type": "execute_result"
    }
   ],
   "source": [
    "i = Input('04').read()\n",
    "\n",
    "worstbingo(i)"
   ]
  },
  {
   "cell_type": "markdown",
   "id": "981e772c",
   "metadata": {},
   "source": [
    "## [Day 5](https://adventofcode.com/2021/day/5)"
   ]
  },
  {
   "cell_type": "code",
   "execution_count": 20,
   "id": "a24f8bea",
   "metadata": {},
   "outputs": [
    {
     "data": {
      "text/plain": [
       "5"
      ]
     },
     "execution_count": 20,
     "metadata": {},
     "output_type": "execute_result"
    }
   ],
   "source": [
    "i = \"0,9 -> 5,9\\n8,0 -> 0,8\\n9,4 -> 3,4\\n2,2 -> 2,1\\n7,0 -> 7,4\\n6,4 -> 2,0\\n0,9 -> 2,9\\n3,4 -> 1,4\\n0,0 -> 8,8\\n5,5 -> 8,2\"\n",
    "\n",
    "points = [int(e) for e in re.findall('[0-9]+', i)]\n",
    "\n",
    "grid = {}\n",
    "    \n",
    "for j in range(0, len(points), 4):\n",
    "    x1, y1, x2, y2 = points[j:j + 4]\n",
    "    if x1 != x2 and y1 !=y2:\n",
    "        pass\n",
    "    elif x1 == x2:\n",
    "        x = x1\n",
    "        for y in range(min(y1, y2), max(y1, y2) + 1):\n",
    "            xy = str(x) + ',' + str(y)\n",
    "            if xy not in grid:\n",
    "                grid[xy] = 1\n",
    "            else:\n",
    "                grid[xy] += 1\n",
    "    else:\n",
    "        y = y1\n",
    "        for x in range(min(x1, x2), max(x1, x2) + 1):\n",
    "            xy = str(x) + ',' + str(y)\n",
    "            if xy not in grid:\n",
    "                grid[xy] = 1\n",
    "            else:\n",
    "                grid[xy] += 1\n",
    "sum([1 if e > 1 else 0 for e in grid.values()])"
   ]
  },
  {
   "cell_type": "code",
   "execution_count": 21,
   "id": "e89fffb5",
   "metadata": {},
   "outputs": [
    {
     "data": {
      "text/plain": [
       "7380"
      ]
     },
     "execution_count": 21,
     "metadata": {},
     "output_type": "execute_result"
    }
   ],
   "source": [
    "i = Input('05').read()\n",
    "\n",
    "points = [int(e) for e in re.findall('[0-9]+', i)]\n",
    "\n",
    "grid = {}\n",
    "    \n",
    "for j in range(0, len(points), 4):\n",
    "    x1, y1, x2, y2 = points[j:j + 4]\n",
    "    if x1 != x2 and y1 !=y2:\n",
    "        pass\n",
    "    elif x1 == x2:\n",
    "        x = x1\n",
    "        for y in range(min(y1, y2), max(y1, y2) + 1):\n",
    "            xy = str(x) + ',' + str(y)\n",
    "            if xy not in grid:\n",
    "                grid[xy] = 1\n",
    "            else:\n",
    "                grid[xy] += 1\n",
    "    else:\n",
    "        y = y1\n",
    "        for x in range(min(x1, x2), max(x1, x2) + 1):\n",
    "            xy = str(x) + ',' + str(y)\n",
    "            if xy not in grid:\n",
    "                grid[xy] = 1\n",
    "            else:\n",
    "                grid[xy] += 1\n",
    "sum([1 if e > 1 else 0 for e in grid.values()])"
   ]
  },
  {
   "cell_type": "code",
   "execution_count": 22,
   "id": "668ab299",
   "metadata": {},
   "outputs": [
    {
     "data": {
      "text/plain": [
       "12"
      ]
     },
     "execution_count": 22,
     "metadata": {},
     "output_type": "execute_result"
    }
   ],
   "source": [
    "i = \"0,9 -> 5,9\\n8,0 -> 0,8\\n9,4 -> 3,4\\n2,2 -> 2,1\\n7,0 -> 7,4\\n6,4 -> 2,0\\n0,9 -> 2,9\\n3,4 -> 1,4\\n0,0 -> 8,8\\n5,5 -> 8,2\"\n",
    "\n",
    "i = [int(e) for e in re.findall('[0-9]+', i)]\n",
    "\n",
    "grid = {}\n",
    "    \n",
    "for j in range(0, len(i), 4):\n",
    "    x1, y1, x2, y2 = i[j:j + 4]\n",
    "    if abs(x1-x2) == abs(y1-y2):\n",
    "        if x1 > x2:\n",
    "            x1, x2, y1, y2 = x2, x1, y2, y1\n",
    "        x = [e for e in range(x1, x2 + 1)]\n",
    "        if y1 > y2:\n",
    "            y = [e for e in range(y1, y2, -1)] + [y2]    \n",
    "        else:\n",
    "            y = [e for e in range(y1, y2 + 1)]\n",
    "        points = list(zip(x, y))\n",
    "        for point in points:\n",
    "            xy = str(point[0]) + ',' + str(point[1])\n",
    "            if xy not in grid:\n",
    "                grid[xy] = 1\n",
    "            else:\n",
    "                grid[xy] += 1  \n",
    "    elif x1 == x2:\n",
    "        x = x1\n",
    "        for y in range(min(y1, y2), max(y1, y2) + 1):\n",
    "            xy = str(x) + ',' + str(y)\n",
    "            if xy not in grid:\n",
    "                grid[xy] = 1\n",
    "            else:\n",
    "                grid[xy] += 1\n",
    "    elif y1 == y2:\n",
    "        y = y1\n",
    "        for x in range(min(x1, x2), max(x1, x2) + 1):\n",
    "            xy = str(x) + ',' + str(y)\n",
    "            if xy not in grid:\n",
    "                grid[xy] = 1\n",
    "            else:\n",
    "                grid[xy] += 1\n",
    "\n",
    "sum([1 if e > 1 else 0 for e in grid.values()])"
   ]
  },
  {
   "cell_type": "code",
   "execution_count": 23,
   "id": "47a9e87c",
   "metadata": {},
   "outputs": [
    {
     "data": {
      "text/plain": [
       "21373"
      ]
     },
     "execution_count": 23,
     "metadata": {},
     "output_type": "execute_result"
    }
   ],
   "source": [
    "i = \"0,9 -> 5,9\\n8,0 -> 0,8\\n9,4 -> 3,4\\n2,2 -> 2,1\\n7,0 -> 7,4\\n6,4 -> 2,0\\n0,9 -> 2,9\\n3,4 -> 1,4\\n0,0 -> 8,8\\n5,5 -> 8,2\"\n",
    "\n",
    "i = Input('05').read()\n",
    "\n",
    "i = [int(e) for e in re.findall('[0-9]+', i)]\n",
    "\n",
    "grid = {}\n",
    "    \n",
    "for j in range(0, len(i), 4):\n",
    "    x1, y1, x2, y2 = i[j:j + 4]\n",
    "    if abs(x1-x2) == abs(y1-y2):\n",
    "        if x1 > x2:\n",
    "            x1, x2, y1, y2 = x2, x1, y2, y1\n",
    "        x = [e for e in range(x1, x2 + 1)]\n",
    "        if y1 > y2:\n",
    "            y = [e for e in range(y1, y2, -1)] + [y2]    \n",
    "        else:\n",
    "            y = [e for e in range(y1, y2 + 1)]\n",
    "        points = list(zip(x, y))\n",
    "        for point in points:\n",
    "            xy = str(point[0]) + ',' + str(point[1])\n",
    "            if xy not in grid:\n",
    "                grid[xy] = 1\n",
    "            else:\n",
    "                grid[xy] += 1  \n",
    "    elif x1 == x2:\n",
    "        x = x1\n",
    "        for y in range(min(y1, y2), max(y1, y2) + 1):\n",
    "            xy = str(x) + ',' + str(y)\n",
    "            if xy not in grid:\n",
    "                grid[xy] = 1\n",
    "            else:\n",
    "                grid[xy] += 1\n",
    "    elif y1 == y2:\n",
    "        y = y1\n",
    "        for x in range(min(x1, x2), max(x1, x2) + 1):\n",
    "            xy = str(x) + ',' + str(y)\n",
    "            if xy not in grid:\n",
    "                grid[xy] = 1\n",
    "            else:\n",
    "                grid[xy] += 1\n",
    "\n",
    "sum([1 if e > 1 else 0 for e in grid.values()])"
   ]
  },
  {
   "cell_type": "markdown",
   "id": "d5aae837",
   "metadata": {},
   "source": [
    "## [Day 6](https://adventofcode.com/2021/day/6)"
   ]
  },
  {
   "cell_type": "code",
   "execution_count": 24,
   "id": "45e93366",
   "metadata": {},
   "outputs": [
    {
     "data": {
      "text/plain": [
       "5934"
      ]
     },
     "execution_count": 24,
     "metadata": {},
     "output_type": "execute_result"
    }
   ],
   "source": [
    "i = [3,4,3,1,2]\n",
    "\n",
    "for j in range(80):\n",
    "    ct = i.count(0)\n",
    "    i = [e - 1 if e > 0 else 6 for e in i]\n",
    "    if ct:\n",
    "        for k in range(ct):\n",
    "            i.append(8)\n",
    "len(i)"
   ]
  },
  {
   "cell_type": "code",
   "execution_count": 25,
   "id": "e98cb680",
   "metadata": {},
   "outputs": [
    {
     "data": {
      "text/plain": [
       "390011"
      ]
     },
     "execution_count": 25,
     "metadata": {},
     "output_type": "execute_result"
    }
   ],
   "source": [
    "i = Input('06').read().split(',')\n",
    "i = [int(e) for e in i]\n",
    "\n",
    "for j in range(80):\n",
    "    ct = i.count(0)\n",
    "    i = [e - 1 if e > 0 else 6 for e in i]\n",
    "    if ct:\n",
    "        for k in range(ct):\n",
    "            i.append(8)\n",
    "len(i)"
   ]
  },
  {
   "cell_type": "code",
   "execution_count": 26,
   "id": "ea53f040",
   "metadata": {},
   "outputs": [
    {
     "name": "stdout",
     "output_type": "stream",
     "text": [
      "26984457539\n"
     ]
    }
   ],
   "source": [
    "i = [3,4,3,1,2]\n",
    "\n",
    "counter = [0, 0, 0, 0, 0, 0, 0, 0, 0]\n",
    "\n",
    "for e in i:\n",
    "    counter[e] += 1\n",
    "    \n",
    "for j in range(256):\n",
    "    k = counter[0]\n",
    "    counter[0] = counter[1]\n",
    "    counter[1] = counter[2]\n",
    "    counter[2] = counter[3]\n",
    "    counter[3] = counter[4]\n",
    "    counter[4] = counter[5]\n",
    "    counter[5] = counter[6]\n",
    "    counter[6] = counter[7] + k\n",
    "    counter[7] = counter[8]\n",
    "    counter[8] = k\n",
    "    \n",
    "print(sum(counter))"
   ]
  },
  {
   "cell_type": "code",
   "execution_count": 27,
   "id": "e00fc81e",
   "metadata": {},
   "outputs": [
    {
     "name": "stdout",
     "output_type": "stream",
     "text": [
      "1746710169834\n"
     ]
    }
   ],
   "source": [
    "i = Input('06').read().split(',')\n",
    "i = [int(e) for e in i]\n",
    "counter = [0, 0, 0, 0, 0, 0, 0, 0, 0]\n",
    "\n",
    "for e in i:\n",
    "    counter[e] += 1\n",
    "    \n",
    "for j in range(256):\n",
    "    k = counter[0]\n",
    "    counter[0] = counter[1]\n",
    "    counter[1] = counter[2]\n",
    "    counter[2] = counter[3]\n",
    "    counter[3] = counter[4]\n",
    "    counter[4] = counter[5]\n",
    "    counter[5] = counter[6]\n",
    "    counter[6] = counter[7] + k\n",
    "    counter[7] = counter[8]\n",
    "    counter[8] = k\n",
    "    \n",
    "print(sum(counter))"
   ]
  },
  {
   "cell_type": "markdown",
   "id": "82fe2aec",
   "metadata": {},
   "source": [
    "## [Day 7](https://adventofcode.com/2021/day/7)"
   ]
  },
  {
   "cell_type": "code",
   "execution_count": 28,
   "id": "b3f912f9",
   "metadata": {},
   "outputs": [
    {
     "data": {
      "text/plain": [
       "[111, 41, 37, 49, 41, 37, 53, 41, 37, 95]"
      ]
     },
     "execution_count": 28,
     "metadata": {},
     "output_type": "execute_result"
    }
   ],
   "source": [
    "i = \"16,1,2,0,4,2,7,1,2,14\"\n",
    "\n",
    "i = [int(e) for e in i.split(',')]\n",
    "\n",
    "[sum([abs(e-f) for f in i]) for e in i]"
   ]
  },
  {
   "cell_type": "code",
   "execution_count": 29,
   "id": "11bd0a50",
   "metadata": {},
   "outputs": [
    {
     "data": {
      "text/plain": [
       "342534"
      ]
     },
     "execution_count": 29,
     "metadata": {},
     "output_type": "execute_result"
    }
   ],
   "source": [
    "i = Input('07').read()\n",
    "\n",
    "i = [int(e) for e in i.split(',')]\n",
    "\n",
    "min([sum([abs(e-f) for f in i]) for e in i])"
   ]
  },
  {
   "cell_type": "code",
   "execution_count": 30,
   "id": "3e68799a",
   "metadata": {
    "scrolled": false
   },
   "outputs": [
    {
     "data": {
      "text/plain": [
       "168"
      ]
     },
     "execution_count": 30,
     "metadata": {},
     "output_type": "execute_result"
    }
   ],
   "source": [
    "i = \"16,1,2,0,4,2,7,1,2,14\"\n",
    "\n",
    "i = [int(e) for e in i.split(',')]\n",
    "\n",
    "def fuel(i):\n",
    "    return sum(range(0, i+1))\n",
    "\n",
    "min([sum([fuel(abs(x-y)) for y in i]) for x in range(min(i), max(i) + 1)])"
   ]
  },
  {
   "cell_type": "code",
   "execution_count": 31,
   "id": "ce82f251",
   "metadata": {},
   "outputs": [
    {
     "data": {
      "text/plain": [
       "94004208"
      ]
     },
     "execution_count": 31,
     "metadata": {},
     "output_type": "execute_result"
    }
   ],
   "source": [
    "i = Input(\"07\").read()\n",
    "i = [int(e) for e in i.split(',')]\n",
    "\n",
    "def fuel(i):\n",
    "    return sum(range(0, i+1))\n",
    "\n",
    "min([sum([fuel(abs(x-y)) for y in i]) for x in range(min(i), max(i) + 1)])"
   ]
  },
  {
   "cell_type": "markdown",
   "id": "08f12aa8",
   "metadata": {},
   "source": [
    "## [Day 8](https://adventofcode.com/2021/day/8)"
   ]
  },
  {
   "cell_type": "code",
   "execution_count": 32,
   "id": "5191b040",
   "metadata": {
    "scrolled": true
   },
   "outputs": [
    {
     "data": {
      "text/plain": [
       "412"
      ]
     },
     "execution_count": 32,
     "metadata": {},
     "output_type": "execute_result"
    }
   ],
   "source": [
    "i = Input('08').read()\n",
    "\n",
    "i = i.strip().split('\\n')\n",
    "i = [re.findall(r'(\\w+)', e) for e in i]\n",
    "\n",
    "count = 0\n",
    "for e in i:\n",
    "    for f in e[-4:]:\n",
    "        if len(f) == 2 or len(f) == 3 or len(f) == 4 or len(f) == 7:\n",
    "            count += 1\n",
    "count    "
   ]
  },
  {
   "cell_type": "code",
   "execution_count": 33,
   "id": "c82c73fb",
   "metadata": {},
   "outputs": [
    {
     "data": {
      "text/plain": [
       "61229"
      ]
     },
     "execution_count": 33,
     "metadata": {},
     "output_type": "execute_result"
    }
   ],
   "source": [
    "i = \"be cfbegad cbdgef fgaecd cgeb fdcge agebfd fecdb fabcd edb | fdgacbe cefdb cefbgd gcbe\\nedbfga begcd cbg gc gcadebf fbgde acbgfd abcde gfcbed gfec | fcgedb cgb dgebacf gc\\nfgaebd cg bdaec gdafb agbcfd gdcbef bgcad gfac gcb cdgabef | cg cg fdcagb cbg\\nfbegcd cbd adcefb dageb afcb bc aefdc ecdab fgdeca fcdbega | efabcd cedba gadfec cb\\naecbfdg fbg gf bafeg dbefa fcge gcbea fcaegb dgceab fcbdga | gecf egdcabf bgf bfgea\\nfgeab ca afcebg bdacfeg cfaedg gcfdb baec bfadeg bafgc acf | gebdcfa ecba ca fadegcb\\ndbcfg fgd bdegcaf fgec aegbdf ecdfab fbedc dacgb gdcebf gf | cefg dcbef fcge gbcadfe\\nbdfegc cbegaf gecbf dfcage bdacg ed bedf ced adcbefg gebcd | ed bcgafe cdgba cbgef\\negadfb cdbfeg cegd fecab cgb gbdefca cg fgcdab egfdb bfceg | gbdfcae bgc cg cgb\\ngcafb gcf dcaebfg ecagb gf abcdeg gaef cafbge fdbac fegbdc | fgae cfgab fg bagce\"\n",
    "\n",
    "i = i.split('\\n')\n",
    "#i = \"be cfbegad cbdgef fgaecd cgeb fdcge agebfd fecdb fabcd edb | fdgacbe cefdb cefbgd gcbe\\nedbfga begcd cbg gc gcadebf fbgde acbgfd abcde gfcbed gfec | fcgedb cgb dgebacf gc\\nfgaebd cg bdaec gdafb agbcfd gdcbef bgcad gfac gcb cdgabef | cg cg fdcagb cbg\\nfbegcd cbd adcefb dageb afcb bc aefdc ecdab fgdeca fcdbega | efabcd cedba gadfec cb\\naecbfdg fbg gf bafeg dbefa fcge gcbea fcaegb dgceab fcbdga | gecf egdcabf bgf bfgea\\nfgeab ca afcebg bdacfeg cfaedg gcfdb baec bfadeg bafgc acf | gebdcfa ecba ca fadegcb\\ndbcfg fgd bdegcaf fgec aegbdf ecdfab fbedc dacgb gdcebf gf | cefg dcbef fcge gbcadfe\\nbdfegc cbegaf gecbf dfcage bdacg ed bedf ced adcbefg gebcd | ed bcgafe cdgba cbgef\\negadfb cdbfeg cegd fecab cgb gbdefca cg fgcdab egfdb bfceg | gbdfcae bgc cg cgb\\ngcafb gcf dcaebfg ecagb gf abcdeg gaef cafbge fdbac fegbdc | fgae cfgab fg bagce\"\n",
    "#i = i.split('\\n')\n",
    "\n",
    "i = [re.findall(r'(\\w+)', e.strip()) for e in i]\n",
    "\n",
    "scores = []\n",
    "\n",
    "for k in i:\n",
    "    j = k[:10]\n",
    "    j = [''.join(sorted(e)) for e in j]\n",
    "    j.sort(key=len)\n",
    "\n",
    "    numbers = {}\n",
    "    while j:\n",
    "        for e in j:\n",
    "        \n",
    "            if len(e) == 2:\n",
    "                numbers[1] = j.pop(j.index(e))\n",
    "            elif len(e) == 3:\n",
    "                numbers[7] = j.pop(j.index(e))\n",
    "            elif len(e) == 4:\n",
    "                numbers[4] = j.pop(j.index(e))\n",
    "            elif len(e) == 7:\n",
    "                numbers[8] = j.pop(j.index(e))\n",
    "            elif len(e) == 5:\n",
    "                if (1 in numbers and 4 in numbers):\n",
    "                    if not set(numbers.get(1, 'hjkl')) - set(e):\n",
    "                        numbers[3] = j.pop(j.index(e))\n",
    "                    elif len(set(numbers.get(4, 'hjkl')) - set(e)) == 1:\n",
    "                        numbers[5] = j.pop(j.index(e))\n",
    "                    else:\n",
    "                        numbers[2] = j.pop(j.index(e))\n",
    "            elif len(e) == 6:\n",
    "                if 1 in numbers and 3 in numbers: \n",
    "                    if len(set(numbers.get(1, 'hjkl')) - set(e)) == 1:\n",
    "                        numbers[6] = j.pop(j.index(e))\n",
    "                    elif len(set(numbers.get(3, 'hjkl')) - set(e)) == 1:\n",
    "                        numbers[0] = j.pop(j.index(e))\n",
    "                    else:\n",
    "                        numbers[9] = j.pop(j.index(e))\n",
    "    \n",
    "    string = ''       \n",
    "    for e in k[10:]:\n",
    "        e = ''.join(sorted(e))\n",
    "        for key, value in numbers.items():\n",
    "            if value == e:\n",
    "                string += str(key)\n",
    "    scores.append(int(string))\n",
    "    \n",
    "sum(scores)"
   ]
  },
  {
   "cell_type": "code",
   "execution_count": 34,
   "id": "214077a3",
   "metadata": {
    "scrolled": true
   },
   "outputs": [
    {
     "data": {
      "text/plain": [
       "978171"
      ]
     },
     "execution_count": 34,
     "metadata": {},
     "output_type": "execute_result"
    }
   ],
   "source": [
    "i = Input('08').readlines()\n",
    "#i = \"be cfbegad cbdgef fgaecd cgeb fdcge agebfd fecdb fabcd edb | fdgacbe cefdb cefbgd gcbe\\nedbfga begcd cbg gc gcadebf fbgde acbgfd abcde gfcbed gfec | fcgedb cgb dgebacf gc\\nfgaebd cg bdaec gdafb agbcfd gdcbef bgcad gfac gcb cdgabef | cg cg fdcagb cbg\\nfbegcd cbd adcefb dageb afcb bc aefdc ecdab fgdeca fcdbega | efabcd cedba gadfec cb\\naecbfdg fbg gf bafeg dbefa fcge gcbea fcaegb dgceab fcbdga | gecf egdcabf bgf bfgea\\nfgeab ca afcebg bdacfeg cfaedg gcfdb baec bfadeg bafgc acf | gebdcfa ecba ca fadegcb\\ndbcfg fgd bdegcaf fgec aegbdf ecdfab fbedc dacgb gdcebf gf | cefg dcbef fcge gbcadfe\\nbdfegc cbegaf gecbf dfcage bdacg ed bedf ced adcbefg gebcd | ed bcgafe cdgba cbgef\\negadfb cdbfeg cegd fecab cgb gbdefca cg fgcdab egfdb bfceg | gbdfcae bgc cg cgb\\ngcafb gcf dcaebfg ecagb gf abcdeg gaef cafbge fdbac fegbdc | fgae cfgab fg bagce\"\n",
    "#i = i.split('\\n')\n",
    "\n",
    "i = [re.findall(r'(\\w+)', e.strip()) for e in i]\n",
    "\n",
    "scores = []\n",
    "\n",
    "for k in i:\n",
    "    j = k[:10]\n",
    "    j = [''.join(sorted(e)) for e in j]\n",
    "    j.sort(key=len)\n",
    "\n",
    "    numbers = {}\n",
    "    while j:\n",
    "        for e in j:\n",
    "        \n",
    "            if len(e) == 2:\n",
    "                numbers[1] = j.pop(j.index(e))\n",
    "            elif len(e) == 3:\n",
    "                numbers[7] = j.pop(j.index(e))\n",
    "            elif len(e) == 4:\n",
    "                numbers[4] = j.pop(j.index(e))\n",
    "            elif len(e) == 7:\n",
    "                numbers[8] = j.pop(j.index(e))\n",
    "            elif len(e) == 5:\n",
    "                if (1 in numbers and 4 in numbers):\n",
    "                    if not set(numbers.get(1, 'hjkl')) - set(e):\n",
    "                        numbers[3] = j.pop(j.index(e))\n",
    "                    elif len(set(numbers.get(4, 'hjkl')) - set(e)) == 1:\n",
    "                        numbers[5] = j.pop(j.index(e))\n",
    "                    else:\n",
    "                        numbers[2] = j.pop(j.index(e))\n",
    "            elif len(e) == 6:\n",
    "                if 1 in numbers and 3 in numbers: \n",
    "                    if len(set(numbers.get(1, 'hjkl')) - set(e)) == 1:\n",
    "                        numbers[6] = j.pop(j.index(e))\n",
    "                    elif len(set(numbers.get(3, 'hjkl')) - set(e)) == 1:\n",
    "                        numbers[0] = j.pop(j.index(e))\n",
    "                    else:\n",
    "                        numbers[9] = j.pop(j.index(e))\n",
    "    \n",
    "    string = ''       \n",
    "    for e in k[10:]:\n",
    "        e = ''.join(sorted(e))\n",
    "        for key, value in numbers.items():\n",
    "            if value == e:\n",
    "                string += str(key)\n",
    "    scores.append(int(string))\n",
    "    \n",
    "sum(scores)"
   ]
  },
  {
   "cell_type": "markdown",
   "id": "2d47cde3",
   "metadata": {},
   "source": [
    "## [Day 9](https://adventofcode.com/2021/day/9)"
   ]
  },
  {
   "cell_type": "code",
   "execution_count": 35,
   "id": "8eb52eec",
   "metadata": {},
   "outputs": [
    {
     "data": {
      "text/plain": [
       "(4, 11)"
      ]
     },
     "execution_count": 35,
     "metadata": {},
     "output_type": "execute_result"
    }
   ],
   "source": [
    "i = \"2199943210\\n3987894921\\n9856789892\\n8767896789\\n9899965678\"\n",
    "\n",
    "i = i.split('\\n')\n",
    "\n",
    "def neighbors(x, y):\n",
    "    return str(x+1)+','+ str(y), str(x-1) + ',' + str(y), str(x) + ',' +str(y+1), str(x) + ',' + str(y-1)\n",
    "\n",
    "def multiply(lst):\n",
    "    return np.product(lst)\n",
    "\n",
    "grid = {}\n",
    "count = 0\n",
    "risk = 0\n",
    "\n",
    "for y, e in enumerate(i):\n",
    "    for x, f in enumerate(e):\n",
    "        grid[str(x) + ',' + str(y)] = i[y][x]\n",
    "        \n",
    "for x in range(len(i[0])):\n",
    "    for y in range(len(i)):\n",
    "        nbr = neighbors(x, y)\n",
    "        scores = [int(grid.get(str(x) + ',' + str(y)))]\n",
    "        for n in nbr:\n",
    "            scores.append(int(grid.get(n, 9)))\n",
    "        scores = [1 if scores[0] < e else 0 for e in scores[1:]]\n",
    "        count += multiply(scores)\n",
    "        risk += int(grid[str(x) + ',' + str(y)]) * multiply(scores)\n",
    "count, risk"
   ]
  },
  {
   "cell_type": "code",
   "execution_count": 36,
   "id": "b8cfd765",
   "metadata": {},
   "outputs": [
    {
     "data": {
      "text/plain": [
       "(217, 269, 486)"
      ]
     },
     "execution_count": 36,
     "metadata": {},
     "output_type": "execute_result"
    }
   ],
   "source": [
    "i = Input('09').read()\n",
    "#i = \"2199943210\\n3987894921\\n9856789892\\n8767896789\\n9899965678\"\n",
    "i = i.strip().split('\\n')\n",
    "\n",
    "def neighbors(x, y):\n",
    "    x = int(x)\n",
    "    y = int(y)\n",
    "    return str(x+1)+','+ str(y), str(x-1) + ',' + str(y), str(x) + ',' +str(y+1), str(x) + ',' + str(y-1)\n",
    "\n",
    "def multiply(lst):\n",
    "    return np.product(lst)\n",
    "\n",
    "grid = {}\n",
    "low_points={}\n",
    "count = 0\n",
    "risk = 0\n",
    "\n",
    "for y, e in enumerate(i):\n",
    "    for x, f in enumerate(e):\n",
    "        grid[str(x) + ',' + str(y)] = i[y][x]\n",
    "        \n",
    "for x in range(len(i[0])):\n",
    "    for y in range(len(i)):\n",
    "        nbr = neighbors(x, y)\n",
    "        scores = [int(grid.get(str(x) + ',' + str(y)))]\n",
    "        for n in nbr:\n",
    "            scores.append(int(grid.get(n, 9)))\n",
    "        scores = [1 if scores[0] < e else 0 for e in scores[1:]]\n",
    "        if multiply(scores) != 0:\n",
    "            low_points[str(x) + ',' + str(y)] = {}\n",
    "        count += multiply(scores)\n",
    "        risk += int(grid[str(x) + ',' + str(y)]) * multiply(scores)\n",
    "count, risk, count + risk"
   ]
  },
  {
   "cell_type": "code",
   "execution_count": 37,
   "id": "85be3d2f",
   "metadata": {},
   "outputs": [],
   "source": [
    "# - voor elk laagste punt\n",
    "# - voor elke hoogte\n",
    "# - oppervlakte en eventuele overlap met andere bassins"
   ]
  },
  {
   "cell_type": "code",
   "execution_count": 38,
   "id": "d5f4c8c2",
   "metadata": {},
   "outputs": [
    {
     "ename": "NameError",
     "evalue": "name 'data' is not defined",
     "output_type": "error",
     "traceback": [
      "\u001b[0;31m---------------------------------------------------------------------------\u001b[0m",
      "\u001b[0;31mNameError\u001b[0m                                 Traceback (most recent call last)",
      "\u001b[0;32m/tmp/ipykernel_281/1723480117.py\u001b[0m in \u001b[0;36m<module>\u001b[0;34m\u001b[0m\n\u001b[1;32m      1\u001b[0m \u001b[0mlowpoints\u001b[0m \u001b[0;34m=\u001b[0m \u001b[0;34m[\u001b[0m\u001b[0;34m]\u001b[0m\u001b[0;34m\u001b[0m\u001b[0;34m\u001b[0m\u001b[0m\n\u001b[0;32m----> 2\u001b[0;31m \u001b[0;32mfor\u001b[0m \u001b[0mi\u001b[0m\u001b[0;34m,\u001b[0m \u001b[0mline\u001b[0m \u001b[0;32min\u001b[0m \u001b[0menumerate\u001b[0m\u001b[0;34m(\u001b[0m\u001b[0mdata\u001b[0m\u001b[0;34m)\u001b[0m\u001b[0;34m:\u001b[0m\u001b[0;34m\u001b[0m\u001b[0;34m\u001b[0m\u001b[0m\n\u001b[0m\u001b[1;32m      3\u001b[0m     \u001b[0mlowpoints\u001b[0m\u001b[0;34m.\u001b[0m\u001b[0mappend\u001b[0m\u001b[0;34m(\u001b[0m\u001b[0;34m[\u001b[0m\u001b[0;34m]\u001b[0m\u001b[0;34m)\u001b[0m\u001b[0;34m\u001b[0m\u001b[0;34m\u001b[0m\u001b[0m\n\u001b[1;32m      4\u001b[0m     \u001b[0;32mfor\u001b[0m \u001b[0mj\u001b[0m\u001b[0;34m,\u001b[0m \u001b[0me\u001b[0m \u001b[0;32min\u001b[0m \u001b[0menumerate\u001b[0m\u001b[0;34m(\u001b[0m\u001b[0mline\u001b[0m\u001b[0;34m)\u001b[0m\u001b[0;34m:\u001b[0m\u001b[0;34m\u001b[0m\u001b[0;34m\u001b[0m\u001b[0m\n\u001b[1;32m      5\u001b[0m         \u001b[0;32mif\u001b[0m \u001b[0mstr\u001b[0m\u001b[0;34m(\u001b[0m\u001b[0mj\u001b[0m\u001b[0;34m)\u001b[0m\u001b[0;34m+\u001b[0m\u001b[0;34m\",\"\u001b[0m\u001b[0;34m+\u001b[0m\u001b[0mstr\u001b[0m\u001b[0;34m(\u001b[0m\u001b[0mi\u001b[0m\u001b[0;34m)\u001b[0m \u001b[0;32min\u001b[0m \u001b[0mlow_points\u001b[0m\u001b[0;34m:\u001b[0m\u001b[0;34m\u001b[0m\u001b[0;34m\u001b[0m\u001b[0m\n",
      "\u001b[0;31mNameError\u001b[0m: name 'data' is not defined"
     ]
    }
   ],
   "source": [
    "lowpoints = []\n",
    "for i, line in enumerate(data):\n",
    "    lowpoints.append([])\n",
    "    for j, e in enumerate(line):\n",
    "        if str(j)+\",\"+str(i) in low_points:\n",
    "            lowpoints[i].append(1)\n",
    "        else:\n",
    "            lowpoints[i].append(0)"
   ]
  },
  {
   "cell_type": "code",
   "execution_count": null,
   "id": "fe8c0fed",
   "metadata": {},
   "outputs": [],
   "source": [
    "import matplotlib.pyplot as plt\n",
    "import matplotlib.colors\n",
    "import matplotlib.cm\n",
    "\n",
    "def rgb_white2alpha(rgb, ensure_increasing=False):\n",
    "    \"\"\"\n",
    "    Convert a set of RGB colors to RGBA with maximum transparency.\n",
    "    \n",
    "    The transparency is maximised for each color individually, assuming\n",
    "    that the background is white.\n",
    "    \n",
    "    Parameters\n",
    "    ----------\n",
    "    rgb : array_like shaped (N, 3)\n",
    "        Original colors.\n",
    "    ensure_increasing : bool, default=False\n",
    "        Ensure that alpha values are strictly increasing.\n",
    "    \n",
    "    Returns\n",
    "    -------\n",
    "    rgba : numpy.ndarray shaped (N, 4)\n",
    "        Colors with maximum possible transparency, assuming a white\n",
    "        background.\n",
    "    \"\"\"\n",
    "    # The most transparent alpha we can use is given by the min of RGB\n",
    "    # Convert it from saturation to opacity\n",
    "    alpha = 1. - np.min(rgb, axis=1)\n",
    "    if ensure_increasing:\n",
    "        # Let's also ensure the alpha value is monotonically increasing\n",
    "        a_max = alpha[0]\n",
    "        for i, a in enumerate(alpha):\n",
    "            alpha[i] = a_max = np.maximum(a, a_max)\n",
    "    alpha = np.expand_dims(alpha, -1)\n",
    "    # Rescale colors to discount the white that will show through from transparency\n",
    "    rgb = (rgb + alpha - 1) / alpha\n",
    "    # Concatenate our alpha channel\n",
    "    return np.concatenate((rgb, alpha), axis=1)\n",
    "    \n",
    "\n",
    "def cmap_white2alpha(name, ensure_increasing=False, register=True):\n",
    "    \"\"\"\n",
    "    Convert colormap to have the most transparency possible, assuming white background.\n",
    "    \n",
    "    Parameters\n",
    "    ----------\n",
    "    name : str\n",
    "        Name of builtin (or registered) colormap.\n",
    "    ensure_increasing : bool, default=False\n",
    "        Ensure that alpha values are strictly increasing.\n",
    "    register : bool, default=True\n",
    "        Whether to register the new colormap.\n",
    "\n",
    "    Returns\n",
    "    -------\n",
    "    cmap : matplotlib.colors.ListedColormap\n",
    "        Colormap with alpha set as low as possible.\n",
    "    \"\"\"\n",
    "    # Fetch the cmap callable\n",
    "    cmap = plt.get_cmap(name)\n",
    "    # Get the colors out from the colormap LUT\n",
    "    rgb = cmap(np.arange(cmap.N))[:, :3]  # N-by-3\n",
    "    # Convert white to alpha\n",
    "    rgba = rgb_white2alpha(rgb, ensure_increasing=ensure_increasing)\n",
    "    # Create a new Colormap object\n",
    "    cmap_alpha = matplotlib.colors.ListedColormap(rgba, name=name + \"_alpha\")\n",
    "    if register:\n",
    "        matplotlib.cm.register_cmap(name=name + \"_alpha\", cmap=cmap_alpha)\n",
    "    return cmap_alpha\n",
    "\n",
    "# Get original Reds colormap\n",
    "cmap_og = plt.get_cmap(\"Reds\")\n",
    "\n",
    "# Get our new version of the colormap with white2alpha\n",
    "cmap_w2a = cmap_white2alpha(\"Reds\")\n",
    "\n",
    "# Replicate Bart's method, which adds linear alpha without rescaling RGB values\n",
    "rgba_lin = cmap(np.arange(cmap_og.N))\n",
    "rgba_lin[:,-1] = np.linspace(0, 1, cmap_og.N)\n",
    "cmap_lin_alpha = ListedColormap(rgba_lin)\n",
    "\n",
    "data = parse('09')\n",
    "\n",
    "heightmap = []\n",
    "for line in data:\n",
    "    heightmap.append([int(e) for e in line])\n",
    "\n",
    "fig, ax = plt.subplots(figsize=(10,10))\n",
    "im = ax.imshow(heightmap, cmap='winter')\n",
    "im = ax.imshow(lowpoints, cmap=cmap_w2a)\n",
    "\n",
    "plt.show()"
   ]
  },
  {
   "cell_type": "code",
   "execution_count": 59,
   "id": "e3709d21",
   "metadata": {},
   "outputs": [
    {
     "name": "stdout",
     "output_type": "stream",
     "text": [
      "{'0,1': {}, '0,12': {}, '0,18': {}, '0,35': {}, '1,58': {}, '1,66': {}, '1,92': {}, '2,22': {}, '2,80': {}, '2,99': {}, '3,41': {}, '3,49': {}, '3,75': {}, '4,1': {}, '5,28': {}, '6,18': {}, '7,9': {}, '7,34': {}, '7,78': {}, '8,6': {}, '8,47': {}, '8,57': {}, '8,85': {}, '8,99': {}, '9,24': {}, '9,94': {}, '10,28': {}, '11,14': {}, '11,73': {}, '12,5': {}, '12,64': {}, '13,7': {}, '13,34': {}, '14,0': {}, '14,81': {}, '15,41': {}, '15,49': {}, '15,93': {}, '16,62': {}, '17,12': {}, '17,18': {}, '17,76': {}, '18,27': {}, '18,69': {}, '19,4': {}, '19,56': {}, '21,85': {}, '22,74': {}, '23,34': {}, '23,45': {}, '23,98': {}, '25,2': {}, '25,6': {}, '25,50': {}, '25,63': {}, '26,27': {}, '26,39': {}, '26,56': {}, '26,58': {}, '26,79': {}, '27,11': {}, '27,19': {}, '27,32': {}, '28,36': {}, '28,94': {}, '29,88': {}, '30,54': {}, '30,71': {}, '31,60': {}, '32,10': {}, '32,42': {}, '33,81': {}, '34,15': {}, '34,30': {}, '34,49': {}, '34,95': {}, '35,58': {}, '36,1': {}, '36,10': {}, '37,22': {}, '37,38': {}, '37,63': {}, '37,73': {}, '39,57': {}, '39,84': {}, '39,90': {}, '40,43': {}, '40,67': {}, '40,99': {}, '41,16': {}, '41,49': {}, '41,72': {}, '42,29': {}, '43,38': {}, '44,3': {}, '44,59': {}, '44,77': {}, '45,11': {}, '45,64': {}, '45,93': {}, '46,45': {}, '48,56': {}, '48,83': {}, '48,99': {}, '49,17': {}, '49,34': {}, '49,74': {}, '50,24': {}, '50,90': {}, '52,10': {}, '53,3': {}, '53,50': {}, '53,96': {}, '54,58': {}, '54,69': {}, '54,83': {}, '55,33': {}, '55,44': {}, '56,15': {}, '56,41': {}, '56,51': {}, '56,65': {}, '57,78': {}, '57,89': {}, '57,93': {}, '58,24': {}, '59,4': {}, '59,10': {}, '59,25': {}, '60,0': {}, '60,56': {}, '60,86': {}, '61,6': {}, '61,44': {}, '61,64': {}, '62,99': {}, '63,82': {}, '63,91': {}, '64,22': {}, '64,26': {}, '65,2': {}, '65,15': {}, '66,6': {}, '66,36': {}, '66,55': {}, '66,71': {}, '67,49': {}, '68,0': {}, '68,79': {}, '68,94': {}, '70,45': {}, '70,50': {}, '70,65': {}, '71,10': {}, '71,31': {}, '71,73': {}, '72,24': {}, '72,85': {}, '75,37': {}, '75,54': {}, '75,97': {}, '76,68': {}, '77,14': {}, '77,31': {}, '77,43': {}, '77,59': {}, '77,77': {}, '78,3': {}, '78,83': {}, '79,73': {}, '80,51': {}, '81,19': {}, '82,25': {}, '82,79': {}, '82,90': {}, '83,5': {}, '84,1': {}, '84,12': {}, '84,22': {}, '84,31': {}, '84,40': {}, '84,59': {}, '85,97': {}, '86,68': {}, '86,94': {}, '88,4': {}, '89,13': {}, '89,25': {}, '89,35': {}, '89,47': {}, '89,75': {}, '90,0': {}, '90,83': {}, '91,54': {}, '92,7': {}, '92,42': {}, '92,70': {}, '92,89': {}, '93,30': {}, '93,62': {}, '93,97': {}, '95,47': {}, '95,81': {}, '96,17': {}, '97,3': {}, '97,55': {}, '97,75': {}, '98,94': {}, '98,99': {}, '99,9': {}, '99,24': {}, '99,34': {}, '99,44': {}, '99,50': {}, '99,59': {}, '99,64': {}, '99,80': {}}\n"
     ]
    },
    {
     "data": {
      "text/plain": [
       "1059300"
      ]
     },
     "execution_count": 59,
     "metadata": {},
     "output_type": "execute_result"
    }
   ],
   "source": [
    "i = \"2199943210\\n3987894921\\n9856789892\\n8767896789\\n9899965678\"\n",
    "i = parse('09')\n",
    "#i = i.split('\\n')\n",
    "\n",
    "grid = {}\n",
    "low_points={}\n",
    "count = 0\n",
    "risk = 0\n",
    "\n",
    "for y, e in enumerate(i):\n",
    "    for x, f in enumerate(e):\n",
    "        grid[str(x) + ',' + str(y)] = i[y][x]\n",
    "        \n",
    "for x in range(len(i[0])):\n",
    "    for y in range(len(i)):\n",
    "        nbr = neighbors(x, y)\n",
    "        scores = [int(grid.get(str(x) + ',' + str(y)))]\n",
    "        for n in nbr:\n",
    "            scores.append(int(grid.get(n, 9)))\n",
    "        scores = [1 if scores[0] < e else 0 for e in scores[1:]]\n",
    "        if multiply(scores) != 0:\n",
    "            low_points[str(x) + ',' + str(y)] = {}\n",
    "        count += multiply(scores)\n",
    "        risk += int(grid[str(x) + ',' + str(y)]) * multiply(scores)\n",
    "count, risk, count + risk\n",
    "\n",
    "print(low_points)\n",
    "\n",
    "def height(x, y, grid):\n",
    "    c = str(x) + ',' + str(y)\n",
    "    return grid.get(c, 9)\n",
    "\n",
    "def depoint(pt):\n",
    "    return [int(e) for e in pt.split(',')]\n",
    "areas = []\n",
    "for point in low_points:\n",
    "    hist = [point]\n",
    "    for pt in hist:\n",
    "        #print(hist)\n",
    "        x, y = depoint(pt)\n",
    "        nbrs = [*neighbors(x, y)]\n",
    "        #print(nbrs)\n",
    "        _nbrs = []\n",
    "        while nbrs:\n",
    "            nbr = nbrs.pop(0)\n",
    "            if int(grid.get(nbr, 9)) < 9 and nbr in grid and nbr not in hist:\n",
    "                _nbrs.append(nbr)\n",
    "        hist += _nbrs\n",
    "    #print(len(hist))\n",
    "    areas.append(len(hist))\n",
    "multiply(sorted(areas)[-3:])"
   ]
  },
  {
   "cell_type": "code",
   "execution_count": null,
   "id": "5cb7cc03",
   "metadata": {},
   "outputs": [],
   "source": []
  }
 ],
 "metadata": {
  "kernelspec": {
   "display_name": "Python 3 (ipykernel)",
   "language": "python",
   "name": "python3"
  },
  "language_info": {
   "codemirror_mode": {
    "name": "ipython",
    "version": 3
   },
   "file_extension": ".py",
   "mimetype": "text/x-python",
   "name": "python",
   "nbconvert_exporter": "python",
   "pygments_lexer": "ipython3",
   "version": "3.9.7"
  }
 },
 "nbformat": 4,
 "nbformat_minor": 5
}

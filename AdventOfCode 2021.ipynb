{
 "cells": [
  {
   "cell_type": "code",
   "execution_count": 1,
   "id": "8a852aa5",
   "metadata": {},
   "outputs": [],
   "source": [
    "import re\n",
    "\n",
    "def Input(day, year=2021):\n",
    "    directory = '{}'.format(year)\n",
    "    filename = directory + '/input{}.txt'.format(day)\n",
    "    return open(filename)"
   ]
  },
  {
   "cell_type": "markdown",
   "id": "da1731ef",
   "metadata": {},
   "source": [
    "## [Day 1](https://adventofcode.com/2021/day/1)"
   ]
  },
  {
   "cell_type": "code",
   "execution_count": 2,
   "id": "80e81d86",
   "metadata": {},
   "outputs": [],
   "source": [
    "def times_depth_increased(i):\n",
    "    return [1 if e[0] > e[1] else 0 for e in list(zip(i[1:], i[:-1]))]"
   ]
  },
  {
   "cell_type": "code",
   "execution_count": 3,
   "id": "06ed6235",
   "metadata": {},
   "outputs": [
    {
     "data": {
      "text/plain": [
       "7"
      ]
     },
     "execution_count": 3,
     "metadata": {},
     "output_type": "execute_result"
    }
   ],
   "source": [
    "i = [199, 200, 208, 210, 200, 207, 240, 269, 260, 263]\n",
    "\n",
    "sum(times_depth_increased(i))"
   ]
  },
  {
   "cell_type": "code",
   "execution_count": 4,
   "id": "0d2093ce",
   "metadata": {},
   "outputs": [
    {
     "data": {
      "text/plain": [
       "1184"
      ]
     },
     "execution_count": 4,
     "metadata": {},
     "output_type": "execute_result"
    }
   ],
   "source": [
    "i = [int(e) for e in Input('01').readlines()]\n",
    "\n",
    "sum(times_depth_increased(i))"
   ]
  },
  {
   "cell_type": "code",
   "execution_count": 5,
   "id": "08ccc982",
   "metadata": {},
   "outputs": [],
   "source": [
    "def times_depth_increased(i, avg=3):\n",
    "    l = []\n",
    "    for a in range(avg):\n",
    "        if a == 0:\n",
    "            l.append(i)\n",
    "        else:\n",
    "            l.append(i[a:])\n",
    "    l = [sum(e) for e in zip(*l)]\n",
    "    return [1 if e[1] > e[0] else 0 for e in list(zip(l, l[1:]))]"
   ]
  },
  {
   "cell_type": "code",
   "execution_count": 6,
   "id": "291ce64c",
   "metadata": {},
   "outputs": [
    {
     "data": {
      "text/plain": [
       "5"
      ]
     },
     "execution_count": 6,
     "metadata": {},
     "output_type": "execute_result"
    }
   ],
   "source": [
    "i = [199, 200, 208, 210, 200, 207, 240, 269, 260, 263]\n",
    "\n",
    "sum(times_depth_increased(i))"
   ]
  },
  {
   "cell_type": "code",
   "execution_count": 7,
   "id": "60124137",
   "metadata": {},
   "outputs": [
    {
     "data": {
      "text/plain": [
       "1158"
      ]
     },
     "execution_count": 7,
     "metadata": {},
     "output_type": "execute_result"
    }
   ],
   "source": [
    "i = [int(e) for e in Input('01').readlines()]\n",
    "\n",
    "sum(times_depth_increased(i))"
   ]
  },
  {
   "cell_type": "markdown",
   "id": "38a9dada",
   "metadata": {},
   "source": [
    "## [Day 2](https://adventofcode.com/2021/day/2)"
   ]
  },
  {
   "cell_type": "code",
   "execution_count": 8,
   "id": "47498a02",
   "metadata": {},
   "outputs": [
    {
     "data": {
      "text/plain": [
       "150"
      ]
     },
     "execution_count": 8,
     "metadata": {},
     "output_type": "execute_result"
    }
   ],
   "source": [
    "i = \"forward 5\\ndown 5\\nforward 8\\nup 3\\ndown 8\\nforward 2\"\n",
    "\n",
    "x, y = 0, 0\n",
    "\n",
    "d = re.findall(r'(\\w+) (\\d+)', i)\n",
    "\n",
    "for e in d:\n",
    "    if e[0] == 'forward':\n",
    "        x += int(e[1])\n",
    "    elif e[0] == 'down':\n",
    "        y += int(e[1])\n",
    "    else:\n",
    "        y += -int(e[1])\n",
    "        \n",
    "x * y"
   ]
  },
  {
   "cell_type": "code",
   "execution_count": 9,
   "id": "7ccaf24f",
   "metadata": {},
   "outputs": [
    {
     "data": {
      "text/plain": [
       "1690020"
      ]
     },
     "execution_count": 9,
     "metadata": {},
     "output_type": "execute_result"
    }
   ],
   "source": [
    "i = Input('02').read()\n",
    "\n",
    "x, y = 0, 0\n",
    "\n",
    "d = re.findall(r'(\\w+) (\\d+)', i)\n",
    "\n",
    "for e in d:\n",
    "    if e[0] == 'forward':\n",
    "        x += int(e[1])\n",
    "    elif e[0] == 'down':\n",
    "        y += int(e[1])\n",
    "    else:\n",
    "        y += -int(e[1])\n",
    "        \n",
    "x * y"
   ]
  },
  {
   "cell_type": "code",
   "execution_count": 10,
   "id": "41c27844",
   "metadata": {},
   "outputs": [
    {
     "data": {
      "text/plain": [
       "900"
      ]
     },
     "execution_count": 10,
     "metadata": {},
     "output_type": "execute_result"
    }
   ],
   "source": [
    "i = \"forward 5\\ndown 5\\nforward 8\\nup 3\\ndown 8\\nforward 2\"\n",
    "\n",
    "x, y, aim = 0, 0, 0\n",
    "\n",
    "d = re.findall(r'(\\w+) (\\d+)', i)\n",
    "\n",
    "for e in d:\n",
    "    if e[0] == 'forward':\n",
    "        x += int(e[1])\n",
    "        y += aim * int(e[1])\n",
    "    elif e[0] == 'down':\n",
    "        aim += int(e[1])\n",
    "    else:\n",
    "        aim += -int(e[1])\n",
    "        \n",
    "x * y"
   ]
  },
  {
   "cell_type": "code",
   "execution_count": 11,
   "id": "1fc35dae",
   "metadata": {},
   "outputs": [
    {
     "data": {
      "text/plain": [
       "1408487760"
      ]
     },
     "execution_count": 11,
     "metadata": {},
     "output_type": "execute_result"
    }
   ],
   "source": [
    "i = Input('02').read()\n",
    "\n",
    "x, y, aim = 0, 0, 0\n",
    "\n",
    "d = re.findall(r'(\\w+) (\\d+)', i)\n",
    "\n",
    "for e in d:\n",
    "    if e[0] == 'forward':\n",
    "        x += int(e[1])\n",
    "        y += aim * int(e[1])\n",
    "    elif e[0] == 'down':\n",
    "        aim += int(e[1])\n",
    "    else:\n",
    "        aim += -int(e[1])\n",
    "        \n",
    "x * y"
   ]
  }
 ],
 "metadata": {
  "kernelspec": {
   "display_name": "Python 3 (ipykernel)",
   "language": "python",
   "name": "python3"
  },
  "language_info": {
   "codemirror_mode": {
    "name": "ipython",
    "version": 3
   },
   "file_extension": ".py",
   "mimetype": "text/x-python",
   "name": "python",
   "nbconvert_exporter": "python",
   "pygments_lexer": "ipython3",
   "version": "3.9.7"
  }
 },
 "nbformat": 4,
 "nbformat_minor": 5
}
